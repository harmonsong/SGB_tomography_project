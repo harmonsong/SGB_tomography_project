{
 "cells": [
  {
   "cell_type": "code",
   "execution_count": null,
   "metadata": {},
   "outputs": [],
   "source": [
    "import numpy as np\n",
    "import matplotlib.pyplot as plt\n",
    "import openpyxl\n",
    "from openpyxl import load_workbook\n",
    "from concurrent.futures import ThreadPoolExecutor\n",
    "import pandas as pd\n",
    "import yaml\n",
    "import os\n",
    "from openpyxl import load_workbook"
   ]
  },
  {
   "cell_type": "code",
   "execution_count": null,
   "metadata": {},
   "outputs": [],
   "source": [
    "flag_project = 1 # 0--regular; 1--repartrition"
   ]
  },
  {
   "cell_type": "code",
   "execution_count": null,
   "metadata": {},
   "outputs": [],
   "source": [
    "if flag_project == 0:\n",
    "    with open('a-project.yml', 'r', encoding='utf-8') as f:\n",
    "        proj = yaml.load(f.read(), Loader=yaml.FullLoader)\n",
    "    name_project = proj['name']\n",
    "    #name_project = 'project/output_FJSJ_16-01/'               # Harmon server\n",
    "elif flag_project == 1:\n",
    "    with open('a-project_repar.yml', 'r', encoding='utf-8') as f:\n",
    "        proj = yaml.load(f.read(), Loader=yaml.FullLoader)\n",
    "    name_project = proj['name']\n",
    "    #name_project = 'project_repartrition/repartrition_01-03/'               # Harmon server"
   ]
  },
  {
   "cell_type": "code",
   "execution_count": null,
   "metadata": {},
   "outputs": [],
   "source": [
    "with open('0_config.yml', 'r', encoding='utf-8') as f:\n",
    "    dir_config = yaml.load(f.read(), Loader=yaml.FullLoader)\n",
    "dir_project_workspace = dir_config['dir_project_workspace']\n",
    "dir_CC_workspace = dir_config['dir_CC_workspace']\n",
    "print('dir_CC_workspace: ', dir_CC_workspace)\n",
    "print('dir_project_workspace: ', dir_project_workspace)\n",
    "dir_project = os.path.join(dir_project_workspace, name_project)\n",
    "print('dir_project: ', dir_project)"
   ]
  },
  {
   "cell_type": "code",
   "execution_count": null,
   "metadata": {},
   "outputs": [],
   "source": [
    "filename = dir_project+'Basic_info.yml'\n",
    "with open(filename, 'r', encoding='utf-8') as f:\n",
    "    info_basic = yaml.load(f.read(), Loader=yaml.FullLoader)\n",
    "filename_bi = dir_project+'Basic_info.npy'\n",
    "info_basic_bi = np.load(filename_bi, allow_pickle='TRUE').item()    "
   ]
  },
  {
   "cell_type": "code",
   "execution_count": null,
   "metadata": {},
   "outputs": [],
   "source": [
    "key_subworks = info_basic['key_subworks']\n",
    "key_subworks"
   ]
  },
  {
   "cell_type": "code",
   "execution_count": null,
   "metadata": {},
   "outputs": [],
   "source": [
    "stalistname_all = info_basic['stalistname_all']\n",
    "stainfo = pd.read_excel(stalistname_all)\n",
    "stalist_all = stainfo['Station'].tolist() \n",
    "lat_all =  stainfo['latitude'].tolist() \n",
    "lon_all =  stainfo['longitude'].tolist() \n",
    "faults = np.load('clark_faults.npy', allow_pickle='TRUE').item()"
   ]
  },
  {
   "cell_type": "code",
   "execution_count": null,
   "metadata": {},
   "outputs": [],
   "source": [
    "stalistname = dir_project+ info_basic['stalistname']\n",
    "stainfo_all = pd.read_excel(stalistname,sheet_name=None)"
   ]
  },
  {
   "cell_type": "code",
   "execution_count": null,
   "metadata": {},
   "outputs": [],
   "source": [
    "def calculate_centroid(coordinates):\n",
    "    return np.mean(coordinates, axis=0)"
   ]
  },
  {
   "cell_type": "code",
   "execution_count": null,
   "metadata": {},
   "outputs": [],
   "source": [
    "def loc_key(key_subwork):\n",
    "    global stalist_all\n",
    "    global lat_all\n",
    "    global lon_all\n",
    "    key = 'R'+key_subwork[0:2]+key_subwork[3:]\n",
    "    if key in stalist_all:\n",
    "        lat_this = lat_all[stalist_all.index(key)]\n",
    "        lon_this = lon_all[stalist_all.index(key)]\n",
    "    else:\n",
    "        key1 = 'R' + str(int(key_subwork[0:2])-1).zfill(2)+key_subwork[3:5]\n",
    "        key2 = 'R' + str(int(key_subwork[0:2])+1).zfill(2)+key_subwork[3:5]\n",
    "        indx1 = stalist_all.index(key1)\n",
    "        indx2 = stalist_all.index(key2)\n",
    "        lat_this= (lat_all[indx1]+lat_all[indx2])/2\n",
    "        lon_this = (lon_all[indx1]+lon_all[indx2])/2\n",
    "    return lon_this,lat_this"
   ]
  },
  {
   "cell_type": "code",
   "execution_count": null,
   "metadata": {},
   "outputs": [],
   "source": [
    "lon_centroid_all = {}\n",
    "lat_centroid_all = {}"
   ]
  },
  {
   "cell_type": "code",
   "execution_count": null,
   "metadata": {},
   "outputs": [],
   "source": [
    "for key_subwork in key_subworks:\n",
    "    stainfo = stainfo_all[key_subwork]\n",
    "    stalist = stainfo['Station'].tolist()\n",
    "    lat = stainfo['latitude'].tolist()\n",
    "    lon = stainfo['longitude'].tolist()\n",
    "    lon_centroid,lat_centroid = calculate_centroid(np.array([lon,lat]).T)\n",
    "    lon_centroid_all[key_subwork] = lon_centroid\n",
    "    lat_centroid_all[key_subwork] = lat_centroid"
   ]
  },
  {
   "cell_type": "markdown",
   "metadata": {},
   "source": [
    "### Write into xlsx file"
   ]
  },
  {
   "cell_type": "code",
   "execution_count": null,
   "metadata": {},
   "outputs": [],
   "source": [
    "\"\"\"\n",
    "books = load_workbook(stalistname)\n",
    "writers = pd.ExcelWriter(stalistname, engine='openpyxl')\n",
    "writers.book = books\n",
    "df=pd.DataFrame()\n",
    "df['key_subwork'] = list(key_subworks)\n",
    "df['lon_centroid'] = list(lon_centroid_all.values())\n",
    "df['lat_centroid'] = list(lat_centroid_all.values())\n",
    "df.to_excel(writers,sheet_name='location',index=False)\n",
    "writers.save()\n",
    "\"\"\""
   ]
  },
  {
   "cell_type": "code",
   "execution_count": null,
   "metadata": {},
   "outputs": [],
   "source": [
    "filename = dir_project + 'subwork_location.xlsx'\n",
    "df=pd.DataFrame()\n",
    "df['key_subwork'] = [str(key_subwork) for key_subwork in key_subworks]\n",
    "df['lon_centroid'] = list(lon_centroid_all.values())\n",
    "df['lat_centroid'] = list(lat_centroid_all.values())\n",
    "df.to_excel(filename,sheet_name='location',index=False)"
   ]
  }
 ],
 "metadata": {
  "kernelspec": {
   "display_name": "ccfj",
   "language": "python",
   "name": "python3"
  },
  "language_info": {
   "codemirror_mode": {
    "name": "ipython",
    "version": 3
   },
   "file_extension": ".py",
   "mimetype": "text/x-python",
   "name": "python",
   "nbconvert_exporter": "python",
   "pygments_lexer": "ipython3",
   "version": "3.9.18"
  }
 },
 "nbformat": 4,
 "nbformat_minor": 2
}
