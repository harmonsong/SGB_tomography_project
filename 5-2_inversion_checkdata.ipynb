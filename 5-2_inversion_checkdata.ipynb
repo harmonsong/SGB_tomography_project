{
 "cells": [
  {
   "cell_type": "code",
   "execution_count": 1,
   "metadata": {},
   "outputs": [],
   "source": [
    "import numpy as np\n",
    "import os\n",
    "import yaml"
   ]
  },
  {
   "cell_type": "code",
   "execution_count": 2,
   "metadata": {},
   "outputs": [
    {
     "data": {
      "text/plain": [
       "'project_repartition_v3.0/output_repar_v9.1_02-01/'"
      ]
     },
     "execution_count": 2,
     "metadata": {},
     "output_type": "execute_result"
    }
   ],
   "source": [
    "with open('a-project_repar.yml', 'r', encoding='utf-8') as f:\n",
    "    proj = yaml.load(f.read(), Loader=yaml.FullLoader)\n",
    "name_project = proj['name']\n",
    "#name_project = 'project_repartrition/repartrition_01-03/'               # Harmon server\n",
    "name_project"
   ]
  },
  {
   "cell_type": "code",
   "execution_count": 3,
   "metadata": {},
   "outputs": [
    {
     "name": "stdout",
     "output_type": "stream",
     "text": [
      "dir_CC_workspace:  /shdisk/rem2/Harmon/F-J/San/\n",
      "dir_project_workspace:  /shdisk/rem2/Harmon/F-J/San/\n",
      "dir_project:  /shdisk/rem2/Harmon/F-J/San/project_repartition_v3.0/output_repar_v9.1_02-01/\n"
     ]
    }
   ],
   "source": [
    "with open('0_config.yml', 'r', encoding='utf-8') as f:\n",
    "    dir_config = yaml.load(f.read(), Loader=yaml.FullLoader)\n",
    "dir_project_workspace = dir_config['dir_project_workspace']\n",
    "dir_CC_workspace = dir_config['dir_CC_workspace']\n",
    "print('dir_CC_workspace: ', dir_CC_workspace)\n",
    "print('dir_project_workspace: ', dir_project_workspace)\n",
    "dir_project = os.path.join(dir_project_workspace, name_project)\n",
    "print('dir_project: ', dir_project)"
   ]
  },
  {
   "cell_type": "code",
   "execution_count": 4,
   "metadata": {},
   "outputs": [],
   "source": [
    "filename = dir_project+'Basic_info.yml'\n",
    "with open(filename, 'r', encoding='utf-8') as f:\n",
    "    info_basic = yaml.load(f.read(), Loader=yaml.FullLoader)\n",
    "filename_bi = dir_project+'Basic_info.npy'\n",
    "info_basic_bi = np.load(filename_bi, allow_pickle='TRUE').item()      # setting dictionary"
   ]
  },
  {
   "cell_type": "code",
   "execution_count": 5,
   "metadata": {},
   "outputs": [
    {
     "data": {
      "text/plain": [
       "['ds_6--12-03curve.txt',\n",
       " 'ds_34--41-03curve.txt',\n",
       " 'ds_22--29-03curve.txt',\n",
       " 'ds_33--40-03curve.txt',\n",
       " 'ds_10--16-03curve.txt',\n",
       " 'ds_24--31-03curve.txt',\n",
       " 'ds_29--36-03curve.txt',\n",
       " 'ds_35--42-03curve.txt',\n",
       " 'ds_23--30-03curve.txt',\n",
       " 'ds_20--27-03curve.txt',\n",
       " 'ds_38--46-03curve.txt',\n",
       " 'ds_3--09-03curve.txt',\n",
       " 'ds_18--25-03curve.txt',\n",
       " 'ds_26--33-03curve.txt',\n",
       " 'ds_13--20-03curve.txt',\n",
       " 'ds_28--35-03curve.txt',\n",
       " 'ds_19--26-03curve.txt',\n",
       " 'ds_16--23-03curve.txt',\n",
       " 'ds_44--52-03curve.txt',\n",
       " 'ds_27--34-03curve.txt',\n",
       " 'ds_36--43-03curve.txt',\n",
       " 'ds_49--09-04curve.txt',\n",
       " 'ds_41--49-03curve.txt',\n",
       " 'ds_8--14-03curve.txt',\n",
       " 'ds_9--15-03curve.txt',\n",
       " 'ds_42--50-03curve.txt',\n",
       " 'ds_43--51-03curve.txt',\n",
       " 'ds_46--54-03curve.txt',\n",
       " 'ds_1--07-03curve.txt',\n",
       " 'ds_21--28-03curve.txt',\n",
       " 'ds_47--07-04curve.txt',\n",
       " 'ds_32--39-03curve.txt',\n",
       " 'ds_14--21-03curve.txt',\n",
       " 'ds_30--37-03curve.txt',\n",
       " 'ds_45--53-03curve.txt',\n",
       " 'ds_7--13-03curve.txt',\n",
       " 'ds_5--11-03curve.txt',\n",
       " 'ds_11--18-03curve.txt',\n",
       " 'ds_39--47-03curve.txt',\n",
       " 'ds_17--24-03curve.txt',\n",
       " 'ds_2--08-03curve.txt',\n",
       " 'ds_40--48-03curve.txt',\n",
       " 'ds_50--10-04curve.txt',\n",
       " 'ds_15--22-03curve.txt',\n",
       " 'ds_48--08-04curve.txt',\n",
       " 'ds_37--44-03curve.txt',\n",
       " 'ds_4--10-03curve.txt',\n",
       " 'ds_25--32-03curve.txt',\n",
       " 'ds_12--19-03curve.txt',\n",
       " 'ds_31--38-03curve.txt']"
      ]
     },
     "execution_count": 5,
     "metadata": {},
     "output_type": "execute_result"
    }
   ],
   "source": [
    "dir_data = dir_project + info_basic['dir_inv_dispernet'] + 'data/'\n",
    "os.listdir(dir_data)"
   ]
  },
  {
   "cell_type": "code",
   "execution_count": 6,
   "metadata": {},
   "outputs": [],
   "source": [
    "key_subworks = info_basic['key_subworks'][:50]"
   ]
  },
  {
   "cell_type": "code",
   "execution_count": 7,
   "metadata": {},
   "outputs": [],
   "source": [
    "for file in os.listdir(dir_data):\n",
    "    key = file[file.find('_')+1:file.find('curve')]\n",
    "    if not key in key_subworks:\n",
    "        os.remove(dir_data+file)\n",
    "        print('remove: ', file)"
   ]
  },
  {
   "cell_type": "code",
   "execution_count": 8,
   "metadata": {},
   "outputs": [],
   "source": [
    "for file in os.listdir(dir_data):\n",
    "    try:\n",
    "        data = np.loadtxt(dir_data + file)\n",
    "        data1 = data[(-data[:, 0]).argsort()]\n",
    "        modes = set(data[:, 2].astype(int))\n",
    "    except:\n",
    "        print(file, ' error')"
   ]
  }
 ],
 "metadata": {
  "kernelspec": {
   "display_name": "ccfj",
   "language": "python",
   "name": "python3"
  },
  "language_info": {
   "codemirror_mode": {
    "name": "ipython",
    "version": 3
   },
   "file_extension": ".py",
   "mimetype": "text/x-python",
   "name": "python",
   "nbconvert_exporter": "python",
   "pygments_lexer": "ipython3",
   "version": "3.9.18"
  }
 },
 "nbformat": 4,
 "nbformat_minor": 2
}
