{
 "cells": [
  {
   "cell_type": "code",
   "execution_count": 1,
   "metadata": {},
   "outputs": [
    {
     "name": "stderr",
     "output_type": "stream",
     "text": [
      "/home/harmon/anaconda3/envs/pygmt/lib/python3.12/site-packages/osgeo/osr.py:410: FutureWarning: Neither osr.UseExceptions() nor osr.DontUseExceptions() has been explicitly called. In GDAL 4.0, exceptions will be enabled by default.\n",
      "  warnings.warn(\n"
     ]
    }
   ],
   "source": [
    "import geotable\n",
    "import pandas as pd"
   ]
  },
  {
   "cell_type": "code",
   "execution_count": 3,
   "metadata": {},
   "outputs": [],
   "source": [
    "t  = geotable.load('B4_tiled_laz_NW/B4_index.kmz')\n",
    "obj = t['geometry_object']"
   ]
  },
  {
   "cell_type": "code",
   "execution_count": 4,
   "metadata": {},
   "outputs": [
    {
     "data": {
      "text/html": [
       "<div>\n",
       "<style scoped>\n",
       "    .dataframe tbody tr th:only-of-type {\n",
       "        vertical-align: middle;\n",
       "    }\n",
       "\n",
       "    .dataframe tbody tr th {\n",
       "        vertical-align: top;\n",
       "    }\n",
       "\n",
       "    .dataframe thead th {\n",
       "        text-align: right;\n",
       "    }\n",
       "</style>\n",
       "<table border=\"1\" class=\"dataframe\">\n",
       "  <thead>\n",
       "    <tr style=\"text-align: right;\">\n",
       "      <th></th>\n",
       "      <th>Name</th>\n",
       "      <th>geometry_object</th>\n",
       "      <th>geometry_layer</th>\n",
       "      <th>geometry_proj4</th>\n",
       "    </tr>\n",
       "  </thead>\n",
       "  <tbody>\n",
       "    <tr>\n",
       "      <th>0</th>\n",
       "      <td>b4_172000_3994000</td>\n",
       "      <td>POLYGON Z ((-120.6184063379407 36.046308771231...</td>\n",
       "      <td>B4_index</td>\n",
       "      <td>+proj=longlat +datum=WGS84 +no_defs</td>\n",
       "    </tr>\n",
       "    <tr>\n",
       "      <th>1</th>\n",
       "      <td>b4_172000_3996000</td>\n",
       "      <td>POLYGON Z ((-120.6187560282552 36.053938941356...</td>\n",
       "      <td>B4_index</td>\n",
       "      <td>+proj=longlat +datum=WGS84 +no_defs</td>\n",
       "    </tr>\n",
       "    <tr>\n",
       "      <th>2</th>\n",
       "      <td>b4_174000_3992000</td>\n",
       "      <td>POLYGON Z ((-120.5953561841213 36.027414535833...</td>\n",
       "      <td>B4_index</td>\n",
       "      <td>+proj=longlat +datum=WGS84 +no_defs</td>\n",
       "    </tr>\n",
       "    <tr>\n",
       "      <th>3</th>\n",
       "      <td>b4_174000_3994000</td>\n",
       "      <td>POLYGON Z ((-120.5957746721468 36.036610591814...</td>\n",
       "      <td>B4_index</td>\n",
       "      <td>+proj=longlat +datum=WGS84 +no_defs</td>\n",
       "    </tr>\n",
       "    <tr>\n",
       "      <th>4</th>\n",
       "      <td>b4_174000_3996000</td>\n",
       "      <td>POLYGON Z ((-120.6073427674509 36.054283365092...</td>\n",
       "      <td>B4_index</td>\n",
       "      <td>+proj=longlat +datum=WGS84 +no_defs</td>\n",
       "    </tr>\n",
       "    <tr>\n",
       "      <th>...</th>\n",
       "      <td>...</td>\n",
       "      <td>...</td>\n",
       "      <td>...</td>\n",
       "      <td>...</td>\n",
       "    </tr>\n",
       "    <tr>\n",
       "      <th>1035</th>\n",
       "      <td>b4_624000_3638000</td>\n",
       "      <td>POLYGON Z ((-115.6529327965162 32.884966301155...</td>\n",
       "      <td>B4_index</td>\n",
       "      <td>+proj=longlat +datum=WGS84 +no_defs</td>\n",
       "    </tr>\n",
       "    <tr>\n",
       "      <th>1036</th>\n",
       "      <td>b4_624000_3640000</td>\n",
       "      <td>POLYGON Z ((-115.6528432652535 32.890882134659...</td>\n",
       "      <td>B4_index</td>\n",
       "      <td>+proj=longlat +datum=WGS84 +no_defs</td>\n",
       "    </tr>\n",
       "    <tr>\n",
       "      <th>1037</th>\n",
       "      <td>b4_624000_3642000</td>\n",
       "      <td>POLYGON Z ((-115.661892614875 32.9090183219207...</td>\n",
       "      <td>B4_index</td>\n",
       "      <td>+proj=longlat +datum=WGS84 +no_defs</td>\n",
       "    </tr>\n",
       "    <tr>\n",
       "      <th>1038</th>\n",
       "      <td>b4_626000_3638000</td>\n",
       "      <td>POLYGON Z ((-115.6395039611111 32.879535489656...</td>\n",
       "      <td>B4_index</td>\n",
       "      <td>+proj=longlat +datum=WGS84 +no_defs</td>\n",
       "    </tr>\n",
       "    <tr>\n",
       "      <th>1039</th>\n",
       "      <td>b4_626000_3640000</td>\n",
       "      <td>POLYGON Z ((-115.6393327758822 32.890735836505...</td>\n",
       "      <td>B4_index</td>\n",
       "      <td>+proj=longlat +datum=WGS84 +no_defs</td>\n",
       "    </tr>\n",
       "  </tbody>\n",
       "</table>\n",
       "<p>1040 rows × 4 columns</p>\n",
       "</div>"
      ],
      "text/plain": [
       "                   Name                                    geometry_object  \\\n",
       "0     b4_172000_3994000  POLYGON Z ((-120.6184063379407 36.046308771231...   \n",
       "1     b4_172000_3996000  POLYGON Z ((-120.6187560282552 36.053938941356...   \n",
       "2     b4_174000_3992000  POLYGON Z ((-120.5953561841213 36.027414535833...   \n",
       "3     b4_174000_3994000  POLYGON Z ((-120.5957746721468 36.036610591814...   \n",
       "4     b4_174000_3996000  POLYGON Z ((-120.6073427674509 36.054283365092...   \n",
       "...                 ...                                                ...   \n",
       "1035  b4_624000_3638000  POLYGON Z ((-115.6529327965162 32.884966301155...   \n",
       "1036  b4_624000_3640000  POLYGON Z ((-115.6528432652535 32.890882134659...   \n",
       "1037  b4_624000_3642000  POLYGON Z ((-115.661892614875 32.9090183219207...   \n",
       "1038  b4_626000_3638000  POLYGON Z ((-115.6395039611111 32.879535489656...   \n",
       "1039  b4_626000_3640000  POLYGON Z ((-115.6393327758822 32.890735836505...   \n",
       "\n",
       "     geometry_layer                       geometry_proj4  \n",
       "0          B4_index  +proj=longlat +datum=WGS84 +no_defs  \n",
       "1          B4_index  +proj=longlat +datum=WGS84 +no_defs  \n",
       "2          B4_index  +proj=longlat +datum=WGS84 +no_defs  \n",
       "3          B4_index  +proj=longlat +datum=WGS84 +no_defs  \n",
       "4          B4_index  +proj=longlat +datum=WGS84 +no_defs  \n",
       "...             ...                                  ...  \n",
       "1035       B4_index  +proj=longlat +datum=WGS84 +no_defs  \n",
       "1036       B4_index  +proj=longlat +datum=WGS84 +no_defs  \n",
       "1037       B4_index  +proj=longlat +datum=WGS84 +no_defs  \n",
       "1038       B4_index  +proj=longlat +datum=WGS84 +no_defs  \n",
       "1039       B4_index  +proj=longlat +datum=WGS84 +no_defs  \n",
       "\n",
       "[1040 rows x 4 columns]"
      ]
     },
     "execution_count": 4,
     "metadata": {},
     "output_type": "execute_result"
    }
   ],
   "source": [
    "t"
   ]
  },
  {
   "cell_type": "code",
   "execution_count": 5,
   "metadata": {},
   "outputs": [],
   "source": [
    "def extract_points(this_obj):\n",
    "    points = list(this_obj.exterior.coords) \n",
    "    p1 = points[0][0:2]\n",
    "    p2= points[1][0:2]\n",
    "    p3 = points[2][0:2]\n",
    "    p4 = points[3][0:2]\n",
    "    return p1, p2, p3,p4"
   ]
  },
  {
   "cell_type": "code",
   "execution_count": 6,
   "metadata": {},
   "outputs": [],
   "source": [
    "def point_inside_quadrilateral(p1,p2,p3,p4,p):\n",
    "    # Determine the bounding box of the quadrilateral\n",
    "    x1 = p1[0]\n",
    "    x2 = p2[0]\n",
    "    x3 = p3[0]\n",
    "    x4 = p4[0]\n",
    "    y1 = p1[1]\n",
    "    y2 = p2[1]\n",
    "    y3 = p3[1]\n",
    "    y4 = p4[1]\n",
    "    x = p[0]\n",
    "    y = p[1]\n",
    "    min_x = min(x1, x2, x3, x4)\n",
    "    max_x = max(x1, x2, x3, x4)\n",
    "    min_y = min(y1, y2, y3, y4)\n",
    "    max_y = max(y1, y2, y3, y4)\n",
    "    \n",
    "    # Check if the point is inside the bounding box\n",
    "    if x < min_x or x > max_x or y < min_y or y > max_y:\n",
    "        return False\n",
    "    \n",
    "    # Count the intersections of the point with the quadrilateral edges\n",
    "    intersections = 0\n",
    "    \n",
    "    # Check each edge of the quadrilateral\n",
    "    edges = [(x1, y1, x2, y2), (x2, y2, x3, y3), (x3, y3, x4, y4), (x4, y4, x1, y1)]\n",
    "    for edge in edges:\n",
    "        x1_edge, y1_edge, x2_edge, y2_edge = edge\n",
    "        # Check if the point is on the same side of the edge's line\n",
    "        # as the vertex with the smaller y-coordinate\n",
    "        if (y1_edge > y) != (y2_edge > y):\n",
    "            # Calculate the x-coordinate of the intersection point\n",
    "            intersection_x = (x2_edge - x1_edge) * (y - y1_edge) / (y2_edge - y1_edge) + x1_edge\n",
    "            # Check if the intersection point is to the right of the point\n",
    "            if x < intersection_x:\n",
    "                intersections += 1\n",
    "    \n",
    "    # If the number of intersections is odd, the point is inside the quadrilateral\n",
    "    return intersections % 2 == 1\n"
   ]
  },
  {
   "cell_type": "code",
   "execution_count": 7,
   "metadata": {},
   "outputs": [],
   "source": [
    "#p = (-116.593315,33.537045)"
   ]
  },
  {
   "cell_type": "code",
   "execution_count": 8,
   "metadata": {},
   "outputs": [],
   "source": [
    "stalistname_all = 'stations_info_all.xlsx'\n",
    "stainfo = pd.read_excel(stalistname_all)\n",
    "stalist_all = stainfo['Station'].tolist() \n",
    "lat_stations_all =  stainfo['latitude'].tolist() \n",
    "lon_stations_all =  stainfo['longitude'].tolist() "
   ]
  },
  {
   "cell_type": "code",
   "execution_count": 11,
   "metadata": {},
   "outputs": [],
   "source": [
    "files = set()   \n",
    "for j in range(len(stalist_all)):\n",
    "    p = (lon_stations_all[j],lat_stations_all[j])\n",
    "    for i in range(len(obj)):\n",
    "        obj_this = obj[i]\n",
    "        p1,p2,p3,p4 = extract_points(obj_this)\n",
    "        if point_inside_quadrilateral(p1,p2,p3,p4,p):\n",
    "            files.add(t['Name'][i])"
   ]
  },
  {
   "cell_type": "code",
   "execution_count": 12,
   "metadata": {},
   "outputs": [
    {
     "data": {
      "text/plain": [
       "{'b4_536000_3710000', 'b4_538000_3710000'}"
      ]
     },
     "execution_count": 12,
     "metadata": {},
     "output_type": "execute_result"
    }
   ],
   "source": [
    "files"
   ]
  },
  {
   "cell_type": "code",
   "execution_count": null,
   "metadata": {},
   "outputs": [],
   "source": []
  }
 ],
 "metadata": {
  "kernelspec": {
   "display_name": "ccfj",
   "language": "python",
   "name": "python3"
  },
  "language_info": {
   "codemirror_mode": {
    "name": "ipython",
    "version": 3
   },
   "file_extension": ".py",
   "mimetype": "text/x-python",
   "name": "python",
   "nbconvert_exporter": "python",
   "pygments_lexer": "ipython3",
   "version": "3.12.3"
  }
 },
 "nbformat": 4,
 "nbformat_minor": 2
}
