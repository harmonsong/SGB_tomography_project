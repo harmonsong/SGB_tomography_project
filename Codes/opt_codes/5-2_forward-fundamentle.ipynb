{
 "cells": [
  {
   "cell_type": "code",
   "execution_count": null,
   "metadata": {},
   "outputs": [],
   "source": [
    "import numpy as np\n",
    "import matplotlib.pyplot as plt\n",
    "import argparse\n",
    "from scipy.stats import gaussian_kde\n",
    "import os\n",
    "import yaml\n"
   ]
  },
  {
   "cell_type": "code",
   "execution_count": null,
   "metadata": {},
   "outputs": [],
   "source": [
    "import sys\n",
    "sys.path.append(r'../')\n",
    "sys.path.append(r'../toollib_DisbaCode')\n",
    "from objective_function import (ObjectiveFunctionDerivativeUsed, Forward)\n",
    "from toollib_DisbaCode import forward\n",
    "from toollib_DisbaCode import objective_function\n",
    "from toollib_DisbaCode import empirical_relation\n",
    "from toollib_DisbaCode import inversion\n",
    "from toollib_DisbaCode import plot_disp\n",
    "from toollib_DisbaCode import plot_model\n",
    "from toollib_DisbaCode import plot_lcurve\n",
    "from toollib_DisbaCode import plot_inversion    \n",
    "from toollib_DisbaCode import plot_kernel"
   ]
  },
  {
   "cell_type": "code",
   "execution_count": null,
   "metadata": {},
   "outputs": [],
   "source": [
    "import sys\n",
    "sys.path.append(r'../')\n",
    "from toollib_DisbaCode import forward"
   ]
  },
  {
   "cell_type": "code",
   "execution_count": null,
   "metadata": {},
   "outputs": [],
   "source": [
    "with open('a-project.yml', 'r', encoding='utf-8') as f:\n",
    "    proj = yaml.load(f.read(), Loader=yaml.FullLoader)\n",
    "proj_name = proj['name']\n",
    "#proj_name = 'project/output_FJSJ_09-10/'\n",
    "proj_name"
   ]
  },
  {
   "cell_type": "code",
   "execution_count": null,
   "metadata": {},
   "outputs": [],
   "source": [
    "filename = proj_name+'Basic_info.yml'\n",
    "with open(filename, 'r', encoding='utf-8') as f:\n",
    "    info_basic = yaml.load(f.read(), Loader=yaml.FullLoader)\n",
    "filename_bi = proj_name+'Basic_info.npy'\n",
    "info_basic_bi = np.load(filename_bi, allow_pickle='TRUE').item()      # setting dictionary"
   ]
  },
  {
   "cell_type": "code",
   "execution_count": null,
   "metadata": {},
   "outputs": [],
   "source": [
    "dir_image = info_basic['dir_image']\n",
    "key_subworks = info_basic['key_subworks']\n",
    "key_subworks = ['12-04']\n",
    "key_subworks"
   ]
  },
  {
   "cell_type": "code",
   "execution_count": null,
   "metadata": {},
   "outputs": [],
   "source": [
    "def forward_disp_plot(key_subwork,max_mode,info_basic,dir_image,ax):\n",
    "    # forward model\n",
    "    os.chdir('/home/harmon/data/git_repo/F-J_Workflow/San_Jasinto/'+proj_name+'inv_dispernet')\n",
    "    # load data and mode\n",
    "    data_file = 'data/'+'ds_'+key_subwork+'curve.txt'\n",
    "    disp_data = np.loadtxt(data_file)\n",
    "    file_model = 'initial/initial_model_'+key_subwork+'.txt'\n",
    "    file_out = 'initial/disp_model_'+key_subwork+'.txt'\n",
    "    print(file_model)\n",
    "    forward.forward_cal(info_basic,max_mode,file_model,file_out)\n",
    "    \"\"\"\n",
    "    with open(file_out, 'w') as fp:\n",
    "        for i in range(len(disp_model)):    \n",
    "            f = disp_model[i, 0]\n",
    "            c = disp_model[i, 1]\n",
    "            mode = int(disp_model[i, 2])\n",
    "            fp.write('{:15.8f}{:15.8f}{:10d}\\n'.format(f, c, mode))\n",
    "    \"\"\"\n",
    "    disp_model = np.loadtxt(file_out)\n",
    "    os.chdir('/home/harmon/data/git_repo/F-J_Workflow/San_Jasinto/')\n",
    "    # plot\n",
    "    modes = set(disp_model[:, 2].astype(int))\n",
    "    for m in modes:\n",
    "        d = disp_data[disp_data[:, 2] == m]\n",
    "        if m==0:\n",
    "            ax.plot(d[:, 0], d[:, 1], 'k-',label='data')\n",
    "        else:\n",
    "            ax.plot(d[:, 0], d[:, 1], 'k-')\n",
    "\n",
    "    modes = set(disp_model[:, 2].astype(int))\n",
    "    for m in modes:\n",
    "        d = disp_model[disp_model[:, 2] == m]\n",
    "        if m==0:\n",
    "            ax.plot(d[:, 0], d[:, 1], 'b--',label='estimate')\n",
    "        else:\n",
    "            ax.plot(d[:, 0], d[:, 1], 'b--')\n",
    "    \n",
    "    return ax\n"
   ]
  }
 ],
 "metadata": {
  "kernelspec": {
   "display_name": "base",
   "language": "python",
   "name": "python3"
  },
  "language_info": {
   "codemirror_mode": {
    "name": "ipython",
    "version": 3
   },
   "file_extension": ".py",
   "mimetype": "text/x-python",
   "name": "python",
   "nbconvert_exporter": "python",
   "pygments_lexer": "ipython3",
   "version": "3.8.17"
  },
  "orig_nbformat": 4
 },
 "nbformat": 4,
 "nbformat_minor": 2
}
