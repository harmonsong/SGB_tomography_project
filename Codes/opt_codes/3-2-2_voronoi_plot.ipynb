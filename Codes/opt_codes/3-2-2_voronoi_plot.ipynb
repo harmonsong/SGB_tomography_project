{
 "cells": [
  {
   "cell_type": "code",
   "execution_count": 23,
   "metadata": {},
   "outputs": [],
   "source": [
    "import numpy as np\n",
    "import os\n",
    "import matplotlib.pyplot as plt\n",
    "import h5py\n",
    "from scipy import interpolate\n",
    "import pandas as pd"
   ]
  },
  {
   "cell_type": "code",
   "execution_count": 24,
   "metadata": {},
   "outputs": [],
   "source": [
    "import sys\n",
    "sys.path.append(r'../')\n",
    "from toollib_standard import maplib\n",
    "from toollib_standard import mathlib\n",
    "from toollib_standard import filelib\n",
    "from toollib_standard import stacklib\n",
    "from toollib_standard import plotlib"
   ]
  },
  {
   "cell_type": "code",
   "execution_count": 25,
   "metadata": {},
   "outputs": [],
   "source": [
    "proj_name = 'output_FJSJ_06-05/'"
   ]
  },
  {
   "cell_type": "code",
   "execution_count": 26,
   "metadata": {},
   "outputs": [],
   "source": [
    "outdir = proj_name + 'image_vor/'\n",
    "if not os.path.exists(outdir):\n",
    "    os.makedirs(outdir)"
   ]
  },
  {
   "cell_type": "code",
   "execution_count": 27,
   "metadata": {},
   "outputs": [],
   "source": [
    "filename_basic = proj_name+'Basic_info.npy'\n",
    "info_basic = np.load(filename_basic, allow_pickle='TRUE').item()      # setting dictionary\n",
    "dir_stack_all = info_basic['dir_stack_all']\n",
    "stalistname = info_basic['stalistname']\n",
    "filename = dir_stack_all + 'gather_all.h5'\n",
    "#dir_ds_vor = info_basic['dir_ds_vor']\n",
    "dir_ds_vor = proj_name + 'ds_vor/'"
   ]
  },
  {
   "cell_type": "code",
   "execution_count": 28,
   "metadata": {},
   "outputs": [],
   "source": [
    "stainfo = pd.read_excel(stalistname+'.xlsx')\n",
    "staloc =  np.asarray([stainfo.iloc[:,1],stainfo.iloc[:,2]]).T\n",
    "nsta = len(stainfo.iloc[:,0])\n",
    "lat_all = staloc[:,1]\n",
    "lon_all = staloc[:,0]"
   ]
  },
  {
   "cell_type": "code",
   "execution_count": 29,
   "metadata": {},
   "outputs": [],
   "source": [
    "N = len(os.listdir(dir_ds_vor))\n",
    "key_subworks = os.listdir(dir_ds_vor)"
   ]
  },
  {
   "cell_type": "code",
   "execution_count": 30,
   "metadata": {},
   "outputs": [],
   "source": [
    "%%capture\n",
    "for i in range(N):\n",
    "    key_subwork = key_subworks[i]\n",
    "    fig, ax = plt.subplots(1, 2, figsize=(16, 6))\n",
    "\n",
    "    dsfile = h5py.File(dir_ds_vor+key_subwork, 'r')\n",
    "    ds = dsfile['ds'][:]\n",
    "    f = dsfile['f'][:]\n",
    "    c = dsfile['c'][:]\n",
    "    indx = dsfile['indx'][:]\n",
    "    #locs = dsfile['xvyv'][:]\n",
    "    lat = staloc[indx,1]\n",
    "    lon = staloc[indx,0]\n",
    "    dsfile.close()\n",
    "\n",
    "    # position\n",
    "    ax[0]=plotlib.plot_area(ax[0],lon_all,lat_all,lon,lat)\n",
    "\n",
    "    # fj\n",
    "    xlim = [0, 15]\n",
    "    title0 = key_subwork[:-3]\n",
    "    ax[1] = plotlib.plot_fj(ax[1],ds,title0,f,c ,xlim,0)\n",
    "    plt.tight_layout()\n",
    "    plt.savefig(outdir+key_subwork+'_vor.png',dpi=100)"
   ]
  }
 ],
 "metadata": {
  "kernelspec": {
   "display_name": "Python 3 (ipykernel)",
   "language": "python",
   "name": "python3"
  },
  "language_info": {
   "codemirror_mode": {
    "name": "ipython",
    "version": 3
   },
   "file_extension": ".py",
   "mimetype": "text/x-python",
   "name": "python",
   "nbconvert_exporter": "python",
   "pygments_lexer": "ipython3",
   "version": "3.10.9"
  },
  "vscode": {
   "interpreter": {
    "hash": "9e1b1cfcb63b8c4b20fd3d610677682a40199606624b55ac5cc8ef1326af990f"
   }
  }
 },
 "nbformat": 4,
 "nbformat_minor": 4
}
