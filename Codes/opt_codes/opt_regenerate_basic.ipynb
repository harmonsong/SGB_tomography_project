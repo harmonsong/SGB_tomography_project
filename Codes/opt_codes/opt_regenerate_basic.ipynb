{
 "cells": [
  {
   "cell_type": "code",
   "execution_count": 99,
   "metadata": {},
   "outputs": [],
   "source": [
    "import numpy as np\n",
    "import os\n",
    "import shutil\n",
    "import yaml"
   ]
  },
  {
   "cell_type": "code",
   "execution_count": 100,
   "metadata": {},
   "outputs": [],
   "source": [
    "proj_name = 'output_FJSJ_10-04/'\n",
    "proj_name = 'project/' + proj_name"
   ]
  },
  {
   "cell_type": "code",
   "execution_count": 101,
   "metadata": {},
   "outputs": [],
   "source": [
    "info_basic_old = np.load(proj_name + 'Basic_info.npy', allow_pickle=True).item()"
   ]
  },
  {
   "cell_type": "code",
   "execution_count": 102,
   "metadata": {},
   "outputs": [
    {
     "data": {
      "text/plain": [
       "dict_keys(['dir_proj', 'tag', 'dir_SAC', 'stalistname', 'dir_CC', 'dir_stack_all', 'dir_config', 'dir_stack', 'dir_image', 'dir_ds', 'd_start', 'd_end', 'y_start', 'y_end', 'nf', 'Fs', 'fftlen', 'fstride', 'nThreads', 'overlaprate', 'segday', 'npts', 'flag_onebit', 'flag_prewhiten', 'f', 't', 'd_len', 'key_subworks', 'nstaS', 'v_min', 'v_max', 'tao', 'start', 'interval', 'flag_time', 'sigwins', 'noisewins1', 'noisewins2', 'c', 'dir_inv_dispernet'])"
      ]
     },
     "execution_count": 102,
     "metadata": {},
     "output_type": "execute_result"
    }
   ],
   "source": [
    "info_basic_old.keys()"
   ]
  },
  {
   "cell_type": "code",
   "execution_count": 103,
   "metadata": {},
   "outputs": [],
   "source": [
    "info = {}\n",
    "info_bi = {}"
   ]
  },
  {
   "cell_type": "code",
   "execution_count": 104,
   "metadata": {},
   "outputs": [],
   "source": [
    "info['dir_proj'] = info_basic_old['dir_proj']\n",
    "info['tag'] = info_basic_old['tag']\n",
    "info['dir_SAC']  = info_basic_old['dir_SAC']\n",
    "info['stalistname'] = info_basic_old['stalistname']\n",
    "# correlation all dirtin\n",
    "info['dir_CC'] = info_basic_old['dir_CC']\n",
    "# stack all dir\n",
    "info['dir_stack_all'] = 'project/' + info_basic_old['dir_stack_all']\n",
    "\n",
    "\n",
    "# config dir\n",
    "info['dir_config'] = 'project/' + info_basic_old['dir_config']\n",
    "    \n",
    "    # stack dir\n",
    "info['dir_stack'] = 'project/' + info_basic_old['dir_stack']\n",
    "    # image dir\n",
    "info['dir_image']  = 'project/' + info_basic_old['dir_image']\n",
    "    # ds dir\n",
    "info['dir_ds'] = 'project/' + info_basic_old['dir_ds']\n",
    "\n",
    "info['start'] = info_basic_old['start']\n",
    "info['tao'] = info_basic_old['tao']\n",
    "info['interval'] = info_basic_old['interval']\n",
    "info['flag_time'] = info_basic_old['flag_time']\n",
    "info['dir_inv_dispernet'] = 'project/' + info_basic_old['dir_inv_dispernet']\n",
    "info['d_len'] = info_basic_old['d_len']\n",
    "info['key_subworks'] = info_basic_old['key_subworks']\n",
    "info['nstaS'] = info_basic_old['nstaS']"
   ]
  },
  {
   "cell_type": "code",
   "execution_count": 105,
   "metadata": {},
   "outputs": [],
   "source": [
    "info['for_fmax'] = 30\n",
    "info['for_fmin'] = 2\n",
    "info['for_nf'] = 500\n",
    "info['v_max'] = []\n",
    "info['v_min'] = 0.1"
   ]
  },
  {
   "cell_type": "code",
   "execution_count": 106,
   "metadata": {},
   "outputs": [],
   "source": [
    "filename = 'CC/'+info['dir_CC']+'info_CC.npy'\n",
    "info_CC = np.load(filename, allow_pickle='TRUE').item()"
   ]
  },
  {
   "cell_type": "code",
   "execution_count": 107,
   "metadata": {},
   "outputs": [],
   "source": [
    "info['d_start'] = info_CC['d_start']\n",
    "info['d_end'] = info_CC['d_end']\n",
    "info['y_start'] = info_CC['y_start']\n",
    "info['y_end'] = info_CC['y_end']\n",
    "info['stalistname'] = info_CC['stalistname']\n",
    "info['nf'] = info_CC['nf']\n",
    "info['Fs'] = info_CC['Fs']\n",
    "info['fftlen'] = info_CC['fftlen']\n",
    "info['fstride'] = info_CC['fstride']\n",
    "info['nThreads'] = info_CC['nThreads']\n",
    "info['overlaprate'] = info_CC['overlaprate']\n",
    "info['segday'] = info_CC['segday']\n",
    "info['npts'] =  info_CC['npts']\n",
    "info['flag_onebit'] = info_CC['flag_onebit']\n",
    "info['flag_prewhiten'] = info_CC['flag_prewhiten']"
   ]
  },
  {
   "cell_type": "code",
   "execution_count": 108,
   "metadata": {},
   "outputs": [],
   "source": [
    "with open(proj_name+'Basic_info.yml', 'w', encoding='utf-8') as f:\n",
    "   yaml.dump(data=info, stream=f, allow_unicode=True)"
   ]
  }
 ],
 "metadata": {
  "kernelspec": {
   "display_name": "base",
   "language": "python",
   "name": "python3"
  },
  "language_info": {
   "codemirror_mode": {
    "name": "ipython",
    "version": 3
   },
   "file_extension": ".py",
   "mimetype": "text/x-python",
   "name": "python",
   "nbconvert_exporter": "python",
   "pygments_lexer": "ipython3",
   "version": "3.10.13"
  },
  "orig_nbformat": 4
 },
 "nbformat": 4,
 "nbformat_minor": 2
}
