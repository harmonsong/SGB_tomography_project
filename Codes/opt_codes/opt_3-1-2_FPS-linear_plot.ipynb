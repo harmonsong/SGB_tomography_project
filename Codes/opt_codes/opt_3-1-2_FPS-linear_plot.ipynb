{
 "cells": [
  {
   "cell_type": "code",
   "execution_count": null,
   "metadata": {},
   "outputs": [],
   "source": [
    "import numpy as np\n",
    "import os\n",
    "import matplotlib.pyplot as plt\n",
    "import h5py\n",
    "from scipy import interpolate\n",
    "from ccfj import GetStationPairs\n",
    "import pandas as pd"
   ]
  },
  {
   "cell_type": "code",
   "execution_count": null,
   "metadata": {},
   "outputs": [],
   "source": [
    "import sys\n",
    "sys.path.append(r'../')\n",
    "from toollib_standard import maplib\n",
    "from toollib_standard import mathlib\n",
    "from toollib_standard import filelib\n",
    "from toollib_standard import stacklib\n",
    "from toollib_standard import plotlib"
   ]
  },
  {
   "cell_type": "code",
   "execution_count": null,
   "metadata": {},
   "outputs": [],
   "source": [
    "proj_name = 'output_FJSJ_07-03/'"
   ]
  },
  {
   "cell_type": "code",
   "execution_count": null,
   "metadata": {},
   "outputs": [],
   "source": [
    "filename_basic = proj_name+'Basic_info.npy'\n",
    "info_basic = np.load(filename_basic, allow_pickle='TRUE').item()      # setting dictionary"
   ]
  },
  {
   "cell_type": "code",
   "execution_count": null,
   "metadata": {},
   "outputs": [],
   "source": [
    "key_subworks = ['01-01']\n",
    "key_subworks = info_basic['key_subworks']\n",
    "#key_subworks.remove('2013_10')\n",
    "key_subworks"
   ]
  },
  {
   "attachments": {},
   "cell_type": "markdown",
   "metadata": {},
   "source": [
    "### read all stations coordinates"
   ]
  },
  {
   "cell_type": "code",
   "execution_count": null,
   "metadata": {},
   "outputs": [],
   "source": [
    "stalistname = info_basic['stalistname']\n",
    "stainfo = pd.read_excel(stalistname+'.xlsx')\n",
    "nsta_all = len(stainfo.iloc[:,0])\n",
    "StationPairs_all = GetStationPairs(nsta_all)\n",
    "nPairs_all = int(len(StationPairs_all)/2)\n",
    "stalist_all = stainfo['Station'].tolist()\n",
    "lat_all = stainfo['latitude'].tolist() \n",
    "lon_all = stainfo['longitude'].tolist()\n",
    "d_len = info_basic['d_len']"
   ]
  },
  {
   "cell_type": "code",
   "execution_count": null,
   "metadata": {},
   "outputs": [],
   "source": [
    "def FJ2TJ(f,ds_linear,flag_inter):\n",
    "    T = 1./f[1:]\n",
    "    dt = flag_inter*(T[-2]-T[-1])\n",
    "    T1 = np.arange(T[-2],T[1],dt)\n",
    "    f1 = np.sort(1./T1[::flag_inter])\n",
    "\n",
    "    ds_linear1 = np.zeros((np.shape(ds_linear)[0],np.shape(f1)[0]))\n",
    "    for i in range(np.shape(ds_linear)[0]):\n",
    "        f_inter = interpolate.interp1d(f,ds_linear[i,:],kind='linear')\n",
    "        ds_linear1[i,:] = f_inter(f1)\n",
    "    indx = np.argsort(1./f1)\n",
    "    T1 = 1./f1[indx]\n",
    "    ds_linear2 = ds_linear1[:,indx]\n",
    "    return T1,ds_linear2"
   ]
  },
  {
   "cell_type": "code",
   "execution_count": null,
   "metadata": {},
   "outputs": [],
   "source": [
    "#for key_subwork in key_subworks[0:1]:\n",
    "for key_subwork in key_subworks:\n",
    "    fig,ax = plt.subplots(3,2,figsize=(15,18))\n",
    "    # settings for subwork\n",
    "    dir_stack = info_basic['dir_stack']\n",
    "    dir_ds = info_basic['dir_ds']\n",
    "    #d_len = info_basic['d_len']\n",
    "    dir_image = info_basic['dir_image']\n",
    "    \n",
    "    start = info_basic['start'][key_subwork]\n",
    "    interval = info_basic['interval'][key_subwork]\n",
    "    flag_time = info_basic['flag_time'][key_subwork]\n",
    "\n",
    "    # plot area\n",
    "    stalistname = proj_name+info_basic['stalistname'] +'-'+key_subwork\n",
    "    stainfo = pd.read_excel(stalistname+'.xlsx')\n",
    "    nsta = len(stainfo.iloc[:,0])\n",
    "    StationPairs = GetStationPairs(nsta)\n",
    "    nPairs = int(len(StationPairs)/2)\n",
    "    stalist = stainfo['Station'].tolist()\n",
    "    lat = stainfo['latitude'].tolist() \n",
    "    lon = stainfo['longitude'].tolist()\n",
    "    ax[0][0]=plotlib.plot_area(ax[0][0],lon_all,lat_all,lon,lat)\n",
    "\n",
    "    # plot ncfs and ncfst\n",
    "\n",
    "    outname = key_subwork+'_gather_linear.h5'\n",
    "    ncffile = h5py.File(dir_stack + outname,'r')\n",
    "    ncfs_sum_linear = ncffile['ncfs'][:]\n",
    "    r = ncffile['r'][:]\n",
    "    f = info_basic['f']\n",
    "    t = info_basic['t']\n",
    "    ncffile.close()\n",
    "\n",
    "    outname = key_subwork+'_gather_FPS.h5'\n",
    "    ncffile = h5py.File(dir_stack + outname,'r')\n",
    "    ncfs_sum_FPS = ncffile['ncfs'][:]\n",
    "    ncffile.close()\n",
    "\n",
    "    \n",
    "    ncfst_linear = mathlib.freq_time(ncfs_sum_linear)\n",
    "    ncfst_FPS = mathlib.freq_time(ncfs_sum_FPS)\n",
    "    title0 = \"Linear Stack subarea time for \"+key_subwork\n",
    "    title1 = \"Linear Stack subarea frequency for \"+key_subwork\n",
    "    xlim_f = [0,15]\n",
    "    ax[0][1] = plotlib.plot_ncfs(ax[0][1],f,ncfs_sum_linear,r,title0,xlim_f,0)\n",
    "\n",
    "\n",
    "\n",
    "    xlim_T = [-1,1]\n",
    "    ax[1][0] = plotlib.plot_ncfst(ax[1][0],t,ncfst_linear[start::interval],r[start::interval],title0,flag_time,xlim_T,0)\n",
    "\n",
    "    title0 = \"FPS Stack subarea time for \"+key_subwork\n",
    "    ax[1][1] = plotlib.plot_ncfst(ax[1][1],t,ncfst_FPS[start::interval],r[start::interval],title0,flag_time,xlim_T,0)\n",
    "\n",
    "    \n",
    "    # plot fj\n",
    "    ds = h5py.File(dir_ds+'ds_'+key_subwork+'.h5', 'r')\n",
    "    ds_linear = ds['ds_linear'][0]\n",
    "    ds_FPS = ds['ds_FPS'][0]\n",
    "    c = info_basic['c']\n",
    "    ds.close()\n",
    "    \n",
    "    title0 = \"Linear stack dispersion curve \"+str(d_len)+' days'\n",
    "    ax[2][0] = plotlib.plot_fj(ax[2][0],ds_linear,title0,f,c,xlim_f,0)\n",
    "    ax[2][0].set_xlim(xlim_f)\n",
    "    \n",
    "    title0 = \"FPS stack dispersion curve \"+str(d_len)+' days'\n",
    "    ax[2][1] = plotlib.plot_fj(ax[2][1],ds_FPS,title0,f,c,xlim_f,0)\n",
    "    ax[2][1].set_xlim(xlim_f)\n",
    "\n",
    "    \n",
    "\n",
    "\n",
    "    plt.tight_layout()\n",
    "    plt.savefig(dir_image+key_subwork+'_standard-output.png',dpi=60)"
   ]
  }
 ],
 "metadata": {
  "kernelspec": {
   "display_name": "Python 3 (ipykernel)",
   "language": "python",
   "name": "python3"
  },
  "language_info": {
   "codemirror_mode": {
    "name": "ipython",
    "version": 3
   },
   "file_extension": ".py",
   "mimetype": "text/x-python",
   "name": "python",
   "nbconvert_exporter": "python",
   "pygments_lexer": "ipython3",
   "version": "3.10.9"
  },
  "vscode": {
   "interpreter": {
    "hash": "9e1b1cfcb63b8c4b20fd3d610677682a40199606624b55ac5cc8ef1326af990f"
   }
  }
 },
 "nbformat": 4,
 "nbformat_minor": 4
}
