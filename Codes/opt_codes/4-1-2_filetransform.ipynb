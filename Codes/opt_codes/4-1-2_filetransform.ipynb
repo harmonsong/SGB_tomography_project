{
 "cells": [
  {
   "cell_type": "code",
   "execution_count": null,
   "metadata": {},
   "outputs": [],
   "source": [
    "import numpy as np\n",
    "import yaml\n",
    "import os"
   ]
  },
  {
   "cell_type": "code",
   "execution_count": null,
   "metadata": {},
   "outputs": [],
   "source": [
    "proj_name = 'output_test/'"
   ]
  },
  {
   "cell_type": "code",
   "execution_count": null,
   "metadata": {},
   "outputs": [],
   "source": [
    "dir_inv = proj_name+'inv/'"
   ]
  },
  {
   "cell_type": "code",
   "execution_count": null,
   "metadata": {},
   "outputs": [],
   "source": [
    "filename_basic = proj_name+'Basic_info.npy'\n",
    "info_basic = np.load(filename_basic, allow_pickle='TRUE').item()      # setting dictionary\n",
    "dir_ds = info_basic['dir_ds']\n",
    "key_subworks = info_basic['key_subworks']\n",
    "key_subworks"
   ]
  },
  {
   "cell_type": "code",
   "execution_count": null,
   "metadata": {},
   "outputs": [],
   "source": [
    "info_basic['dir_inv'] = dir_inv\n",
    "np.save(filename_basic,info_basic)\n",
    "if not os.path.exists(dir_inv):\n",
    "    os.mkdir(dir_inv)"
   ]
  },
  {
   "cell_type": "code",
   "execution_count": null,
   "metadata": {},
   "outputs": [],
   "source": [
    "def get_yaml_data(filename):\n",
    "    file = open(filename,'r',encoding='utf-8')\n",
    "    file_data = file.read()\n",
    "    file.close()\n",
    "    data = yaml.load(file_data,Loader=yaml.FullLoader)\n",
    "    return data"
   ]
  },
  {
   "cell_type": "code",
   "execution_count": null,
   "metadata": {},
   "outputs": [],
   "source": [
    "for key_subwork in key_subworks:\n",
    "    filename = dir_ds+'/config_'+key_subwork+'.yml'\n",
    "    outdir = dir_inv+'data/'\n",
    "    if not os.path.exists(outdir):\n",
    "        os.mkdir(outdir)\n",
    "    outname = outdir + 'config_inv_'+key_subwork+'.txt'\n",
    "    data = get_yaml_data(filename)\n",
    "    data = data[0]\n",
    "    modes = list(data.keys())\n",
    "    with open(outname,'w') as file:\n",
    "        for j in range(len(modes)):\n",
    "            f = data[j]['f']\n",
    "            c = data[j]['c']\n",
    "            for k in range(len(f)):\n",
    "                file.write(\"%f     %f     %i\\n\"%(f[k],c[k],modes[j]))"
   ]
  },
  {
   "attachments": {},
   "cell_type": "markdown",
   "metadata": {},
   "source": []
  }
 ],
 "metadata": {
  "kernelspec": {
   "display_name": "base",
   "language": "python",
   "name": "python3"
  },
  "language_info": {
   "codemirror_mode": {
    "name": "ipython",
    "version": 3
   },
   "file_extension": ".py",
   "mimetype": "text/x-python",
   "name": "python",
   "nbconvert_exporter": "python",
   "pygments_lexer": "ipython3",
   "version": "3.10.9"
  },
  "orig_nbformat": 4
 },
 "nbformat": 4,
 "nbformat_minor": 2
}
