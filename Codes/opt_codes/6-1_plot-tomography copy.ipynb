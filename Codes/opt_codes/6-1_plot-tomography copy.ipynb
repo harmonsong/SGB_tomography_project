{
 "cells": [
  {
   "cell_type": "code",
   "execution_count": 3,
   "metadata": {},
   "outputs": [],
   "source": [
    "import numpy as np\n",
    "import matplotlib.pyplot as plt\n",
    "import pandas as pd\n",
    "import openpyxl\n",
    "from openpyxl import load_workbook\n",
    "import os\n",
    "from ccfj import GetStationPairs\n",
    "from geopy.distance import great_circle\n",
    "from scipy.interpolate import interp1d\n",
    "from scipy.interpolate import griddata\n",
    "#import shapefile\n",
    "import geopandas as gp\n",
    "import yaml\n",
    "#from pykml import parser\n"
   ]
  },
  {
   "cell_type": "code",
   "execution_count": 4,
   "metadata": {},
   "outputs": [],
   "source": [
    "import sys\n",
    "sys.path.append(r'../')\n",
    "from toollib_standard import plotlib"
   ]
  },
  {
   "cell_type": "code",
   "execution_count": 5,
   "metadata": {},
   "outputs": [
    {
     "data": {
      "text/plain": [
       "'project/output_FJSJ_11-03/'"
      ]
     },
     "execution_count": 5,
     "metadata": {},
     "output_type": "execute_result"
    }
   ],
   "source": [
    "with open('a-project.yml', 'r', encoding='utf-8') as f:\n",
    "    proj = yaml.load(f.read(), Loader=yaml.FullLoader)\n",
    "proj_name = proj['name']\n",
    "proj_name = 'project/output_FJSJ_11-03/'\n",
    "proj_name"
   ]
  },
  {
   "cell_type": "code",
   "execution_count": 6,
   "metadata": {},
   "outputs": [],
   "source": [
    "filename = proj_name+'Basic_info.yml'\n",
    "with open(filename, 'r', encoding='utf-8') as f:\n",
    "    info_basic = yaml.load(f.read(), Loader=yaml.FullLoader)\n",
    "filename_bi = proj_name+'Basic_info.npy'\n",
    "info_basic_bi = np.load(filename_bi, allow_pickle='TRUE').item()      # setting dictionary"
   ]
  },
  {
   "cell_type": "code",
   "execution_count": 7,
   "metadata": {},
   "outputs": [
    {
     "data": {
      "text/plain": [
       "['14-05',\n",
       " '16-05',\n",
       " '18-05',\n",
       " '20-05',\n",
       " '22-05',\n",
       " '24-05',\n",
       " '26-05',\n",
       " '28-05',\n",
       " '30-05',\n",
       " '32-05',\n",
       " '34-05',\n",
       " '36-05',\n",
       " '38-05',\n",
       " '40-05',\n",
       " '42-05',\n",
       " '44-05',\n",
       " '46-05',\n",
       " '14-07',\n",
       " '16-07',\n",
       " '18-07',\n",
       " '20-07',\n",
       " '22-07',\n",
       " '24-07',\n",
       " '26-07',\n",
       " '28-07',\n",
       " '30-07',\n",
       " '32-07',\n",
       " '34-07',\n",
       " '36-07',\n",
       " '38-07',\n",
       " '40-07',\n",
       " '42-07',\n",
       " '44-07',\n",
       " '46-07',\n",
       " '14-09',\n",
       " '16-09',\n",
       " '18-09',\n",
       " '20-09',\n",
       " '22-09',\n",
       " '24-09',\n",
       " '26-09',\n",
       " '28-09',\n",
       " '30-09',\n",
       " '32-09',\n",
       " '34-09',\n",
       " '36-09',\n",
       " '38-09',\n",
       " '40-09',\n",
       " '42-09',\n",
       " '44-09',\n",
       " '46-09',\n",
       " '14-11',\n",
       " '16-11',\n",
       " '18-11',\n",
       " '20-11',\n",
       " '22-11',\n",
       " '24-11',\n",
       " '26-11',\n",
       " '28-11',\n",
       " '30-11',\n",
       " '32-11',\n",
       " '34-11',\n",
       " '36-11',\n",
       " '38-11',\n",
       " '40-11',\n",
       " '42-11',\n",
       " '44-11',\n",
       " '46-11',\n",
       " '14-13',\n",
       " '16-13',\n",
       " '18-13',\n",
       " '20-13',\n",
       " '22-13',\n",
       " '24-13',\n",
       " '26-13',\n",
       " '28-13',\n",
       " '30-13',\n",
       " '32-13',\n",
       " '34-13',\n",
       " '36-13',\n",
       " '38-13',\n",
       " '40-13',\n",
       " '42-13',\n",
       " '44-13',\n",
       " '46-13',\n",
       " '14-15',\n",
       " '16-15',\n",
       " '18-15',\n",
       " '20-15',\n",
       " '22-15',\n",
       " '24-15',\n",
       " '26-15',\n",
       " '28-15',\n",
       " '30-15',\n",
       " '32-15',\n",
       " '34-15',\n",
       " '36-15',\n",
       " '38-15',\n",
       " '40-15',\n",
       " '42-15',\n",
       " '44-15',\n",
       " '46-15']"
      ]
     },
     "execution_count": 7,
     "metadata": {},
     "output_type": "execute_result"
    }
   ],
   "source": [
    "dir_image = info_basic['dir_image']\n",
    "dir_inv_dispernet = info_basic['dir_inv_dispernet']\n",
    "key_subworks = info_basic['key_subworks']\n",
    "M = len(key_subworks)\n",
    "key_subworks"
   ]
  },
  {
   "cell_type": "code",
   "execution_count": 8,
   "metadata": {},
   "outputs": [
    {
     "name": "stdout",
     "output_type": "stream",
     "text": [
      "Read structure model: 14-05 (1/102)\n",
      "Read structure model: 16-05 (2/102)\n",
      "Read structure model: 18-05 (3/102)\n",
      "Read structure model: 20-05 (4/102)\n",
      "Read structure model: 22-05 (5/102)\n",
      "Read structure model: 24-05 (6/102)\n",
      "Read structure model: 26-05 (7/102)\n",
      "Read structure model: 28-05 (8/102)\n",
      "Read structure model: 30-05 (9/102)\n",
      "Read structure model: 32-05 (10/102)\n",
      "Read structure model: 34-05 (11/102)\n",
      "Read structure model: 36-05 (12/102)\n",
      "Read structure model: 38-05 (13/102)\n",
      "Read structure model: 40-05 (14/102)\n",
      "Read structure model: 42-05 (15/102)\n",
      "Read structure model: 44-05 (16/102)\n",
      "Read structure model: 46-05 (17/102)\n",
      "Read structure model: 14-07 (18/102)\n",
      "Read structure model: 16-07 (19/102)\n",
      "Read structure model: 18-07 (20/102)\n",
      "Read structure model: 20-07 (21/102)\n",
      "Read structure model: 22-07 (22/102)\n",
      "Read structure model: 24-07 (23/102)\n",
      "Read structure model: 26-07 (24/102)\n",
      "Read structure model: 28-07 (25/102)\n",
      "Read structure model: 30-07 (26/102)\n",
      "Read structure model: 32-07 (27/102)\n",
      "Read structure model: 34-07 (28/102)\n",
      "Read structure model: 36-07 (29/102)\n",
      "Read structure model: 38-07 (30/102)\n",
      "Read structure model: 40-07 (31/102)\n",
      "Read structure model: 42-07 (32/102)\n",
      "Read structure model: 44-07 (33/102)\n",
      "Read structure model: 46-07 (34/102)\n",
      "Read structure model: 14-09 (35/102)\n",
      "Read structure model: 16-09 (36/102)\n",
      "Read structure model: 18-09 (37/102)\n",
      "Read structure model: 20-09 (38/102)\n",
      "Read structure model: 22-09 (39/102)\n",
      "Read structure model: 24-09 (40/102)\n",
      "Read structure model: 26-09 (41/102)\n",
      "Read structure model: 28-09 (42/102)\n",
      "Read structure model: 30-09 (43/102)\n",
      "Read structure model: 32-09 (44/102)\n",
      "Read structure model: 34-09 (45/102)\n",
      "Read structure model: 36-09 (46/102)\n",
      "Read structure model: 38-09 (47/102)\n",
      "Read structure model: 40-09 (48/102)\n",
      "Read structure model: 42-09 (49/102)\n",
      "Read structure model: 44-09 (50/102)\n",
      "Read structure model: 46-09 (51/102)\n",
      "Read structure model: 14-11 (52/102)\n",
      "Read structure model: 16-11 (53/102)\n",
      "Read structure model: 18-11 (54/102)\n",
      "Read structure model: 20-11 (55/102)\n",
      "Read structure model: 22-11 (56/102)\n",
      "Read structure model: 24-11 (57/102)\n",
      "Read structure model: 26-11 (58/102)\n",
      "Read structure model: 28-11 (59/102)\n",
      "Read structure model: 30-11 (60/102)\n",
      "Read structure model: 32-11 (61/102)\n",
      "Read structure model: 34-11 (62/102)\n",
      "Read structure model: 36-11 (63/102)\n",
      "Read structure model: 38-11 (64/102)\n",
      "Read structure model: 40-11 (65/102)\n",
      "Read structure model: 42-11 (66/102)\n",
      "Read structure model: 44-11 (67/102)\n",
      "Read structure model: 46-11 (68/102)\n",
      "Read structure model: 14-13 (69/102)\n",
      "Read structure model: 16-13 (70/102)\n",
      "Read structure model: 18-13 (71/102)\n",
      "Read structure model: 20-13 (72/102)\n",
      "Read structure model: 22-13 (73/102)\n",
      "Read structure model: 24-13 (74/102)\n",
      "Read structure model: 26-13 (75/102)\n",
      "Read structure model: 28-13 (76/102)\n",
      "Read structure model: 30-13 (77/102)\n",
      "Read structure model: 32-13 (78/102)\n",
      "Read structure model: 34-13 (79/102)\n",
      "Read structure model: 36-13 (80/102)\n",
      "Read structure model: 38-13 (81/102)\n",
      "Read structure model: 40-13 (82/102)\n",
      "Read structure model: 42-13 (83/102)\n",
      "Read structure model: 44-13 (84/102)\n",
      "Read structure model: 46-13 (85/102)\n",
      "Read structure model: 14-15 (86/102)\n",
      "Read structure model: 16-15 (87/102)\n",
      "Read structure model: 18-15 (88/102)\n",
      "Read structure model: 20-15 (89/102)\n",
      "Read structure model: 22-15 (90/102)\n",
      "Read structure model: 24-15 (91/102)\n",
      "Read structure model: 26-15 (92/102)\n",
      "Read structure model: 28-15 (93/102)\n",
      "Read structure model: 30-15 (94/102)\n",
      "Read structure model: 32-15 (95/102)\n",
      "Read structure model: 34-15 (96/102)\n",
      "Read structure model: 36-15 (97/102)\n",
      "Read structure model: 38-15 (98/102)\n",
      "Read structure model: 40-15 (99/102)\n",
      "Read structure model: 42-15 (100/102)\n",
      "Read structure model: 44-15 (101/102)\n",
      "Read structure model: 46-15 (102/102)\n"
     ]
    }
   ],
   "source": [
    "\n",
    "struc = {}\n",
    "flag = 0\n",
    "file_struc = dir_inv_dispernet + 'structure_model.xlsx'\n",
    "df = pd.read_excel(file_struc,sheet_name=None)\n",
    "for key_subwork in key_subworks:\n",
    "    struc[key_subwork] = df[key_subwork]\n",
    "    flag += 1\n",
    "    print('Read structure model: %s (%d/%d)' % (key_subwork, flag, M))\n"
   ]
  },
  {
   "cell_type": "code",
   "execution_count": 9,
   "metadata": {},
   "outputs": [
    {
     "data": {
      "text/plain": [
       "\"\\nstruc = {}\\nflag = 0\\nfor key_subwork in key_subworks:\\n    file_struc = dir_inv_dispernet + '/model_'+key_subwork+'.txt'\\n    #struc[key_subwork] = np.loadtxt(file_struc)\\n    file = np.loadtxt(file_struc)\\n\\n    flag += 1\\n    print('Read structure model: %s (%d/%d)' % (key_subwork, flag, M))\\n\""
      ]
     },
     "execution_count": 9,
     "metadata": {},
     "output_type": "execute_result"
    }
   ],
   "source": [
    "\"\"\"\n",
    "struc = {}\n",
    "flag = 0\n",
    "for key_subwork in key_subworks:\n",
    "    file_struc = dir_inv_dispernet + '/model_'+key_subwork+'.txt'\n",
    "    #struc[key_subwork] = np.loadtxt(file_struc)\n",
    "    file = np.loadtxt(file_struc)\n",
    "\n",
    "    flag += 1\n",
    "    print('Read structure model: %s (%d/%d)' % (key_subwork, flag, M))\n",
    "\"\"\""
   ]
  },
  {
   "cell_type": "code",
   "execution_count": 10,
   "metadata": {},
   "outputs": [],
   "source": [
    "stalistname = info_basic['stalistname']\n",
    "stainfo = pd.read_excel(stalistname+'.xlsx')\n",
    "nsta_all = len(stainfo.iloc[:,0])\n",
    "StationPairs_all = GetStationPairs(nsta_all)\n",
    "nPairs_all = int(len(StationPairs_all)/2)\n",
    "stalist_all = stainfo['Station'].tolist() \n",
    "lat_all =  stainfo['latitude'].tolist() \n",
    "lon_all =  stainfo['longitude'].tolist() "
   ]
  },
  {
   "cell_type": "code",
   "execution_count": 11,
   "metadata": {},
   "outputs": [
    {
     "data": {
      "text/plain": [
       "0"
      ]
     },
     "execution_count": 11,
     "metadata": {},
     "output_type": "execute_result"
    }
   ],
   "source": [
    "#找到stalist_all中命名为R0101的台站的索引\n",
    "index = stalist_all.index('R0101')\n",
    "index"
   ]
  },
  {
   "cell_type": "code",
   "execution_count": 12,
   "metadata": {},
   "outputs": [],
   "source": [
    "key_subworks = info_basic['key_subworks']\n",
    "lat_this = []\n",
    "lon_this = []\n",
    "for key_subwork in key_subworks:\n",
    "    if key_subwork in stalist_all:\n",
    "        lat_this.append(lat_all[stalist_all.index(key_subwork)])\n",
    "        lon_this.append(lon_all[stalist_all.index(key_subwork)])\n",
    "    else:\n",
    "        key1 = 'R' + str(int(key_subwork[0:2])-1).zfill(2)+key_subwork[3:5]\n",
    "        key2 = 'R' + str(int(key_subwork[0:2])+1).zfill(2)+key_subwork[3:5]\n",
    "        indx1 = stalist_all.index(key1)\n",
    "        indx2 = stalist_all.index(key2)\n",
    "        lat_this.append((lat_all[indx1]+lat_all[indx2])/2)\n",
    "        lon_this.append((lon_all[indx1]+lon_all[indx2])/2)"
   ]
  },
  {
   "cell_type": "markdown",
   "metadata": {},
   "source": [
    "### Plot horizontal of certain depth"
   ]
  },
  {
   "cell_type": "code",
   "execution_count": 13,
   "metadata": {},
   "outputs": [],
   "source": [
    "def extract_horizontal(M,N,key_subworks,lat_all,lon_all):\n",
    "    rows = []\n",
    "    cols = []\n",
    "\n",
    "    vs_all = np.zeros(len(key_subworks))\n",
    "    lats_this = np.zeros(len(key_subworks))\n",
    "    lons_this = np.zeros(len(key_subworks))\n",
    "\n",
    "    for i in range(len(key_subworks)):\n",
    "        key_subwork = key_subworks[i]\n",
    "        key = 'R' +  key_subwork[0:2]+key_subwork[3:5]\n",
    "        rows.append(int(key_subwork[3:5]))\n",
    "        cols.append(int(key_subwork[0:2]))\n",
    "        if key in stalist_all:\n",
    "            indx = stalist_all.index(key)\n",
    "            lats_this[i] = lat_all[indx]\n",
    "            lons_this[i] = lon_all[indx]\n",
    "            vs_all[i] = struc[key_subwork]['vs'].tolist()[N-1]\n",
    "        else:\n",
    "            key1 = 'R' + str(int(key_subwork[0:2])-1).zfill(2)+key_subwork[3:5]\n",
    "            key2 = 'R' + str(int(key_subwork[0:2])+1).zfill(2)+key_subwork[3:5]\n",
    "            indx1 = stalist_all.index(key1)\n",
    "            indx2 = stalist_all.index(key2)\n",
    "            lats_this[i] = (lat_all[indx1]+lat_all[indx2])/2\n",
    "            lons_this[i] = (lon_all[indx1]+lon_all[indx2])/2\n",
    "            vs_all[i] = struc[key_subwork]['vs'].tolist()[N]\n",
    "\n",
    "    rows_flag = set(np.sort(rows))\n",
    "    cols_flag = set(np.sort(cols))\n",
    "\n",
    "    # reshape\n",
    "    vs = np.zeros((len(rows_flag),len(cols_flag)))\n",
    "    lats = np.zeros((len(rows_flag),len(cols_flag)))\n",
    "    lons = np.zeros((len(rows_flag),len(cols_flag)))\n",
    "    for i in range(len(rows_flag)):\n",
    "        for j in range(len(cols_flag)):\n",
    "            indx = i*len(cols_flag)+j\n",
    "            vs[i,j] = vs_all[indx]\n",
    "            lats[i,j] = lats_this[indx]\n",
    "            lons[i,j] = lons_this[indx]\n",
    "\n",
    "    # 2D interpolation\n",
    "    xi = np.linspace(min(lons_this),max(lons_this),M)\n",
    "    yi = np.linspace(min(lats_this),max(lats_this),M)\n",
    "    # grid the data\n",
    "    zi = griddata((lons_this, lats_this), vs_all, (xi[None,:], yi[:,None]), method='cubic')\n",
    "    return zi,lats_this,lons_this"
   ]
  },
  {
   "cell_type": "code",
   "execution_count": 14,
   "metadata": {},
   "outputs": [],
   "source": [
    "# fault surface trace\n",
    "data = gp.read_file('Qfaults_GIS/SHP/Qfaults_US_Database.shp')\n",
    "lons_clark1 = np.array(data.geometry[22150].coords.xy[0])\n",
    "lats_clark1 = np.array(data.geometry[22150].coords.xy[1])\n",
    "lons_clark2 = np.array(data.geometry[22151].coords.xy[0])\n",
    "lats_clark2 = np.array(data.geometry[22151].coords.xy[1])\n",
    "lons_clark3 = np.array(data.geometry[22152].coords.xy[0])\n",
    "lats_clark3 = np.array(data.geometry[22152].coords.xy[1])\n",
    "lons_clark4 = np.array(data.geometry[21973].coords.xy[0])\n",
    "lats_clark4 = np.array(data.geometry[21973].coords.xy[1])\n",
    "lons_clark5 = np.array(data.geometry[22148].coords.xy[0])\n",
    "lats_clark5 = np.array(data.geometry[22148].coords.xy[1])"
   ]
  },
  {
   "cell_type": "code",
   "execution_count": 15,
   "metadata": {},
   "outputs": [],
   "source": [
    "%%capture\n",
    "M = 500\n",
    "dz = 5\n",
    "N = 100\n",
    "c_min = 0.6\n",
    "c_max = 1.4\n",
    "\n",
    "\n",
    "N = 10\n",
    "\n",
    "for i in range(N):\n",
    "#for i in range(1,3):\n",
    "    vs,lats_all,lons_all = extract_horizontal(M,i,key_subworks,lat_all,lon_all)\n",
    "    fig,ax = plt.subplots(1,1,figsize=(10,7))\n",
    "    ax.scatter(lon_all, lat_all,marker='.',color='k')\n",
    "    #ax.set_xticks([])  #去掉横坐标值\n",
    "    #ax.set_yticks([])  #去掉纵坐标值\n",
    "    ax.set_xlabel('Longitude')\n",
    "    ax.set_ylabel('Latitude')\n",
    "    ax.set_title('Vs at depth '+str((i+1)*dz))\n",
    "    flag_add = 0.0005\n",
    "    ax.set_xlim([min(lon_all)-flag_add, max(lon_all)+flag_add])\n",
    "    ax.set_ylim([min(lat_all)-flag_add, max(lat_all)+flag_add])\n",
    "    # Vs plot\n",
    "    #cbar = np.linspace(c_min,c_max,20)\n",
    "    im = ax.imshow(vs, vmin= c_min, vmax=c_max, origin='lower', extent=[min(lon_all), max(lon_all), min(lat_all), max(lat_all)], aspect='auto',cmap='gist_rainbow')\n",
    "    #im = ax.imshow(vs, origin='lower', extent=[min(lon_all), max(lon_all), min(lat_all), max(lat_all)], aspect='auto',cmap='gist_rainbow')\n",
    "    #im = ax.contourf(xi,yi,zi,15,cmap=plt.cm.jet,vmin=c_min, vmax=c_max)\n",
    "    plt.colorbar(im)\n",
    "\n",
    "    ax.plot(lons_clark1, lats_clark1, 'k')\n",
    "    ax.plot(lons_clark2, lats_clark2, 'k')\n",
    "    ax.plot(lons_clark3, lats_clark3, 'k')\n",
    "    ax.plot(lons_clark4, lats_clark4, 'k')\n",
    "    ax.plot(lons_clark5, lats_clark5, 'k')\n",
    "    #ax.plot(lons_coyote, lats_coyote, 'k')\n",
    "\n",
    "    filename = dir_image + 'Vs_hori_profile_'+str((i+1)*dz)+'m.png'\n",
    "    plt.savefig(filename,dpi=100)"
   ]
  },
  {
   "cell_type": "code",
   "execution_count": 16,
   "metadata": {},
   "outputs": [
    {
     "data": {
      "text/plain": [
       "<matplotlib.colorbar.Colorbar at 0x7facba92a890>"
      ]
     },
     "execution_count": 16,
     "metadata": {},
     "output_type": "execute_result"
    },
    {
     "data": {
      "image/png": "[encoded data removed]",
      "text/plain": [
       "<Figure size 640x480 with 2 Axes>"
      ]
     },
     "metadata": {},
     "output_type": "display_data"
    }
   ],
   "source": [
    "plt.imshow(vs, vmin= c_min, vmax=c_max, origin='lower', extent=[min(lon_all), max(lon_all), min(lat_all), max(lat_all)], aspect='auto',cmap='gist_rainbow')\n",
    "plt.colorbar()"
   ]
  },
  {
   "cell_type": "code",
   "execution_count": 33,
   "metadata": {},
   "outputs": [
    {
     "name": "stdout",
     "output_type": "stream",
     "text": [
      "[       nan        nan        nan        nan        nan        nan\n",
      "        nan        nan        nan        nan        nan        nan\n",
      "        nan        nan        nan        nan        nan        nan\n",
      "        nan        nan        nan        nan        nan        nan\n",
      "        nan        nan        nan        nan        nan        nan\n",
      "        nan        nan        nan        nan        nan        nan\n",
      "        nan        nan        nan        nan        nan        nan\n",
      "        nan        nan        nan        nan        nan        nan\n",
      "        nan        nan        nan        nan        nan        nan\n",
      "        nan        nan        nan        nan        nan        nan\n",
      "        nan        nan        nan        nan        nan        nan\n",
      "        nan        nan        nan        nan        nan        nan\n",
      "        nan        nan        nan        nan        nan        nan\n",
      "        nan        nan        nan        nan        nan        nan\n",
      "        nan        nan        nan        nan        nan        nan\n",
      "        nan        nan        nan        nan        nan        nan\n",
      "        nan        nan        nan        nan        nan        nan\n",
      "        nan        nan        nan        nan        nan        nan\n",
      "        nan        nan        nan        nan        nan        nan\n",
      "        nan        nan        nan        nan        nan        nan\n",
      "        nan        nan        nan        nan        nan        nan\n",
      "        nan        nan        nan        nan 0.66818878 0.67991984\n",
      " 0.67697407 0.67472225 0.67255107 0.67045207 0.66841685 0.66643696\n",
      " 0.66450398 0.66260649 0.66073225 0.65888453 0.65706755 0.65528551\n",
      " 0.65354457 0.65185374 0.65021604 0.64863414 0.6471107  0.64564837\n",
      " 0.64424916 0.64286217 0.64146411 0.64006885 0.63869026 0.6373542\n",
      " 0.63611423 0.63498153 0.6339633  0.63306677 0.63229917 0.63163902\n",
      " 0.63100091 0.63038154 0.6297842  0.62921221 0.62866888 0.62815882\n",
      " 0.62774921 0.62749183 0.62740841 0.62752067 0.62785035 0.62837439\n",
      " 0.62903956 0.62983375 0.63074493 0.63175889 0.63273009 0.63354452\n",
      " 0.63415788 0.63453763 0.63524331 0.63650846 0.63820354 0.64019903\n",
      " 0.64236539 0.64457174 0.64670183 0.64872396 0.65061726 0.65234831\n",
      " 0.65388383 0.65519062 0.65623548 0.6569852  0.65740704 0.65749752\n",
      " 0.6572993  0.65685907 0.65622356 0.65546593 0.65463026 0.65372457\n",
      " 0.65275689 0.65173525 0.65066767 0.64956217 0.64842678 0.64726953\n",
      " 0.64609844 0.64492153 0.64374684 0.64258238 0.64143619 0.64031628\n",
      " 0.63923068 0.63818742 0.63721439 0.63626337 0.63539284 0.63458957\n",
      " 0.63385452 0.63319359 0.632609   0.63210298 0.63167778 0.63133563\n",
      " 0.63107875 0.63090939 0.63082977 0.63084213 0.6309487  0.63115172\n",
      " 0.63145342 0.63185603 0.63236179 0.63297293 0.63369168 0.63452028\n",
      " 0.63546095 0.63651594 0.6376998  0.6390424  0.64055631 0.64225372\n",
      " 0.644147   0.64625728 0.648606   0.65121112 0.65393306 0.656593\n",
      " 0.65912011 0.66144357 0.66367636 0.66595832 0.66825607 0.67053622\n",
      " 0.67276538 0.67491015 0.67693716 0.67881202 0.68049622 0.68195017\n",
      " 0.68313431 0.68400907 0.68453488 0.68486295 0.68509765 0.68503967\n",
      " 0.68448867 0.68329455 0.68168446 0.67992908 0.67828136 0.67699429\n",
      " 0.67629551 0.67564428 0.67475721 0.67367145 0.67242415 0.67105247\n",
      " 0.66959362 0.66816431 0.66687508 0.66576663 0.66487965 0.66425458\n",
      " 0.66388886 0.66374375 0.66379129 0.66400353 0.66435249 0.66481022\n",
      " 0.66535019 0.66596627 0.66666738 0.6674628  0.66836178 0.66937359\n",
      " 0.67050748 0.67177272 0.6732182  0.67490722 0.67680218 0.67886273\n",
      " 0.68083328 0.68245506 0.68366695 0.68435177 0.68448399 0.6841757\n",
      " 0.68353944 0.68270677 0.68200138 0.68150663 0.68122296 0.68115082\n",
      " 0.68129067 0.68164294 0.68220809 0.68298657 0.68397882 0.68518529\n",
      " 0.68660643 0.68824268 0.6900945  0.69216233 0.69444663 0.69694783\n",
      " 0.69966638 0.70260274 0.70574441 0.70977515 0.71764372 0.73274296\n",
      " 0.76187756 0.68694453 0.6840126         nan        nan        nan\n",
      "        nan        nan        nan        nan        nan        nan\n",
      "        nan        nan        nan        nan        nan        nan\n",
      "        nan        nan        nan        nan        nan        nan\n",
      "        nan        nan        nan        nan        nan        nan\n",
      "        nan        nan        nan        nan        nan        nan\n",
      "        nan        nan        nan        nan        nan        nan\n",
      "        nan        nan        nan        nan        nan        nan\n",
      "        nan        nan        nan        nan        nan        nan\n",
      "        nan        nan        nan        nan        nan        nan\n",
      "        nan        nan        nan        nan        nan        nan\n",
      "        nan        nan        nan        nan        nan        nan\n",
      "        nan        nan        nan        nan        nan        nan\n",
      "        nan        nan        nan        nan        nan        nan\n",
      "        nan        nan        nan        nan        nan        nan\n",
      "        nan        nan        nan        nan        nan        nan\n",
      "        nan        nan        nan        nan        nan        nan\n",
      "        nan        nan        nan        nan        nan        nan\n",
      "        nan        nan        nan        nan        nan        nan\n",
      "        nan        nan        nan        nan        nan        nan\n",
      "        nan        nan        nan        nan        nan        nan\n",
      "        nan        nan        nan        nan        nan        nan\n",
      "        nan        nan        nan        nan        nan        nan\n",
      "        nan        nan        nan        nan        nan        nan\n",
      "        nan        nan        nan        nan        nan        nan\n",
      "        nan        nan        nan        nan        nan        nan\n",
      "        nan        nan        nan        nan        nan        nan\n",
      "        nan        nan]\n"
     ]
    },
    {
     "data": {
      "image/png": "[encoded data removed]",
      "text/plain": [
       "<Figure size 640x480 with 1 Axes>"
      ]
     },
     "metadata": {},
     "output_type": "display_data"
    }
   ],
   "source": [
    "#查看vs的数据类型\n",
    "plt.plot(vs[100])\n",
    "print(vs[100])"
   ]
  },
  {
   "cell_type": "code",
   "execution_count": 18,
   "metadata": {},
   "outputs": [
    {
     "data": {
      "text/plain": [
       "array([33.536747, 33.536861, 33.536953, 33.537075, 33.537205, 33.5373  ,\n",
       "       33.537399, 33.537529, 33.537628, 33.537735, 33.537849, 33.537968,\n",
       "       33.538048, 33.538174, 33.538296, 33.53838 , 33.538502, 33.53717 ,\n",
       "       33.537308, 33.537415, 33.537521, 33.537655, 33.537735, 33.537846,\n",
       "       33.537949, 33.538052, 33.538162, 33.538288, 33.538383, 33.53849 ,\n",
       "       33.538597, 33.538712, 33.538818, 33.538933, 33.537613, 33.537724,\n",
       "       33.537827, 33.537933, 33.538078, 33.538158, 33.538273, 33.538399,\n",
       "       33.538486, 33.538597, 33.538704, 33.538811, 33.538914, 33.539036,\n",
       "       33.539135, 33.539268, 33.53936 , 33.538036, 33.53812 , 33.5383  ,\n",
       "       33.538376, 33.538506, 33.53862 , 33.538696, 33.538826, 33.538929,\n",
       "       33.539032, 33.539112, 33.539257, 33.53936 , 33.539448, 33.539574,\n",
       "       33.539661, 33.539783, 33.538486, 33.538593, 33.5387  , 33.538799,\n",
       "       33.538944, 33.539043, 33.53915 , 33.53928 , 33.539364, 33.539478,\n",
       "       33.539593, 33.539688, 33.53978 , 33.539886, 33.539989, 33.540096,\n",
       "       33.540222, 33.538933, 33.539032, 33.53915 , 33.539261, 33.539368,\n",
       "       33.539467, 33.539581, 33.539684, 33.539803, 33.539909, 33.540024,\n",
       "       33.540127, 33.540226, 33.54034 , 33.540421, 33.540546, 33.540661])"
      ]
     },
     "execution_count": 18,
     "metadata": {},
     "output_type": "execute_result"
    }
   ],
   "source": [
    "lats_all"
   ]
  },
  {
   "cell_type": "code",
   "execution_count": 19,
   "metadata": {},
   "outputs": [
    {
     "data": {
      "text/plain": [
       "33.536747"
      ]
     },
     "execution_count": 19,
     "metadata": {},
     "output_type": "execute_result"
    }
   ],
   "source": [
    "min(lats_all)"
   ]
  },
  {
   "cell_type": "markdown",
   "metadata": {},
   "source": [
    "### Do clipper"
   ]
  },
  {
   "cell_type": "code",
   "execution_count": 12,
   "metadata": {},
   "outputs": [],
   "source": [
    "def extract_verticle(row_tag,N,M,key_subworks):\n",
    "    key_subworks_lists = []\n",
    "    rows = []\n",
    "    cols = []\n",
    "    for key_subwork in key_subworks:\n",
    "        row = key_subwork[3:5]\n",
    "        col = key_subwork[0:2] \n",
    "        if row == str(row_tag):\n",
    "            key_subworks_lists.append(key_subwork)\n",
    "            rows.append(row)\n",
    "            cols.append(col)\n",
    "    \n",
    "    # 根据行号排序\n",
    "    rows = np.array(rows)\n",
    "    cols = np.array(cols)\n",
    "    indx = np.argsort(cols)\n",
    "    rows = rows[indx]\n",
    "    cols = cols[indx]\n",
    "    key_subworks_lists = np.array(key_subworks_lists)\n",
    "    key_subworks_lists = key_subworks_lists[indx]\n",
    "\n",
    "    vs = np.zeros((len(key_subworks_lists),N))\n",
    "    rs = np.zeros(len(key_subworks_lists))\n",
    "    \n",
    "    # 定义起始点的坐标\n",
    "    key_start = 'R' + cols[0] + rows[0]\n",
    "    if key_start in stalist_all:\n",
    "        indx = stalist_all.index(key_start)\n",
    "        lat_start = lat_all[indx]\n",
    "        lon_start = lon_all[indx]\n",
    "    else:\n",
    "        key1 = 'R' + str(int(cols[0])-1).zfill(2)+rows[0]\n",
    "        key2 = 'R' + str(int(cols[0])+1).zfill(2)+rows[0]\n",
    "        indx1 = stalist_all.index(key1)\n",
    "        indx2 = stalist_all.index(key2)\n",
    "        lat_start = (lat_all[indx1]+lat_all[indx2])/2\n",
    "        lon_start = (lon_all[indx1]+lon_all[indx2])/2\n",
    "\n",
    "    # 算r\n",
    "    flag_this = 0\n",
    "    for key_subwork in key_subworks_lists:\n",
    "        key = 'R' +  key_subwork[0:2]+key_subwork[3:5]\n",
    "        \n",
    "        if key in stalist_all:\n",
    "            indx = stalist_all.index(key)\n",
    "            rs[flag_this] = great_circle((lat_start,lon_start),(lat_all[indx],lon_all[indx])).m\n",
    "            vs[flag_this,:] = struc[key_subwork]['vs'].tolist()\n",
    "        else:\n",
    "            key1 = 'R' + str(int(key_subwork[0:2])-1).zfill(2)+key_subwork[3:5]\n",
    "            key2 = 'R' + str(int(key_subwork[0:2])+1).zfill(2)+key_subwork[3:5]\n",
    "            indx1 = stalist_all.index(key1)\n",
    "            indx2 = stalist_all.index(key2)\n",
    "            lat_this = (lat_all[indx1]+lat_all[indx2])/2\n",
    "            lon_this = (lon_all[indx1]+lon_all[indx2])/2\n",
    "            rs[flag_this] = great_circle((lat_start,lon_start),(lat_this,lon_this)).m\n",
    "            vs[flag_this,:] = struc[key_subwork]['vs'].tolist()\n",
    "        flag_this += 1\n",
    "    vs = np.array(vs)\n",
    "\n",
    "    # 插值\n",
    "    vs_interp = np.zeros((M*len(rs),N))\n",
    "    for i in range(N):\n",
    "        f = interp1d(rs, vs[:,i], kind='cubic')\n",
    "        vs_interp[:,i] = f(np.linspace(0,rs[-1],M*len(rs)))\n",
    "    return vs_interp,np.linspace(0,rs[-1],M*len(rs))"
   ]
  },
  {
   "cell_type": "code",
   "execution_count": 13,
   "metadata": {},
   "outputs": [],
   "source": [
    "%%capture\n",
    "N = 100\n",
    "M = 20\n",
    "c_min = 0.4\n",
    "c_max = 1.6\n",
    "for i in range(5,16,2):\n",
    "#for i in range(3,4):\n",
    "    print(i)\n",
    "    row_tag = str(i).zfill(2)\n",
    "    vs,rs = extract_verticle(row_tag,N,M,key_subworks)\n",
    "    fig,ax = plt.subplots(1,1,figsize=(12,6))\n",
    "    im = ax.imshow(vs.T,aspect='auto',cmap='gist_rainbow',vmin=c_min, vmax=c_max,extent=[0,rs[-1],N*dz,0])\n",
    "    ax.set_xlabel('Distance along the profile (m)')\n",
    "    ax.set_ylabel('Depth (m)')\n",
    "    ax.set_title('Vs profile at row '+row_tag)\n",
    "    #在图中展示colorbar\n",
    "    cbar = fig.colorbar(im)\n",
    "    filename = dir_image + 'Vs_profile_row_'+row_tag+'.png'\n",
    "    plt.savefig(filename,dpi=100)"
   ]
  },
  {
   "cell_type": "code",
   "execution_count": null,
   "metadata": {},
   "outputs": [],
   "source": []
  }
 ],
 "metadata": {
  "kernelspec": {
   "display_name": "base",
   "language": "python",
   "name": "python3"
  },
  "language_info": {
   "codemirror_mode": {
    "name": "ipython",
    "version": 3
   },
   "file_extension": ".py",
   "mimetype": "text/x-python",
   "name": "python",
   "nbconvert_exporter": "python",
   "pygments_lexer": "ipython3",
   "version": "3.10.13"
  },
  "orig_nbformat": 4
 },
 "nbformat": 4,
 "nbformat_minor": 2
}
