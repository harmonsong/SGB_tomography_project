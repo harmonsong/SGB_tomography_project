{
 "cells": [
  {
   "cell_type": "code",
   "execution_count": null,
   "metadata": {},
   "outputs": [],
   "source": [
    "import sys\n",
    "import yaml\n",
    "sys.path.append('/home/harmon/data/Codes/FJ-codes/DisperNetLocal/')\n",
    "import dispernet_local_latest as dispernet\n",
    "import numpy as np\n",
    "import os\n",
    "import matplotlib.pyplot as plt"
   ]
  },
  {
   "cell_type": "code",
   "execution_count": null,
   "metadata": {},
   "outputs": [],
   "source": [
    "with open('a-project.yml', 'r', encoding='utf-8') as f:\n",
    "    proj = yaml.load(f.read(), Loader=yaml.FullLoader)\n",
    "proj_name = proj['name']\n",
    "proj_name = 'output_FJSJ_09-10/'"
   ]
  },
  {
   "cell_type": "code",
   "execution_count": null,
   "metadata": {},
   "outputs": [],
   "source": [
    "filename = proj_name+'Basic_info.yml'\n",
    "with open(filename, 'r', encoding='utf-8') as f:\n",
    "    info_basic = yaml.load(f.read(), Loader=yaml.FullLoader)\n",
    "filename_bi = proj_name+'Basic_info.npy'\n",
    "info_basic_bi = np.load(filename_bi, allow_pickle='TRUE').item()      # setting dictionary"
   ]
  },
  {
   "cell_type": "code",
   "execution_count": null,
   "metadata": {},
   "outputs": [],
   "source": [
    "dir_ds = info_basic['dir_ds']\n",
    "key_ds = info_basic['key_subworks']\n",
    "#key_ds = ['09-04']\n",
    "\n",
    "# create workspace for Dispernet\n",
    "dir_inv = proj_name+'inv_dispernet/'\n",
    "if not os.path.exists(dir_inv):\n",
    "    os.makedirs(dir_inv)\n",
    "info_basic['dir_inv_dispernet'] = dir_inv\n",
    "\n",
    "with open(proj_name+'Basic_info.yml', 'w', encoding='utf-8') as f:\n",
    "   yaml.dump(data=info_basic, stream=f, allow_unicode=True)"
   ]
  },
  {
   "cell_type": "code",
   "execution_count": null,
   "metadata": {},
   "outputs": [],
   "source": [
    "workPath = dir_inv\n",
    "filePath = workPath + 'h5/'\n",
    "curveFilePath = workPath + 'data_period/'\n",
    "threshold = 0.1\n",
    "freqSeries = info_basic_bi['f']"
   ]
  },
  {
   "cell_type": "code",
   "execution_count": null,
   "metadata": {},
   "outputs": [],
   "source": [
    "workPath"
   ]
  },
  {
   "cell_type": "code",
   "execution_count": null,
   "metadata": {},
   "outputs": [],
   "source": [
    "f = info_basic_bi['f']\n",
    "# 提取f小于0.5并且大于0.1的频率\n",
    "f = f[(f>0.1) & (f<0.5)]"
   ]
  },
  {
   "cell_type": "code",
   "execution_count": null,
   "metadata": {},
   "outputs": [],
   "source": [
    "f"
   ]
  },
  {
   "cell_type": "code",
   "execution_count": null,
   "metadata": {},
   "outputs": [],
   "source": [
    "curveFilePath"
   ]
  },
  {
   "cell_type": "code",
   "execution_count": null,
   "metadata": {},
   "outputs": [],
   "source": [
    "def get_file_list(basis_dir=\"./\", begin=\"\", end=\"\"):\n",
    "\t\tpath_list = os.listdir(basis_dir)\n",
    "\t\tlist_final = []\n",
    "\t\tfor partial in path_list:\n",
    "\t\t\tif begin and end:\n",
    "\t\t\t\tif partial[:len(begin)] == begin and partial[-len(end):] == end:\n",
    "\t\t\t\t\tlist_final.append(partial)\n",
    "\t\t\t\t\t\n",
    "\t\t\telif end:\n",
    "\t\t\t\tif partial[-len(end):] == end and partial[0] != '.':\n",
    "\t\t\t\t\tlist_final.append(partial)\n",
    "\t\t\t\n",
    "\t\t\telif begin:\n",
    "\t\t\t\tif partial[:len(begin)] == begin:\n",
    "\t\t\t\t\tlist_final.append(partial)\n",
    "\t\t\t\t\t\n",
    "\t\t\telse:\n",
    "\t\t\t\tlist_final.append(partial)\n",
    "\t\t\t\t\n",
    "\t\treturn list_final\n",
    "\t\t\n",
    "def curve_save(curve, fileName, curveFilePath='./'):\n",
    "\t\tif curve == [] or np.array(curve).ndim < 2:\n",
    "\t\t\tprint('No curves to save yet.')\n",
    "\t\telse:\n",
    "\t\t\tif len(curve) > 1:\n",
    "\t\t\t\tif curve.shape[1] !=2 and  curve.shape[1] !=4:\n",
    "\t\t\t\t\tcurve = curve[np.argsort(curve[:,-1])]\n",
    "\t\t\t\t\tfor mode in range(int(max(curve[:,-1])+1)):\n",
    "\t\t\t\t\t\tcurveInMode = curve[curve[:,-1] == mode]\t\t\t\t\t\n",
    "\t\t\t\t\t\tcurve[curve[:,-1] == mode] = curveInMode[np.argsort(curveInMode[:,0])]\n",
    "\t\t\t\n",
    "\t\t\tif curve.shape[1] > 2:\t\t\n",
    "\t\t\t\tnp.savetxt(curveFilePath + fileName[:-3] + 'curve.txt', curve, fmt='%.6f  %.6f  %i')\n",
    "\t\t\telse:\n",
    "\t\t\t\tnp.savetxt(curveFilePath + fileName[:-3] + 'curve.txt', curve, fmt='%.6f  %.6f')\n",
    "\t\t\tprint('Curve file saved. ('+str(len(curve)) + ' points)')\n"
   ]
  },
  {
   "cell_type": "code",
   "execution_count": null,
   "metadata": {},
   "outputs": [],
   "source": [
    "h5FileList = get_file_list(filePath, end='.h5')\n",
    "h5FileList"
   ]
  },
  {
   "cell_type": "code",
   "execution_count": null,
   "metadata": {},
   "outputs": [],
   "source": [
    "\n",
    "\n",
    "ii = 0\n",
    "\n",
    "modeImage = []\n",
    "\n",
    "for fileName in h5FileList:\n",
    "\t\n",
    "\tii +=1\n",
    "\t\n",
    "#\tprint(fileName[3:7])\n",
    "\tprint(fileName)\n",
    "\t\n",
    "\n",
    "\t\t\n",
    "\tfileFullPath = os.path.join(filePath, fileName)\n",
    "\t\n",
    "\tspec, freq, velo = dispernet.readh5(fileFullPath)\n",
    "\t\n",
    "\tspec[np.isnan(spec)] = 0\n",
    "\t\n",
    "\tif np.sum(spec) == 0:\n",
    "\t\tcontinue\n",
    "\n",
    "\tthreshold_set=threshold\n",
    "\t\n",
    "\tcurve = []\n",
    "\t\n",
    "\tpSpec, period = dispernet.freq2Period(spec, freq, cutRate=0.1)\n",
    "\tpSpec = pSpec/np.max(pSpec)\n",
    "\tprint(pSpec.shape)\n",
    "\tcurveInPeriod = []\n",
    "\n",
    "\tfor pdsInd in range(len(period)):\n",
    "\t\tpds = period[pdsInd]\n",
    "\t\tflag = 0\n",
    "\t\tfor veloId, veloValue in enumerate(np.linspace(np.min(velo), np.max(velo), pSpec.shape[0])):\n",
    "\t\t\t\n",
    "\t\t\tif pSpec[veloId, pdsInd] > threshold_set and flag == 0:\n",
    "\t\t\t\tflag = 1\n",
    "\t\t\t\tbegin_velo = veloValue\n",
    "\t\t\t\t\n",
    "\t\t\telif flag == 1 and pSpec[veloId, pdsInd] <  threshold_set:\n",
    "\t\t\t\tmid_velo = begin_velo + (veloValue - begin_velo)/2\n",
    "#\t\t\t\tcurveInPeriod.append([1/pds, begin_velo, 0])\n",
    "\t\t\t\tcurveInPeriod.append([1/pds, mid_velo])\n",
    "#\t\t\t\tcurveInPeriod.append([1/pds, veloValue,2])\n",
    "\t\t\t\tflag = 0\n",
    "\t\t\t\t\n",
    "\t\t\t\t\n",
    "\tcurveInPeriod = np.array(curveInPeriod)\n",
    "\tif len(curve) == 0:\n",
    "\t\tcurve = curveInPeriod\n",
    "\telse:\n",
    "\t\tif curve.shape[1] == 3:\n",
    "\t\t\tcurveInPeriod = np.hstack((curveInPeriod, np.zeros([len(curveInPeriod),1])))\n",
    "\t\t\t\n",
    "\t\tcurve = curve[curve[:,0] > 0.1]\n",
    "\t\tcurve = np.vstack([curveInPeriod, curve])\n",
    "\t\t\n",
    "\tcurve_save(curve, fileName , curveFilePath)\n",
    "\t\t"
   ]
  }
 ],
 "metadata": {
  "kernelspec": {
   "display_name": "disper",
   "language": "python",
   "name": "python3"
  },
  "language_info": {
   "codemirror_mode": {
    "name": "ipython",
    "version": 3
   },
   "file_extension": ".py",
   "mimetype": "text/x-python",
   "name": "python",
   "nbconvert_exporter": "python",
   "pygments_lexer": "ipython3",
   "version": "3.10.11"
  },
  "orig_nbformat": 4
 },
 "nbformat": 4,
 "nbformat_minor": 2
}
