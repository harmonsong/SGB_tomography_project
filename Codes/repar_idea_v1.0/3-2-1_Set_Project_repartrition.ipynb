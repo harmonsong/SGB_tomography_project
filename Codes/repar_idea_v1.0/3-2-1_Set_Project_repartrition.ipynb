{
 "cells": [
  {
   "cell_type": "code",
   "execution_count": 12,
   "metadata": {},
   "outputs": [],
   "source": [
    "import numpy as np\n",
    "import os\n",
    "import shutil\n",
    "import yaml"
   ]
  },
  {
   "cell_type": "markdown",
   "metadata": {},
   "source": [
    "### Set Workspace"
   ]
  },
  {
   "cell_type": "code",
   "execution_count": 13,
   "metadata": {},
   "outputs": [],
   "source": [
    "name_project = 'output_repar_06-02/'\n",
    "name_project_based = 'project/output_FJSJ_17-05/'"
   ]
  },
  {
   "cell_type": "code",
   "execution_count": 14,
   "metadata": {},
   "outputs": [
    {
     "data": {
      "text/plain": [
       "'06-02'"
      ]
     },
     "execution_count": 14,
     "metadata": {},
     "output_type": "execute_result"
    }
   ],
   "source": [
    "# 找到name_project中的第二个'_'的index\n",
    "tag = name_project[ name_project.find('_', name_project.find('_') + 1)+1: -1]\n",
    "name_project = 'project_repartrition/' + name_project\n",
    "tag"
   ]
  },
  {
   "cell_type": "code",
   "execution_count": 15,
   "metadata": {},
   "outputs": [],
   "source": [
    "proj = {}\n",
    "proj['name'] = name_project\n",
    "with open('a-project_repar.yml', 'w') as f:\n",
    "    yaml.dump(proj, f)"
   ]
  },
  {
   "cell_type": "code",
   "execution_count": 16,
   "metadata": {},
   "outputs": [
    {
     "name": "stdout",
     "output_type": "stream",
     "text": [
      "dir_CC_workspace:  /shdisk/rem2/Harmon/F-J/San/\n",
      "dir_project_workspace:  /shdisk/rem2/Harmon/F-J/San/\n",
      "dir_project:  /shdisk/rem2/Harmon/F-J/San/project_repartrition/output_repar_06-02/\n",
      "dir_project_based:  /shdisk/rem2/Harmon/F-J/San/project/output_FJSJ_17-05/\n"
     ]
    }
   ],
   "source": [
    "with open('0_config.yml', 'r', encoding='utf-8') as f:\n",
    "    dir_config = yaml.load(f.read(), Loader=yaml.FullLoader)\n",
    "dir_project_workspace = dir_config['dir_project_workspace']\n",
    "dir_CC_workspace = dir_config['dir_CC_workspace']\n",
    "print('dir_CC_workspace: ', dir_CC_workspace)\n",
    "print('dir_project_workspace: ', dir_project_workspace)\n",
    "dir_project = dir_project_workspace + name_project\n",
    "dir_project_based = dir_project_workspace + name_project_based\n",
    "print('dir_project: ', dir_project)\n",
    "print('dir_project_based: ', dir_project_based)"
   ]
  },
  {
   "cell_type": "code",
   "execution_count": 17,
   "metadata": {},
   "outputs": [
    {
     "ename": "FileNotFoundError",
     "evalue": "[Errno 2] No such file or directory: '/shdisk/rem2/Harmon/F-J/San/project/output_FJSJ_17-05/Basic_info.yml'",
     "output_type": "error",
     "traceback": [
      "\u001b[0;31m---------------------------------------------------------------------------\u001b[0m",
      "\u001b[0;31mFileNotFoundError\u001b[0m                         Traceback (most recent call last)",
      "Cell \u001b[0;32mIn[17], line 2\u001b[0m\n\u001b[1;32m      1\u001b[0m filename \u001b[38;5;241m=\u001b[39m dir_project_based\u001b[38;5;241m+\u001b[39m\u001b[38;5;124m'\u001b[39m\u001b[38;5;124mBasic_info.yml\u001b[39m\u001b[38;5;124m'\u001b[39m\n\u001b[0;32m----> 2\u001b[0m \u001b[38;5;28;01mwith\u001b[39;00m \u001b[38;5;28;43mopen\u001b[39;49m\u001b[43m(\u001b[49m\u001b[43mfilename\u001b[49m\u001b[43m,\u001b[49m\u001b[43m \u001b[49m\u001b[38;5;124;43m'\u001b[39;49m\u001b[38;5;124;43mr\u001b[39;49m\u001b[38;5;124;43m'\u001b[39;49m\u001b[43m,\u001b[49m\u001b[43m \u001b[49m\u001b[43mencoding\u001b[49m\u001b[38;5;241;43m=\u001b[39;49m\u001b[38;5;124;43m'\u001b[39;49m\u001b[38;5;124;43mutf-8\u001b[39;49m\u001b[38;5;124;43m'\u001b[39;49m\u001b[43m)\u001b[49m \u001b[38;5;28;01mas\u001b[39;00m f:\n\u001b[1;32m      3\u001b[0m     info_basic \u001b[38;5;241m=\u001b[39m yaml\u001b[38;5;241m.\u001b[39mload(f\u001b[38;5;241m.\u001b[39mread(), Loader\u001b[38;5;241m=\u001b[39myaml\u001b[38;5;241m.\u001b[39mFullLoader)\n\u001b[1;32m      4\u001b[0m filename_bi \u001b[38;5;241m=\u001b[39m dir_project_based\u001b[38;5;241m+\u001b[39m\u001b[38;5;124m'\u001b[39m\u001b[38;5;124mBasic_info.npy\u001b[39m\u001b[38;5;124m'\u001b[39m\n",
      "File \u001b[0;32m~/anaconda3/envs/ccfj/lib/python3.9/site-packages/IPython/core/interactiveshell.py:310\u001b[0m, in \u001b[0;36m_modified_open\u001b[0;34m(file, *args, **kwargs)\u001b[0m\n\u001b[1;32m    303\u001b[0m \u001b[38;5;28;01mif\u001b[39;00m file \u001b[38;5;129;01min\u001b[39;00m {\u001b[38;5;241m0\u001b[39m, \u001b[38;5;241m1\u001b[39m, \u001b[38;5;241m2\u001b[39m}:\n\u001b[1;32m    304\u001b[0m     \u001b[38;5;28;01mraise\u001b[39;00m \u001b[38;5;167;01mValueError\u001b[39;00m(\n\u001b[1;32m    305\u001b[0m         \u001b[38;5;124mf\u001b[39m\u001b[38;5;124m\"\u001b[39m\u001b[38;5;124mIPython won\u001b[39m\u001b[38;5;124m'\u001b[39m\u001b[38;5;124mt let you open fd=\u001b[39m\u001b[38;5;132;01m{\u001b[39;00mfile\u001b[38;5;132;01m}\u001b[39;00m\u001b[38;5;124m by default \u001b[39m\u001b[38;5;124m\"\u001b[39m\n\u001b[1;32m    306\u001b[0m         \u001b[38;5;124m\"\u001b[39m\u001b[38;5;124mas it is likely to crash IPython. If you know what you are doing, \u001b[39m\u001b[38;5;124m\"\u001b[39m\n\u001b[1;32m    307\u001b[0m         \u001b[38;5;124m\"\u001b[39m\u001b[38;5;124myou can use builtins\u001b[39m\u001b[38;5;124m'\u001b[39m\u001b[38;5;124m open.\u001b[39m\u001b[38;5;124m\"\u001b[39m\n\u001b[1;32m    308\u001b[0m     )\n\u001b[0;32m--> 310\u001b[0m \u001b[38;5;28;01mreturn\u001b[39;00m \u001b[43mio_open\u001b[49m\u001b[43m(\u001b[49m\u001b[43mfile\u001b[49m\u001b[43m,\u001b[49m\u001b[43m \u001b[49m\u001b[38;5;241;43m*\u001b[39;49m\u001b[43margs\u001b[49m\u001b[43m,\u001b[49m\u001b[43m \u001b[49m\u001b[38;5;241;43m*\u001b[39;49m\u001b[38;5;241;43m*\u001b[39;49m\u001b[43mkwargs\u001b[49m\u001b[43m)\u001b[49m\n",
      "\u001b[0;31mFileNotFoundError\u001b[0m: [Errno 2] No such file or directory: '/shdisk/rem2/Harmon/F-J/San/project/output_FJSJ_17-05/Basic_info.yml'"
     ]
    }
   ],
   "source": [
    "filename = dir_project_based+'Basic_info.yml'\n",
    "with open(filename, 'r', encoding='utf-8') as f:\n",
    "    info_basic = yaml.load(f.read(), Loader=yaml.FullLoader)\n",
    "filename_bi = dir_project_based+'Basic_info.npy'\n",
    "info_basic_bi = np.load(filename_bi, allow_pickle='TRUE').item()      # setting dictionary"
   ]
  },
  {
   "cell_type": "code",
   "execution_count": null,
   "metadata": {},
   "outputs": [],
   "source": [
    "filename = dir_CC_workspace + info_basic['name_CC'] +'info_CC.npy'\n",
    "info_CC = np.load(filename, allow_pickle='TRUE').item()"
   ]
  },
  {
   "cell_type": "code",
   "execution_count": null,
   "metadata": {},
   "outputs": [],
   "source": [
    "# set data dir ,correspoding stalistname, and output dir\n",
    "info = {}\n",
    "info_bi = {}\n",
    "\n",
    "info['name_project'] = name_project\n",
    "info['name_project_based'] = name_project_based\n",
    "info['tag'] = tag\n",
    "\n",
    "    # image dir\n",
    "info['dir_image']  = 'image_' + tag + '/'\n",
    "    # ds dir\n",
    "info['dir_ds'] = 'ds_' + tag + '/'\n",
    "    # stack dir\n",
    "info['dir_stack'] = 'stack_' + tag + '/'"
   ]
  },
  {
   "cell_type": "code",
   "execution_count": null,
   "metadata": {},
   "outputs": [],
   "source": [
    "info['d_start'] = info_CC['d_start']\n",
    "info['d_end'] = info_CC['d_end']\n",
    "info['y_start'] = info_CC['y_start']\n",
    "info['y_end'] = info_CC['y_end']\n",
    "info['stalistname'] = info_CC['stalistname']\n",
    "info['nf'] = info_CC['nf']\n",
    "info['Fs'] = info_CC['Fs']\n",
    "info['fftlen'] = info_CC['fftlen']\n",
    "info['fstride'] = info_CC['fstride']\n",
    "info['nThreads'] = info_CC['nThreads']\n",
    "info['overlaprate'] = info_CC['overlaprate']\n",
    "info['segday'] = info_CC['segday']\n",
    "info['npts'] =  info_CC['npts']\n",
    "info['flag_onebit'] = info_CC['flag_onebit']\n",
    "info['flag_prewhiten'] = info_CC['flag_prewhiten']\n",
    "info_bi['f'] = info_CC['f']\n",
    "f = info_CC['f']\n",
    "dt = 1/np.max(f)\n",
    "#t = np.linspace(-len(f)-1,len(f)-1,2*(len(f)-1))*dt/2\n",
    "t = (np.linspace(-len(f)-1,len(f)-1,2*(len(f)-1))+0.5)*dt/2\n",
    "info_bi['t'] = t\n",
    "info['d_len'] = info_basic['d_len']"
   ]
  },
  {
   "cell_type": "code",
   "execution_count": null,
   "metadata": {},
   "outputs": [],
   "source": [
    "if os.path.exists(dir_project):\n",
    "    shutil.rmtree(dir_project)\n",
    "    os.mkdir(dir_project)\n",
    "else:\n",
    "    os.mkdir(dir_project)\n",
    "if not os.path.exists(dir_project+info['dir_image']):\n",
    "    os.mkdir(dir_project + info['dir_image'])\n",
    "if not os.path.exists(dir_project+info['dir_ds']):\n",
    "    os.mkdir(dir_project+info['dir_ds'])\n",
    "if not os.path.exists(dir_project+info['dir_stack']):\n",
    "    os.mkdir(dir_project+info['dir_stack'])"
   ]
  },
  {
   "cell_type": "code",
   "execution_count": null,
   "metadata": {},
   "outputs": [],
   "source": [
    "np.save(dir_project+'/Basic_info.npy',info_bi)\n",
    "with open(dir_project+'Basic_info.yml', 'w', encoding='utf-8') as f:\n",
    "   yaml.dump(data=info, stream=f, allow_unicode=True)"
   ]
  }
 ],
 "metadata": {
  "kernelspec": {
   "display_name": "ccfj",
   "language": "python",
   "name": "python3"
  },
  "language_info": {
   "codemirror_mode": {
    "name": "ipython",
    "version": 3
   },
   "file_extension": ".py",
   "mimetype": "text/x-python",
   "name": "python",
   "nbconvert_exporter": "python",
   "pygments_lexer": "ipython3",
   "version": "3.9.18"
  }
 },
 "nbformat": 4,
 "nbformat_minor": 2
}
