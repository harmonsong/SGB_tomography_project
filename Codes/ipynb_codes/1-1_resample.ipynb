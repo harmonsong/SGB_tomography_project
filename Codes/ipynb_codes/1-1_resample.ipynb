{
 "cells": [
  {
   "cell_type": "code",
   "execution_count": null,
   "metadata": {},
   "outputs": [],
   "source": [
    "import numpy as np\n",
    "import obspy\n",
    "from obspy import UTCDateTime\n",
    "from ccfj import CC\n",
    "from ccfj import GetStationPairs\n",
    "from concurrent.futures import ThreadPoolExecutor\n",
    "import os\n",
    "import time\n",
    "from geopy.distance import great_circle\n",
    "import shutil\n",
    "import pandas as pd"
   ]
  },
  {
   "cell_type": "code",
   "execution_count": null,
   "metadata": {},
   "outputs": [],
   "source": [
    "outdir = 'data_resample_1/'\n",
    "if not os.path.exists(outdir):\n",
    "    os.mkdir(outdir)"
   ]
  },
  {
   "cell_type": "code",
   "execution_count": null,
   "metadata": {},
   "outputs": [],
   "source": [
    "nThreads = 50"
   ]
  },
  {
   "attachments": {},
   "cell_type": "markdown",
   "metadata": {},
   "source": [
    "### Parameters"
   ]
  },
  {
   "cell_type": "code",
   "execution_count": null,
   "metadata": {},
   "outputs": [],
   "source": [
    "#dir_SAC = '/home/harmon/data/data/SJFZ_nodal/2014/'\n",
    "dir_SAC = '/share/data/California/SJFZ_nodal/2014/'\n",
    "#stalistname = \"sublist/stalist-2007_1\" \n",
    "stalistname = 'stations_info'\n",
    "\n",
    "y_start = 2014\n",
    "y_end = 2015\n",
    "#d_start = 132\n",
    "d_start = 132\n",
    "#d_end = 159\n",
    "d_end = 133\n",
    "fmax = 100                    # 降采样频率"
   ]
  },
  {
   "attachments": {},
   "cell_type": "markdown",
   "metadata": {},
   "source": [
    "### Correlation day by day"
   ]
  },
  {
   "cell_type": "code",
   "execution_count": null,
   "metadata": {},
   "outputs": [],
   "source": [
    "def Checkdata(dirname):\n",
    "    global day\n",
    "    global dir_SAC\n",
    "    filename = os.path.join(dir_SAC,str(day),dirname+'.EHZ.2014.'+str(day)+'.00.00.00')\n",
    "    if os.path.exists(filename):\n",
    "        return True\n",
    "    return False\n",
    "\n",
    "\n",
    "# Set the rules for reading data\n",
    "# this will determined by the data files' distribution\n",
    "def Resample(i):\n",
    "    global day\n",
    "    global dir_SAC\n",
    "    global namelist\n",
    "    global fmax\n",
    "\n",
    "\n",
    "    if i%200 == 0 and i != 0:\n",
    "        print(i)\n",
    "\n",
    "    dirname = namelist[i]\n",
    "    filename = os.path.join(dir_SAC,str(day),dirname+'.EHZ.2014.'+str(day)+'.00.00.00')\n",
    "    st = obspy.read(filename)\n",
    "\n",
    "    # 设置低通滤波的截止频率\n",
    "    lowpass_corner_frequency = 0.5 * fmax # 以Nyquist频率的40%设置\n",
    "\n",
    "    # 对每个通道的数据进行低通滤波\n",
    "    st_lowpass_filtered = st.copy().filter('lowpass', freq=lowpass_corner_frequency)\n",
    "\n",
    "    # 对每个通道的数据进行重采样\n",
    "    st_resampled = st_lowpass_filtered.copy().resample(sampling_rate=fmax)\n",
    "    \n",
    "    # 保存到outdir中\n",
    "    st_resampled.write(os.path.join(outdir,str(day),dirname+'.EHZ.2014.'+str(day)+'.00.00.00'),format='SAC')"
   ]
  },
  {
   "cell_type": "code",
   "execution_count": null,
   "metadata": {},
   "outputs": [],
   "source": [
    "stainfo = pd.read_excel(stalistname+'.xlsx')\n",
    "nsta = len(stainfo.iloc[:,0])\n",
    "StationPairs = GetStationPairs(nsta)\n",
    "nPairs = int(len(StationPairs)/2)\n",
    "stalist = stainfo['Station'].tolist()"
   ]
  },
  {
   "cell_type": "code",
   "execution_count": null,
   "metadata": {},
   "outputs": [],
   "source": [
    "days = []\n",
    "years = set()\n",
    "flag_d = 0\n",
    "start = time.time()\n",
    "for y in range(y_start,y_end):\n",
    "    for d in range(d_start,d_end): \n",
    "\n",
    "        if not os.path.exists(outdir+str(d)):\n",
    "            os.mkdir(outdir+str(d))\n",
    "\n",
    "        year = str(y)\n",
    "        day = \"%03d\"%d\n",
    "        namelist = []\n",
    "        for dirname in stalist:\n",
    "            if Checkdata(dirname):\n",
    "                namelist.append(dirname)\n",
    "        nsta = len(namelist)\n",
    "        # at least two stations needs\n",
    "        if nsta >1:\n",
    "            flag_d += 1\n",
    "            years.add(int(year))\n",
    "            days.append(d)\n",
    "            print(\"year\"+year+\" day\"+day +\" nsta \"+ str(nsta))\n",
    "            # using multiThreads to read data\n",
    "            pool = ThreadPoolExecutor(max_workers = nThreads)\n",
    "            start0 = time.time()\n",
    "            for i in range(nsta):\n",
    "                pool.submit(Resample,i)\n",
    "            pool.shutdown()"
   ]
  },
  {
   "cell_type": "code",
   "execution_count": null,
   "metadata": {},
   "outputs": [],
   "source": []
  }
 ],
 "metadata": {
  "kernelspec": {
   "display_name": "Python 3 (ipykernel)",
   "language": "python",
   "name": "python3"
  },
  "language_info": {
   "codemirror_mode": {
    "name": "ipython",
    "version": 3
   },
   "file_extension": ".py",
   "mimetype": "text/x-python",
   "name": "python",
   "nbconvert_exporter": "python",
   "pygments_lexer": "ipython3",
   "version": "3.9.18"
  },
  "vscode": {
   "interpreter": {
    "hash": "9e1b1cfcb63b8c4b20fd3d610677682a40199606624b55ac5cc8ef1326af990f"
   }
  }
 },
 "nbformat": 4,
 "nbformat_minor": 4
}
