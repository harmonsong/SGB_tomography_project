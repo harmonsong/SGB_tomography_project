{
 "cells": [
  {
   "cell_type": "code",
   "execution_count": null,
   "metadata": {},
   "outputs": [],
   "source": [
    "import numpy as np\n",
    "from ccfj import GetStationPairs\n",
    "import os\n",
    "import time\n",
    "from geopy.distance import great_circle\n",
    "import pandas as pd\n",
    "import h5py"
   ]
  },
  {
   "cell_type": "code",
   "execution_count": null,
   "metadata": {},
   "outputs": [],
   "source": [
    "outdir = 'CC/CC_40_test/'\n",
    "if not os.path.exists(outdir):\n",
    "    os.mkdir(outdir)"
   ]
  },
  {
   "attachments": {},
   "cell_type": "markdown",
   "metadata": {},
   "source": [
    "### Parameters"
   ]
  },
  {
   "cell_type": "code",
   "execution_count": null,
   "metadata": {},
   "outputs": [],
   "source": [
    "#dir_CC = 'CC_15/'\n",
    "dir_CC = outdir\n",
    "filename = os.path.join(dir_CC+'info_CC.npy')\n",
    "info_CC = np.load(filename, allow_pickle='TRUE').item()      # setting dictionary"
   ]
  },
  {
   "cell_type": "code",
   "execution_count": null,
   "metadata": {},
   "outputs": [],
   "source": [
    "d_start = info_CC['d_start']\n",
    "d_end = info_CC['d_end']\n",
    "d_len = info_CC['d_len']\n",
    "#d_end = d_start + d_len + 1\n",
    "y_start = info_CC['y_start']\n",
    "y_end = info_CC['y_end']\n",
    "stalistname = info_CC['stalistname'] + '.xlsx'\n",
    "nf = info_CC['nf']\n",
    "Fs = info_CC['Fs']\n",
    "fftlen = info_CC['fftlen']\n",
    "fstride = info_CC['fstride']\n",
    "f = info_CC['f']"
   ]
  },
  {
   "attachments": {},
   "cell_type": "markdown",
   "metadata": {},
   "source": [
    "### Read stations info"
   ]
  },
  {
   "cell_type": "code",
   "execution_count": null,
   "metadata": {},
   "outputs": [],
   "source": [
    "stainfo = pd.read_excel(stalistname)\n",
    "nsta = len(stainfo.iloc[:,0])\n",
    "StationPairs = GetStationPairs(nsta)\n",
    "nPairs = int(len(StationPairs)/2)\n",
    "stalist = stainfo['Station'].tolist()\n",
    "lat = stainfo['latitude'].tolist() \n",
    "lon = stainfo['longitude'].tolist()"
   ]
  },
  {
   "attachments": {},
   "cell_type": "markdown",
   "metadata": {},
   "source": [
    "### calculate iterstational distance"
   ]
  },
  {
   "cell_type": "code",
   "execution_count": null,
   "metadata": {},
   "outputs": [],
   "source": [
    "r = np.zeros(nPairs)\n",
    "for i in range(len(r)):\n",
    "    r[i] = great_circle((lat[StationPairs[i*2]],lon[StationPairs[i*2]]),(lat[StationPairs[i*2+1]],lon[StationPairs[i*2+1]])).km"
   ]
  },
  {
   "attachments": {},
   "cell_type": "markdown",
   "metadata": {},
   "source": [
    "### Stack"
   ]
  },
  {
   "cell_type": "code",
   "execution_count": null,
   "metadata": {},
   "outputs": [],
   "source": [
    "ncfs = np.zeros([nPairs,nf],dtype=np.complex64)\n",
    "count = np.zeros(nPairs)"
   ]
  },
  {
   "cell_type": "code",
   "execution_count": null,
   "metadata": {},
   "outputs": [],
   "source": [
    "# read ccfs\n",
    "def Pairs(sta):\n",
    "    p = []\n",
    "    nsta = len(sta)\n",
    "    for ii in range(nsta):\n",
    "        for jj in range(ii+1,nsta):\n",
    "            p.append([sta[ii],sta[jj]])\n",
    "    return p\n",
    "\n",
    "def cal_indx(pair,nsta):\n",
    "    pair0 = min(pair)\n",
    "    pair1 = max(pair)\n",
    "    indx = int(pair0*(2*nsta-pair0-1)/2+pair1-pair0-1)\n",
    "    return indx"
   ]
  },
  {
   "cell_type": "code",
   "execution_count": null,
   "metadata": {},
   "outputs": [],
   "source": [
    "for y in range(y_start,y_end):\n",
    "    for d in range(d_start,d_end):\n",
    "        start0 = time.time()\n",
    "        year = str(y)\n",
    "        day = \"%03d\"%d\n",
    "        outname = os.path.join(dir_CC,year+'-'+day+'.npz')\n",
    "        if os.path.exists(outname):\n",
    "            data = []\n",
    "            data = np.load(outname)\n",
    "            #nsta0 = len(data[\"stalist\"])\n",
    "            indx = [stalist.index(i) for i in data[\"stalist\"] ]\n",
    "            pairs = Pairs(indx)\n",
    "            id1 = [cal_indx(pair,nsta) for pair in pairs]\n",
    "\n",
    "            ncfs[id1,:] = ncfs[id1,:]+data[\"ncfs\"]\n",
    "            count[id1] = count[id1]+1\n",
    "            print(year+'-'+day+'   '+str(time.time()-start0)+' s')"
   ]
  },
  {
   "cell_type": "code",
   "execution_count": null,
   "metadata": {},
   "outputs": [],
   "source": [
    "ncfs1 = np.zeros(np.shape(ncfs),dtype=np.complex64)\n",
    "for i in range(nPairs):\n",
    "    if count[i]>0:\n",
    "        ncfs1[i,:] = ncfs[i,:]/count[i]"
   ]
  },
  {
   "attachments": {},
   "cell_type": "markdown",
   "metadata": {},
   "source": [
    "### Save"
   ]
  },
  {
   "cell_type": "code",
   "execution_count": null,
   "metadata": {},
   "outputs": [],
   "source": [
    "outname = 'gather_all.h5'\n",
    "if os.path.exists(outdir+outname):\n",
    "    os.remove(outdir+outname)\n",
    "h5file = h5py.File(outdir+outname,'w')\n",
    "h5file.create_dataset('ncfs',data=ncfs1)\n",
    "h5file.create_dataset('count',data=count)\n",
    "h5file.create_dataset('r',data=r)\n",
    "h5file.create_dataset('f',data=f)\n",
    "h5file.create_dataset('StationPairs',data=StationPairs)\n",
    "h5file.close()\n",
    "#np.savez(dir_CC+\"summed.npz\",ncfs= ncfs1,r = r)"
   ]
  },
  {
   "cell_type": "code",
   "execution_count": null,
   "metadata": {},
   "outputs": [],
   "source": [
    "\n",
    "filename = os.path.join(dir_CC+'info_CC.npy')\n",
    "info_CC = np.load(filename, allow_pickle='TRUE').item()      # setting dictionary"
   ]
  },
  {
   "cell_type": "code",
   "execution_count": null,
   "metadata": {},
   "outputs": [],
   "source": [
    "info_CC"
   ]
  }
 ],
 "metadata": {
  "kernelspec": {
   "display_name": "Python 3 (ipykernel)",
   "language": "python",
   "name": "python3"
  },
  "language_info": {
   "codemirror_mode": {
    "name": "ipython",
    "version": 3
   },
   "file_extension": ".py",
   "mimetype": "text/x-python",
   "name": "python",
   "nbconvert_exporter": "python",
   "pygments_lexer": "ipython3",
   "version": "3.9.18"
  },
  "vscode": {
   "interpreter": {
    "hash": "9e1b1cfcb63b8c4b20fd3d610677682a40199606624b55ac5cc8ef1326af990f"
   }
  }
 },
 "nbformat": 4,
 "nbformat_minor": 4
}
