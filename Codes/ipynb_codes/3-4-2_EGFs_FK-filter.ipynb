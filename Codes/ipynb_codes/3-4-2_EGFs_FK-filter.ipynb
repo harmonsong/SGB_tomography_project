{
 "cells": [
  {
   "cell_type": "code",
   "execution_count": null,
   "metadata": {},
   "outputs": [],
   "source": [
    "import numpy as np\n",
    "import h5py\n",
    "import ccfj\n",
    "import matplotlib.pyplot as plt\n",
    "import yaml\n",
    "import os\n",
    "from scipy.fft import fft2, ifft2, fftshift"
   ]
  },
  {
   "cell_type": "code",
   "execution_count": null,
   "metadata": {},
   "outputs": [],
   "source": [
    "import sys\n",
    "sys.path.append(r'../')\n",
    "from toollib_standard import mathlib\n",
    "from toollib_standard import plotlib"
   ]
  },
  {
   "cell_type": "code",
   "execution_count": null,
   "metadata": {},
   "outputs": [],
   "source": [
    "with open('a-project.yml', 'r', encoding='utf-8') as f:\n",
    "    proj = yaml.load(f.read(), Loader=yaml.FullLoader)\n",
    "proj_name = proj['name']\n",
    "proj_name = 'project/output_FJSJ_16-03/'\n",
    "proj_name"
   ]
  },
  {
   "cell_type": "code",
   "execution_count": null,
   "metadata": {},
   "outputs": [],
   "source": [
    "filename = proj_name+'Basic_info.yml'\n",
    "with open(filename, 'r', encoding='utf-8') as f:\n",
    "    info_basic = yaml.load(f.read(), Loader=yaml.FullLoader)\n",
    "filename_bi = proj_name+'Basic_info.npy'\n",
    "info_basic_bi = np.load(filename_bi, allow_pickle='TRUE').item()      # setting dictionary"
   ]
  },
  {
   "cell_type": "code",
   "execution_count": null,
   "metadata": {},
   "outputs": [],
   "source": [
    "dir_stack = info_basic['dir_stack']\n",
    "t = info_basic_bi['t']\n",
    "f = info_basic_bi['f']\n",
    "dt = 1/np.max(f)\n",
    "t = (np.linspace(-len(f)-1,len(f)-1,2*(len(f)-1))+0.5)*dt/2"
   ]
  },
  {
   "cell_type": "code",
   "execution_count": null,
   "metadata": {},
   "outputs": [],
   "source": [
    "key_subworks = info_basic['key_subworks']\n",
    "#key_subworks.remove('23-08')\n",
    "#key_subworks = ['07-03']\n",
    "key_subworks"
   ]
  },
  {
   "cell_type": "markdown",
   "metadata": {},
   "source": [
    "### f-k transformation"
   ]
  },
  {
   "cell_type": "code",
   "execution_count": null,
   "metadata": {},
   "outputs": [],
   "source": [
    "def perform_2d_fft(data, t, r):\n",
    "    \"\"\"\n",
    "    Perform 2D spatial discrete Fourier transform on input data.\n",
    "\n",
    "    Parameters:\n",
    "    - data: 2D array representing time-domain cross-correlation functions.\n",
    "            Shape: (num_offsets, num_samples)\n",
    "    - t: Time array.\n",
    "    - r: Offset array.\n",
    "\n",
    "    Returns:\n",
    "    - kx: 1D array representing horizontal slowness.\n",
    "    - ky: 1D array representing vertical slowness.\n",
    "    - spectrum: 2D array representing the Fourier transformed data.\n",
    "                Shape: (num_ky, num_kx)\n",
    "    \"\"\"\n",
    "\n",
    "    # Calculate dimensions\n",
    "    num_offsets, num_samples = data.shape\n",
    "\n",
    "    # Calculate time and spatial intervals\n",
    "    dt = t[1] - t[0]\n",
    "\n",
    "    # Create frequency arrays\n",
    "    freq_x = np.fft.fftshift(np.fft.fftfreq(num_samples, dt))\n",
    "    freq_y = np.fft.fftshift(np.fft.fftfreq(num_offsets, r[1] - r[0]))\n",
    "\n",
    "    # Perform 2D FFT\n",
    "    spectrum = np.fft.fftshift(np.fft.fft2(data))\n",
    "\n",
    "    return freq_x, freq_y, spectrum\n"
   ]
  },
  {
   "cell_type": "code",
   "execution_count": null,
   "metadata": {},
   "outputs": [],
   "source": [
    "key_subwork = key_subworks[0]\n",
    "outname = key_subwork+'_gather_linear.h5'\n",
    "ncffile = h5py.File(dir_stack + outname,'r')\n",
    "ncfs_sum_linear = ncffile['ncfs'][:]\n",
    "ncfst_linear = mathlib.freq_time(ncfs_sum_linear)\n",
    "r = ncffile['r'][:]\n",
    "ncffile.close()"
   ]
  },
  {
   "cell_type": "code",
   "execution_count": null,
   "metadata": {},
   "outputs": [],
   "source": [
    "for i in range(len(ncfst_linear)):\n",
    "    ncfst_linear[i,:] = ncfst_linear[i,:]/np.max(ncfst_linear[i,:])"
   ]
  },
  {
   "cell_type": "code",
   "execution_count": null,
   "metadata": {},
   "outputs": [],
   "source": [
    "t_new = t[np.abs(t)<=1]\n",
    "data = ncfst_linear[:,np.abs(t)<=1]"
   ]
  },
  {
   "cell_type": "code",
   "execution_count": null,
   "metadata": {},
   "outputs": [],
   "source": [
    "kx, ky, spectrum = perform_2d_fft(data,t,r)"
   ]
  },
  {
   "cell_type": "code",
   "execution_count": null,
   "metadata": {},
   "outputs": [],
   "source": [
    "spectrum.shape"
   ]
  },
  {
   "cell_type": "code",
   "execution_count": null,
   "metadata": {},
   "outputs": [],
   "source": [
    "plt.figure(figsize=(12, 4))\n",
    "plt.subplot(1, 2, 1)\n",
    "plt.pcolor(t_new, r, data, cmap='viridis', shading='auto')\n",
    "plt.colorbar()\n",
    "plt.title('Original Data (2D Sine Function)')\n",
    "plt.xlabel('Time (seconds)')\n",
    "plt.ylabel('Offset (meters)')\n",
    "\n",
    "# Plot the 2D Fourier transformed data with pcolor\n",
    "plt.subplot(1, 2, 2)\n",
    "plt.pcolor(kx,ky, np.log(1 + np.abs(spectrum)), cmap='viridis', shading='auto')\n",
    "plt.colorbar()\n",
    "plt.title('2D Spatial Fourier Transform')\n",
    "plt.xlabel('kx (Horizontal Slowness)')\n",
    "plt.ylabel('ky (Vertical Slowness)')\n",
    "plt.xlim([-5,5])\n",
    "plt.ylim([-5,5])\n",
    "plt.tight_layout()\n",
    "plt.show()"
   ]
  },
  {
   "cell_type": "code",
   "execution_count": null,
   "metadata": {},
   "outputs": [],
   "source": [
    "plt.pcolor(t_new,r,data,cmap='jet')\n",
    "# 设置x轴范围\n",
    "plt.xlim([-2,2])\n",
    "# y轴反转\n",
    "#plt.gca().invert_yaxis()"
   ]
  },
  {
   "cell_type": "code",
   "execution_count": null,
   "metadata": {},
   "outputs": [],
   "source": [
    "fig,ax = plt.subplots(1,2,figsize = (20,10))\n",
    "\n",
    "start = info_basic['start']\n",
    "interval = info_basic['interval']\n",
    "flag_time = info_basic['flag_time']\n",
    "xlim_T = [-1,1]\n",
    "title1 = 'Linear'\n",
    "ax[0] = plotlib.plot_ncfst(ax[0],t,ncfst_linear[start::interval],r[start::interval],title1,flag_time,xlim_T,0)\n",
    "#ax[0].vlines(tag,0,0.2,linestyles='dashed',colors='g')\n",
    "#ax[0].vlines(-tag,0,0.2,linestyles='dashed',colors='g')\n",
    "ax[1] = plotlib.plot_ncfst(ax[1],t,ncfst_linear_remove[start::interval],r[start::interval],title1,flag_time,xlim_T,0)\n",
    "#ax[1].vlines(tag,0,0.2,linestyles='dashed',colors='g')\n",
    "\n",
    "plt.tight_layout()\n",
    "plt.show()"
   ]
  },
  {
   "cell_type": "code",
   "execution_count": null,
   "metadata": {},
   "outputs": [],
   "source": [
    "#remove_zorocor(v_tag,t0,a,proj_name,1)"
   ]
  },
  {
   "cell_type": "code",
   "execution_count": null,
   "metadata": {},
   "outputs": [],
   "source": []
  }
 ],
 "metadata": {
  "kernelspec": {
   "display_name": "base",
   "language": "python",
   "name": "python3"
  },
  "language_info": {
   "codemirror_mode": {
    "name": "ipython",
    "version": 3
   },
   "file_extension": ".py",
   "mimetype": "text/x-python",
   "name": "python",
   "nbconvert_exporter": "python",
   "pygments_lexer": "ipython3",
   "version": "3.9.18"
  },
  "orig_nbformat": 4
 },
 "nbformat": 4,
 "nbformat_minor": 2
}
