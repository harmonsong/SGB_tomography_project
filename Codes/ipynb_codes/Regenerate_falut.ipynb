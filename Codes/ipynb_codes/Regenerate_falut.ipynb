{
 "cells": [
  {
   "cell_type": "code",
   "execution_count": 5,
   "metadata": {},
   "outputs": [],
   "source": [
    "import geopandas as gp\n",
    "import numpy as np\n",
    "import os"
   ]
  },
  {
   "cell_type": "code",
   "execution_count": 6,
   "metadata": {},
   "outputs": [],
   "source": [
    "data = gp.read_file('Qfaults_GIS/SHP/Qfaults_US_Database.shp')"
   ]
  },
  {
   "cell_type": "code",
   "execution_count": 7,
   "metadata": {},
   "outputs": [],
   "source": [
    "faults = {}\n",
    "faults['clark1'] = {}\n",
    "faults['clark2'] = {}\n",
    "faults['clark3'] = {}\n",
    "faults['clark4'] = {}\n",
    "faults['clark5'] = {}"
   ]
  },
  {
   "cell_type": "code",
   "execution_count": 8,
   "metadata": {},
   "outputs": [],
   "source": [
    "faults['clark1']['lon'] = np.array(data.geometry[22150].coords.xy[0])\n",
    "faults['clark1']['lat'] = np.array(data.geometry[22150].coords.xy[1])\n",
    "faults['clark2']['lon'] = np.array(data.geometry[22151].coords.xy[0])\n",
    "faults['clark2']['lat'] = np.array(data.geometry[22151].coords.xy[1])\n",
    "faults['clark3']['lon'] = np.array(data.geometry[22152].coords.xy[0])\n",
    "faults['clark3']['lat'] = np.array(data.geometry[22152].coords.xy[1])\n",
    "faults['clark4']['lon'] = np.array(data.geometry[21973].coords.xy[0])\n",
    "faults['clark4']['lat'] = np.array(data.geometry[21973].coords.xy[1])\n",
    "faults['clark5']['lon'] = np.array(data.geometry[22148].coords.xy[0])\n",
    "faults['clark5']['lat'] = np.array(data.geometry[22148].coords.xy[1])"
   ]
  },
  {
   "cell_type": "code",
   "execution_count": 9,
   "metadata": {},
   "outputs": [],
   "source": [
    "# save\n",
    "if os.path.exists('clark_faults.npy'):\n",
    "    os.remove('clark_faults.npy')\n",
    "np.save('clark_faults.npy', faults)"
   ]
  }
 ],
 "metadata": {
  "kernelspec": {
   "display_name": "ccfj",
   "language": "python",
   "name": "python3"
  },
  "language_info": {
   "codemirror_mode": {
    "name": "ipython",
    "version": 3
   },
   "file_extension": ".py",
   "mimetype": "text/x-python",
   "name": "python",
   "nbconvert_exporter": "python",
   "pygments_lexer": "ipython3",
   "version": "3.9.18"
  }
 },
 "nbformat": 4,
 "nbformat_minor": 2
}
