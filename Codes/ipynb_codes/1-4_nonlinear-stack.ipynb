{
 "cells": [
  {
   "cell_type": "code",
   "execution_count": null,
   "metadata": {},
   "outputs": [],
   "source": [
    "import numpy as np\n",
    "import obspy\n",
    "from obspy import UTCDateTime\n",
    "from ccfj import CC\n",
    "from ccfj import GetStationPairs\n",
    "from concurrent.futures import ThreadPoolExecutor\n",
    "import os\n",
    "import time\n",
    "from geopy.distance import great_circle\n",
    "from scipy.signal import hilbert\n",
    "import matplotlib.pyplot as plt\n",
    "from concurrent.futures import ThreadPoolExecutor\n",
    "import pandas as pd\n",
    "import h5py"
   ]
  },
  {
   "cell_type": "code",
   "execution_count": null,
   "metadata": {},
   "outputs": [],
   "source": [
    "import sys\n",
    "sys.path.append(r'../')\n",
    "from toollib_standard import maplib\n",
    "from toollib_standard import mathlib\n",
    "from toollib_standard import filelib\n",
    "from toollib_standard import stacklib\n",
    "from toollib_standard import plotlib\n",
    "from toollib_nonlinearstack import nonlinear_stacklib"
   ]
  },
  {
   "cell_type": "code",
   "execution_count": null,
   "metadata": {},
   "outputs": [],
   "source": [
    "dir_CC = 'CC_40/'\n",
    "filename = os.path.join(dir_CC+'info_CC.npy')\n",
    "info_CC = np.load(filename, allow_pickle='TRUE').item()      # setting dictionary"
   ]
  },
  {
   "cell_type": "code",
   "execution_count": null,
   "metadata": {},
   "outputs": [],
   "source": [
    "d_start = info_CC['d_start']\n",
    "d_end = info_CC['d_end']\n",
    "d_len = info_CC['d_len']\n",
    "#d_end = d_start + d_len + 1\n",
    "y_start = info_CC['y_start']\n",
    "y_end = info_CC['y_end']\n",
    "stalistname = info_CC['stalistname'] + '.xlsx'\n",
    "nf = info_CC['nf']\n",
    "Fs = info_CC['Fs']\n",
    "fftlen = info_CC['fftlen']\n",
    "fstride = info_CC['fstride']\n",
    "f = info_CC['f']"
   ]
  },
  {
   "cell_type": "code",
   "execution_count": null,
   "metadata": {},
   "outputs": [],
   "source": [
    "stainfo = pd.read_excel(stalistname)\n",
    "nsta = len(stainfo.iloc[:,0])\n",
    "StationPairs = GetStationPairs(nsta)\n",
    "nPairs = int(len(StationPairs)/2)\n",
    "stalist = stainfo['Station'].tolist()\n",
    "lat = stainfo['latitude'].tolist() \n",
    "lon = stainfo['longitude'].tolist()"
   ]
  },
  {
   "cell_type": "code",
   "execution_count": null,
   "metadata": {},
   "outputs": [],
   "source": [
    "r = np.zeros(nPairs)\n",
    "for i in range(len(r)):\n",
    "    r[i] = great_circle((lat[StationPairs[i*2]],lon[StationPairs[i*2]]),(lat[StationPairs[i*2+1]],lon[StationPairs[i*2+1]])).km"
   ]
  },
  {
   "cell_type": "markdown",
   "metadata": {},
   "source": [
    "### Readccfs"
   ]
  },
  {
   "cell_type": "code",
   "execution_count": null,
   "metadata": {},
   "outputs": [],
   "source": [
    "# read ccfs\n",
    "def Pairs(sta):\n",
    "    p = []\n",
    "    nsta = len(sta)\n",
    "    for ii in range(nsta):\n",
    "        for jj in range(ii+1,nsta):\n",
    "            p.append([sta[ii],sta[jj]])\n",
    "    return p\n",
    "\n",
    "def cal_indx(pair,nsta):\n",
    "    pair0 = min(pair)\n",
    "    pair1 = max(pair)\n",
    "    indx = int(pair0*(2*nsta-pair0-1)/2+pair1-pair0-1)\n",
    "    return indx"
   ]
  },
  {
   "cell_type": "code",
   "execution_count": null,
   "metadata": {},
   "outputs": [],
   "source": [
    "def readccf(dir_CC):\n",
    "\n",
    "    filename = os.path.join(dir_CC+'info_CC.npy')\n",
    "    info_CC = np.load(filename, allow_pickle='TRUE').item()      # setting dictionary\n",
    "    d_len = info_CC['d_len']\n",
    "    d_start = info_CC['d_start']\n",
    "    d_end = info_CC['d_end']  \n",
    "    y_start = info_CC['y_start']\n",
    "    y_end = info_CC['y_end']\n",
    "    nf = info_CC['nf']\n",
    "    stalistname = info_CC['stalistname'] + '.xlsx'\n",
    "    stainfo = pd.read_excel(stalistname)\n",
    "    nsta = len(stainfo.iloc[:,0])\n",
    "    StationPairs = GetStationPairs(nsta)\n",
    "    nPairs = int(len(StationPairs)/2)\n",
    "\n",
    "\n",
    "    id1s = []\n",
    "    ncfs = np.zeros([d_len,nPairs,nf],dtype = np.complex64)  \n",
    "    for y in range(y_start,y_end):\n",
    "        for d in range(d_start,d_end):\n",
    "            start0 = time.time()\n",
    "            year = str(y)\n",
    "            day = \"%03d\"%d\n",
    "            outname = os.path.join(dir_CC,year+'-'+day+'.npz')\n",
    "            if os.path.exists(outname):\n",
    "                data = []\n",
    "                data = np.load(outname)\n",
    "                #nsta0 = len(data[\"stalist\"])\n",
    "                indx = [stalist.index(i) for i in data[\"stalist\"] ]\n",
    "                pairs = Pairs(indx)\n",
    "                id1 = [cal_indx(pair,nsta) for pair in pairs]\n",
    "\n",
    "\n",
    "                ncfs[d-d_start,id1,:] = data[\"ncfs\"]\n",
    "                id1s.append(id1)\n",
    "                print(year+'-'+day+'   '+str(time.time()-start0)+' s')\n",
    "            \n",
    "            idd = []\n",
    "            for j in range(nPairs):\n",
    "                idd1 = []\n",
    "                for i in range(d_len):\n",
    "                    idd1.append(i)\n",
    "                idd.append(idd1)\n",
    "    return ncfs, id1s, idd"
   ]
  },
  {
   "cell_type": "code",
   "execution_count": null,
   "metadata": {},
   "outputs": [],
   "source": [
    "ncfs, id1s, idd = readccf(dir_CC)"
   ]
  },
  {
   "cell_type": "markdown",
   "metadata": {},
   "source": [
    "### Stack"
   ]
  },
  {
   "cell_type": "code",
   "execution_count": null,
   "metadata": {},
   "outputs": [],
   "source": [
    "def freq(nr1,nf,ncfs,idd,amp):\n",
    "    std = np.zeros([nr1,nf],dtype = complex)\n",
    "    mean = np.zeros([nr1,nf],dtype = complex)\n",
    "\n",
    "    for i in range(nr1):\n",
    "        if len(idd[i]) > 0:\n",
    "            mean[i,:] = np.mean(ncfs[idd[i],i,:],axis = 0)\n",
    "            std[i,:] = np.std(ncfs[idd[i],i,:],axis = 0)\n",
    "    s1 = np.zeros_like(mean)\n",
    "    for j in range(nr1):\n",
    "        for k in range(nf):\n",
    "            s1[j,k] = np.mean(ncfs[np.abs(ncfs[:,j,k]-mean[j,k]) <= amp*std[j,k],j,k])\n",
    "    return s1"
   ]
  },
  {
   "cell_type": "code",
   "execution_count": null,
   "metadata": {},
   "outputs": [],
   "source": [
    "amp = 1\n",
    "s0 = freq(nPairs,nf,ncfs,idd,amp)\n",
    "s1 = np.nan_to_num(s0)"
   ]
  },
  {
   "cell_type": "code",
   "execution_count": null,
   "metadata": {},
   "outputs": [],
   "source": [
    "outname = \"gather_FPS.h5\"\n",
    "h5file = h5py.File(dir_CC+outname,'w')\n",
    "h5file.create_dataset('ncfs',data=s1)\n",
    "h5file.create_dataset('r',data=r)\n",
    "h5file.create_dataset('f',data=f)\n",
    "h5file.create_dataset('StationPairs',data=StationPairs)\n",
    "h5file.close()"
   ]
  }
 ],
 "metadata": {
  "kernelspec": {
   "display_name": "base",
   "language": "python",
   "name": "python3"
  },
  "language_info": {
   "codemirror_mode": {
    "name": "ipython",
    "version": 3
   },
   "file_extension": ".py",
   "mimetype": "text/x-python",
   "name": "python",
   "nbconvert_exporter": "python",
   "pygments_lexer": "ipython3",
   "version": "3.10.9"
  },
  "orig_nbformat": 4
 },
 "nbformat": 4,
 "nbformat_minor": 2
}
