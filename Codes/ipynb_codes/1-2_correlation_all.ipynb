{
 "cells": [
  {
   "cell_type": "code",
   "execution_count": 1,
   "metadata": {},
   "outputs": [],
   "source": [
    "import numpy as np\n",
    "import obspy\n",
    "from obspy import UTCDateTime\n",
    "from ccfj import CC\n",
    "from ccfj import GetStationPairs\n",
    "from concurrent.futures import ThreadPoolExecutor\n",
    "import os\n",
    "import time\n",
    "from geopy.distance import great_circle\n",
    "import shutil\n",
    "import pandas as pd"
   ]
  },
  {
   "cell_type": "code",
   "execution_count": 2,
   "metadata": {},
   "outputs": [],
   "source": [
    "outdir = 'CC/CC_40_test/'\n",
    "if not os.path.exists(outdir):\n",
    "    os.mkdir(outdir)\n",
    "info = {}"
   ]
  },
  {
   "attachments": {},
   "cell_type": "markdown",
   "metadata": {},
   "source": [
    "### Parameters"
   ]
  },
  {
   "cell_type": "code",
   "execution_count": 3,
   "metadata": {},
   "outputs": [],
   "source": [
    "#dir_SAC = '/home/harmon/data/data/SJFZ_nodal/2014/'\n",
    "dir_SAC = 'data_resample_1'\n",
    "#stalistname = \"sublist/stalist-2007_1\" \n",
    "stalistname = 'stations_info'\n",
    "\n",
    "y_start = 2014\n",
    "y_end = 2015\n",
    "d_start = 132\n",
    "d_end = 133\n",
    "d_len = 32\n",
    "Fs = 500\n",
    "\n",
    "fmax = 5                    # 降采样频率\n",
    "fftlen = Fs*60*5            # 用于做户相关的时间窗长度\n",
    "nf = 500                 # 输出的户相关频点数\n",
    "fstride = fmax*fftlen/nf/Fs\n",
    "f = np.arange(0, nf)*Fs/fftlen*fstride\n",
    "dt = 1/np.max(f)\n",
    "t = (np.linspace(-len(f)-1,len(f)-1,2*(len(f)-1))+0.5)*dt/2\n",
    "\n",
    "overlaprate = 0.9\n",
    "nThreads = 8                # 线程数\n",
    "\n",
    "flag_onebit = 0             # 是否进行onebit\n",
    "flag_prewhiten = 1          # 是否进行prewhiten\n",
    "\n",
    "segday = 1                  # 切割的时间段，未实现，只能为1\n",
    "npts = int(60*60*24*Fs/segday)  # total time (day)"
   ]
  },
  {
   "cell_type": "code",
   "execution_count": 4,
   "metadata": {},
   "outputs": [],
   "source": [
    "#d_start1 = 131"
   ]
  },
  {
   "cell_type": "code",
   "execution_count": 5,
   "metadata": {},
   "outputs": [],
   "source": [
    "info['dir_SAC'] = dir_SAC\n",
    "info['stalistname'] = stalistname\n",
    "info['Fs'] = Fs\n",
    "info['fmax'] = fmax\n",
    "info['fftlen'] = fftlen\n",
    "info['nf'] = nf\n",
    "info['fstride'] = fstride\n",
    "info['f'] = f\n",
    "info['t'] = t\n",
    "info['overlaprate'] = overlaprate\n",
    "info['nThreads'] = nThreads\n",
    "info['segday'] = segday\n",
    "info['npts'] = npts\n",
    "info['flag_onebit'] = flag_onebit\n",
    "info['flag_prewhiten'] = flag_prewhiten\n",
    "info['y_start'] = y_start\n",
    "info['y_end'] = y_end\n",
    "info['d_start'] = d_start\n",
    "info['d_end'] = d_end\n",
    "info['d_len'] = d_len"
   ]
  },
  {
   "cell_type": "code",
   "execution_count": 6,
   "metadata": {},
   "outputs": [],
   "source": [
    "stalistname = info['stalistname'] + '.xlsx'"
   ]
  },
  {
   "attachments": {},
   "cell_type": "markdown",
   "metadata": {},
   "source": [
    "### Correlation day by day"
   ]
  },
  {
   "cell_type": "code",
   "execution_count": 7,
   "metadata": {},
   "outputs": [],
   "source": [
    "def Checkdata(dirname):\n",
    "    global day\n",
    "    global dir_SAC\n",
    "    filename = os.path.join(dir_SAC,str(day),dirname+'.EHZ.2014.'+str(day)+'.00.00.00')\n",
    "    if os.path.exists(filename):\n",
    "        return True\n",
    "    return False\n",
    "\n",
    "\n",
    "# Set the rules for reading data\n",
    "# this will determined by the data files' distribution\n",
    "def Readdata(i):\n",
    "    global day\n",
    "    global dir_SAC\n",
    "    global npts\n",
    "    global namelist\n",
    "    global Fs\n",
    "    global data\n",
    "    global startend\n",
    "\n",
    "\n",
    "    if i%200 == 0 and i != 0:\n",
    "        print(i)\n",
    "\n",
    "    dirname = namelist[i]\n",
    "    filename = os.path.join(dir_SAC,str(day),dirname+'.EHZ.2014.'+str(day)+'.00.00.00')\n",
    "    st = obspy.read(filename)\n",
    "    st[0].detrend(type='constant')\n",
    "\n",
    "    st[0].detrend('linear')\n",
    "    st[0].detrend('demean')\n",
    "\n",
    "    st[0].detrend(\"spline\", order=3, dspline=400)\n",
    "    if st[0].stats.npts >= npts:\n",
    "        data[npts*i:npts*(i+1)] = st[0].data[0:npts]\n",
    "        startend[i*2] = 0\n",
    "        startend[i*2+1] = npts\n",
    "    else:\n",
    "        t0 = UTCDateTime(st[0].stats.starttime)\n",
    "        idx0 = int((t0.second+t0.minute*60+t0.hour*60*60)*Fs)\n",
    "        t1 = UTCDateTime(st[0].stats.endtime)\n",
    "        idx1 = int((t1.second+t1.minute*60+t1.hour*60*60)*Fs)\n",
    "        #print(i,idx0,idx1)\n",
    "        data[(npts*i+idx0):(npts*i+idx1)] = st[0].data[0:(idx1-idx0)]\n",
    "        startend[i*2] = idx0\n",
    "        startend[i*2+1] = idx1"
   ]
  },
  {
   "cell_type": "code",
   "execution_count": 9,
   "metadata": {},
   "outputs": [],
   "source": [
    "stainfo = pd.read_excel(stalistname)\n",
    "nsta = len(stainfo.iloc[:,0])\n",
    "StationPairs = GetStationPairs(nsta)\n",
    "nPairs = int(len(StationPairs)/2)\n",
    "stalist = stainfo['Station'].tolist()\n",
    "lat = stainfo['latitude'].tolist() \n",
    "lon = stainfo['longitude'].tolist()"
   ]
  },
  {
   "cell_type": "code",
   "execution_count": null,
   "metadata": {},
   "outputs": [],
   "source": [
    "days = []\n",
    "years = set()\n",
    "flag_d = 0\n",
    "start = time.time()\n",
    "for y in range(y_start,y_end):\n",
    "    for d in range(d_start,d_end): \n",
    "        for this_seg in range(segday):\n",
    "            year = str(y)\n",
    "            day = \"%03d\"%d\n",
    "            namelist = []\n",
    "            for dirname in stalist:\n",
    "                if Checkdata(dirname):\n",
    "                    namelist.append(dirname)\n",
    "            nsta = len(namelist)\n",
    "            # at least two stations needs\n",
    "            if nsta >1:\n",
    "                flag_d += 1\n",
    "                years.add(int(year))\n",
    "                days.append(d)\n",
    "                print(\"year\"+year+\" day\"+day +\" nsta \"+ str(nsta))\n",
    "                data = np.zeros([npts*nsta],dtype = np.float32)\n",
    "                startend = np.zeros([nsta*2],dtype = np.int32)\n",
    "                # using multiThreads to read data\n",
    "                pool = ThreadPoolExecutor(max_workers = nThreads)\n",
    "                start0 = time.time()\n",
    "                for i in range(nsta):\n",
    "                    pool.submit(Readdata,i)\n",
    "                pool.shutdown()\n",
    "                ## Generate a list for Station Paris \n",
    "                StationPairs = GetStationPairs(nsta)\n",
    "                nPairs = int(len(StationPairs)/2)\n",
    "                ## Crosscorrelation\n",
    "                print('finish reading data, start crosscorrelation', time.time()-start0,' seconds')\n",
    "                start0 = time.time()\n",
    "                ncfs = CC(npts, nsta, nf, fftlen, StationPairs, startend, data,\n",
    "                          fstride=fstride, overlaprate=overlaprate, nThreads=25,ifonebit=flag_onebit,ifspecwhittenning=flag_prewhiten)\n",
    "                print('finish crosscorrelation, start saving data', time.time()-start0,' seconds')\n",
    "                outname = os.path.join(outdir,year+'-'+day+'.npz')\n",
    "                if os.path.exists(outname):\n",
    "                    os.remove(outname)\n",
    "                np.savez(outname,ncfs=ncfs,StationPairs=StationPairs,stalist=namelist)\n",
    "                #print('time:',time.time()-start0,' seconds')\n",
    "                data = []\n",
    "                ncfs = []"
   ]
  },
  {
   "cell_type": "code",
   "execution_count": null,
   "metadata": {},
   "outputs": [],
   "source": [
    "filename = os.path.join(outdir+'info_CC.npy')\n",
    "np.save(filename,info)"
   ]
  },
  {
   "cell_type": "code",
   "execution_count": null,
   "metadata": {},
   "outputs": [],
   "source": [
    "info"
   ]
  }
 ],
 "metadata": {
  "kernelspec": {
   "display_name": "Python 3 (ipykernel)",
   "language": "python",
   "name": "python3"
  },
  "language_info": {
   "codemirror_mode": {
    "name": "ipython",
    "version": 3
   },
   "file_extension": ".py",
   "mimetype": "text/x-python",
   "name": "python",
   "nbconvert_exporter": "python",
   "pygments_lexer": "ipython3",
   "version": "3.9.18"
  },
  "vscode": {
   "interpreter": {
    "hash": "9e1b1cfcb63b8c4b20fd3d610677682a40199606624b55ac5cc8ef1326af990f"
   }
  }
 },
 "nbformat": 4,
 "nbformat_minor": 4
}
