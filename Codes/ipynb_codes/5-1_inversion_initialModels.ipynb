{
 "cells": [
  {
   "cell_type": "code",
   "execution_count": null,
   "metadata": {},
   "outputs": [],
   "source": [
    "import numpy as np\n",
    "import matplotlib.pyplot as plt\n",
    "import os\n",
    "import yaml"
   ]
  },
  {
   "attachments": {},
   "cell_type": "markdown",
   "metadata": {},
   "source": [
    "### Parameters"
   ]
  },
  {
   "attachments": {},
   "cell_type": "markdown",
   "metadata": {},
   "source": [
    "Vs:  Mordret 2019\n",
    "Vp/Vs: Zigone 2019 (3-4)     (0-100m)\n",
    "Density: Zigone 2019 (2-2.5) (0-100m)\n",
    "\n",
    "\n",
    "Vp: Share 2020 (0.6-2.6) (0-70m)"
   ]
  },
  {
   "cell_type": "code",
   "execution_count": null,
   "metadata": {},
   "outputs": [],
   "source": [
    "with open('a-project.yml', 'r', encoding='utf-8') as f:\n",
    "    proj = yaml.load(f.read(), Loader=yaml.FullLoader)\n",
    "proj_name = proj['name']\n",
    "#proj_name = 'project/output_FJSJ_16-02/'\n",
    "proj_name "
   ]
  },
  {
   "cell_type": "code",
   "execution_count": null,
   "metadata": {},
   "outputs": [],
   "source": [
    "filename = proj_name+'Basic_info.yml'\n",
    "with open(filename, 'r', encoding='utf-8') as f:\n",
    "    info_basic = yaml.load(f.read(), Loader=yaml.FullLoader)\n",
    "filename_bi = proj_name+'Basic_info.npy'\n",
    "info_basic_bi = np.load(filename_bi, allow_pickle='TRUE').item()      # setting dictionary"
   ]
  },
  {
   "cell_type": "code",
   "execution_count": null,
   "metadata": {},
   "outputs": [],
   "source": [
    "fmin = 2\n",
    "fmax = 40\n",
    "nf = 381\n",
    "info_basic['for_fmin'] = fmin\n",
    "info_basic['for_fmax'] = fmax\n",
    "info_basic['for_nf'] = nf\n",
    "\n",
    "with open(proj_name+'Basic_info.yml', 'w', encoding='utf-8') as f:\n",
    "   yaml.dump(data=info_basic, stream=f, allow_unicode=True)"
   ]
  },
  {
   "cell_type": "code",
   "execution_count": null,
   "metadata": {},
   "outputs": [],
   "source": [
    "old_curve_path = 'Structure/disp_data_5-15/'\n",
    "key_olds = []\n",
    "if os.path.exists(old_curve_path):\n",
    "    # read all files in the folder\n",
    "    files = os.listdir(old_curve_path)\n",
    "    for file in files:\n",
    "        key_olds.append(file[3:8])"
   ]
  },
  {
   "cell_type": "code",
   "execution_count": null,
   "metadata": {},
   "outputs": [],
   "source": [
    "dir_file = info_basic['dir_inv_dispernet'] + 'initial/'\n",
    "key_subworks = info_basic['key_subworks']\n",
    "#key_subworks = ['14-08']\n",
    "key_subworks"
   ]
  },
  {
   "cell_type": "code",
   "execution_count": null,
   "metadata": {},
   "outputs": [],
   "source": [
    "if os.path.exists(dir_file) == False:\n",
    "    os.makedirs(dir_file)"
   ]
  },
  {
   "cell_type": "code",
   "execution_count": null,
   "metadata": {},
   "outputs": [],
   "source": [
    "\n",
    "V0 = 0.3\n",
    "alpha = 0.22\n",
    "#beta = 3\n",
    "#A1 = 0.4\n",
    "#A2 = 0.1\n",
    "d0 = 0.0"
   ]
  },
  {
   "cell_type": "code",
   "execution_count": null,
   "metadata": {},
   "outputs": [],
   "source": [
    "def Vs_model(V0,alpha,d0,d):\n",
    "    Vs = V0 * ((d*1e3+1)**alpha - (d0*1e3+1)**alpha + 1)\n",
    "    return Vs\n",
    "        "
   ]
  },
  {
   "cell_type": "code",
   "execution_count": null,
   "metadata": {},
   "outputs": [],
   "source": [
    "def Vs_model_linear(V0,k,d):\n",
    "    return V0 + k*d\n",
    "        "
   ]
  },
  {
   "cell_type": "code",
   "execution_count": null,
   "metadata": {},
   "outputs": [],
   "source": [
    "def brocher(z, vs):\n",
    "    vp = np.zeros(len(z))\n",
    "    rho = np.zeros(len(z))\n",
    "    for i in range(len(vs)):\n",
    "        vp[i] = (0.9409 + 2.0947 * vs[i] - 0.8206 * vs[i]**2 +\n",
    "              0.2683 * vs[i]**3 - 0.0251 * vs[i]**4)\n",
    "        rho[i] = (1.6612 * vp[i] - 0.4721 * vp[i]**2 + 0.0671 * vp[i]**3\n",
    "               - 0.0043 * vp[i]**4 + 0.000106 * vp[i]**5)\n",
    "    return vp,rho\n",
    "\n",
    "\n",
    "def gardner(z, vs):\n",
    "    vp = np.zeros(len(z))\n",
    "    rho = np.zeros(len(z))\n",
    "\n",
    "    vp_vs_ratio = 1.7321\n",
    "    vp = vp_vs_ratio * vs\n",
    "    rho = 1.741 * vp ** 0.25\n",
    "\n",
    "    return vp,rho\n",
    "\n",
    "\n",
    "def user_defined(z, vs):\n",
    "    vp = np.zeros(len(z))\n",
    "    rho = np.zeros(len(z))\n",
    "    vp_vs_ratio = 1.5\n",
    "    vp = vp_vs_ratio * vs\n",
    "    for i in range(len(vs)):\n",
    "        vp[i] = (0.9409 + 2.0947 * vs[i] - 0.8206 * vs[i]**2 +\n",
    "              0.2683 * vs[i]**3 - 0.0251 * vs[i]**4)\n",
    "        rho[i] = (1.6612 * vp[i] - 0.4721 * vp[i]**2 + 0.0671 * vp[i]**3\n",
    "               - 0.0043 * vp[i]**4 + 0.000106 * vp[i]**5)\n",
    "        \n",
    "    return vp,rho"
   ]
  },
  {
   "cell_type": "code",
   "execution_count": null,
   "metadata": {},
   "outputs": [],
   "source": [
    "#N = 50\n",
    "#dz = 0.006\n",
    "#N = 200\n",
    "#dz = 0.0015  \n",
    "N = 100\n",
    "dz = 0.0015\n",
    "#dz = 0.002\n",
    "flag_relation = 3"
   ]
  },
  {
   "cell_type": "code",
   "execution_count": null,
   "metadata": {},
   "outputs": [],
   "source": [
    "layers = np.linspace(1,N,N)\n",
    "depths = np.zeros(N)\n",
    "for i in range(N):\n",
    "    depths[i] = d0 + i*dz\n",
    "Vp = np.zeros(N)\n",
    "Vs = np.zeros(N)\n",
    "rho = np.zeros(N)\n",
    "for i in range(N):\n",
    "    d = depths[i]\n",
    "    Vs[i] = Vs_model(V0,alpha,d0,d)\n",
    "if flag_relation == 1:\n",
    "    Vp,rho = brocher(depths,Vs)\n",
    "elif flag_relation == 2:\n",
    "    Vp,rho = gardner(depths,Vs)\n",
    "elif flag_relation == 3:\n",
    "    Vp,rho = user_defined(depths,Vs)"
   ]
  },
  {
   "cell_type": "code",
   "execution_count": null,
   "metadata": {},
   "outputs": [],
   "source": [
    "plt.plot(Vp,depths,'r',label='Vp')\n",
    "plt.plot(Vs,depths,'b',label='Vs')\n",
    "plt.plot(rho,depths,'g',label='rho')\n",
    "plt.legend()\n",
    "# 翻转y轴\n",
    "plt.gca().invert_yaxis()\n",
    "plt.xlim(0,4)"
   ]
  },
  {
   "cell_type": "code",
   "execution_count": null,
   "metadata": {},
   "outputs": [],
   "source": [
    "# write a function to write the initial model as txt file, which seperate by space，with four significant digits\n",
    "def write_initial_model(dir_file,layers,depths,Vp,Vs,rho,key_subwork):\n",
    "    with open(dir_file+'/initial_model_'+key_subwork+'.txt','w') as f:\n",
    "        for i in range(len(layers)):\n",
    "            f.write('{} {:.4f} {:.4f} {:.4f} {:.4f}\\n'.format(int(layers[i]),depths[i],Vp[i],Vs[i],rho[i]))"
   ]
  },
  {
   "cell_type": "code",
   "execution_count": null,
   "metadata": {},
   "outputs": [],
   "source": [
    "for key_subwork in key_subworks:\n",
    "    write_initial_model(dir_file,layers,depths,Vp,Vs,rho,key_subwork)"
   ]
  }
 ],
 "metadata": {
  "kernelspec": {
   "display_name": "base",
   "language": "python",
   "name": "python3"
  },
  "language_info": {
   "codemirror_mode": {
    "name": "ipython",
    "version": 3
   },
   "file_extension": ".py",
   "mimetype": "text/x-python",
   "name": "python",
   "nbconvert_exporter": "python",
   "pygments_lexer": "ipython3",
   "version": "3.7.16"
  },
  "orig_nbformat": 4
 },
 "nbformat": 4,
 "nbformat_minor": 2
}
