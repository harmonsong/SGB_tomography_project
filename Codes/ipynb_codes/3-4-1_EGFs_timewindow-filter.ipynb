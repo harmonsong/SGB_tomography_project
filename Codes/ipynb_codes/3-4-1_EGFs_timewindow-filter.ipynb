{
 "cells": [
  {
   "cell_type": "code",
   "execution_count": null,
   "metadata": {},
   "outputs": [],
   "source": [
    "import numpy as np\n",
    "import h5py\n",
    "import ccfj\n",
    "import matplotlib.pyplot as plt\n",
    "import yaml\n",
    "import os"
   ]
  },
  {
   "cell_type": "code",
   "execution_count": null,
   "metadata": {},
   "outputs": [],
   "source": [
    "import sys\n",
    "sys.path.append(r'../')\n",
    "from toollib_standard import mathlib\n",
    "from toollib_standard import plotlib"
   ]
  },
  {
   "cell_type": "code",
   "execution_count": null,
   "metadata": {},
   "outputs": [],
   "source": [
    "with open('a-project.yml', 'r', encoding='utf-8') as f:\n",
    "    proj = yaml.load(f.read(), Loader=yaml.FullLoader)\n",
    "proj_name = proj['name']\n",
    "proj_name = 'project/output_FJSJ_16-03/'\n",
    "proj_name"
   ]
  },
  {
   "cell_type": "code",
   "execution_count": null,
   "metadata": {},
   "outputs": [],
   "source": [
    "f_bands = [0,2,4,6,8,10,20,40]"
   ]
  },
  {
   "cell_type": "code",
   "execution_count": null,
   "metadata": {},
   "outputs": [],
   "source": [
    "filename = proj_name+'Basic_info.yml'\n",
    "with open(filename, 'r', encoding='utf-8') as f:\n",
    "    info_basic = yaml.load(f.read(), Loader=yaml.FullLoader)\n",
    "filename_bi = proj_name+'Basic_info.npy'\n",
    "info_basic_bi = np.load(filename_bi, allow_pickle='TRUE').item()      # setting dictionary"
   ]
  },
  {
   "cell_type": "code",
   "execution_count": null,
   "metadata": {},
   "outputs": [],
   "source": [
    "dir_stack = info_basic['dir_stack']\n",
    "t = info_basic_bi['t']\n",
    "f = info_basic_bi['f']\n",
    "dt = 1/np.max(f)\n",
    "t = (np.linspace(-len(f)-1,len(f)-1,2*(len(f)-1))+0.5)*dt/2"
   ]
  },
  {
   "cell_type": "code",
   "execution_count": null,
   "metadata": {},
   "outputs": [],
   "source": [
    "key_subworks = info_basic['key_subworks']\n",
    "#key_subworks.remove('23-08')\n",
    "#key_subworks = ['07-03']\n",
    "key_subworks"
   ]
  },
  {
   "cell_type": "code",
   "execution_count": null,
   "metadata": {},
   "outputs": [],
   "source": [
    "key_subwork = key_subworks[0]\n",
    "outname = key_subwork+'_gather_linear.h5'\n",
    "ncffile = h5py.File(dir_stack + outname,'r')\n",
    "ncfs = ncffile['ncfs'][:]\n",
    "ncfst_linear = mathlib.freq_time(ncfs)\n",
    "r = ncffile['r'][:]\n",
    "ncffile.close()"
   ]
  },
  {
   "cell_type": "code",
   "execution_count": null,
   "metadata": {},
   "outputs": [],
   "source": [
    "ncfs_sub = {}\n",
    "for i in range(len(f_bands)-1):\n",
    "    ncfs_sub[i] = np.zeros(np.shape(ncfs),dtype = complex)\n",
    "    ncfs_sub[i][:,np.where((f>=f_bands[i])&(f<=f_bands[i+1]))] = ncfs[:,np.where((f>=f_bands[i])&(f<=f_bands[i+1]))]"
   ]
  },
  {
   "cell_type": "code",
   "execution_count": null,
   "metadata": {},
   "outputs": [],
   "source": [
    "fig,ax = plt.subplots(len(f_bands),1,figsize = (15,5*len(f_bands)))\n",
    "start = info_basic['start']\n",
    "interval = info_basic['interval']\n",
    "flag_time = info_basic['flag_time']\n",
    "xlim_T = [-2,2]\n",
    "flag_this = 0\n",
    "title = 'all'\n",
    "ax[flag_this] = plotlib.plot_ncfst(ax[flag_this],t,ncfst_linear[start::interval],r[start::interval],title,flag_time,xlim_T,0)\n",
    "for i in range(len(f_bands)-1):\n",
    "    flag_this += 1\n",
    "    title = 'frequency band '+str(f_bands[i]) + '-' + str(f_bands[i+1]) + ' Hz'\n",
    "    ncfst_sub = mathlib.freq_time(ncfs_sub[i])\n",
    "    ax[flag_this] = plotlib.plot_ncfst(ax[flag_this],t,ncfst_sub[start::interval],r[start::interval],title,flag_time,xlim_T,0)"
   ]
  },
  {
   "cell_type": "code",
   "execution_count": null,
   "metadata": {},
   "outputs": [],
   "source": [
    "def time_window_filter(t,ncfst0,r,v_min,t0,a):\n",
    "    \n",
    "    ncfst = ncfst0.copy()\n",
    "    for i in range(len(ncfst)):\n",
    "        tag = r[i]/v_min\n",
    "        #print(t0,tag)\n",
    "        t1 = t[t>-tag-t0][t[t>-tag-t0]< tag+t0]\n",
    "        start = np.where(t == t1[0])[0][0]\n",
    "        end = np.where(t == t1[-1])[0][0]\n",
    "        ncfst[i][start:end+1]= ncfst[i][start:end+1]* np.exp(-a*np.abs((tag-np.abs(t1))))\n",
    "    return ncfst"
   ]
  },
  {
   "cell_type": "code",
   "execution_count": null,
   "metadata": {},
   "outputs": [],
   "source": [
    "ncfst_remove_sub = {}"
   ]
  },
  {
   "cell_type": "code",
   "execution_count": null,
   "metadata": {},
   "outputs": [],
   "source": [
    "v_tag = 100000\n",
    "t0 = 0.1\n",
    "a = 50\n",
    "for i in range(len(ncfs_sub)):\n",
    "    ncfst_sub = mathlib.freq_time(ncfs_sub[i])\n",
    "    ncfst_remove_sub[i] = time_window_filter(t,ncfst_sub,r,v_tag,t0,a)"
   ]
  },
  {
   "cell_type": "code",
   "execution_count": null,
   "metadata": {},
   "outputs": [],
   "source": [
    "fig,ax = plt.subplots(len(f_bands)-1,2,figsize = (15,5*(len(f_bands))-1))\n",
    "start = info_basic['start']\n",
    "interval = info_basic['interval']\n",
    "flag_time = info_basic['flag_time']\n",
    "xlim_T = [-4,4]\n",
    "flag_this = 0\n",
    "title = 'all'\n",
    "#ax[0][flag_this] = plotlib.plot_ncfst(ax[0][flag_this],t,ncfst_linear[start::interval],r[start::interval],title,flag_time,xlim_T,0)\n",
    "for i in range(len(f_bands)-1):\n",
    "    title = 'frequency band '+str(f_bands[i]) + '-' + str(f_bands[i+1]) + ' Hz'\n",
    "    ncfst_sub = mathlib.freq_time(ncfs_sub[i])\n",
    "    ax[flag_this][0] = plotlib.plot_ncfst(ax[flag_this][0],t,ncfst_sub[start::interval],r[start::interval],title,flag_time,xlim_T,0)\n",
    "    title = 'remove frequency band '+str(f_bands[i]) + '-' + str(f_bands[i+1]) + ' Hz'\n",
    "    ax[flag_this][1] = plotlib.plot_ncfst(ax[flag_this][1],t,ncfst_remove_sub[i][start::interval],r[start::interval],title,flag_time,xlim_T,0)\n",
    "    flag_this += 1\n",
    "    "
   ]
  },
  {
   "cell_type": "markdown",
   "metadata": {},
   "source": [
    "### Gaussian time window"
   ]
  },
  {
   "cell_type": "code",
   "execution_count": null,
   "metadata": {},
   "outputs": [],
   "source": [
    "def time_window_filter(t,ncfst0,r,v_min,t0,a):\n",
    "    \n",
    "    ncfst = ncfst0.copy()\n",
    "    for i in range(len(ncfst)):\n",
    "        tag = r[i]/v_min\n",
    "        #print(t0,tag)\n",
    "        t1 = t[t>-tag-t0][t[t>-tag-t0]< tag+t0]\n",
    "        start = np.where(t == t1[0])[0][0]\n",
    "        end = np.where(t == t1[-1])[0][0]\n",
    "        ncfst[i][start:end+1]= ncfst[i][start:end+1]* np.exp(-a*np.abs((tag-np.abs(t1))))\n",
    "    return ncfst"
   ]
  },
  {
   "cell_type": "code",
   "execution_count": null,
   "metadata": {},
   "outputs": [],
   "source": [
    "def remove_zorocor(v_tag,t0,a,proj_name,flag_save,key_subwork_sample = []):\n",
    "    filename = proj_name+'Basic_info.yml'\n",
    "    with open(filename, 'r', encoding='utf-8') as f:\n",
    "        info_basic = yaml.load(f.read(), Loader=yaml.FullLoader)\n",
    "    filename_bi = proj_name+'Basic_info.npy'\n",
    "    info_basic_bi = np.load(filename_bi, allow_pickle='TRUE').item()      # setting dictionary\n",
    "    key_subworks = info_basic['key_subworks']\n",
    "    #key_subworks = ['08-10']\n",
    "\n",
    "    flag_this = 0\n",
    "    flag_all = len(key_subworks)\n",
    "    \n",
    "\n",
    "    for key_subwork in key_subworks:\n",
    "        #v_tag = info_basic_bi['v_min'][key_subwork]\n",
    "        #print(key_subwork)\n",
    "        flag_this += 1\n",
    "        dir_stack = info_basic['dir_stack']\n",
    "        #t = info_basic_bi['t']\n",
    "        f = info_basic_bi['f']\n",
    "        dt = 1/np.max(f)\n",
    "        t = np.linspace(-len(f)-1,len(f)-1,2*(len(f)-1))*dt/2\n",
    "        t = (np.linspace(-len(f)-1,len(f)-1,2*(len(f)-1))+0.5)*dt/2\n",
    "\n",
    "        inname = key_subwork+'_gather_linear.h5'\n",
    "        outname = key_subwork+'_gather_timewindow.h5'\n",
    "        ncffile_in = h5py.File(dir_stack + inname,'r')\n",
    "        if os.path.exists(dir_stack+outname):\n",
    "            os.remove(dir_stack+outname)\n",
    "        ncffile = h5py.File(dir_stack+outname,'w')\n",
    "\n",
    "        #print(ncffile.keys())\n",
    "\n",
    "        ncfs_sum_linear = ncffile_in['ncfs'][:]\n",
    "        r = ncffile_in['r'][:]\n",
    "\n",
    "        ncfst_linear = mathlib.freq_time(ncfs_sum_linear)\n",
    "        ncfst1 = time_window_filter(t,ncfst_linear,r,v_tag,t0,a)\n",
    "        ncfs_sum_remove = mathlib.time_freq(ncfst1)\n",
    "\n",
    "        \n",
    "\n",
    "        if flag_save:\n",
    "            #print('save')\n",
    "            ncffile.create_dataset('ncfs', data=ncfs_sum_remove) \n",
    "            ncffile.create_dataset('r',data=r)\n",
    "            ncffile.close()  \n",
    "        #ncffile.create_dataset('r', data=r)\n",
    "        else:\n",
    "            print('unsave')\n",
    "            #print(ncffile.keys())\n",
    "            ncffile.close()    \n",
    "            \n",
    "            return ncfs_sum_remove\n",
    "        \n",
    "        print(key_subwork+' is done! ' + str(flag_this) + '/' + str(flag_all))\n",
    "            "
   ]
  },
  {
   "cell_type": "code",
   "execution_count": null,
   "metadata": {},
   "outputs": [],
   "source": [
    "v_tag = 0.65\n",
    "a = 10\n",
    "t0 = 0.0\n",
    "#tag = 0.00055\n",
    "#a = 0.5\n",
    "key_subwork_sample = [key_subworks[0]]\n",
    "ncfs_sum_linear_remove = remove_zorocor(v_tag,t0,a,proj_name,0,key_subwork_sample)"
   ]
  },
  {
   "cell_type": "code",
   "execution_count": null,
   "metadata": {},
   "outputs": [],
   "source": [
    "info_basic['v_tag'] = v_tag\n",
    "info_basic['t0'] = t0\n",
    "with open(proj_name+'Basic_info.yml', 'w', encoding='utf-8') as f:\n",
    "   yaml.dump(data=info_basic, stream=f, allow_unicode=True)"
   ]
  },
  {
   "cell_type": "code",
   "execution_count": null,
   "metadata": {},
   "outputs": [],
   "source": [
    "key_subwork = key_subwork_sample[0]\n",
    "outname = key_subwork+'_gather_linear.h5'\n",
    "ncffile = h5py.File(dir_stack + outname,'r')\n",
    "#ncfs_sum_linear_remove = ncffile['ncfs_remove'][:]\n",
    "ncfst_linear_remove = mathlib.freq_time(ncfs_sum_linear_remove)\n",
    "ncfs_sum_linear = ncffile['ncfs'][:]\n",
    "ncfst_linear = mathlib.freq_time(ncfs_sum_linear)\n",
    "r = ncffile['r'][:]\n",
    "ncffile.close()"
   ]
  },
  {
   "cell_type": "code",
   "execution_count": null,
   "metadata": {},
   "outputs": [],
   "source": [
    "fig,ax = plt.subplots(1,2,figsize = (20,10))\n",
    "\n",
    "start = info_basic['start']\n",
    "interval = info_basic['interval']\n",
    "flag_time = info_basic['flag_time']\n",
    "xlim_T = [-1,1]\n",
    "title1 = 'Linear'\n",
    "ax[0] = plotlib.plot_ncfst(ax[0],t,ncfst_linear[start::interval],r[start::interval],title1,flag_time,xlim_T,0)\n",
    "#ax[0].vlines(tag,0,0.2,linestyles='dashed',colors='g')\n",
    "#ax[0].vlines(-tag,0,0.2,linestyles='dashed',colors='g')\n",
    "ax[1] = plotlib.plot_ncfst(ax[1],t,ncfst_linear_remove[start::interval],r[start::interval],title1,flag_time,xlim_T,0)\n",
    "#ax[1].vlines(tag,0,0.2,linestyles='dashed',colors='g')\n",
    "#ax[1].vlines(-tag,0,0.2,linestyles='dashed',colors='g')\n",
    "for i in range(0,len(r),interval):\n",
    "    ax[0].plot(t0+r[i]/v_tag,r[i],'r.')\n",
    "    ax[0].plot(-t0-r[i]/v_tag,r[i],'r.')\n",
    "    ax[1].plot(t0+r[i]/v_tag,r[i],'r.')\n",
    "    ax[1].plot(-t0-r[i]/v_tag,r[i],'r.')\n",
    "plt.tight_layout()\n",
    "plt.show()"
   ]
  },
  {
   "cell_type": "code",
   "execution_count": null,
   "metadata": {},
   "outputs": [],
   "source": [
    "remove_zorocor(v_tag,t0,a,proj_name,1)"
   ]
  },
  {
   "cell_type": "code",
   "execution_count": null,
   "metadata": {},
   "outputs": [],
   "source": []
  }
 ],
 "metadata": {
  "kernelspec": {
   "display_name": "base",
   "language": "python",
   "name": "python3"
  },
  "language_info": {
   "codemirror_mode": {
    "name": "ipython",
    "version": 3
   },
   "file_extension": ".py",
   "mimetype": "text/x-python",
   "name": "python",
   "nbconvert_exporter": "python",
   "pygments_lexer": "ipython3",
   "version": "3.9.18"
  },
  "orig_nbformat": 4
 },
 "nbformat": 4,
 "nbformat_minor": 2
}
