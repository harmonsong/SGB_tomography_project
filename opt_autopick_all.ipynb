{
 "cells": [
  {
   "cell_type": "code",
   "execution_count": 1,
   "metadata": {},
   "outputs": [],
   "source": [
    "import numpy as np\n",
    "import os\n",
    "import matplotlib.pyplot as plt\n",
    "import h5py\n",
    "from scipy import interpolate\n",
    "from ccfj import GetStationPairs\n",
    "import pandas as pd\n",
    "import yaml\n",
    "import geopandas as gp\n",
    "import openpyxl\n",
    "from openpyxl import load_workbook\n",
    "from concurrent.futures import ThreadPoolExecutor\n",
    "\n",
    "from scipy.interpolate import make_interp_spline\n",
    "from scipy.stats import ks_2samp\n",
    "from scipy.spatial import ConvexHull\n",
    "from skimage import measure"
   ]
  },
  {
   "cell_type": "code",
   "execution_count": 2,
   "metadata": {},
   "outputs": [],
   "source": [
    "import sys\n",
    "sys.path.append(r'../tools_F-J/')\n",
    "from toollib_standard import plotlib"
   ]
  },
  {
   "cell_type": "code",
   "execution_count": 3,
   "metadata": {},
   "outputs": [
    {
     "data": {
      "text/plain": [
       "'project/output_FJSJ_17-02/'"
      ]
     },
     "execution_count": 3,
     "metadata": {},
     "output_type": "execute_result"
    }
   ],
   "source": [
    "name_project = 'project/output_FJSJ_17-02/'               # Harmon server\n",
    "name_project"
   ]
  },
  {
   "cell_type": "code",
   "execution_count": 4,
   "metadata": {},
   "outputs": [
    {
     "name": "stdout",
     "output_type": "stream",
     "text": [
      "dir_CC_workspace:  /shdisk/rem2/Harmon/F-J/San/\n",
      "dir_project_workspace:  /shdisk/rem2/Harmon/F-J/San/\n",
      "dir_project:  /shdisk/rem2/Harmon/F-J/San/project/output_FJSJ_17-02/\n"
     ]
    }
   ],
   "source": [
    "with open('0_config.yml', 'r', encoding='utf-8') as f:\n",
    "    dir_config = yaml.load(f.read(), Loader=yaml.FullLoader)\n",
    "dir_project_workspace = dir_config['dir_project_workspace']\n",
    "dir_CC_workspace = dir_config['dir_CC_workspace']\n",
    "print('dir_CC_workspace: ', dir_CC_workspace)\n",
    "print('dir_project_workspace: ', dir_project_workspace)\n",
    "dir_project = os.path.join(dir_project_workspace, name_project)\n",
    "print('dir_project: ', dir_project)"
   ]
  },
  {
   "cell_type": "code",
   "execution_count": 5,
   "metadata": {},
   "outputs": [],
   "source": [
    "filename = dir_project+'Basic_info.yml'\n",
    "with open(filename, 'r', encoding='utf-8') as f:\n",
    "    info_basic = yaml.load(f.read(), Loader=yaml.FullLoader)\n",
    "filename_bi = dir_project+'Basic_info.npy'\n",
    "info_basic_bi = np.load(filename_bi, allow_pickle='TRUE').item()      # setting dictionary"
   ]
  },
  {
   "cell_type": "code",
   "execution_count": 6,
   "metadata": {},
   "outputs": [
    {
     "data": {
      "text/plain": [
       "['07-03',\n",
       " '08-03',\n",
       " '09-03',\n",
       " '10-03',\n",
       " '11-03',\n",
       " '12-03',\n",
       " '13-03',\n",
       " '14-03',\n",
       " '15-03',\n",
       " '16-03',\n",
       " '17-03',\n",
       " '18-03',\n",
       " '19-03',\n",
       " '20-03',\n",
       " '21-03',\n",
       " '22-03',\n",
       " '23-03',\n",
       " '24-03',\n",
       " '25-03',\n",
       " '26-03',\n",
       " '27-03',\n",
       " '28-03',\n",
       " '29-03',\n",
       " '30-03',\n",
       " '31-03',\n",
       " '32-03',\n",
       " '33-03',\n",
       " '34-03',\n",
       " '35-03',\n",
       " '36-03',\n",
       " '37-03',\n",
       " '38-03',\n",
       " '39-03',\n",
       " '40-03',\n",
       " '41-03',\n",
       " '42-03',\n",
       " '43-03',\n",
       " '44-03',\n",
       " '45-03',\n",
       " '46-03',\n",
       " '47-03',\n",
       " '48-03',\n",
       " '49-03',\n",
       " '50-03',\n",
       " '51-03',\n",
       " '52-03',\n",
       " '53-03',\n",
       " '54-03',\n",
       " '07-04',\n",
       " '08-04',\n",
       " '09-04',\n",
       " '10-04',\n",
       " '11-04',\n",
       " '12-04',\n",
       " '13-04',\n",
       " '14-04',\n",
       " '15-04',\n",
       " '16-04',\n",
       " '17-04',\n",
       " '18-04',\n",
       " '19-04',\n",
       " '20-04',\n",
       " '21-04',\n",
       " '22-04',\n",
       " '23-04',\n",
       " '24-04',\n",
       " '25-04',\n",
       " '26-04',\n",
       " '27-04',\n",
       " '28-04',\n",
       " '29-04',\n",
       " '30-04',\n",
       " '31-04',\n",
       " '32-04',\n",
       " '33-04',\n",
       " '34-04',\n",
       " '35-04',\n",
       " '36-04',\n",
       " '37-04',\n",
       " '38-04',\n",
       " '39-04',\n",
       " '40-04',\n",
       " '41-04',\n",
       " '42-04',\n",
       " '43-04',\n",
       " '44-04',\n",
       " '45-04',\n",
       " '46-04',\n",
       " '47-04',\n",
       " '48-04',\n",
       " '49-04',\n",
       " '50-04',\n",
       " '51-04',\n",
       " '52-04',\n",
       " '53-04',\n",
       " '54-04',\n",
       " '07-05',\n",
       " '08-05',\n",
       " '09-05',\n",
       " '10-05',\n",
       " '11-05',\n",
       " '12-05',\n",
       " '13-05',\n",
       " '14-05',\n",
       " '15-05',\n",
       " '16-05',\n",
       " '17-05',\n",
       " '18-05',\n",
       " '19-05',\n",
       " '20-05',\n",
       " '21-05',\n",
       " '22-05',\n",
       " '23-05',\n",
       " '24-05',\n",
       " '25-05',\n",
       " '26-05',\n",
       " '27-05',\n",
       " '28-05',\n",
       " '29-05',\n",
       " '30-05',\n",
       " '31-05',\n",
       " '32-05',\n",
       " '33-05',\n",
       " '34-05',\n",
       " '35-05',\n",
       " '36-05',\n",
       " '37-05',\n",
       " '38-05',\n",
       " '39-05',\n",
       " '40-05',\n",
       " '41-05',\n",
       " '42-05',\n",
       " '43-05',\n",
       " '44-05',\n",
       " '45-05',\n",
       " '46-05',\n",
       " '47-05',\n",
       " '48-05',\n",
       " '49-05',\n",
       " '50-05',\n",
       " '51-05',\n",
       " '52-05',\n",
       " '53-05',\n",
       " '54-05',\n",
       " '07-06',\n",
       " '08-06',\n",
       " '09-06',\n",
       " '10-06',\n",
       " '11-06',\n",
       " '12-06',\n",
       " '13-06',\n",
       " '14-06',\n",
       " '15-06',\n",
       " '16-06',\n",
       " '17-06',\n",
       " '18-06',\n",
       " '19-06',\n",
       " '20-06',\n",
       " '21-06',\n",
       " '22-06',\n",
       " '23-06',\n",
       " '24-06',\n",
       " '25-06',\n",
       " '26-06',\n",
       " '27-06',\n",
       " '28-06',\n",
       " '29-06',\n",
       " '30-06',\n",
       " '31-06',\n",
       " '32-06',\n",
       " '33-06',\n",
       " '34-06',\n",
       " '35-06',\n",
       " '36-06',\n",
       " '37-06',\n",
       " '38-06',\n",
       " '39-06',\n",
       " '40-06',\n",
       " '41-06',\n",
       " '42-06',\n",
       " '43-06',\n",
       " '44-06',\n",
       " '45-06',\n",
       " '46-06',\n",
       " '47-06',\n",
       " '48-06',\n",
       " '49-06',\n",
       " '50-06',\n",
       " '51-06',\n",
       " '52-06',\n",
       " '53-06',\n",
       " '54-06',\n",
       " '07-07',\n",
       " '08-07',\n",
       " '09-07',\n",
       " '10-07',\n",
       " '11-07',\n",
       " '12-07',\n",
       " '13-07',\n",
       " '14-07',\n",
       " '15-07',\n",
       " '16-07',\n",
       " '17-07',\n",
       " '18-07',\n",
       " '19-07',\n",
       " '20-07',\n",
       " '21-07',\n",
       " '22-07',\n",
       " '23-07',\n",
       " '24-07',\n",
       " '25-07',\n",
       " '26-07',\n",
       " '27-07',\n",
       " '28-07',\n",
       " '29-07',\n",
       " '30-07',\n",
       " '31-07',\n",
       " '32-07',\n",
       " '33-07',\n",
       " '34-07',\n",
       " '35-07',\n",
       " '36-07',\n",
       " '37-07',\n",
       " '38-07',\n",
       " '39-07',\n",
       " '40-07',\n",
       " '41-07',\n",
       " '42-07',\n",
       " '43-07',\n",
       " '44-07',\n",
       " '45-07',\n",
       " '46-07',\n",
       " '47-07',\n",
       " '48-07',\n",
       " '49-07',\n",
       " '50-07',\n",
       " '51-07',\n",
       " '52-07',\n",
       " '53-07',\n",
       " '54-07',\n",
       " '07-08',\n",
       " '08-08',\n",
       " '09-08',\n",
       " '10-08',\n",
       " '11-08',\n",
       " '12-08',\n",
       " '13-08',\n",
       " '14-08',\n",
       " '15-08',\n",
       " '16-08',\n",
       " '17-08',\n",
       " '18-08',\n",
       " '19-08',\n",
       " '20-08',\n",
       " '21-08',\n",
       " '22-08',\n",
       " '23-08',\n",
       " '24-08',\n",
       " '25-08',\n",
       " '26-08',\n",
       " '27-08',\n",
       " '28-08',\n",
       " '29-08',\n",
       " '30-08',\n",
       " '31-08',\n",
       " '32-08',\n",
       " '33-08',\n",
       " '34-08',\n",
       " '35-08',\n",
       " '36-08',\n",
       " '37-08',\n",
       " '38-08',\n",
       " '39-08',\n",
       " '40-08',\n",
       " '41-08',\n",
       " '42-08',\n",
       " '43-08',\n",
       " '44-08',\n",
       " '45-08',\n",
       " '46-08',\n",
       " '47-08',\n",
       " '48-08',\n",
       " '49-08',\n",
       " '50-08',\n",
       " '51-08',\n",
       " '52-08',\n",
       " '53-08',\n",
       " '54-08',\n",
       " '07-09',\n",
       " '08-09',\n",
       " '09-09',\n",
       " '10-09',\n",
       " '11-09',\n",
       " '12-09',\n",
       " '13-09',\n",
       " '14-09',\n",
       " '15-09',\n",
       " '16-09',\n",
       " '17-09',\n",
       " '18-09',\n",
       " '19-09',\n",
       " '20-09',\n",
       " '21-09',\n",
       " '22-09',\n",
       " '23-09',\n",
       " '24-09',\n",
       " '25-09',\n",
       " '26-09',\n",
       " '27-09',\n",
       " '28-09',\n",
       " '29-09',\n",
       " '30-09',\n",
       " '31-09',\n",
       " '32-09',\n",
       " '33-09',\n",
       " '34-09',\n",
       " '35-09',\n",
       " '36-09',\n",
       " '37-09',\n",
       " '38-09',\n",
       " '39-09',\n",
       " '40-09',\n",
       " '41-09',\n",
       " '42-09',\n",
       " '43-09',\n",
       " '44-09',\n",
       " '45-09',\n",
       " '46-09',\n",
       " '47-09',\n",
       " '48-09',\n",
       " '49-09',\n",
       " '50-09',\n",
       " '51-09',\n",
       " '52-09',\n",
       " '53-09',\n",
       " '54-09',\n",
       " '07-10',\n",
       " '08-10',\n",
       " '09-10',\n",
       " '10-10',\n",
       " '11-10',\n",
       " '12-10',\n",
       " '13-10',\n",
       " '14-10',\n",
       " '15-10',\n",
       " '16-10',\n",
       " '17-10',\n",
       " '18-10',\n",
       " '19-10',\n",
       " '20-10',\n",
       " '21-10',\n",
       " '22-10',\n",
       " '23-10',\n",
       " '24-10',\n",
       " '25-10',\n",
       " '26-10',\n",
       " '27-10',\n",
       " '28-10',\n",
       " '29-10',\n",
       " '30-10',\n",
       " '31-10',\n",
       " '32-10',\n",
       " '33-10',\n",
       " '34-10',\n",
       " '35-10',\n",
       " '36-10',\n",
       " '37-10',\n",
       " '38-10',\n",
       " '39-10',\n",
       " '40-10',\n",
       " '41-10',\n",
       " '42-10',\n",
       " '43-10',\n",
       " '44-10',\n",
       " '45-10',\n",
       " '46-10',\n",
       " '47-10',\n",
       " '48-10',\n",
       " '49-10',\n",
       " '50-10',\n",
       " '51-10',\n",
       " '52-10',\n",
       " '53-10',\n",
       " '54-10',\n",
       " '07-11',\n",
       " '08-11',\n",
       " '09-11',\n",
       " '10-11',\n",
       " '11-11',\n",
       " '12-11',\n",
       " '13-11',\n",
       " '14-11',\n",
       " '15-11',\n",
       " '16-11',\n",
       " '17-11',\n",
       " '18-11',\n",
       " '19-11',\n",
       " '20-11',\n",
       " '21-11',\n",
       " '22-11',\n",
       " '23-11',\n",
       " '24-11',\n",
       " '25-11',\n",
       " '26-11',\n",
       " '27-11',\n",
       " '28-11',\n",
       " '29-11',\n",
       " '30-11',\n",
       " '31-11',\n",
       " '32-11',\n",
       " '33-11',\n",
       " '34-11',\n",
       " '35-11',\n",
       " '36-11',\n",
       " '37-11',\n",
       " '38-11',\n",
       " '39-11',\n",
       " '40-11',\n",
       " '41-11',\n",
       " '42-11',\n",
       " '43-11',\n",
       " '44-11',\n",
       " '45-11',\n",
       " '46-11',\n",
       " '47-11',\n",
       " '48-11',\n",
       " '49-11',\n",
       " '50-11',\n",
       " '51-11',\n",
       " '52-11',\n",
       " '53-11',\n",
       " '54-11',\n",
       " '07-12',\n",
       " '08-12',\n",
       " '09-12',\n",
       " '10-12',\n",
       " '11-12',\n",
       " '12-12',\n",
       " '13-12',\n",
       " '14-12',\n",
       " '15-12',\n",
       " '16-12',\n",
       " '17-12',\n",
       " '18-12',\n",
       " '19-12',\n",
       " '20-12',\n",
       " '21-12',\n",
       " '22-12',\n",
       " '23-12',\n",
       " '24-12',\n",
       " '25-12',\n",
       " '26-12',\n",
       " '27-12',\n",
       " '28-12',\n",
       " '29-12',\n",
       " '30-12',\n",
       " '31-12',\n",
       " '32-12',\n",
       " '33-12',\n",
       " '34-12',\n",
       " '35-12',\n",
       " '36-12',\n",
       " '37-12',\n",
       " '38-12',\n",
       " '39-12',\n",
       " '40-12',\n",
       " '41-12',\n",
       " '42-12',\n",
       " '43-12',\n",
       " '44-12',\n",
       " '45-12',\n",
       " '46-12',\n",
       " '47-12',\n",
       " '48-12',\n",
       " '49-12',\n",
       " '50-12',\n",
       " '51-12',\n",
       " '52-12',\n",
       " '53-12',\n",
       " '54-12',\n",
       " '07-13',\n",
       " '08-13',\n",
       " '09-13',\n",
       " '10-13',\n",
       " '11-13',\n",
       " '12-13',\n",
       " '13-13',\n",
       " '14-13',\n",
       " '15-13',\n",
       " '16-13',\n",
       " '17-13',\n",
       " '18-13',\n",
       " '19-13',\n",
       " '20-13',\n",
       " '21-13',\n",
       " '22-13',\n",
       " '23-13',\n",
       " '24-13',\n",
       " '25-13',\n",
       " '26-13',\n",
       " '27-13',\n",
       " '28-13',\n",
       " '29-13',\n",
       " '30-13',\n",
       " '31-13',\n",
       " '32-13',\n",
       " '33-13',\n",
       " '34-13',\n",
       " '35-13',\n",
       " '36-13',\n",
       " '37-13',\n",
       " '38-13',\n",
       " '39-13',\n",
       " '40-13',\n",
       " '41-13',\n",
       " '42-13',\n",
       " '43-13',\n",
       " '44-13',\n",
       " '45-13',\n",
       " '46-13',\n",
       " '47-13',\n",
       " '48-13',\n",
       " '49-13',\n",
       " '50-13',\n",
       " '51-13',\n",
       " '52-13',\n",
       " '53-13',\n",
       " '54-13',\n",
       " '07-14',\n",
       " '08-14',\n",
       " '09-14',\n",
       " '10-14',\n",
       " '11-14',\n",
       " '12-14',\n",
       " '13-14',\n",
       " '14-14',\n",
       " '15-14',\n",
       " '16-14',\n",
       " '17-14',\n",
       " '18-14',\n",
       " '19-14',\n",
       " '20-14',\n",
       " '21-14',\n",
       " '22-14',\n",
       " '23-14',\n",
       " '24-14',\n",
       " '25-14',\n",
       " '26-14',\n",
       " '27-14',\n",
       " '28-14',\n",
       " '29-14',\n",
       " '30-14',\n",
       " '31-14',\n",
       " '32-14',\n",
       " '33-14',\n",
       " '34-14',\n",
       " '35-14',\n",
       " '36-14',\n",
       " '37-14',\n",
       " '38-14',\n",
       " '39-14',\n",
       " '40-14',\n",
       " '41-14',\n",
       " '42-14',\n",
       " '43-14',\n",
       " '44-14',\n",
       " '45-14',\n",
       " '46-14',\n",
       " '47-14',\n",
       " '48-14',\n",
       " '49-14',\n",
       " '50-14',\n",
       " '51-14',\n",
       " '52-14',\n",
       " '53-14',\n",
       " '54-14',\n",
       " '07-15',\n",
       " '08-15',\n",
       " '09-15',\n",
       " '10-15',\n",
       " '11-15',\n",
       " '12-15',\n",
       " '13-15',\n",
       " '14-15',\n",
       " '15-15',\n",
       " '16-15',\n",
       " '17-15',\n",
       " '18-15',\n",
       " '19-15',\n",
       " '20-15',\n",
       " '21-15',\n",
       " '22-15',\n",
       " '23-15',\n",
       " '24-15',\n",
       " '25-15',\n",
       " '26-15',\n",
       " '27-15',\n",
       " '28-15',\n",
       " '29-15',\n",
       " '30-15',\n",
       " '31-15',\n",
       " '32-15',\n",
       " '33-15',\n",
       " '34-15',\n",
       " '35-15',\n",
       " '36-15',\n",
       " '37-15',\n",
       " '38-15',\n",
       " '39-15',\n",
       " '40-15',\n",
       " '41-15',\n",
       " '42-15',\n",
       " '43-15',\n",
       " '44-15',\n",
       " '45-15',\n",
       " '46-15',\n",
       " '47-15',\n",
       " '48-15',\n",
       " '49-15',\n",
       " '50-15',\n",
       " '51-15',\n",
       " '52-15',\n",
       " '53-15',\n",
       " '54-15',\n",
       " '07-16',\n",
       " '08-16',\n",
       " '09-16',\n",
       " '10-16',\n",
       " '11-16',\n",
       " '12-16',\n",
       " '13-16',\n",
       " '14-16',\n",
       " '15-16',\n",
       " '16-16',\n",
       " '17-16',\n",
       " '18-16',\n",
       " '19-16',\n",
       " '20-16',\n",
       " '21-16',\n",
       " '22-16',\n",
       " '23-16',\n",
       " '24-16',\n",
       " '25-16',\n",
       " '26-16',\n",
       " '27-16',\n",
       " '28-16',\n",
       " '29-16',\n",
       " '30-16',\n",
       " '31-16',\n",
       " '32-16',\n",
       " '33-16',\n",
       " '34-16',\n",
       " '35-16',\n",
       " '36-16',\n",
       " '37-16',\n",
       " '38-16',\n",
       " '39-16',\n",
       " '40-16',\n",
       " '41-16',\n",
       " '42-16',\n",
       " '43-16',\n",
       " '44-16',\n",
       " '45-16',\n",
       " '46-16',\n",
       " '47-16',\n",
       " '48-16',\n",
       " '49-16',\n",
       " '50-16',\n",
       " '51-16',\n",
       " '52-16',\n",
       " '53-16',\n",
       " '54-16',\n",
       " '07-17',\n",
       " '08-17',\n",
       " '09-17',\n",
       " '10-17',\n",
       " '11-17',\n",
       " '12-17',\n",
       " '13-17',\n",
       " '14-17',\n",
       " '15-17',\n",
       " '16-17',\n",
       " '17-17',\n",
       " '18-17',\n",
       " '19-17',\n",
       " '20-17',\n",
       " '21-17',\n",
       " '22-17',\n",
       " '23-17',\n",
       " '24-17',\n",
       " '25-17',\n",
       " '26-17',\n",
       " '27-17',\n",
       " '28-17',\n",
       " '29-17',\n",
       " '30-17',\n",
       " '31-17',\n",
       " '32-17',\n",
       " '33-17',\n",
       " '34-17',\n",
       " '35-17',\n",
       " '36-17',\n",
       " '37-17',\n",
       " '38-17',\n",
       " '39-17',\n",
       " '40-17',\n",
       " '41-17',\n",
       " '42-17',\n",
       " '43-17',\n",
       " '44-17',\n",
       " '45-17',\n",
       " '46-17',\n",
       " '47-17',\n",
       " '48-17',\n",
       " '49-17',\n",
       " '50-17',\n",
       " '51-17',\n",
       " '52-17',\n",
       " '53-17',\n",
       " '54-17',\n",
       " '07-18',\n",
       " '08-18',\n",
       " '09-18',\n",
       " '10-18',\n",
       " '11-18',\n",
       " '12-18',\n",
       " '13-18',\n",
       " '14-18',\n",
       " '15-18',\n",
       " '16-18',\n",
       " '17-18',\n",
       " '18-18',\n",
       " '19-18',\n",
       " '20-18',\n",
       " '21-18',\n",
       " '22-18',\n",
       " '23-18',\n",
       " '24-18',\n",
       " '25-18',\n",
       " '26-18',\n",
       " '27-18',\n",
       " '28-18',\n",
       " '29-18',\n",
       " '30-18',\n",
       " '31-18',\n",
       " '32-18',\n",
       " '33-18',\n",
       " '34-18',\n",
       " '35-18',\n",
       " '36-18',\n",
       " '37-18',\n",
       " '38-18',\n",
       " '39-18',\n",
       " '40-18',\n",
       " '41-18',\n",
       " '42-18',\n",
       " '43-18',\n",
       " '44-18',\n",
       " '45-18',\n",
       " '46-18',\n",
       " '47-18',\n",
       " '48-18',\n",
       " '49-18',\n",
       " '50-18',\n",
       " '51-18',\n",
       " '52-18',\n",
       " '53-18',\n",
       " '54-18']"
      ]
     },
     "execution_count": 6,
     "metadata": {},
     "output_type": "execute_result"
    }
   ],
   "source": [
    "key_subworks = info_basic['key_subworks']\n",
    "key_subworks"
   ]
  },
  {
   "cell_type": "code",
   "execution_count": 7,
   "metadata": {},
   "outputs": [
    {
     "name": "stdout",
     "output_type": "stream",
     "text": [
      "dir_image:  /shdisk/rem2/Harmon/F-J/San/project/output_FJSJ_17-02/image_17-02/\n",
      "dir_ds:  /shdisk/rem2/Harmon/F-J/San/project/output_FJSJ_17-02/ds_17-02/\n"
     ]
    }
   ],
   "source": [
    "dir_image = dir_project+info_basic['dir_image']\n",
    "dir_ds = dir_project+info_basic['dir_ds']\n",
    "print('dir_image: ', dir_image)\n",
    "print('dir_ds: ', dir_ds)"
   ]
  },
  {
   "cell_type": "code",
   "execution_count": 8,
   "metadata": {},
   "outputs": [
    {
     "name": "stdout",
     "output_type": "stream",
     "text": [
      "dir_disp:  /shdisk/rem2/Harmon/F-J/San/project/output_FJSJ_17-02/autopick17-02//\n"
     ]
    }
   ],
   "source": [
    "dir_disp =  'autopick'+info_basic['tag']+'/'\n",
    "info_basic['dir_disp'] = dir_disp\n",
    "dir_disp = dir_project+dir_disp\n",
    "if not os.path.exists(dir_disp):\n",
    "    os.makedirs(dir_disp)\n",
    "print('dir_disp: ', dir_disp)"
   ]
  },
  {
   "cell_type": "code",
   "execution_count": 9,
   "metadata": {},
   "outputs": [],
   "source": [
    "ds_remove_all = {}\n",
    "for key_subwork in key_subworks:\n",
    "    ds = h5py.File(dir_ds+'ds_'+key_subwork+'.h5', 'r')\n",
    "    ds_remove = ds['ds_remove'][0]\n",
    "    ds.close()\n",
    "    ds_remove_all[key_subwork] = ds_remove"
   ]
  },
  {
   "cell_type": "markdown",
   "metadata": {},
   "source": [
    "### Pick probes' Phase velocity automatically"
   ]
  },
  {
   "cell_type": "code",
   "execution_count": 10,
   "metadata": {},
   "outputs": [],
   "source": [
    "def find_nearest(array, value):\n",
    "    array = np.asarray(array)\n",
    "    idx = (np.abs(array - value)).argmin()\n",
    "    return array[idx]"
   ]
  },
  {
   "cell_type": "code",
   "execution_count": 11,
   "metadata": {},
   "outputs": [],
   "source": [
    "def cluster_fundamental(ds):\n",
    "    global f\n",
    "    global c\n",
    "    global f_new\n",
    "    global c_new\n",
    "    global dir_ds\n",
    "    global threshold\n",
    "    # 归一化\n",
    "    #ds = ds / np.max(ds)  \n",
    "    ds = np.nan_to_num(ds)\n",
    "    for i in range(ds.shape[1]):\n",
    "        ds[:,i] = ds[:,i]/np.max(ds[:,i])\n",
    "\n",
    "    binary_ds = ds > threshold\n",
    "    label_ds,num_labels = measure.label(binary_ds, connectivity=2, return_num=True)\n",
    "    region_areas = [np.sum(label_ds==i) for i in range(1,num_labels+1)]\n",
    "    if num_labels == 0:\n",
    "        return np.zeros(0),np.zeros(0)\n",
    "    max_area_label = np.argmax(region_areas) + 1\n",
    "    largest_cluster = label_ds == max_area_label\n",
    "    indices = np.argwhere(largest_cluster)\n",
    "\n",
    "    ff = f_new[indices[:,1]]\n",
    "    cc = c_new[indices[:,0]]\n",
    "\n",
    "    return ff,cc"
   ]
  },
  {
   "cell_type": "code",
   "execution_count": 12,
   "metadata": {},
   "outputs": [],
   "source": [
    "def pick_fundamental(key):\n",
    "    global f\n",
    "    global c\n",
    "    global f_new\n",
    "    global c_new\n",
    "    global flag_f\n",
    "    global flag_c\n",
    "    global dir_ds\n",
    "    global threshold\n",
    "    global dir_disp\n",
    "    global dir_ds\n",
    "    global info_basic\n",
    "    global info_basic_bi\n",
    "    global smooth_cluster\n",
    "    global smooth_pick\n",
    "    global key_subworks\n",
    "    global ds_remove_all\n",
    "\n",
    "    \n",
    "    ds_remove = ds_remove_all[key]\n",
    "    grace = 0.0\n",
    "\n",
    "    f_start = flag_f[0]\n",
    "    f_end = flag_f[1]\n",
    "    c_min = flag_c[0]\n",
    "    c_max = flag_c[1]\n",
    "\n",
    "    ff_all = []\n",
    "    cc_all = []\n",
    "\n",
    "\n",
    "    while f_start != f_end:\n",
    "        #print(f_start,f_end)\n",
    "        f_new = f[np.logical_and(f>f_start,f <= f_end)]\n",
    "        c_new = c[np.logical_and(c>c_min,c < c_max)]\n",
    "        ds_new0 = ds_remove[np.logical_and(c>c_min,c < c_max),:]\n",
    "        ds_new = ds_new0[:,np.logical_and(f>f_start,f <= f_end)]\n",
    "        # 对数组进行横向的平滑\n",
    "        ds_new = pd.DataFrame(ds_new)\n",
    "        #ds_new = ds_new.rolling(100).mean()\n",
    "        ds_new = ds_new.T\n",
    "        ds_new = ds_new.rolling(smooth_cluster).mean()\n",
    "        ds_new = np.array(ds_new)\n",
    "        ds_new = ds_new.T\n",
    "        ff,cc = cluster_fundamental(ds_new)\n",
    "        if len(ff_all) == 0:\n",
    "            ff_all = ff\n",
    "            cc_all = cc\n",
    "        elif len(ff) != 0:\n",
    "            ff_all = np.hstack((ff_all,ff))\n",
    "            cc_all = np.hstack((cc_all,cc))\n",
    "        else:\n",
    "            #print('this')\n",
    "            break\n",
    "        f_start = np.max(ff)\n",
    "        c_max = np.max(cc[ff==f_start]) + grace\n",
    "    \n",
    "    # smooth\n",
    "    # 转置\n",
    "    ds_smooth = ds_remove.T\n",
    "    ds_smooth = pd.DataFrame(ds_smooth)\n",
    "    ds_smooth = ds_smooth.rolling(smooth_pick).mean()\n",
    "    ds_smooth = np.array(ds_smooth)\n",
    "    ds_smooth = ds_smooth.T\n",
    "    ds_smooth = pd.DataFrame(ds_smooth)\n",
    "    ds_smooth = ds_smooth.rolling(smooth_pick).mean()\n",
    "    ds_smooth = np.array(ds_smooth)\n",
    "\n",
    "    f_range = set(ff_all)\n",
    "    f_range = list(f_range)\n",
    "    c_pick = []\n",
    "    for i in range(len(f_range)):\n",
    "        f_this = f_range[i]\n",
    "        c_this = cc_all[ff_all==f_this]\n",
    "        c_range = [np.min(c_this),np.max(c_this)]\n",
    "        c_new = c[np.logical_and(c>=c_range[0],c<=c_range[1])]\n",
    "        c_pick.append(c_new[np.argmax(ds_smooth[np.logical_and(c>=c_range[0],c<=c_range[1]),f==f_this])])\n",
    "    \n",
    "    # save as txt\n",
    "    np.savetxt(dir_disp+'autopick_'+key+'.txt', np.array([f_range,c_pick]).T, fmt='%.4f', delimiter=',')\n",
    "    print('finish '+ key + ' '+str(key_subworks.index(key)+1) + '/'+str(len(key_subworks)))"
   ]
  },
  {
   "cell_type": "code",
   "execution_count": 13,
   "metadata": {},
   "outputs": [],
   "source": [
    "f = info_basic_bi['f']\n",
    "c = np.linspace(info_basic['c_min'],info_basic['c_max'],info_basic['c_num'])\n",
    "flag_c = [0.2,1.2]\n",
    "flag_f = [2,15]\n",
    "threshold = 0.3\n",
    "f_new = f[np.logical_and(f>flag_f[0],f < flag_f[1])]\n",
    "c_new = c[np.logical_and(c>flag_c[0],c < flag_c[1])]\n",
    "smooth_cluster = 50\n",
    "smooth_pick = 5"
   ]
  },
  {
   "cell_type": "code",
   "execution_count": 14,
   "metadata": {},
   "outputs": [
    {
     "name": "stderr",
     "output_type": "stream",
     "text": [
      "/tmp/ipykernel_29545/2543580824.py:12: RuntimeWarning: invalid value encountered in divide\n",
      "  ds[:,i] = ds[:,i]/np.max(ds[:,i])\n"
     ]
    },
    {
     "name": "stdout",
     "output_type": "stream",
     "text": [
      "finish 07-03 1/768\n",
      "finish 08-03 2/768\n"
     ]
    },
    {
     "name": "stderr",
     "output_type": "stream",
     "text": [
      "/tmp/ipykernel_29545/2543580824.py:12: RuntimeWarning: invalid value encountered in divide\n",
      "  ds[:,i] = ds[:,i]/np.max(ds[:,i])\n",
      "/tmp/ipykernel_29545/2543580824.py:12: RuntimeWarning: invalid value encountered in divide\n",
      "  ds[:,i] = ds[:,i]/np.max(ds[:,i])\n"
     ]
    },
    {
     "name": "stdout",
     "output_type": "stream",
     "text": [
      "finish 09-03 3/768\n",
      "finish 10-03 4/768\n"
     ]
    },
    {
     "name": "stderr",
     "output_type": "stream",
     "text": [
      "/tmp/ipykernel_29545/2543580824.py:12: RuntimeWarning: invalid value encountered in divide\n",
      "  ds[:,i] = ds[:,i]/np.max(ds[:,i])\n",
      "/tmp/ipykernel_29545/2543580824.py:12: RuntimeWarning: invalid value encountered in divide\n",
      "  ds[:,i] = ds[:,i]/np.max(ds[:,i])\n"
     ]
    },
    {
     "name": "stdout",
     "output_type": "stream",
     "text": [
      "finish 11-03 5/768\n",
      "finish 12-03 6/768\n"
     ]
    },
    {
     "name": "stderr",
     "output_type": "stream",
     "text": [
      "/tmp/ipykernel_29545/2543580824.py:12: RuntimeWarning: invalid value encountered in divide\n",
      "  ds[:,i] = ds[:,i]/np.max(ds[:,i])\n",
      "/tmp/ipykernel_29545/2543580824.py:12: RuntimeWarning: invalid value encountered in divide\n",
      "  ds[:,i] = ds[:,i]/np.max(ds[:,i])\n"
     ]
    },
    {
     "name": "stdout",
     "output_type": "stream",
     "text": [
      "finish 13-03 7/768\n",
      "finish 14-03 8/768\n"
     ]
    },
    {
     "name": "stderr",
     "output_type": "stream",
     "text": [
      "/tmp/ipykernel_29545/2543580824.py:12: RuntimeWarning: invalid value encountered in divide\n",
      "  ds[:,i] = ds[:,i]/np.max(ds[:,i])\n",
      "/tmp/ipykernel_29545/2543580824.py:12: RuntimeWarning: invalid value encountered in divide\n",
      "  ds[:,i] = ds[:,i]/np.max(ds[:,i])\n"
     ]
    },
    {
     "name": "stdout",
     "output_type": "stream",
     "text": [
      "finish 15-03 9/768\n",
      "finish 16-03 10/768\n"
     ]
    },
    {
     "name": "stderr",
     "output_type": "stream",
     "text": [
      "/tmp/ipykernel_29545/2543580824.py:12: RuntimeWarning: invalid value encountered in divide\n",
      "  ds[:,i] = ds[:,i]/np.max(ds[:,i])\n",
      "/tmp/ipykernel_29545/2543580824.py:12: RuntimeWarning: invalid value encountered in divide\n",
      "  ds[:,i] = ds[:,i]/np.max(ds[:,i])\n"
     ]
    },
    {
     "name": "stdout",
     "output_type": "stream",
     "text": [
      "finish 17-03 11/768\n",
      "finish 18-03 12/768\n"
     ]
    },
    {
     "name": "stderr",
     "output_type": "stream",
     "text": [
      "/tmp/ipykernel_29545/2543580824.py:12: RuntimeWarning: invalid value encountered in divide\n",
      "  ds[:,i] = ds[:,i]/np.max(ds[:,i])\n",
      "/tmp/ipykernel_29545/2543580824.py:12: RuntimeWarning: invalid value encountered in divide\n",
      "  ds[:,i] = ds[:,i]/np.max(ds[:,i])\n"
     ]
    },
    {
     "name": "stdout",
     "output_type": "stream",
     "text": [
      "finish 19-03 13/768\n",
      "finish 20-03 14/768\n"
     ]
    },
    {
     "name": "stderr",
     "output_type": "stream",
     "text": [
      "/tmp/ipykernel_29545/2543580824.py:12: RuntimeWarning: invalid value encountered in divide\n",
      "  ds[:,i] = ds[:,i]/np.max(ds[:,i])\n",
      "/tmp/ipykernel_29545/2543580824.py:12: RuntimeWarning: invalid value encountered in divide\n",
      "  ds[:,i] = ds[:,i]/np.max(ds[:,i])\n"
     ]
    },
    {
     "name": "stdout",
     "output_type": "stream",
     "text": [
      "finish 21-03 15/768\n"
     ]
    },
    {
     "name": "stderr",
     "output_type": "stream",
     "text": [
      "/tmp/ipykernel_29545/2543580824.py:12: RuntimeWarning: invalid value encountered in divide\n",
      "  ds[:,i] = ds[:,i]/np.max(ds[:,i])\n"
     ]
    },
    {
     "name": "stdout",
     "output_type": "stream",
     "text": [
      "finish 22-03 16/768\n",
      "finish 23-03 17/768\n"
     ]
    },
    {
     "name": "stderr",
     "output_type": "stream",
     "text": [
      "/tmp/ipykernel_29545/2543580824.py:12: RuntimeWarning: invalid value encountered in divide\n",
      "  ds[:,i] = ds[:,i]/np.max(ds[:,i])\n",
      "/tmp/ipykernel_29545/2543580824.py:12: RuntimeWarning: invalid value encountered in divide\n",
      "  ds[:,i] = ds[:,i]/np.max(ds[:,i])\n"
     ]
    },
    {
     "name": "stdout",
     "output_type": "stream",
     "text": [
      "finish 24-03 18/768\n",
      "finish 25-03 19/768\n"
     ]
    },
    {
     "name": "stderr",
     "output_type": "stream",
     "text": [
      "/tmp/ipykernel_29545/2543580824.py:12: RuntimeWarning: invalid value encountered in divide\n",
      "  ds[:,i] = ds[:,i]/np.max(ds[:,i])\n",
      "/tmp/ipykernel_29545/2543580824.py:12: RuntimeWarning: invalid value encountered in divide\n",
      "  ds[:,i] = ds[:,i]/np.max(ds[:,i])\n"
     ]
    },
    {
     "name": "stdout",
     "output_type": "stream",
     "text": [
      "finish 26-03 20/768\n",
      "finish 27-03 21/768\n"
     ]
    },
    {
     "name": "stderr",
     "output_type": "stream",
     "text": [
      "/tmp/ipykernel_29545/2543580824.py:12: RuntimeWarning: invalid value encountered in divide\n",
      "  ds[:,i] = ds[:,i]/np.max(ds[:,i])\n",
      "/tmp/ipykernel_29545/2543580824.py:12: RuntimeWarning: invalid value encountered in divide\n",
      "  ds[:,i] = ds[:,i]/np.max(ds[:,i])\n"
     ]
    },
    {
     "name": "stdout",
     "output_type": "stream",
     "text": [
      "finish 28-03 22/768\n",
      "finish 29-03 23/768\n"
     ]
    },
    {
     "name": "stderr",
     "output_type": "stream",
     "text": [
      "/tmp/ipykernel_29545/2543580824.py:12: RuntimeWarning: invalid value encountered in divide\n",
      "  ds[:,i] = ds[:,i]/np.max(ds[:,i])\n",
      "/tmp/ipykernel_29545/2543580824.py:12: RuntimeWarning: invalid value encountered in divide\n",
      "  ds[:,i] = ds[:,i]/np.max(ds[:,i])\n"
     ]
    },
    {
     "name": "stdout",
     "output_type": "stream",
     "text": [
      "finish 30-03 24/768\n",
      "finish 31-03 25/768\n"
     ]
    },
    {
     "name": "stderr",
     "output_type": "stream",
     "text": [
      "/tmp/ipykernel_29545/2543580824.py:12: RuntimeWarning: invalid value encountered in divide\n",
      "  ds[:,i] = ds[:,i]/np.max(ds[:,i])\n",
      "/tmp/ipykernel_29545/2543580824.py:12: RuntimeWarning: invalid value encountered in divide\n",
      "  ds[:,i] = ds[:,i]/np.max(ds[:,i])\n"
     ]
    },
    {
     "name": "stdout",
     "output_type": "stream",
     "text": [
      "finish 32-03 26/768\n"
     ]
    },
    {
     "name": "stderr",
     "output_type": "stream",
     "text": [
      "/tmp/ipykernel_29545/2543580824.py:12: RuntimeWarning: invalid value encountered in divide\n",
      "  ds[:,i] = ds[:,i]/np.max(ds[:,i])\n",
      "/tmp/ipykernel_29545/2543580824.py:12: RuntimeWarning: invalid value encountered in divide\n",
      "  ds[:,i] = ds[:,i]/np.max(ds[:,i])\n"
     ]
    },
    {
     "name": "stdout",
     "output_type": "stream",
     "text": [
      "finish 33-03 27/768\n",
      "finish 34-03 28/768\n"
     ]
    },
    {
     "name": "stderr",
     "output_type": "stream",
     "text": [
      "/tmp/ipykernel_29545/2543580824.py:12: RuntimeWarning: invalid value encountered in divide\n",
      "  ds[:,i] = ds[:,i]/np.max(ds[:,i])\n"
     ]
    },
    {
     "name": "stdout",
     "output_type": "stream",
     "text": [
      "finish 35-03 29/768\n",
      "finish 36-03 30/768\n"
     ]
    },
    {
     "name": "stderr",
     "output_type": "stream",
     "text": [
      "/tmp/ipykernel_29545/2543580824.py:12: RuntimeWarning: invalid value encountered in divide\n",
      "  ds[:,i] = ds[:,i]/np.max(ds[:,i])\n",
      "/tmp/ipykernel_29545/2543580824.py:12: RuntimeWarning: invalid value encountered in divide\n",
      "  ds[:,i] = ds[:,i]/np.max(ds[:,i])\n"
     ]
    },
    {
     "name": "stdout",
     "output_type": "stream",
     "text": [
      "finish 37-03 31/768\n",
      "finish 38-03 32/768\n"
     ]
    },
    {
     "name": "stderr",
     "output_type": "stream",
     "text": [
      "/tmp/ipykernel_29545/2543580824.py:12: RuntimeWarning: invalid value encountered in divide\n",
      "  ds[:,i] = ds[:,i]/np.max(ds[:,i])\n",
      "/tmp/ipykernel_29545/2543580824.py:12: RuntimeWarning: invalid value encountered in divide\n",
      "  ds[:,i] = ds[:,i]/np.max(ds[:,i])\n"
     ]
    },
    {
     "name": "stdout",
     "output_type": "stream",
     "text": [
      "finish 39-03 33/768\n",
      "finish 40-03 34/768\n"
     ]
    },
    {
     "name": "stderr",
     "output_type": "stream",
     "text": [
      "/tmp/ipykernel_29545/2543580824.py:12: RuntimeWarning: invalid value encountered in divide\n",
      "  ds[:,i] = ds[:,i]/np.max(ds[:,i])\n",
      "/tmp/ipykernel_29545/2543580824.py:12: RuntimeWarning: invalid value encountered in divide\n",
      "  ds[:,i] = ds[:,i]/np.max(ds[:,i])\n"
     ]
    },
    {
     "name": "stdout",
     "output_type": "stream",
     "text": [
      "finish 41-03 35/768\n",
      "finish 42-03 36/768\n"
     ]
    },
    {
     "name": "stderr",
     "output_type": "stream",
     "text": [
      "/tmp/ipykernel_29545/2543580824.py:12: RuntimeWarning: invalid value encountered in divide\n",
      "  ds[:,i] = ds[:,i]/np.max(ds[:,i])\n",
      "/tmp/ipykernel_29545/2543580824.py:12: RuntimeWarning: invalid value encountered in divide\n",
      "  ds[:,i] = ds[:,i]/np.max(ds[:,i])\n"
     ]
    },
    {
     "name": "stdout",
     "output_type": "stream",
     "text": [
      "finish 43-03 37/768\n",
      "finish 44-03 38/768\n"
     ]
    },
    {
     "name": "stderr",
     "output_type": "stream",
     "text": [
      "/tmp/ipykernel_29545/2543580824.py:12: RuntimeWarning: invalid value encountered in divide\n",
      "  ds[:,i] = ds[:,i]/np.max(ds[:,i])\n",
      "/tmp/ipykernel_29545/2543580824.py:12: RuntimeWarning: invalid value encountered in divide\n",
      "  ds[:,i] = ds[:,i]/np.max(ds[:,i])\n"
     ]
    },
    {
     "name": "stdout",
     "output_type": "stream",
     "text": [
      "finish 45-03 39/768\n",
      "finish 46-03 40/768\n"
     ]
    },
    {
     "name": "stderr",
     "output_type": "stream",
     "text": [
      "/tmp/ipykernel_29545/2543580824.py:12: RuntimeWarning: invalid value encountered in divide\n",
      "  ds[:,i] = ds[:,i]/np.max(ds[:,i])\n",
      "/tmp/ipykernel_29545/2543580824.py:12: RuntimeWarning: invalid value encountered in divide\n",
      "  ds[:,i] = ds[:,i]/np.max(ds[:,i])\n"
     ]
    },
    {
     "name": "stdout",
     "output_type": "stream",
     "text": [
      "finish 47-03 41/768\n",
      "finish 48-03 42/768\n"
     ]
    },
    {
     "name": "stderr",
     "output_type": "stream",
     "text": [
      "/tmp/ipykernel_29545/2543580824.py:12: RuntimeWarning: invalid value encountered in divide\n",
      "  ds[:,i] = ds[:,i]/np.max(ds[:,i])\n",
      "/tmp/ipykernel_29545/2543580824.py:12: RuntimeWarning: invalid value encountered in divide\n",
      "  ds[:,i] = ds[:,i]/np.max(ds[:,i])\n"
     ]
    },
    {
     "name": "stdout",
     "output_type": "stream",
     "text": [
      "finish 49-03 43/768\n",
      "finish 50-03 44/768\n"
     ]
    },
    {
     "name": "stderr",
     "output_type": "stream",
     "text": [
      "/tmp/ipykernel_29545/2543580824.py:12: RuntimeWarning: invalid value encountered in divide\n",
      "  ds[:,i] = ds[:,i]/np.max(ds[:,i])\n",
      "/tmp/ipykernel_29545/2543580824.py:12: RuntimeWarning: invalid value encountered in divide\n",
      "  ds[:,i] = ds[:,i]/np.max(ds[:,i])\n"
     ]
    },
    {
     "name": "stdout",
     "output_type": "stream",
     "text": [
      "finish 51-03 45/768\n",
      "finish 52-03 46/768\n"
     ]
    },
    {
     "name": "stderr",
     "output_type": "stream",
     "text": [
      "/tmp/ipykernel_29545/2543580824.py:12: RuntimeWarning: invalid value encountered in divide\n",
      "  ds[:,i] = ds[:,i]/np.max(ds[:,i])\n",
      "/tmp/ipykernel_29545/2543580824.py:12: RuntimeWarning: invalid value encountered in divide\n",
      "  ds[:,i] = ds[:,i]/np.max(ds[:,i])\n"
     ]
    },
    {
     "name": "stdout",
     "output_type": "stream",
     "text": [
      "finish 53-03 47/768\n",
      "finish 54-03 48/768\n"
     ]
    },
    {
     "name": "stderr",
     "output_type": "stream",
     "text": [
      "/tmp/ipykernel_29545/2543580824.py:12: RuntimeWarning: invalid value encountered in divide\n",
      "  ds[:,i] = ds[:,i]/np.max(ds[:,i])\n",
      "/tmp/ipykernel_29545/2543580824.py:12: RuntimeWarning: invalid value encountered in divide\n",
      "  ds[:,i] = ds[:,i]/np.max(ds[:,i])\n"
     ]
    },
    {
     "name": "stdout",
     "output_type": "stream",
     "text": [
      "finish 07-04 49/768\n",
      "finish 08-04 50/768\n"
     ]
    },
    {
     "name": "stderr",
     "output_type": "stream",
     "text": [
      "/tmp/ipykernel_29545/2543580824.py:12: RuntimeWarning: invalid value encountered in divide\n",
      "  ds[:,i] = ds[:,i]/np.max(ds[:,i])\n",
      "/tmp/ipykernel_29545/2543580824.py:12: RuntimeWarning: invalid value encountered in divide\n",
      "  ds[:,i] = ds[:,i]/np.max(ds[:,i])\n"
     ]
    },
    {
     "name": "stdout",
     "output_type": "stream",
     "text": [
      "finish 09-04 51/768\n",
      "finish 10-04 52/768\n"
     ]
    },
    {
     "name": "stderr",
     "output_type": "stream",
     "text": [
      "/tmp/ipykernel_29545/2543580824.py:12: RuntimeWarning: invalid value encountered in divide\n",
      "  ds[:,i] = ds[:,i]/np.max(ds[:,i])\n",
      "/tmp/ipykernel_29545/2543580824.py:12: RuntimeWarning: invalid value encountered in divide\n",
      "  ds[:,i] = ds[:,i]/np.max(ds[:,i])\n"
     ]
    },
    {
     "name": "stdout",
     "output_type": "stream",
     "text": [
      "finish 11-04 53/768\n",
      "finish 12-04 54/768\n"
     ]
    },
    {
     "name": "stderr",
     "output_type": "stream",
     "text": [
      "/tmp/ipykernel_29545/2543580824.py:12: RuntimeWarning: invalid value encountered in divide\n",
      "  ds[:,i] = ds[:,i]/np.max(ds[:,i])\n",
      "/tmp/ipykernel_29545/2543580824.py:12: RuntimeWarning: invalid value encountered in divide\n",
      "  ds[:,i] = ds[:,i]/np.max(ds[:,i])\n"
     ]
    },
    {
     "name": "stdout",
     "output_type": "stream",
     "text": [
      "finish 13-04 55/768\n",
      "finish 14-04 56/768\n"
     ]
    },
    {
     "name": "stderr",
     "output_type": "stream",
     "text": [
      "/tmp/ipykernel_29545/2543580824.py:12: RuntimeWarning: invalid value encountered in divide\n",
      "  ds[:,i] = ds[:,i]/np.max(ds[:,i])\n",
      "/tmp/ipykernel_29545/2543580824.py:12: RuntimeWarning: invalid value encountered in divide\n",
      "  ds[:,i] = ds[:,i]/np.max(ds[:,i])\n"
     ]
    },
    {
     "name": "stdout",
     "output_type": "stream",
     "text": [
      "finish 15-04 57/768\n",
      "finish 16-04 58/768\n"
     ]
    },
    {
     "name": "stderr",
     "output_type": "stream",
     "text": [
      "/tmp/ipykernel_29545/2543580824.py:12: RuntimeWarning: invalid value encountered in divide\n",
      "  ds[:,i] = ds[:,i]/np.max(ds[:,i])\n",
      "/tmp/ipykernel_29545/2543580824.py:12: RuntimeWarning: invalid value encountered in divide\n",
      "  ds[:,i] = ds[:,i]/np.max(ds[:,i])\n"
     ]
    },
    {
     "name": "stdout",
     "output_type": "stream",
     "text": [
      "finish 17-04 59/768\n",
      "finish 18-04 60/768\n"
     ]
    },
    {
     "name": "stderr",
     "output_type": "stream",
     "text": [
      "/tmp/ipykernel_29545/2543580824.py:12: RuntimeWarning: invalid value encountered in divide\n",
      "  ds[:,i] = ds[:,i]/np.max(ds[:,i])\n",
      "/tmp/ipykernel_29545/2543580824.py:12: RuntimeWarning: invalid value encountered in divide\n",
      "  ds[:,i] = ds[:,i]/np.max(ds[:,i])\n"
     ]
    },
    {
     "name": "stdout",
     "output_type": "stream",
     "text": [
      "finish 19-04 61/768\n",
      "finish 20-04 62/768\n"
     ]
    },
    {
     "name": "stderr",
     "output_type": "stream",
     "text": [
      "/tmp/ipykernel_29545/2543580824.py:12: RuntimeWarning: invalid value encountered in divide\n",
      "  ds[:,i] = ds[:,i]/np.max(ds[:,i])\n",
      "/tmp/ipykernel_29545/2543580824.py:12: RuntimeWarning: invalid value encountered in divide\n",
      "  ds[:,i] = ds[:,i]/np.max(ds[:,i])\n"
     ]
    },
    {
     "name": "stdout",
     "output_type": "stream",
     "text": [
      "finish 21-04 63/768\n",
      "finish 22-04 64/768\n"
     ]
    },
    {
     "name": "stderr",
     "output_type": "stream",
     "text": [
      "/tmp/ipykernel_29545/2543580824.py:12: RuntimeWarning: invalid value encountered in divide\n",
      "  ds[:,i] = ds[:,i]/np.max(ds[:,i])\n",
      "/tmp/ipykernel_29545/2543580824.py:12: RuntimeWarning: invalid value encountered in divide\n",
      "  ds[:,i] = ds[:,i]/np.max(ds[:,i])\n"
     ]
    },
    {
     "name": "stdout",
     "output_type": "stream",
     "text": [
      "finish 23-04 65/768\n",
      "finish 24-04 66/768\n"
     ]
    },
    {
     "name": "stderr",
     "output_type": "stream",
     "text": [
      "/tmp/ipykernel_29545/2543580824.py:12: RuntimeWarning: invalid value encountered in divide\n",
      "  ds[:,i] = ds[:,i]/np.max(ds[:,i])\n",
      "/tmp/ipykernel_29545/2543580824.py:12: RuntimeWarning: invalid value encountered in divide\n",
      "  ds[:,i] = ds[:,i]/np.max(ds[:,i])\n"
     ]
    },
    {
     "name": "stdout",
     "output_type": "stream",
     "text": [
      "finish 25-04 67/768\n",
      "finish 26-04 68/768\n"
     ]
    },
    {
     "name": "stderr",
     "output_type": "stream",
     "text": [
      "/tmp/ipykernel_29545/2543580824.py:12: RuntimeWarning: invalid value encountered in divide\n",
      "  ds[:,i] = ds[:,i]/np.max(ds[:,i])\n",
      "/tmp/ipykernel_29545/2543580824.py:12: RuntimeWarning: invalid value encountered in divide\n",
      "  ds[:,i] = ds[:,i]/np.max(ds[:,i])\n"
     ]
    },
    {
     "name": "stdout",
     "output_type": "stream",
     "text": [
      "finish 27-04 69/768\n",
      "finish 28-04 70/768\n"
     ]
    },
    {
     "name": "stderr",
     "output_type": "stream",
     "text": [
      "/tmp/ipykernel_29545/2543580824.py:12: RuntimeWarning: invalid value encountered in divide\n",
      "  ds[:,i] = ds[:,i]/np.max(ds[:,i])\n",
      "/tmp/ipykernel_29545/2543580824.py:12: RuntimeWarning: invalid value encountered in divide\n",
      "  ds[:,i] = ds[:,i]/np.max(ds[:,i])\n"
     ]
    },
    {
     "name": "stdout",
     "output_type": "stream",
     "text": [
      "finish 29-04 71/768\n",
      "finish 30-04 72/768\n"
     ]
    },
    {
     "name": "stderr",
     "output_type": "stream",
     "text": [
      "/tmp/ipykernel_29545/2543580824.py:12: RuntimeWarning: invalid value encountered in divide\n",
      "  ds[:,i] = ds[:,i]/np.max(ds[:,i])\n",
      "/tmp/ipykernel_29545/2543580824.py:12: RuntimeWarning: invalid value encountered in divide\n",
      "  ds[:,i] = ds[:,i]/np.max(ds[:,i])\n"
     ]
    },
    {
     "name": "stdout",
     "output_type": "stream",
     "text": [
      "finish 31-04 73/768\n",
      "finish 32-04 74/768\n"
     ]
    },
    {
     "name": "stderr",
     "output_type": "stream",
     "text": [
      "/tmp/ipykernel_29545/2543580824.py:12: RuntimeWarning: invalid value encountered in divide\n",
      "  ds[:,i] = ds[:,i]/np.max(ds[:,i])\n",
      "/tmp/ipykernel_29545/2543580824.py:12: RuntimeWarning: invalid value encountered in divide\n",
      "  ds[:,i] = ds[:,i]/np.max(ds[:,i])\n"
     ]
    },
    {
     "name": "stdout",
     "output_type": "stream",
     "text": [
      "finish 33-04 75/768\n",
      "finish 34-04 76/768\n"
     ]
    },
    {
     "name": "stderr",
     "output_type": "stream",
     "text": [
      "/tmp/ipykernel_29545/2543580824.py:12: RuntimeWarning: invalid value encountered in divide\n",
      "  ds[:,i] = ds[:,i]/np.max(ds[:,i])\n",
      "/tmp/ipykernel_29545/2543580824.py:12: RuntimeWarning: invalid value encountered in divide\n",
      "  ds[:,i] = ds[:,i]/np.max(ds[:,i])\n"
     ]
    },
    {
     "name": "stdout",
     "output_type": "stream",
     "text": [
      "finish 35-04 77/768\n",
      "finish 36-04 78/768\n"
     ]
    },
    {
     "name": "stderr",
     "output_type": "stream",
     "text": [
      "/tmp/ipykernel_29545/2543580824.py:12: RuntimeWarning: invalid value encountered in divide\n",
      "  ds[:,i] = ds[:,i]/np.max(ds[:,i])\n",
      "/tmp/ipykernel_29545/2543580824.py:12: RuntimeWarning: invalid value encountered in divide\n",
      "  ds[:,i] = ds[:,i]/np.max(ds[:,i])\n"
     ]
    },
    {
     "name": "stdout",
     "output_type": "stream",
     "text": [
      "finish 37-04 79/768\n",
      "finish 38-04 80/768\n"
     ]
    },
    {
     "name": "stderr",
     "output_type": "stream",
     "text": [
      "/tmp/ipykernel_29545/2543580824.py:12: RuntimeWarning: invalid value encountered in divide\n",
      "  ds[:,i] = ds[:,i]/np.max(ds[:,i])\n",
      "/tmp/ipykernel_29545/2543580824.py:12: RuntimeWarning: invalid value encountered in divide\n",
      "  ds[:,i] = ds[:,i]/np.max(ds[:,i])\n"
     ]
    },
    {
     "name": "stdout",
     "output_type": "stream",
     "text": [
      "finish 39-04 81/768\n",
      "finish 40-04 82/768\n"
     ]
    },
    {
     "name": "stderr",
     "output_type": "stream",
     "text": [
      "/tmp/ipykernel_29545/2543580824.py:12: RuntimeWarning: invalid value encountered in divide\n",
      "  ds[:,i] = ds[:,i]/np.max(ds[:,i])\n",
      "/tmp/ipykernel_29545/2543580824.py:12: RuntimeWarning: invalid value encountered in divide\n",
      "  ds[:,i] = ds[:,i]/np.max(ds[:,i])\n"
     ]
    },
    {
     "name": "stdout",
     "output_type": "stream",
     "text": [
      "finish 41-04 83/768\n",
      "finish 42-04 84/768\n"
     ]
    },
    {
     "name": "stderr",
     "output_type": "stream",
     "text": [
      "/tmp/ipykernel_29545/2543580824.py:12: RuntimeWarning: invalid value encountered in divide\n",
      "  ds[:,i] = ds[:,i]/np.max(ds[:,i])\n",
      "/tmp/ipykernel_29545/2543580824.py:12: RuntimeWarning: invalid value encountered in divide\n",
      "  ds[:,i] = ds[:,i]/np.max(ds[:,i])\n",
      "/tmp/ipykernel_29545/2543580824.py:12: RuntimeWarning: invalid value encountered in divide\n",
      "  ds[:,i] = ds[:,i]/np.max(ds[:,i])\n"
     ]
    },
    {
     "name": "stdout",
     "output_type": "stream",
     "text": [
      "finish 43-04 85/768\n"
     ]
    },
    {
     "name": "stderr",
     "output_type": "stream",
     "text": [
      "/tmp/ipykernel_29545/2543580824.py:12: RuntimeWarning: invalid value encountered in divide\n",
      "  ds[:,i] = ds[:,i]/np.max(ds[:,i])\n"
     ]
    },
    {
     "name": "stdout",
     "output_type": "stream",
     "text": [
      "finish 44-04 86/768\n",
      "finish 45-04 87/768\n"
     ]
    },
    {
     "name": "stderr",
     "output_type": "stream",
     "text": [
      "/tmp/ipykernel_29545/2543580824.py:12: RuntimeWarning: invalid value encountered in divide\n",
      "  ds[:,i] = ds[:,i]/np.max(ds[:,i])\n",
      "/tmp/ipykernel_29545/2543580824.py:12: RuntimeWarning: invalid value encountered in divide\n",
      "  ds[:,i] = ds[:,i]/np.max(ds[:,i])\n"
     ]
    },
    {
     "name": "stdout",
     "output_type": "stream",
     "text": [
      "finish 46-04 88/768\n",
      "finish 47-04 89/768\n"
     ]
    },
    {
     "name": "stderr",
     "output_type": "stream",
     "text": [
      "/tmp/ipykernel_29545/2543580824.py:12: RuntimeWarning: invalid value encountered in divide\n",
      "  ds[:,i] = ds[:,i]/np.max(ds[:,i])\n",
      "/tmp/ipykernel_29545/2543580824.py:12: RuntimeWarning: invalid value encountered in divide\n",
      "  ds[:,i] = ds[:,i]/np.max(ds[:,i])\n"
     ]
    },
    {
     "name": "stdout",
     "output_type": "stream",
     "text": [
      "finish 48-04 90/768\n",
      "finish 49-04 91/768\n"
     ]
    },
    {
     "name": "stderr",
     "output_type": "stream",
     "text": [
      "/tmp/ipykernel_29545/2543580824.py:12: RuntimeWarning: invalid value encountered in divide\n",
      "  ds[:,i] = ds[:,i]/np.max(ds[:,i])\n",
      "/tmp/ipykernel_29545/2543580824.py:12: RuntimeWarning: invalid value encountered in divide\n",
      "  ds[:,i] = ds[:,i]/np.max(ds[:,i])\n"
     ]
    },
    {
     "name": "stdout",
     "output_type": "stream",
     "text": [
      "finish 50-04 92/768\n",
      "finish 51-04 93/768\n"
     ]
    },
    {
     "name": "stderr",
     "output_type": "stream",
     "text": [
      "/tmp/ipykernel_29545/2543580824.py:12: RuntimeWarning: invalid value encountered in divide\n",
      "  ds[:,i] = ds[:,i]/np.max(ds[:,i])\n",
      "/tmp/ipykernel_29545/2543580824.py:12: RuntimeWarning: invalid value encountered in divide\n",
      "  ds[:,i] = ds[:,i]/np.max(ds[:,i])\n"
     ]
    },
    {
     "name": "stdout",
     "output_type": "stream",
     "text": [
      "finish 52-04 94/768\n",
      "finish 53-04 95/768\n"
     ]
    },
    {
     "name": "stderr",
     "output_type": "stream",
     "text": [
      "/tmp/ipykernel_29545/2543580824.py:12: RuntimeWarning: invalid value encountered in divide\n",
      "  ds[:,i] = ds[:,i]/np.max(ds[:,i])\n",
      "/tmp/ipykernel_29545/2543580824.py:12: RuntimeWarning: invalid value encountered in divide\n",
      "  ds[:,i] = ds[:,i]/np.max(ds[:,i])\n"
     ]
    },
    {
     "name": "stdout",
     "output_type": "stream",
     "text": [
      "finish 54-04 96/768\n",
      "finish 07-05 97/768\n"
     ]
    },
    {
     "name": "stderr",
     "output_type": "stream",
     "text": [
      "/tmp/ipykernel_29545/2543580824.py:12: RuntimeWarning: invalid value encountered in divide\n",
      "  ds[:,i] = ds[:,i]/np.max(ds[:,i])\n",
      "/tmp/ipykernel_29545/2543580824.py:12: RuntimeWarning: invalid value encountered in divide\n",
      "  ds[:,i] = ds[:,i]/np.max(ds[:,i])\n"
     ]
    },
    {
     "name": "stdout",
     "output_type": "stream",
     "text": [
      "finish 08-05 98/768\n",
      "finish 09-05 99/768\n"
     ]
    },
    {
     "name": "stderr",
     "output_type": "stream",
     "text": [
      "/tmp/ipykernel_29545/2543580824.py:12: RuntimeWarning: invalid value encountered in divide\n",
      "  ds[:,i] = ds[:,i]/np.max(ds[:,i])\n",
      "/tmp/ipykernel_29545/2543580824.py:12: RuntimeWarning: invalid value encountered in divide\n",
      "  ds[:,i] = ds[:,i]/np.max(ds[:,i])\n"
     ]
    },
    {
     "name": "stdout",
     "output_type": "stream",
     "text": [
      "finish 10-05 100/768\n",
      "finish 11-05 101/768\n"
     ]
    },
    {
     "name": "stderr",
     "output_type": "stream",
     "text": [
      "/tmp/ipykernel_29545/2543580824.py:12: RuntimeWarning: invalid value encountered in divide\n",
      "  ds[:,i] = ds[:,i]/np.max(ds[:,i])\n",
      "/tmp/ipykernel_29545/2543580824.py:12: RuntimeWarning: invalid value encountered in divide\n",
      "  ds[:,i] = ds[:,i]/np.max(ds[:,i])\n"
     ]
    },
    {
     "name": "stdout",
     "output_type": "stream",
     "text": [
      "finish 12-05 102/768\n",
      "finish 13-05 103/768\n"
     ]
    },
    {
     "name": "stderr",
     "output_type": "stream",
     "text": [
      "/tmp/ipykernel_29545/2543580824.py:12: RuntimeWarning: invalid value encountered in divide\n",
      "  ds[:,i] = ds[:,i]/np.max(ds[:,i])\n",
      "/tmp/ipykernel_29545/2543580824.py:12: RuntimeWarning: invalid value encountered in divide\n",
      "  ds[:,i] = ds[:,i]/np.max(ds[:,i])\n"
     ]
    },
    {
     "name": "stdout",
     "output_type": "stream",
     "text": [
      "finish 14-05 104/768\n",
      "finish 15-05 105/768\n"
     ]
    },
    {
     "name": "stderr",
     "output_type": "stream",
     "text": [
      "/tmp/ipykernel_29545/2543580824.py:12: RuntimeWarning: invalid value encountered in divide\n",
      "  ds[:,i] = ds[:,i]/np.max(ds[:,i])\n",
      "/tmp/ipykernel_29545/2543580824.py:12: RuntimeWarning: invalid value encountered in divide\n",
      "  ds[:,i] = ds[:,i]/np.max(ds[:,i])\n"
     ]
    },
    {
     "name": "stdout",
     "output_type": "stream",
     "text": [
      "finish 16-05 106/768\n",
      "finish 17-05 107/768\n"
     ]
    },
    {
     "name": "stderr",
     "output_type": "stream",
     "text": [
      "/tmp/ipykernel_29545/2543580824.py:12: RuntimeWarning: invalid value encountered in divide\n",
      "  ds[:,i] = ds[:,i]/np.max(ds[:,i])\n",
      "/tmp/ipykernel_29545/2543580824.py:12: RuntimeWarning: invalid value encountered in divide\n",
      "  ds[:,i] = ds[:,i]/np.max(ds[:,i])\n"
     ]
    },
    {
     "name": "stdout",
     "output_type": "stream",
     "text": [
      "finish 18-05 108/768\n",
      "finish 19-05 109/768\n"
     ]
    },
    {
     "name": "stderr",
     "output_type": "stream",
     "text": [
      "/tmp/ipykernel_29545/2543580824.py:12: RuntimeWarning: invalid value encountered in divide\n",
      "  ds[:,i] = ds[:,i]/np.max(ds[:,i])\n",
      "/tmp/ipykernel_29545/2543580824.py:12: RuntimeWarning: invalid value encountered in divide\n",
      "  ds[:,i] = ds[:,i]/np.max(ds[:,i])\n"
     ]
    },
    {
     "name": "stdout",
     "output_type": "stream",
     "text": [
      "finish 20-05 110/768\n",
      "finish 21-05 111/768\n"
     ]
    },
    {
     "name": "stderr",
     "output_type": "stream",
     "text": [
      "/tmp/ipykernel_29545/2543580824.py:12: RuntimeWarning: invalid value encountered in divide\n",
      "  ds[:,i] = ds[:,i]/np.max(ds[:,i])\n",
      "/tmp/ipykernel_29545/2543580824.py:12: RuntimeWarning: invalid value encountered in divide\n",
      "  ds[:,i] = ds[:,i]/np.max(ds[:,i])\n"
     ]
    },
    {
     "name": "stdout",
     "output_type": "stream",
     "text": [
      "finish 22-05 112/768\n",
      "finish 23-05 113/768\n"
     ]
    },
    {
     "name": "stderr",
     "output_type": "stream",
     "text": [
      "/tmp/ipykernel_29545/2543580824.py:12: RuntimeWarning: invalid value encountered in divide\n",
      "  ds[:,i] = ds[:,i]/np.max(ds[:,i])\n",
      "/tmp/ipykernel_29545/2543580824.py:12: RuntimeWarning: invalid value encountered in divide\n",
      "  ds[:,i] = ds[:,i]/np.max(ds[:,i])\n"
     ]
    },
    {
     "name": "stdout",
     "output_type": "stream",
     "text": [
      "finish 24-05 114/768\n",
      "finish 25-05 115/768\n"
     ]
    },
    {
     "name": "stderr",
     "output_type": "stream",
     "text": [
      "/tmp/ipykernel_29545/2543580824.py:12: RuntimeWarning: invalid value encountered in divide\n",
      "  ds[:,i] = ds[:,i]/np.max(ds[:,i])\n",
      "/tmp/ipykernel_29545/2543580824.py:12: RuntimeWarning: invalid value encountered in divide\n",
      "  ds[:,i] = ds[:,i]/np.max(ds[:,i])\n"
     ]
    },
    {
     "name": "stdout",
     "output_type": "stream",
     "text": [
      "finish 26-05 116/768\n",
      "finish 27-05 117/768\n"
     ]
    },
    {
     "name": "stderr",
     "output_type": "stream",
     "text": [
      "/tmp/ipykernel_29545/2543580824.py:12: RuntimeWarning: invalid value encountered in divide\n",
      "  ds[:,i] = ds[:,i]/np.max(ds[:,i])\n",
      "/tmp/ipykernel_29545/2543580824.py:12: RuntimeWarning: invalid value encountered in divide\n",
      "  ds[:,i] = ds[:,i]/np.max(ds[:,i])\n"
     ]
    },
    {
     "name": "stdout",
     "output_type": "stream",
     "text": [
      "finish 28-05 118/768\n",
      "finish 29-05 119/768\n"
     ]
    },
    {
     "name": "stderr",
     "output_type": "stream",
     "text": [
      "/tmp/ipykernel_29545/2543580824.py:12: RuntimeWarning: invalid value encountered in divide\n",
      "  ds[:,i] = ds[:,i]/np.max(ds[:,i])\n",
      "/tmp/ipykernel_29545/2543580824.py:12: RuntimeWarning: invalid value encountered in divide\n",
      "  ds[:,i] = ds[:,i]/np.max(ds[:,i])\n"
     ]
    },
    {
     "name": "stdout",
     "output_type": "stream",
     "text": [
      "finish 30-05 120/768\n",
      "finish 31-05 121/768\n"
     ]
    },
    {
     "name": "stderr",
     "output_type": "stream",
     "text": [
      "/tmp/ipykernel_29545/2543580824.py:12: RuntimeWarning: invalid value encountered in divide\n",
      "  ds[:,i] = ds[:,i]/np.max(ds[:,i])\n",
      "/tmp/ipykernel_29545/2543580824.py:12: RuntimeWarning: invalid value encountered in divide\n",
      "  ds[:,i] = ds[:,i]/np.max(ds[:,i])\n"
     ]
    },
    {
     "name": "stdout",
     "output_type": "stream",
     "text": [
      "finish 32-05 122/768\n",
      "finish 33-05 123/768\n"
     ]
    },
    {
     "name": "stderr",
     "output_type": "stream",
     "text": [
      "/tmp/ipykernel_29545/2543580824.py:12: RuntimeWarning: invalid value encountered in divide\n",
      "  ds[:,i] = ds[:,i]/np.max(ds[:,i])\n",
      "/tmp/ipykernel_29545/2543580824.py:12: RuntimeWarning: invalid value encountered in divide\n",
      "  ds[:,i] = ds[:,i]/np.max(ds[:,i])\n"
     ]
    },
    {
     "name": "stdout",
     "output_type": "stream",
     "text": [
      "finish 34-05 124/768\n",
      "finish 35-05 125/768\n"
     ]
    },
    {
     "name": "stderr",
     "output_type": "stream",
     "text": [
      "/tmp/ipykernel_29545/2543580824.py:12: RuntimeWarning: invalid value encountered in divide\n",
      "  ds[:,i] = ds[:,i]/np.max(ds[:,i])\n",
      "/tmp/ipykernel_29545/2543580824.py:12: RuntimeWarning: invalid value encountered in divide\n",
      "  ds[:,i] = ds[:,i]/np.max(ds[:,i])\n"
     ]
    },
    {
     "name": "stdout",
     "output_type": "stream",
     "text": [
      "finish 36-05 126/768\n",
      "finish 37-05 127/768\n"
     ]
    },
    {
     "name": "stderr",
     "output_type": "stream",
     "text": [
      "/tmp/ipykernel_29545/2543580824.py:12: RuntimeWarning: invalid value encountered in divide\n",
      "  ds[:,i] = ds[:,i]/np.max(ds[:,i])\n",
      "/tmp/ipykernel_29545/2543580824.py:12: RuntimeWarning: invalid value encountered in divide\n",
      "  ds[:,i] = ds[:,i]/np.max(ds[:,i])\n"
     ]
    },
    {
     "name": "stdout",
     "output_type": "stream",
     "text": [
      "finish 38-05 128/768\n",
      "finish 39-05 129/768\n"
     ]
    },
    {
     "name": "stderr",
     "output_type": "stream",
     "text": [
      "/tmp/ipykernel_29545/2543580824.py:12: RuntimeWarning: invalid value encountered in divide\n",
      "  ds[:,i] = ds[:,i]/np.max(ds[:,i])\n",
      "/tmp/ipykernel_29545/2543580824.py:12: RuntimeWarning: invalid value encountered in divide\n",
      "  ds[:,i] = ds[:,i]/np.max(ds[:,i])\n"
     ]
    },
    {
     "name": "stdout",
     "output_type": "stream",
     "text": [
      "finish 40-05 130/768\n",
      "finish 41-05 131/768\n"
     ]
    },
    {
     "name": "stderr",
     "output_type": "stream",
     "text": [
      "/tmp/ipykernel_29545/2543580824.py:12: RuntimeWarning: invalid value encountered in divide\n",
      "  ds[:,i] = ds[:,i]/np.max(ds[:,i])\n",
      "/tmp/ipykernel_29545/2543580824.py:12: RuntimeWarning: invalid value encountered in divide\n",
      "  ds[:,i] = ds[:,i]/np.max(ds[:,i])\n"
     ]
    },
    {
     "name": "stdout",
     "output_type": "stream",
     "text": [
      "finish 42-05 132/768\n",
      "finish 43-05 133/768\n"
     ]
    },
    {
     "name": "stderr",
     "output_type": "stream",
     "text": [
      "/tmp/ipykernel_29545/2543580824.py:12: RuntimeWarning: invalid value encountered in divide\n",
      "  ds[:,i] = ds[:,i]/np.max(ds[:,i])\n",
      "/tmp/ipykernel_29545/2543580824.py:12: RuntimeWarning: invalid value encountered in divide\n",
      "  ds[:,i] = ds[:,i]/np.max(ds[:,i])\n"
     ]
    },
    {
     "name": "stdout",
     "output_type": "stream",
     "text": [
      "finish 44-05 134/768\n",
      "finish 45-05 135/768\n"
     ]
    },
    {
     "name": "stderr",
     "output_type": "stream",
     "text": [
      "/tmp/ipykernel_29545/2543580824.py:12: RuntimeWarning: invalid value encountered in divide\n",
      "  ds[:,i] = ds[:,i]/np.max(ds[:,i])\n",
      "/tmp/ipykernel_29545/2543580824.py:12: RuntimeWarning: invalid value encountered in divide\n",
      "  ds[:,i] = ds[:,i]/np.max(ds[:,i])\n"
     ]
    },
    {
     "name": "stdout",
     "output_type": "stream",
     "text": [
      "finish 46-05 136/768\n",
      "finish 47-05 137/768\n"
     ]
    },
    {
     "name": "stderr",
     "output_type": "stream",
     "text": [
      "/tmp/ipykernel_29545/2543580824.py:12: RuntimeWarning: invalid value encountered in divide\n",
      "  ds[:,i] = ds[:,i]/np.max(ds[:,i])\n",
      "/tmp/ipykernel_29545/2543580824.py:12: RuntimeWarning: invalid value encountered in divide\n",
      "  ds[:,i] = ds[:,i]/np.max(ds[:,i])\n"
     ]
    },
    {
     "name": "stdout",
     "output_type": "stream",
     "text": [
      "finish 48-05 138/768\n",
      "finish 49-05 139/768\n"
     ]
    },
    {
     "name": "stderr",
     "output_type": "stream",
     "text": [
      "/tmp/ipykernel_29545/2543580824.py:12: RuntimeWarning: invalid value encountered in divide\n",
      "  ds[:,i] = ds[:,i]/np.max(ds[:,i])\n",
      "/tmp/ipykernel_29545/2543580824.py:12: RuntimeWarning: invalid value encountered in divide\n",
      "  ds[:,i] = ds[:,i]/np.max(ds[:,i])\n"
     ]
    },
    {
     "name": "stdout",
     "output_type": "stream",
     "text": [
      "finish 50-05 140/768\n",
      "finish 51-05 141/768\n"
     ]
    },
    {
     "name": "stderr",
     "output_type": "stream",
     "text": [
      "/tmp/ipykernel_29545/2543580824.py:12: RuntimeWarning: invalid value encountered in divide\n",
      "  ds[:,i] = ds[:,i]/np.max(ds[:,i])\n",
      "/tmp/ipykernel_29545/2543580824.py:12: RuntimeWarning: invalid value encountered in divide\n",
      "  ds[:,i] = ds[:,i]/np.max(ds[:,i])\n"
     ]
    },
    {
     "name": "stdout",
     "output_type": "stream",
     "text": [
      "finish 52-05 142/768\n",
      "finish 53-05 143/768\n"
     ]
    },
    {
     "name": "stderr",
     "output_type": "stream",
     "text": [
      "/tmp/ipykernel_29545/2543580824.py:12: RuntimeWarning: invalid value encountered in divide\n",
      "  ds[:,i] = ds[:,i]/np.max(ds[:,i])\n",
      "/tmp/ipykernel_29545/2543580824.py:12: RuntimeWarning: invalid value encountered in divide\n",
      "  ds[:,i] = ds[:,i]/np.max(ds[:,i])\n"
     ]
    },
    {
     "name": "stdout",
     "output_type": "stream",
     "text": [
      "finish 54-05 144/768\n",
      "finish 07-06 145/768\n"
     ]
    },
    {
     "name": "stderr",
     "output_type": "stream",
     "text": [
      "/tmp/ipykernel_29545/2543580824.py:12: RuntimeWarning: invalid value encountered in divide\n",
      "  ds[:,i] = ds[:,i]/np.max(ds[:,i])\n",
      "/tmp/ipykernel_29545/2543580824.py:12: RuntimeWarning: invalid value encountered in divide\n",
      "  ds[:,i] = ds[:,i]/np.max(ds[:,i])\n"
     ]
    },
    {
     "name": "stdout",
     "output_type": "stream",
     "text": [
      "finish 08-06 146/768\n",
      "finish 09-06 147/768\n"
     ]
    },
    {
     "name": "stderr",
     "output_type": "stream",
     "text": [
      "/tmp/ipykernel_29545/2543580824.py:12: RuntimeWarning: invalid value encountered in divide\n",
      "  ds[:,i] = ds[:,i]/np.max(ds[:,i])\n",
      "/tmp/ipykernel_29545/2543580824.py:12: RuntimeWarning: invalid value encountered in divide\n",
      "  ds[:,i] = ds[:,i]/np.max(ds[:,i])\n"
     ]
    },
    {
     "name": "stdout",
     "output_type": "stream",
     "text": [
      "finish 10-06 148/768\n",
      "finish 11-06 149/768\n"
     ]
    },
    {
     "name": "stderr",
     "output_type": "stream",
     "text": [
      "/tmp/ipykernel_29545/2543580824.py:12: RuntimeWarning: invalid value encountered in divide\n",
      "  ds[:,i] = ds[:,i]/np.max(ds[:,i])\n",
      "/tmp/ipykernel_29545/2543580824.py:12: RuntimeWarning: invalid value encountered in divide\n",
      "  ds[:,i] = ds[:,i]/np.max(ds[:,i])\n"
     ]
    },
    {
     "name": "stdout",
     "output_type": "stream",
     "text": [
      "finish 12-06 150/768\n",
      "finish 13-06 151/768\n"
     ]
    },
    {
     "name": "stderr",
     "output_type": "stream",
     "text": [
      "/tmp/ipykernel_29545/2543580824.py:12: RuntimeWarning: invalid value encountered in divide\n",
      "  ds[:,i] = ds[:,i]/np.max(ds[:,i])\n",
      "/tmp/ipykernel_29545/2543580824.py:12: RuntimeWarning: invalid value encountered in divide\n",
      "  ds[:,i] = ds[:,i]/np.max(ds[:,i])\n"
     ]
    },
    {
     "name": "stdout",
     "output_type": "stream",
     "text": [
      "finish 14-06 152/768\n",
      "finish 15-06 153/768\n"
     ]
    },
    {
     "name": "stderr",
     "output_type": "stream",
     "text": [
      "/tmp/ipykernel_29545/2543580824.py:12: RuntimeWarning: invalid value encountered in divide\n",
      "  ds[:,i] = ds[:,i]/np.max(ds[:,i])\n",
      "/tmp/ipykernel_29545/2543580824.py:12: RuntimeWarning: invalid value encountered in divide\n",
      "  ds[:,i] = ds[:,i]/np.max(ds[:,i])\n"
     ]
    },
    {
     "name": "stdout",
     "output_type": "stream",
     "text": [
      "finish 16-06 154/768\n",
      "finish 17-06 155/768\n"
     ]
    },
    {
     "name": "stderr",
     "output_type": "stream",
     "text": [
      "/tmp/ipykernel_29545/2543580824.py:12: RuntimeWarning: invalid value encountered in divide\n",
      "  ds[:,i] = ds[:,i]/np.max(ds[:,i])\n",
      "/tmp/ipykernel_29545/2543580824.py:12: RuntimeWarning: invalid value encountered in divide\n",
      "  ds[:,i] = ds[:,i]/np.max(ds[:,i])\n"
     ]
    },
    {
     "name": "stdout",
     "output_type": "stream",
     "text": [
      "finish 18-06 156/768\n",
      "finish 19-06 157/768\n"
     ]
    },
    {
     "name": "stderr",
     "output_type": "stream",
     "text": [
      "/tmp/ipykernel_29545/2543580824.py:12: RuntimeWarning: invalid value encountered in divide\n",
      "  ds[:,i] = ds[:,i]/np.max(ds[:,i])\n",
      "/tmp/ipykernel_29545/2543580824.py:12: RuntimeWarning: invalid value encountered in divide\n",
      "  ds[:,i] = ds[:,i]/np.max(ds[:,i])\n"
     ]
    },
    {
     "name": "stdout",
     "output_type": "stream",
     "text": [
      "finish 20-06 158/768\n",
      "finish 21-06 159/768\n"
     ]
    },
    {
     "name": "stderr",
     "output_type": "stream",
     "text": [
      "/tmp/ipykernel_29545/2543580824.py:12: RuntimeWarning: invalid value encountered in divide\n",
      "  ds[:,i] = ds[:,i]/np.max(ds[:,i])\n",
      "/tmp/ipykernel_29545/2543580824.py:12: RuntimeWarning: invalid value encountered in divide\n",
      "  ds[:,i] = ds[:,i]/np.max(ds[:,i])\n"
     ]
    },
    {
     "name": "stdout",
     "output_type": "stream",
     "text": [
      "finish 22-06 160/768\n"
     ]
    },
    {
     "name": "stderr",
     "output_type": "stream",
     "text": [
      "/tmp/ipykernel_29545/2543580824.py:12: RuntimeWarning: invalid value encountered in divide\n",
      "  ds[:,i] = ds[:,i]/np.max(ds[:,i])\n"
     ]
    },
    {
     "name": "stdout",
     "output_type": "stream",
     "text": [
      "finish 23-06 161/768\n",
      "finish 24-06 162/768\n"
     ]
    },
    {
     "name": "stderr",
     "output_type": "stream",
     "text": [
      "/tmp/ipykernel_29545/2543580824.py:12: RuntimeWarning: invalid value encountered in divide\n",
      "  ds[:,i] = ds[:,i]/np.max(ds[:,i])\n",
      "/tmp/ipykernel_29545/2543580824.py:12: RuntimeWarning: invalid value encountered in divide\n",
      "  ds[:,i] = ds[:,i]/np.max(ds[:,i])\n"
     ]
    },
    {
     "name": "stdout",
     "output_type": "stream",
     "text": [
      "finish 25-06 163/768\n",
      "finish 26-06 164/768\n"
     ]
    },
    {
     "name": "stderr",
     "output_type": "stream",
     "text": [
      "/tmp/ipykernel_29545/2543580824.py:12: RuntimeWarning: invalid value encountered in divide\n",
      "  ds[:,i] = ds[:,i]/np.max(ds[:,i])\n",
      "/tmp/ipykernel_29545/2543580824.py:12: RuntimeWarning: invalid value encountered in divide\n",
      "  ds[:,i] = ds[:,i]/np.max(ds[:,i])\n"
     ]
    },
    {
     "name": "stdout",
     "output_type": "stream",
     "text": [
      "finish 27-06 165/768\n",
      "finish 28-06 166/768\n"
     ]
    },
    {
     "name": "stderr",
     "output_type": "stream",
     "text": [
      "/tmp/ipykernel_29545/2543580824.py:12: RuntimeWarning: invalid value encountered in divide\n",
      "  ds[:,i] = ds[:,i]/np.max(ds[:,i])\n",
      "/tmp/ipykernel_29545/2543580824.py:12: RuntimeWarning: invalid value encountered in divide\n",
      "  ds[:,i] = ds[:,i]/np.max(ds[:,i])\n"
     ]
    },
    {
     "name": "stdout",
     "output_type": "stream",
     "text": [
      "finish 29-06 167/768\n",
      "finish 30-06 168/768\n"
     ]
    },
    {
     "name": "stderr",
     "output_type": "stream",
     "text": [
      "/tmp/ipykernel_29545/2543580824.py:12: RuntimeWarning: invalid value encountered in divide\n",
      "  ds[:,i] = ds[:,i]/np.max(ds[:,i])\n",
      "/tmp/ipykernel_29545/2543580824.py:12: RuntimeWarning: invalid value encountered in divide\n",
      "  ds[:,i] = ds[:,i]/np.max(ds[:,i])\n"
     ]
    },
    {
     "name": "stdout",
     "output_type": "stream",
     "text": [
      "finish 31-06 169/768\n",
      "finish 32-06 170/768\n"
     ]
    },
    {
     "name": "stderr",
     "output_type": "stream",
     "text": [
      "/tmp/ipykernel_29545/2543580824.py:12: RuntimeWarning: invalid value encountered in divide\n",
      "  ds[:,i] = ds[:,i]/np.max(ds[:,i])\n",
      "/tmp/ipykernel_29545/2543580824.py:12: RuntimeWarning: invalid value encountered in divide\n",
      "  ds[:,i] = ds[:,i]/np.max(ds[:,i])\n"
     ]
    },
    {
     "name": "stdout",
     "output_type": "stream",
     "text": [
      "finish 33-06 171/768\n",
      "finish 34-06 172/768\n"
     ]
    },
    {
     "name": "stderr",
     "output_type": "stream",
     "text": [
      "/tmp/ipykernel_29545/2543580824.py:12: RuntimeWarning: invalid value encountered in divide\n",
      "  ds[:,i] = ds[:,i]/np.max(ds[:,i])\n",
      "/tmp/ipykernel_29545/2543580824.py:12: RuntimeWarning: invalid value encountered in divide\n",
      "  ds[:,i] = ds[:,i]/np.max(ds[:,i])\n"
     ]
    },
    {
     "name": "stdout",
     "output_type": "stream",
     "text": [
      "finish 35-06 173/768\n",
      "finish 36-06 174/768\n"
     ]
    },
    {
     "name": "stderr",
     "output_type": "stream",
     "text": [
      "/tmp/ipykernel_29545/2543580824.py:12: RuntimeWarning: invalid value encountered in divide\n",
      "  ds[:,i] = ds[:,i]/np.max(ds[:,i])\n",
      "/tmp/ipykernel_29545/2543580824.py:12: RuntimeWarning: invalid value encountered in divide\n",
      "  ds[:,i] = ds[:,i]/np.max(ds[:,i])\n"
     ]
    },
    {
     "name": "stdout",
     "output_type": "stream",
     "text": [
      "finish 37-06 175/768\n",
      "finish 38-06 176/768\n"
     ]
    },
    {
     "name": "stderr",
     "output_type": "stream",
     "text": [
      "/tmp/ipykernel_29545/2543580824.py:12: RuntimeWarning: invalid value encountered in divide\n",
      "  ds[:,i] = ds[:,i]/np.max(ds[:,i])\n",
      "/tmp/ipykernel_29545/2543580824.py:12: RuntimeWarning: invalid value encountered in divide\n",
      "  ds[:,i] = ds[:,i]/np.max(ds[:,i])\n"
     ]
    },
    {
     "name": "stdout",
     "output_type": "stream",
     "text": [
      "finish 39-06 177/768\n",
      "finish 40-06 178/768\n"
     ]
    },
    {
     "name": "stderr",
     "output_type": "stream",
     "text": [
      "/tmp/ipykernel_29545/2543580824.py:12: RuntimeWarning: invalid value encountered in divide\n",
      "  ds[:,i] = ds[:,i]/np.max(ds[:,i])\n",
      "/tmp/ipykernel_29545/2543580824.py:12: RuntimeWarning: invalid value encountered in divide\n",
      "  ds[:,i] = ds[:,i]/np.max(ds[:,i])\n"
     ]
    },
    {
     "name": "stdout",
     "output_type": "stream",
     "text": [
      "finish 41-06 179/768\n",
      "finish 42-06 180/768\n"
     ]
    },
    {
     "name": "stderr",
     "output_type": "stream",
     "text": [
      "/tmp/ipykernel_29545/2543580824.py:12: RuntimeWarning: invalid value encountered in divide\n",
      "  ds[:,i] = ds[:,i]/np.max(ds[:,i])\n",
      "/tmp/ipykernel_29545/2543580824.py:12: RuntimeWarning: invalid value encountered in divide\n",
      "  ds[:,i] = ds[:,i]/np.max(ds[:,i])\n"
     ]
    },
    {
     "name": "stdout",
     "output_type": "stream",
     "text": [
      "finish 43-06 181/768\n",
      "finish 44-06 182/768\n"
     ]
    },
    {
     "name": "stderr",
     "output_type": "stream",
     "text": [
      "/tmp/ipykernel_29545/2543580824.py:12: RuntimeWarning: invalid value encountered in divide\n",
      "  ds[:,i] = ds[:,i]/np.max(ds[:,i])\n",
      "/tmp/ipykernel_29545/2543580824.py:12: RuntimeWarning: invalid value encountered in divide\n",
      "  ds[:,i] = ds[:,i]/np.max(ds[:,i])\n"
     ]
    },
    {
     "name": "stdout",
     "output_type": "stream",
     "text": [
      "finish 45-06 183/768\n",
      "finish 46-06 184/768\n"
     ]
    },
    {
     "name": "stderr",
     "output_type": "stream",
     "text": [
      "/tmp/ipykernel_29545/2543580824.py:12: RuntimeWarning: invalid value encountered in divide\n",
      "  ds[:,i] = ds[:,i]/np.max(ds[:,i])\n",
      "/tmp/ipykernel_29545/2543580824.py:12: RuntimeWarning: invalid value encountered in divide\n",
      "  ds[:,i] = ds[:,i]/np.max(ds[:,i])\n"
     ]
    },
    {
     "name": "stdout",
     "output_type": "stream",
     "text": [
      "finish 47-06 185/768\n"
     ]
    },
    {
     "name": "stderr",
     "output_type": "stream",
     "text": [
      "/tmp/ipykernel_29545/2543580824.py:12: RuntimeWarning: invalid value encountered in divide\n",
      "  ds[:,i] = ds[:,i]/np.max(ds[:,i])\n"
     ]
    },
    {
     "name": "stdout",
     "output_type": "stream",
     "text": [
      "finish 48-06 186/768\n",
      "finish 49-06 187/768\n"
     ]
    },
    {
     "name": "stderr",
     "output_type": "stream",
     "text": [
      "/tmp/ipykernel_29545/2543580824.py:12: RuntimeWarning: invalid value encountered in divide\n",
      "  ds[:,i] = ds[:,i]/np.max(ds[:,i])\n",
      "/tmp/ipykernel_29545/2543580824.py:12: RuntimeWarning: invalid value encountered in divide\n",
      "  ds[:,i] = ds[:,i]/np.max(ds[:,i])\n"
     ]
    },
    {
     "name": "stdout",
     "output_type": "stream",
     "text": [
      "finish 50-06 188/768\n",
      "finish 51-06 189/768\n"
     ]
    },
    {
     "name": "stderr",
     "output_type": "stream",
     "text": [
      "/tmp/ipykernel_29545/2543580824.py:12: RuntimeWarning: invalid value encountered in divide\n",
      "  ds[:,i] = ds[:,i]/np.max(ds[:,i])\n",
      "/tmp/ipykernel_29545/2543580824.py:12: RuntimeWarning: invalid value encountered in divide\n",
      "  ds[:,i] = ds[:,i]/np.max(ds[:,i])\n"
     ]
    },
    {
     "name": "stdout",
     "output_type": "stream",
     "text": [
      "finish 52-06 190/768\n",
      "finish 53-06 191/768\n"
     ]
    },
    {
     "name": "stderr",
     "output_type": "stream",
     "text": [
      "/tmp/ipykernel_29545/2543580824.py:12: RuntimeWarning: invalid value encountered in divide\n",
      "  ds[:,i] = ds[:,i]/np.max(ds[:,i])\n",
      "/tmp/ipykernel_29545/2543580824.py:12: RuntimeWarning: invalid value encountered in divide\n",
      "  ds[:,i] = ds[:,i]/np.max(ds[:,i])\n"
     ]
    },
    {
     "name": "stdout",
     "output_type": "stream",
     "text": [
      "finish 54-06 192/768\n",
      "finish 07-07 193/768\n"
     ]
    },
    {
     "name": "stderr",
     "output_type": "stream",
     "text": [
      "/tmp/ipykernel_29545/2543580824.py:12: RuntimeWarning: invalid value encountered in divide\n",
      "  ds[:,i] = ds[:,i]/np.max(ds[:,i])\n",
      "/tmp/ipykernel_29545/2543580824.py:12: RuntimeWarning: invalid value encountered in divide\n",
      "  ds[:,i] = ds[:,i]/np.max(ds[:,i])\n"
     ]
    },
    {
     "name": "stdout",
     "output_type": "stream",
     "text": [
      "finish 08-07 194/768\n",
      "finish 09-07 195/768\n"
     ]
    },
    {
     "name": "stderr",
     "output_type": "stream",
     "text": [
      "/tmp/ipykernel_29545/2543580824.py:12: RuntimeWarning: invalid value encountered in divide\n",
      "  ds[:,i] = ds[:,i]/np.max(ds[:,i])\n",
      "/tmp/ipykernel_29545/2543580824.py:12: RuntimeWarning: invalid value encountered in divide\n",
      "  ds[:,i] = ds[:,i]/np.max(ds[:,i])\n"
     ]
    },
    {
     "name": "stdout",
     "output_type": "stream",
     "text": [
      "finish 10-07 196/768\n",
      "finish 11-07 197/768\n"
     ]
    },
    {
     "name": "stderr",
     "output_type": "stream",
     "text": [
      "/tmp/ipykernel_29545/2543580824.py:12: RuntimeWarning: invalid value encountered in divide\n",
      "  ds[:,i] = ds[:,i]/np.max(ds[:,i])\n",
      "/tmp/ipykernel_29545/2543580824.py:12: RuntimeWarning: invalid value encountered in divide\n",
      "  ds[:,i] = ds[:,i]/np.max(ds[:,i])\n"
     ]
    },
    {
     "name": "stdout",
     "output_type": "stream",
     "text": [
      "finish 12-07 198/768\n",
      "finish 13-07 199/768\n"
     ]
    },
    {
     "name": "stderr",
     "output_type": "stream",
     "text": [
      "/tmp/ipykernel_29545/2543580824.py:12: RuntimeWarning: invalid value encountered in divide\n",
      "  ds[:,i] = ds[:,i]/np.max(ds[:,i])\n",
      "/tmp/ipykernel_29545/2543580824.py:12: RuntimeWarning: invalid value encountered in divide\n",
      "  ds[:,i] = ds[:,i]/np.max(ds[:,i])\n"
     ]
    },
    {
     "name": "stdout",
     "output_type": "stream",
     "text": [
      "finish 14-07 200/768\n",
      "finish 15-07 201/768\n"
     ]
    },
    {
     "name": "stderr",
     "output_type": "stream",
     "text": [
      "/tmp/ipykernel_29545/2543580824.py:12: RuntimeWarning: invalid value encountered in divide\n",
      "  ds[:,i] = ds[:,i]/np.max(ds[:,i])\n",
      "/tmp/ipykernel_29545/2543580824.py:12: RuntimeWarning: invalid value encountered in divide\n",
      "  ds[:,i] = ds[:,i]/np.max(ds[:,i])\n"
     ]
    },
    {
     "name": "stdout",
     "output_type": "stream",
     "text": [
      "finish 16-07 202/768\n",
      "finish 17-07 203/768\n"
     ]
    },
    {
     "name": "stderr",
     "output_type": "stream",
     "text": [
      "/tmp/ipykernel_29545/2543580824.py:12: RuntimeWarning: invalid value encountered in divide\n",
      "  ds[:,i] = ds[:,i]/np.max(ds[:,i])\n",
      "/tmp/ipykernel_29545/2543580824.py:12: RuntimeWarning: invalid value encountered in divide\n",
      "  ds[:,i] = ds[:,i]/np.max(ds[:,i])\n"
     ]
    },
    {
     "name": "stdout",
     "output_type": "stream",
     "text": [
      "finish 18-07 204/768\n",
      "finish 19-07 205/768\n"
     ]
    },
    {
     "name": "stderr",
     "output_type": "stream",
     "text": [
      "/tmp/ipykernel_29545/2543580824.py:12: RuntimeWarning: invalid value encountered in divide\n",
      "  ds[:,i] = ds[:,i]/np.max(ds[:,i])\n",
      "/tmp/ipykernel_29545/2543580824.py:12: RuntimeWarning: invalid value encountered in divide\n",
      "  ds[:,i] = ds[:,i]/np.max(ds[:,i])\n"
     ]
    },
    {
     "name": "stdout",
     "output_type": "stream",
     "text": [
      "finish 20-07 206/768\n",
      "finish 21-07 207/768\n"
     ]
    },
    {
     "name": "stderr",
     "output_type": "stream",
     "text": [
      "/tmp/ipykernel_29545/2543580824.py:12: RuntimeWarning: invalid value encountered in divide\n",
      "  ds[:,i] = ds[:,i]/np.max(ds[:,i])\n",
      "/tmp/ipykernel_29545/2543580824.py:12: RuntimeWarning: invalid value encountered in divide\n",
      "  ds[:,i] = ds[:,i]/np.max(ds[:,i])\n"
     ]
    },
    {
     "name": "stdout",
     "output_type": "stream",
     "text": [
      "finish 22-07 208/768\n",
      "finish 23-07 209/768\n"
     ]
    },
    {
     "name": "stderr",
     "output_type": "stream",
     "text": [
      "/tmp/ipykernel_29545/2543580824.py:12: RuntimeWarning: invalid value encountered in divide\n",
      "  ds[:,i] = ds[:,i]/np.max(ds[:,i])\n",
      "/tmp/ipykernel_29545/2543580824.py:12: RuntimeWarning: invalid value encountered in divide\n",
      "  ds[:,i] = ds[:,i]/np.max(ds[:,i])\n"
     ]
    },
    {
     "name": "stdout",
     "output_type": "stream",
     "text": [
      "finish 24-07 210/768\n",
      "finish 25-07 211/768\n"
     ]
    },
    {
     "name": "stderr",
     "output_type": "stream",
     "text": [
      "/tmp/ipykernel_29545/2543580824.py:12: RuntimeWarning: invalid value encountered in divide\n",
      "  ds[:,i] = ds[:,i]/np.max(ds[:,i])\n",
      "/tmp/ipykernel_29545/2543580824.py:12: RuntimeWarning: invalid value encountered in divide\n",
      "  ds[:,i] = ds[:,i]/np.max(ds[:,i])\n"
     ]
    },
    {
     "name": "stdout",
     "output_type": "stream",
     "text": [
      "finish 26-07 212/768\n",
      "finish 27-07 213/768\n"
     ]
    },
    {
     "name": "stderr",
     "output_type": "stream",
     "text": [
      "/tmp/ipykernel_29545/2543580824.py:12: RuntimeWarning: invalid value encountered in divide\n",
      "  ds[:,i] = ds[:,i]/np.max(ds[:,i])\n",
      "/tmp/ipykernel_29545/2543580824.py:12: RuntimeWarning: invalid value encountered in divide\n",
      "  ds[:,i] = ds[:,i]/np.max(ds[:,i])\n"
     ]
    },
    {
     "name": "stdout",
     "output_type": "stream",
     "text": [
      "finish 28-07 214/768\n",
      "finish 29-07 215/768\n"
     ]
    },
    {
     "name": "stderr",
     "output_type": "stream",
     "text": [
      "/tmp/ipykernel_29545/2543580824.py:12: RuntimeWarning: invalid value encountered in divide\n",
      "  ds[:,i] = ds[:,i]/np.max(ds[:,i])\n",
      "/tmp/ipykernel_29545/2543580824.py:12: RuntimeWarning: invalid value encountered in divide\n",
      "  ds[:,i] = ds[:,i]/np.max(ds[:,i])\n"
     ]
    },
    {
     "name": "stdout",
     "output_type": "stream",
     "text": [
      "finish 30-07 216/768\n",
      "finish 31-07 217/768\n"
     ]
    },
    {
     "name": "stderr",
     "output_type": "stream",
     "text": [
      "/tmp/ipykernel_29545/2543580824.py:12: RuntimeWarning: invalid value encountered in divide\n",
      "  ds[:,i] = ds[:,i]/np.max(ds[:,i])\n",
      "/tmp/ipykernel_29545/2543580824.py:12: RuntimeWarning: invalid value encountered in divide\n",
      "  ds[:,i] = ds[:,i]/np.max(ds[:,i])\n"
     ]
    },
    {
     "name": "stdout",
     "output_type": "stream",
     "text": [
      "finish 32-07 218/768\n",
      "finish 33-07 219/768\n"
     ]
    },
    {
     "name": "stderr",
     "output_type": "stream",
     "text": [
      "/tmp/ipykernel_29545/2543580824.py:12: RuntimeWarning: invalid value encountered in divide\n",
      "  ds[:,i] = ds[:,i]/np.max(ds[:,i])\n",
      "/tmp/ipykernel_29545/2543580824.py:12: RuntimeWarning: invalid value encountered in divide\n",
      "  ds[:,i] = ds[:,i]/np.max(ds[:,i])\n"
     ]
    },
    {
     "name": "stdout",
     "output_type": "stream",
     "text": [
      "finish 34-07 220/768\n",
      "finish 35-07 221/768\n"
     ]
    },
    {
     "name": "stderr",
     "output_type": "stream",
     "text": [
      "/tmp/ipykernel_29545/2543580824.py:12: RuntimeWarning: invalid value encountered in divide\n",
      "  ds[:,i] = ds[:,i]/np.max(ds[:,i])\n",
      "/tmp/ipykernel_29545/2543580824.py:12: RuntimeWarning: invalid value encountered in divide\n",
      "  ds[:,i] = ds[:,i]/np.max(ds[:,i])\n"
     ]
    },
    {
     "name": "stdout",
     "output_type": "stream",
     "text": [
      "finish 36-07 222/768\n",
      "finish 37-07 223/768\n"
     ]
    },
    {
     "name": "stderr",
     "output_type": "stream",
     "text": [
      "/tmp/ipykernel_29545/2543580824.py:12: RuntimeWarning: invalid value encountered in divide\n",
      "  ds[:,i] = ds[:,i]/np.max(ds[:,i])\n",
      "/tmp/ipykernel_29545/2543580824.py:12: RuntimeWarning: invalid value encountered in divide\n",
      "  ds[:,i] = ds[:,i]/np.max(ds[:,i])\n"
     ]
    },
    {
     "name": "stdout",
     "output_type": "stream",
     "text": [
      "finish 38-07 224/768\n",
      "finish 39-07 225/768\n"
     ]
    },
    {
     "name": "stderr",
     "output_type": "stream",
     "text": [
      "/tmp/ipykernel_29545/2543580824.py:12: RuntimeWarning: invalid value encountered in divide\n",
      "  ds[:,i] = ds[:,i]/np.max(ds[:,i])\n",
      "/tmp/ipykernel_29545/2543580824.py:12: RuntimeWarning: invalid value encountered in divide\n",
      "  ds[:,i] = ds[:,i]/np.max(ds[:,i])\n"
     ]
    },
    {
     "name": "stdout",
     "output_type": "stream",
     "text": [
      "finish 40-07 226/768\n",
      "finish 41-07 227/768\n"
     ]
    },
    {
     "name": "stderr",
     "output_type": "stream",
     "text": [
      "/tmp/ipykernel_29545/2543580824.py:12: RuntimeWarning: invalid value encountered in divide\n",
      "  ds[:,i] = ds[:,i]/np.max(ds[:,i])\n",
      "/tmp/ipykernel_29545/2543580824.py:12: RuntimeWarning: invalid value encountered in divide\n",
      "  ds[:,i] = ds[:,i]/np.max(ds[:,i])\n"
     ]
    },
    {
     "name": "stdout",
     "output_type": "stream",
     "text": [
      "finish 42-07 228/768\n",
      "finish 43-07 229/768\n"
     ]
    },
    {
     "name": "stderr",
     "output_type": "stream",
     "text": [
      "/tmp/ipykernel_29545/2543580824.py:12: RuntimeWarning: invalid value encountered in divide\n",
      "  ds[:,i] = ds[:,i]/np.max(ds[:,i])\n",
      "/tmp/ipykernel_29545/2543580824.py:12: RuntimeWarning: invalid value encountered in divide\n",
      "  ds[:,i] = ds[:,i]/np.max(ds[:,i])\n"
     ]
    },
    {
     "name": "stdout",
     "output_type": "stream",
     "text": [
      "finish 44-07 230/768\n",
      "finish 45-07 231/768\n"
     ]
    },
    {
     "name": "stderr",
     "output_type": "stream",
     "text": [
      "/tmp/ipykernel_29545/2543580824.py:12: RuntimeWarning: invalid value encountered in divide\n",
      "  ds[:,i] = ds[:,i]/np.max(ds[:,i])\n",
      "/tmp/ipykernel_29545/2543580824.py:12: RuntimeWarning: invalid value encountered in divide\n",
      "  ds[:,i] = ds[:,i]/np.max(ds[:,i])\n"
     ]
    },
    {
     "name": "stdout",
     "output_type": "stream",
     "text": [
      "finish 46-07 232/768\n",
      "finish 47-07 233/768\n"
     ]
    },
    {
     "name": "stderr",
     "output_type": "stream",
     "text": [
      "/tmp/ipykernel_29545/2543580824.py:12: RuntimeWarning: invalid value encountered in divide\n",
      "  ds[:,i] = ds[:,i]/np.max(ds[:,i])\n",
      "/tmp/ipykernel_29545/2543580824.py:12: RuntimeWarning: invalid value encountered in divide\n",
      "  ds[:,i] = ds[:,i]/np.max(ds[:,i])\n"
     ]
    },
    {
     "name": "stdout",
     "output_type": "stream",
     "text": [
      "finish 48-07 234/768\n",
      "finish 49-07 235/768\n"
     ]
    },
    {
     "name": "stderr",
     "output_type": "stream",
     "text": [
      "/tmp/ipykernel_29545/2543580824.py:12: RuntimeWarning: invalid value encountered in divide\n",
      "  ds[:,i] = ds[:,i]/np.max(ds[:,i])\n",
      "/tmp/ipykernel_29545/2543580824.py:12: RuntimeWarning: invalid value encountered in divide\n",
      "  ds[:,i] = ds[:,i]/np.max(ds[:,i])\n"
     ]
    },
    {
     "name": "stdout",
     "output_type": "stream",
     "text": [
      "finish 50-07 236/768\n",
      "finish 51-07 237/768\n"
     ]
    },
    {
     "name": "stderr",
     "output_type": "stream",
     "text": [
      "/tmp/ipykernel_29545/2543580824.py:12: RuntimeWarning: invalid value encountered in divide\n",
      "  ds[:,i] = ds[:,i]/np.max(ds[:,i])\n",
      "/tmp/ipykernel_29545/2543580824.py:12: RuntimeWarning: invalid value encountered in divide\n",
      "  ds[:,i] = ds[:,i]/np.max(ds[:,i])\n"
     ]
    },
    {
     "name": "stdout",
     "output_type": "stream",
     "text": [
      "finish 52-07 238/768\n",
      "finish 53-07 239/768\n"
     ]
    },
    {
     "name": "stderr",
     "output_type": "stream",
     "text": [
      "/tmp/ipykernel_29545/2543580824.py:12: RuntimeWarning: invalid value encountered in divide\n",
      "  ds[:,i] = ds[:,i]/np.max(ds[:,i])\n",
      "/tmp/ipykernel_29545/2543580824.py:12: RuntimeWarning: invalid value encountered in divide\n",
      "  ds[:,i] = ds[:,i]/np.max(ds[:,i])\n"
     ]
    },
    {
     "name": "stdout",
     "output_type": "stream",
     "text": [
      "finish 54-07 240/768\n",
      "finish 07-08 241/768\n"
     ]
    },
    {
     "name": "stderr",
     "output_type": "stream",
     "text": [
      "/tmp/ipykernel_29545/2543580824.py:12: RuntimeWarning: invalid value encountered in divide\n",
      "  ds[:,i] = ds[:,i]/np.max(ds[:,i])\n",
      "/tmp/ipykernel_29545/2543580824.py:12: RuntimeWarning: invalid value encountered in divide\n",
      "  ds[:,i] = ds[:,i]/np.max(ds[:,i])\n"
     ]
    },
    {
     "name": "stdout",
     "output_type": "stream",
     "text": [
      "finish 08-08 242/768\n",
      "finish 09-08 243/768\n"
     ]
    },
    {
     "name": "stderr",
     "output_type": "stream",
     "text": [
      "/tmp/ipykernel_29545/2543580824.py:12: RuntimeWarning: invalid value encountered in divide\n",
      "  ds[:,i] = ds[:,i]/np.max(ds[:,i])\n",
      "/tmp/ipykernel_29545/2543580824.py:12: RuntimeWarning: invalid value encountered in divide\n",
      "  ds[:,i] = ds[:,i]/np.max(ds[:,i])\n"
     ]
    },
    {
     "name": "stdout",
     "output_type": "stream",
     "text": [
      "finish 10-08 244/768\n",
      "finish 11-08 245/768\n"
     ]
    },
    {
     "name": "stderr",
     "output_type": "stream",
     "text": [
      "/tmp/ipykernel_29545/2543580824.py:12: RuntimeWarning: invalid value encountered in divide\n",
      "  ds[:,i] = ds[:,i]/np.max(ds[:,i])\n",
      "/tmp/ipykernel_29545/2543580824.py:12: RuntimeWarning: invalid value encountered in divide\n",
      "  ds[:,i] = ds[:,i]/np.max(ds[:,i])\n"
     ]
    },
    {
     "name": "stdout",
     "output_type": "stream",
     "text": [
      "finish 12-08 246/768\n",
      "finish 13-08 247/768\n"
     ]
    },
    {
     "name": "stderr",
     "output_type": "stream",
     "text": [
      "/tmp/ipykernel_29545/2543580824.py:12: RuntimeWarning: invalid value encountered in divide\n",
      "  ds[:,i] = ds[:,i]/np.max(ds[:,i])\n",
      "/tmp/ipykernel_29545/2543580824.py:12: RuntimeWarning: invalid value encountered in divide\n",
      "  ds[:,i] = ds[:,i]/np.max(ds[:,i])\n"
     ]
    },
    {
     "name": "stdout",
     "output_type": "stream",
     "text": [
      "finish 14-08 248/768\n",
      "finish 15-08 249/768\n"
     ]
    },
    {
     "name": "stderr",
     "output_type": "stream",
     "text": [
      "/tmp/ipykernel_29545/2543580824.py:12: RuntimeWarning: invalid value encountered in divide\n",
      "  ds[:,i] = ds[:,i]/np.max(ds[:,i])\n",
      "/tmp/ipykernel_29545/2543580824.py:12: RuntimeWarning: invalid value encountered in divide\n",
      "  ds[:,i] = ds[:,i]/np.max(ds[:,i])\n"
     ]
    },
    {
     "name": "stdout",
     "output_type": "stream",
     "text": [
      "finish 16-08 250/768\n",
      "finish 17-08 251/768\n"
     ]
    },
    {
     "name": "stderr",
     "output_type": "stream",
     "text": [
      "/tmp/ipykernel_29545/2543580824.py:12: RuntimeWarning: invalid value encountered in divide\n",
      "  ds[:,i] = ds[:,i]/np.max(ds[:,i])\n",
      "/tmp/ipykernel_29545/2543580824.py:12: RuntimeWarning: invalid value encountered in divide\n",
      "  ds[:,i] = ds[:,i]/np.max(ds[:,i])\n"
     ]
    },
    {
     "name": "stdout",
     "output_type": "stream",
     "text": [
      "finish 18-08 252/768\n",
      "finish 19-08 253/768\n"
     ]
    },
    {
     "name": "stderr",
     "output_type": "stream",
     "text": [
      "/tmp/ipykernel_29545/2543580824.py:12: RuntimeWarning: invalid value encountered in divide\n",
      "  ds[:,i] = ds[:,i]/np.max(ds[:,i])\n",
      "/tmp/ipykernel_29545/2543580824.py:12: RuntimeWarning: invalid value encountered in divide\n",
      "  ds[:,i] = ds[:,i]/np.max(ds[:,i])\n"
     ]
    },
    {
     "name": "stdout",
     "output_type": "stream",
     "text": [
      "finish 20-08 254/768\n",
      "finish 21-08 255/768\n"
     ]
    },
    {
     "name": "stderr",
     "output_type": "stream",
     "text": [
      "/tmp/ipykernel_29545/2543580824.py:12: RuntimeWarning: invalid value encountered in divide\n",
      "  ds[:,i] = ds[:,i]/np.max(ds[:,i])\n",
      "/tmp/ipykernel_29545/2543580824.py:12: RuntimeWarning: invalid value encountered in divide\n",
      "  ds[:,i] = ds[:,i]/np.max(ds[:,i])\n"
     ]
    },
    {
     "name": "stdout",
     "output_type": "stream",
     "text": [
      "finish 22-08 256/768\n",
      "finish 23-08 257/768\n"
     ]
    },
    {
     "name": "stderr",
     "output_type": "stream",
     "text": [
      "/tmp/ipykernel_29545/2543580824.py:12: RuntimeWarning: invalid value encountered in divide\n",
      "  ds[:,i] = ds[:,i]/np.max(ds[:,i])\n",
      "/tmp/ipykernel_29545/2543580824.py:12: RuntimeWarning: invalid value encountered in divide\n",
      "  ds[:,i] = ds[:,i]/np.max(ds[:,i])\n"
     ]
    },
    {
     "name": "stdout",
     "output_type": "stream",
     "text": [
      "finish 24-08 258/768\n",
      "finish 25-08 259/768\n"
     ]
    },
    {
     "name": "stderr",
     "output_type": "stream",
     "text": [
      "/tmp/ipykernel_29545/2543580824.py:12: RuntimeWarning: invalid value encountered in divide\n",
      "  ds[:,i] = ds[:,i]/np.max(ds[:,i])\n",
      "/tmp/ipykernel_29545/2543580824.py:12: RuntimeWarning: invalid value encountered in divide\n",
      "  ds[:,i] = ds[:,i]/np.max(ds[:,i])\n"
     ]
    },
    {
     "name": "stdout",
     "output_type": "stream",
     "text": [
      "finish 26-08 260/768\n",
      "finish 27-08 261/768\n"
     ]
    },
    {
     "name": "stderr",
     "output_type": "stream",
     "text": [
      "/tmp/ipykernel_29545/2543580824.py:12: RuntimeWarning: invalid value encountered in divide\n",
      "  ds[:,i] = ds[:,i]/np.max(ds[:,i])\n",
      "/tmp/ipykernel_29545/2543580824.py:12: RuntimeWarning: invalid value encountered in divide\n",
      "  ds[:,i] = ds[:,i]/np.max(ds[:,i])\n"
     ]
    },
    {
     "name": "stdout",
     "output_type": "stream",
     "text": [
      "finish 28-08 262/768\n",
      "finish 29-08 263/768\n"
     ]
    },
    {
     "name": "stderr",
     "output_type": "stream",
     "text": [
      "/tmp/ipykernel_29545/2543580824.py:12: RuntimeWarning: invalid value encountered in divide\n",
      "  ds[:,i] = ds[:,i]/np.max(ds[:,i])\n",
      "/tmp/ipykernel_29545/2543580824.py:12: RuntimeWarning: invalid value encountered in divide\n",
      "  ds[:,i] = ds[:,i]/np.max(ds[:,i])\n"
     ]
    },
    {
     "name": "stdout",
     "output_type": "stream",
     "text": [
      "finish 30-08 264/768\n",
      "finish 31-08 265/768\n"
     ]
    },
    {
     "name": "stderr",
     "output_type": "stream",
     "text": [
      "/tmp/ipykernel_29545/2543580824.py:12: RuntimeWarning: invalid value encountered in divide\n",
      "  ds[:,i] = ds[:,i]/np.max(ds[:,i])\n",
      "/tmp/ipykernel_29545/2543580824.py:12: RuntimeWarning: invalid value encountered in divide\n",
      "  ds[:,i] = ds[:,i]/np.max(ds[:,i])\n"
     ]
    },
    {
     "name": "stdout",
     "output_type": "stream",
     "text": [
      "finish 32-08 266/768\n",
      "finish 33-08 267/768\n"
     ]
    },
    {
     "name": "stderr",
     "output_type": "stream",
     "text": [
      "/tmp/ipykernel_29545/2543580824.py:12: RuntimeWarning: invalid value encountered in divide\n",
      "  ds[:,i] = ds[:,i]/np.max(ds[:,i])\n",
      "/tmp/ipykernel_29545/2543580824.py:12: RuntimeWarning: invalid value encountered in divide\n",
      "  ds[:,i] = ds[:,i]/np.max(ds[:,i])\n"
     ]
    },
    {
     "name": "stdout",
     "output_type": "stream",
     "text": [
      "finish 34-08 268/768\n",
      "finish 35-08 269/768\n"
     ]
    },
    {
     "name": "stderr",
     "output_type": "stream",
     "text": [
      "/tmp/ipykernel_29545/2543580824.py:12: RuntimeWarning: invalid value encountered in divide\n",
      "  ds[:,i] = ds[:,i]/np.max(ds[:,i])\n",
      "/tmp/ipykernel_29545/2543580824.py:12: RuntimeWarning: invalid value encountered in divide\n",
      "  ds[:,i] = ds[:,i]/np.max(ds[:,i])\n"
     ]
    },
    {
     "name": "stdout",
     "output_type": "stream",
     "text": [
      "finish 36-08 270/768\n",
      "finish 37-08 271/768\n"
     ]
    },
    {
     "name": "stderr",
     "output_type": "stream",
     "text": [
      "/tmp/ipykernel_29545/2543580824.py:12: RuntimeWarning: invalid value encountered in divide\n",
      "  ds[:,i] = ds[:,i]/np.max(ds[:,i])\n",
      "/tmp/ipykernel_29545/2543580824.py:12: RuntimeWarning: invalid value encountered in divide\n",
      "  ds[:,i] = ds[:,i]/np.max(ds[:,i])\n"
     ]
    },
    {
     "name": "stdout",
     "output_type": "stream",
     "text": [
      "finish 38-08 272/768\n",
      "finish 39-08 273/768\n"
     ]
    },
    {
     "name": "stderr",
     "output_type": "stream",
     "text": [
      "/tmp/ipykernel_29545/2543580824.py:12: RuntimeWarning: invalid value encountered in divide\n",
      "  ds[:,i] = ds[:,i]/np.max(ds[:,i])\n",
      "/tmp/ipykernel_29545/2543580824.py:12: RuntimeWarning: invalid value encountered in divide\n",
      "  ds[:,i] = ds[:,i]/np.max(ds[:,i])\n"
     ]
    },
    {
     "name": "stdout",
     "output_type": "stream",
     "text": [
      "finish 40-08 274/768\n",
      "finish 41-08 275/768\n"
     ]
    },
    {
     "name": "stderr",
     "output_type": "stream",
     "text": [
      "/tmp/ipykernel_29545/2543580824.py:12: RuntimeWarning: invalid value encountered in divide\n",
      "  ds[:,i] = ds[:,i]/np.max(ds[:,i])\n",
      "/tmp/ipykernel_29545/2543580824.py:12: RuntimeWarning: invalid value encountered in divide\n",
      "  ds[:,i] = ds[:,i]/np.max(ds[:,i])\n"
     ]
    },
    {
     "name": "stdout",
     "output_type": "stream",
     "text": [
      "finish 42-08 276/768\n",
      "finish 43-08 277/768\n"
     ]
    },
    {
     "name": "stderr",
     "output_type": "stream",
     "text": [
      "/tmp/ipykernel_29545/2543580824.py:12: RuntimeWarning: invalid value encountered in divide\n",
      "  ds[:,i] = ds[:,i]/np.max(ds[:,i])\n",
      "/tmp/ipykernel_29545/2543580824.py:12: RuntimeWarning: invalid value encountered in divide\n",
      "  ds[:,i] = ds[:,i]/np.max(ds[:,i])\n"
     ]
    },
    {
     "name": "stdout",
     "output_type": "stream",
     "text": [
      "finish 44-08 278/768\n",
      "finish 45-08 279/768\n"
     ]
    },
    {
     "name": "stderr",
     "output_type": "stream",
     "text": [
      "/tmp/ipykernel_29545/2543580824.py:12: RuntimeWarning: invalid value encountered in divide\n",
      "  ds[:,i] = ds[:,i]/np.max(ds[:,i])\n",
      "/tmp/ipykernel_29545/2543580824.py:12: RuntimeWarning: invalid value encountered in divide\n",
      "  ds[:,i] = ds[:,i]/np.max(ds[:,i])\n"
     ]
    },
    {
     "name": "stdout",
     "output_type": "stream",
     "text": [
      "finish 46-08 280/768\n",
      "finish 47-08 281/768\n"
     ]
    },
    {
     "name": "stderr",
     "output_type": "stream",
     "text": [
      "/tmp/ipykernel_29545/2543580824.py:12: RuntimeWarning: invalid value encountered in divide\n",
      "  ds[:,i] = ds[:,i]/np.max(ds[:,i])\n",
      "/tmp/ipykernel_29545/2543580824.py:12: RuntimeWarning: invalid value encountered in divide\n",
      "  ds[:,i] = ds[:,i]/np.max(ds[:,i])\n"
     ]
    },
    {
     "name": "stdout",
     "output_type": "stream",
     "text": [
      "finish 48-08 282/768\n",
      "finish 49-08 283/768\n"
     ]
    },
    {
     "name": "stderr",
     "output_type": "stream",
     "text": [
      "/tmp/ipykernel_29545/2543580824.py:12: RuntimeWarning: invalid value encountered in divide\n",
      "  ds[:,i] = ds[:,i]/np.max(ds[:,i])\n",
      "/tmp/ipykernel_29545/2543580824.py:12: RuntimeWarning: invalid value encountered in divide\n",
      "  ds[:,i] = ds[:,i]/np.max(ds[:,i])\n"
     ]
    },
    {
     "name": "stdout",
     "output_type": "stream",
     "text": [
      "finish 50-08 284/768\n",
      "finish 51-08 285/768\n"
     ]
    },
    {
     "name": "stderr",
     "output_type": "stream",
     "text": [
      "/tmp/ipykernel_29545/2543580824.py:12: RuntimeWarning: invalid value encountered in divide\n",
      "  ds[:,i] = ds[:,i]/np.max(ds[:,i])\n",
      "/tmp/ipykernel_29545/2543580824.py:12: RuntimeWarning: invalid value encountered in divide\n",
      "  ds[:,i] = ds[:,i]/np.max(ds[:,i])\n"
     ]
    },
    {
     "name": "stdout",
     "output_type": "stream",
     "text": [
      "finish 52-08 286/768\n",
      "finish 53-08 287/768\n"
     ]
    },
    {
     "name": "stderr",
     "output_type": "stream",
     "text": [
      "/tmp/ipykernel_29545/2543580824.py:12: RuntimeWarning: invalid value encountered in divide\n",
      "  ds[:,i] = ds[:,i]/np.max(ds[:,i])\n",
      "/tmp/ipykernel_29545/2543580824.py:12: RuntimeWarning: invalid value encountered in divide\n",
      "  ds[:,i] = ds[:,i]/np.max(ds[:,i])\n"
     ]
    },
    {
     "name": "stdout",
     "output_type": "stream",
     "text": [
      "finish 54-08 288/768\n",
      "finish 07-09 289/768\n"
     ]
    },
    {
     "name": "stderr",
     "output_type": "stream",
     "text": [
      "/tmp/ipykernel_29545/2543580824.py:12: RuntimeWarning: invalid value encountered in divide\n",
      "  ds[:,i] = ds[:,i]/np.max(ds[:,i])\n",
      "/tmp/ipykernel_29545/2543580824.py:12: RuntimeWarning: invalid value encountered in divide\n",
      "  ds[:,i] = ds[:,i]/np.max(ds[:,i])\n"
     ]
    },
    {
     "name": "stdout",
     "output_type": "stream",
     "text": [
      "finish 08-09 290/768\n",
      "finish 09-09 291/768\n"
     ]
    },
    {
     "name": "stderr",
     "output_type": "stream",
     "text": [
      "/tmp/ipykernel_29545/2543580824.py:12: RuntimeWarning: invalid value encountered in divide\n",
      "  ds[:,i] = ds[:,i]/np.max(ds[:,i])\n",
      "/tmp/ipykernel_29545/2543580824.py:12: RuntimeWarning: invalid value encountered in divide\n",
      "  ds[:,i] = ds[:,i]/np.max(ds[:,i])\n"
     ]
    },
    {
     "name": "stdout",
     "output_type": "stream",
     "text": [
      "finish 10-09 292/768\n",
      "finish 11-09 293/768\n"
     ]
    },
    {
     "name": "stderr",
     "output_type": "stream",
     "text": [
      "/tmp/ipykernel_29545/2543580824.py:12: RuntimeWarning: invalid value encountered in divide\n",
      "  ds[:,i] = ds[:,i]/np.max(ds[:,i])\n",
      "/tmp/ipykernel_29545/2543580824.py:12: RuntimeWarning: invalid value encountered in divide\n",
      "  ds[:,i] = ds[:,i]/np.max(ds[:,i])\n"
     ]
    },
    {
     "name": "stdout",
     "output_type": "stream",
     "text": [
      "finish 12-09 294/768\n",
      "finish 13-09 295/768\n"
     ]
    },
    {
     "name": "stderr",
     "output_type": "stream",
     "text": [
      "/tmp/ipykernel_29545/2543580824.py:12: RuntimeWarning: invalid value encountered in divide\n",
      "  ds[:,i] = ds[:,i]/np.max(ds[:,i])\n",
      "/tmp/ipykernel_29545/2543580824.py:12: RuntimeWarning: invalid value encountered in divide\n",
      "  ds[:,i] = ds[:,i]/np.max(ds[:,i])\n"
     ]
    },
    {
     "name": "stdout",
     "output_type": "stream",
     "text": [
      "finish 14-09 296/768\n",
      "finish 15-09 297/768\n"
     ]
    },
    {
     "name": "stderr",
     "output_type": "stream",
     "text": [
      "/tmp/ipykernel_29545/2543580824.py:12: RuntimeWarning: invalid value encountered in divide\n",
      "  ds[:,i] = ds[:,i]/np.max(ds[:,i])\n",
      "/tmp/ipykernel_29545/2543580824.py:12: RuntimeWarning: invalid value encountered in divide\n",
      "  ds[:,i] = ds[:,i]/np.max(ds[:,i])\n"
     ]
    },
    {
     "name": "stdout",
     "output_type": "stream",
     "text": [
      "finish 16-09 298/768\n",
      "finish 17-09 299/768\n"
     ]
    },
    {
     "name": "stderr",
     "output_type": "stream",
     "text": [
      "/tmp/ipykernel_29545/2543580824.py:12: RuntimeWarning: invalid value encountered in divide\n",
      "  ds[:,i] = ds[:,i]/np.max(ds[:,i])\n",
      "/tmp/ipykernel_29545/2543580824.py:12: RuntimeWarning: invalid value encountered in divide\n",
      "  ds[:,i] = ds[:,i]/np.max(ds[:,i])\n"
     ]
    },
    {
     "name": "stdout",
     "output_type": "stream",
     "text": [
      "finish 18-09 300/768\n",
      "finish 19-09 301/768\n"
     ]
    },
    {
     "name": "stderr",
     "output_type": "stream",
     "text": [
      "/tmp/ipykernel_29545/2543580824.py:12: RuntimeWarning: invalid value encountered in divide\n",
      "  ds[:,i] = ds[:,i]/np.max(ds[:,i])\n",
      "/tmp/ipykernel_29545/2543580824.py:12: RuntimeWarning: invalid value encountered in divide\n",
      "  ds[:,i] = ds[:,i]/np.max(ds[:,i])\n"
     ]
    },
    {
     "name": "stdout",
     "output_type": "stream",
     "text": [
      "finish 20-09 302/768\n",
      "finish 21-09 303/768\n"
     ]
    },
    {
     "name": "stderr",
     "output_type": "stream",
     "text": [
      "/tmp/ipykernel_29545/2543580824.py:12: RuntimeWarning: invalid value encountered in divide\n",
      "  ds[:,i] = ds[:,i]/np.max(ds[:,i])\n",
      "/tmp/ipykernel_29545/2543580824.py:12: RuntimeWarning: invalid value encountered in divide\n",
      "  ds[:,i] = ds[:,i]/np.max(ds[:,i])\n"
     ]
    },
    {
     "name": "stdout",
     "output_type": "stream",
     "text": [
      "finish 22-09 304/768\n"
     ]
    },
    {
     "name": "stderr",
     "output_type": "stream",
     "text": [
      "/tmp/ipykernel_29545/2543580824.py:12: RuntimeWarning: invalid value encountered in divide\n",
      "  ds[:,i] = ds[:,i]/np.max(ds[:,i])\n"
     ]
    },
    {
     "name": "stdout",
     "output_type": "stream",
     "text": [
      "finish 23-09 305/768\n",
      "finish 24-09 306/768\n"
     ]
    },
    {
     "name": "stderr",
     "output_type": "stream",
     "text": [
      "/tmp/ipykernel_29545/2543580824.py:12: RuntimeWarning: invalid value encountered in divide\n",
      "  ds[:,i] = ds[:,i]/np.max(ds[:,i])\n",
      "/tmp/ipykernel_29545/2543580824.py:12: RuntimeWarning: invalid value encountered in divide\n",
      "  ds[:,i] = ds[:,i]/np.max(ds[:,i])\n"
     ]
    },
    {
     "name": "stdout",
     "output_type": "stream",
     "text": [
      "finish 25-09 307/768\n",
      "finish 26-09 308/768\n"
     ]
    },
    {
     "name": "stderr",
     "output_type": "stream",
     "text": [
      "/tmp/ipykernel_29545/2543580824.py:12: RuntimeWarning: invalid value encountered in divide\n",
      "  ds[:,i] = ds[:,i]/np.max(ds[:,i])\n",
      "/tmp/ipykernel_29545/2543580824.py:12: RuntimeWarning: invalid value encountered in divide\n",
      "  ds[:,i] = ds[:,i]/np.max(ds[:,i])\n"
     ]
    },
    {
     "name": "stdout",
     "output_type": "stream",
     "text": [
      "finish 27-09 309/768\n",
      "finish 28-09 310/768\n"
     ]
    },
    {
     "name": "stderr",
     "output_type": "stream",
     "text": [
      "/tmp/ipykernel_29545/2543580824.py:12: RuntimeWarning: invalid value encountered in divide\n",
      "  ds[:,i] = ds[:,i]/np.max(ds[:,i])\n",
      "/tmp/ipykernel_29545/2543580824.py:12: RuntimeWarning: invalid value encountered in divide\n",
      "  ds[:,i] = ds[:,i]/np.max(ds[:,i])\n"
     ]
    },
    {
     "name": "stdout",
     "output_type": "stream",
     "text": [
      "finish 29-09 311/768\n",
      "finish 30-09 312/768\n"
     ]
    },
    {
     "name": "stderr",
     "output_type": "stream",
     "text": [
      "/tmp/ipykernel_29545/2543580824.py:12: RuntimeWarning: invalid value encountered in divide\n",
      "  ds[:,i] = ds[:,i]/np.max(ds[:,i])\n",
      "/tmp/ipykernel_29545/2543580824.py:12: RuntimeWarning: invalid value encountered in divide\n",
      "  ds[:,i] = ds[:,i]/np.max(ds[:,i])\n"
     ]
    },
    {
     "name": "stdout",
     "output_type": "stream",
     "text": [
      "finish 31-09 313/768\n",
      "finish 32-09 314/768\n"
     ]
    },
    {
     "name": "stderr",
     "output_type": "stream",
     "text": [
      "/tmp/ipykernel_29545/2543580824.py:12: RuntimeWarning: invalid value encountered in divide\n",
      "  ds[:,i] = ds[:,i]/np.max(ds[:,i])\n",
      "/tmp/ipykernel_29545/2543580824.py:12: RuntimeWarning: invalid value encountered in divide\n",
      "  ds[:,i] = ds[:,i]/np.max(ds[:,i])\n"
     ]
    },
    {
     "name": "stdout",
     "output_type": "stream",
     "text": [
      "finish 33-09 315/768\n",
      "finish 34-09 316/768\n"
     ]
    },
    {
     "name": "stderr",
     "output_type": "stream",
     "text": [
      "/tmp/ipykernel_29545/2543580824.py:12: RuntimeWarning: invalid value encountered in divide\n",
      "  ds[:,i] = ds[:,i]/np.max(ds[:,i])\n",
      "/tmp/ipykernel_29545/2543580824.py:12: RuntimeWarning: invalid value encountered in divide\n",
      "  ds[:,i] = ds[:,i]/np.max(ds[:,i])\n"
     ]
    },
    {
     "name": "stdout",
     "output_type": "stream",
     "text": [
      "finish 35-09 317/768\n",
      "finish 36-09 318/768\n"
     ]
    },
    {
     "name": "stderr",
     "output_type": "stream",
     "text": [
      "/tmp/ipykernel_29545/2543580824.py:12: RuntimeWarning: invalid value encountered in divide\n",
      "  ds[:,i] = ds[:,i]/np.max(ds[:,i])\n",
      "/tmp/ipykernel_29545/2543580824.py:12: RuntimeWarning: invalid value encountered in divide\n",
      "  ds[:,i] = ds[:,i]/np.max(ds[:,i])\n"
     ]
    },
    {
     "name": "stdout",
     "output_type": "stream",
     "text": [
      "finish 37-09 319/768\n",
      "finish 38-09 320/768\n"
     ]
    },
    {
     "name": "stderr",
     "output_type": "stream",
     "text": [
      "/tmp/ipykernel_29545/2543580824.py:12: RuntimeWarning: invalid value encountered in divide\n",
      "  ds[:,i] = ds[:,i]/np.max(ds[:,i])\n",
      "/tmp/ipykernel_29545/2543580824.py:12: RuntimeWarning: invalid value encountered in divide\n",
      "  ds[:,i] = ds[:,i]/np.max(ds[:,i])\n"
     ]
    },
    {
     "name": "stdout",
     "output_type": "stream",
     "text": [
      "finish 39-09 321/768\n",
      "finish 40-09 322/768\n"
     ]
    },
    {
     "name": "stderr",
     "output_type": "stream",
     "text": [
      "/tmp/ipykernel_29545/2543580824.py:12: RuntimeWarning: invalid value encountered in divide\n",
      "  ds[:,i] = ds[:,i]/np.max(ds[:,i])\n",
      "/tmp/ipykernel_29545/2543580824.py:12: RuntimeWarning: invalid value encountered in divide\n",
      "  ds[:,i] = ds[:,i]/np.max(ds[:,i])\n"
     ]
    },
    {
     "name": "stdout",
     "output_type": "stream",
     "text": [
      "finish 41-09 323/768\n",
      "finish 42-09 324/768\n"
     ]
    },
    {
     "name": "stderr",
     "output_type": "stream",
     "text": [
      "/tmp/ipykernel_29545/2543580824.py:12: RuntimeWarning: invalid value encountered in divide\n",
      "  ds[:,i] = ds[:,i]/np.max(ds[:,i])\n",
      "/tmp/ipykernel_29545/2543580824.py:12: RuntimeWarning: invalid value encountered in divide\n",
      "  ds[:,i] = ds[:,i]/np.max(ds[:,i])\n"
     ]
    },
    {
     "name": "stdout",
     "output_type": "stream",
     "text": [
      "finish 43-09 325/768\n",
      "finish 44-09 326/768\n"
     ]
    },
    {
     "name": "stderr",
     "output_type": "stream",
     "text": [
      "/tmp/ipykernel_29545/2543580824.py:12: RuntimeWarning: invalid value encountered in divide\n",
      "  ds[:,i] = ds[:,i]/np.max(ds[:,i])\n",
      "/tmp/ipykernel_29545/2543580824.py:12: RuntimeWarning: invalid value encountered in divide\n",
      "  ds[:,i] = ds[:,i]/np.max(ds[:,i])\n"
     ]
    },
    {
     "name": "stdout",
     "output_type": "stream",
     "text": [
      "finish 45-09 327/768\n",
      "finish 46-09 328/768\n"
     ]
    },
    {
     "name": "stderr",
     "output_type": "stream",
     "text": [
      "/tmp/ipykernel_29545/2543580824.py:12: RuntimeWarning: invalid value encountered in divide\n",
      "  ds[:,i] = ds[:,i]/np.max(ds[:,i])\n",
      "/tmp/ipykernel_29545/2543580824.py:12: RuntimeWarning: invalid value encountered in divide\n",
      "  ds[:,i] = ds[:,i]/np.max(ds[:,i])\n"
     ]
    },
    {
     "name": "stdout",
     "output_type": "stream",
     "text": [
      "finish 47-09 329/768\n",
      "finish 48-09 330/768\n"
     ]
    },
    {
     "name": "stderr",
     "output_type": "stream",
     "text": [
      "/tmp/ipykernel_29545/2543580824.py:12: RuntimeWarning: invalid value encountered in divide\n",
      "  ds[:,i] = ds[:,i]/np.max(ds[:,i])\n",
      "/tmp/ipykernel_29545/2543580824.py:12: RuntimeWarning: invalid value encountered in divide\n",
      "  ds[:,i] = ds[:,i]/np.max(ds[:,i])\n"
     ]
    },
    {
     "name": "stdout",
     "output_type": "stream",
     "text": [
      "finish 49-09 331/768\n",
      "finish 50-09 332/768\n"
     ]
    },
    {
     "name": "stderr",
     "output_type": "stream",
     "text": [
      "/tmp/ipykernel_29545/2543580824.py:12: RuntimeWarning: invalid value encountered in divide\n",
      "  ds[:,i] = ds[:,i]/np.max(ds[:,i])\n",
      "/tmp/ipykernel_29545/2543580824.py:12: RuntimeWarning: invalid value encountered in divide\n",
      "  ds[:,i] = ds[:,i]/np.max(ds[:,i])\n"
     ]
    },
    {
     "name": "stdout",
     "output_type": "stream",
     "text": [
      "finish 51-09 333/768\n",
      "finish 52-09 334/768\n"
     ]
    },
    {
     "name": "stderr",
     "output_type": "stream",
     "text": [
      "/tmp/ipykernel_29545/2543580824.py:12: RuntimeWarning: invalid value encountered in divide\n",
      "  ds[:,i] = ds[:,i]/np.max(ds[:,i])\n",
      "/tmp/ipykernel_29545/2543580824.py:12: RuntimeWarning: invalid value encountered in divide\n",
      "  ds[:,i] = ds[:,i]/np.max(ds[:,i])\n"
     ]
    },
    {
     "name": "stdout",
     "output_type": "stream",
     "text": [
      "finish 53-09 335/768\n",
      "finish 54-09 336/768\n"
     ]
    },
    {
     "name": "stderr",
     "output_type": "stream",
     "text": [
      "/tmp/ipykernel_29545/2543580824.py:12: RuntimeWarning: invalid value encountered in divide\n",
      "  ds[:,i] = ds[:,i]/np.max(ds[:,i])\n",
      "/tmp/ipykernel_29545/2543580824.py:12: RuntimeWarning: invalid value encountered in divide\n",
      "  ds[:,i] = ds[:,i]/np.max(ds[:,i])\n"
     ]
    },
    {
     "name": "stdout",
     "output_type": "stream",
     "text": [
      "finish 07-10 337/768\n",
      "finish 08-10 338/768\n"
     ]
    },
    {
     "name": "stderr",
     "output_type": "stream",
     "text": [
      "/tmp/ipykernel_29545/2543580824.py:12: RuntimeWarning: invalid value encountered in divide\n",
      "  ds[:,i] = ds[:,i]/np.max(ds[:,i])\n",
      "/tmp/ipykernel_29545/2543580824.py:12: RuntimeWarning: invalid value encountered in divide\n",
      "  ds[:,i] = ds[:,i]/np.max(ds[:,i])\n"
     ]
    },
    {
     "name": "stdout",
     "output_type": "stream",
     "text": [
      "finish 09-10 339/768\n",
      "finish 10-10 340/768\n"
     ]
    },
    {
     "name": "stderr",
     "output_type": "stream",
     "text": [
      "/tmp/ipykernel_29545/2543580824.py:12: RuntimeWarning: invalid value encountered in divide\n",
      "  ds[:,i] = ds[:,i]/np.max(ds[:,i])\n",
      "/tmp/ipykernel_29545/2543580824.py:12: RuntimeWarning: invalid value encountered in divide\n",
      "  ds[:,i] = ds[:,i]/np.max(ds[:,i])\n"
     ]
    },
    {
     "name": "stdout",
     "output_type": "stream",
     "text": [
      "finish 11-10 341/768\n",
      "finish 12-10 342/768\n"
     ]
    },
    {
     "name": "stderr",
     "output_type": "stream",
     "text": [
      "/tmp/ipykernel_29545/2543580824.py:12: RuntimeWarning: invalid value encountered in divide\n",
      "  ds[:,i] = ds[:,i]/np.max(ds[:,i])\n",
      "/tmp/ipykernel_29545/2543580824.py:12: RuntimeWarning: invalid value encountered in divide\n",
      "  ds[:,i] = ds[:,i]/np.max(ds[:,i])\n"
     ]
    },
    {
     "name": "stdout",
     "output_type": "stream",
     "text": [
      "finish 13-10 343/768\n",
      "finish 14-10 344/768\n"
     ]
    },
    {
     "name": "stderr",
     "output_type": "stream",
     "text": [
      "/tmp/ipykernel_29545/2543580824.py:12: RuntimeWarning: invalid value encountered in divide\n",
      "  ds[:,i] = ds[:,i]/np.max(ds[:,i])\n",
      "/tmp/ipykernel_29545/2543580824.py:12: RuntimeWarning: invalid value encountered in divide\n",
      "  ds[:,i] = ds[:,i]/np.max(ds[:,i])\n"
     ]
    },
    {
     "name": "stdout",
     "output_type": "stream",
     "text": [
      "finish 15-10 345/768\n",
      "finish 16-10 346/768\n"
     ]
    },
    {
     "name": "stderr",
     "output_type": "stream",
     "text": [
      "/tmp/ipykernel_29545/2543580824.py:12: RuntimeWarning: invalid value encountered in divide\n",
      "  ds[:,i] = ds[:,i]/np.max(ds[:,i])\n",
      "/tmp/ipykernel_29545/2543580824.py:12: RuntimeWarning: invalid value encountered in divide\n",
      "  ds[:,i] = ds[:,i]/np.max(ds[:,i])\n"
     ]
    },
    {
     "name": "stdout",
     "output_type": "stream",
     "text": [
      "finish 17-10 347/768\n",
      "finish 18-10 348/768\n"
     ]
    },
    {
     "name": "stderr",
     "output_type": "stream",
     "text": [
      "/tmp/ipykernel_29545/2543580824.py:12: RuntimeWarning: invalid value encountered in divide\n",
      "  ds[:,i] = ds[:,i]/np.max(ds[:,i])\n",
      "/tmp/ipykernel_29545/2543580824.py:12: RuntimeWarning: invalid value encountered in divide\n",
      "  ds[:,i] = ds[:,i]/np.max(ds[:,i])\n"
     ]
    },
    {
     "name": "stdout",
     "output_type": "stream",
     "text": [
      "finish 19-10 349/768\n",
      "finish 20-10 350/768\n"
     ]
    },
    {
     "name": "stderr",
     "output_type": "stream",
     "text": [
      "/tmp/ipykernel_29545/2543580824.py:12: RuntimeWarning: invalid value encountered in divide\n",
      "  ds[:,i] = ds[:,i]/np.max(ds[:,i])\n",
      "/tmp/ipykernel_29545/2543580824.py:12: RuntimeWarning: invalid value encountered in divide\n",
      "  ds[:,i] = ds[:,i]/np.max(ds[:,i])\n"
     ]
    },
    {
     "name": "stdout",
     "output_type": "stream",
     "text": [
      "finish 21-10 351/768\n",
      "finish 22-10 352/768\n"
     ]
    },
    {
     "name": "stderr",
     "output_type": "stream",
     "text": [
      "/tmp/ipykernel_29545/2543580824.py:12: RuntimeWarning: invalid value encountered in divide\n",
      "  ds[:,i] = ds[:,i]/np.max(ds[:,i])\n",
      "/tmp/ipykernel_29545/2543580824.py:12: RuntimeWarning: invalid value encountered in divide\n",
      "  ds[:,i] = ds[:,i]/np.max(ds[:,i])\n"
     ]
    },
    {
     "name": "stdout",
     "output_type": "stream",
     "text": [
      "finish 23-10 353/768\n",
      "finish 24-10 354/768\n"
     ]
    },
    {
     "name": "stderr",
     "output_type": "stream",
     "text": [
      "/tmp/ipykernel_29545/2543580824.py:12: RuntimeWarning: invalid value encountered in divide\n",
      "  ds[:,i] = ds[:,i]/np.max(ds[:,i])\n",
      "/tmp/ipykernel_29545/2543580824.py:12: RuntimeWarning: invalid value encountered in divide\n",
      "  ds[:,i] = ds[:,i]/np.max(ds[:,i])\n"
     ]
    },
    {
     "name": "stdout",
     "output_type": "stream",
     "text": [
      "finish 25-10 355/768\n",
      "finish 26-10 356/768\n"
     ]
    },
    {
     "name": "stderr",
     "output_type": "stream",
     "text": [
      "/tmp/ipykernel_29545/2543580824.py:12: RuntimeWarning: invalid value encountered in divide\n",
      "  ds[:,i] = ds[:,i]/np.max(ds[:,i])\n",
      "/tmp/ipykernel_29545/2543580824.py:12: RuntimeWarning: invalid value encountered in divide\n",
      "  ds[:,i] = ds[:,i]/np.max(ds[:,i])\n"
     ]
    },
    {
     "name": "stdout",
     "output_type": "stream",
     "text": [
      "finish 27-10 357/768\n",
      "finish 28-10 358/768\n"
     ]
    },
    {
     "name": "stderr",
     "output_type": "stream",
     "text": [
      "/tmp/ipykernel_29545/2543580824.py:12: RuntimeWarning: invalid value encountered in divide\n",
      "  ds[:,i] = ds[:,i]/np.max(ds[:,i])\n",
      "/tmp/ipykernel_29545/2543580824.py:12: RuntimeWarning: invalid value encountered in divide\n",
      "  ds[:,i] = ds[:,i]/np.max(ds[:,i])\n"
     ]
    },
    {
     "name": "stdout",
     "output_type": "stream",
     "text": [
      "finish 29-10 359/768\n",
      "finish 30-10 360/768\n"
     ]
    },
    {
     "name": "stderr",
     "output_type": "stream",
     "text": [
      "/tmp/ipykernel_29545/2543580824.py:12: RuntimeWarning: invalid value encountered in divide\n",
      "  ds[:,i] = ds[:,i]/np.max(ds[:,i])\n",
      "/tmp/ipykernel_29545/2543580824.py:12: RuntimeWarning: invalid value encountered in divide\n",
      "  ds[:,i] = ds[:,i]/np.max(ds[:,i])\n"
     ]
    },
    {
     "name": "stdout",
     "output_type": "stream",
     "text": [
      "finish 31-10 361/768\n",
      "finish 32-10 362/768\n"
     ]
    },
    {
     "name": "stderr",
     "output_type": "stream",
     "text": [
      "/tmp/ipykernel_29545/2543580824.py:12: RuntimeWarning: invalid value encountered in divide\n",
      "  ds[:,i] = ds[:,i]/np.max(ds[:,i])\n",
      "/tmp/ipykernel_29545/2543580824.py:12: RuntimeWarning: invalid value encountered in divide\n",
      "  ds[:,i] = ds[:,i]/np.max(ds[:,i])\n"
     ]
    },
    {
     "name": "stdout",
     "output_type": "stream",
     "text": [
      "finish 33-10 363/768\n",
      "finish 34-10 364/768\n"
     ]
    },
    {
     "name": "stderr",
     "output_type": "stream",
     "text": [
      "/tmp/ipykernel_29545/2543580824.py:12: RuntimeWarning: invalid value encountered in divide\n",
      "  ds[:,i] = ds[:,i]/np.max(ds[:,i])\n",
      "/tmp/ipykernel_29545/2543580824.py:12: RuntimeWarning: invalid value encountered in divide\n",
      "  ds[:,i] = ds[:,i]/np.max(ds[:,i])\n"
     ]
    },
    {
     "name": "stdout",
     "output_type": "stream",
     "text": [
      "finish 35-10 365/768\n",
      "finish 36-10 366/768\n"
     ]
    },
    {
     "name": "stderr",
     "output_type": "stream",
     "text": [
      "/tmp/ipykernel_29545/2543580824.py:12: RuntimeWarning: invalid value encountered in divide\n",
      "  ds[:,i] = ds[:,i]/np.max(ds[:,i])\n",
      "/tmp/ipykernel_29545/2543580824.py:12: RuntimeWarning: invalid value encountered in divide\n",
      "  ds[:,i] = ds[:,i]/np.max(ds[:,i])\n"
     ]
    },
    {
     "name": "stdout",
     "output_type": "stream",
     "text": [
      "finish 37-10 367/768\n",
      "finish 38-10 368/768\n"
     ]
    },
    {
     "name": "stderr",
     "output_type": "stream",
     "text": [
      "/tmp/ipykernel_29545/2543580824.py:12: RuntimeWarning: invalid value encountered in divide\n",
      "  ds[:,i] = ds[:,i]/np.max(ds[:,i])\n",
      "/tmp/ipykernel_29545/2543580824.py:12: RuntimeWarning: invalid value encountered in divide\n",
      "  ds[:,i] = ds[:,i]/np.max(ds[:,i])\n"
     ]
    },
    {
     "name": "stdout",
     "output_type": "stream",
     "text": [
      "finish 39-10 369/768\n",
      "finish 40-10 370/768\n"
     ]
    },
    {
     "name": "stderr",
     "output_type": "stream",
     "text": [
      "/tmp/ipykernel_29545/2543580824.py:12: RuntimeWarning: invalid value encountered in divide\n",
      "  ds[:,i] = ds[:,i]/np.max(ds[:,i])\n",
      "/tmp/ipykernel_29545/2543580824.py:12: RuntimeWarning: invalid value encountered in divide\n",
      "  ds[:,i] = ds[:,i]/np.max(ds[:,i])\n"
     ]
    },
    {
     "name": "stdout",
     "output_type": "stream",
     "text": [
      "finish 41-10 371/768\n",
      "finish 42-10 372/768\n"
     ]
    },
    {
     "name": "stderr",
     "output_type": "stream",
     "text": [
      "/tmp/ipykernel_29545/2543580824.py:12: RuntimeWarning: invalid value encountered in divide\n",
      "  ds[:,i] = ds[:,i]/np.max(ds[:,i])\n",
      "/tmp/ipykernel_29545/2543580824.py:12: RuntimeWarning: invalid value encountered in divide\n",
      "  ds[:,i] = ds[:,i]/np.max(ds[:,i])\n"
     ]
    },
    {
     "name": "stdout",
     "output_type": "stream",
     "text": [
      "finish 43-10 373/768\n",
      "finish 44-10 374/768\n"
     ]
    },
    {
     "name": "stderr",
     "output_type": "stream",
     "text": [
      "/tmp/ipykernel_29545/2543580824.py:12: RuntimeWarning: invalid value encountered in divide\n",
      "  ds[:,i] = ds[:,i]/np.max(ds[:,i])\n",
      "/tmp/ipykernel_29545/2543580824.py:12: RuntimeWarning: invalid value encountered in divide\n",
      "  ds[:,i] = ds[:,i]/np.max(ds[:,i])\n"
     ]
    },
    {
     "name": "stdout",
     "output_type": "stream",
     "text": [
      "finish 45-10 375/768\n",
      "finish 46-10 376/768\n"
     ]
    },
    {
     "name": "stderr",
     "output_type": "stream",
     "text": [
      "/tmp/ipykernel_29545/2543580824.py:12: RuntimeWarning: invalid value encountered in divide\n",
      "  ds[:,i] = ds[:,i]/np.max(ds[:,i])\n",
      "/tmp/ipykernel_29545/2543580824.py:12: RuntimeWarning: invalid value encountered in divide\n",
      "  ds[:,i] = ds[:,i]/np.max(ds[:,i])\n"
     ]
    },
    {
     "name": "stdout",
     "output_type": "stream",
     "text": [
      "finish 47-10 377/768\n",
      "finish 48-10 378/768\n"
     ]
    },
    {
     "name": "stderr",
     "output_type": "stream",
     "text": [
      "/tmp/ipykernel_29545/2543580824.py:12: RuntimeWarning: invalid value encountered in divide\n",
      "  ds[:,i] = ds[:,i]/np.max(ds[:,i])\n",
      "/tmp/ipykernel_29545/2543580824.py:12: RuntimeWarning: invalid value encountered in divide\n",
      "  ds[:,i] = ds[:,i]/np.max(ds[:,i])\n"
     ]
    },
    {
     "name": "stdout",
     "output_type": "stream",
     "text": [
      "finish 49-10 379/768\n",
      "finish 50-10 380/768\n"
     ]
    },
    {
     "name": "stderr",
     "output_type": "stream",
     "text": [
      "/tmp/ipykernel_29545/2543580824.py:12: RuntimeWarning: invalid value encountered in divide\n",
      "  ds[:,i] = ds[:,i]/np.max(ds[:,i])\n",
      "/tmp/ipykernel_29545/2543580824.py:12: RuntimeWarning: invalid value encountered in divide\n",
      "  ds[:,i] = ds[:,i]/np.max(ds[:,i])\n"
     ]
    },
    {
     "name": "stdout",
     "output_type": "stream",
     "text": [
      "finish 51-10 381/768\n",
      "finish 52-10 382/768\n"
     ]
    },
    {
     "name": "stderr",
     "output_type": "stream",
     "text": [
      "/tmp/ipykernel_29545/2543580824.py:12: RuntimeWarning: invalid value encountered in divide\n",
      "  ds[:,i] = ds[:,i]/np.max(ds[:,i])\n",
      "/tmp/ipykernel_29545/2543580824.py:12: RuntimeWarning: invalid value encountered in divide\n",
      "  ds[:,i] = ds[:,i]/np.max(ds[:,i])\n"
     ]
    },
    {
     "name": "stdout",
     "output_type": "stream",
     "text": [
      "finish 53-10 383/768\n",
      "finish 54-10 384/768\n"
     ]
    },
    {
     "name": "stderr",
     "output_type": "stream",
     "text": [
      "/tmp/ipykernel_29545/2543580824.py:12: RuntimeWarning: invalid value encountered in divide\n",
      "  ds[:,i] = ds[:,i]/np.max(ds[:,i])\n",
      "/tmp/ipykernel_29545/2543580824.py:12: RuntimeWarning: invalid value encountered in divide\n",
      "  ds[:,i] = ds[:,i]/np.max(ds[:,i])\n"
     ]
    },
    {
     "name": "stdout",
     "output_type": "stream",
     "text": [
      "finish 07-11 385/768\n",
      "finish 08-11 386/768\n"
     ]
    },
    {
     "name": "stderr",
     "output_type": "stream",
     "text": [
      "/tmp/ipykernel_29545/2543580824.py:12: RuntimeWarning: invalid value encountered in divide\n",
      "  ds[:,i] = ds[:,i]/np.max(ds[:,i])\n",
      "/tmp/ipykernel_29545/2543580824.py:12: RuntimeWarning: invalid value encountered in divide\n",
      "  ds[:,i] = ds[:,i]/np.max(ds[:,i])\n"
     ]
    },
    {
     "name": "stdout",
     "output_type": "stream",
     "text": [
      "finish 09-11 387/768\n",
      "finish 10-11 388/768\n"
     ]
    },
    {
     "name": "stderr",
     "output_type": "stream",
     "text": [
      "/tmp/ipykernel_29545/2543580824.py:12: RuntimeWarning: invalid value encountered in divide\n",
      "  ds[:,i] = ds[:,i]/np.max(ds[:,i])\n",
      "/tmp/ipykernel_29545/2543580824.py:12: RuntimeWarning: invalid value encountered in divide\n",
      "  ds[:,i] = ds[:,i]/np.max(ds[:,i])\n"
     ]
    },
    {
     "name": "stdout",
     "output_type": "stream",
     "text": [
      "finish 11-11 389/768\n",
      "finish 12-11 390/768\n"
     ]
    },
    {
     "name": "stderr",
     "output_type": "stream",
     "text": [
      "/tmp/ipykernel_29545/2543580824.py:12: RuntimeWarning: invalid value encountered in divide\n",
      "  ds[:,i] = ds[:,i]/np.max(ds[:,i])\n",
      "/tmp/ipykernel_29545/2543580824.py:12: RuntimeWarning: invalid value encountered in divide\n",
      "  ds[:,i] = ds[:,i]/np.max(ds[:,i])\n"
     ]
    },
    {
     "name": "stdout",
     "output_type": "stream",
     "text": [
      "finish 13-11 391/768\n",
      "finish 14-11 392/768\n"
     ]
    },
    {
     "name": "stderr",
     "output_type": "stream",
     "text": [
      "/tmp/ipykernel_29545/2543580824.py:12: RuntimeWarning: invalid value encountered in divide\n",
      "  ds[:,i] = ds[:,i]/np.max(ds[:,i])\n",
      "/tmp/ipykernel_29545/2543580824.py:12: RuntimeWarning: invalid value encountered in divide\n",
      "  ds[:,i] = ds[:,i]/np.max(ds[:,i])\n"
     ]
    },
    {
     "name": "stdout",
     "output_type": "stream",
     "text": [
      "finish 15-11 393/768\n",
      "finish 16-11 394/768\n"
     ]
    },
    {
     "name": "stderr",
     "output_type": "stream",
     "text": [
      "/tmp/ipykernel_29545/2543580824.py:12: RuntimeWarning: invalid value encountered in divide\n",
      "  ds[:,i] = ds[:,i]/np.max(ds[:,i])\n",
      "/tmp/ipykernel_29545/2543580824.py:12: RuntimeWarning: invalid value encountered in divide\n",
      "  ds[:,i] = ds[:,i]/np.max(ds[:,i])\n"
     ]
    },
    {
     "name": "stdout",
     "output_type": "stream",
     "text": [
      "finish 17-11 395/768\n",
      "finish 18-11 396/768\n"
     ]
    },
    {
     "name": "stderr",
     "output_type": "stream",
     "text": [
      "/tmp/ipykernel_29545/2543580824.py:12: RuntimeWarning: invalid value encountered in divide\n",
      "  ds[:,i] = ds[:,i]/np.max(ds[:,i])\n",
      "/tmp/ipykernel_29545/2543580824.py:12: RuntimeWarning: invalid value encountered in divide\n",
      "  ds[:,i] = ds[:,i]/np.max(ds[:,i])\n"
     ]
    },
    {
     "name": "stdout",
     "output_type": "stream",
     "text": [
      "finish 19-11 397/768\n",
      "finish 20-11 398/768\n"
     ]
    },
    {
     "name": "stderr",
     "output_type": "stream",
     "text": [
      "/tmp/ipykernel_29545/2543580824.py:12: RuntimeWarning: invalid value encountered in divide\n",
      "  ds[:,i] = ds[:,i]/np.max(ds[:,i])\n",
      "/tmp/ipykernel_29545/2543580824.py:12: RuntimeWarning: invalid value encountered in divide\n",
      "  ds[:,i] = ds[:,i]/np.max(ds[:,i])\n"
     ]
    },
    {
     "name": "stdout",
     "output_type": "stream",
     "text": [
      "finish 21-11 399/768\n",
      "finish 22-11 400/768\n"
     ]
    },
    {
     "name": "stderr",
     "output_type": "stream",
     "text": [
      "/tmp/ipykernel_29545/2543580824.py:12: RuntimeWarning: invalid value encountered in divide\n",
      "  ds[:,i] = ds[:,i]/np.max(ds[:,i])\n",
      "/tmp/ipykernel_29545/2543580824.py:12: RuntimeWarning: invalid value encountered in divide\n",
      "  ds[:,i] = ds[:,i]/np.max(ds[:,i])\n"
     ]
    },
    {
     "name": "stdout",
     "output_type": "stream",
     "text": [
      "finish 23-11 401/768\n",
      "finish 24-11 402/768\n"
     ]
    },
    {
     "name": "stderr",
     "output_type": "stream",
     "text": [
      "/tmp/ipykernel_29545/2543580824.py:12: RuntimeWarning: invalid value encountered in divide\n",
      "  ds[:,i] = ds[:,i]/np.max(ds[:,i])\n",
      "/tmp/ipykernel_29545/2543580824.py:12: RuntimeWarning: invalid value encountered in divide\n",
      "  ds[:,i] = ds[:,i]/np.max(ds[:,i])\n"
     ]
    },
    {
     "name": "stdout",
     "output_type": "stream",
     "text": [
      "finish 25-11 403/768\n",
      "finish 26-11 404/768\n"
     ]
    },
    {
     "name": "stderr",
     "output_type": "stream",
     "text": [
      "/tmp/ipykernel_29545/2543580824.py:12: RuntimeWarning: invalid value encountered in divide\n",
      "  ds[:,i] = ds[:,i]/np.max(ds[:,i])\n",
      "/tmp/ipykernel_29545/2543580824.py:12: RuntimeWarning: invalid value encountered in divide\n",
      "  ds[:,i] = ds[:,i]/np.max(ds[:,i])\n"
     ]
    },
    {
     "name": "stdout",
     "output_type": "stream",
     "text": [
      "finish 27-11 405/768\n",
      "finish 28-11 406/768\n"
     ]
    },
    {
     "name": "stderr",
     "output_type": "stream",
     "text": [
      "/tmp/ipykernel_29545/2543580824.py:12: RuntimeWarning: invalid value encountered in divide\n",
      "  ds[:,i] = ds[:,i]/np.max(ds[:,i])\n",
      "/tmp/ipykernel_29545/2543580824.py:12: RuntimeWarning: invalid value encountered in divide\n",
      "  ds[:,i] = ds[:,i]/np.max(ds[:,i])\n"
     ]
    },
    {
     "name": "stdout",
     "output_type": "stream",
     "text": [
      "finish 29-11 407/768\n",
      "finish 30-11 408/768\n"
     ]
    },
    {
     "name": "stderr",
     "output_type": "stream",
     "text": [
      "/tmp/ipykernel_29545/2543580824.py:12: RuntimeWarning: invalid value encountered in divide\n",
      "  ds[:,i] = ds[:,i]/np.max(ds[:,i])\n",
      "/tmp/ipykernel_29545/2543580824.py:12: RuntimeWarning: invalid value encountered in divide\n",
      "  ds[:,i] = ds[:,i]/np.max(ds[:,i])\n"
     ]
    },
    {
     "name": "stdout",
     "output_type": "stream",
     "text": [
      "finish 31-11 409/768\n",
      "finish 32-11 410/768\n"
     ]
    },
    {
     "name": "stderr",
     "output_type": "stream",
     "text": [
      "/tmp/ipykernel_29545/2543580824.py:12: RuntimeWarning: invalid value encountered in divide\n",
      "  ds[:,i] = ds[:,i]/np.max(ds[:,i])\n",
      "/tmp/ipykernel_29545/2543580824.py:12: RuntimeWarning: invalid value encountered in divide\n",
      "  ds[:,i] = ds[:,i]/np.max(ds[:,i])\n"
     ]
    },
    {
     "name": "stdout",
     "output_type": "stream",
     "text": [
      "finish 33-11 411/768\n",
      "finish 34-11 412/768\n"
     ]
    },
    {
     "name": "stderr",
     "output_type": "stream",
     "text": [
      "/tmp/ipykernel_29545/2543580824.py:12: RuntimeWarning: invalid value encountered in divide\n",
      "  ds[:,i] = ds[:,i]/np.max(ds[:,i])\n",
      "/tmp/ipykernel_29545/2543580824.py:12: RuntimeWarning: invalid value encountered in divide\n",
      "  ds[:,i] = ds[:,i]/np.max(ds[:,i])\n"
     ]
    },
    {
     "name": "stdout",
     "output_type": "stream",
     "text": [
      "finish 35-11 413/768\n",
      "finish 36-11 414/768\n"
     ]
    },
    {
     "name": "stderr",
     "output_type": "stream",
     "text": [
      "/tmp/ipykernel_29545/2543580824.py:12: RuntimeWarning: invalid value encountered in divide\n",
      "  ds[:,i] = ds[:,i]/np.max(ds[:,i])\n",
      "/tmp/ipykernel_29545/2543580824.py:12: RuntimeWarning: invalid value encountered in divide\n",
      "  ds[:,i] = ds[:,i]/np.max(ds[:,i])\n"
     ]
    },
    {
     "name": "stdout",
     "output_type": "stream",
     "text": [
      "finish 37-11 415/768\n",
      "finish 38-11 416/768\n"
     ]
    },
    {
     "name": "stderr",
     "output_type": "stream",
     "text": [
      "/tmp/ipykernel_29545/2543580824.py:12: RuntimeWarning: invalid value encountered in divide\n",
      "  ds[:,i] = ds[:,i]/np.max(ds[:,i])\n",
      "/tmp/ipykernel_29545/2543580824.py:12: RuntimeWarning: invalid value encountered in divide\n",
      "  ds[:,i] = ds[:,i]/np.max(ds[:,i])\n"
     ]
    },
    {
     "name": "stdout",
     "output_type": "stream",
     "text": [
      "finish 39-11 417/768\n",
      "finish 40-11 418/768\n"
     ]
    },
    {
     "name": "stderr",
     "output_type": "stream",
     "text": [
      "/tmp/ipykernel_29545/2543580824.py:12: RuntimeWarning: invalid value encountered in divide\n",
      "  ds[:,i] = ds[:,i]/np.max(ds[:,i])\n",
      "/tmp/ipykernel_29545/2543580824.py:12: RuntimeWarning: invalid value encountered in divide\n",
      "  ds[:,i] = ds[:,i]/np.max(ds[:,i])\n"
     ]
    },
    {
     "name": "stdout",
     "output_type": "stream",
     "text": [
      "finish 41-11 419/768\n",
      "finish 42-11 420/768\n"
     ]
    },
    {
     "name": "stderr",
     "output_type": "stream",
     "text": [
      "/tmp/ipykernel_29545/2543580824.py:12: RuntimeWarning: invalid value encountered in divide\n",
      "  ds[:,i] = ds[:,i]/np.max(ds[:,i])\n",
      "/tmp/ipykernel_29545/2543580824.py:12: RuntimeWarning: invalid value encountered in divide\n",
      "  ds[:,i] = ds[:,i]/np.max(ds[:,i])\n"
     ]
    },
    {
     "name": "stdout",
     "output_type": "stream",
     "text": [
      "finish 43-11 421/768\n",
      "finish 44-11 422/768\n"
     ]
    },
    {
     "name": "stderr",
     "output_type": "stream",
     "text": [
      "/tmp/ipykernel_29545/2543580824.py:12: RuntimeWarning: invalid value encountered in divide\n",
      "  ds[:,i] = ds[:,i]/np.max(ds[:,i])\n",
      "/tmp/ipykernel_29545/2543580824.py:12: RuntimeWarning: invalid value encountered in divide\n",
      "  ds[:,i] = ds[:,i]/np.max(ds[:,i])\n"
     ]
    },
    {
     "name": "stdout",
     "output_type": "stream",
     "text": [
      "finish 45-11 423/768\n",
      "finish 46-11 424/768\n"
     ]
    },
    {
     "name": "stderr",
     "output_type": "stream",
     "text": [
      "/tmp/ipykernel_29545/2543580824.py:12: RuntimeWarning: invalid value encountered in divide\n",
      "  ds[:,i] = ds[:,i]/np.max(ds[:,i])\n",
      "/tmp/ipykernel_29545/2543580824.py:12: RuntimeWarning: invalid value encountered in divide\n",
      "  ds[:,i] = ds[:,i]/np.max(ds[:,i])\n"
     ]
    },
    {
     "name": "stdout",
     "output_type": "stream",
     "text": [
      "finish 47-11 425/768\n",
      "finish 48-11 426/768\n"
     ]
    },
    {
     "name": "stderr",
     "output_type": "stream",
     "text": [
      "/tmp/ipykernel_29545/2543580824.py:12: RuntimeWarning: invalid value encountered in divide\n",
      "  ds[:,i] = ds[:,i]/np.max(ds[:,i])\n",
      "/tmp/ipykernel_29545/2543580824.py:12: RuntimeWarning: invalid value encountered in divide\n",
      "  ds[:,i] = ds[:,i]/np.max(ds[:,i])\n"
     ]
    },
    {
     "name": "stdout",
     "output_type": "stream",
     "text": [
      "finish 49-11 427/768\n",
      "finish 50-11 428/768\n"
     ]
    },
    {
     "name": "stderr",
     "output_type": "stream",
     "text": [
      "/tmp/ipykernel_29545/2543580824.py:12: RuntimeWarning: invalid value encountered in divide\n",
      "  ds[:,i] = ds[:,i]/np.max(ds[:,i])\n",
      "/tmp/ipykernel_29545/2543580824.py:12: RuntimeWarning: invalid value encountered in divide\n",
      "  ds[:,i] = ds[:,i]/np.max(ds[:,i])\n"
     ]
    },
    {
     "name": "stdout",
     "output_type": "stream",
     "text": [
      "finish 51-11 429/768\n",
      "finish 52-11 430/768\n"
     ]
    },
    {
     "name": "stderr",
     "output_type": "stream",
     "text": [
      "/tmp/ipykernel_29545/2543580824.py:12: RuntimeWarning: invalid value encountered in divide\n",
      "  ds[:,i] = ds[:,i]/np.max(ds[:,i])\n",
      "/tmp/ipykernel_29545/2543580824.py:12: RuntimeWarning: invalid value encountered in divide\n",
      "  ds[:,i] = ds[:,i]/np.max(ds[:,i])\n"
     ]
    },
    {
     "name": "stdout",
     "output_type": "stream",
     "text": [
      "finish 53-11 431/768\n",
      "finish 54-11 432/768\n"
     ]
    },
    {
     "name": "stderr",
     "output_type": "stream",
     "text": [
      "/tmp/ipykernel_29545/2543580824.py:12: RuntimeWarning: invalid value encountered in divide\n",
      "  ds[:,i] = ds[:,i]/np.max(ds[:,i])\n",
      "/tmp/ipykernel_29545/2543580824.py:12: RuntimeWarning: invalid value encountered in divide\n",
      "  ds[:,i] = ds[:,i]/np.max(ds[:,i])\n"
     ]
    },
    {
     "name": "stdout",
     "output_type": "stream",
     "text": [
      "finish 07-12 433/768\n",
      "finish 08-12 434/768\n"
     ]
    },
    {
     "name": "stderr",
     "output_type": "stream",
     "text": [
      "/tmp/ipykernel_29545/2543580824.py:12: RuntimeWarning: invalid value encountered in divide\n",
      "  ds[:,i] = ds[:,i]/np.max(ds[:,i])\n",
      "/tmp/ipykernel_29545/2543580824.py:12: RuntimeWarning: invalid value encountered in divide\n",
      "  ds[:,i] = ds[:,i]/np.max(ds[:,i])\n"
     ]
    },
    {
     "name": "stdout",
     "output_type": "stream",
     "text": [
      "finish 09-12 435/768\n",
      "finish 10-12 436/768\n"
     ]
    },
    {
     "name": "stderr",
     "output_type": "stream",
     "text": [
      "/tmp/ipykernel_29545/2543580824.py:12: RuntimeWarning: invalid value encountered in divide\n",
      "  ds[:,i] = ds[:,i]/np.max(ds[:,i])\n",
      "/tmp/ipykernel_29545/2543580824.py:12: RuntimeWarning: invalid value encountered in divide\n",
      "  ds[:,i] = ds[:,i]/np.max(ds[:,i])\n"
     ]
    },
    {
     "name": "stdout",
     "output_type": "stream",
     "text": [
      "finish 11-12 437/768\n",
      "finish 12-12 438/768\n"
     ]
    },
    {
     "name": "stderr",
     "output_type": "stream",
     "text": [
      "/tmp/ipykernel_29545/2543580824.py:12: RuntimeWarning: invalid value encountered in divide\n",
      "  ds[:,i] = ds[:,i]/np.max(ds[:,i])\n",
      "/tmp/ipykernel_29545/2543580824.py:12: RuntimeWarning: invalid value encountered in divide\n",
      "  ds[:,i] = ds[:,i]/np.max(ds[:,i])\n"
     ]
    },
    {
     "name": "stdout",
     "output_type": "stream",
     "text": [
      "finish 13-12 439/768\n",
      "finish 14-12 440/768\n"
     ]
    },
    {
     "name": "stderr",
     "output_type": "stream",
     "text": [
      "/tmp/ipykernel_29545/2543580824.py:12: RuntimeWarning: invalid value encountered in divide\n",
      "  ds[:,i] = ds[:,i]/np.max(ds[:,i])\n",
      "/tmp/ipykernel_29545/2543580824.py:12: RuntimeWarning: invalid value encountered in divide\n",
      "  ds[:,i] = ds[:,i]/np.max(ds[:,i])\n"
     ]
    },
    {
     "name": "stdout",
     "output_type": "stream",
     "text": [
      "finish 15-12 441/768\n",
      "finish 16-12 442/768\n"
     ]
    },
    {
     "name": "stderr",
     "output_type": "stream",
     "text": [
      "/tmp/ipykernel_29545/2543580824.py:12: RuntimeWarning: invalid value encountered in divide\n",
      "  ds[:,i] = ds[:,i]/np.max(ds[:,i])\n",
      "/tmp/ipykernel_29545/2543580824.py:12: RuntimeWarning: invalid value encountered in divide\n",
      "  ds[:,i] = ds[:,i]/np.max(ds[:,i])\n"
     ]
    },
    {
     "name": "stdout",
     "output_type": "stream",
     "text": [
      "finish 17-12 443/768\n",
      "finish 18-12 444/768\n"
     ]
    },
    {
     "name": "stderr",
     "output_type": "stream",
     "text": [
      "/tmp/ipykernel_29545/2543580824.py:12: RuntimeWarning: invalid value encountered in divide\n",
      "  ds[:,i] = ds[:,i]/np.max(ds[:,i])\n",
      "/tmp/ipykernel_29545/2543580824.py:12: RuntimeWarning: invalid value encountered in divide\n",
      "  ds[:,i] = ds[:,i]/np.max(ds[:,i])\n"
     ]
    },
    {
     "name": "stdout",
     "output_type": "stream",
     "text": [
      "finish 19-12 445/768\n",
      "finish 20-12 446/768\n"
     ]
    },
    {
     "name": "stderr",
     "output_type": "stream",
     "text": [
      "/tmp/ipykernel_29545/2543580824.py:12: RuntimeWarning: invalid value encountered in divide\n",
      "  ds[:,i] = ds[:,i]/np.max(ds[:,i])\n",
      "/tmp/ipykernel_29545/2543580824.py:12: RuntimeWarning: invalid value encountered in divide\n",
      "  ds[:,i] = ds[:,i]/np.max(ds[:,i])\n"
     ]
    },
    {
     "name": "stdout",
     "output_type": "stream",
     "text": [
      "finish 21-12 447/768\n",
      "finish 22-12 448/768\n"
     ]
    },
    {
     "name": "stderr",
     "output_type": "stream",
     "text": [
      "/tmp/ipykernel_29545/2543580824.py:12: RuntimeWarning: invalid value encountered in divide\n",
      "  ds[:,i] = ds[:,i]/np.max(ds[:,i])\n",
      "/tmp/ipykernel_29545/2543580824.py:12: RuntimeWarning: invalid value encountered in divide\n",
      "  ds[:,i] = ds[:,i]/np.max(ds[:,i])\n"
     ]
    },
    {
     "name": "stdout",
     "output_type": "stream",
     "text": [
      "finish 23-12 449/768\n",
      "finish 24-12 450/768\n"
     ]
    },
    {
     "name": "stderr",
     "output_type": "stream",
     "text": [
      "/tmp/ipykernel_29545/2543580824.py:12: RuntimeWarning: invalid value encountered in divide\n",
      "  ds[:,i] = ds[:,i]/np.max(ds[:,i])\n",
      "/tmp/ipykernel_29545/2543580824.py:12: RuntimeWarning: invalid value encountered in divide\n",
      "  ds[:,i] = ds[:,i]/np.max(ds[:,i])\n"
     ]
    },
    {
     "name": "stdout",
     "output_type": "stream",
     "text": [
      "finish 25-12 451/768\n",
      "finish 26-12 452/768\n"
     ]
    },
    {
     "name": "stderr",
     "output_type": "stream",
     "text": [
      "/tmp/ipykernel_29545/2543580824.py:12: RuntimeWarning: invalid value encountered in divide\n",
      "  ds[:,i] = ds[:,i]/np.max(ds[:,i])\n",
      "/tmp/ipykernel_29545/2543580824.py:12: RuntimeWarning: invalid value encountered in divide\n",
      "  ds[:,i] = ds[:,i]/np.max(ds[:,i])\n"
     ]
    },
    {
     "name": "stdout",
     "output_type": "stream",
     "text": [
      "finish 27-12 453/768\n",
      "finish 28-12 454/768\n"
     ]
    },
    {
     "name": "stderr",
     "output_type": "stream",
     "text": [
      "/tmp/ipykernel_29545/2543580824.py:12: RuntimeWarning: invalid value encountered in divide\n",
      "  ds[:,i] = ds[:,i]/np.max(ds[:,i])\n",
      "/tmp/ipykernel_29545/2543580824.py:12: RuntimeWarning: invalid value encountered in divide\n",
      "  ds[:,i] = ds[:,i]/np.max(ds[:,i])\n"
     ]
    },
    {
     "name": "stdout",
     "output_type": "stream",
     "text": [
      "finish 29-12 455/768\n",
      "finish 30-12 456/768\n"
     ]
    },
    {
     "name": "stderr",
     "output_type": "stream",
     "text": [
      "/tmp/ipykernel_29545/2543580824.py:12: RuntimeWarning: invalid value encountered in divide\n",
      "  ds[:,i] = ds[:,i]/np.max(ds[:,i])\n",
      "/tmp/ipykernel_29545/2543580824.py:12: RuntimeWarning: invalid value encountered in divide\n",
      "  ds[:,i] = ds[:,i]/np.max(ds[:,i])\n"
     ]
    },
    {
     "name": "stdout",
     "output_type": "stream",
     "text": [
      "finish 31-12 457/768\n",
      "finish 32-12 458/768\n"
     ]
    },
    {
     "name": "stderr",
     "output_type": "stream",
     "text": [
      "/tmp/ipykernel_29545/2543580824.py:12: RuntimeWarning: invalid value encountered in divide\n",
      "  ds[:,i] = ds[:,i]/np.max(ds[:,i])\n",
      "/tmp/ipykernel_29545/2543580824.py:12: RuntimeWarning: invalid value encountered in divide\n",
      "  ds[:,i] = ds[:,i]/np.max(ds[:,i])\n"
     ]
    },
    {
     "name": "stdout",
     "output_type": "stream",
     "text": [
      "finish 33-12 459/768\n",
      "finish 34-12 460/768\n"
     ]
    },
    {
     "name": "stderr",
     "output_type": "stream",
     "text": [
      "/tmp/ipykernel_29545/2543580824.py:12: RuntimeWarning: invalid value encountered in divide\n",
      "  ds[:,i] = ds[:,i]/np.max(ds[:,i])\n",
      "/tmp/ipykernel_29545/2543580824.py:12: RuntimeWarning: invalid value encountered in divide\n",
      "  ds[:,i] = ds[:,i]/np.max(ds[:,i])\n"
     ]
    },
    {
     "name": "stdout",
     "output_type": "stream",
     "text": [
      "finish 35-12 461/768\n",
      "finish 36-12 462/768\n"
     ]
    },
    {
     "name": "stderr",
     "output_type": "stream",
     "text": [
      "/tmp/ipykernel_29545/2543580824.py:12: RuntimeWarning: invalid value encountered in divide\n",
      "  ds[:,i] = ds[:,i]/np.max(ds[:,i])\n",
      "/tmp/ipykernel_29545/2543580824.py:12: RuntimeWarning: invalid value encountered in divide\n",
      "  ds[:,i] = ds[:,i]/np.max(ds[:,i])\n"
     ]
    },
    {
     "name": "stdout",
     "output_type": "stream",
     "text": [
      "finish 37-12 463/768\n",
      "finish 38-12 464/768\n"
     ]
    },
    {
     "name": "stderr",
     "output_type": "stream",
     "text": [
      "/tmp/ipykernel_29545/2543580824.py:12: RuntimeWarning: invalid value encountered in divide\n",
      "  ds[:,i] = ds[:,i]/np.max(ds[:,i])\n",
      "/tmp/ipykernel_29545/2543580824.py:12: RuntimeWarning: invalid value encountered in divide\n",
      "  ds[:,i] = ds[:,i]/np.max(ds[:,i])\n"
     ]
    },
    {
     "name": "stdout",
     "output_type": "stream",
     "text": [
      "finish 39-12 465/768\n",
      "finish 40-12 466/768\n"
     ]
    },
    {
     "name": "stderr",
     "output_type": "stream",
     "text": [
      "/tmp/ipykernel_29545/2543580824.py:12: RuntimeWarning: invalid value encountered in divide\n",
      "  ds[:,i] = ds[:,i]/np.max(ds[:,i])\n",
      "/tmp/ipykernel_29545/2543580824.py:12: RuntimeWarning: invalid value encountered in divide\n",
      "  ds[:,i] = ds[:,i]/np.max(ds[:,i])\n"
     ]
    },
    {
     "name": "stdout",
     "output_type": "stream",
     "text": [
      "finish 41-12 467/768\n",
      "finish 42-12 468/768\n"
     ]
    },
    {
     "name": "stderr",
     "output_type": "stream",
     "text": [
      "/tmp/ipykernel_29545/2543580824.py:12: RuntimeWarning: invalid value encountered in divide\n",
      "  ds[:,i] = ds[:,i]/np.max(ds[:,i])\n",
      "/tmp/ipykernel_29545/2543580824.py:12: RuntimeWarning: invalid value encountered in divide\n",
      "  ds[:,i] = ds[:,i]/np.max(ds[:,i])\n"
     ]
    },
    {
     "name": "stdout",
     "output_type": "stream",
     "text": [
      "finish 43-12 469/768\n",
      "finish 44-12 470/768\n"
     ]
    },
    {
     "name": "stderr",
     "output_type": "stream",
     "text": [
      "/tmp/ipykernel_29545/2543580824.py:12: RuntimeWarning: invalid value encountered in divide\n",
      "  ds[:,i] = ds[:,i]/np.max(ds[:,i])\n",
      "/tmp/ipykernel_29545/2543580824.py:12: RuntimeWarning: invalid value encountered in divide\n",
      "  ds[:,i] = ds[:,i]/np.max(ds[:,i])\n"
     ]
    },
    {
     "name": "stdout",
     "output_type": "stream",
     "text": [
      "finish 45-12 471/768\n",
      "finish 46-12 472/768\n"
     ]
    },
    {
     "name": "stderr",
     "output_type": "stream",
     "text": [
      "/tmp/ipykernel_29545/2543580824.py:12: RuntimeWarning: invalid value encountered in divide\n",
      "  ds[:,i] = ds[:,i]/np.max(ds[:,i])\n",
      "/tmp/ipykernel_29545/2543580824.py:12: RuntimeWarning: invalid value encountered in divide\n",
      "  ds[:,i] = ds[:,i]/np.max(ds[:,i])\n"
     ]
    },
    {
     "name": "stdout",
     "output_type": "stream",
     "text": [
      "finish 47-12 473/768\n",
      "finish 48-12 474/768\n"
     ]
    },
    {
     "name": "stderr",
     "output_type": "stream",
     "text": [
      "/tmp/ipykernel_29545/2543580824.py:12: RuntimeWarning: invalid value encountered in divide\n",
      "  ds[:,i] = ds[:,i]/np.max(ds[:,i])\n",
      "/tmp/ipykernel_29545/2543580824.py:12: RuntimeWarning: invalid value encountered in divide\n",
      "  ds[:,i] = ds[:,i]/np.max(ds[:,i])\n"
     ]
    },
    {
     "name": "stdout",
     "output_type": "stream",
     "text": [
      "finish 49-12 475/768\n",
      "finish 50-12 476/768\n"
     ]
    },
    {
     "name": "stderr",
     "output_type": "stream",
     "text": [
      "/tmp/ipykernel_29545/2543580824.py:12: RuntimeWarning: invalid value encountered in divide\n",
      "  ds[:,i] = ds[:,i]/np.max(ds[:,i])\n",
      "/tmp/ipykernel_29545/2543580824.py:12: RuntimeWarning: invalid value encountered in divide\n",
      "  ds[:,i] = ds[:,i]/np.max(ds[:,i])\n"
     ]
    },
    {
     "name": "stdout",
     "output_type": "stream",
     "text": [
      "finish 51-12 477/768\n",
      "finish 52-12 478/768\n"
     ]
    },
    {
     "name": "stderr",
     "output_type": "stream",
     "text": [
      "/tmp/ipykernel_29545/2543580824.py:12: RuntimeWarning: invalid value encountered in divide\n",
      "  ds[:,i] = ds[:,i]/np.max(ds[:,i])\n",
      "/tmp/ipykernel_29545/2543580824.py:12: RuntimeWarning: invalid value encountered in divide\n",
      "  ds[:,i] = ds[:,i]/np.max(ds[:,i])\n"
     ]
    },
    {
     "name": "stdout",
     "output_type": "stream",
     "text": [
      "finish 53-12 479/768\n",
      "finish 54-12 480/768\n"
     ]
    },
    {
     "name": "stderr",
     "output_type": "stream",
     "text": [
      "/tmp/ipykernel_29545/2543580824.py:12: RuntimeWarning: invalid value encountered in divide\n",
      "  ds[:,i] = ds[:,i]/np.max(ds[:,i])\n",
      "/tmp/ipykernel_29545/2543580824.py:12: RuntimeWarning: invalid value encountered in divide\n",
      "  ds[:,i] = ds[:,i]/np.max(ds[:,i])\n"
     ]
    },
    {
     "name": "stdout",
     "output_type": "stream",
     "text": [
      "finish 07-13 481/768\n",
      "finish 08-13 482/768\n"
     ]
    },
    {
     "name": "stderr",
     "output_type": "stream",
     "text": [
      "/tmp/ipykernel_29545/2543580824.py:12: RuntimeWarning: invalid value encountered in divide\n",
      "  ds[:,i] = ds[:,i]/np.max(ds[:,i])\n",
      "/tmp/ipykernel_29545/2543580824.py:12: RuntimeWarning: invalid value encountered in divide\n",
      "  ds[:,i] = ds[:,i]/np.max(ds[:,i])\n"
     ]
    },
    {
     "name": "stdout",
     "output_type": "stream",
     "text": [
      "finish 09-13 483/768\n",
      "finish 10-13 484/768\n"
     ]
    },
    {
     "name": "stderr",
     "output_type": "stream",
     "text": [
      "/tmp/ipykernel_29545/2543580824.py:12: RuntimeWarning: invalid value encountered in divide\n",
      "  ds[:,i] = ds[:,i]/np.max(ds[:,i])\n",
      "/tmp/ipykernel_29545/2543580824.py:12: RuntimeWarning: invalid value encountered in divide\n",
      "  ds[:,i] = ds[:,i]/np.max(ds[:,i])\n"
     ]
    },
    {
     "name": "stdout",
     "output_type": "stream",
     "text": [
      "finish 11-13 485/768\n",
      "finish 12-13 486/768\n"
     ]
    },
    {
     "name": "stderr",
     "output_type": "stream",
     "text": [
      "/tmp/ipykernel_29545/2543580824.py:12: RuntimeWarning: invalid value encountered in divide\n",
      "  ds[:,i] = ds[:,i]/np.max(ds[:,i])\n",
      "/tmp/ipykernel_29545/2543580824.py:12: RuntimeWarning: invalid value encountered in divide\n",
      "  ds[:,i] = ds[:,i]/np.max(ds[:,i])\n"
     ]
    },
    {
     "name": "stdout",
     "output_type": "stream",
     "text": [
      "finish 13-13 487/768\n",
      "finish 14-13 488/768\n"
     ]
    },
    {
     "name": "stderr",
     "output_type": "stream",
     "text": [
      "/tmp/ipykernel_29545/2543580824.py:12: RuntimeWarning: invalid value encountered in divide\n",
      "  ds[:,i] = ds[:,i]/np.max(ds[:,i])\n",
      "/tmp/ipykernel_29545/2543580824.py:12: RuntimeWarning: invalid value encountered in divide\n",
      "  ds[:,i] = ds[:,i]/np.max(ds[:,i])\n"
     ]
    },
    {
     "name": "stdout",
     "output_type": "stream",
     "text": [
      "finish 15-13 489/768\n",
      "finish 16-13 490/768\n"
     ]
    },
    {
     "name": "stderr",
     "output_type": "stream",
     "text": [
      "/tmp/ipykernel_29545/2543580824.py:12: RuntimeWarning: invalid value encountered in divide\n",
      "  ds[:,i] = ds[:,i]/np.max(ds[:,i])\n",
      "/tmp/ipykernel_29545/2543580824.py:12: RuntimeWarning: invalid value encountered in divide\n",
      "  ds[:,i] = ds[:,i]/np.max(ds[:,i])\n"
     ]
    },
    {
     "name": "stdout",
     "output_type": "stream",
     "text": [
      "finish 17-13 491/768\n",
      "finish 18-13 492/768\n"
     ]
    },
    {
     "name": "stderr",
     "output_type": "stream",
     "text": [
      "/tmp/ipykernel_29545/2543580824.py:12: RuntimeWarning: invalid value encountered in divide\n",
      "  ds[:,i] = ds[:,i]/np.max(ds[:,i])\n",
      "/tmp/ipykernel_29545/2543580824.py:12: RuntimeWarning: invalid value encountered in divide\n",
      "  ds[:,i] = ds[:,i]/np.max(ds[:,i])\n"
     ]
    },
    {
     "name": "stdout",
     "output_type": "stream",
     "text": [
      "finish 19-13 493/768\n",
      "finish 20-13 494/768\n"
     ]
    },
    {
     "name": "stderr",
     "output_type": "stream",
     "text": [
      "/tmp/ipykernel_29545/2543580824.py:12: RuntimeWarning: invalid value encountered in divide\n",
      "  ds[:,i] = ds[:,i]/np.max(ds[:,i])\n",
      "/tmp/ipykernel_29545/2543580824.py:12: RuntimeWarning: invalid value encountered in divide\n",
      "  ds[:,i] = ds[:,i]/np.max(ds[:,i])\n"
     ]
    },
    {
     "name": "stdout",
     "output_type": "stream",
     "text": [
      "finish 21-13 495/768\n",
      "finish 22-13 496/768\n"
     ]
    },
    {
     "name": "stderr",
     "output_type": "stream",
     "text": [
      "/tmp/ipykernel_29545/2543580824.py:12: RuntimeWarning: invalid value encountered in divide\n",
      "  ds[:,i] = ds[:,i]/np.max(ds[:,i])\n",
      "/tmp/ipykernel_29545/2543580824.py:12: RuntimeWarning: invalid value encountered in divide\n",
      "  ds[:,i] = ds[:,i]/np.max(ds[:,i])\n"
     ]
    },
    {
     "name": "stdout",
     "output_type": "stream",
     "text": [
      "finish 23-13 497/768\n",
      "finish 24-13 498/768\n"
     ]
    },
    {
     "name": "stderr",
     "output_type": "stream",
     "text": [
      "/tmp/ipykernel_29545/2543580824.py:12: RuntimeWarning: invalid value encountered in divide\n",
      "  ds[:,i] = ds[:,i]/np.max(ds[:,i])\n",
      "/tmp/ipykernel_29545/2543580824.py:12: RuntimeWarning: invalid value encountered in divide\n",
      "  ds[:,i] = ds[:,i]/np.max(ds[:,i])\n"
     ]
    },
    {
     "name": "stdout",
     "output_type": "stream",
     "text": [
      "finish 25-13 499/768\n",
      "finish 26-13 500/768\n"
     ]
    },
    {
     "name": "stderr",
     "output_type": "stream",
     "text": [
      "/tmp/ipykernel_29545/2543580824.py:12: RuntimeWarning: invalid value encountered in divide\n",
      "  ds[:,i] = ds[:,i]/np.max(ds[:,i])\n",
      "/tmp/ipykernel_29545/2543580824.py:12: RuntimeWarning: invalid value encountered in divide\n",
      "  ds[:,i] = ds[:,i]/np.max(ds[:,i])\n"
     ]
    },
    {
     "name": "stdout",
     "output_type": "stream",
     "text": [
      "finish 27-13 501/768\n",
      "finish 28-13 502/768\n"
     ]
    },
    {
     "name": "stderr",
     "output_type": "stream",
     "text": [
      "/tmp/ipykernel_29545/2543580824.py:12: RuntimeWarning: invalid value encountered in divide\n",
      "  ds[:,i] = ds[:,i]/np.max(ds[:,i])\n",
      "/tmp/ipykernel_29545/2543580824.py:12: RuntimeWarning: invalid value encountered in divide\n",
      "  ds[:,i] = ds[:,i]/np.max(ds[:,i])\n"
     ]
    },
    {
     "name": "stdout",
     "output_type": "stream",
     "text": [
      "finish 29-13 503/768\n",
      "finish 30-13 504/768\n"
     ]
    },
    {
     "name": "stderr",
     "output_type": "stream",
     "text": [
      "/tmp/ipykernel_29545/2543580824.py:12: RuntimeWarning: invalid value encountered in divide\n",
      "  ds[:,i] = ds[:,i]/np.max(ds[:,i])\n",
      "/tmp/ipykernel_29545/2543580824.py:12: RuntimeWarning: invalid value encountered in divide\n",
      "  ds[:,i] = ds[:,i]/np.max(ds[:,i])\n"
     ]
    },
    {
     "name": "stdout",
     "output_type": "stream",
     "text": [
      "finish 31-13 505/768\n",
      "finish 32-13 506/768\n"
     ]
    },
    {
     "name": "stderr",
     "output_type": "stream",
     "text": [
      "/tmp/ipykernel_29545/2543580824.py:12: RuntimeWarning: invalid value encountered in divide\n",
      "  ds[:,i] = ds[:,i]/np.max(ds[:,i])\n",
      "/tmp/ipykernel_29545/2543580824.py:12: RuntimeWarning: invalid value encountered in divide\n",
      "  ds[:,i] = ds[:,i]/np.max(ds[:,i])\n"
     ]
    },
    {
     "name": "stdout",
     "output_type": "stream",
     "text": [
      "finish 33-13 507/768\n",
      "finish 34-13 508/768\n"
     ]
    },
    {
     "name": "stderr",
     "output_type": "stream",
     "text": [
      "/tmp/ipykernel_29545/2543580824.py:12: RuntimeWarning: invalid value encountered in divide\n",
      "  ds[:,i] = ds[:,i]/np.max(ds[:,i])\n",
      "/tmp/ipykernel_29545/2543580824.py:12: RuntimeWarning: invalid value encountered in divide\n",
      "  ds[:,i] = ds[:,i]/np.max(ds[:,i])\n"
     ]
    },
    {
     "name": "stdout",
     "output_type": "stream",
     "text": [
      "finish 35-13 509/768\n",
      "finish 36-13 510/768\n"
     ]
    },
    {
     "name": "stderr",
     "output_type": "stream",
     "text": [
      "/tmp/ipykernel_29545/2543580824.py:12: RuntimeWarning: invalid value encountered in divide\n",
      "  ds[:,i] = ds[:,i]/np.max(ds[:,i])\n",
      "/tmp/ipykernel_29545/2543580824.py:12: RuntimeWarning: invalid value encountered in divide\n",
      "  ds[:,i] = ds[:,i]/np.max(ds[:,i])\n"
     ]
    },
    {
     "name": "stdout",
     "output_type": "stream",
     "text": [
      "finish 37-13 511/768\n",
      "finish 38-13 512/768\n"
     ]
    },
    {
     "name": "stderr",
     "output_type": "stream",
     "text": [
      "/tmp/ipykernel_29545/2543580824.py:12: RuntimeWarning: invalid value encountered in divide\n",
      "  ds[:,i] = ds[:,i]/np.max(ds[:,i])\n",
      "/tmp/ipykernel_29545/2543580824.py:12: RuntimeWarning: invalid value encountered in divide\n",
      "  ds[:,i] = ds[:,i]/np.max(ds[:,i])\n"
     ]
    },
    {
     "name": "stdout",
     "output_type": "stream",
     "text": [
      "finish 39-13 513/768\n",
      "finish 40-13 514/768\n"
     ]
    },
    {
     "name": "stderr",
     "output_type": "stream",
     "text": [
      "/tmp/ipykernel_29545/2543580824.py:12: RuntimeWarning: invalid value encountered in divide\n",
      "  ds[:,i] = ds[:,i]/np.max(ds[:,i])\n",
      "/tmp/ipykernel_29545/2543580824.py:12: RuntimeWarning: invalid value encountered in divide\n",
      "  ds[:,i] = ds[:,i]/np.max(ds[:,i])\n"
     ]
    },
    {
     "name": "stdout",
     "output_type": "stream",
     "text": [
      "finish 41-13 515/768\n",
      "finish 42-13 516/768\n"
     ]
    },
    {
     "name": "stderr",
     "output_type": "stream",
     "text": [
      "/tmp/ipykernel_29545/2543580824.py:12: RuntimeWarning: invalid value encountered in divide\n",
      "  ds[:,i] = ds[:,i]/np.max(ds[:,i])\n",
      "/tmp/ipykernel_29545/2543580824.py:12: RuntimeWarning: invalid value encountered in divide\n",
      "  ds[:,i] = ds[:,i]/np.max(ds[:,i])\n"
     ]
    },
    {
     "name": "stdout",
     "output_type": "stream",
     "text": [
      "finish 43-13 517/768\n",
      "finish 44-13 518/768\n"
     ]
    },
    {
     "name": "stderr",
     "output_type": "stream",
     "text": [
      "/tmp/ipykernel_29545/2543580824.py:12: RuntimeWarning: invalid value encountered in divide\n",
      "  ds[:,i] = ds[:,i]/np.max(ds[:,i])\n",
      "/tmp/ipykernel_29545/2543580824.py:12: RuntimeWarning: invalid value encountered in divide\n",
      "  ds[:,i] = ds[:,i]/np.max(ds[:,i])\n"
     ]
    },
    {
     "name": "stdout",
     "output_type": "stream",
     "text": [
      "finish 45-13 519/768\n",
      "finish 46-13 520/768\n"
     ]
    },
    {
     "name": "stderr",
     "output_type": "stream",
     "text": [
      "/tmp/ipykernel_29545/2543580824.py:12: RuntimeWarning: invalid value encountered in divide\n",
      "  ds[:,i] = ds[:,i]/np.max(ds[:,i])\n",
      "/tmp/ipykernel_29545/2543580824.py:12: RuntimeWarning: invalid value encountered in divide\n",
      "  ds[:,i] = ds[:,i]/np.max(ds[:,i])\n"
     ]
    },
    {
     "name": "stdout",
     "output_type": "stream",
     "text": [
      "finish 47-13 521/768\n",
      "finish 48-13 522/768\n"
     ]
    },
    {
     "name": "stderr",
     "output_type": "stream",
     "text": [
      "/tmp/ipykernel_29545/2543580824.py:12: RuntimeWarning: invalid value encountered in divide\n",
      "  ds[:,i] = ds[:,i]/np.max(ds[:,i])\n",
      "/tmp/ipykernel_29545/2543580824.py:12: RuntimeWarning: invalid value encountered in divide\n",
      "  ds[:,i] = ds[:,i]/np.max(ds[:,i])\n"
     ]
    },
    {
     "name": "stdout",
     "output_type": "stream",
     "text": [
      "finish 49-13 523/768\n",
      "finish 50-13 524/768\n"
     ]
    },
    {
     "name": "stderr",
     "output_type": "stream",
     "text": [
      "/tmp/ipykernel_29545/2543580824.py:12: RuntimeWarning: invalid value encountered in divide\n",
      "  ds[:,i] = ds[:,i]/np.max(ds[:,i])\n",
      "/tmp/ipykernel_29545/2543580824.py:12: RuntimeWarning: invalid value encountered in divide\n",
      "  ds[:,i] = ds[:,i]/np.max(ds[:,i])\n"
     ]
    },
    {
     "name": "stdout",
     "output_type": "stream",
     "text": [
      "finish 51-13 525/768\n",
      "finish 52-13 526/768\n"
     ]
    },
    {
     "name": "stderr",
     "output_type": "stream",
     "text": [
      "/tmp/ipykernel_29545/2543580824.py:12: RuntimeWarning: invalid value encountered in divide\n",
      "  ds[:,i] = ds[:,i]/np.max(ds[:,i])\n",
      "/tmp/ipykernel_29545/2543580824.py:12: RuntimeWarning: invalid value encountered in divide\n",
      "  ds[:,i] = ds[:,i]/np.max(ds[:,i])\n"
     ]
    },
    {
     "name": "stdout",
     "output_type": "stream",
     "text": [
      "finish 53-13 527/768\n",
      "finish 54-13 528/768\n"
     ]
    },
    {
     "name": "stderr",
     "output_type": "stream",
     "text": [
      "/tmp/ipykernel_29545/2543580824.py:12: RuntimeWarning: invalid value encountered in divide\n",
      "  ds[:,i] = ds[:,i]/np.max(ds[:,i])\n",
      "/tmp/ipykernel_29545/2543580824.py:12: RuntimeWarning: invalid value encountered in divide\n",
      "  ds[:,i] = ds[:,i]/np.max(ds[:,i])\n"
     ]
    },
    {
     "name": "stdout",
     "output_type": "stream",
     "text": [
      "finish 07-14 529/768\n",
      "finish 08-14 530/768\n"
     ]
    },
    {
     "name": "stderr",
     "output_type": "stream",
     "text": [
      "/tmp/ipykernel_29545/2543580824.py:12: RuntimeWarning: invalid value encountered in divide\n",
      "  ds[:,i] = ds[:,i]/np.max(ds[:,i])\n",
      "/tmp/ipykernel_29545/2543580824.py:12: RuntimeWarning: invalid value encountered in divide\n",
      "  ds[:,i] = ds[:,i]/np.max(ds[:,i])\n"
     ]
    },
    {
     "name": "stdout",
     "output_type": "stream",
     "text": [
      "finish 09-14 531/768\n",
      "finish 10-14 532/768\n"
     ]
    },
    {
     "name": "stderr",
     "output_type": "stream",
     "text": [
      "/tmp/ipykernel_29545/2543580824.py:12: RuntimeWarning: invalid value encountered in divide\n",
      "  ds[:,i] = ds[:,i]/np.max(ds[:,i])\n",
      "/tmp/ipykernel_29545/2543580824.py:12: RuntimeWarning: invalid value encountered in divide\n",
      "  ds[:,i] = ds[:,i]/np.max(ds[:,i])\n"
     ]
    },
    {
     "name": "stdout",
     "output_type": "stream",
     "text": [
      "finish 11-14 533/768\n",
      "finish 12-14 534/768\n"
     ]
    },
    {
     "name": "stderr",
     "output_type": "stream",
     "text": [
      "/tmp/ipykernel_29545/2543580824.py:12: RuntimeWarning: invalid value encountered in divide\n",
      "  ds[:,i] = ds[:,i]/np.max(ds[:,i])\n",
      "/tmp/ipykernel_29545/2543580824.py:12: RuntimeWarning: invalid value encountered in divide\n",
      "  ds[:,i] = ds[:,i]/np.max(ds[:,i])\n"
     ]
    },
    {
     "name": "stdout",
     "output_type": "stream",
     "text": [
      "finish 13-14 535/768\n",
      "finish 14-14 536/768\n"
     ]
    },
    {
     "name": "stderr",
     "output_type": "stream",
     "text": [
      "/tmp/ipykernel_29545/2543580824.py:12: RuntimeWarning: invalid value encountered in divide\n",
      "  ds[:,i] = ds[:,i]/np.max(ds[:,i])\n",
      "/tmp/ipykernel_29545/2543580824.py:12: RuntimeWarning: invalid value encountered in divide\n",
      "  ds[:,i] = ds[:,i]/np.max(ds[:,i])\n"
     ]
    },
    {
     "name": "stdout",
     "output_type": "stream",
     "text": [
      "finish 15-14 537/768\n",
      "finish 16-14 538/768\n"
     ]
    },
    {
     "name": "stderr",
     "output_type": "stream",
     "text": [
      "/tmp/ipykernel_29545/2543580824.py:12: RuntimeWarning: invalid value encountered in divide\n",
      "  ds[:,i] = ds[:,i]/np.max(ds[:,i])\n",
      "/tmp/ipykernel_29545/2543580824.py:12: RuntimeWarning: invalid value encountered in divide\n",
      "  ds[:,i] = ds[:,i]/np.max(ds[:,i])\n"
     ]
    },
    {
     "name": "stdout",
     "output_type": "stream",
     "text": [
      "finish 17-14 539/768\n",
      "finish 18-14 540/768\n"
     ]
    },
    {
     "name": "stderr",
     "output_type": "stream",
     "text": [
      "/tmp/ipykernel_29545/2543580824.py:12: RuntimeWarning: invalid value encountered in divide\n",
      "  ds[:,i] = ds[:,i]/np.max(ds[:,i])\n",
      "/tmp/ipykernel_29545/2543580824.py:12: RuntimeWarning: invalid value encountered in divide\n",
      "  ds[:,i] = ds[:,i]/np.max(ds[:,i])\n"
     ]
    },
    {
     "name": "stdout",
     "output_type": "stream",
     "text": [
      "finish 19-14 541/768\n",
      "finish 20-14 542/768\n"
     ]
    },
    {
     "name": "stderr",
     "output_type": "stream",
     "text": [
      "/tmp/ipykernel_29545/2543580824.py:12: RuntimeWarning: invalid value encountered in divide\n",
      "  ds[:,i] = ds[:,i]/np.max(ds[:,i])\n",
      "/tmp/ipykernel_29545/2543580824.py:12: RuntimeWarning: invalid value encountered in divide\n",
      "  ds[:,i] = ds[:,i]/np.max(ds[:,i])\n"
     ]
    },
    {
     "name": "stdout",
     "output_type": "stream",
     "text": [
      "finish 21-14 543/768\n",
      "finish 22-14 544/768\n"
     ]
    },
    {
     "name": "stderr",
     "output_type": "stream",
     "text": [
      "/tmp/ipykernel_29545/2543580824.py:12: RuntimeWarning: invalid value encountered in divide\n",
      "  ds[:,i] = ds[:,i]/np.max(ds[:,i])\n",
      "/tmp/ipykernel_29545/2543580824.py:12: RuntimeWarning: invalid value encountered in divide\n",
      "  ds[:,i] = ds[:,i]/np.max(ds[:,i])\n"
     ]
    },
    {
     "name": "stdout",
     "output_type": "stream",
     "text": [
      "finish 23-14 545/768\n",
      "finish 24-14 546/768\n"
     ]
    },
    {
     "name": "stderr",
     "output_type": "stream",
     "text": [
      "/tmp/ipykernel_29545/2543580824.py:12: RuntimeWarning: invalid value encountered in divide\n",
      "  ds[:,i] = ds[:,i]/np.max(ds[:,i])\n",
      "/tmp/ipykernel_29545/2543580824.py:12: RuntimeWarning: invalid value encountered in divide\n",
      "  ds[:,i] = ds[:,i]/np.max(ds[:,i])\n"
     ]
    },
    {
     "name": "stdout",
     "output_type": "stream",
     "text": [
      "finish 25-14 547/768\n",
      "finish 26-14 548/768\n"
     ]
    },
    {
     "name": "stderr",
     "output_type": "stream",
     "text": [
      "/tmp/ipykernel_29545/2543580824.py:12: RuntimeWarning: invalid value encountered in divide\n",
      "  ds[:,i] = ds[:,i]/np.max(ds[:,i])\n",
      "/tmp/ipykernel_29545/2543580824.py:12: RuntimeWarning: invalid value encountered in divide\n",
      "  ds[:,i] = ds[:,i]/np.max(ds[:,i])\n"
     ]
    },
    {
     "name": "stdout",
     "output_type": "stream",
     "text": [
      "finish 27-14 549/768\n",
      "finish 28-14 550/768\n"
     ]
    },
    {
     "name": "stderr",
     "output_type": "stream",
     "text": [
      "/tmp/ipykernel_29545/2543580824.py:12: RuntimeWarning: invalid value encountered in divide\n",
      "  ds[:,i] = ds[:,i]/np.max(ds[:,i])\n",
      "/tmp/ipykernel_29545/2543580824.py:12: RuntimeWarning: invalid value encountered in divide\n",
      "  ds[:,i] = ds[:,i]/np.max(ds[:,i])\n"
     ]
    },
    {
     "name": "stdout",
     "output_type": "stream",
     "text": [
      "finish 29-14 551/768\n",
      "finish 30-14 552/768\n"
     ]
    },
    {
     "name": "stderr",
     "output_type": "stream",
     "text": [
      "/tmp/ipykernel_29545/2543580824.py:12: RuntimeWarning: invalid value encountered in divide\n",
      "  ds[:,i] = ds[:,i]/np.max(ds[:,i])\n",
      "/tmp/ipykernel_29545/2543580824.py:12: RuntimeWarning: invalid value encountered in divide\n",
      "  ds[:,i] = ds[:,i]/np.max(ds[:,i])\n"
     ]
    },
    {
     "name": "stdout",
     "output_type": "stream",
     "text": [
      "finish 31-14 553/768\n",
      "finish 32-14 554/768\n"
     ]
    },
    {
     "name": "stderr",
     "output_type": "stream",
     "text": [
      "/tmp/ipykernel_29545/2543580824.py:12: RuntimeWarning: invalid value encountered in divide\n",
      "  ds[:,i] = ds[:,i]/np.max(ds[:,i])\n",
      "/tmp/ipykernel_29545/2543580824.py:12: RuntimeWarning: invalid value encountered in divide\n",
      "  ds[:,i] = ds[:,i]/np.max(ds[:,i])\n"
     ]
    },
    {
     "name": "stdout",
     "output_type": "stream",
     "text": [
      "finish 33-14 555/768\n",
      "finish 34-14 556/768\n"
     ]
    },
    {
     "name": "stderr",
     "output_type": "stream",
     "text": [
      "/tmp/ipykernel_29545/2543580824.py:12: RuntimeWarning: invalid value encountered in divide\n",
      "  ds[:,i] = ds[:,i]/np.max(ds[:,i])\n",
      "/tmp/ipykernel_29545/2543580824.py:12: RuntimeWarning: invalid value encountered in divide\n",
      "  ds[:,i] = ds[:,i]/np.max(ds[:,i])\n"
     ]
    },
    {
     "name": "stdout",
     "output_type": "stream",
     "text": [
      "finish 35-14 557/768\n",
      "finish 36-14 558/768\n"
     ]
    },
    {
     "name": "stderr",
     "output_type": "stream",
     "text": [
      "/tmp/ipykernel_29545/2543580824.py:12: RuntimeWarning: invalid value encountered in divide\n",
      "  ds[:,i] = ds[:,i]/np.max(ds[:,i])\n",
      "/tmp/ipykernel_29545/2543580824.py:12: RuntimeWarning: invalid value encountered in divide\n",
      "  ds[:,i] = ds[:,i]/np.max(ds[:,i])\n"
     ]
    },
    {
     "name": "stdout",
     "output_type": "stream",
     "text": [
      "finish 37-14 559/768\n",
      "finish 38-14 560/768\n"
     ]
    },
    {
     "name": "stderr",
     "output_type": "stream",
     "text": [
      "/tmp/ipykernel_29545/2543580824.py:12: RuntimeWarning: invalid value encountered in divide\n",
      "  ds[:,i] = ds[:,i]/np.max(ds[:,i])\n",
      "/tmp/ipykernel_29545/2543580824.py:12: RuntimeWarning: invalid value encountered in divide\n",
      "  ds[:,i] = ds[:,i]/np.max(ds[:,i])\n"
     ]
    },
    {
     "name": "stdout",
     "output_type": "stream",
     "text": [
      "finish 39-14 561/768\n",
      "finish 40-14 562/768\n"
     ]
    },
    {
     "name": "stderr",
     "output_type": "stream",
     "text": [
      "/tmp/ipykernel_29545/2543580824.py:12: RuntimeWarning: invalid value encountered in divide\n",
      "  ds[:,i] = ds[:,i]/np.max(ds[:,i])\n",
      "/tmp/ipykernel_29545/2543580824.py:12: RuntimeWarning: invalid value encountered in divide\n",
      "  ds[:,i] = ds[:,i]/np.max(ds[:,i])\n"
     ]
    },
    {
     "name": "stdout",
     "output_type": "stream",
     "text": [
      "finish 41-14 563/768\n",
      "finish 42-14 564/768\n"
     ]
    },
    {
     "name": "stderr",
     "output_type": "stream",
     "text": [
      "/tmp/ipykernel_29545/2543580824.py:12: RuntimeWarning: invalid value encountered in divide\n",
      "  ds[:,i] = ds[:,i]/np.max(ds[:,i])\n",
      "/tmp/ipykernel_29545/2543580824.py:12: RuntimeWarning: invalid value encountered in divide\n",
      "  ds[:,i] = ds[:,i]/np.max(ds[:,i])\n"
     ]
    },
    {
     "name": "stdout",
     "output_type": "stream",
     "text": [
      "finish 43-14 565/768\n",
      "finish 44-14 566/768\n"
     ]
    },
    {
     "name": "stderr",
     "output_type": "stream",
     "text": [
      "/tmp/ipykernel_29545/2543580824.py:12: RuntimeWarning: invalid value encountered in divide\n",
      "  ds[:,i] = ds[:,i]/np.max(ds[:,i])\n",
      "/tmp/ipykernel_29545/2543580824.py:12: RuntimeWarning: invalid value encountered in divide\n",
      "  ds[:,i] = ds[:,i]/np.max(ds[:,i])\n"
     ]
    },
    {
     "name": "stdout",
     "output_type": "stream",
     "text": [
      "finish 45-14 567/768\n",
      "finish 46-14 568/768\n"
     ]
    },
    {
     "name": "stderr",
     "output_type": "stream",
     "text": [
      "/tmp/ipykernel_29545/2543580824.py:12: RuntimeWarning: invalid value encountered in divide\n",
      "  ds[:,i] = ds[:,i]/np.max(ds[:,i])\n",
      "/tmp/ipykernel_29545/2543580824.py:12: RuntimeWarning: invalid value encountered in divide\n",
      "  ds[:,i] = ds[:,i]/np.max(ds[:,i])\n"
     ]
    },
    {
     "name": "stdout",
     "output_type": "stream",
     "text": [
      "finish 47-14 569/768\n",
      "finish 48-14 570/768\n"
     ]
    },
    {
     "name": "stderr",
     "output_type": "stream",
     "text": [
      "/tmp/ipykernel_29545/2543580824.py:12: RuntimeWarning: invalid value encountered in divide\n",
      "  ds[:,i] = ds[:,i]/np.max(ds[:,i])\n",
      "/tmp/ipykernel_29545/2543580824.py:12: RuntimeWarning: invalid value encountered in divide\n",
      "  ds[:,i] = ds[:,i]/np.max(ds[:,i])\n"
     ]
    },
    {
     "name": "stdout",
     "output_type": "stream",
     "text": [
      "finish 49-14 571/768\n",
      "finish 50-14 572/768\n"
     ]
    },
    {
     "name": "stderr",
     "output_type": "stream",
     "text": [
      "/tmp/ipykernel_29545/2543580824.py:12: RuntimeWarning: invalid value encountered in divide\n",
      "  ds[:,i] = ds[:,i]/np.max(ds[:,i])\n",
      "/tmp/ipykernel_29545/2543580824.py:12: RuntimeWarning: invalid value encountered in divide\n",
      "  ds[:,i] = ds[:,i]/np.max(ds[:,i])\n"
     ]
    },
    {
     "name": "stdout",
     "output_type": "stream",
     "text": [
      "finish 51-14 573/768\n",
      "finish 52-14 574/768\n"
     ]
    },
    {
     "name": "stderr",
     "output_type": "stream",
     "text": [
      "/tmp/ipykernel_29545/2543580824.py:12: RuntimeWarning: invalid value encountered in divide\n",
      "  ds[:,i] = ds[:,i]/np.max(ds[:,i])\n",
      "/tmp/ipykernel_29545/2543580824.py:12: RuntimeWarning: invalid value encountered in divide\n",
      "  ds[:,i] = ds[:,i]/np.max(ds[:,i])\n"
     ]
    },
    {
     "name": "stdout",
     "output_type": "stream",
     "text": [
      "finish 53-14 575/768\n",
      "finish 54-14 576/768\n"
     ]
    },
    {
     "name": "stderr",
     "output_type": "stream",
     "text": [
      "/tmp/ipykernel_29545/2543580824.py:12: RuntimeWarning: invalid value encountered in divide\n",
      "  ds[:,i] = ds[:,i]/np.max(ds[:,i])\n",
      "/tmp/ipykernel_29545/2543580824.py:12: RuntimeWarning: invalid value encountered in divide\n",
      "  ds[:,i] = ds[:,i]/np.max(ds[:,i])\n"
     ]
    },
    {
     "name": "stdout",
     "output_type": "stream",
     "text": [
      "finish 07-15 577/768\n",
      "finish 08-15 578/768\n"
     ]
    },
    {
     "name": "stderr",
     "output_type": "stream",
     "text": [
      "/tmp/ipykernel_29545/2543580824.py:12: RuntimeWarning: invalid value encountered in divide\n",
      "  ds[:,i] = ds[:,i]/np.max(ds[:,i])\n",
      "/tmp/ipykernel_29545/2543580824.py:12: RuntimeWarning: invalid value encountered in divide\n",
      "  ds[:,i] = ds[:,i]/np.max(ds[:,i])\n"
     ]
    },
    {
     "name": "stdout",
     "output_type": "stream",
     "text": [
      "finish 09-15 579/768\n",
      "finish 10-15 580/768\n"
     ]
    },
    {
     "name": "stderr",
     "output_type": "stream",
     "text": [
      "/tmp/ipykernel_29545/2543580824.py:12: RuntimeWarning: invalid value encountered in divide\n",
      "  ds[:,i] = ds[:,i]/np.max(ds[:,i])\n",
      "/tmp/ipykernel_29545/2543580824.py:12: RuntimeWarning: invalid value encountered in divide\n",
      "  ds[:,i] = ds[:,i]/np.max(ds[:,i])\n"
     ]
    },
    {
     "name": "stdout",
     "output_type": "stream",
     "text": [
      "finish 11-15 581/768\n",
      "finish 12-15 582/768\n"
     ]
    },
    {
     "name": "stderr",
     "output_type": "stream",
     "text": [
      "/tmp/ipykernel_29545/2543580824.py:12: RuntimeWarning: invalid value encountered in divide\n",
      "  ds[:,i] = ds[:,i]/np.max(ds[:,i])\n",
      "/tmp/ipykernel_29545/2543580824.py:12: RuntimeWarning: invalid value encountered in divide\n",
      "  ds[:,i] = ds[:,i]/np.max(ds[:,i])\n"
     ]
    },
    {
     "name": "stdout",
     "output_type": "stream",
     "text": [
      "finish 13-15 583/768\n",
      "finish 14-15 584/768\n"
     ]
    },
    {
     "name": "stderr",
     "output_type": "stream",
     "text": [
      "/tmp/ipykernel_29545/2543580824.py:12: RuntimeWarning: invalid value encountered in divide\n",
      "  ds[:,i] = ds[:,i]/np.max(ds[:,i])\n",
      "/tmp/ipykernel_29545/2543580824.py:12: RuntimeWarning: invalid value encountered in divide\n",
      "  ds[:,i] = ds[:,i]/np.max(ds[:,i])\n"
     ]
    },
    {
     "name": "stdout",
     "output_type": "stream",
     "text": [
      "finish 15-15 585/768\n",
      "finish 16-15 586/768\n"
     ]
    },
    {
     "name": "stderr",
     "output_type": "stream",
     "text": [
      "/tmp/ipykernel_29545/2543580824.py:12: RuntimeWarning: invalid value encountered in divide\n",
      "  ds[:,i] = ds[:,i]/np.max(ds[:,i])\n",
      "/tmp/ipykernel_29545/2543580824.py:12: RuntimeWarning: invalid value encountered in divide\n",
      "  ds[:,i] = ds[:,i]/np.max(ds[:,i])\n"
     ]
    },
    {
     "name": "stdout",
     "output_type": "stream",
     "text": [
      "finish 17-15 587/768\n",
      "finish 18-15 588/768\n"
     ]
    },
    {
     "name": "stderr",
     "output_type": "stream",
     "text": [
      "/tmp/ipykernel_29545/2543580824.py:12: RuntimeWarning: invalid value encountered in divide\n",
      "  ds[:,i] = ds[:,i]/np.max(ds[:,i])\n",
      "/tmp/ipykernel_29545/2543580824.py:12: RuntimeWarning: invalid value encountered in divide\n",
      "  ds[:,i] = ds[:,i]/np.max(ds[:,i])\n"
     ]
    },
    {
     "name": "stdout",
     "output_type": "stream",
     "text": [
      "finish 19-15 589/768\n",
      "finish 20-15 590/768\n"
     ]
    },
    {
     "name": "stderr",
     "output_type": "stream",
     "text": [
      "/tmp/ipykernel_29545/2543580824.py:12: RuntimeWarning: invalid value encountered in divide\n",
      "  ds[:,i] = ds[:,i]/np.max(ds[:,i])\n",
      "/tmp/ipykernel_29545/2543580824.py:12: RuntimeWarning: invalid value encountered in divide\n",
      "  ds[:,i] = ds[:,i]/np.max(ds[:,i])\n"
     ]
    },
    {
     "name": "stdout",
     "output_type": "stream",
     "text": [
      "finish 21-15 591/768\n",
      "finish 22-15 592/768\n"
     ]
    },
    {
     "name": "stderr",
     "output_type": "stream",
     "text": [
      "/tmp/ipykernel_29545/2543580824.py:12: RuntimeWarning: invalid value encountered in divide\n",
      "  ds[:,i] = ds[:,i]/np.max(ds[:,i])\n",
      "/tmp/ipykernel_29545/2543580824.py:12: RuntimeWarning: invalid value encountered in divide\n",
      "  ds[:,i] = ds[:,i]/np.max(ds[:,i])\n"
     ]
    },
    {
     "name": "stdout",
     "output_type": "stream",
     "text": [
      "finish 23-15 593/768\n",
      "finish 24-15 594/768\n"
     ]
    },
    {
     "name": "stderr",
     "output_type": "stream",
     "text": [
      "/tmp/ipykernel_29545/2543580824.py:12: RuntimeWarning: invalid value encountered in divide\n",
      "  ds[:,i] = ds[:,i]/np.max(ds[:,i])\n",
      "/tmp/ipykernel_29545/2543580824.py:12: RuntimeWarning: invalid value encountered in divide\n",
      "  ds[:,i] = ds[:,i]/np.max(ds[:,i])\n"
     ]
    },
    {
     "name": "stdout",
     "output_type": "stream",
     "text": [
      "finish 25-15 595/768\n",
      "finish 26-15 596/768\n"
     ]
    },
    {
     "name": "stderr",
     "output_type": "stream",
     "text": [
      "/tmp/ipykernel_29545/2543580824.py:12: RuntimeWarning: invalid value encountered in divide\n",
      "  ds[:,i] = ds[:,i]/np.max(ds[:,i])\n",
      "/tmp/ipykernel_29545/2543580824.py:12: RuntimeWarning: invalid value encountered in divide\n",
      "  ds[:,i] = ds[:,i]/np.max(ds[:,i])\n"
     ]
    },
    {
     "name": "stdout",
     "output_type": "stream",
     "text": [
      "finish 27-15 597/768\n",
      "finish 28-15 598/768\n"
     ]
    },
    {
     "name": "stderr",
     "output_type": "stream",
     "text": [
      "/tmp/ipykernel_29545/2543580824.py:12: RuntimeWarning: invalid value encountered in divide\n",
      "  ds[:,i] = ds[:,i]/np.max(ds[:,i])\n",
      "/tmp/ipykernel_29545/2543580824.py:12: RuntimeWarning: invalid value encountered in divide\n",
      "  ds[:,i] = ds[:,i]/np.max(ds[:,i])\n"
     ]
    },
    {
     "name": "stdout",
     "output_type": "stream",
     "text": [
      "finish 29-15 599/768\n",
      "finish 30-15 600/768\n"
     ]
    },
    {
     "name": "stderr",
     "output_type": "stream",
     "text": [
      "/tmp/ipykernel_29545/2543580824.py:12: RuntimeWarning: invalid value encountered in divide\n",
      "  ds[:,i] = ds[:,i]/np.max(ds[:,i])\n",
      "/tmp/ipykernel_29545/2543580824.py:12: RuntimeWarning: invalid value encountered in divide\n",
      "  ds[:,i] = ds[:,i]/np.max(ds[:,i])\n"
     ]
    },
    {
     "name": "stdout",
     "output_type": "stream",
     "text": [
      "finish 31-15 601/768\n",
      "finish 32-15 602/768\n"
     ]
    },
    {
     "name": "stderr",
     "output_type": "stream",
     "text": [
      "/tmp/ipykernel_29545/2543580824.py:12: RuntimeWarning: invalid value encountered in divide\n",
      "  ds[:,i] = ds[:,i]/np.max(ds[:,i])\n",
      "/tmp/ipykernel_29545/2543580824.py:12: RuntimeWarning: invalid value encountered in divide\n",
      "  ds[:,i] = ds[:,i]/np.max(ds[:,i])\n"
     ]
    },
    {
     "name": "stdout",
     "output_type": "stream",
     "text": [
      "finish 33-15 603/768\n",
      "finish 34-15 604/768\n"
     ]
    },
    {
     "name": "stderr",
     "output_type": "stream",
     "text": [
      "/tmp/ipykernel_29545/2543580824.py:12: RuntimeWarning: invalid value encountered in divide\n",
      "  ds[:,i] = ds[:,i]/np.max(ds[:,i])\n",
      "/tmp/ipykernel_29545/2543580824.py:12: RuntimeWarning: invalid value encountered in divide\n",
      "  ds[:,i] = ds[:,i]/np.max(ds[:,i])\n"
     ]
    },
    {
     "name": "stdout",
     "output_type": "stream",
     "text": [
      "finish 35-15 605/768\n",
      "finish 36-15 606/768\n"
     ]
    },
    {
     "name": "stderr",
     "output_type": "stream",
     "text": [
      "/tmp/ipykernel_29545/2543580824.py:12: RuntimeWarning: invalid value encountered in divide\n",
      "  ds[:,i] = ds[:,i]/np.max(ds[:,i])\n",
      "/tmp/ipykernel_29545/2543580824.py:12: RuntimeWarning: invalid value encountered in divide\n",
      "  ds[:,i] = ds[:,i]/np.max(ds[:,i])\n"
     ]
    },
    {
     "name": "stdout",
     "output_type": "stream",
     "text": [
      "finish 37-15 607/768\n",
      "finish 38-15 608/768\n"
     ]
    },
    {
     "name": "stderr",
     "output_type": "stream",
     "text": [
      "/tmp/ipykernel_29545/2543580824.py:12: RuntimeWarning: invalid value encountered in divide\n",
      "  ds[:,i] = ds[:,i]/np.max(ds[:,i])\n",
      "/tmp/ipykernel_29545/2543580824.py:12: RuntimeWarning: invalid value encountered in divide\n",
      "  ds[:,i] = ds[:,i]/np.max(ds[:,i])\n"
     ]
    },
    {
     "name": "stdout",
     "output_type": "stream",
     "text": [
      "finish 39-15 609/768\n",
      "finish 40-15 610/768\n"
     ]
    },
    {
     "name": "stderr",
     "output_type": "stream",
     "text": [
      "/tmp/ipykernel_29545/2543580824.py:12: RuntimeWarning: invalid value encountered in divide\n",
      "  ds[:,i] = ds[:,i]/np.max(ds[:,i])\n",
      "/tmp/ipykernel_29545/2543580824.py:12: RuntimeWarning: invalid value encountered in divide\n",
      "  ds[:,i] = ds[:,i]/np.max(ds[:,i])\n"
     ]
    },
    {
     "name": "stdout",
     "output_type": "stream",
     "text": [
      "finish 41-15 611/768\n",
      "finish 42-15 612/768\n"
     ]
    },
    {
     "name": "stderr",
     "output_type": "stream",
     "text": [
      "/tmp/ipykernel_29545/2543580824.py:12: RuntimeWarning: invalid value encountered in divide\n",
      "  ds[:,i] = ds[:,i]/np.max(ds[:,i])\n",
      "/tmp/ipykernel_29545/2543580824.py:12: RuntimeWarning: invalid value encountered in divide\n",
      "  ds[:,i] = ds[:,i]/np.max(ds[:,i])\n"
     ]
    },
    {
     "name": "stdout",
     "output_type": "stream",
     "text": [
      "finish 43-15 613/768\n",
      "finish 44-15 614/768\n"
     ]
    },
    {
     "name": "stderr",
     "output_type": "stream",
     "text": [
      "/tmp/ipykernel_29545/2543580824.py:12: RuntimeWarning: invalid value encountered in divide\n",
      "  ds[:,i] = ds[:,i]/np.max(ds[:,i])\n",
      "/tmp/ipykernel_29545/2543580824.py:12: RuntimeWarning: invalid value encountered in divide\n",
      "  ds[:,i] = ds[:,i]/np.max(ds[:,i])\n"
     ]
    },
    {
     "name": "stdout",
     "output_type": "stream",
     "text": [
      "finish 45-15 615/768\n",
      "finish 46-15 616/768\n"
     ]
    },
    {
     "name": "stderr",
     "output_type": "stream",
     "text": [
      "/tmp/ipykernel_29545/2543580824.py:12: RuntimeWarning: invalid value encountered in divide\n",
      "  ds[:,i] = ds[:,i]/np.max(ds[:,i])\n",
      "/tmp/ipykernel_29545/2543580824.py:12: RuntimeWarning: invalid value encountered in divide\n",
      "  ds[:,i] = ds[:,i]/np.max(ds[:,i])\n"
     ]
    },
    {
     "name": "stdout",
     "output_type": "stream",
     "text": [
      "finish 47-15 617/768\n",
      "finish 48-15 618/768\n"
     ]
    },
    {
     "name": "stderr",
     "output_type": "stream",
     "text": [
      "/tmp/ipykernel_29545/2543580824.py:12: RuntimeWarning: invalid value encountered in divide\n",
      "  ds[:,i] = ds[:,i]/np.max(ds[:,i])\n",
      "/tmp/ipykernel_29545/2543580824.py:12: RuntimeWarning: invalid value encountered in divide\n",
      "  ds[:,i] = ds[:,i]/np.max(ds[:,i])\n"
     ]
    },
    {
     "name": "stdout",
     "output_type": "stream",
     "text": [
      "finish 49-15 619/768\n",
      "finish 50-15 620/768\n"
     ]
    },
    {
     "name": "stderr",
     "output_type": "stream",
     "text": [
      "/tmp/ipykernel_29545/2543580824.py:12: RuntimeWarning: invalid value encountered in divide\n",
      "  ds[:,i] = ds[:,i]/np.max(ds[:,i])\n",
      "/tmp/ipykernel_29545/2543580824.py:12: RuntimeWarning: invalid value encountered in divide\n",
      "  ds[:,i] = ds[:,i]/np.max(ds[:,i])\n"
     ]
    },
    {
     "name": "stdout",
     "output_type": "stream",
     "text": [
      "finish 51-15 621/768\n",
      "finish 52-15 622/768\n"
     ]
    },
    {
     "name": "stderr",
     "output_type": "stream",
     "text": [
      "/tmp/ipykernel_29545/2543580824.py:12: RuntimeWarning: invalid value encountered in divide\n",
      "  ds[:,i] = ds[:,i]/np.max(ds[:,i])\n",
      "/tmp/ipykernel_29545/2543580824.py:12: RuntimeWarning: invalid value encountered in divide\n",
      "  ds[:,i] = ds[:,i]/np.max(ds[:,i])\n"
     ]
    },
    {
     "name": "stdout",
     "output_type": "stream",
     "text": [
      "finish 53-15 623/768\n",
      "finish 54-15 624/768\n"
     ]
    },
    {
     "name": "stderr",
     "output_type": "stream",
     "text": [
      "/tmp/ipykernel_29545/2543580824.py:12: RuntimeWarning: invalid value encountered in divide\n",
      "  ds[:,i] = ds[:,i]/np.max(ds[:,i])\n",
      "/tmp/ipykernel_29545/2543580824.py:12: RuntimeWarning: invalid value encountered in divide\n",
      "  ds[:,i] = ds[:,i]/np.max(ds[:,i])\n"
     ]
    },
    {
     "name": "stdout",
     "output_type": "stream",
     "text": [
      "finish 07-16 625/768\n",
      "finish 08-16 626/768\n"
     ]
    },
    {
     "name": "stderr",
     "output_type": "stream",
     "text": [
      "/tmp/ipykernel_29545/2543580824.py:12: RuntimeWarning: invalid value encountered in divide\n",
      "  ds[:,i] = ds[:,i]/np.max(ds[:,i])\n",
      "/tmp/ipykernel_29545/2543580824.py:12: RuntimeWarning: invalid value encountered in divide\n",
      "  ds[:,i] = ds[:,i]/np.max(ds[:,i])\n"
     ]
    },
    {
     "name": "stdout",
     "output_type": "stream",
     "text": [
      "finish 09-16 627/768\n",
      "finish 10-16 628/768\n"
     ]
    },
    {
     "name": "stderr",
     "output_type": "stream",
     "text": [
      "/tmp/ipykernel_29545/2543580824.py:12: RuntimeWarning: invalid value encountered in divide\n",
      "  ds[:,i] = ds[:,i]/np.max(ds[:,i])\n",
      "/tmp/ipykernel_29545/2543580824.py:12: RuntimeWarning: invalid value encountered in divide\n",
      "  ds[:,i] = ds[:,i]/np.max(ds[:,i])\n"
     ]
    },
    {
     "name": "stdout",
     "output_type": "stream",
     "text": [
      "finish 11-16 629/768\n",
      "finish 12-16 630/768\n"
     ]
    },
    {
     "name": "stderr",
     "output_type": "stream",
     "text": [
      "/tmp/ipykernel_29545/2543580824.py:12: RuntimeWarning: invalid value encountered in divide\n",
      "  ds[:,i] = ds[:,i]/np.max(ds[:,i])\n",
      "/tmp/ipykernel_29545/2543580824.py:12: RuntimeWarning: invalid value encountered in divide\n",
      "  ds[:,i] = ds[:,i]/np.max(ds[:,i])\n"
     ]
    },
    {
     "name": "stdout",
     "output_type": "stream",
     "text": [
      "finish 13-16 631/768\n",
      "finish 14-16 632/768\n"
     ]
    },
    {
     "name": "stderr",
     "output_type": "stream",
     "text": [
      "/tmp/ipykernel_29545/2543580824.py:12: RuntimeWarning: invalid value encountered in divide\n",
      "  ds[:,i] = ds[:,i]/np.max(ds[:,i])\n",
      "/tmp/ipykernel_29545/2543580824.py:12: RuntimeWarning: invalid value encountered in divide\n",
      "  ds[:,i] = ds[:,i]/np.max(ds[:,i])\n"
     ]
    },
    {
     "name": "stdout",
     "output_type": "stream",
     "text": [
      "finish 15-16 633/768\n",
      "finish 16-16 634/768\n"
     ]
    },
    {
     "name": "stderr",
     "output_type": "stream",
     "text": [
      "/tmp/ipykernel_29545/2543580824.py:12: RuntimeWarning: invalid value encountered in divide\n",
      "  ds[:,i] = ds[:,i]/np.max(ds[:,i])\n",
      "/tmp/ipykernel_29545/2543580824.py:12: RuntimeWarning: invalid value encountered in divide\n",
      "  ds[:,i] = ds[:,i]/np.max(ds[:,i])\n"
     ]
    },
    {
     "name": "stdout",
     "output_type": "stream",
     "text": [
      "finish 17-16 635/768\n",
      "finish 18-16 636/768\n"
     ]
    },
    {
     "name": "stderr",
     "output_type": "stream",
     "text": [
      "/tmp/ipykernel_29545/2543580824.py:12: RuntimeWarning: invalid value encountered in divide\n",
      "  ds[:,i] = ds[:,i]/np.max(ds[:,i])\n",
      "/tmp/ipykernel_29545/2543580824.py:12: RuntimeWarning: invalid value encountered in divide\n",
      "  ds[:,i] = ds[:,i]/np.max(ds[:,i])\n"
     ]
    },
    {
     "name": "stdout",
     "output_type": "stream",
     "text": [
      "finish 19-16 637/768\n",
      "finish 20-16 638/768\n"
     ]
    },
    {
     "name": "stderr",
     "output_type": "stream",
     "text": [
      "/tmp/ipykernel_29545/2543580824.py:12: RuntimeWarning: invalid value encountered in divide\n",
      "  ds[:,i] = ds[:,i]/np.max(ds[:,i])\n",
      "/tmp/ipykernel_29545/2543580824.py:12: RuntimeWarning: invalid value encountered in divide\n",
      "  ds[:,i] = ds[:,i]/np.max(ds[:,i])\n"
     ]
    },
    {
     "name": "stdout",
     "output_type": "stream",
     "text": [
      "finish 21-16 639/768\n",
      "finish 22-16 640/768\n"
     ]
    },
    {
     "name": "stderr",
     "output_type": "stream",
     "text": [
      "/tmp/ipykernel_29545/2543580824.py:12: RuntimeWarning: invalid value encountered in divide\n",
      "  ds[:,i] = ds[:,i]/np.max(ds[:,i])\n",
      "/tmp/ipykernel_29545/2543580824.py:12: RuntimeWarning: invalid value encountered in divide\n",
      "  ds[:,i] = ds[:,i]/np.max(ds[:,i])\n"
     ]
    },
    {
     "name": "stdout",
     "output_type": "stream",
     "text": [
      "finish 23-16 641/768\n",
      "finish 24-16 642/768\n"
     ]
    },
    {
     "name": "stderr",
     "output_type": "stream",
     "text": [
      "/tmp/ipykernel_29545/2543580824.py:12: RuntimeWarning: invalid value encountered in divide\n",
      "  ds[:,i] = ds[:,i]/np.max(ds[:,i])\n",
      "/tmp/ipykernel_29545/2543580824.py:12: RuntimeWarning: invalid value encountered in divide\n",
      "  ds[:,i] = ds[:,i]/np.max(ds[:,i])\n"
     ]
    },
    {
     "name": "stdout",
     "output_type": "stream",
     "text": [
      "finish 25-16 643/768\n",
      "finish 26-16 644/768\n"
     ]
    },
    {
     "name": "stderr",
     "output_type": "stream",
     "text": [
      "/tmp/ipykernel_29545/2543580824.py:12: RuntimeWarning: invalid value encountered in divide\n",
      "  ds[:,i] = ds[:,i]/np.max(ds[:,i])\n",
      "/tmp/ipykernel_29545/2543580824.py:12: RuntimeWarning: invalid value encountered in divide\n",
      "  ds[:,i] = ds[:,i]/np.max(ds[:,i])\n"
     ]
    },
    {
     "name": "stdout",
     "output_type": "stream",
     "text": [
      "finish 27-16 645/768\n",
      "finish 28-16 646/768\n"
     ]
    },
    {
     "name": "stderr",
     "output_type": "stream",
     "text": [
      "/tmp/ipykernel_29545/2543580824.py:12: RuntimeWarning: invalid value encountered in divide\n",
      "  ds[:,i] = ds[:,i]/np.max(ds[:,i])\n",
      "/tmp/ipykernel_29545/2543580824.py:12: RuntimeWarning: invalid value encountered in divide\n",
      "  ds[:,i] = ds[:,i]/np.max(ds[:,i])\n"
     ]
    },
    {
     "name": "stdout",
     "output_type": "stream",
     "text": [
      "finish 29-16 647/768\n",
      "finish 30-16 648/768\n"
     ]
    },
    {
     "name": "stderr",
     "output_type": "stream",
     "text": [
      "/tmp/ipykernel_29545/2543580824.py:12: RuntimeWarning: invalid value encountered in divide\n",
      "  ds[:,i] = ds[:,i]/np.max(ds[:,i])\n",
      "/tmp/ipykernel_29545/2543580824.py:12: RuntimeWarning: invalid value encountered in divide\n",
      "  ds[:,i] = ds[:,i]/np.max(ds[:,i])\n"
     ]
    },
    {
     "name": "stdout",
     "output_type": "stream",
     "text": [
      "finish 31-16 649/768\n",
      "finish 32-16 650/768\n"
     ]
    },
    {
     "name": "stderr",
     "output_type": "stream",
     "text": [
      "/tmp/ipykernel_29545/2543580824.py:12: RuntimeWarning: invalid value encountered in divide\n",
      "  ds[:,i] = ds[:,i]/np.max(ds[:,i])\n",
      "/tmp/ipykernel_29545/2543580824.py:12: RuntimeWarning: invalid value encountered in divide\n",
      "  ds[:,i] = ds[:,i]/np.max(ds[:,i])\n"
     ]
    },
    {
     "name": "stdout",
     "output_type": "stream",
     "text": [
      "finish 33-16 651/768\n",
      "finish 34-16 652/768\n"
     ]
    },
    {
     "name": "stderr",
     "output_type": "stream",
     "text": [
      "/tmp/ipykernel_29545/2543580824.py:12: RuntimeWarning: invalid value encountered in divide\n",
      "  ds[:,i] = ds[:,i]/np.max(ds[:,i])\n",
      "/tmp/ipykernel_29545/2543580824.py:12: RuntimeWarning: invalid value encountered in divide\n",
      "  ds[:,i] = ds[:,i]/np.max(ds[:,i])\n"
     ]
    },
    {
     "name": "stdout",
     "output_type": "stream",
     "text": [
      "finish 35-16 653/768\n",
      "finish 36-16 654/768\n"
     ]
    },
    {
     "name": "stderr",
     "output_type": "stream",
     "text": [
      "/tmp/ipykernel_29545/2543580824.py:12: RuntimeWarning: invalid value encountered in divide\n",
      "  ds[:,i] = ds[:,i]/np.max(ds[:,i])\n",
      "/tmp/ipykernel_29545/2543580824.py:12: RuntimeWarning: invalid value encountered in divide\n",
      "  ds[:,i] = ds[:,i]/np.max(ds[:,i])\n"
     ]
    },
    {
     "name": "stdout",
     "output_type": "stream",
     "text": [
      "finish 37-16 655/768\n",
      "finish 38-16 656/768\n"
     ]
    },
    {
     "name": "stderr",
     "output_type": "stream",
     "text": [
      "/tmp/ipykernel_29545/2543580824.py:12: RuntimeWarning: invalid value encountered in divide\n",
      "  ds[:,i] = ds[:,i]/np.max(ds[:,i])\n",
      "/tmp/ipykernel_29545/2543580824.py:12: RuntimeWarning: invalid value encountered in divide\n",
      "  ds[:,i] = ds[:,i]/np.max(ds[:,i])\n"
     ]
    },
    {
     "name": "stdout",
     "output_type": "stream",
     "text": [
      "finish 39-16 657/768\n",
      "finish 40-16 658/768\n"
     ]
    },
    {
     "name": "stderr",
     "output_type": "stream",
     "text": [
      "/tmp/ipykernel_29545/2543580824.py:12: RuntimeWarning: invalid value encountered in divide\n",
      "  ds[:,i] = ds[:,i]/np.max(ds[:,i])\n",
      "/tmp/ipykernel_29545/2543580824.py:12: RuntimeWarning: invalid value encountered in divide\n",
      "  ds[:,i] = ds[:,i]/np.max(ds[:,i])\n"
     ]
    },
    {
     "name": "stdout",
     "output_type": "stream",
     "text": [
      "finish 41-16 659/768\n",
      "finish 42-16 660/768\n"
     ]
    },
    {
     "name": "stderr",
     "output_type": "stream",
     "text": [
      "/tmp/ipykernel_29545/2543580824.py:12: RuntimeWarning: invalid value encountered in divide\n",
      "  ds[:,i] = ds[:,i]/np.max(ds[:,i])\n",
      "/tmp/ipykernel_29545/2543580824.py:12: RuntimeWarning: invalid value encountered in divide\n",
      "  ds[:,i] = ds[:,i]/np.max(ds[:,i])\n"
     ]
    },
    {
     "name": "stdout",
     "output_type": "stream",
     "text": [
      "finish 43-16 661/768\n",
      "finish 44-16 662/768\n"
     ]
    },
    {
     "name": "stderr",
     "output_type": "stream",
     "text": [
      "/tmp/ipykernel_29545/2543580824.py:12: RuntimeWarning: invalid value encountered in divide\n",
      "  ds[:,i] = ds[:,i]/np.max(ds[:,i])\n",
      "/tmp/ipykernel_29545/2543580824.py:12: RuntimeWarning: invalid value encountered in divide\n",
      "  ds[:,i] = ds[:,i]/np.max(ds[:,i])\n"
     ]
    },
    {
     "name": "stdout",
     "output_type": "stream",
     "text": [
      "finish 45-16 663/768\n",
      "finish 46-16 664/768\n"
     ]
    },
    {
     "name": "stderr",
     "output_type": "stream",
     "text": [
      "/tmp/ipykernel_29545/2543580824.py:12: RuntimeWarning: invalid value encountered in divide\n",
      "  ds[:,i] = ds[:,i]/np.max(ds[:,i])\n",
      "/tmp/ipykernel_29545/2543580824.py:12: RuntimeWarning: invalid value encountered in divide\n",
      "  ds[:,i] = ds[:,i]/np.max(ds[:,i])\n"
     ]
    },
    {
     "name": "stdout",
     "output_type": "stream",
     "text": [
      "finish 47-16 665/768\n",
      "finish 48-16 666/768\n"
     ]
    },
    {
     "name": "stderr",
     "output_type": "stream",
     "text": [
      "/tmp/ipykernel_29545/2543580824.py:12: RuntimeWarning: invalid value encountered in divide\n",
      "  ds[:,i] = ds[:,i]/np.max(ds[:,i])\n",
      "/tmp/ipykernel_29545/2543580824.py:12: RuntimeWarning: invalid value encountered in divide\n",
      "  ds[:,i] = ds[:,i]/np.max(ds[:,i])\n"
     ]
    },
    {
     "name": "stdout",
     "output_type": "stream",
     "text": [
      "finish 49-16 667/768\n",
      "finish 50-16 668/768\n"
     ]
    },
    {
     "name": "stderr",
     "output_type": "stream",
     "text": [
      "/tmp/ipykernel_29545/2543580824.py:12: RuntimeWarning: invalid value encountered in divide\n",
      "  ds[:,i] = ds[:,i]/np.max(ds[:,i])\n",
      "/tmp/ipykernel_29545/2543580824.py:12: RuntimeWarning: invalid value encountered in divide\n",
      "  ds[:,i] = ds[:,i]/np.max(ds[:,i])\n"
     ]
    },
    {
     "name": "stdout",
     "output_type": "stream",
     "text": [
      "finish 51-16 669/768\n",
      "finish 52-16 670/768\n"
     ]
    },
    {
     "name": "stderr",
     "output_type": "stream",
     "text": [
      "/tmp/ipykernel_29545/2543580824.py:12: RuntimeWarning: invalid value encountered in divide\n",
      "  ds[:,i] = ds[:,i]/np.max(ds[:,i])\n",
      "/tmp/ipykernel_29545/2543580824.py:12: RuntimeWarning: invalid value encountered in divide\n",
      "  ds[:,i] = ds[:,i]/np.max(ds[:,i])\n"
     ]
    },
    {
     "name": "stdout",
     "output_type": "stream",
     "text": [
      "finish 53-16 671/768\n",
      "finish 54-16 672/768\n"
     ]
    },
    {
     "name": "stderr",
     "output_type": "stream",
     "text": [
      "/tmp/ipykernel_29545/2543580824.py:12: RuntimeWarning: invalid value encountered in divide\n",
      "  ds[:,i] = ds[:,i]/np.max(ds[:,i])\n",
      "/tmp/ipykernel_29545/2543580824.py:12: RuntimeWarning: invalid value encountered in divide\n",
      "  ds[:,i] = ds[:,i]/np.max(ds[:,i])\n"
     ]
    },
    {
     "name": "stdout",
     "output_type": "stream",
     "text": [
      "finish 07-17 673/768\n",
      "finish 08-17 674/768\n"
     ]
    },
    {
     "name": "stderr",
     "output_type": "stream",
     "text": [
      "/tmp/ipykernel_29545/2543580824.py:12: RuntimeWarning: invalid value encountered in divide\n",
      "  ds[:,i] = ds[:,i]/np.max(ds[:,i])\n",
      "/tmp/ipykernel_29545/2543580824.py:12: RuntimeWarning: invalid value encountered in divide\n",
      "  ds[:,i] = ds[:,i]/np.max(ds[:,i])\n"
     ]
    },
    {
     "name": "stdout",
     "output_type": "stream",
     "text": [
      "finish 09-17 675/768\n",
      "finish 10-17 676/768\n"
     ]
    },
    {
     "name": "stderr",
     "output_type": "stream",
     "text": [
      "/tmp/ipykernel_29545/2543580824.py:12: RuntimeWarning: invalid value encountered in divide\n",
      "  ds[:,i] = ds[:,i]/np.max(ds[:,i])\n",
      "/tmp/ipykernel_29545/2543580824.py:12: RuntimeWarning: invalid value encountered in divide\n",
      "  ds[:,i] = ds[:,i]/np.max(ds[:,i])\n"
     ]
    },
    {
     "name": "stdout",
     "output_type": "stream",
     "text": [
      "finish 11-17 677/768\n",
      "finish 12-17 678/768\n"
     ]
    },
    {
     "name": "stderr",
     "output_type": "stream",
     "text": [
      "/tmp/ipykernel_29545/2543580824.py:12: RuntimeWarning: invalid value encountered in divide\n",
      "  ds[:,i] = ds[:,i]/np.max(ds[:,i])\n",
      "/tmp/ipykernel_29545/2543580824.py:12: RuntimeWarning: invalid value encountered in divide\n",
      "  ds[:,i] = ds[:,i]/np.max(ds[:,i])\n"
     ]
    },
    {
     "name": "stdout",
     "output_type": "stream",
     "text": [
      "finish 13-17 679/768\n",
      "finish 14-17 680/768\n"
     ]
    },
    {
     "name": "stderr",
     "output_type": "stream",
     "text": [
      "/tmp/ipykernel_29545/2543580824.py:12: RuntimeWarning: invalid value encountered in divide\n",
      "  ds[:,i] = ds[:,i]/np.max(ds[:,i])\n",
      "/tmp/ipykernel_29545/2543580824.py:12: RuntimeWarning: invalid value encountered in divide\n",
      "  ds[:,i] = ds[:,i]/np.max(ds[:,i])\n"
     ]
    },
    {
     "name": "stdout",
     "output_type": "stream",
     "text": [
      "finish 15-17 681/768\n",
      "finish 16-17 682/768\n"
     ]
    },
    {
     "name": "stderr",
     "output_type": "stream",
     "text": [
      "/tmp/ipykernel_29545/2543580824.py:12: RuntimeWarning: invalid value encountered in divide\n",
      "  ds[:,i] = ds[:,i]/np.max(ds[:,i])\n",
      "/tmp/ipykernel_29545/2543580824.py:12: RuntimeWarning: invalid value encountered in divide\n",
      "  ds[:,i] = ds[:,i]/np.max(ds[:,i])\n"
     ]
    },
    {
     "name": "stdout",
     "output_type": "stream",
     "text": [
      "finish 17-17 683/768\n",
      "finish 18-17 684/768\n"
     ]
    },
    {
     "name": "stderr",
     "output_type": "stream",
     "text": [
      "/tmp/ipykernel_29545/2543580824.py:12: RuntimeWarning: invalid value encountered in divide\n",
      "  ds[:,i] = ds[:,i]/np.max(ds[:,i])\n",
      "/tmp/ipykernel_29545/2543580824.py:12: RuntimeWarning: invalid value encountered in divide\n",
      "  ds[:,i] = ds[:,i]/np.max(ds[:,i])\n"
     ]
    },
    {
     "name": "stdout",
     "output_type": "stream",
     "text": [
      "finish 19-17 685/768\n",
      "finish 20-17 686/768\n"
     ]
    },
    {
     "name": "stderr",
     "output_type": "stream",
     "text": [
      "/tmp/ipykernel_29545/2543580824.py:12: RuntimeWarning: invalid value encountered in divide\n",
      "  ds[:,i] = ds[:,i]/np.max(ds[:,i])\n",
      "/tmp/ipykernel_29545/2543580824.py:12: RuntimeWarning: invalid value encountered in divide\n",
      "  ds[:,i] = ds[:,i]/np.max(ds[:,i])\n"
     ]
    },
    {
     "name": "stdout",
     "output_type": "stream",
     "text": [
      "finish 21-17 687/768\n",
      "finish 22-17 688/768\n"
     ]
    },
    {
     "name": "stderr",
     "output_type": "stream",
     "text": [
      "/tmp/ipykernel_29545/2543580824.py:12: RuntimeWarning: invalid value encountered in divide\n",
      "  ds[:,i] = ds[:,i]/np.max(ds[:,i])\n",
      "/tmp/ipykernel_29545/2543580824.py:12: RuntimeWarning: invalid value encountered in divide\n",
      "  ds[:,i] = ds[:,i]/np.max(ds[:,i])\n"
     ]
    },
    {
     "name": "stdout",
     "output_type": "stream",
     "text": [
      "finish 23-17 689/768\n",
      "finish 24-17 690/768\n"
     ]
    },
    {
     "name": "stderr",
     "output_type": "stream",
     "text": [
      "/tmp/ipykernel_29545/2543580824.py:12: RuntimeWarning: invalid value encountered in divide\n",
      "  ds[:,i] = ds[:,i]/np.max(ds[:,i])\n",
      "/tmp/ipykernel_29545/2543580824.py:12: RuntimeWarning: invalid value encountered in divide\n",
      "  ds[:,i] = ds[:,i]/np.max(ds[:,i])\n"
     ]
    },
    {
     "name": "stdout",
     "output_type": "stream",
     "text": [
      "finish 25-17 691/768\n",
      "finish 26-17 692/768\n"
     ]
    },
    {
     "name": "stderr",
     "output_type": "stream",
     "text": [
      "/tmp/ipykernel_29545/2543580824.py:12: RuntimeWarning: invalid value encountered in divide\n",
      "  ds[:,i] = ds[:,i]/np.max(ds[:,i])\n",
      "/tmp/ipykernel_29545/2543580824.py:12: RuntimeWarning: invalid value encountered in divide\n",
      "  ds[:,i] = ds[:,i]/np.max(ds[:,i])\n"
     ]
    },
    {
     "name": "stdout",
     "output_type": "stream",
     "text": [
      "finish 27-17 693/768\n",
      "finish 28-17 694/768\n"
     ]
    },
    {
     "name": "stderr",
     "output_type": "stream",
     "text": [
      "/tmp/ipykernel_29545/2543580824.py:12: RuntimeWarning: invalid value encountered in divide\n",
      "  ds[:,i] = ds[:,i]/np.max(ds[:,i])\n",
      "/tmp/ipykernel_29545/2543580824.py:12: RuntimeWarning: invalid value encountered in divide\n",
      "  ds[:,i] = ds[:,i]/np.max(ds[:,i])\n"
     ]
    },
    {
     "name": "stdout",
     "output_type": "stream",
     "text": [
      "finish 29-17 695/768\n",
      "finish 30-17 696/768\n"
     ]
    },
    {
     "name": "stderr",
     "output_type": "stream",
     "text": [
      "/tmp/ipykernel_29545/2543580824.py:12: RuntimeWarning: invalid value encountered in divide\n",
      "  ds[:,i] = ds[:,i]/np.max(ds[:,i])\n",
      "/tmp/ipykernel_29545/2543580824.py:12: RuntimeWarning: invalid value encountered in divide\n",
      "  ds[:,i] = ds[:,i]/np.max(ds[:,i])\n"
     ]
    },
    {
     "name": "stdout",
     "output_type": "stream",
     "text": [
      "finish 31-17 697/768\n",
      "finish 32-17 698/768\n"
     ]
    },
    {
     "name": "stderr",
     "output_type": "stream",
     "text": [
      "/tmp/ipykernel_29545/2543580824.py:12: RuntimeWarning: invalid value encountered in divide\n",
      "  ds[:,i] = ds[:,i]/np.max(ds[:,i])\n",
      "/tmp/ipykernel_29545/2543580824.py:12: RuntimeWarning: invalid value encountered in divide\n",
      "  ds[:,i] = ds[:,i]/np.max(ds[:,i])\n"
     ]
    },
    {
     "name": "stdout",
     "output_type": "stream",
     "text": [
      "finish 33-17 699/768\n",
      "finish 34-17 700/768\n"
     ]
    },
    {
     "name": "stderr",
     "output_type": "stream",
     "text": [
      "/tmp/ipykernel_29545/2543580824.py:12: RuntimeWarning: invalid value encountered in divide\n",
      "  ds[:,i] = ds[:,i]/np.max(ds[:,i])\n",
      "/tmp/ipykernel_29545/2543580824.py:12: RuntimeWarning: invalid value encountered in divide\n",
      "  ds[:,i] = ds[:,i]/np.max(ds[:,i])\n"
     ]
    },
    {
     "name": "stdout",
     "output_type": "stream",
     "text": [
      "finish 35-17 701/768\n",
      "finish 36-17 702/768\n"
     ]
    },
    {
     "name": "stderr",
     "output_type": "stream",
     "text": [
      "/tmp/ipykernel_29545/2543580824.py:12: RuntimeWarning: invalid value encountered in divide\n",
      "  ds[:,i] = ds[:,i]/np.max(ds[:,i])\n",
      "/tmp/ipykernel_29545/2543580824.py:12: RuntimeWarning: invalid value encountered in divide\n",
      "  ds[:,i] = ds[:,i]/np.max(ds[:,i])\n"
     ]
    },
    {
     "name": "stdout",
     "output_type": "stream",
     "text": [
      "finish 37-17 703/768\n",
      "finish 38-17 704/768\n"
     ]
    },
    {
     "name": "stderr",
     "output_type": "stream",
     "text": [
      "/tmp/ipykernel_29545/2543580824.py:12: RuntimeWarning: invalid value encountered in divide\n",
      "  ds[:,i] = ds[:,i]/np.max(ds[:,i])\n",
      "/tmp/ipykernel_29545/2543580824.py:12: RuntimeWarning: invalid value encountered in divide\n",
      "  ds[:,i] = ds[:,i]/np.max(ds[:,i])\n"
     ]
    },
    {
     "name": "stdout",
     "output_type": "stream",
     "text": [
      "finish 39-17 705/768\n",
      "finish 40-17 706/768\n"
     ]
    },
    {
     "name": "stderr",
     "output_type": "stream",
     "text": [
      "/tmp/ipykernel_29545/2543580824.py:12: RuntimeWarning: invalid value encountered in divide\n",
      "  ds[:,i] = ds[:,i]/np.max(ds[:,i])\n",
      "/tmp/ipykernel_29545/2543580824.py:12: RuntimeWarning: invalid value encountered in divide\n",
      "  ds[:,i] = ds[:,i]/np.max(ds[:,i])\n"
     ]
    },
    {
     "name": "stdout",
     "output_type": "stream",
     "text": [
      "finish 41-17 707/768\n",
      "finish 42-17 708/768\n"
     ]
    },
    {
     "name": "stderr",
     "output_type": "stream",
     "text": [
      "/tmp/ipykernel_29545/2543580824.py:12: RuntimeWarning: invalid value encountered in divide\n",
      "  ds[:,i] = ds[:,i]/np.max(ds[:,i])\n",
      "/tmp/ipykernel_29545/2543580824.py:12: RuntimeWarning: invalid value encountered in divide\n",
      "  ds[:,i] = ds[:,i]/np.max(ds[:,i])\n"
     ]
    },
    {
     "name": "stdout",
     "output_type": "stream",
     "text": [
      "finish 43-17 709/768\n",
      "finish 44-17 710/768\n"
     ]
    },
    {
     "name": "stderr",
     "output_type": "stream",
     "text": [
      "/tmp/ipykernel_29545/2543580824.py:12: RuntimeWarning: invalid value encountered in divide\n",
      "  ds[:,i] = ds[:,i]/np.max(ds[:,i])\n",
      "/tmp/ipykernel_29545/2543580824.py:12: RuntimeWarning: invalid value encountered in divide\n",
      "  ds[:,i] = ds[:,i]/np.max(ds[:,i])\n"
     ]
    },
    {
     "name": "stdout",
     "output_type": "stream",
     "text": [
      "finish 45-17 711/768\n",
      "finish 46-17 712/768\n"
     ]
    },
    {
     "name": "stderr",
     "output_type": "stream",
     "text": [
      "/tmp/ipykernel_29545/2543580824.py:12: RuntimeWarning: invalid value encountered in divide\n",
      "  ds[:,i] = ds[:,i]/np.max(ds[:,i])\n",
      "/tmp/ipykernel_29545/2543580824.py:12: RuntimeWarning: invalid value encountered in divide\n",
      "  ds[:,i] = ds[:,i]/np.max(ds[:,i])\n"
     ]
    },
    {
     "name": "stdout",
     "output_type": "stream",
     "text": [
      "finish 47-17 713/768\n",
      "finish 48-17 714/768\n"
     ]
    },
    {
     "name": "stderr",
     "output_type": "stream",
     "text": [
      "/tmp/ipykernel_29545/2543580824.py:12: RuntimeWarning: invalid value encountered in divide\n",
      "  ds[:,i] = ds[:,i]/np.max(ds[:,i])\n",
      "/tmp/ipykernel_29545/2543580824.py:12: RuntimeWarning: invalid value encountered in divide\n",
      "  ds[:,i] = ds[:,i]/np.max(ds[:,i])\n"
     ]
    },
    {
     "name": "stdout",
     "output_type": "stream",
     "text": [
      "finish 49-17 715/768\n",
      "finish 50-17 716/768\n"
     ]
    },
    {
     "name": "stderr",
     "output_type": "stream",
     "text": [
      "/tmp/ipykernel_29545/2543580824.py:12: RuntimeWarning: invalid value encountered in divide\n",
      "  ds[:,i] = ds[:,i]/np.max(ds[:,i])\n",
      "/tmp/ipykernel_29545/2543580824.py:12: RuntimeWarning: invalid value encountered in divide\n",
      "  ds[:,i] = ds[:,i]/np.max(ds[:,i])\n"
     ]
    },
    {
     "name": "stdout",
     "output_type": "stream",
     "text": [
      "finish 51-17 717/768\n",
      "finish 52-17 718/768\n"
     ]
    },
    {
     "name": "stderr",
     "output_type": "stream",
     "text": [
      "/tmp/ipykernel_29545/2543580824.py:12: RuntimeWarning: invalid value encountered in divide\n",
      "  ds[:,i] = ds[:,i]/np.max(ds[:,i])\n",
      "/tmp/ipykernel_29545/2543580824.py:12: RuntimeWarning: invalid value encountered in divide\n",
      "  ds[:,i] = ds[:,i]/np.max(ds[:,i])\n"
     ]
    },
    {
     "name": "stdout",
     "output_type": "stream",
     "text": [
      "finish 53-17 719/768\n",
      "finish 54-17 720/768\n"
     ]
    },
    {
     "name": "stderr",
     "output_type": "stream",
     "text": [
      "/tmp/ipykernel_29545/2543580824.py:12: RuntimeWarning: invalid value encountered in divide\n",
      "  ds[:,i] = ds[:,i]/np.max(ds[:,i])\n",
      "/tmp/ipykernel_29545/2543580824.py:12: RuntimeWarning: invalid value encountered in divide\n",
      "  ds[:,i] = ds[:,i]/np.max(ds[:,i])\n"
     ]
    },
    {
     "name": "stdout",
     "output_type": "stream",
     "text": [
      "finish 07-18 721/768\n",
      "finish 08-18 722/768\n"
     ]
    },
    {
     "name": "stderr",
     "output_type": "stream",
     "text": [
      "/tmp/ipykernel_29545/2543580824.py:12: RuntimeWarning: invalid value encountered in divide\n",
      "  ds[:,i] = ds[:,i]/np.max(ds[:,i])\n",
      "/tmp/ipykernel_29545/2543580824.py:12: RuntimeWarning: invalid value encountered in divide\n",
      "  ds[:,i] = ds[:,i]/np.max(ds[:,i])\n"
     ]
    },
    {
     "name": "stdout",
     "output_type": "stream",
     "text": [
      "finish 09-18 723/768\n",
      "finish 10-18 724/768\n"
     ]
    },
    {
     "name": "stderr",
     "output_type": "stream",
     "text": [
      "/tmp/ipykernel_29545/2543580824.py:12: RuntimeWarning: invalid value encountered in divide\n",
      "  ds[:,i] = ds[:,i]/np.max(ds[:,i])\n",
      "/tmp/ipykernel_29545/2543580824.py:12: RuntimeWarning: invalid value encountered in divide\n",
      "  ds[:,i] = ds[:,i]/np.max(ds[:,i])\n"
     ]
    },
    {
     "name": "stdout",
     "output_type": "stream",
     "text": [
      "finish 11-18 725/768\n",
      "finish 12-18 726/768\n"
     ]
    },
    {
     "name": "stderr",
     "output_type": "stream",
     "text": [
      "/tmp/ipykernel_29545/2543580824.py:12: RuntimeWarning: invalid value encountered in divide\n",
      "  ds[:,i] = ds[:,i]/np.max(ds[:,i])\n",
      "/tmp/ipykernel_29545/2543580824.py:12: RuntimeWarning: invalid value encountered in divide\n",
      "  ds[:,i] = ds[:,i]/np.max(ds[:,i])\n"
     ]
    },
    {
     "name": "stdout",
     "output_type": "stream",
     "text": [
      "finish 13-18 727/768\n",
      "finish 14-18 728/768\n"
     ]
    },
    {
     "name": "stderr",
     "output_type": "stream",
     "text": [
      "/tmp/ipykernel_29545/2543580824.py:12: RuntimeWarning: invalid value encountered in divide\n",
      "  ds[:,i] = ds[:,i]/np.max(ds[:,i])\n",
      "/tmp/ipykernel_29545/2543580824.py:12: RuntimeWarning: invalid value encountered in divide\n",
      "  ds[:,i] = ds[:,i]/np.max(ds[:,i])\n"
     ]
    },
    {
     "name": "stdout",
     "output_type": "stream",
     "text": [
      "finish 15-18 729/768\n",
      "finish 16-18 730/768\n"
     ]
    },
    {
     "name": "stderr",
     "output_type": "stream",
     "text": [
      "/tmp/ipykernel_29545/2543580824.py:12: RuntimeWarning: invalid value encountered in divide\n",
      "  ds[:,i] = ds[:,i]/np.max(ds[:,i])\n",
      "/tmp/ipykernel_29545/2543580824.py:12: RuntimeWarning: invalid value encountered in divide\n",
      "  ds[:,i] = ds[:,i]/np.max(ds[:,i])\n"
     ]
    },
    {
     "name": "stdout",
     "output_type": "stream",
     "text": [
      "finish 17-18 731/768\n",
      "finish 18-18 732/768\n"
     ]
    },
    {
     "name": "stderr",
     "output_type": "stream",
     "text": [
      "/tmp/ipykernel_29545/2543580824.py:12: RuntimeWarning: invalid value encountered in divide\n",
      "  ds[:,i] = ds[:,i]/np.max(ds[:,i])\n",
      "/tmp/ipykernel_29545/2543580824.py:12: RuntimeWarning: invalid value encountered in divide\n",
      "  ds[:,i] = ds[:,i]/np.max(ds[:,i])\n"
     ]
    },
    {
     "name": "stdout",
     "output_type": "stream",
     "text": [
      "finish 19-18 733/768\n",
      "finish 20-18 734/768\n"
     ]
    },
    {
     "name": "stderr",
     "output_type": "stream",
     "text": [
      "/tmp/ipykernel_29545/2543580824.py:12: RuntimeWarning: invalid value encountered in divide\n",
      "  ds[:,i] = ds[:,i]/np.max(ds[:,i])\n",
      "/tmp/ipykernel_29545/2543580824.py:12: RuntimeWarning: invalid value encountered in divide\n",
      "  ds[:,i] = ds[:,i]/np.max(ds[:,i])\n"
     ]
    },
    {
     "name": "stdout",
     "output_type": "stream",
     "text": [
      "finish 21-18 735/768\n",
      "finish 22-18 736/768\n"
     ]
    },
    {
     "name": "stderr",
     "output_type": "stream",
     "text": [
      "/tmp/ipykernel_29545/2543580824.py:12: RuntimeWarning: invalid value encountered in divide\n",
      "  ds[:,i] = ds[:,i]/np.max(ds[:,i])\n",
      "/tmp/ipykernel_29545/2543580824.py:12: RuntimeWarning: invalid value encountered in divide\n",
      "  ds[:,i] = ds[:,i]/np.max(ds[:,i])\n"
     ]
    },
    {
     "name": "stdout",
     "output_type": "stream",
     "text": [
      "finish 23-18 737/768\n",
      "finish 24-18 738/768\n"
     ]
    },
    {
     "name": "stderr",
     "output_type": "stream",
     "text": [
      "/tmp/ipykernel_29545/2543580824.py:12: RuntimeWarning: invalid value encountered in divide\n",
      "  ds[:,i] = ds[:,i]/np.max(ds[:,i])\n",
      "/tmp/ipykernel_29545/2543580824.py:12: RuntimeWarning: invalid value encountered in divide\n",
      "  ds[:,i] = ds[:,i]/np.max(ds[:,i])\n"
     ]
    },
    {
     "name": "stdout",
     "output_type": "stream",
     "text": [
      "finish 25-18 739/768\n",
      "finish 26-18 740/768\n"
     ]
    },
    {
     "name": "stderr",
     "output_type": "stream",
     "text": [
      "/tmp/ipykernel_29545/2543580824.py:12: RuntimeWarning: invalid value encountered in divide\n",
      "  ds[:,i] = ds[:,i]/np.max(ds[:,i])\n",
      "/tmp/ipykernel_29545/2543580824.py:12: RuntimeWarning: invalid value encountered in divide\n",
      "  ds[:,i] = ds[:,i]/np.max(ds[:,i])\n"
     ]
    },
    {
     "name": "stdout",
     "output_type": "stream",
     "text": [
      "finish 27-18 741/768\n",
      "finish 28-18 742/768\n"
     ]
    },
    {
     "name": "stderr",
     "output_type": "stream",
     "text": [
      "/tmp/ipykernel_29545/2543580824.py:12: RuntimeWarning: invalid value encountered in divide\n",
      "  ds[:,i] = ds[:,i]/np.max(ds[:,i])\n",
      "/tmp/ipykernel_29545/2543580824.py:12: RuntimeWarning: invalid value encountered in divide\n",
      "  ds[:,i] = ds[:,i]/np.max(ds[:,i])\n"
     ]
    },
    {
     "name": "stdout",
     "output_type": "stream",
     "text": [
      "finish 29-18 743/768\n",
      "finish 30-18 744/768\n"
     ]
    },
    {
     "name": "stderr",
     "output_type": "stream",
     "text": [
      "/tmp/ipykernel_29545/2543580824.py:12: RuntimeWarning: invalid value encountered in divide\n",
      "  ds[:,i] = ds[:,i]/np.max(ds[:,i])\n",
      "/tmp/ipykernel_29545/2543580824.py:12: RuntimeWarning: invalid value encountered in divide\n",
      "  ds[:,i] = ds[:,i]/np.max(ds[:,i])\n"
     ]
    },
    {
     "name": "stdout",
     "output_type": "stream",
     "text": [
      "finish 31-18 745/768\n",
      "finish 32-18 746/768\n"
     ]
    },
    {
     "name": "stderr",
     "output_type": "stream",
     "text": [
      "/tmp/ipykernel_29545/2543580824.py:12: RuntimeWarning: invalid value encountered in divide\n",
      "  ds[:,i] = ds[:,i]/np.max(ds[:,i])\n",
      "/tmp/ipykernel_29545/2543580824.py:12: RuntimeWarning: invalid value encountered in divide\n",
      "  ds[:,i] = ds[:,i]/np.max(ds[:,i])\n"
     ]
    },
    {
     "name": "stdout",
     "output_type": "stream",
     "text": [
      "finish 33-18 747/768\n",
      "finish 34-18 748/768\n"
     ]
    },
    {
     "name": "stderr",
     "output_type": "stream",
     "text": [
      "/tmp/ipykernel_29545/2543580824.py:12: RuntimeWarning: invalid value encountered in divide\n",
      "  ds[:,i] = ds[:,i]/np.max(ds[:,i])\n",
      "/tmp/ipykernel_29545/2543580824.py:12: RuntimeWarning: invalid value encountered in divide\n",
      "  ds[:,i] = ds[:,i]/np.max(ds[:,i])\n"
     ]
    },
    {
     "name": "stdout",
     "output_type": "stream",
     "text": [
      "finish 35-18 749/768\n",
      "finish 36-18 750/768\n"
     ]
    },
    {
     "name": "stderr",
     "output_type": "stream",
     "text": [
      "/tmp/ipykernel_29545/2543580824.py:12: RuntimeWarning: invalid value encountered in divide\n",
      "  ds[:,i] = ds[:,i]/np.max(ds[:,i])\n",
      "/tmp/ipykernel_29545/2543580824.py:12: RuntimeWarning: invalid value encountered in divide\n",
      "  ds[:,i] = ds[:,i]/np.max(ds[:,i])\n"
     ]
    },
    {
     "name": "stdout",
     "output_type": "stream",
     "text": [
      "finish 37-18 751/768\n",
      "finish 38-18 752/768\n"
     ]
    },
    {
     "name": "stderr",
     "output_type": "stream",
     "text": [
      "/tmp/ipykernel_29545/2543580824.py:12: RuntimeWarning: invalid value encountered in divide\n",
      "  ds[:,i] = ds[:,i]/np.max(ds[:,i])\n",
      "/tmp/ipykernel_29545/2543580824.py:12: RuntimeWarning: invalid value encountered in divide\n",
      "  ds[:,i] = ds[:,i]/np.max(ds[:,i])\n"
     ]
    },
    {
     "name": "stdout",
     "output_type": "stream",
     "text": [
      "finish 39-18 753/768\n",
      "finish 40-18 754/768\n"
     ]
    },
    {
     "name": "stderr",
     "output_type": "stream",
     "text": [
      "/tmp/ipykernel_29545/2543580824.py:12: RuntimeWarning: invalid value encountered in divide\n",
      "  ds[:,i] = ds[:,i]/np.max(ds[:,i])\n",
      "/tmp/ipykernel_29545/2543580824.py:12: RuntimeWarning: invalid value encountered in divide\n",
      "  ds[:,i] = ds[:,i]/np.max(ds[:,i])\n"
     ]
    },
    {
     "name": "stdout",
     "output_type": "stream",
     "text": [
      "finish 41-18 755/768\n",
      "finish 42-18 756/768\n"
     ]
    },
    {
     "name": "stderr",
     "output_type": "stream",
     "text": [
      "/tmp/ipykernel_29545/2543580824.py:12: RuntimeWarning: invalid value encountered in divide\n",
      "  ds[:,i] = ds[:,i]/np.max(ds[:,i])\n",
      "/tmp/ipykernel_29545/2543580824.py:12: RuntimeWarning: invalid value encountered in divide\n",
      "  ds[:,i] = ds[:,i]/np.max(ds[:,i])\n"
     ]
    },
    {
     "name": "stdout",
     "output_type": "stream",
     "text": [
      "finish 43-18 757/768\n",
      "finish 44-18 758/768\n"
     ]
    },
    {
     "name": "stderr",
     "output_type": "stream",
     "text": [
      "/tmp/ipykernel_29545/2543580824.py:12: RuntimeWarning: invalid value encountered in divide\n",
      "  ds[:,i] = ds[:,i]/np.max(ds[:,i])\n",
      "/tmp/ipykernel_29545/2543580824.py:12: RuntimeWarning: invalid value encountered in divide\n",
      "  ds[:,i] = ds[:,i]/np.max(ds[:,i])\n"
     ]
    },
    {
     "name": "stdout",
     "output_type": "stream",
     "text": [
      "finish 45-18 759/768\n",
      "finish 46-18 760/768\n"
     ]
    },
    {
     "name": "stderr",
     "output_type": "stream",
     "text": [
      "/tmp/ipykernel_29545/2543580824.py:12: RuntimeWarning: invalid value encountered in divide\n",
      "  ds[:,i] = ds[:,i]/np.max(ds[:,i])\n",
      "/tmp/ipykernel_29545/2543580824.py:12: RuntimeWarning: invalid value encountered in divide\n",
      "  ds[:,i] = ds[:,i]/np.max(ds[:,i])\n"
     ]
    },
    {
     "name": "stdout",
     "output_type": "stream",
     "text": [
      "finish 47-18 761/768\n",
      "finish 48-18 762/768\n"
     ]
    },
    {
     "name": "stderr",
     "output_type": "stream",
     "text": [
      "/tmp/ipykernel_29545/2543580824.py:12: RuntimeWarning: invalid value encountered in divide\n",
      "  ds[:,i] = ds[:,i]/np.max(ds[:,i])\n",
      "/tmp/ipykernel_29545/2543580824.py:12: RuntimeWarning: invalid value encountered in divide\n",
      "  ds[:,i] = ds[:,i]/np.max(ds[:,i])\n"
     ]
    },
    {
     "name": "stdout",
     "output_type": "stream",
     "text": [
      "finish 49-18 763/768\n",
      "finish 50-18 764/768\n"
     ]
    },
    {
     "name": "stderr",
     "output_type": "stream",
     "text": [
      "/tmp/ipykernel_29545/2543580824.py:12: RuntimeWarning: invalid value encountered in divide\n",
      "  ds[:,i] = ds[:,i]/np.max(ds[:,i])\n",
      "/tmp/ipykernel_29545/2543580824.py:12: RuntimeWarning: invalid value encountered in divide\n",
      "  ds[:,i] = ds[:,i]/np.max(ds[:,i])\n"
     ]
    },
    {
     "name": "stdout",
     "output_type": "stream",
     "text": [
      "finish 51-18 765/768\n",
      "finish 52-18 766/768\n"
     ]
    },
    {
     "name": "stderr",
     "output_type": "stream",
     "text": [
      "/tmp/ipykernel_29545/2543580824.py:12: RuntimeWarning: invalid value encountered in divide\n",
      "  ds[:,i] = ds[:,i]/np.max(ds[:,i])\n",
      "/tmp/ipykernel_29545/2543580824.py:12: RuntimeWarning: invalid value encountered in divide\n",
      "  ds[:,i] = ds[:,i]/np.max(ds[:,i])\n"
     ]
    },
    {
     "name": "stdout",
     "output_type": "stream",
     "text": [
      "finish 53-18 767/768\n",
      "finish 54-18 768/768\n"
     ]
    },
    {
     "name": "stderr",
     "output_type": "stream",
     "text": [
      "/tmp/ipykernel_29545/2543580824.py:12: RuntimeWarning: invalid value encountered in divide\n",
      "  ds[:,i] = ds[:,i]/np.max(ds[:,i])\n"
     ]
    }
   ],
   "source": [
    "for key_subwork in key_subworks:\n",
    "    pick_fundamental(key_subwork)"
   ]
  },
  {
   "cell_type": "code",
   "execution_count": 15,
   "metadata": {},
   "outputs": [
    {
     "data": {
      "text/plain": [
       "'\\nnThreads = 60\\npool = ThreadPoolExecutor(max_workers = nThreads)\\nfor key_subwork in key_subworks:\\n    pool.submit(pick_fundamental,key_subwork)\\npool.shutdown()\\n'"
      ]
     },
     "execution_count": 15,
     "metadata": {},
     "output_type": "execute_result"
    }
   ],
   "source": [
    "\"\"\"\n",
    "nThreads = 60\n",
    "pool = ThreadPoolExecutor(max_workers = nThreads)\n",
    "for key_subwork in key_subworks:\n",
    "    pool.submit(pick_fundamental,key_subwork)\n",
    "pool.shutdown()\n",
    "\"\"\""
   ]
  },
  {
   "cell_type": "code",
   "execution_count": 16,
   "metadata": {},
   "outputs": [],
   "source": [
    "def plot_disp(key_subwork):\n",
    "    global dir_disp\n",
    "    global f\n",
    "    global c\n",
    "    global dir_image_disp\n",
    "\n",
    "    fig,ax = plt.subplots(1,1,figsize=(8,6))\n",
    "    dir_ds = dir_project + info_basic['dir_ds']\n",
    "    ds = h5py.File(dir_ds+'ds_'+key_subwork+'.h5', 'r')\n",
    "    ds_remove = ds['ds_remove'][0]\n",
    "\n",
    "    title0 = key_subwork\n",
    "    ax = plotlib.plot_fj(ax,ds_remove,title0,f,c,0,c_map='jet')\n",
    "\n",
    "    f_pick = np.loadtxt(dir_disp+'autopick_'+key_subwork+'.txt',delimiter=',')[:,0]\n",
    "    c_pick = np.loadtxt(dir_disp+'autopick_'+key_subwork+'.txt',delimiter=',')[:,1]\n",
    "    ax.scatter(f_pick,c_pick,marker='o',s=10,color='k')\n",
    "    plt.savefig(dir_image_disp+'autopick_'+key_subwork+'.png',dpi=60)\n",
    "    plt.close()\n",
    "    print('finish '+key_subwork)"
   ]
  },
  {
   "cell_type": "code",
   "execution_count": 17,
   "metadata": {},
   "outputs": [],
   "source": [
    "dir_image_disp = 'image_autopick/'\n",
    "if not os.path.exists(dir_project+dir_image_disp):\n",
    "    os.makedirs(dir_project+dir_image_disp)\n",
    "dir_image_disp = dir_project+dir_image_disp"
   ]
  },
  {
   "cell_type": "code",
   "execution_count": 18,
   "metadata": {},
   "outputs": [
    {
     "name": "stdout",
     "output_type": "stream",
     "text": [
      "finish 07-03\n",
      "finish 08-03\n",
      "finish 09-03\n",
      "finish 10-03\n",
      "finish 11-03\n",
      "finish 12-03\n",
      "finish 13-03\n",
      "finish 14-03\n",
      "finish 15-03\n",
      "finish 16-03\n",
      "finish 17-03\n",
      "finish 18-03\n",
      "finish 19-03\n",
      "finish 20-03\n",
      "finish 21-03\n",
      "finish 22-03\n",
      "finish 23-03\n",
      "finish 24-03\n",
      "finish 25-03\n",
      "finish 26-03\n",
      "finish 27-03\n",
      "finish 28-03\n",
      "finish 29-03\n",
      "finish 30-03\n",
      "finish 31-03\n",
      "finish 32-03\n",
      "finish 33-03\n",
      "finish 34-03\n",
      "finish 35-03\n",
      "finish 36-03\n",
      "finish 37-03\n",
      "finish 38-03\n",
      "finish 39-03\n",
      "finish 40-03\n",
      "finish 41-03\n",
      "finish 42-03\n",
      "finish 43-03\n",
      "finish 44-03\n",
      "finish 45-03\n",
      "finish 46-03\n",
      "finish 47-03\n",
      "finish 48-03\n",
      "finish 49-03\n",
      "finish 50-03\n",
      "finish 51-03\n",
      "finish 52-03\n",
      "finish 53-03\n",
      "finish 54-03\n",
      "finish 07-04\n",
      "finish 08-04\n",
      "finish 09-04\n",
      "finish 10-04\n",
      "finish 11-04\n",
      "finish 12-04\n",
      "finish 13-04\n",
      "finish 14-04\n",
      "finish 15-04\n",
      "finish 16-04\n",
      "finish 17-04\n",
      "finish 18-04\n",
      "finish 19-04\n",
      "finish 20-04\n",
      "finish 21-04\n",
      "finish 22-04\n",
      "finish 23-04\n",
      "finish 24-04\n",
      "finish 25-04\n",
      "finish 26-04\n",
      "finish 27-04\n",
      "finish 28-04\n",
      "finish 29-04\n",
      "finish 30-04\n",
      "finish 31-04\n",
      "finish 32-04\n",
      "finish 33-04\n",
      "finish 34-04\n",
      "finish 35-04\n",
      "finish 36-04\n",
      "finish 37-04\n",
      "finish 38-04\n",
      "finish 39-04\n",
      "finish 40-04\n",
      "finish 41-04\n",
      "finish 42-04\n",
      "finish 43-04\n",
      "finish 44-04\n",
      "finish 45-04\n",
      "finish 46-04\n",
      "finish 47-04\n",
      "finish 48-04\n",
      "finish 49-04\n",
      "finish 50-04\n",
      "finish 51-04\n",
      "finish 52-04\n",
      "finish 53-04\n",
      "finish 54-04\n",
      "finish 07-05\n",
      "finish 08-05\n",
      "finish 09-05\n",
      "finish 10-05\n",
      "finish 11-05\n",
      "finish 12-05\n",
      "finish 13-05\n",
      "finish 14-05\n",
      "finish 15-05\n",
      "finish 16-05\n",
      "finish 17-05\n",
      "finish 18-05\n",
      "finish 19-05\n",
      "finish 20-05\n",
      "finish 21-05\n",
      "finish 22-05\n",
      "finish 23-05\n",
      "finish 24-05\n",
      "finish 25-05\n",
      "finish 26-05\n",
      "finish 27-05\n",
      "finish 28-05\n",
      "finish 29-05\n",
      "finish 30-05\n",
      "finish 31-05\n",
      "finish 32-05\n",
      "finish 33-05\n",
      "finish 34-05\n",
      "finish 35-05\n",
      "finish 36-05\n",
      "finish 37-05\n",
      "finish 38-05\n",
      "finish 39-05\n",
      "finish 40-05\n",
      "finish 41-05\n",
      "finish 42-05\n",
      "finish 43-05\n",
      "finish 44-05\n",
      "finish 45-05\n"
     ]
    },
    {
     "name": "stdout",
     "output_type": "stream",
     "text": [
      "finish 46-05\n",
      "finish 47-05\n",
      "finish 48-05\n",
      "finish 49-05\n",
      "finish 50-05\n",
      "finish 51-05\n",
      "finish 52-05\n",
      "finish 53-05\n",
      "finish 54-05\n",
      "finish 07-06\n",
      "finish 08-06\n",
      "finish 09-06\n",
      "finish 10-06\n",
      "finish 11-06\n",
      "finish 12-06\n",
      "finish 13-06\n",
      "finish 14-06\n",
      "finish 15-06\n",
      "finish 16-06\n",
      "finish 17-06\n",
      "finish 18-06\n",
      "finish 19-06\n",
      "finish 20-06\n",
      "finish 21-06\n",
      "finish 22-06\n",
      "finish 23-06\n",
      "finish 24-06\n",
      "finish 25-06\n",
      "finish 26-06\n",
      "finish 27-06\n",
      "finish 28-06\n",
      "finish 29-06\n",
      "finish 30-06\n",
      "finish 31-06\n",
      "finish 32-06\n",
      "finish 33-06\n",
      "finish 34-06\n",
      "finish 35-06\n",
      "finish 36-06\n",
      "finish 37-06\n",
      "finish 38-06\n",
      "finish 39-06\n",
      "finish 40-06\n",
      "finish 41-06\n",
      "finish 42-06\n",
      "finish 43-06\n",
      "finish 44-06\n",
      "finish 45-06\n",
      "finish 46-06\n",
      "finish 47-06\n",
      "finish 48-06\n",
      "finish 49-06\n",
      "finish 50-06\n",
      "finish 51-06\n",
      "finish 52-06\n",
      "finish 53-06\n",
      "finish 54-06\n",
      "finish 07-07\n",
      "finish 08-07\n",
      "finish 09-07\n",
      "finish 10-07\n",
      "finish 11-07\n",
      "finish 12-07\n",
      "finish 13-07\n",
      "finish 14-07\n",
      "finish 15-07\n",
      "finish 16-07\n",
      "finish 17-07\n",
      "finish 18-07\n",
      "finish 19-07\n",
      "finish 20-07\n",
      "finish 21-07\n",
      "finish 22-07\n",
      "finish 23-07\n",
      "finish 24-07\n",
      "finish 25-07\n",
      "finish 26-07\n",
      "finish 27-07\n",
      "finish 28-07\n",
      "finish 29-07\n",
      "finish 30-07\n",
      "finish 31-07\n",
      "finish 32-07\n",
      "finish 33-07\n",
      "finish 34-07\n",
      "finish 35-07\n",
      "finish 36-07\n",
      "finish 37-07\n",
      "finish 38-07\n",
      "finish 39-07\n",
      "finish 40-07\n",
      "finish 41-07\n",
      "finish 42-07\n",
      "finish 43-07\n",
      "finish 44-07\n",
      "finish 45-07\n",
      "finish 46-07\n",
      "finish 47-07\n",
      "finish 48-07\n",
      "finish 49-07\n",
      "finish 50-07\n",
      "finish 51-07\n",
      "finish 52-07\n",
      "finish 53-07\n",
      "finish 54-07\n",
      "finish 07-08\n",
      "finish 08-08\n",
      "finish 09-08\n",
      "finish 10-08\n",
      "finish 11-08\n",
      "finish 12-08\n",
      "finish 13-08\n",
      "finish 14-08\n",
      "finish 15-08\n",
      "finish 16-08\n",
      "finish 17-08\n",
      "finish 18-08\n",
      "finish 19-08\n",
      "finish 20-08\n",
      "finish 21-08\n",
      "finish 22-08\n",
      "finish 23-08\n",
      "finish 24-08\n",
      "finish 25-08\n",
      "finish 26-08\n",
      "finish 27-08\n",
      "finish 28-08\n",
      "finish 29-08\n",
      "finish 30-08\n",
      "finish 31-08\n",
      "finish 32-08\n",
      "finish 33-08\n",
      "finish 34-08\n",
      "finish 35-08\n",
      "finish 36-08\n",
      "finish 37-08\n",
      "finish 38-08\n",
      "finish 39-08\n",
      "finish 40-08\n",
      "finish 41-08\n",
      "finish 42-08\n",
      "finish 43-08\n",
      "finish 44-08\n",
      "finish 45-08\n",
      "finish 46-08\n",
      "finish 47-08\n",
      "finish 48-08\n",
      "finish 49-08\n",
      "finish 50-08\n",
      "finish 51-08\n",
      "finish 52-08\n",
      "finish 53-08\n",
      "finish 54-08\n",
      "finish 07-09\n",
      "finish 08-09\n",
      "finish 09-09\n",
      "finish 10-09\n",
      "finish 11-09\n",
      "finish 12-09\n",
      "finish 13-09\n",
      "finish 14-09\n",
      "finish 15-09\n",
      "finish 16-09\n",
      "finish 17-09\n",
      "finish 18-09\n",
      "finish 19-09\n",
      "finish 20-09\n",
      "finish 21-09\n",
      "finish 22-09\n",
      "finish 23-09\n",
      "finish 24-09\n",
      "finish 25-09\n",
      "finish 26-09\n",
      "finish 27-09\n",
      "finish 28-09\n",
      "finish 29-09\n",
      "finish 30-09\n",
      "finish 31-09\n",
      "finish 32-09\n",
      "finish 33-09\n",
      "finish 34-09\n",
      "finish 35-09\n",
      "finish 36-09\n",
      "finish 37-09\n",
      "finish 38-09\n",
      "finish 39-09\n",
      "finish 40-09\n",
      "finish 41-09\n",
      "finish 42-09\n",
      "finish 43-09\n",
      "finish 44-09\n",
      "finish 45-09\n",
      "finish 46-09\n",
      "finish 47-09\n",
      "finish 48-09\n",
      "finish 49-09\n",
      "finish 50-09\n",
      "finish 51-09\n",
      "finish 52-09\n",
      "finish 53-09\n",
      "finish 54-09\n",
      "finish 07-10\n",
      "finish 08-10\n",
      "finish 09-10\n",
      "finish 10-10\n",
      "finish 11-10\n",
      "finish 12-10\n",
      "finish 13-10\n",
      "finish 14-10\n",
      "finish 15-10\n",
      "finish 16-10\n",
      "finish 17-10\n",
      "finish 18-10\n",
      "finish 19-10\n",
      "finish 20-10\n",
      "finish 21-10\n",
      "finish 22-10\n",
      "finish 23-10\n",
      "finish 24-10\n",
      "finish 25-10\n",
      "finish 26-10\n",
      "finish 27-10\n",
      "finish 28-10\n",
      "finish 29-10\n",
      "finish 30-10\n",
      "finish 31-10\n",
      "finish 32-10\n",
      "finish 33-10\n",
      "finish 34-10\n",
      "finish 35-10\n",
      "finish 36-10\n",
      "finish 37-10\n",
      "finish 38-10\n",
      "finish 39-10\n",
      "finish 40-10\n",
      "finish 41-10\n",
      "finish 42-10\n",
      "finish 43-10\n",
      "finish 44-10\n",
      "finish 45-10\n",
      "finish 46-10\n",
      "finish 47-10\n",
      "finish 48-10\n",
      "finish 49-10\n",
      "finish 50-10\n",
      "finish 51-10\n",
      "finish 52-10\n",
      "finish 53-10\n",
      "finish 54-10\n",
      "finish 07-11\n",
      "finish 08-11\n",
      "finish 09-11\n",
      "finish 10-11\n",
      "finish 11-11\n",
      "finish 12-11\n",
      "finish 13-11\n",
      "finish 14-11\n",
      "finish 15-11\n",
      "finish 16-11\n",
      "finish 17-11\n",
      "finish 18-11\n",
      "finish 19-11\n",
      "finish 20-11\n",
      "finish 21-11\n",
      "finish 22-11\n",
      "finish 23-11\n",
      "finish 24-11\n",
      "finish 25-11\n",
      "finish 26-11\n",
      "finish 27-11\n",
      "finish 28-11\n",
      "finish 29-11\n",
      "finish 30-11\n",
      "finish 31-11\n",
      "finish 32-11\n",
      "finish 33-11\n",
      "finish 34-11\n",
      "finish 35-11\n",
      "finish 36-11\n",
      "finish 37-11\n",
      "finish 38-11\n",
      "finish 39-11\n",
      "finish 40-11\n",
      "finish 41-11\n",
      "finish 42-11\n",
      "finish 43-11\n",
      "finish 44-11\n",
      "finish 45-11\n",
      "finish 46-11\n",
      "finish 47-11\n",
      "finish 48-11\n",
      "finish 49-11\n",
      "finish 50-11\n",
      "finish 51-11\n",
      "finish 52-11\n",
      "finish 53-11\n",
      "finish 54-11\n",
      "finish 07-12\n",
      "finish 08-12\n",
      "finish 09-12\n",
      "finish 10-12\n",
      "finish 11-12\n",
      "finish 12-12\n",
      "finish 13-12\n",
      "finish 14-12\n",
      "finish 15-12\n",
      "finish 16-12\n",
      "finish 17-12\n",
      "finish 18-12\n",
      "finish 19-12\n",
      "finish 20-12\n",
      "finish 21-12\n",
      "finish 22-12\n",
      "finish 23-12\n",
      "finish 24-12\n",
      "finish 25-12\n",
      "finish 26-12\n",
      "finish 27-12\n",
      "finish 28-12\n",
      "finish 29-12\n",
      "finish 30-12\n",
      "finish 31-12\n",
      "finish 32-12\n",
      "finish 33-12\n",
      "finish 34-12\n",
      "finish 35-12\n",
      "finish 36-12\n",
      "finish 37-12\n",
      "finish 38-12\n",
      "finish 39-12\n",
      "finish 40-12\n",
      "finish 41-12\n",
      "finish 42-12\n",
      "finish 43-12\n",
      "finish 44-12\n",
      "finish 45-12\n",
      "finish 46-12\n",
      "finish 47-12\n",
      "finish 48-12\n",
      "finish 49-12\n",
      "finish 50-12\n",
      "finish 51-12\n",
      "finish 52-12\n",
      "finish 53-12\n",
      "finish 54-12\n",
      "finish 07-13\n",
      "finish 08-13\n",
      "finish 09-13\n",
      "finish 10-13\n",
      "finish 11-13\n",
      "finish 12-13\n",
      "finish 13-13\n",
      "finish 14-13\n",
      "finish 15-13\n",
      "finish 16-13\n",
      "finish 17-13\n",
      "finish 18-13\n",
      "finish 19-13\n",
      "finish 20-13\n",
      "finish 21-13\n",
      "finish 22-13\n",
      "finish 23-13\n",
      "finish 24-13\n",
      "finish 25-13\n",
      "finish 26-13\n",
      "finish 27-13\n",
      "finish 28-13\n",
      "finish 29-13\n",
      "finish 30-13\n",
      "finish 31-13\n",
      "finish 32-13\n",
      "finish 33-13\n",
      "finish 34-13\n",
      "finish 35-13\n",
      "finish 36-13\n",
      "finish 37-13\n",
      "finish 38-13\n",
      "finish 39-13\n",
      "finish 40-13\n",
      "finish 41-13\n",
      "finish 42-13\n",
      "finish 43-13\n",
      "finish 44-13\n",
      "finish 45-13\n",
      "finish 46-13\n",
      "finish 47-13\n",
      "finish 48-13\n",
      "finish 49-13\n",
      "finish 50-13\n",
      "finish 51-13\n",
      "finish 52-13\n",
      "finish 53-13\n",
      "finish 54-13\n",
      "finish 07-14\n",
      "finish 08-14\n",
      "finish 09-14\n",
      "finish 10-14\n",
      "finish 11-14\n",
      "finish 12-14\n",
      "finish 13-14\n",
      "finish 14-14\n",
      "finish 15-14\n",
      "finish 16-14\n",
      "finish 17-14\n",
      "finish 18-14\n",
      "finish 19-14\n",
      "finish 20-14\n",
      "finish 21-14\n",
      "finish 22-14\n",
      "finish 23-14\n",
      "finish 24-14\n",
      "finish 25-14\n",
      "finish 26-14\n",
      "finish 27-14\n",
      "finish 28-14\n",
      "finish 29-14\n",
      "finish 30-14\n",
      "finish 31-14\n",
      "finish 32-14\n",
      "finish 33-14\n",
      "finish 34-14\n",
      "finish 35-14\n",
      "finish 36-14\n",
      "finish 37-14\n",
      "finish 38-14\n",
      "finish 39-14\n",
      "finish 40-14\n",
      "finish 41-14\n",
      "finish 42-14\n",
      "finish 43-14\n",
      "finish 44-14\n",
      "finish 45-14\n",
      "finish 46-14\n",
      "finish 47-14\n",
      "finish 48-14\n",
      "finish 49-14\n",
      "finish 50-14\n",
      "finish 51-14\n",
      "finish 52-14\n",
      "finish 53-14\n",
      "finish 54-14\n",
      "finish 07-15\n",
      "finish 08-15\n",
      "finish 09-15\n",
      "finish 10-15\n",
      "finish 11-15\n",
      "finish 12-15\n",
      "finish 13-15\n",
      "finish 14-15\n",
      "finish 15-15\n",
      "finish 16-15\n",
      "finish 17-15\n",
      "finish 18-15\n",
      "finish 19-15\n",
      "finish 20-15\n",
      "finish 21-15\n",
      "finish 22-15\n",
      "finish 23-15\n",
      "finish 24-15\n",
      "finish 25-15\n",
      "finish 26-15\n",
      "finish 27-15\n",
      "finish 28-15\n",
      "finish 29-15\n",
      "finish 30-15\n",
      "finish 31-15\n",
      "finish 32-15\n",
      "finish 33-15\n",
      "finish 34-15\n",
      "finish 35-15\n",
      "finish 36-15\n",
      "finish 37-15\n",
      "finish 38-15\n",
      "finish 39-15\n",
      "finish 40-15\n",
      "finish 41-15\n",
      "finish 42-15\n",
      "finish 43-15\n",
      "finish 44-15\n",
      "finish 45-15\n",
      "finish 46-15\n",
      "finish 47-15\n",
      "finish 48-15\n",
      "finish 49-15\n",
      "finish 50-15\n",
      "finish 51-15\n",
      "finish 52-15\n",
      "finish 53-15\n",
      "finish 54-15\n",
      "finish 07-16\n",
      "finish 08-16\n",
      "finish 09-16\n",
      "finish 10-16\n",
      "finish 11-16\n",
      "finish 12-16\n",
      "finish 13-16\n",
      "finish 14-16\n",
      "finish 15-16\n",
      "finish 16-16\n",
      "finish 17-16\n",
      "finish 18-16\n",
      "finish 19-16\n",
      "finish 20-16\n",
      "finish 21-16\n",
      "finish 22-16\n",
      "finish 23-16\n",
      "finish 24-16\n",
      "finish 25-16\n",
      "finish 26-16\n",
      "finish 27-16\n",
      "finish 28-16\n",
      "finish 29-16\n",
      "finish 30-16\n",
      "finish 31-16\n",
      "finish 32-16\n",
      "finish 33-16\n",
      "finish 34-16\n",
      "finish 35-16\n",
      "finish 36-16\n",
      "finish 37-16\n",
      "finish 38-16\n",
      "finish 39-16\n",
      "finish 40-16\n",
      "finish 41-16\n",
      "finish 42-16\n",
      "finish 43-16\n",
      "finish 44-16\n",
      "finish 45-16\n",
      "finish 46-16\n",
      "finish 47-16\n",
      "finish 48-16\n",
      "finish 49-16\n",
      "finish 50-16\n",
      "finish 51-16\n",
      "finish 52-16\n",
      "finish 53-16\n",
      "finish 54-16\n",
      "finish 07-17\n",
      "finish 08-17\n",
      "finish 09-17\n",
      "finish 10-17\n",
      "finish 11-17\n",
      "finish 12-17\n",
      "finish 13-17\n",
      "finish 14-17\n",
      "finish 15-17\n",
      "finish 16-17\n",
      "finish 17-17\n",
      "finish 18-17\n",
      "finish 19-17\n",
      "finish 20-17\n",
      "finish 21-17\n",
      "finish 22-17\n",
      "finish 23-17\n",
      "finish 24-17\n",
      "finish 25-17\n",
      "finish 26-17\n",
      "finish 27-17\n",
      "finish 28-17\n",
      "finish 29-17\n",
      "finish 30-17\n",
      "finish 31-17\n",
      "finish 32-17\n",
      "finish 33-17\n",
      "finish 34-17\n",
      "finish 35-17\n",
      "finish 36-17\n",
      "finish 37-17\n",
      "finish 38-17\n",
      "finish 39-17\n",
      "finish 40-17\n",
      "finish 41-17\n",
      "finish 42-17\n",
      "finish 43-17\n",
      "finish 44-17\n",
      "finish 45-17\n",
      "finish 46-17\n",
      "finish 47-17\n",
      "finish 48-17\n",
      "finish 49-17\n",
      "finish 50-17\n",
      "finish 51-17\n",
      "finish 52-17\n",
      "finish 53-17\n",
      "finish 54-17\n",
      "finish 07-18\n",
      "finish 08-18\n",
      "finish 09-18\n",
      "finish 10-18\n",
      "finish 11-18\n",
      "finish 12-18\n",
      "finish 13-18\n",
      "finish 14-18\n",
      "finish 15-18\n",
      "finish 16-18\n",
      "finish 17-18\n",
      "finish 18-18\n",
      "finish 19-18\n",
      "finish 20-18\n",
      "finish 21-18\n",
      "finish 22-18\n",
      "finish 23-18\n",
      "finish 24-18\n",
      "finish 25-18\n",
      "finish 26-18\n",
      "finish 27-18\n",
      "finish 28-18\n",
      "finish 29-18\n",
      "finish 30-18\n",
      "finish 31-18\n",
      "finish 32-18\n",
      "finish 33-18\n",
      "finish 34-18\n",
      "finish 35-18\n",
      "finish 36-18\n",
      "finish 37-18\n",
      "finish 38-18\n",
      "finish 39-18\n",
      "finish 40-18\n",
      "finish 41-18\n",
      "finish 42-18\n",
      "finish 43-18\n",
      "finish 44-18\n",
      "finish 45-18\n",
      "finish 46-18\n",
      "finish 47-18\n",
      "finish 48-18\n",
      "finish 49-18\n",
      "finish 50-18\n",
      "finish 51-18\n",
      "finish 52-18\n",
      "finish 53-18\n",
      "finish 54-18\n"
     ]
    }
   ],
   "source": [
    "for key_subwork in key_subworks:\n",
    "    plot_disp(key_subwork)"
   ]
  }
 ],
 "metadata": {
  "kernelspec": {
   "display_name": "ccfj",
   "language": "python",
   "name": "python3"
  },
  "language_info": {
   "codemirror_mode": {
    "name": "ipython",
    "version": 3
   },
   "file_extension": ".py",
   "mimetype": "text/x-python",
   "name": "python",
   "nbconvert_exporter": "python",
   "pygments_lexer": "ipython3",
   "version": "3.9.18"
  }
 },
 "nbformat": 4,
 "nbformat_minor": 2
}
