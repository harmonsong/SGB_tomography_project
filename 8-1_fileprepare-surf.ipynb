{
 "cells": [
  {
   "cell_type": "code",
   "execution_count": 62,
   "metadata": {},
   "outputs": [],
   "source": [
    "import numpy as np\n",
    "import os\n",
    "import matplotlib.pyplot as plt\n",
    "import h5py\n",
    "from scipy import interpolate\n",
    "import pandas as pd\n",
    "import yaml\n",
    "import geopandas as gp\n",
    "import time\n",
    "import pandas as pd\n",
    "from geopy.distance import great_circle\n",
    "import folium\n",
    "import h5py\n",
    "from scipy.signal import butter, lfilter\n",
    "\n",
    "from scipy.spatial import ConvexHull\n",
    "from scipy.interpolate import griddata\n",
    "from shapely.geometry import Point, Polygon\n",
    "import csv"
   ]
  },
  {
   "cell_type": "code",
   "execution_count": 63,
   "metadata": {},
   "outputs": [],
   "source": [
    "import sys\n",
    "sys.path.append(r'../tools_F-J/')\n",
    "from toollib_standard import maplib\n",
    "from toollib_standard import mathlib\n",
    "from toollib_standard import filelib\n",
    "from toollib_standard import stacklib\n",
    "from toollib_standard import plotlib"
   ]
  },
  {
   "cell_type": "code",
   "execution_count": 64,
   "metadata": {},
   "outputs": [],
   "source": [
    "flag_project = 1\n",
    "\n",
    "if flag_project == 0:\n",
    "    file_project = 'a-project.yml'\n",
    "elif flag_project == 1:\n",
    "    file_project = 'a-project_repar.yml'\n",
    "elif flag_project == 2:\n",
    "    file_project = 'a-project_voro.yml'\n",
    "    \n",
    "with open(file_project, 'r', encoding='utf-8') as f:\n",
    "    proj = yaml.load(f.read(), Loader=yaml.FullLoader)\n",
    "name_project = proj['name']\n",
    "#name_project = 'project_repartition_v4.0/output_repar_v9.5_01--10-16Hz/'"
   ]
  },
  {
   "cell_type": "code",
   "execution_count": 65,
   "metadata": {},
   "outputs": [
    {
     "name": "stdout",
     "output_type": "stream",
     "text": [
      "dir_CC_workspace:  ./\n",
      "dir_project_workspace:  ./\n",
      "dir_project:  ./project_repartition_v4.0/output_repar_v9.5_02--10-16Hz/\n"
     ]
    }
   ],
   "source": [
    "with open('0_config.yml', 'r', encoding='utf-8') as f:\n",
    "    dir_config = yaml.load(f.read(), Loader=yaml.FullLoader)\n",
    "dir_project_workspace = dir_config['dir_project_workspace']\n",
    "dir_CC_workspace = dir_config['dir_CC_workspace']\n",
    "print('dir_CC_workspace: ', dir_CC_workspace)\n",
    "print('dir_project_workspace: ', dir_project_workspace)\n",
    "dir_project = os.path.join(dir_project_workspace, name_project)\n",
    "print('dir_project: ', dir_project)"
   ]
  },
  {
   "cell_type": "code",
   "execution_count": 66,
   "metadata": {},
   "outputs": [],
   "source": [
    "filename = dir_project+'Basic_info.yml'\n",
    "with open(filename, 'r', encoding='utf-8') as f:\n",
    "    info_basic = yaml.load(f.read(), Loader=yaml.FullLoader)\n",
    "filename_bi = dir_project+'Basic_info.npy'\n",
    "info_basic_bi = np.load(filename_bi, allow_pickle='TRUE').item()      # setting dictionary"
   ]
  },
  {
   "cell_type": "code",
   "execution_count": 67,
   "metadata": {},
   "outputs": [],
   "source": [
    "dir_CC = dir_CC_workspace + info_basic['rdir_CC']\n",
    "dir_ds = dir_project + info_basic['rdir_ds']\n",
    "dir_disp = dir_project + info_basic['rdir_disp_model']\n",
    "dir_partition = dir_project + info_basic['rdir_partition']\n",
    "dir_disp_pick = dir_project + info_basic['rdir_disp_pick']\n",
    "dir_inv = dir_project + info_basic['rdir_inv_BFGS']"
   ]
  },
  {
   "cell_type": "code",
   "execution_count": 68,
   "metadata": {},
   "outputs": [],
   "source": [
    "dir_surf = dir_project + info_basic['rdir_image'] + 'paper_tomo/surf/'\n",
    "dir_surf_input = dir_surf + 'input/'\n",
    "dir_surf_grid = dir_surf + 'grid/'\n",
    "dir_surf_output = dir_surf + 'output/'\n",
    "dir_origin = dir_project + info_basic['rdir_image'] + 'paper_tomo/origin/'\n",
    "dir_origin_input = dir_origin + 'input/'   \n",
    "dir_origin_output = dir_origin + 'output/'\n",
    "if not os.path.exists(dir_surf):\n",
    "    os.makedirs(dir_surf)\n",
    "if not os.path.exists(dir_surf_input):\n",
    "    os.makedirs(dir_surf_input)\n",
    "if not os.path.exists(dir_surf_grid):\n",
    "    os.makedirs(dir_surf_grid)\n",
    "if not os.path.exists(dir_surf_output):\n",
    "    os.makedirs(dir_surf_output)\n",
    "if not os.path.exists(dir_origin):\n",
    "    os.makedirs(dir_origin) \n",
    "if not os.path.exists(dir_origin_input):\n",
    "    os.makedirs(dir_origin_input)\n",
    "if not os.path.exists(dir_origin_output):\n",
    "    os.makedirs(dir_origin_output)"
   ]
  },
  {
   "cell_type": "code",
   "execution_count": 69,
   "metadata": {},
   "outputs": [],
   "source": [
    "key_subworks = info_basic['key_subworks']"
   ]
  },
  {
   "cell_type": "code",
   "execution_count": 70,
   "metadata": {},
   "outputs": [],
   "source": [
    "stalistname_all = info_basic['stalistname_all']\n",
    "stainfo = pd.read_excel(stalistname_all)\n",
    "stalist_all = stainfo['Station'].tolist() \n",
    "lat_stations_all =  stainfo['latitude'].tolist() \n",
    "lon_stations_all =  stainfo['longitude'].tolist() \n",
    "elevations_all =  stainfo['elevation'].tolist()"
   ]
  },
  {
   "cell_type": "code",
   "execution_count": 71,
   "metadata": {},
   "outputs": [],
   "source": [
    "stations_partition = {}\n",
    "lat_stations_partition = {}\n",
    "lon_stations_partition = {}\n",
    "lat_centroid_partition = []\n",
    "lon_centroid_partition = []\n",
    "for key in info_basic['key_subworks']:\n",
    "    filepath = dir_partition + str(key) + '.txt'\n",
    "    stations_this, lat_stations_this, lon_stations_this = np.loadtxt(filepath, dtype='str' , unpack=True)\n",
    "    stations_partition[key] = stations_this\n",
    "    lat_stations_partition[key] = lat_stations_this.astype(float)\n",
    "    lon_stations_partition[key] = lon_stations_this.astype(float)\n",
    "    lat_centroid_partition.append(np.mean(lat_stations_this.astype(float)))\n",
    "    lon_centroid_partition.append(np.mean(lon_stations_this.astype(float)))"
   ]
  },
  {
   "cell_type": "code",
   "execution_count": 81,
   "metadata": {},
   "outputs": [],
   "source": [
    "# all stations\n",
    "file = dir_project + 'stations_all_trans.txt'\n",
    "stations, x_stations_all, y_stations_all = np.loadtxt(file, dtype='str' , unpack=True)\n",
    "x_stations_all = x_stations_all.astype(float)\n",
    "y_stations_all = y_stations_all.astype(float)"
   ]
  },
  {
   "cell_type": "code",
   "execution_count": 80,
   "metadata": {},
   "outputs": [],
   "source": [
    "inter_file = dir_inv + 'vs_inter.npz'\n",
    "inter = np.load(inter_file, allow_pickle=True)\n",
    "vs_fund = inter['vs_fund']\n",
    "vs = inter['vs']\n",
    "x_inter_in = inter['x']\n",
    "y_inter_in = inter['y']\n",
    "lon_inter_in = inter['lon']\n",
    "lat_inter_in = inter['lat']\n",
    "z = inter['depth']\n",
    "dz = inter['dz']\n",
    "N = inter['N']"
   ]
  },
  {
   "cell_type": "markdown",
   "metadata": {},
   "source": [
    "### Generate csv for stalist"
   ]
  },
  {
   "cell_type": "code",
   "execution_count": 83,
   "metadata": {},
   "outputs": [],
   "source": [
    "headers = ['stations','longitude','latitude','elevation','x','y']\n",
    "filename = dir_surf_input + 'stations.csv'\n",
    "with open(filename,'w',newline='') as f:\n",
    "    f_csv = csv.writer(f)\n",
    "    f_csv.writerow(headers)\n",
    "    for i in range(len(stalist_all)):\n",
    "        f_csv.writerow([stalist_all[i],lon_stations_all[i],lat_stations_all[i],elevations_all[i],x_stations_all[i],y_stations_all[i]])"
   ]
  },
  {
   "cell_type": "code",
   "execution_count": 14,
   "metadata": {},
   "outputs": [],
   "source": [
    "headers = ['partition','longitude','latitude']\n",
    "filename = dir_surf_input + 'partition.csv'\n",
    "with open(filename,'w',newline='') as f:\n",
    "    f_csv = csv.writer(f)\n",
    "    f_csv.writerow(headers)\n",
    "    for i in range(len(lon_centroid_partition)):\n",
    "        f_csv.writerow([key_subworks[i],lon_centroid_partition[i],lat_centroid_partition[i]])"
   ]
  },
  {
   "cell_type": "code",
   "execution_count": 15,
   "metadata": {},
   "outputs": [],
   "source": [
    "for i in range(N):\n",
    "    depth = i*dz\n",
    "    headers = ['x','y','longitude','latitude','depth','vs','vs_fund']\n",
    "    filename = dir_surf_input + 'vs_'+str(depth)+'.csv'\n",
    "    with open(filename,'w',newline='') as f:\n",
    "        f_csv = csv.writer(f)\n",
    "        f_csv.writerow(headers)\n",
    "        for j in range(len(lon_inter_in)):\n",
    "            f_csv.writerow([x_inter_in[j],y_inter_in[j],lon_inter_in[j],lat_inter_in[j],depth,vs[i,j],vs_fund[i,j]])"
   ]
  },
  {
   "cell_type": "markdown",
   "metadata": {},
   "source": [
    "### Phase"
   ]
  },
  {
   "cell_type": "code",
   "execution_count": 16,
   "metadata": {},
   "outputs": [],
   "source": [
    "f_list = [4,8,15]\n",
    "phase = {}\n",
    "for f in f_list:\n",
    "    phase[f] = []\n",
    "for key in info_basic['key_subworks']:\n",
    "    disp = np.loadtxt(dir_disp + 'disp_model_'+key+'.txt')\n",
    "    disp = disp[disp[:,2] == 0]\n",
    "    for f in f_list:\n",
    "        phase[f].append(disp[disp[:,0]==f][0][1])"
   ]
  },
  {
   "cell_type": "code",
   "execution_count": 17,
   "metadata": {},
   "outputs": [],
   "source": [
    "headers = ['longitude','latitude','4Hz','8Hz','15Hz']\n",
    "filename = dir_surf_input + 'phase.csv'\n",
    "with open(filename,'w',newline='') as f:\n",
    "    f_csv = csv.writer(f)\n",
    "    f_csv.writerow(headers)\n",
    "    for i in range(len(lon_centroid_partition)):\n",
    "        f_csv.writerow([lon_centroid_partition[i],lat_centroid_partition[i],phase[4][i],phase[8][i],phase[15][i]])"
   ]
  },
  {
   "cell_type": "markdown",
   "metadata": {},
   "source": [
    "### Faults"
   ]
  },
  {
   "cell_type": "code",
   "execution_count": 18,
   "metadata": {},
   "outputs": [],
   "source": [
    "# fault surface trace\n",
    "faults = np.load(dir_project +'clark_faults_trans.npy', allow_pickle='TRUE').item()\n",
    "fault_infer = np.load(dir_project +'clark_fault_inferred_trans.npy', allow_pickle='TRUE').item()"
   ]
  },
  {
   "cell_type": "code",
   "execution_count": 19,
   "metadata": {},
   "outputs": [],
   "source": [
    "for i in range(len(faults)):\n",
    "    headers = ['longitude','latitude']\n",
    "    filename = dir_surf_input + 'fault_'+str(i)+'.csv'\n",
    "    # 插值\n",
    "    with open(filename,'w',newline='') as f:\n",
    "        f_csv = csv.writer(f)\n",
    "        f_csv.writerow(headers)\n",
    "        for k in range(len(faults['clark'+str(i+1)]['x'])):\n",
    "            f_csv.writerow([faults['clark'+str(i+1)]['x'][k],faults['clark'+str(i+1)]['y'][k]])"
   ]
  },
  {
   "cell_type": "code",
   "execution_count": 20,
   "metadata": {},
   "outputs": [],
   "source": [
    "headers = ['longitude','latitude']\n",
    "filename = dir_surf_input + 'fault_infer.csv'\n",
    "with open(filename,'w',newline='') as f:\n",
    "    f_csv = csv.writer(f)\n",
    "    f_csv.writerow(headers)\n",
    "    for i in range(len(fault_infer['x'])):\n",
    "        f_csv.writerow([fault_infer['x'][i],fault_infer['y'][i]])"
   ]
  },
  {
   "cell_type": "markdown",
   "metadata": {},
   "source": [
    "### Faults 3D"
   ]
  },
  {
   "cell_type": "code",
   "execution_count": 21,
   "metadata": {},
   "outputs": [],
   "source": [
    "for i in range(len(faults)):\n",
    "    headers = ['x','y','z']\n",
    "    filename = dir_origin_input + 'fault3d_'+str(i)+'.csv'\n",
    "    with open(filename,'w',newline='') as f:\n",
    "        f_csv = csv.writer(f)\n",
    "        f_csv.writerow(headers)\n",
    "        for k in range(len(faults['clark'+str(i+1)]['x'])):\n",
    "            if faults['clark'+str(i+1)]['y'][k] >= -15 and faults['clark'+str(i+1)]['y'][k] <= 620: \n",
    "                f_csv.writerow([faults['clark'+str(i+1)]['x'][k],faults['clark'+str(i+1)]['y'][k],0])"
   ]
  },
  {
   "cell_type": "code",
   "execution_count": 22,
   "metadata": {},
   "outputs": [],
   "source": [
    "headers = ['x','y','z']\n",
    "filename = dir_origin_input + 'fault3d_infer.csv'\n",
    "with open(filename,'w',newline='') as f:\n",
    "    f_csv = csv.writer(f)\n",
    "    f_csv.writerow(headers)\n",
    "    for i in range(len(fault_infer['x'])):\n",
    "        f_csv.writerow([fault_infer['x'][i],fault_infer['y'][i],0])"
   ]
  },
  {
   "cell_type": "markdown",
   "metadata": {},
   "source": [
    "### Vs Verticle"
   ]
  },
  {
   "cell_type": "code",
   "execution_count": 23,
   "metadata": {},
   "outputs": [],
   "source": [
    "inter_file = dir_inv + 'vs_inter_verti.npz'\n",
    "inter = np.load(inter_file, allow_pickle=True)"
   ]
  },
  {
   "cell_type": "code",
   "execution_count": 24,
   "metadata": {},
   "outputs": [],
   "source": [
    "x_inter_verti = inter['x'].tolist()\n",
    "y_inter_verti = inter['y'].tolist()\n",
    "vs_verti = inter['vs'].tolist()\n",
    "vs_fund_verti = inter['vs_fund'].tolist()"
   ]
  },
  {
   "cell_type": "code",
   "execution_count": 25,
   "metadata": {},
   "outputs": [],
   "source": [
    "z = np.arange(0,21) * dz\n",
    "for trace in vs_verti.keys():\n",
    "    x = x_inter_verti[trace]\n",
    "    headers = ['x','y','z','vs','vs_fund']\n",
    "    filename = dir_origin_input + 'shallow_vs_verti_trace-'+str(trace)+'.csv'\n",
    "    with open(filename,'w',newline='') as f:\n",
    "        f_csv = csv.writer(f)\n",
    "        f_csv.writerow(headers)\n",
    "        for i in range(len(x)):\n",
    "            for k in range(len(z)):\n",
    "                f_csv.writerow([x[i],y_inter_verti[trace][0],z[k],vs_verti[trace][k][i],vs_fund_verti[trace][k][i]])"
   ]
  },
  {
   "cell_type": "markdown",
   "metadata": {},
   "source": [
    "### Density"
   ]
  },
  {
   "cell_type": "code",
   "execution_count": 58,
   "metadata": {},
   "outputs": [],
   "source": [
    "dense_partition_file = dir_project + 'density_partitions.npz'\n",
    "dense_target_file = dir_project + 'density_targets.npz'\n",
    "dense_partition = np.load(dense_partition_file, allow_pickle=True)\n",
    "dense_target = np.load(dense_target_file, allow_pickle=True)"
   ]
  },
  {
   "cell_type": "code",
   "execution_count": 59,
   "metadata": {},
   "outputs": [],
   "source": [
    "x = dense_partition['x']\n",
    "y = dense_partition['y']\n",
    "density_partition = dense_partition['density']\n",
    "density_target = dense_target['density']"
   ]
  },
  {
   "cell_type": "code",
   "execution_count": 60,
   "metadata": {},
   "outputs": [],
   "source": [
    "headers = ['x','y','density']\n",
    "filename_partition = dir_surf_input + 'density_partition.csv'\n",
    "filename_target = dir_surf_input + 'density_target.csv'\n",
    "with open(filename_partition,'w',newline='') as f:\n",
    "    f_csv = csv.writer(f)\n",
    "    f_csv.writerow(headers)\n",
    "    for i in range(len(x)):\n",
    "        f_csv.writerow([x[i],y[i],density_partition[i]])\n",
    "with open(filename_target,'w',newline='') as f:\n",
    "    f_csv = csv.writer(f)\n",
    "    f_csv.writerow(headers)\n",
    "    for i in range(len(x)):\n",
    "        f_csv.writerow([x[i],y[i],density_target[i]])"
   ]
  }
 ],
 "metadata": {
  "kernelspec": {
   "display_name": "ccfj",
   "language": "python",
   "name": "python3"
  },
  "language_info": {
   "codemirror_mode": {
    "name": "ipython",
    "version": 3
   },
   "file_extension": ".py",
   "mimetype": "text/x-python",
   "name": "python",
   "nbconvert_exporter": "python",
   "pygments_lexer": "ipython3",
   "version": "3.9.18"
  }
 },
 "nbformat": 4,
 "nbformat_minor": 2
}
