{
 "cells": [
  {
   "cell_type": "code",
   "execution_count": 178,
   "metadata": {},
   "outputs": [],
   "source": [
    "import numpy as np\n",
    "import os\n",
    "import matplotlib.pyplot as plt\n",
    "import h5py\n",
    "from scipy import interpolate\n",
    "import pandas as pd\n",
    "import yaml\n",
    "import geopandas as gp\n",
    "import time\n",
    "import pandas as pd\n",
    "from geopy.distance import great_circle\n",
    "import folium\n",
    "import h5py\n",
    "from scipy.signal import butter, lfilter\n",
    "\n",
    "from scipy.spatial import ConvexHull\n",
    "from scipy.interpolate import griddata\n",
    "from shapely.geometry import Point, Polygon\n",
    "import csv\n",
    "import math"
   ]
  },
  {
   "cell_type": "code",
   "execution_count": 179,
   "metadata": {},
   "outputs": [],
   "source": [
    "import sys\n",
    "sys.path.append(r'../tools_F-J/')\n",
    "from toollib_standard import maplib\n",
    "from toollib_standard import mathlib\n",
    "from toollib_standard import filelib\n",
    "from toollib_standard import stacklib\n",
    "from toollib_standard import plotlib"
   ]
  },
  {
   "cell_type": "code",
   "execution_count": 180,
   "metadata": {},
   "outputs": [],
   "source": [
    "flag_project = 1\n",
    "\n",
    "if flag_project == 0:\n",
    "    file_project = 'a-project.yml'\n",
    "elif flag_project == 1:\n",
    "    file_project = 'a-project_repar.yml'\n",
    "elif flag_project == 2:\n",
    "    file_project = 'a-project_voro.yml'\n",
    "    \n",
    "with open(file_project, 'r', encoding='utf-8') as f:\n",
    "    proj = yaml.load(f.read(), Loader=yaml.FullLoader)\n",
    "name_project = proj['name']\n",
    "#name_project = 'project_repartition_v4.0/output_repar_v9.5_01--10-16Hz/'"
   ]
  },
  {
   "cell_type": "code",
   "execution_count": 181,
   "metadata": {},
   "outputs": [
    {
     "name": "stdout",
     "output_type": "stream",
     "text": [
      "dir_CC_workspace:  ./\n",
      "dir_project_workspace:  ./\n",
      "dir_project:  ./project_repartition_v4.0/output_repar_v9.5_02--10-16Hz/\n"
     ]
    }
   ],
   "source": [
    "with open('0_config.yml', 'r', encoding='utf-8') as f:\n",
    "    dir_config = yaml.load(f.read(), Loader=yaml.FullLoader)\n",
    "dir_project_workspace = dir_config['dir_project_workspace']\n",
    "dir_CC_workspace = dir_config['dir_CC_workspace']\n",
    "print('dir_CC_workspace: ', dir_CC_workspace)\n",
    "print('dir_project_workspace: ', dir_project_workspace)\n",
    "dir_project = os.path.join(dir_project_workspace, name_project)\n",
    "print('dir_project: ', dir_project)"
   ]
  },
  {
   "cell_type": "code",
   "execution_count": 182,
   "metadata": {},
   "outputs": [],
   "source": [
    "filename = dir_project+'Basic_info.yml'\n",
    "with open(filename, 'r', encoding='utf-8') as f:\n",
    "    info_basic = yaml.load(f.read(), Loader=yaml.FullLoader)\n",
    "filename_bi = dir_project+'Basic_info.npy'\n",
    "info_basic_bi = np.load(filename_bi, allow_pickle='TRUE').item()      # setting dictionary"
   ]
  },
  {
   "cell_type": "code",
   "execution_count": 183,
   "metadata": {},
   "outputs": [],
   "source": [
    "dir_CC = dir_CC_workspace + info_basic['rdir_CC']\n",
    "dir_ds = dir_project + info_basic['rdir_ds']\n",
    "dir_disp = dir_project + info_basic['rdir_disp_model']\n",
    "dir_partition = dir_project + info_basic['rdir_partition']\n",
    "dir_disp_pick = dir_project + info_basic['rdir_disp_pick']\n",
    "dir_inv = dir_project + info_basic['rdir_inv_BFGS']"
   ]
  },
  {
   "cell_type": "code",
   "execution_count": 184,
   "metadata": {},
   "outputs": [],
   "source": [
    "dir_surf = dir_project + info_basic['rdir_image'] + 'paper_tomo/surf/'\n",
    "dir_surf_input = dir_surf + 'input/'\n",
    "dir_surf_grid = dir_surf + 'grid/'\n",
    "dir_surf_output = dir_surf + 'output/'\n",
    "dir_origin = dir_project + info_basic['rdir_image'] + 'paper_tomo/origin/'\n",
    "dir_origin_input = dir_origin + 'input/'   \n",
    "dir_origin_output = dir_origin + 'output/'\n",
    "if not os.path.exists(dir_surf):\n",
    "    os.makedirs(dir_surf)\n",
    "if not os.path.exists(dir_surf_input):\n",
    "    os.makedirs(dir_surf_input)\n",
    "if not os.path.exists(dir_surf_grid):\n",
    "    os.makedirs(dir_surf_grid)\n",
    "if not os.path.exists(dir_surf_output):\n",
    "    os.makedirs(dir_surf_output)\n",
    "if not os.path.exists(dir_origin):\n",
    "    os.makedirs(dir_origin) \n",
    "if not os.path.exists(dir_origin_input):\n",
    "    os.makedirs(dir_origin_input)\n",
    "if not os.path.exists(dir_origin_output):\n",
    "    os.makedirs(dir_origin_output)"
   ]
  },
  {
   "cell_type": "code",
   "execution_count": 185,
   "metadata": {},
   "outputs": [],
   "source": [
    "key_subworks = info_basic['key_subworks']"
   ]
  },
  {
   "cell_type": "code",
   "execution_count": 186,
   "metadata": {},
   "outputs": [],
   "source": [
    "stalistname_all = info_basic['stalistname_all']\n",
    "stainfo = pd.read_excel(stalistname_all)\n",
    "stalist_all = stainfo['Station'].tolist() \n",
    "lat_stations_all =  stainfo['latitude'].tolist() \n",
    "lon_stations_all =  stainfo['longitude'].tolist() \n",
    "elevations_all =  stainfo['elevation'].tolist()"
   ]
  },
  {
   "cell_type": "code",
   "execution_count": 187,
   "metadata": {},
   "outputs": [],
   "source": [
    "stations_partition = {}\n",
    "lat_stations_partition = {}\n",
    "lon_stations_partition = {}\n",
    "lat_centroid_partition = []\n",
    "lon_centroid_partition = []\n",
    "for key in info_basic['key_subworks']:\n",
    "    filepath = dir_partition + str(key) + '.txt'\n",
    "    stations_this, lat_stations_this, lon_stations_this = np.loadtxt(filepath, dtype='str' , unpack=True)\n",
    "    stations_partition[key] = stations_this\n",
    "    lat_stations_partition[key] = lat_stations_this.astype(float)\n",
    "    lon_stations_partition[key] = lon_stations_this.astype(float)\n",
    "    lat_centroid_partition.append(np.mean(lat_stations_this.astype(float)))\n",
    "    lon_centroid_partition.append(np.mean(lon_stations_this.astype(float)))"
   ]
  },
  {
   "cell_type": "code",
   "execution_count": 188,
   "metadata": {},
   "outputs": [],
   "source": [
    "# all stations\n",
    "file = dir_project + 'stations_all_trans.txt'\n",
    "stations, x_stations_all, y_stations_all = np.loadtxt(file, dtype='str' , unpack=True)\n",
    "x_stations_all = x_stations_all.astype(float)\n",
    "y_stations_all = y_stations_all.astype(float)"
   ]
  },
  {
   "cell_type": "code",
   "execution_count": 189,
   "metadata": {},
   "outputs": [],
   "source": [
    "inter_file = dir_inv + 'vs_inter.npz'\n",
    "inter = np.load(inter_file, allow_pickle=True)\n",
    "vs_fund = inter['vs_fund']\n",
    "vs = inter['vs']\n",
    "x_inter_in = inter['x']\n",
    "y_inter_in = inter['y']\n",
    "lon_inter_in = inter['lon']\n",
    "lat_inter_in = inter['lat']\n",
    "z = inter['depth']\n",
    "dz = inter['dz']\n",
    "N = inter['N']"
   ]
  },
  {
   "cell_type": "markdown",
   "metadata": {},
   "source": [
    "### Generate csv for stalist"
   ]
  },
  {
   "cell_type": "code",
   "execution_count": 190,
   "metadata": {},
   "outputs": [],
   "source": [
    "headers = ['stations','longitude','latitude','elevation','x','y']\n",
    "filename = dir_surf_input + 'stations.csv'\n",
    "with open(filename,'w',newline='') as f:\n",
    "    f_csv = csv.writer(f)\n",
    "    f_csv.writerow(headers)\n",
    "    for i in range(len(stalist_all)):\n",
    "        f_csv.writerow([stalist_all[i],lon_stations_all[i],lat_stations_all[i],elevations_all[i],x_stations_all[i],y_stations_all[i]])"
   ]
  },
  {
   "cell_type": "code",
   "execution_count": 191,
   "metadata": {},
   "outputs": [],
   "source": [
    "headers = ['partition','longitude','latitude']\n",
    "filename = dir_surf_input + 'partition.csv'\n",
    "with open(filename,'w',newline='') as f:\n",
    "    f_csv = csv.writer(f)\n",
    "    f_csv.writerow(headers)\n",
    "    for i in range(len(lon_centroid_partition)):\n",
    "        f_csv.writerow([key_subworks[i],lon_centroid_partition[i],lat_centroid_partition[i]])"
   ]
  },
  {
   "cell_type": "code",
   "execution_count": 192,
   "metadata": {},
   "outputs": [],
   "source": [
    "for i in range(N):\n",
    "    depth = i*dz\n",
    "    headers = ['x','y','longitude','latitude','depth','vs','vs_fund']\n",
    "    filename = dir_surf_input + 'vs_'+str(depth)+'.csv'\n",
    "    with open(filename,'w',newline='') as f:\n",
    "        f_csv = csv.writer(f)\n",
    "        f_csv.writerow(headers)\n",
    "        for j in range(len(lon_inter_in)):\n",
    "            f_csv.writerow([x_inter_in[j],y_inter_in[j],lon_inter_in[j],lat_inter_in[j],depth,vs[i,j],vs_fund[i,j]])"
   ]
  },
  {
   "cell_type": "markdown",
   "metadata": {},
   "source": [
    "### Phase"
   ]
  },
  {
   "cell_type": "code",
   "execution_count": 193,
   "metadata": {},
   "outputs": [],
   "source": [
    "f_list = [4,8,15]\n",
    "phase = {}\n",
    "for f in f_list:\n",
    "    phase[f] = []\n",
    "for key in info_basic['key_subworks']:\n",
    "    disp = np.loadtxt(dir_disp + 'disp_model_'+key+'.txt')\n",
    "    disp = disp[disp[:,2] == 0]\n",
    "    for f in f_list:\n",
    "        phase[f].append(disp[disp[:,0]==f][0][1])"
   ]
  },
  {
   "cell_type": "code",
   "execution_count": 194,
   "metadata": {},
   "outputs": [],
   "source": [
    "headers = ['longitude','latitude','4Hz','8Hz','15Hz']\n",
    "filename = dir_surf_input + 'phase.csv'\n",
    "with open(filename,'w',newline='') as f:\n",
    "    f_csv = csv.writer(f)\n",
    "    f_csv.writerow(headers)\n",
    "    for i in range(len(lon_centroid_partition)):\n",
    "        f_csv.writerow([lon_centroid_partition[i],lat_centroid_partition[i],phase[4][i],phase[8][i],phase[15][i]])"
   ]
  },
  {
   "cell_type": "markdown",
   "metadata": {},
   "source": [
    "### Faults (lon-lat)"
   ]
  },
  {
   "cell_type": "code",
   "execution_count": 195,
   "metadata": {},
   "outputs": [],
   "source": [
    "faults = np.load('clark_faults.npy', allow_pickle='TRUE').item()\n",
    "\n",
    "name_ref, lat_fault_infer, lon_fault_infer = np.loadtxt('clark_fault_inferred.txt',dtype='str' , unpack=True,delimiter=',')\n",
    "lon_fault_infer = lon_fault_infer.astype(float)\n",
    "lat_fault_infer = lat_fault_infer.astype(float)\n",
    "\n",
    "lat_fault_wade = {}\n",
    "lon_fault_wade = {}\n",
    "for i in range(1,5):\n",
    "    name_ref, lat_fault_wade[i], lon_fault_wade[i] = np.loadtxt('clark_fault_wade'+str(i)+'.txt',dtype='str' , unpack=True,delimiter=',')\n",
    "    lon_fault_wade[i] = lon_fault_wade[i].astype(float)\n",
    "    lat_fault_wade[i] = lat_fault_wade[i].astype(float)"
   ]
  },
  {
   "cell_type": "code",
   "execution_count": 196,
   "metadata": {},
   "outputs": [],
   "source": [
    "for i in range(len(faults)):\n",
    "    headers = ['longitude','latitude']\n",
    "    filename = dir_surf_input + 'fault-latlon_'+str(i+1)+'.csv'\n",
    "    # 插值\n",
    "    with open(filename,'w',newline='') as f:\n",
    "        f_csv = csv.writer(f)\n",
    "        f_csv.writerow(headers)\n",
    "        for k in range(len(faults['clark'+str(i+1)]['lon'])):\n",
    "            f_csv.writerow([faults['clark'+str(i+1)]['lon'][k],faults['clark'+str(i+1)]['lat'][k]])"
   ]
  },
  {
   "cell_type": "code",
   "execution_count": 197,
   "metadata": {},
   "outputs": [],
   "source": [
    "headers = ['longitude','latitude']\n",
    "filename = dir_surf_input + 'fault-latlon_infer.csv'\n",
    "with open(filename,'w',newline='') as f:\n",
    "    f_csv = csv.writer(f)\n",
    "    f_csv.writerow(headers)\n",
    "    for i in range(len(lon_fault_infer)):\n",
    "        f_csv.writerow([lon_fault_infer[i],lat_fault_infer[i]])"
   ]
  },
  {
   "cell_type": "code",
   "execution_count": 198,
   "metadata": {},
   "outputs": [],
   "source": [
    "for i in range(1,5):\n",
    "    headers = ['longitude','latitude']\n",
    "    filename = dir_surf_input + 'fault-wade-latlon_'+str(i+1)+'.csv'\n",
    "    with open(filename,'w',newline='') as f:\n",
    "        f_csv = csv.writer(f)\n",
    "        f_csv.writerow(headers)\n",
    "        for k in range(len(lon_fault_wade[i])):\n",
    "            f_csv.writerow([lon_fault_wade[i][k],lat_fault_wade[i][k]])"
   ]
  },
  {
   "cell_type": "markdown",
   "metadata": {},
   "source": [
    "### Faults (x-y)"
   ]
  },
  {
   "cell_type": "code",
   "execution_count": 199,
   "metadata": {},
   "outputs": [],
   "source": [
    "# fault surface trace\n",
    "faults = np.load(dir_project +'clark_faults_trans.npy', allow_pickle='TRUE').item()\n",
    "fault_infer = np.load(dir_project +'clark_fault_inferred_trans.npy', allow_pickle='TRUE').item()\n",
    "faults_wade = np.load(dir_project +'clark_faults_wade_trans.npy', allow_pickle='TRUE').item()"
   ]
  },
  {
   "cell_type": "code",
   "execution_count": 200,
   "metadata": {},
   "outputs": [],
   "source": [
    "x_faults = {}\n",
    "y_faults = {}\n",
    "for i in range(len(faults)):\n",
    "    x_faults['clark'+str(i+1)] = faults['clark'+str(i+1)]['x']\n",
    "    y_faults['clark'+str(i+1)] = faults['clark'+str(i+1)]['y']"
   ]
  },
  {
   "cell_type": "code",
   "execution_count": 201,
   "metadata": {},
   "outputs": [],
   "source": [
    "for i in range(len(faults)):\n",
    "    headers = ['longitude','latitude']\n",
    "    filename = dir_surf_input + 'fault_'+str(i)+'.csv'\n",
    "    # 插值\n",
    "    with open(filename,'w',newline='') as f:\n",
    "        f_csv = csv.writer(f)\n",
    "        f_csv.writerow(headers)\n",
    "        for k in range(len(faults['clark'+str(i+1)]['x'])):\n",
    "            f_csv.writerow([faults['clark'+str(i+1)]['x'][k],faults['clark'+str(i+1)]['y'][k]])"
   ]
  },
  {
   "cell_type": "code",
   "execution_count": 202,
   "metadata": {},
   "outputs": [],
   "source": [
    "headers = ['longitude','latitude']\n",
    "filename = dir_surf_input + 'fault_infer.csv'\n",
    "with open(filename,'w',newline='') as f:\n",
    "    f_csv = csv.writer(f)\n",
    "    f_csv.writerow(headers)\n",
    "    for i in range(len(fault_infer['x'])):\n",
    "        f_csv.writerow([fault_infer['x'][i],fault_infer['y'][i]])"
   ]
  },
  {
   "cell_type": "markdown",
   "metadata": {},
   "source": [
    "### Faults 3D"
   ]
  },
  {
   "cell_type": "code",
   "execution_count": 203,
   "metadata": {},
   "outputs": [],
   "source": [
    "for i in range(len(faults)):\n",
    "    headers = ['x','y','z']\n",
    "    filename = dir_origin_input + 'fault3d_'+str(i)+'.csv'\n",
    "    with open(filename,'w',newline='') as f:\n",
    "        f_csv = csv.writer(f)\n",
    "        f_csv.writerow(headers)\n",
    "        for k in range(len(faults['clark'+str(i+1)]['x'])):\n",
    "            if faults['clark'+str(i+1)]['y'][k] >= -15 and faults['clark'+str(i+1)]['y'][k] <= 620: \n",
    "                f_csv.writerow([faults['clark'+str(i+1)]['x'][k],faults['clark'+str(i+1)]['y'][k],0])"
   ]
  },
  {
   "cell_type": "code",
   "execution_count": 204,
   "metadata": {},
   "outputs": [],
   "source": [
    "headers = ['x','y','z']\n",
    "filename = dir_origin_input + 'fault3d_infer.csv'\n",
    "with open(filename,'w',newline='') as f:\n",
    "    f_csv = csv.writer(f)\n",
    "    f_csv.writerow(headers)\n",
    "    for i in range(len(fault_infer['x'])):\n",
    "        f_csv.writerow([fault_infer['x'][i],fault_infer['y'][i],0])"
   ]
  },
  {
   "cell_type": "markdown",
   "metadata": {},
   "source": [
    "### Vs Verticle"
   ]
  },
  {
   "cell_type": "code",
   "execution_count": 205,
   "metadata": {},
   "outputs": [],
   "source": [
    "inter_file = dir_inv + 'vs_inter_verti.npz'\n",
    "inter = np.load(inter_file, allow_pickle=True)"
   ]
  },
  {
   "cell_type": "code",
   "execution_count": 206,
   "metadata": {},
   "outputs": [],
   "source": [
    "x_inter_verti = inter['x'].tolist()\n",
    "y_inter_verti = inter['y'].tolist()\n",
    "vs_verti = inter['vs'].tolist()\n",
    "vs_fund_verti = inter['vs_fund'].tolist()\n",
    "vs_verti_pert = inter['vs_pert'].tolist()\n",
    "vs_fund_verti_pert = inter['vs_fund_pert'].tolist()"
   ]
  },
  {
   "cell_type": "code",
   "execution_count": 207,
   "metadata": {},
   "outputs": [],
   "source": [
    "z = np.arange(0,31) * dz\n",
    "for trace in vs_verti.keys():\n",
    "    x = x_inter_verti[trace]\n",
    "    headers = ['x','y','z','vs','vs_fund']\n",
    "    filename = dir_origin_input + 'shallow-150_vs_verti_trace-'+str(trace)+'.csv'\n",
    "    with open(filename,'w',newline='') as f:\n",
    "        f_csv = csv.writer(f)\n",
    "        f_csv.writerow(headers)\n",
    "        for i in range(len(x)):\n",
    "            for k in range(len(z)):\n",
    "                f_csv.writerow([x[i],y_inter_verti[trace][0],z[k],vs_verti[trace][k][i],vs_fund_verti[trace][k][i]])\n",
    "for trace in vs_verti.keys():\n",
    "    x = x_inter_verti[trace]\n",
    "    headers = ['x','y','z','vs','vs_fund']\n",
    "    filename = dir_origin_input + 'shallow-150_vs_vertipert_trace-'+str(trace)+'.csv'\n",
    "    with open(filename,'w',newline='') as f:\n",
    "        f_csv = csv.writer(f)\n",
    "        f_csv.writerow(headers)\n",
    "        for i in range(len(x)):\n",
    "            for k in range(len(z)):\n",
    "                f_csv.writerow([x[i],y_inter_verti[trace][0],z[k],vs_verti_pert[trace][k][i],vs_fund_verti_pert[trace][k][i]])"
   ]
  },
  {
   "cell_type": "code",
   "execution_count": 208,
   "metadata": {},
   "outputs": [],
   "source": [
    "z = np.arange(0,21) * dz\n",
    "for trace in vs_verti.keys():\n",
    "    x = x_inter_verti[trace]\n",
    "    headers = ['x','y','z','vs','vs_fund']\n",
    "    filename = dir_origin_input + 'shallow-100_vs_verti_trace-'+str(trace)+'.csv'\n",
    "    with open(filename,'w',newline='') as f:\n",
    "        f_csv = csv.writer(f)\n",
    "        f_csv.writerow(headers)\n",
    "        for i in range(len(x)):\n",
    "            for k in range(len(z)):\n",
    "                f_csv.writerow([x[i],y_inter_verti[trace][0],z[k],vs_verti[trace][k][i],vs_fund_verti[trace][k][i]])\n",
    "for trace in vs_verti.keys():\n",
    "    x = x_inter_verti[trace]\n",
    "    headers = ['x','y','z','vs','vs_fund']\n",
    "    filename = dir_origin_input + 'shallow-100_vs_vertipert_trace-'+str(trace)+'.csv'\n",
    "    with open(filename,'w',newline='') as f:\n",
    "        f_csv = csv.writer(f)\n",
    "        f_csv.writerow(headers)\n",
    "        for i in range(len(x)):\n",
    "            for k in range(len(z)):\n",
    "                f_csv.writerow([x[i],y_inter_verti[trace][0],z[k],vs_verti_pert[trace][k][i],vs_fund_verti_pert[trace][k][i]])"
   ]
  },
  {
   "cell_type": "code",
   "execution_count": 209,
   "metadata": {},
   "outputs": [],
   "source": [
    "z = np.arange(0,41) * dz\n",
    "for trace in vs_verti.keys():\n",
    "    x = x_inter_verti[trace]\n",
    "    headers = ['x','y','z','vs','vs_fund']\n",
    "    filename = dir_origin_input + 'shallow-200_vs_verti_trace-'+str(trace)+'.csv'\n",
    "    with open(filename,'w',newline='') as f:\n",
    "        f_csv = csv.writer(f)\n",
    "        f_csv.writerow(headers)\n",
    "        for i in range(len(x)):\n",
    "            for k in range(len(z)):\n",
    "                f_csv.writerow([x[i],y_inter_verti[trace][0],z[k],vs_verti[trace][k][i],vs_fund_verti[trace][k][i]])\n",
    "for trace in vs_verti.keys():\n",
    "    x = x_inter_verti[trace]\n",
    "    headers = ['x','y','z','vs','vs_fund']\n",
    "    filename = dir_origin_input + 'shallow-200_vs_vertipert_trace-'+str(trace)+'.csv'\n",
    "    with open(filename,'w',newline='') as f:\n",
    "        f_csv = csv.writer(f)\n",
    "        f_csv.writerow(headers)\n",
    "        for i in range(len(x)):\n",
    "            for k in range(len(z)):\n",
    "                f_csv.writerow([x[i],y_inter_verti[trace][0],z[k],vs_verti_pert[trace][k][i],vs_fund_verti_pert[trace][k][i]])"
   ]
  },
  {
   "cell_type": "code",
   "execution_count": 210,
   "metadata": {},
   "outputs": [],
   "source": [
    "z = np.arange(0,37) * dz\n",
    "for trace in vs_verti.keys():\n",
    "    x = x_inter_verti[trace]\n",
    "    headers = ['x','y','z','vs','vs_fund']\n",
    "    filename = dir_origin_input + 'shallow-180_vs_verti_trace-'+str(trace)+'.csv'\n",
    "    with open(filename,'w',newline='') as f:\n",
    "        f_csv = csv.writer(f)\n",
    "        f_csv.writerow(headers)\n",
    "        for i in range(len(x)):\n",
    "            for k in range(len(z)):\n",
    "                f_csv.writerow([x[i],y_inter_verti[trace][0],z[k],vs_verti[trace][k][i],vs_fund_verti[trace][k][i]])\n",
    "for trace in vs_verti.keys():\n",
    "    x = x_inter_verti[trace]\n",
    "    headers = ['x','y','z','vs','vs_fund']\n",
    "    filename = dir_origin_input + 'shallow-180_vs_vertipert_trace-'+str(trace)+'.csv'\n",
    "    with open(filename,'w',newline='') as f:\n",
    "        f_csv = csv.writer(f)\n",
    "        f_csv.writerow(headers)\n",
    "        for i in range(len(x)):\n",
    "            for k in range(len(z)):\n",
    "                f_csv.writerow([x[i],y_inter_verti[trace][0],z[k],vs_verti_pert[trace][k][i],vs_fund_verti_pert[trace][k][i]])"
   ]
  },
  {
   "cell_type": "markdown",
   "metadata": {},
   "source": [
    "### Faults inter"
   ]
  },
  {
   "cell_type": "code",
   "execution_count": 211,
   "metadata": {},
   "outputs": [],
   "source": [
    "# 判断两条线段是否相交\n",
    "def cross_product(p1, p2, p3):\n",
    "    \"\"\"计算叉积\"\"\"\n",
    "    return (p2[0] - p1[0]) * (p3[1] - p1[1]) - (p2[1] - p1[1]) * (p3[0] - p1[0])\n",
    "\n",
    "def on_segment(p1, p2, p3):\n",
    "    \"\"\"检查p2是否在以p1和p3为端点的线段上\"\"\"\n",
    "    print('on segement')\n",
    "    return min(p1[0], p3[0]) <= p2[0] <= max(p1[0], p3[0]) and min(p1[1], p3[1]) <= p2[1] <= max(p1[1], p3[1])\n",
    "\n",
    "def segments_intersect(p1, q1, p2, q2):\n",
    "    \"\"\"检查由(p1, q1)和(p2, q2)形成的两条线段是否相交\"\"\"\n",
    "    # 检查线段的方向\n",
    "    o1 = cross_product(p1, q1, p2)\n",
    "    o2 = cross_product(p1, q1, q2)\n",
    "    o3 = cross_product(p2, q2, p1)\n",
    "    o4 = cross_product(p2, q2, q1)\n",
    "\n",
    "    # 如果两条线段的方向相异，则它们相交\n",
    "    if o1 * o2 < 0 and o3 * o4 < 0:\n",
    "        return True\n",
    "    # 特殊情况处理\n",
    "    if o1 == 0 and on_segment(p1, p2, q1):\n",
    "        return True\n",
    "    if o2 == 0 and on_segment(p1, q2, q1):\n",
    "        return True\n",
    "    if o3 == 0 and on_segment(p2, p1, q2):\n",
    "        return True\n",
    "    if o4 == 0 and on_segment(p2, q1, q2):\n",
    "        return True\n",
    "\n",
    "    return False\n",
    "\n",
    "def plot_segments(p1, q1, p2, q2):\n",
    "    plt.plot([p1[0], q1[0]], [p1[1], q1[1]], color='blue', label='Segment 1')\n",
    "    plt.plot([p2[0], q2[0]], [p2[1], q2[1]], color='red', label='Segment 2')\n",
    "\n",
    "    intersection = segments_intersect(p1, q1, p2, q2)\n",
    "\n",
    "    plt.xlabel('X')\n",
    "    plt.ylabel('Y')\n",
    "    plt.title('Segments Intersection')\n",
    "    plt.legend()\n",
    "    plt.grid(True)\n",
    "    plt.axis('equal')\n",
    "    plt.show()"
   ]
  },
  {
   "cell_type": "code",
   "execution_count": 212,
   "metadata": {},
   "outputs": [],
   "source": [
    "def find_fault_inter(tag_trace,faults):\n",
    "    global traces\n",
    "    global x_inter_verti\n",
    "    global y_inter_verti\n",
    "\n",
    "    x_faults = {}\n",
    "    y_faults = {}\n",
    "    for key in faults.keys():\n",
    "        x_faults[key] = faults[key]['x']\n",
    "        y_faults[key] = faults[key]['y']\n",
    "\n",
    "    x_fault_inter = []\n",
    "    y_fault_inter = []\n",
    "    for key in faults.keys():\n",
    "        x_fault = x_faults[key]\n",
    "        y_fault = y_faults[key]\n",
    "        index_fault_start = np.argmin(y_fault)\n",
    "        index_fault_end = np.argmax(y_fault)\n",
    "        p1 = [x_fault[index_fault_start], y_fault[index_fault_start]]\n",
    "        q1 = [x_fault[index_fault_end], y_fault[index_fault_end]]\n",
    "        index_trace_start = np.argmin(x_inter_verti[tag_trace])\n",
    "        index_trace_end = np.argmax(x_inter_verti[tag_trace])\n",
    "        p2 = [x_inter_verti[tag_trace][index_trace_start], y_inter_verti[tag_trace][index_trace_start]]\n",
    "        q2 = [x_inter_verti[tag_trace][index_trace_end], y_inter_verti[tag_trace][index_trace_end]]\n",
    "        \n",
    "        if segments_intersect(p1, q1, p2, q2):\n",
    "            # find the nearest fault point\n",
    "            x_trace = x_inter_verti[tag_trace]\n",
    "            y_trace = y_inter_verti[tag_trace]\n",
    "\n",
    "            min_distance = float('inf')\n",
    "\n",
    "            for lon1, lat1 in zip(x_fault, y_fault):\n",
    "                for lon2, lat2 in zip(x_trace, y_trace):\n",
    "                    distance = math.sqrt((lon1 - lon2)**2 + (lat1 - lat2)**2)\n",
    "                    if distance < min_distance:\n",
    "                        min_distance = distance\n",
    "                        x_fault_near = lon1\n",
    "                        y_fault_near = lat1\n",
    "                        x_trace_near = lon2\n",
    "                        y_trace_near = lat2\n",
    "                    \n",
    "            x_fault_inter.append( x_trace_near )\n",
    "            y_fault_inter.append( y_trace_near )\n",
    "        \n",
    "        \"\"\"\n",
    "        intersection = find_lines_inter(p1, q1, p2, q2)\n",
    "        if intersection is not None:\n",
    "            lon_fault_inter.append(intersection[0])\n",
    "            lat_fault_inter.append(intersection[1])\n",
    "        \"\"\"\n",
    "    return x_fault_inter, y_fault_inter"
   ]
  },
  {
   "cell_type": "code",
   "execution_count": 213,
   "metadata": {},
   "outputs": [],
   "source": [
    "for trace in vs_verti.keys():\n",
    "    x_fault, y_fault = find_fault_inter(trace,faults)\n",
    "    headers = ['x','z']\n",
    "    filename = dir_origin_input + 'fault_inter_trace-'+str(trace)+'.csv'\n",
    "    with open(filename,'w',newline='') as f:\n",
    "        f_csv = csv.writer(f)\n",
    "        f_csv.writerow(headers)\n",
    "        f_csv.writerows(zip(x_fault, -1*np.ones_like(x_fault)))"
   ]
  },
  {
   "cell_type": "code",
   "execution_count": 214,
   "metadata": {},
   "outputs": [],
   "source": [
    "for trace in vs_verti.keys():\n",
    "    x_fault_wade, y_fault_wade = find_fault_inter(trace,faults_wade)\n",
    "    headers = ['x','z']\n",
    "    filename = dir_origin_input + 'fault-wade_inter_trace-'+str(trace)+'.csv'\n",
    "    with open(filename,'w',newline='') as f:\n",
    "        f_csv = csv.writer(f)\n",
    "        f_csv.writerow(headers)\n",
    "        f_csv.writerows(zip(x_fault_wade, -1*np.ones_like(x_fault_wade)))"
   ]
  },
  {
   "cell_type": "markdown",
   "metadata": {},
   "source": [
    "### Density"
   ]
  },
  {
   "cell_type": "code",
   "execution_count": 215,
   "metadata": {},
   "outputs": [],
   "source": [
    "dense_partition_file = dir_project + 'density_partitions.npz'\n",
    "dense_target_file = dir_project + 'density_targets.npz'\n",
    "dense_partition = np.load(dense_partition_file, allow_pickle=True)\n",
    "dense_target = np.load(dense_target_file, allow_pickle=True)"
   ]
  },
  {
   "cell_type": "code",
   "execution_count": 216,
   "metadata": {},
   "outputs": [],
   "source": [
    "x = dense_partition['x']\n",
    "y = dense_partition['y']\n",
    "density_partition = dense_partition['density']\n",
    "density_target = dense_target['density']"
   ]
  },
  {
   "cell_type": "code",
   "execution_count": 217,
   "metadata": {},
   "outputs": [],
   "source": [
    "headers = ['x','y','density']\n",
    "filename_partition = dir_surf_input + 'density_partition.csv'\n",
    "filename_target = dir_surf_input + 'density_target.csv'\n",
    "with open(filename_partition,'w',newline='') as f:\n",
    "    f_csv = csv.writer(f)\n",
    "    f_csv.writerow(headers)\n",
    "    for i in range(len(x)):\n",
    "        f_csv.writerow([x[i],y[i],density_partition[i]])\n",
    "with open(filename_target,'w',newline='') as f:\n",
    "    f_csv = csv.writer(f)\n",
    "    f_csv.writerow(headers)\n",
    "    for i in range(len(x)):\n",
    "        f_csv.writerow([x[i],y[i],density_target[i]])"
   ]
  }
 ],
 "metadata": {
  "kernelspec": {
   "display_name": "ccfj",
   "language": "python",
   "name": "python3"
  },
  "language_info": {
   "codemirror_mode": {
    "name": "ipython",
    "version": 3
   },
   "file_extension": ".py",
   "mimetype": "text/x-python",
   "name": "python",
   "nbconvert_exporter": "python",
   "pygments_lexer": "ipython3",
   "version": "3.9.18"
  }
 },
 "nbformat": 4,
 "nbformat_minor": 2
}
