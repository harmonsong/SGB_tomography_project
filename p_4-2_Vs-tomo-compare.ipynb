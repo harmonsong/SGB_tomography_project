{
 "cells": [
  {
   "cell_type": "code",
   "execution_count": null,
   "metadata": {},
   "outputs": [],
   "source": [
    "import numpy as np\n",
    "import matplotlib.pyplot as plt\n",
    "import pandas as pd\n",
    "import openpyxl\n",
    "from openpyxl import load_workbook\n",
    "import os\n",
    "from ccfj import GetStationPairs\n",
    "from geopy.distance import great_circle\n",
    "from scipy.interpolate import interp1d\n",
    "from scipy.interpolate import griddata\n",
    "#import shapefile\n",
    "import geopandas as gp\n",
    "import yaml\n",
    "import math\n",
    "#from pykml import parser\n"
   ]
  },
  {
   "cell_type": "code",
   "execution_count": null,
   "metadata": {},
   "outputs": [],
   "source": [
    "import sys\n",
    "sys.path.append(r'../tools_F-J/')\n",
    "from toollib_standard import plotlib"
   ]
  },
  {
   "cell_type": "code",
   "execution_count": null,
   "metadata": {},
   "outputs": [],
   "source": [
    "flag_project = 1 # 0--regular; 1--repartrition"
   ]
  },
  {
   "cell_type": "code",
   "execution_count": null,
   "metadata": {},
   "outputs": [],
   "source": [
    "if flag_project == 0:\n",
    "    with open('a-project.yml', 'r', encoding='utf-8') as f:\n",
    "        proj = yaml.load(f.read(), Loader=yaml.FullLoader)\n",
    "    name_project = proj['name']\n",
    "    #name_project = 'project/output_FJSJ_16-01/'               # Harmon server\n",
    "elif flag_project == 1:\n",
    "    with open('a-project_repar.yml', 'r', encoding='utf-8') as f:\n",
    "        proj = yaml.load(f.read(), Loader=yaml.FullLoader)\n",
    "    name_project = proj['name']\n",
    "    #name_project = 'project_repartrition/repartrition_01-03/'               # Harmon server\n"
   ]
  },
  {
   "cell_type": "code",
   "execution_count": null,
   "metadata": {},
   "outputs": [],
   "source": [
    "with open('0_config.yml', 'r', encoding='utf-8') as f:\n",
    "    dir_config = yaml.load(f.read(), Loader=yaml.FullLoader)\n",
    "dir_project_workspace = dir_config['dir_project_workspace']\n",
    "dir_CC_workspace = dir_config['dir_CC_workspace']\n",
    "print('dir_CC_workspace: ', dir_CC_workspace)\n",
    "print('dir_project_workspace: ', dir_project_workspace)\n",
    "dir_project = os.path.join(dir_project_workspace, name_project)\n",
    "print('dir_project: ', dir_project)"
   ]
  },
  {
   "cell_type": "code",
   "execution_count": null,
   "metadata": {},
   "outputs": [],
   "source": [
    "flag_fund = 1"
   ]
  },
  {
   "cell_type": "code",
   "execution_count": null,
   "metadata": {},
   "outputs": [],
   "source": [
    "filename = dir_project+'Basic_info.yml'\n",
    "with open(filename, 'r', encoding='utf-8') as f:\n",
    "    info_basic = yaml.load(f.read(), Loader=yaml.FullLoader)\n",
    "filename_bi = dir_project+'Basic_info.npy'\n",
    "info_basic_bi = np.load(filename_bi, allow_pickle='TRUE').item()      # setting dictionary\n"
   ]
  },
  {
   "cell_type": "code",
   "execution_count": null,
   "metadata": {},
   "outputs": [],
   "source": [
    "dir_model_fund = dir_project + info_basic['dir_model_fund']\n",
    "dir_model = dir_project + info_basic['dir_model']\n",
    "dir_image = dir_project + info_basic['dir_image']+'Vs_compare/'\n",
    "if not os.path.exists(dir_image):\n",
    "    os.makedirs(dir_image)\n",
    "dir_inv_dispernet = dir_project + info_basic['dir_inv_dispernet']\n",
    "dir_partition = dir_project + info_basic['dir_partition']\n",
    "key_subworks = info_basic['key_subworks']\n",
    "M = len(key_subworks)\n",
    "key_subworks"
   ]
  },
  {
   "cell_type": "code",
   "execution_count": null,
   "metadata": {},
   "outputs": [],
   "source": [
    "struc = {}\n",
    "struc_fund = {}\n",
    "flag = 0\n",
    "for key_subwork in key_subworks:\n",
    "    file_model = dir_model + 'model_'+key_subwork+'.txt'\n",
    "    file_model_fund = dir_model_fund + 'model_'+key_subwork+'.txt'\n",
    "    model = np.loadtxt(file_model)\n",
    "    model_fund = np.loadtxt(file_model_fund)\n",
    "    struc[key_subwork] = {}\n",
    "    struc[key_subwork]['layer'] = model[:, 0]\n",
    "    struc[key_subwork]['z'] = model[:, 1]\n",
    "    struc[key_subwork]['rho'] = model[:, 2]\n",
    "    struc[key_subwork]['vs'] = model[:, 3]\n",
    "    struc[key_subwork]['vp'] = model[:, 4]\n",
    "    struc[key_subwork]['std'] = model[:, 5]\n",
    "    struc_fund[key_subwork] = {}\n",
    "    struc_fund[key_subwork]['layer'] = model_fund[:, 0]\n",
    "    struc_fund[key_subwork]['z'] = model_fund[:, 1]\n",
    "    struc_fund[key_subwork]['rho'] = model_fund[:, 2]\n",
    "    struc_fund[key_subwork]['vs'] = model_fund[:, 3]\n",
    "    struc_fund[key_subwork]['vp'] = model_fund[:, 4]\n",
    "    struc_fund[key_subwork]['std'] = model_fund[:, 5]\n",
    "    flag += 1\n",
    "    print('Read structure model: %s (%d/%d)' % (key_subwork, flag, M))"
   ]
  },
  {
   "cell_type": "code",
   "execution_count": null,
   "metadata": {},
   "outputs": [],
   "source": [
    "stalistname_all = info_basic['stalistname_all']\n",
    "stainfo = pd.read_excel(stalistname_all)\n",
    "nsta_all = len(stainfo.iloc[:,0])\n",
    "StationPairs_all = GetStationPairs(nsta_all)\n",
    "nPairs_all = int(len(StationPairs_all)/2)\n",
    "stalist_all = stainfo['Station'].tolist() \n",
    "lat_stations_all =  stainfo['latitude'].tolist() \n",
    "lon_stations_all =  stainfo['longitude'].tolist() "
   ]
  },
  {
   "cell_type": "code",
   "execution_count": null,
   "metadata": {},
   "outputs": [],
   "source": [
    "stations_partition = {}\n",
    "lat_stations_partition = {}\n",
    "lon_stations_partition = {}\n",
    "lat_centroid_partition = []\n",
    "lon_centroid_partition = []\n",
    "num_stations = []\n",
    "for key in key_subworks:\n",
    "    filepath = dir_partition + str(key) + '.txt'\n",
    "    stations_this, lat_stations_this, lon_stations_this = np.loadtxt(filepath, dtype='str' , unpack=True)\n",
    "    stations_partition[key] = stations_this\n",
    "    lat_stations_partition[key] = lat_stations_this.astype(float)\n",
    "    lon_stations_partition[key] = lon_stations_this.astype(float)\n",
    "    num_stations.append(len(stations_this))\n",
    "    lat_centroid_partition.append(np.mean(lat_stations_this.astype(float)))\n",
    "    lon_centroid_partition.append(np.mean(lon_stations_this.astype(float)))"
   ]
  },
  {
   "cell_type": "markdown",
   "metadata": {},
   "source": [
    "### Plot horizontal of certain depth"
   ]
  },
  {
   "cell_type": "code",
   "execution_count": null,
   "metadata": {},
   "outputs": [],
   "source": [
    "faults = np.load('clark_faults.npy', allow_pickle='TRUE').item()"
   ]
  },
  {
   "cell_type": "code",
   "execution_count": null,
   "metadata": {},
   "outputs": [],
   "source": [
    "#%%capture\n",
    "M = 100\n",
    "dz = 5\n",
    "N = 60\n",
    "\n",
    "\n",
    "d = -27.3\n",
    "\n",
    "for i in range(N):\n",
    "\n",
    "    vs_all = []\n",
    "    vs_all_fund = []\n",
    "    for key_subwork in key_subworks:\n",
    "        vs_all.append(struc[key_subwork]['vs'][i])\n",
    "        vs_all_fund.append(struc_fund[key_subwork]['vs'][i])\n",
    "\n",
    "\n",
    "    if i*dz <= 30:\n",
    "        c_min = 0.3\n",
    "        c_max = 0.6\n",
    "    elif i*dz <= 60:\n",
    "        c_min = 0.5\n",
    "        c_max = 0.8\n",
    "    elif i*dz < 120:\n",
    "        c_min = 0.7\n",
    "        c_max = 1.1\n",
    "    else:\n",
    "        c_min = 0.8\n",
    "        c_max = 1.3 \n",
    "\n",
    "    fig = plt.figure(figsize=(20, 14))\n",
    "    ax = fig.add_subplot(221)\n",
    "    ax.scatter(lon_stations_all, lat_stations_all,marker='.',color='k')\n",
    "    #ax.set_xticks([])  #去掉横坐标值\n",
    "    #ax.set_yticks([])  #去掉纵坐标值\n",
    "    ax.set_xlabel('Longitude')\n",
    "    ax.set_ylabel('Latitude')\n",
    "    ax.set_title('Vs at depth '+str((i+1)*dz)+' Fundamental')\n",
    "    flag_add = 0.0005\n",
    "    ax.set_xlim([min(lon_stations_all)-flag_add, max(lon_stations_all)+flag_add])\n",
    "    ax.set_ylim([min(lat_stations_all)-flag_add, max(lat_stations_all)+flag_add])\n",
    "    for j in range(len(faults)):\n",
    "        ax.plot(faults['clark'+str(j+1)]['lon'], faults['clark'+str(j+1)]['lat'], 'k')\n",
    "    im = ax.scatter(lon_centroid_partition,lat_centroid_partition,c=vs_all_fund,cmap='gist_rainbow')\n",
    "    plt.colorbar(im)\n",
    "    ax.set_xticks([])  #去掉横坐标值\n",
    "    ax.set_yticks([])  #去掉纵坐标值\n",
    "\n",
    "    ax = fig.add_subplot(222)\n",
    "    ax.scatter(lon_stations_all, lat_stations_all,marker='.',color='k')\n",
    "    #ax.set_xticks([])  #去掉横坐标值\n",
    "    #ax.set_yticks([])  #去掉纵坐标值\n",
    "    ax.set_xlabel('Longitude')\n",
    "    ax.set_ylabel('Latitude')\n",
    "    ax.set_title('Vs at depth '+str((i+1)*dz)+' Overtones')\n",
    "    flag_add = 0.0005\n",
    "    ax.set_xlim([min(lon_stations_all)-flag_add, max(lon_stations_all)+flag_add])\n",
    "    ax.set_ylim([min(lat_stations_all)-flag_add, max(lat_stations_all)+flag_add])\n",
    "    for j in range(len(faults)):\n",
    "        ax.plot(faults['clark'+str(j+1)]['lon'], faults['clark'+str(j+1)]['lat'], 'k')\n",
    "    im = ax.scatter(lon_centroid_partition,lat_centroid_partition,c=vs_all,cmap='gist_rainbow')\n",
    "    plt.colorbar(im)\n",
    "    ax.set_xticks([])  #去掉横坐标值\n",
    "    ax.set_yticks([])  #去掉纵坐标值\n",
    "\n",
    "    ax = fig.add_subplot(223)\n",
    "    ax.scatter(lon_stations_all, lat_stations_all,marker='.',color='k')\n",
    "    #ax.set_xticks([])  #去掉横坐标值\n",
    "    #ax.set_yticks([])  #去掉纵坐标值\n",
    "    ax.set_xlabel('Longitude')\n",
    "    ax.set_ylabel('Latitude')\n",
    "    ax.set_title('Vs at depth '+str((i+1)*dz)+' Fundamental')\n",
    "    flag_add = 0.0005\n",
    "    ax.set_xlim([min(lon_stations_all)-flag_add, max(lon_stations_all)+flag_add])\n",
    "    ax.set_ylim([min(lat_stations_all)-flag_add, max(lat_stations_all)+flag_add])\n",
    "    for j in range(len(faults)):\n",
    "        ax.plot(faults['clark'+str(j+1)]['lon'], faults['clark'+str(j+1)]['lat'], 'k')\n",
    "    im = ax.scatter(lon_centroid_partition,lat_centroid_partition,c=vs_all_fund,vmin = c_min, vmax=c_max,cmap='gist_rainbow')\n",
    "    plt.colorbar(im)\n",
    "    ax.set_xticks([])  #去掉横坐标值\n",
    "    ax.set_yticks([])  #去掉纵坐标值\n",
    "\n",
    "    ax = fig.add_subplot(224)\n",
    "    ax.scatter(lon_stations_all, lat_stations_all,marker='.',color='k')\n",
    "    #ax.set_xticks([])  #去掉横坐标值\n",
    "    #ax.set_yticks([])  #去掉纵坐标值\n",
    "    ax.set_xlabel('Longitude')\n",
    "    ax.set_ylabel('Latitude')\n",
    "    ax.set_title('Vs at depth '+str((i+1)*dz)+' Overtones')\n",
    "    flag_add = 0.0005\n",
    "    ax.set_xlim([min(lon_stations_all)-flag_add, max(lon_stations_all)+flag_add])\n",
    "    ax.set_ylim([min(lat_stations_all)-flag_add, max(lat_stations_all)+flag_add])\n",
    "    for j in range(len(faults)):\n",
    "        ax.plot(faults['clark'+str(j+1)]['lon'], faults['clark'+str(j+1)]['lat'], 'k')\n",
    "    im = ax.scatter(lon_centroid_partition,lat_centroid_partition,c=vs_all,vmin = c_min, vmax=c_max,cmap='gist_rainbow')\n",
    "    plt.colorbar(im)\n",
    "    ax.set_xticks([])  #去掉横坐标值\n",
    "    ax.set_yticks([])  #去掉纵坐标值\n",
    "\n",
    "    filename = dir_image + 'Vs_hori_profile_'+str((i+1)*dz)+'m_compare.png'\n",
    "    plt.savefig(filename,dpi=100)\n",
    "    plt.close()"
   ]
  }
 ],
 "metadata": {
  "kernelspec": {
   "display_name": "base",
   "language": "python",
   "name": "python3"
  },
  "language_info": {
   "codemirror_mode": {
    "name": "ipython",
    "version": 3
   },
   "file_extension": ".py",
   "mimetype": "text/x-python",
   "name": "python",
   "nbconvert_exporter": "python",
   "pygments_lexer": "ipython3",
   "version": "3.9.18"
  },
  "orig_nbformat": 4
 },
 "nbformat": 4,
 "nbformat_minor": 2
}
