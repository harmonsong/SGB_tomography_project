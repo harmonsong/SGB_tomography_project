{
 "cells": [
  {
   "cell_type": "code",
   "execution_count": 13,
   "metadata": {},
   "outputs": [],
   "source": [
    "import numpy as np\n",
    "import os\n",
    "import matplotlib.pyplot as plt\n",
    "import h5py\n",
    "from scipy import interpolate\n",
    "from ccfj import GetStationPairs\n",
    "import pandas as pd\n",
    "import yaml\n",
    "import geopandas as gp\n",
    "import openpyxl\n",
    "from openpyxl import load_workbook\n",
    "from concurrent.futures import ThreadPoolExecutor\n",
    "from scipy.interpolate import make_interp_spline"
   ]
  },
  {
   "cell_type": "code",
   "execution_count": 14,
   "metadata": {},
   "outputs": [],
   "source": [
    "flag_project = 1 # 0--regular ; 1--repartrition"
   ]
  },
  {
   "cell_type": "code",
   "execution_count": 15,
   "metadata": {},
   "outputs": [],
   "source": [
    "if flag_project == 0:\n",
    "    file_project = 'a-project.yml'\n",
    "    with open('a-project.yml', 'r', encoding='utf-8') as f:\n",
    "        proj = yaml.load(f.read(), Loader=yaml.FullLoader)\n",
    "    name_project = proj['name']\n",
    "    #name_project = 'project/output_FJSJ_16-01/'               # Harmon server\n",
    "elif flag_project == 1:\n",
    "    file_project = 'a-project_repar.yml'\n",
    "    with open('a-project_repar.yml', 'r', encoding='utf-8') as f:\n",
    "        proj = yaml.load(f.read(), Loader=yaml.FullLoader)\n",
    "    name_project = proj['name']\n",
    "    #name_project = 'project_repartrition/repartrition_01-03/'               # Harmon server\n"
   ]
  },
  {
   "cell_type": "code",
   "execution_count": 16,
   "metadata": {},
   "outputs": [
    {
     "name": "stdout",
     "output_type": "stream",
     "text": [
      "dir_CC_workspace:  /shdisk/rem2/Harmon/F-J/San/\n",
      "dir_project_workspace:  /shdisk/rem2/Harmon/F-J/San/\n",
      "dir_project:  /shdisk/rem2/Harmon/F-J/San/project_repartition_v3.0/output_repar_01-01/\n"
     ]
    }
   ],
   "source": [
    "with open('0_config.yml', 'r', encoding='utf-8') as f:\n",
    "    dir_config = yaml.load(f.read(), Loader=yaml.FullLoader)\n",
    "dir_project_workspace = dir_config['dir_project_workspace']\n",
    "dir_CC_workspace = dir_config['dir_CC_workspace']\n",
    "print('dir_CC_workspace: ', dir_CC_workspace)\n",
    "print('dir_project_workspace: ', dir_project_workspace)\n",
    "dir_project = os.path.join(dir_project_workspace, name_project)\n",
    "print('dir_project: ', dir_project)"
   ]
  },
  {
   "cell_type": "code",
   "execution_count": 17,
   "metadata": {},
   "outputs": [],
   "source": [
    "filename = dir_project+'Basic_info.yml'\n",
    "with open(filename, 'r', encoding='utf-8') as f:\n",
    "    info_basic = yaml.load(f.read(), Loader=yaml.FullLoader)\n",
    "filename_bi = dir_project+'Basic_info.npy'\n",
    "info_basic_bi = np.load(filename_bi, allow_pickle='TRUE').item()      # setting dictionary"
   ]
  },
  {
   "cell_type": "code",
   "execution_count": 18,
   "metadata": {},
   "outputs": [],
   "source": [
    "dir_disp_autopick = dir_project + info_basic['dir_disp']"
   ]
  },
  {
   "cell_type": "code",
   "execution_count": 19,
   "metadata": {},
   "outputs": [],
   "source": [
    "key_subworks = info_basic['key_subworks']\n",
    "key_subworks = info_basic['key_subworks'][600:]"
   ]
  },
  {
   "cell_type": "markdown",
   "metadata": {},
   "source": [
    "### create workspace for Dispernet"
   ]
  },
  {
   "cell_type": "code",
   "execution_count": 20,
   "metadata": {},
   "outputs": [],
   "source": [
    "info_basic['dir_inv_dispernet'] = 'inv_dispernet/'\n",
    "dir_inv = dir_project + info_basic['dir_inv_dispernet']\n",
    "if not os.path.exists(dir_inv):\n",
    "    os.makedirs(dir_inv)\n",
    "with open(dir_project+'Basic_info.yml', 'w', encoding='utf-8') as f:\n",
    "   yaml.dump(data=info_basic, stream=f, allow_unicode=True)"
   ]
  },
  {
   "cell_type": "code",
   "execution_count": 21,
   "metadata": {},
   "outputs": [],
   "source": [
    "dir_disp = dir_inv + 'data/'\n",
    "if not os.path.exists(dir_disp):\n",
    "    os.makedirs(dir_disp)"
   ]
  },
  {
   "cell_type": "markdown",
   "metadata": {},
   "source": [
    "### Autopick"
   ]
  },
  {
   "cell_type": "code",
   "execution_count": 22,
   "metadata": {},
   "outputs": [],
   "source": [
    "flag_f = [2,15]"
   ]
  },
  {
   "cell_type": "code",
   "execution_count": 23,
   "metadata": {},
   "outputs": [],
   "source": [
    "def transfer_autopick(key_subwork):\n",
    "    global dir_disp_autopick, dir_disp, flag_f\n",
    "    print(key_subwork)\n",
    "    ff_pick = np.loadtxt(dir_disp_autopick+'autopick_'+key_subwork+'.txt',delimiter=',')[:,0]\n",
    "    cc_pick = np.loadtxt(dir_disp_autopick+'autopick_'+key_subwork+'.txt',delimiter=',')[:,1]\n",
    "    f_start = flag_f[0]\n",
    "    f_end = flag_f[1]\n",
    "    ff_this = ff_pick[(ff_pick>=f_start) & (ff_pick<=f_end)]\n",
    "    cc_this = cc_pick[(ff_pick>=f_start) & (ff_pick<=f_end)]\n",
    "    mode = np.zeros(len(ff_this))\n",
    "    np.savetxt(dir_disp+'ds_'+key_subwork+'curve.txt',np.c_[ff_this,cc_this,mode], fmt='%.6f  %.6f  %i')"
   ]
  },
  {
   "cell_type": "code",
   "execution_count": 24,
   "metadata": {},
   "outputs": [
    {
     "name": "stdout",
     "output_type": "stream",
     "text": [
      "50-16--601\n",
      "51-16--602\n",
      "52-16--603\n",
      "53-16--604\n",
      "54-16--605\n",
      "07-17--606\n",
      "08-17--607\n",
      "09-17--608\n",
      "11-17--609\n",
      "12-17--610\n",
      "14-17--611\n"
     ]
    },
    {
     "name": "stdout",
     "output_type": "stream",
     "text": [
      "15-17--612\n",
      "16-17--613\n",
      "17-17--614\n",
      "18-17--615\n",
      "19-17--616\n",
      "20-17--617\n",
      "21-17--618\n",
      "22-17--619\n",
      "23-17--620\n",
      "24-17--621\n",
      "25-17--622\n",
      "26-17--623\n",
      "27-17--624\n",
      "28-17--625\n",
      "29-17--626\n",
      "30-17--627\n",
      "31-17--628\n",
      "33-17--629\n",
      "34-17--630\n",
      "35-17--631\n",
      "36-17--632\n",
      "37-17--633\n",
      "38-17--634\n",
      "40-17--635\n",
      "41-17--636\n",
      "42-17--637\n",
      "43-17--638\n",
      "44-17--639\n",
      "45-17--640\n",
      "46-17--641\n",
      "47-17--642\n",
      "48-17--643\n",
      "50-17--644\n",
      "51-17--645\n",
      "52-17--646\n",
      "53-17--647\n",
      "54-17--648\n",
      "07-18--649\n",
      "08-18--650\n",
      "09-18--651\n",
      "11-18--652\n",
      "12-18--653\n",
      "13-18--654\n",
      "15-18--655\n",
      "16-18--656\n",
      "17-18--657\n",
      "18-18--658\n",
      "19-18--659\n",
      "20-18--660\n",
      "21-18--661\n",
      "22-18--662\n",
      "24-18--663\n",
      "28-18--664\n",
      "29-18--665\n",
      "33-18--666\n",
      "34-18--667\n",
      "35-18--668\n",
      "36-18--669\n",
      "37-18--670\n",
      "38-18--671\n",
      "39-18--672\n",
      "40-18--673\n",
      "43-18--674\n",
      "44-18--675\n",
      "45-18--676\n",
      "46-18--677\n",
      "47-18--678\n",
      "49-18--679\n",
      "51-18--680\n",
      "52-18--681\n",
      "54-18--682\n"
     ]
    }
   ],
   "source": [
    "for key_subwork in key_subworks:\n",
    "    #print(key_subwork)\n",
    "    transfer_autopick(key_subwork)"
   ]
  },
  {
   "cell_type": "code",
   "execution_count": null,
   "metadata": {},
   "outputs": [],
   "source": []
  }
 ],
 "metadata": {
  "kernelspec": {
   "display_name": "ccfj",
   "language": "python",
   "name": "python3"
  },
  "language_info": {
   "codemirror_mode": {
    "name": "ipython",
    "version": 3
   },
   "file_extension": ".py",
   "mimetype": "text/x-python",
   "name": "python",
   "nbconvert_exporter": "python",
   "pygments_lexer": "ipython3",
   "version": "3.9.18"
  }
 },
 "nbformat": 4,
 "nbformat_minor": 2
}
