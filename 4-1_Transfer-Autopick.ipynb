{
 "cells": [
  {
   "cell_type": "code",
   "execution_count": 2,
   "metadata": {},
   "outputs": [],
   "source": [
    "import numpy as np\n",
    "import os\n",
    "import matplotlib.pyplot as plt\n",
    "import h5py\n",
    "from scipy import interpolate\n",
    "from ccfj import GetStationPairs\n",
    "import pandas as pd\n",
    "import yaml\n",
    "import geopandas as gp\n",
    "import openpyxl\n",
    "from openpyxl import load_workbook\n",
    "from concurrent.futures import ThreadPoolExecutor\n",
    "from scipy.interpolate import make_interp_spline"
   ]
  },
  {
   "cell_type": "code",
   "execution_count": 3,
   "metadata": {},
   "outputs": [],
   "source": [
    "flag_project = 1 # 0--regular ; 1--repartrition"
   ]
  },
  {
   "cell_type": "code",
   "execution_count": 4,
   "metadata": {},
   "outputs": [],
   "source": [
    "if flag_project == 0:\n",
    "    file_project = 'a-project.yml'\n",
    "    with open('a-project.yml', 'r', encoding='utf-8') as f:\n",
    "        proj = yaml.load(f.read(), Loader=yaml.FullLoader)\n",
    "    name_project = proj['name']\n",
    "    #name_project = 'project/output_FJSJ_16-01/'               # Harmon server\n",
    "elif flag_project == 1:\n",
    "    file_project = 'a-project_repar.yml'\n",
    "    with open('a-project_repar.yml', 'r', encoding='utf-8') as f:\n",
    "        proj = yaml.load(f.read(), Loader=yaml.FullLoader)\n",
    "    name_project = proj['name']\n",
    "    #name_project = 'project_repartrition/repartrition_01-03/'               # Harmon server\n"
   ]
  },
  {
   "cell_type": "code",
   "execution_count": 5,
   "metadata": {},
   "outputs": [
    {
     "name": "stdout",
     "output_type": "stream",
     "text": [
      "dir_CC_workspace:  /shdisk/rem2/Harmon/F-J/San/\n",
      "dir_project_workspace:  /shdisk/rem2/Harmon/F-J/San/\n",
      "dir_project:  /shdisk/rem2/Harmon/F-J/San/project_repartition_v3.0/output_repar_01-01/\n"
     ]
    }
   ],
   "source": [
    "with open('0_config.yml', 'r', encoding='utf-8') as f:\n",
    "    dir_config = yaml.load(f.read(), Loader=yaml.FullLoader)\n",
    "dir_project_workspace = dir_config['dir_project_workspace']\n",
    "dir_CC_workspace = dir_config['dir_CC_workspace']\n",
    "print('dir_CC_workspace: ', dir_CC_workspace)\n",
    "print('dir_project_workspace: ', dir_project_workspace)\n",
    "dir_project = os.path.join(dir_project_workspace, name_project)\n",
    "print('dir_project: ', dir_project)"
   ]
  },
  {
   "cell_type": "code",
   "execution_count": 6,
   "metadata": {},
   "outputs": [],
   "source": [
    "filename = dir_project+'Basic_info.yml'\n",
    "with open(filename, 'r', encoding='utf-8') as f:\n",
    "    info_basic = yaml.load(f.read(), Loader=yaml.FullLoader)\n",
    "filename_bi = dir_project+'Basic_info.npy'\n",
    "info_basic_bi = np.load(filename_bi, allow_pickle='TRUE').item()      # setting dictionary"
   ]
  },
  {
   "cell_type": "code",
   "execution_count": 7,
   "metadata": {},
   "outputs": [],
   "source": [
    "dir_disp_autopick = dir_project + info_basic['dir_disp']"
   ]
  },
  {
   "cell_type": "code",
   "execution_count": 8,
   "metadata": {},
   "outputs": [],
   "source": [
    "key_subworks = info_basic['key_subworks']\n",
    "key_subworks = info_basic['key_subworks'][600:]"
   ]
  },
  {
   "cell_type": "code",
   "execution_count": 9,
   "metadata": {},
   "outputs": [],
   "source": [
    "nums_repick =[127,137,231,232,366,384,411,412,456,466,467,489,501,502,503,504,507,508,515,516,519,528,530,532,534,544,545,538,546,573,578,579,581,582,589,591,592,593,597,603,604,616,617,634,635,636,637,640,661,662,664,665,667,668]\n",
    "key_subworks = []\n",
    "for num in nums_repick:\n",
    "    tag = str(num)\n",
    "    key_ds0 = [key_subwork for key_subwork in info_basic['key_subworks'] if tag == key_subwork[-len(str(tag)):]][0]\n",
    "    key_subworks.append(key_ds0)"
   ]
  },
  {
   "cell_type": "markdown",
   "metadata": {},
   "source": [
    "### create workspace for Dispernet"
   ]
  },
  {
   "cell_type": "code",
   "execution_count": 10,
   "metadata": {},
   "outputs": [],
   "source": [
    "info_basic['dir_inv_dispernet'] = 'inv_dispernet/'\n",
    "dir_inv = dir_project + info_basic['dir_inv_dispernet']\n",
    "if not os.path.exists(dir_inv):\n",
    "    os.makedirs(dir_inv)\n",
    "with open(dir_project+'Basic_info.yml', 'w', encoding='utf-8') as f:\n",
    "   yaml.dump(data=info_basic, stream=f, allow_unicode=True)"
   ]
  },
  {
   "cell_type": "code",
   "execution_count": 11,
   "metadata": {},
   "outputs": [],
   "source": [
    "dir_disp = dir_inv + 'data/'\n",
    "if not os.path.exists(dir_disp):\n",
    "    os.makedirs(dir_disp)"
   ]
  },
  {
   "cell_type": "markdown",
   "metadata": {},
   "source": [
    "### Autopick"
   ]
  },
  {
   "cell_type": "code",
   "execution_count": 12,
   "metadata": {},
   "outputs": [],
   "source": [
    "flag_f = [2,15]"
   ]
  },
  {
   "cell_type": "code",
   "execution_count": 13,
   "metadata": {},
   "outputs": [],
   "source": [
    "def transfer_autopick(key_subwork):\n",
    "    global dir_disp_autopick, dir_disp, flag_f\n",
    "    print(key_subwork)\n",
    "    ff_pick = np.loadtxt(dir_disp_autopick+'autopick_'+key_subwork+'.txt',delimiter=',')[:,0]\n",
    "    cc_pick = np.loadtxt(dir_disp_autopick+'autopick_'+key_subwork+'.txt',delimiter=',')[:,1]\n",
    "    f_start = flag_f[0]\n",
    "    f_end = flag_f[1]\n",
    "    ff_this = ff_pick[(ff_pick>=f_start) & (ff_pick<=f_end)]\n",
    "    cc_this = cc_pick[(ff_pick>=f_start) & (ff_pick<=f_end)]\n",
    "    mode = np.zeros(len(ff_this))\n",
    "    np.savetxt(dir_disp+'ds_'+key_subwork+'curve.txt',np.c_[ff_this,cc_this,mode], fmt='%.6f  %.6f  %i')"
   ]
  },
  {
   "cell_type": "code",
   "execution_count": 14,
   "metadata": {},
   "outputs": [
    {
     "name": "stdout",
     "output_type": "stream",
     "text": [
      "16-06--127\n",
      "26-06--137\n",
      "39-08--231\n",
      "40-08--232\n",
      "43-11--366\n",
      "13-12--384\n",
      "40-12--411\n",
      "42-12--412\n",
      "40-13--456\n",
      "50-13--466\n"
     ]
    },
    {
     "name": "stdout",
     "output_type": "stream",
     "text": [
      "51-13--467\n",
      "26-14--489\n",
      "38-14--501\n",
      "39-14--502\n",
      "40-14--503\n",
      "41-14--504\n",
      "44-14--507\n",
      "45-14--508\n",
      "53-14--515\n",
      "54-14--516\n",
      "11-15--519\n",
      "20-15--528\n",
      "22-15--530\n",
      "24-15--532\n",
      "26-15--534\n",
      "38-15--544\n",
      "39-15--545\n",
      "31-15--538\n",
      "40-15--546\n",
      "22-16--573\n",
      "27-16--578\n",
      "28-16--579\n",
      "30-16--581\n",
      "31-16--582\n",
      "38-16--589\n",
      "40-16--591\n",
      "41-16--592\n",
      "42-16--593\n",
      "46-16--597\n",
      "52-16--603\n",
      "53-16--604\n",
      "19-17--616\n",
      "20-17--617\n",
      "38-17--634\n",
      "40-17--635\n",
      "41-17--636\n",
      "42-17--637\n",
      "45-17--640\n",
      "21-18--661\n",
      "22-18--662\n",
      "28-18--664\n",
      "29-18--665\n",
      "34-18--667\n",
      "35-18--668\n"
     ]
    }
   ],
   "source": [
    "for key_subwork in key_subworks:\n",
    "    #print(key_subwork)\n",
    "    transfer_autopick(key_subwork)"
   ]
  },
  {
   "cell_type": "code",
   "execution_count": null,
   "metadata": {},
   "outputs": [],
   "source": []
  }
 ],
 "metadata": {
  "kernelspec": {
   "display_name": "ccfj",
   "language": "python",
   "name": "python3"
  },
  "language_info": {
   "codemirror_mode": {
    "name": "ipython",
    "version": 3
   },
   "file_extension": ".py",
   "mimetype": "text/x-python",
   "name": "python",
   "nbconvert_exporter": "python",
   "pygments_lexer": "ipython3",
   "version": "3.9.18"
  }
 },
 "nbformat": 4,
 "nbformat_minor": 2
}
