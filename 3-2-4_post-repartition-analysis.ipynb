{
 "cells": [
  {
   "cell_type": "code",
   "execution_count": null,
   "metadata": {},
   "outputs": [],
   "source": [
    "import numpy as np\n",
    "import os\n",
    "import matplotlib.pyplot as plt\n",
    "import h5py\n",
    "from scipy import interpolate\n",
    "#from ccfj import GetStationPairs\n",
    "import pandas as pd\n",
    "import yaml\n",
    "import geopandas as gp\n",
    "import openpyxl\n",
    "from openpyxl import load_workbook\n",
    "from concurrent.futures import ThreadPoolExecutor\n",
    "\n",
    "from scipy.interpolate import make_interp_spline\n",
    "from scipy.stats import ks_2samp\n",
    "from scipy.spatial import ConvexHull"
   ]
  },
  {
   "cell_type": "code",
   "execution_count": null,
   "metadata": {},
   "outputs": [],
   "source": [
    "import sys\n",
    "sys.path.append(r'../tools_F-J/')\n",
    "from toollib_standard import maplib\n",
    "from toollib_standard import mathlib\n",
    "from toollib_standard import filelib\n",
    "from toollib_standard import plotlib"
   ]
  },
  {
   "cell_type": "code",
   "execution_count": null,
   "metadata": {},
   "outputs": [],
   "source": [
    "with open('a-project_repar.yml', 'r', encoding='utf-8') as f:\n",
    "    proj = yaml.load(f.read(), Loader=yaml.FullLoader)\n",
    "name_project = proj['name']\n",
    "#name_project = 'project_repartrition/output_repar_03-01/'               # Harmon server\n",
    "name_project"
   ]
  },
  {
   "cell_type": "code",
   "execution_count": null,
   "metadata": {},
   "outputs": [],
   "source": [
    "with open('0_config.yml', 'r', encoding='utf-8') as f:\n",
    "    dir_config = yaml.load(f.read(), Loader=yaml.FullLoader)\n",
    "dir_project_workspace = dir_config['dir_project_workspace']\n",
    "dir_CC_workspace = dir_config['dir_CC_workspace']\n",
    "print('dir_CC_workspace: ', dir_CC_workspace)\n",
    "print('dir_project_workspace: ', dir_project_workspace)\n",
    "dir_project = os.path.join(dir_project_workspace, name_project)\n",
    "print('dir_project: ', dir_project)"
   ]
  },
  {
   "cell_type": "code",
   "execution_count": null,
   "metadata": {},
   "outputs": [],
   "source": [
    "filename = dir_project+'Basic_info.yml'\n",
    "with open(filename, 'r', encoding='utf-8') as f:\n",
    "    info_basic = yaml.load(f.read(), Loader=yaml.FullLoader)\n",
    "filename_bi = dir_project+'Basic_info.npy'\n",
    "info_basic_bi = np.load(filename_bi, allow_pickle='TRUE').item()      # setting dictionary"
   ]
  },
  {
   "cell_type": "code",
   "execution_count": null,
   "metadata": {},
   "outputs": [],
   "source": [
    "rdir_project_probes = info_basic['rdir_project_probes']\n",
    "rdir_project_targets = info_basic['rdir_project_targets']\n",
    "dir_project_probes = os.path.join(dir_project_workspace, rdir_project_probes)\n",
    "dir_project_targets = os.path.join(dir_project_workspace, rdir_project_targets)\n",
    "print('dir_project_probes: ', dir_project_probes)\n",
    "print('dir_project_targets: ', dir_project_targets)"
   ]
  },
  {
   "cell_type": "code",
   "execution_count": null,
   "metadata": {},
   "outputs": [],
   "source": [
    "filename = dir_project_probes+'Basic_info.yml'\n",
    "with open(filename, 'r', encoding='utf-8') as f:\n",
    "    info_basic_probes = yaml.load(f.read(), Loader=yaml.FullLoader)\n",
    "filename_bi = dir_project_probes+'Basic_info.npy'\n",
    "info_basic_bi_probes = np.load(filename_bi, allow_pickle='TRUE').item()      # setting dictionary\n",
    "\n",
    "filename = dir_project_targets+'Basic_info.yml'\n",
    "with open(filename, 'r', encoding='utf-8') as f:\n",
    "    info_basic_targets = yaml.load(f.read(), Loader=yaml.FullLoader)"
   ]
  },
  {
   "cell_type": "code",
   "execution_count": null,
   "metadata": {},
   "outputs": [],
   "source": [
    "probes = info_basic_probes['key_subworks']\n",
    "targets = info_basic_targets['key_subworks']\n",
    "key_subworks = info_basic['key_subworks']"
   ]
  },
  {
   "cell_type": "code",
   "execution_count": null,
   "metadata": {},
   "outputs": [],
   "source": [
    "stalistname_all = info_basic['stalistname_all']\n",
    "stainfo = pd.read_excel(stalistname_all)\n",
    "nsta_all = len(stainfo.iloc[:,0])\n",
    "StationPairs_all = mathlib.GetStationPairs(nsta_all)\n",
    "nPairs_all = int(len(StationPairs_all)/2)\n",
    "stalist_all = stainfo['Station'].tolist()\n",
    "lat_stations_all = stainfo['latitude'].tolist() \n",
    "lon_stations_all = stainfo['longitude'].tolist()"
   ]
  },
  {
   "cell_type": "code",
   "execution_count": null,
   "metadata": {},
   "outputs": [],
   "source": [
    "dir_partition = dir_project + info_basic['rdir_partition']\n",
    "dir_partition_probes = dir_project_probes + info_basic_probes['rdir_partition']\n",
    "dir_partition_targets = dir_project_targets + info_basic_targets['rdir_partition']\n",
    "dir_image = dir_project + info_basic['rdir_image'] + 'post_K-S_analysis/'\n",
    "if not os.path.exists(dir_image):\n",
    "    os.makedirs(dir_image)"
   ]
  },
  {
   "cell_type": "code",
   "execution_count": null,
   "metadata": {},
   "outputs": [],
   "source": [
    "stations_probes = {}\n",
    "lat_probes = {}\n",
    "lon_probes = {}\n",
    "for probe in probes:\n",
    "    filepath = dir_partition_probes + str(probe) + '.txt'\n",
    "    stations_this, lat_stations_this, lon_stations_this = np.loadtxt(filepath, dtype='str' , unpack=True)\n",
    "    stations_probes[probe] = stations_this\n",
    "    lat_probes[probe] = lat_stations_this.astype(float)\n",
    "    lon_probes[probe] = lon_stations_this.astype(float)\n",
    "\n",
    "stations_targets = {}\n",
    "lat_targets = {}\n",
    "lon_targets = {}\n",
    "for target in targets:\n",
    "    filepath = dir_partition_targets + str(target) + '.txt'\n",
    "    stations_this, lat_stations_this, lon_stations_this = np.loadtxt(filepath, dtype='str' , unpack=True)\n",
    "    stations_targets[target] = stations_this\n",
    "    lat_targets[target] = lat_stations_this.astype(float)\n",
    "    lon_targets[target] = lon_stations_this.astype(float)\n",
    "\n",
    "stations = {}\n",
    "lat = {}\n",
    "lon = {}\n",
    "for key in key_subworks:\n",
    "    filepath = dir_partition + str(key) + '.txt'\n",
    "    stations_this, lat_stations_this, lon_stations_this = np.loadtxt(filepath, dtype='str' , unpack=True)\n",
    "    stations[key] = stations_this\n",
    "    lat[key] = lat_stations_this.astype(float)\n",
    "    lon[key] = lon_stations_this.astype(float)"
   ]
  },
  {
   "cell_type": "code",
   "execution_count": null,
   "metadata": {},
   "outputs": [],
   "source": [
    "faults = np.load('clark_faults.npy', allow_pickle='TRUE').item()\n",
    "probe_accept_all = info_basic_bi['probe_accept']"
   ]
  },
  {
   "cell_type": "code",
   "execution_count": null,
   "metadata": {},
   "outputs": [],
   "source": [
    "# read disp data\n",
    "disp_all = {}\n",
    "ff_all = {}\n",
    "ds_probe_all = {}\n",
    "for probe in probes:\n",
    "    file_disp = dir_project_probes  + info_basic_probes['rdir_autopick'] + 'autopick_'+probe+'.txt'\n",
    "    disp_all[probe] = np.loadtxt(file_disp,delimiter=',')[:,1]\n",
    "    ff_all[probe] = np.loadtxt(file_disp,delimiter=',')[:,0]\n",
    "    file_ds = dir_project_probes  + info_basic_probes['rdir_ds'] + 'ds_'+probe+'.h5'\n",
    "    ds = h5py.File(file_ds,'r')\n",
    "    ds_probe_all[probe] = ds['ds_remove'][0]\n",
    "    ds.close()"
   ]
  },
  {
   "cell_type": "markdown",
   "metadata": {},
   "source": [
    "### Analysis"
   ]
  },
  {
   "cell_type": "code",
   "execution_count": null,
   "metadata": {},
   "outputs": [],
   "source": [
    "def new_target_comparison(key_subwork):\n",
    "    global c_lim\n",
    "    global probe_ref\n",
    "    target = key_subwork[key_subwork.find('--')+2:]\n",
    "    probes = info_basic_bi['probe'][key_subwork]\n",
    "    probes_accept = probe_accept_all[target]\n",
    "\n",
    "    # all stations\n",
    "    lat_stations_this = lat[key_subwork]\n",
    "    lon_stations_this = lon[key_subwork]\n",
    "\n",
    "    # probe stations\n",
    "    lat_stations_target = lat_targets[target]\n",
    "    lon_stations_target = lon_targets[target]\n",
    "\n",
    "    #plt.cla()\n",
    "    fig = plt.figure(figsize=(14,10),clear=True)\n",
    "    # partition comparison\n",
    "    ax = plt.subplot(221)\n",
    "    ax.scatter(lon_stations_all, lat_stations_all,marker='.',color='k',s=1)\n",
    "    ax.scatter(np.mean(lon_stations_this), np.mean(lat_stations_this),marker='o',color='b',s=50,label='New center')\n",
    "    ax.scatter(lon_stations_this, lat_stations_this,marker='o',color='g',s=20,label='New partition')\n",
    "    ax.scatter(np.mean(lon_stations_target), np.mean(lat_stations_target),marker='^',color='b',s=50,label='Target center')\n",
    "    ax.scatter(lon_stations_target, lat_stations_target,marker='^',color='r',s=5,label= 'Target partition')\n",
    "    for i in range(len(faults)):\n",
    "        ax.plot(faults['clark'+str(i+1)]['lon'], faults['clark'+str(i+1)]['lat'], 'k--', lw=1)\n",
    "    ax.axis('off')\n",
    "    ax.legend()\n",
    "    # probe accepted comparison\n",
    "    ax = plt.subplot(222)\n",
    "    ax.scatter(lon_stations_all, lat_stations_all,marker='.',color='k',s=1)\n",
    "    ax.scatter(lon_stations_this, lat_stations_this,marker='o',color='g',s=5,label='New partition')\n",
    "    ax.axis('off')\n",
    "    for i in range(len(faults)):\n",
    "        ax.plot(faults['clark'+str(i+1)]['lon'], faults['clark'+str(i+1)]['lat'], 'k--', lw=1)\n",
    "    #ax.scatter(lon_targets, lat_targets,marker='^',color='b',s=5,label= 'Target partition')\n",
    "\n",
    "    flag_label_probe =  1\n",
    "    flag_label_probe_accept =  1\n",
    "    for probe in probes:\n",
    "        if probe in probes_accept:\n",
    "            if flag_label_probe_accept:\n",
    "                ax.scatter(np.mean(lon_probes[probe]), np.mean(lat_probes[probe]),marker='*',color='r',s=30,label='Accepted Porbe center')\n",
    "                flag_label_probe_accept = 0\n",
    "            else:\n",
    "                ax.scatter(np.mean(lon_probes[probe]), np.mean(lat_probes[probe]),marker='*',color='r',s=30)\n",
    "        else:\n",
    "            if flag_label_probe:\n",
    "                ax.scatter(np.mean(lon_probes[probe]), np.mean(lat_probes[probe]),marker='*',color='b',s=5,label='Porbe center')\n",
    "                flag_label_probe = 0\n",
    "            else:\n",
    "                ax.scatter(np.mean(lon_probes[probe]), np.mean(lat_probes[probe]),marker='*',color='b',s=5)\n",
    "    ax.legend()\n",
    "    # all disp comparison\n",
    "    ax = plt.subplot(223)\n",
    "    for probe in probes:\n",
    "        ax.scatter(ff_all[probe], disp_all[probe],label=probe,s=1)\n",
    "    ax.set_ylim(c_lim)\n",
    "    # accepted disp comparison\n",
    "    ax = plt.subplot(224)\n",
    "    flag_label_probe =  1\n",
    "    flag_label_probe_accept =  1\n",
    "    for probe in probes:\n",
    "        if probe == probe_ref:\n",
    "            index = np.argsort(ff_all[probe])\n",
    "            ax.plot(ff_all[probe][index], disp_all[probe][index],'k--',label='reference',lw=4)\n",
    "        elif probe in probes_accept:\n",
    "            if flag_label_probe_accept:\n",
    "                ax.scatter(ff_all[probe], disp_all[probe],label='accepted',s=1)\n",
    "                flag_label_probe_accept = 0\n",
    "            else:\n",
    "                ax.scatter(ff_all[probe], disp_all[probe],s=1)\n",
    "        \"\"\"\n",
    "        else:\n",
    "            if flag_label_probe:\n",
    "                ax.scatter(f_sample, disp_all[probe],label=\"unaccepted\",s=0.5,color='b')\n",
    "                flag_label_probe = 0\n",
    "            else:\n",
    "                ax.scatter(f_sample, disp_all[probe],s=0.5,color='b')\n",
    "        \"\"\"\n",
    "    ax.set_ylim(c_lim)\n",
    "    ax.legend()\n",
    "    plt.savefig(dir_image+'new_target_comparison_'+key_subwork+'.png',dpi=100)\n",
    "    #plt.close()"
   ]
  },
  {
   "cell_type": "code",
   "execution_count": null,
   "metadata": {},
   "outputs": [],
   "source": [
    "def plot_disp_all(key_subwork):\n",
    "    global key_subworks\n",
    "    global c_lim\n",
    "    global dir_image\n",
    "    global info_basic_bi\n",
    "    global info_basic_bi_probes\n",
    "    global info_basic_bi_targets\n",
    "    global info_basic_probes\n",
    "    global f_lim\n",
    "    global probes_accept\n",
    "    global probe_ref\n",
    "    \n",
    "    f = info_basic_bi_probes['f']\n",
    "    c = np.linspace(info_basic_probes['fj_c_min'],info_basic_probes['fj_c_max'],info_basic_probes['fj_c_num'])\n",
    "    num = len(probes)\n",
    "    n_cols = int(np.ceil(np.sqrt(num)))+1\n",
    "    n_rows = int(np.floor(np.sqrt(num)))\n",
    "    #plt.cla()\n",
    "    fig = plt.figure(figsize=(n_cols*3,n_rows*2),clear=True)\n",
    "    for i in range(num):\n",
    "        ax = plt.subplot(n_rows,n_cols,i+1)\n",
    "        ax = plotlib.plot_fj(ax,ds_probe_all[probes[i]],probes[i],f,c,0,c_map='jet')\n",
    "        ax.scatter(ff_all[probes[i]], disp_all[probes[i]],label=probes[i],s=1)\n",
    "        ax.set_ylim(c_lim)\n",
    "        ax.set_xlim(f_lim)\n",
    "        ax.legend()\n",
    "        if probes[i] == probe_ref:\n",
    "            ax.set_title(probes[i]+' (reference)',color='g')\n",
    "        elif probes[i] in probes_accept:\n",
    "            ax.set_title(probes[i]+' (accepted)',color='r')\n",
    "        else:\n",
    "            ax.set_title(probes[i],color='b')\n",
    "    plt.tight_layout()\n",
    "    plt.savefig(dir_image+'disp_all_'+key_subwork+'.png',dpi=60)\n",
    "    #plt.close()"
   ]
  },
  {
   "cell_type": "code",
   "execution_count": null,
   "metadata": {},
   "outputs": [],
   "source": [
    "nums_repick = [47]\n",
    "key_subworks = []\n",
    "for num in nums_repick:\n",
    "    tag = str(num)\n",
    "    for key_subwork in info_basic['key_subworks']:\n",
    "        if tag == key_subwork.split('--')[0]:\n",
    "            key_subworks.append(key_subwork)\n",
    "#key_subworks = info_basic['key_subworks']"
   ]
  },
  {
   "cell_type": "code",
   "execution_count": null,
   "metadata": {},
   "outputs": [],
   "source": [
    "filename = dir_project+'Basic_info.yml'\n",
    "with open(filename, 'r', encoding='utf-8') as f:\n",
    "    info_basic = yaml.load(f.read(), Loader=yaml.FullLoader)\n",
    "filename_bi = dir_project+'Basic_info.npy'\n",
    "info_basic_bi = np.load(filename_bi, allow_pickle='TRUE').item()      # setting dictionary\n",
    "\n",
    "probe_accept_all = info_basic_bi['probe_accept']\n",
    "probe_ref_all = info_basic_bi['probe_ref']"
   ]
  },
  {
   "cell_type": "code",
   "execution_count": null,
   "metadata": {},
   "outputs": [],
   "source": [
    "c_lim = [0.3,0.75]\n",
    "f_lim = [7.5,15]\n",
    "for key_subwork in key_subworks:\n",
    "    print(key_subwork)\n",
    "    target = key_subwork[key_subwork.find('--')+2:]\n",
    "    probes = info_basic_bi['probe'][key_subwork]\n",
    "    probes_accept = probe_accept_all[target]\n",
    "    probe_ref = probe_ref_all[target]\n",
    "    new_target_comparison(key_subwork)\n",
    "    plot_disp_all(key_subwork)"
   ]
  }
 ],
 "metadata": {
  "kernelspec": {
   "display_name": "ccfj",
   "language": "python",
   "name": "python3"
  },
  "language_info": {
   "codemirror_mode": {
    "name": "ipython",
    "version": 3
   },
   "file_extension": ".py",
   "mimetype": "text/x-python",
   "name": "python",
   "nbconvert_exporter": "python",
   "pygments_lexer": "ipython3",
   "version": "3.9.18"
  }
 },
 "nbformat": 4,
 "nbformat_minor": 2
}
