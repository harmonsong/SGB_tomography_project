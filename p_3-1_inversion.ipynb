{
 "cells": [
  {
   "cell_type": "code",
   "execution_count": 1,
   "metadata": {},
   "outputs": [],
   "source": [
    "import numpy as np\n",
    "import matplotlib.pyplot as plt\n",
    "import argparse\n",
    "from scipy.stats import gaussian_kde\n",
    "import os\n",
    "import yaml\n",
    "import h5py\n",
    "import pandas as pd\n",
    "import openpyxl\n",
    "from openpyxl import load_workbook\n",
    "import time\n",
    "\n",
    "import warnings"
   ]
  },
  {
   "cell_type": "code",
   "execution_count": 2,
   "metadata": {},
   "outputs": [],
   "source": [
    "import sys\n",
    "sys.path.append(r'../tools_F-J/')\n",
    "sys.path.append(r'../tools_F-J/toollib_DisbaCode')\n",
    "from objective_function import (ObjectiveFunctionDerivativeUsed, Forward)\n",
    "from toollib_DisbaCode import forward\n",
    "from toollib_DisbaCode import objective_function\n",
    "from toollib_DisbaCode import empirical_relation\n",
    "from toollib_DisbaCode import plot_disp\n",
    "from toollib_DisbaCode import plot_model\n",
    "from toollib_DisbaCode import plot_lcurve\n",
    "from toollib_DisbaCode import plot_inversion    \n",
    "from toollib_DisbaCode import plot_kernel\n",
    "\n",
    "#from toollib_standard import maplib\n",
    "#from toollib_standard import mathlib\n",
    "#from toollib_standard import filelib\n",
    "#from toollib_standard import stacklib\n",
    "from toollib_standard import plotlib"
   ]
  },
  {
   "cell_type": "code",
   "execution_count": 3,
   "metadata": {},
   "outputs": [],
   "source": [
    "flag_project = 1 # 0--regular; 1--repartrition; 2--voronoi\n",
    "flag_mode = 2 # 0--fundamental; 1--Overtones; 2--Both\n",
    "flag_forward = 1 # 0--no forward calculation; 1--forward calculation\n",
    "file_init = 'initial/initial_model_4.txt'"
   ]
  },
  {
   "cell_type": "code",
   "execution_count": 4,
   "metadata": {},
   "outputs": [],
   "source": [
    "if flag_project == 0:\n",
    "    file_project = 'a-project.yml'\n",
    "elif flag_project == 1:\n",
    "    file_project = 'a-project_repar.yml'\n",
    "elif flag_project == 2:\n",
    "    file_project = 'a-project_voro.yml'\n",
    "    \n",
    "with open(file_project, 'r', encoding='utf-8') as f:\n",
    "    proj = yaml.load(f.read(), Loader=yaml.FullLoader)\n",
    "name_project = proj['name']\n",
    "\n",
    "#name_project = 'project/output_FJSJ_16-01/'               \n",
    "#name_project = 'project_repartrition/repartrition_01-03/'               \n",
    "#name_project = 'project_voronoi/voronoi_01-03/'         "
   ]
  },
  {
   "cell_type": "code",
   "execution_count": 5,
   "metadata": {},
   "outputs": [
    {
     "name": "stdout",
     "output_type": "stream",
     "text": [
      "dir_CC_workspace:  /shdisk/rem2/Harmon/F-J/San/\n",
      "dir_project_workspace:  /shdisk/rem2/Harmon/F-J/San/\n",
      "dir_project:  /shdisk/rem2/Harmon/F-J/San/project_repartition_v4.0/output_repar_v9.5_02--10-16Hz/\n"
     ]
    }
   ],
   "source": [
    "with open('0_config.yml', 'r', encoding='utf-8') as f:\n",
    "    dir_config = yaml.load(f.read(), Loader=yaml.FullLoader)\n",
    "dir_project_workspace = dir_config['dir_project_workspace']\n",
    "dir_CC_workspace = dir_config['dir_CC_workspace']\n",
    "print('dir_CC_workspace: ', dir_CC_workspace)\n",
    "print('dir_project_workspace: ', dir_project_workspace)\n",
    "dir_project = os.path.join(dir_project_workspace, name_project)\n",
    "print('dir_project: ', dir_project)"
   ]
  },
  {
   "cell_type": "code",
   "execution_count": 6,
   "metadata": {},
   "outputs": [],
   "source": [
    "filename = dir_project+'Basic_info.yml'\n",
    "with open(filename, 'r', encoding='utf-8') as f:\n",
    "    info_basic = yaml.load(f.read(), Loader=yaml.FullLoader)\n",
    "filename_bi = dir_project+'Basic_info.npy'\n",
    "info_basic_bi = np.load(filename_bi, allow_pickle='TRUE').item()      # setting dictionary"
   ]
  },
  {
   "cell_type": "code",
   "execution_count": 7,
   "metadata": {},
   "outputs": [],
   "source": [
    "dir_ds = dir_project + info_basic['rdir_ds']\n",
    "dir_partition = dir_project + info_basic['rdir_partition']\n",
    "dir_inv = dir_project + info_basic['rdir_inv_BFGS']\n",
    "f0 = info_basic_bi['f']\n",
    "c = np.linspace(info_basic['fj_c_min'], info_basic['fj_c_max'], info_basic['fj_c_num'])"
   ]
  },
  {
   "cell_type": "code",
   "execution_count": 8,
   "metadata": {},
   "outputs": [
    {
     "data": {
      "text/plain": [
       "['191--25-08',\n",
       " '192--26-08',\n",
       " '278--27-10',\n",
       " '283--32-10',\n",
       " '284--33-10',\n",
       " '285--34-10',\n",
       " '290--39-10',\n",
       " '291--40-10',\n",
       " '411--30-13']"
      ]
     },
     "execution_count": 8,
     "metadata": {},
     "output_type": "execute_result"
    }
   ],
   "source": [
    "filename = dir_project+info_basic['rdir_inv_BFGS']+'inv2.txt'\n",
    "nums = np.loadtxt(filename,dtype=int)\n",
    "nums = [str(x) for x in nums]\n",
    "#nums = [319] \n",
    "key_subworks_all = info_basic['key_subworks']\n",
    "key_subworks = []\n",
    "for num in nums:\n",
    "    for key_subwork in key_subworks_all:\n",
    "        if str(num) == key_subwork.split('--')[0]:\n",
    "            key_subworks.append(key_subwork)\n",
    "            break\n",
    "#key_subworks = info_basic['key_subworks']\n",
    "key_subworks"
   ]
  },
  {
   "cell_type": "code",
   "execution_count": 9,
   "metadata": {},
   "outputs": [],
   "source": [
    "file_config_fund = 'config_inv_fund.yml'\n",
    "file_config = 'config_inv.yml'"
   ]
  },
  {
   "cell_type": "code",
   "execution_count": 10,
   "metadata": {},
   "outputs": [],
   "source": [
    "if flag_mode == 0:\n",
    "    dir_image = dir_project +  info_basic['rdir_image'] + 'inversion_fund/'\n",
    "elif flag_mode == 1:\n",
    "    dir_image = dir_project +  info_basic['rdir_image'] + 'inversion_over/'\n",
    "elif flag_mode == 2:\n",
    "    dir_image = dir_project +  info_basic['rdir_image'] + 'inversion_compare/'\n",
    "else: \n",
    "    print('Mode error')\n",
    "    exit()\n",
    "\n",
    "if not os.path.exists(dir_image):\n",
    "    os.mkdir(dir_image)\n",
    "\n",
    "if flag_mode != 0:\n",
    "    info_basic['rdir_BFGS_invfile'] = info_basic['rdir_inv_BFGS'] + 'inversion/'\n",
    "    info_basic['rdir_disp_model'] = info_basic['rdir_inv_BFGS'] + 'disp_model/'\n",
    "    info_basic['rdir_model'] = info_basic['rdir_inv_BFGS'] + 'model/'\n",
    "    dir_invfile = dir_project + info_basic['rdir_BFGS_invfile']\n",
    "    dir_disp_model = dir_project + info_basic['rdir_disp_model']\n",
    "    dir_model = dir_project + info_basic['rdir_model']\n",
    "\n",
    "    if not os.path.exists(dir_invfile):\n",
    "        os.mkdir(dir_invfile)\n",
    "    if not os.path.exists(dir_disp_model):\n",
    "        os.mkdir(dir_disp_model)\n",
    "    if not os.path.exists(dir_model):\n",
    "        os.mkdir(dir_model)\n",
    "if flag_mode !=  1:\n",
    "    info_basic['rdir_BFGS_invfile_fund'] = info_basic['rdir_inv_BFGS'] + 'inversion_fund/'\n",
    "    info_basic['rdir_disp_model_fund'] = info_basic['rdir_inv_BFGS'] + 'disp_model_fund/'\n",
    "    info_basic['rdir_model_fund'] = info_basic['rdir_inv_BFGS'] + 'model_fund/'\n",
    "    dir_invfile_fund = dir_project + info_basic['rdir_BFGS_invfile_fund']\n",
    "    dir_disp_model_fund = dir_project + info_basic['rdir_disp_model_fund']\n",
    "    dir_model_fund = dir_project + info_basic['rdir_model_fund']\n",
    "    if not os.path.exists(dir_invfile_fund):\n",
    "        os.mkdir(dir_invfile_fund)\n",
    "    if not os.path.exists(dir_disp_model_fund):\n",
    "        os.mkdir(dir_disp_model_fund)\n",
    "    if not os.path.exists(dir_model_fund):\n",
    "        os.mkdir(dir_model_fund)"
   ]
  },
  {
   "cell_type": "markdown",
   "metadata": {},
   "source": [
    "### Read data"
   ]
  },
  {
   "cell_type": "code",
   "execution_count": 11,
   "metadata": {},
   "outputs": [],
   "source": [
    "stalistname_all = info_basic['stalistname_all']\n",
    "stainfo = pd.read_excel(stalistname_all)\n",
    "stalist_all = stainfo['Station'].tolist() \n",
    "lat_stations_all =  stainfo['latitude'].tolist() \n",
    "lon_stations_all =  stainfo['longitude'].tolist() "
   ]
  },
  {
   "cell_type": "code",
   "execution_count": 12,
   "metadata": {},
   "outputs": [],
   "source": [
    "# fault surface trace\n",
    "faults = np.load('clark_faults.npy', allow_pickle='TRUE').item()"
   ]
  },
  {
   "cell_type": "code",
   "execution_count": 13,
   "metadata": {},
   "outputs": [],
   "source": [
    "stations_partition = {}\n",
    "lat_stations_partition = {}\n",
    "lon_stations_partition = {}\n",
    "lat_centroid_partition = []\n",
    "lon_centroid_partition = []\n",
    "for key in info_basic['key_subworks']:\n",
    "    filepath = dir_partition + str(key) + '.txt'\n",
    "    stations_this, lat_stations_this, lon_stations_this = np.loadtxt(filepath, dtype='str' , unpack=True)\n",
    "    stations_partition[key] = stations_this\n",
    "    lat_stations_partition[key] = lat_stations_this.astype(float)\n",
    "    lon_stations_partition[key] = lon_stations_this.astype(float)\n",
    "    lat_centroid_partition.append(np.mean(lat_stations_this.astype(float)))\n",
    "    lon_centroid_partition.append(np.mean(lon_stations_this.astype(float)))"
   ]
  },
  {
   "cell_type": "code",
   "execution_count": 14,
   "metadata": {},
   "outputs": [
    {
     "name": "stdout",
     "output_type": "stream",
     "text": [
      "191--25-08 1/9\n",
      "192--26-08 2/9\n",
      "278--27-10 3/9\n",
      "283--32-10 4/9\n",
      "284--33-10 5/9\n",
      "285--34-10 6/9\n",
      "290--39-10 7/9\n",
      "291--40-10 8/9\n",
      "411--30-13 9/9\n"
     ]
    }
   ],
   "source": [
    "ds_all = {}\n",
    "for key in key_subworks:\n",
    "    print(key+ ' '+str(key_subworks.index(key)+1) + '/'+str(len(key_subworks)))\n",
    "    ds = h5py.File(dir_ds+'ds_'+key+'.h5', 'r')\n",
    "    ds_remove = ds['ds_remove'][0]\n",
    "    ds_all[key] = plotlib.smooth_ds(ds_remove)"
   ]
  },
  {
   "cell_type": "markdown",
   "metadata": {},
   "source": [
    "### Forard and plot estimated disp and Vs"
   ]
  },
  {
   "cell_type": "code",
   "execution_count": 15,
   "metadata": {},
   "outputs": [],
   "source": [
    "def plot_fj(ax,ds_linear,title0,f,c,index,v_min,v_max,c_map):\n",
    "    ax.imshow(np.flip(ds_linear,0),aspect='auto',extent=[min(f),max(f),min(c),max(c)],vmin=v_min,vmax = v_max, cmap = c_map)\n",
    "    #plt.imshow(np.flip(ds_linear,0),extent=[min(f),max(f),min(c),max(c)],aspect='auto',cmap='jet',vmin=0,vmax=1)\n",
    "    #ax.pcolormesh(f,c,ds_linear,cmap='jet',vmin=0,vmax=1)\n",
    "    if index == 0:\n",
    "        ax.set_title(title0)\n",
    "    else:\n",
    "        ax.set_title('('+chr(96+index)+')',loc='left')\n",
    "    ax.set_xlabel('Normalized Frequency/ Hz')\n",
    "    ax.set_ylabel('Velocity/ m/s')\n",
    "    #ax.set_xlim(xlim)\n",
    "    return ax"
   ]
  },
  {
   "cell_type": "markdown",
   "metadata": {},
   "source": [
    "### Plot parameters"
   ]
  },
  {
   "cell_type": "code",
   "execution_count": 16,
   "metadata": {},
   "outputs": [],
   "source": [
    "with open(dir_inv+file_config, 'r') as fp:\n",
    "    config = yaml.safe_load(fp)\n",
    "with open(dir_inv+file_config_fund, 'r') as fp:\n",
    "    config_fund = yaml.safe_load(fp)\n",
    "\n",
    "c_map = 'jet'\n",
    "v_max = None\n",
    "v_min = 0.1\n",
    "\n",
    "all_disp = 0\n",
    "show_std = 1\n",
    "show_init = 0\n",
    "plot_fund = 1\n",
    "xlim_f = [0.5,30]\n",
    "xlim_T = [-1,1]\n",
    "ylim_c = [0.25,1.8]\n",
    "clim = [0,1]\n",
    "fmin = 1\n",
    "fmax = 30\n",
    "cmin = 0.1\n",
    "cmax = 2.5\n",
    "vmax = 0.3\n",
    "\n",
    "max_mode = 4"
   ]
  },
  {
   "cell_type": "code",
   "execution_count": 17,
   "metadata": {},
   "outputs": [],
   "source": [
    "if flag_mode != 0:\n",
    "    num_row = 3\n",
    "    num_col = 3\n",
    "else:\n",
    "    num_row = 3\n",
    "    num_col = 2"
   ]
  },
  {
   "cell_type": "code",
   "execution_count": 18,
   "metadata": {},
   "outputs": [
    {
     "name": "stdout",
     "output_type": "stream",
     "text": [
      "191--25-08, 1/9\n",
      "elapsed time:     0.913\n",
      "elapsed time:     0.560\n",
      "192--26-08, 2/9\n",
      "elapsed time:     0.641\n",
      "elapsed time:     0.583\n",
      "278--27-10, 3/9\n",
      "elapsed time:     0.581\n",
      "elapsed time:     0.524\n",
      "283--32-10, 4/9\n",
      "elapsed time:     0.610\n",
      "elapsed time:     0.550\n",
      "284--33-10, 5/9\n",
      "elapsed time:     0.603\n",
      "elapsed time:     0.527\n",
      "285--34-10, 6/9\n",
      "elapsed time:     0.621\n",
      "elapsed time:     0.705\n",
      "290--39-10, 7/9\n",
      "elapsed time:     0.639\n",
      "elapsed time:     0.476\n",
      "291--40-10, 8/9\n",
      "elapsed time:     0.641\n",
      "elapsed time:     0.551\n",
      "411--30-13, 9/9\n",
      "elapsed time:     0.631\n",
      "elapsed time:     0.621\n"
     ]
    }
   ],
   "source": [
    "flag_num = 0\n",
    "inter_forward = 5\n",
    "linestyle = ['*','o','^','+','v','<','>','p','h']\n",
    "for key_subwork in key_subworks:\n",
    "    flag_num += 1\n",
    "    print(key_subwork + ', '+str(key_subworks.index(key_subwork)+1) + '/' + str(len(key_subworks)) ) \n",
    "\n",
    "    # configuration\n",
    "    file_inv =  'ds_'+key_subwork+'curve'\n",
    "    file_disp_data = dir_project + info_basic['rdir_disp_pick']+'ds_'+key_subwork+'curve.txt'\n",
    "    if flag_mode != 0:\n",
    "        file_model = 'model_'+key_subwork+'.txt'\n",
    "        file_disp_forward = dir_disp_model +  'disp_model_'+key_subwork+'.txt'\n",
    "        if not os.path.exists(dir_invfile+file_inv):\n",
    "            print(key_subwork+'Overtone inversion data file not exist')\n",
    "            plt.close()\n",
    "            continue\n",
    "    if flag_mode != 1: \n",
    "        file_model_fund = 'model_'+key_subwork+'.txt'\n",
    "        file_disp_forward_fund = dir_disp_model_fund +  'disp_model_'+key_subwork+'.txt'\n",
    "        if not os.path.exists(dir_invfile_fund+file_inv):\n",
    "            print(key_subwork+' Fundamental inversion data file not exist')\n",
    "            plt.close()\n",
    "            continue    \n",
    "    ds_remove = ds_all[key_subwork]\n",
    "    \n",
    "    if flag_mode == 0:\n",
    "        fig = plt.figure(figsize=(20,18))\n",
    "    else: \n",
    "        fig = plt.figure(figsize=(30,27))\n",
    "        \n",
    "    # plot partition\n",
    "    stalist = stations_partition[key_subwork]\n",
    "    lat_stations_this = lat_stations_partition[key_subwork]\n",
    "    lon_stations_this = lon_stations_partition[key_subwork]\n",
    "    ax_partition = fig.add_subplot(num_row,num_col,1)\n",
    "    ax_partition=plotlib.plot_area(ax_partition,lon_stations_all,lat_stations_all,lon_stations_this,lat_stations_this,markersize = 0.75 ,markersize2 = 5)\n",
    "    ax_partition.scatter(lon_centroid_partition,lat_centroid_partition,marker='^',color='y',s=8)\n",
    "    for i in range(len(faults)):\n",
    "        ax_partition.plot(faults['clark'+str(i+1)]['lon'], faults['clark'+str(i+1)]['lat'], 'k--',lw = 0.5)\n",
    "    ax_partition.scatter(np.mean(lon_stations_this),np.mean(lat_stations_this),marker='^',color='g',s=40)\n",
    "    ax_partition.set_title('Partition')\n",
    "\n",
    "    # plot velocity structure\n",
    "    for i in range(flag_mode+1):\n",
    "        if flag_mode != 2:\n",
    "            if i != flag_mode:\n",
    "                continue\n",
    "        axes = fig.add_subplot(num_row,num_col,4+i)\n",
    "        axes.set_xticks([])  #去掉横坐标值\n",
    "        axes.set_yticks([])  #去掉纵坐标值\n",
    "        if show_std == 1:\n",
    "            ax_struc = axes.inset_axes([0,0,0.9,1])\n",
    "            ax_std = axes.inset_axes([0.9,0,0.1,1])\n",
    "            xtick = ax_struc.get_xticks()\n",
    "            xtick = xtick[:-1]\n",
    "            ax_struc.set_xticks(xtick)\n",
    "            ax_std.set_yticks([])  #去掉纵坐标值\n",
    "            ax_std.set_ylim([0,config['plot']['zmax']])\n",
    "            ax_std.set_xlabel('Std (m/s)')\n",
    "            ax_std.invert_yaxis()  #y轴反向\n",
    "        else:\n",
    "            ax_struc = axes.inset_axes([0,0,1,1])\n",
    "        if i == 0:\n",
    "            ax_struc,model_fund,fmt = plot_inversion.plot_model(config_fund, file_inv, show_init, file_model_fund,file_init,ax_struc,dir_this = dir_inv)\n",
    "            std_fund = model_fund[:,5]\n",
    "            z_step = model_fund[:,1]\n",
    "            if show_std == 1:\n",
    "                ax_std.step(std_fund,z_step,'k',label='Fund')\n",
    "            np.savetxt(dir_model_fund+file_model_fund, model_fund, fmt=fmt)\n",
    "            ax_struc.set_title('Fundamental')\n",
    "        if i == 1:\n",
    "            ax_struc,model,fmt = plot_inversion.plot_model(config, file_inv, show_init, file_model,file_init,ax_struc,dir_this = dir_inv)\n",
    "            std = model[:,5]\n",
    "            z_step = model[:,1]\n",
    "            if show_std == 1:\n",
    "                ax_std.step(std,z_step,'k',label='Over')\n",
    "            np.savetxt(dir_model+file_model, model, fmt=fmt)\n",
    "            ax_struc.set_title('Overtones') \n",
    "        if i == 2:\n",
    "            ax_struc,model,fmt = plot_inversion.plot_model(config, file_inv, show_init, file_model,file_init,ax_struc,file_model_fund =dir_model_fund + file_model_fund,plot_fund=1,dir_this = dir_inv)\n",
    "            if show_std == 1:\n",
    "                ax_std.step(std,z_step,'r',label = 'Over')\n",
    "                ax_std.step(std_fund,z_step,'g',label='Fund')\n",
    "                ax_std.legend()\n",
    "            ax_struc.set_title('Comparison')\n",
    "\n",
    "    # forward calculation\n",
    "    if flag_forward == 1:\n",
    "        if flag_mode != 1:\n",
    "            forward.forward_cal(info_basic,max_mode,dir_model_fund+file_model_fund,file_disp_forward_fund)\n",
    "        if flag_mode != 0:\n",
    "            forward.forward_cal(info_basic,max_mode,dir_model+file_model,file_disp_forward)\n",
    "\n",
    "    # plot fit curve\n",
    "    ax_fit = fig.add_subplot(num_row,num_col,3)\n",
    "    if flag_mode == 0:\n",
    "        ax_fit = plot_inversion.plot_disp(config_fund, file_inv, all_disp,ax_fit,dir_this = dir_inv)\n",
    "        ax_fit.set_title('Fundamental forward curve fit')\n",
    "    else:\n",
    "        ax_fit = plot_inversion.plot_disp(config, file_inv, all_disp,ax_fit,dir_this = dir_inv)\n",
    "        ax_fit.set_title('Overtones forward curve fit')\n",
    "\n",
    "    # plot FJ with forward disp curve\n",
    "    title0 = \"FJ with forward disp curve\"\n",
    "    ax_FJ = fig.add_subplot(num_row,num_col,2)\n",
    "    ax_FJ.set_xlim(xlim_f)\n",
    "    ax_FJ.set_ylim(ylim_c)\n",
    "    ax_FJ = plotlib.plot_fj(ax_FJ,ds_remove,title0,f0,c,0,v_min = v_min,v_max=v_max,c_map=c_map)\n",
    "    disp_data = np.loadtxt(file_disp_data)\n",
    "    num_m_data = len(set(disp_data[:,2]))\n",
    "    modes_data = set(disp_data[:,2].astype(int))\n",
    "        # data\n",
    "    for mode in modes_data:\n",
    "        data_mode = disp_data[disp_data[:, 2] == mode]\n",
    "        if mode==0:\n",
    "            ax_FJ.plot(data_mode[:, 0], data_mode[:, 1], 'k^',label='data',linewidth=4)\n",
    "        else:\n",
    "            ax_FJ.plot(data_mode[:, 0], data_mode[:, 1],  'k^',linewidth=4 )\n",
    "        # foward\n",
    "    if flag_mode != 0:\n",
    "        file_disp_forward = dir_disp_model +  'disp_model_'+key_subwork+'.txt'\n",
    "        disp_forward = np.loadtxt(file_disp_forward)\n",
    "        num_m = len(set(disp_forward[:,2]))\n",
    "        modes = set(disp_forward[:,2].astype(int))\n",
    "        for mode in modes:\n",
    "            disp_forward_mode = disp_forward[disp_forward[:, 2] == mode]\n",
    "            if mode==0:\n",
    "                ax_FJ.scatter(disp_forward_mode[::inter_forward, 0], disp_forward_mode[::inter_forward, 1], color='greenyellow',marker = linestyle[mode],label='Overtone estemate',s=10)\n",
    "            else:\n",
    "                ax_FJ.scatter(disp_forward_mode[::inter_forward, 0], disp_forward_mode[::inter_forward, 1], color='greenyellow',marker = linestyle[mode],s=10)\n",
    "    if flag_mode != 1:\n",
    "        file_disp_forward_fund = dir_disp_model_fund +  'disp_model_'+key_subwork+'.txt'\n",
    "        disp_forward_fund = np.loadtxt(file_disp_forward_fund)\n",
    "        num_m = len(set(disp_forward_fund[:,2]))\n",
    "        modes = set(disp_forward_fund[:,2].astype(int))\n",
    "        for mode in modes:\n",
    "            disp_forward_fund_mode = disp_forward_fund[disp_forward_fund[:, 2] == mode]\n",
    "            if mode==0:\n",
    "                ax_FJ.scatter(disp_forward_fund_mode[::inter_forward, 0], disp_forward_fund_mode[::inter_forward, 1], color='red',marker = linestyle[mode],label='Fundamental estemate',s=10)\n",
    "            else:\n",
    "                ax_FJ.scatter(disp_forward_fund_mode[::inter_forward, 0], disp_forward_fund_mode[::inter_forward, 1], color='red',marker= linestyle[mode],s=10)\n",
    "    ax_FJ.legend()\n",
    "\n",
    "    # plot kernel\n",
    "    if flag_mode == 0:\n",
    "        ax_kernel = fig.add_subplot(num_row,num_col,5)\n",
    "        ax_kernel = plot_kernel.kernel_plot(fmin,fmax,cmin,cmax,file_disp_data,dir_model_fund+file_model_fund,0,vmax,ax_kernel)\n",
    "    else:\n",
    "        flag = 0\n",
    "        for mode in modes_data:\n",
    "            if len(modes_data) > 2:\n",
    "                ax_kernel = fig.add_subplot(num_row,num_m_data,(num_row-1)*num_m_data+1+flag)\n",
    "            else:\n",
    "                ax_kernel = fig.add_subplot(num_row,num_col,(num_row-1)*num_col+1+flag)\n",
    "            ax_kernel = plot_kernel.kernel_plot(fmin,fmax,cmin,cmax,file_disp_data,dir_model+file_model,mode,vmax,ax_kernel)\n",
    "            ax_kernel.set_title('Mode '+str(mode))\n",
    "            if flag != 0:\n",
    "                ax_kernel.set_yticks([])\n",
    "                ax_kernel.set_ylabel('')    \n",
    "            flag += 1\n",
    "    \n",
    "    plt.tight_layout()\n",
    "    plt.savefig(dir_image+key_subwork+'_inversion.png')\n",
    "    plt.close()"
   ]
  },
  {
   "cell_type": "code",
   "execution_count": 19,
   "metadata": {},
   "outputs": [],
   "source": [
    "with open(dir_project+'Basic_info.yml', 'w', encoding='utf-8') as f:\n",
    "   yaml.dump(data=info_basic, stream=f, allow_unicode=True)"
   ]
  }
 ],
 "metadata": {
  "kernelspec": {
   "display_name": "base",
   "language": "python",
   "name": "python3"
  },
  "language_info": {
   "codemirror_mode": {
    "name": "ipython",
    "version": 3
   },
   "file_extension": ".py",
   "mimetype": "text/x-python",
   "name": "python",
   "nbconvert_exporter": "python",
   "pygments_lexer": "ipython3",
   "version": "3.8.18"
  },
  "orig_nbformat": 4
 },
 "nbformat": 4,
 "nbformat_minor": 2
}
