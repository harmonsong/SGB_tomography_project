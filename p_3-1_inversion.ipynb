{
 "cells": [
  {
   "cell_type": "code",
   "execution_count": 176,
   "metadata": {},
   "outputs": [],
   "source": [
    "import numpy as np\n",
    "import matplotlib.pyplot as plt\n",
    "import argparse\n",
    "from scipy.stats import gaussian_kde\n",
    "import os\n",
    "import yaml\n",
    "import h5py\n",
    "import pandas as pd\n",
    "import openpyxl\n",
    "from openpyxl import load_workbook\n",
    "import time\n",
    "\n",
    "import warnings"
   ]
  },
  {
   "cell_type": "code",
   "execution_count": 177,
   "metadata": {},
   "outputs": [],
   "source": [
    "import sys\n",
    "sys.path.append(r'../tools_F-J/')\n",
    "sys.path.append(r'../tools_F-J/toollib_DisbaCode')\n",
    "from objective_function import (ObjectiveFunctionDerivativeUsed, Forward)\n",
    "from toollib_DisbaCode import forward\n",
    "from toollib_DisbaCode import objective_function\n",
    "from toollib_DisbaCode import empirical_relation\n",
    "from toollib_DisbaCode import plot_disp\n",
    "from toollib_DisbaCode import plot_model\n",
    "from toollib_DisbaCode import plot_lcurve\n",
    "from toollib_DisbaCode import plot_inversion    \n",
    "from toollib_DisbaCode import plot_kernel\n",
    "\n",
    "#from toollib_standard import maplib\n",
    "#from toollib_standard import mathlib\n",
    "#from toollib_standard import filelib\n",
    "#from toollib_standard import stacklib\n",
    "from toollib_standard import plotlib"
   ]
  },
  {
   "cell_type": "code",
   "execution_count": 178,
   "metadata": {},
   "outputs": [],
   "source": [
    "flag_project = 1 # 0--regular; 1--repartrition"
   ]
  },
  {
   "cell_type": "code",
   "execution_count": 179,
   "metadata": {},
   "outputs": [],
   "source": [
    "if flag_project == 0:\n",
    "    with open('a-project.yml', 'r', encoding='utf-8') as f:\n",
    "        proj = yaml.load(f.read(), Loader=yaml.FullLoader)\n",
    "    name_project = proj['name']\n",
    "    #name_project = 'project/output_FJSJ_16-01/'               # Harmon server\n",
    "elif flag_project == 1:\n",
    "    with open('a-project_repar.yml', 'r', encoding='utf-8') as f:\n",
    "        proj = yaml.load(f.read(), Loader=yaml.FullLoader)\n",
    "    name_project = proj['name']\n",
    "    #name_project = 'project_repartrition/output_repar_01-03/'               # Harmon server\n"
   ]
  },
  {
   "cell_type": "code",
   "execution_count": 180,
   "metadata": {},
   "outputs": [
    {
     "name": "stdout",
     "output_type": "stream",
     "text": [
      "dir_CC_workspace:  /shdisk/rem2/Harmon/F-J/San/\n",
      "dir_project_workspace:  /shdisk/rem2/Harmon/F-J/San/\n",
      "dir_project:  /shdisk/rem2/Harmon/F-J/San/project_repartition_v3.0/output_repar_v9.1_02-01/\n"
     ]
    }
   ],
   "source": [
    "with open('0_config.yml', 'r', encoding='utf-8') as f:\n",
    "    dir_config = yaml.load(f.read(), Loader=yaml.FullLoader)\n",
    "dir_project_workspace = dir_config['dir_project_workspace']\n",
    "dir_CC_workspace = dir_config['dir_CC_workspace']\n",
    "print('dir_CC_workspace: ', dir_CC_workspace)\n",
    "print('dir_project_workspace: ', dir_project_workspace)\n",
    "dir_project = os.path.join(dir_project_workspace, name_project)\n",
    "print('dir_project: ', dir_project)"
   ]
  },
  {
   "cell_type": "code",
   "execution_count": 181,
   "metadata": {},
   "outputs": [],
   "source": [
    "filename = dir_project+'Basic_info.yml'\n",
    "with open(filename, 'r', encoding='utf-8') as f:\n",
    "    info_basic = yaml.load(f.read(), Loader=yaml.FullLoader)\n",
    "filename_bi = dir_project+'Basic_info.npy'\n",
    "info_basic_bi = np.load(filename_bi, allow_pickle='TRUE').item()      # setting dictionary\n"
   ]
  },
  {
   "cell_type": "code",
   "execution_count": 182,
   "metadata": {},
   "outputs": [],
   "source": [
    "dir_ds = dir_project + info_basic['dir_ds']\n",
    "dir_partition = dir_project + info_basic['dir_partition']\n",
    "dir_inv_dispernet = dir_project + info_basic['dir_inv_dispernet'] \n",
    "d_len = info_basic['d_len']\n",
    "f = info_basic_bi['f']\n",
    "c = np.linspace(info_basic['c_min'], info_basic['c_max'], info_basic['c_num'])"
   ]
  },
  {
   "cell_type": "code",
   "execution_count": 183,
   "metadata": {},
   "outputs": [
    {
     "data": {
      "text/plain": [
       "['13--20-03']"
      ]
     },
     "execution_count": 183,
     "metadata": {},
     "output_type": "execute_result"
    }
   ],
   "source": [
    "key_subworks = info_basic['key_subworks'][:50]\n",
    "key_subworks = ['13--20-03']\n",
    "#key_subworks = ['13--20-03','22--29-03','28--35-03','41--49-03']\n",
    "#key_subworks = ['41--49-03']\n",
    "\n",
    "#key_subworks = [str(i) for i in range(1,40)]\n",
    "key_subworks"
   ]
  },
  {
   "cell_type": "code",
   "execution_count": 184,
   "metadata": {},
   "outputs": [],
   "source": [
    "#file_config = 'config_inv_fund.yml'\n",
    "file_config = 'config_inv.yml'\n",
    "flag_forward = 1"
   ]
  },
  {
   "cell_type": "code",
   "execution_count": 185,
   "metadata": {},
   "outputs": [],
   "source": [
    "if file_config == 'config_inv.yml':\n",
    "    #info_basic['dir_image_inv'] = info_basic['dir_inv_dispernet'] + 'image_inv_' + info_basic['tag'] + '/'\n",
    "    info_basic['dir_invfile'] = info_basic['dir_inv_dispernet'] + 'inversion/'\n",
    "    info_basic['dir_disp_model'] = info_basic['dir_inv_dispernet'] + 'disp_model/'\n",
    "    info_basic['dir_model'] = info_basic['dir_inv_dispernet'] + 'model/'\n",
    "    dir_image = dir_project + info_basic['dir_image'] + 'inversion/'\n",
    "    dir_invfile = dir_project + info_basic['dir_invfile']\n",
    "    dir_disp_model = dir_project + info_basic['dir_disp_model']\n",
    "    dir_model = dir_project + info_basic['dir_model']\n",
    "    \n",
    "else:\n",
    "    #info_basic['dir_image_inv_fund'] = info_basic['dir_inv_dispernet'] + 'image_inv_fund_' + info_basic['tag'] + '/'\n",
    "    info_basic['dir_invfile_fund'] = info_basic['dir_inv_dispernet'] + 'inversion_fund/'\n",
    "    info_basic['dir_disp_model_fund'] = info_basic['dir_inv_dispernet'] + 'disp_model_fund/'\n",
    "    info_basic['dir_model_fund'] = info_basic['dir_inv_dispernet'] + 'model_fund/'\n",
    "    dir_image = dir_project + info_basic['dir_image'] + 'inversion_fund/'\n",
    "    dir_invfile = dir_project + info_basic['dir_invfile_fund']\n",
    "    dir_disp_model = dir_project + info_basic['dir_disp_model_fund']\n",
    "    dir_model = dir_project + info_basic['dir_model_fund']\n",
    "if not os.path.exists(dir_image):\n",
    "    os.mkdir(dir_image)\n",
    "if not os.path.exists(dir_invfile):\n",
    "    os.mkdir(dir_invfile)\n",
    "if not os.path.exists(dir_disp_model):\n",
    "    os.mkdir(dir_disp_model)\n",
    "if not os.path.exists(dir_model):\n",
    "    os.mkdir(dir_model)"
   ]
  },
  {
   "cell_type": "markdown",
   "metadata": {},
   "source": [
    "### Forard and plot estimated disp and Vs"
   ]
  },
  {
   "cell_type": "code",
   "execution_count": 186,
   "metadata": {},
   "outputs": [],
   "source": [
    "stalistname_all = info_basic['stalistname_all']\n",
    "stainfo = pd.read_excel(stalistname_all)\n",
    "nsta_all = len(stainfo.iloc[:,0])\n",
    "stalist_all = stainfo['Station'].tolist()\n",
    "lat_all = stainfo['latitude'].tolist() \n",
    "lon_all = stainfo['longitude'].tolist()"
   ]
  },
  {
   "cell_type": "code",
   "execution_count": 187,
   "metadata": {},
   "outputs": [],
   "source": [
    "faults = np.load('clark_faults.npy', allow_pickle='TRUE').item()"
   ]
  },
  {
   "cell_type": "code",
   "execution_count": 188,
   "metadata": {},
   "outputs": [],
   "source": [
    "stations = {}\n",
    "lat = {}\n",
    "lon = {}\n",
    "for key in key_subworks:\n",
    "    filepath = dir_partition + str(key) + '.txt'\n",
    "    stations_this, lat_stations_this, lon_stations_this = np.loadtxt(filepath, dtype='str' , unpack=True)\n",
    "    stations[key] = stations_this\n",
    "    lat[key] = lat_stations_this.astype(float)\n",
    "    lon[key] = lon_stations_this.astype(float)"
   ]
  },
  {
   "cell_type": "code",
   "execution_count": 189,
   "metadata": {},
   "outputs": [
    {
     "data": {
      "text/plain": [
       "'/home/songsh/git_repo/F-J/SGB_tomography_project'"
      ]
     },
     "execution_count": 189,
     "metadata": {},
     "output_type": "execute_result"
    }
   ],
   "source": [
    "dir_this = os.getcwd()\n",
    "dir_this"
   ]
  },
  {
   "cell_type": "code",
   "execution_count": 190,
   "metadata": {},
   "outputs": [
    {
     "name": "stdout",
     "output_type": "stream",
     "text": [
      "13--20-03\n",
      "elapsed time:     0.489\n",
      "finish 1/1\n"
     ]
    }
   ],
   "source": [
    "#key_subworks = ['25-06']\n",
    "c_map = 'jet'\n",
    "v_max = None\n",
    "v_min = 0.1\n",
    "\n",
    "#s.chdir('/home/harmon/data/git_repo/F-J_Workflow/San_Jasinto/'+dir_project+'inv_dispernet')\n",
    "\n",
    "with open(dir_project + info_basic['dir_inv_dispernet']+file_config, 'r') as fp:\n",
    "    config = yaml.safe_load(fp)\n",
    "\n",
    "all_disp = 0\n",
    "show_init = 0\n",
    "xlim_f = [1,25]\n",
    "ylim_c = [0.25,1.8]\n",
    "clim = [0,1]\n",
    "\n",
    "flag_num = 0\n",
    "\n",
    "dir_this = os.getcwd()\n",
    "\n",
    "for key_subwork in key_subworks:\n",
    "    key_subwork = str(key_subwork)\n",
    "    print(key_subwork)\n",
    "    fig,ax = plt.subplots(3,3,figsize=(27,20))\n",
    "\n",
    "    data_file = 'data/ds_'+key_subwork+'curve.txt'\n",
    "    file_model = 'model_'+key_subwork+'.txt'\n",
    "\n",
    "    if os.path.exists(dir_invfile+file_model):\n",
    "        os.remove(dir_invfile+file_model)\n",
    "\n",
    "    file_inv =  'ds_'+key_subwork+'curve/'\n",
    "    if not os.path.exists(dir_invfile+file_inv):\n",
    "        print(key_subwork+'data file not exist')\n",
    "        plt.close()\n",
    "        continue\n",
    "\n",
    "\n",
    "    os.chdir(dir_project_workspace +'/'+name_project+'/inv_dispernet/')\n",
    "    disp_data = np.loadtxt(data_file)\n",
    "    data_name = 'ds_'+key_subwork+'curve'\n",
    "    ax[1][1] = plot_inversion.plot_disp(config, data_name, all_disp,ax[1][1])\n",
    "    # s wave velocity inversion\n",
    "    \n",
    "    file_init = config['model_init']+key_subwork+'.txt'\n",
    "    ax[1][2],model,fmt = plot_inversion.plot_model(config, data_name, show_init, file_model,file_init,ax[1][2])\n",
    "    os.chdir(dir_this + '/')\n",
    "\n",
    "    np.savetxt(dir_model+file_model, model, fmt=fmt)\n",
    "\n",
    "\n",
    "    # forward\n",
    "    filename = dir_disp_model +  'disp_model_'+key_subwork+'.txt'\n",
    "    if flag_forward == 1:\n",
    "        \n",
    "        max_mode = 6\n",
    "        \n",
    "        forward.forward_cal(info_basic,max_mode,dir_model+file_model,filename)\n",
    "\n",
    "\n",
    "    disp_model = np.loadtxt(filename)\n",
    "\n",
    "\n",
    "    #os.chdir('/home/harmon/data/git_repo/F-J_Workflow/San_Jasinto/')\n",
    "    ds = h5py.File(dir_ds+'ds_'+key_subwork+'.h5', 'r')\n",
    "    ds_remove = ds['ds_remove'][0]\n",
    "    title0 = \"Linear stack dispersion curve \"+str(d_len)+' days'\n",
    "    ax[1][0].set_xlim(xlim_f)\n",
    "    ax[1][0].set_ylim(ylim_c)\n",
    "    #ax[0] = plot_fj(ax[0],ds_remove,title0,f,c,xlim_f,0,clim)\n",
    "    ax[1][0] = plotlib.plot_fj(ax[1][0],ds_remove,title0,f,c,0,v_min = v_min,v_max=v_max,c_map=c_map)\n",
    "    \n",
    "    \n",
    "\n",
    "    \n",
    "    modes = set(disp_data[:, 2].astype(int))\n",
    "    for m in modes:\n",
    "        d = disp_data[disp_data[:, 2] == m]\n",
    "        if m==0:\n",
    "            ax[1][0].plot(d[:, 0], d[:, 1], 'g^',label='data')\n",
    "        else:\n",
    "            ax[1][0].plot(d[:, 0], d[:, 1], 'g^')\n",
    "\n",
    "    modes = set(disp_model[:, 2].astype(int))\n",
    "    for m in modes:\n",
    "        d = disp_model[disp_model[:, 2] == m]\n",
    "        if m==0:\n",
    "            ax[1][0].plot(d[:, 0], d[:, 1], 'r--',label='estemate',linewidth=5)\n",
    "        else:\n",
    "            ax[1][0].plot(d[:, 0], d[:, 1], 'r--',linewidth=5)\n",
    "    ax[1][0].legend()\n",
    "    ax[1][2].set_title(key_subwork)\n",
    "\n",
    "\n",
    "    #plt.tight_layout()\n",
    "    #plt.savefig(dir_image+'inversion_'+key_subwork+'.png',dpi=60)\n",
    "    #plt.close()\n",
    "    flag_num += 1\n",
    "    \n",
    "\n",
    "    #os.chdir('/home/harmon/data/git_repo/F-J_Workflow/San_Jasinto/')\n",
    "    fmin = 2\n",
    "    fmax = 40\n",
    "    cmin = 0.1\n",
    "    cmax = 2.5\n",
    "    vmax = 0.3\n",
    "    \n",
    "    file_disp = dir_project + info_basic['dir_inv_dispernet']+'data/ds_'+key_subwork+'curve.txt'\n",
    "    file_model = dir_model+'model_'+key_subwork+'.txt'\n",
    "    disp = np.loadtxt(file_disp)\n",
    "    m = int(max(set(disp[:,2])))\n",
    "    \n",
    "    #fig,ax = plt.subplots(1,m+1,figsize=(7*(m+1),6))\n",
    "    if m > 2:\n",
    "        m = 2\n",
    "    for mode in range(m+1):\n",
    "        #print(mode)\n",
    "        #ax[2][mode] = plot_kernel.kernel_plot(fmin,fmax,cmin,cmax,file_disp,file_model,mode,vmax,ax[2][mode])\n",
    "        \n",
    "        try:\n",
    "            ax[2][mode] = plot_kernel.kernel_plot(fmin,fmax,cmin,cmax,file_disp,file_model,mode,vmax,ax[2][mode])\n",
    "        except:\n",
    "            print('error')\n",
    "    \n",
    "    #ax[0][1] = plot_kernel.kernel_plot(fmin,fmax,cmin,cmax,file_disp,file_model,1,vmax,ax[0][1])\n",
    "    #ax[1][0] = plot_kernel.kernel_plot(fmin,fmax,cmin,cmax,file_disp,file_model,2,vmax,ax[1][0])\n",
    "    #ax[1][1] = plot_kernel.kernel_plot(fmin,fmax,cmin,cmax,file_disp,file_model,3,vmax,ax[1][1])\n",
    "\n",
    "\n",
    "    xlim_T = [-1,1]\n",
    "    #start = info_basic_bi['start'][key_subwork]\n",
    "    #interval = info_basic_bi['interval'][key_subwork]\n",
    "    #flag_time = info_basic_bi['flag_time'][key_subwork]\n",
    "    # plot area\n",
    "    #stalistname = dir_project+info_basic['stalistname']\n",
    "    #stainfo = pd.read_excel(stalistname+'.xlsx',key_subwork)\n",
    "    stalist = stations[key_subwork]\n",
    "    lat_this = lat[key_subwork]\n",
    "    lon_this = lon[key_subwork]\n",
    "    nsta = len(stalist)\n",
    "    \n",
    "    ax[0][0]=plotlib.plot_area(ax[0][0],lon_all,lat_all,lon_this,lat_this)\n",
    "    for i in range(len(faults)):\n",
    "        ax[0][0].plot(faults['clark'+str(i+1)]['lon'], faults['clark'+str(i+1)]['lat'], 'k')\n",
    "    \n",
    "\n",
    "\n",
    "    # plot ncfs and ncfstW\n",
    "    ds = h5py.File(dir_ds+'ds_'+key_subwork+'.h5', 'r')\n",
    "    ds_linear = ds['ds_linear'][0]\n",
    "    ds_remove = ds['ds_remove'][0]\n",
    "    title0 = \"Linear stack dispersion curve \"+str(d_len)+' days'\n",
    "    ax[0][1] = plotlib.plot_fj(ax[0][1],ds_linear,title0,f,c,0,v_min=v_min,v_max=v_max,c_map=c_map)\n",
    "    ax[0][1].set_xlim(xlim_f)\n",
    "\n",
    "    title0 = \"Remove stack dispersion curve \"+str(d_len)+' days'\n",
    "    ax[0][2] = plotlib.plot_fj(ax[0][2],ds_remove,title0,f,c,0,v_min=v_min,v_max=v_max,c_map=c_map)\n",
    "    ax[0][2].set_xlim(xlim_f)\n",
    "\n",
    "\n",
    "\n",
    "    plt.tight_layout()\n",
    "    #plt.savefig(dir_image+'Sens-kernel_'+key_subwork+'.png',dpi=60)\n",
    "    plt.savefig(dir_image+'invplot_all_'+key_subwork+'.png',dpi=60)\n",
    "    \n",
    "\n",
    "    print('finish '+str(flag_num)+'/'+str(len(key_subworks)))\n",
    "    plt.close()"
   ]
  },
  {
   "cell_type": "markdown",
   "metadata": {},
   "source": [
    "### Write into xlsx"
   ]
  },
  {
   "cell_type": "code",
   "execution_count": 191,
   "metadata": {},
   "outputs": [
    {
     "data": {
      "text/plain": [
       "\"\\n# disp model xlsx\\nos.chdir('/home/harmon/data/git_repo/F-J_Workflow/San_Jasinto/')\\nfilename = 'disp_model.xlsx'\\n\\nif not os.path.exists(info_basic['dir_inv_dispernet']+filename):\\n    df = pd.DataFrame()\\n    df.to_excel(info_basic['dir_inv_dispernet']+filename,index=False)\\n\\nbooks = load_workbook(info_basic['dir_inv_dispernet']+filename)\\nwriters = pd.ExcelWriter(info_basic['dir_inv_dispernet']+filename, engine='openpyxl')\\nwriters.book = books\\n\\nflag_num = 0\\nfor key_subwork in key_subworks:\\n    file_model = dir_inv_dispernet + 'disp_model_'+key_subwork+'.txt'\\n    disp_model = np.loadtxt(file_model)\\n    \\n    \\n    df = pd.DataFrame()\\n    df['f'] = disp_model[:, 0]\\n    df['c'] = disp_model[:, 1]\\n    df['mode'] = disp_model[:, 2]\\n\\n    df.to_excel(writers,key_subwork,index=False)\\n\\n    flag_num += 1\\n    print('finish '+str(flag_num)+'/'+str(len(key_subworks)))\\n\\nwriters.save()\\n\""
      ]
     },
     "execution_count": 191,
     "metadata": {},
     "output_type": "execute_result"
    }
   ],
   "source": [
    "\"\"\"\n",
    "# disp model xlsx\n",
    "os.chdir('/home/harmon/data/git_repo/F-J_Workflow/San_Jasinto/')\n",
    "filename = 'disp_model.xlsx'\n",
    "\n",
    "if not os.path.exists(info_basic['dir_inv_dispernet']+filename):\n",
    "    df = pd.DataFrame()\n",
    "    df.to_excel(info_basic['dir_inv_dispernet']+filename,index=False)\n",
    "\n",
    "books = load_workbook(info_basic['dir_inv_dispernet']+filename)\n",
    "writers = pd.ExcelWriter(info_basic['dir_inv_dispernet']+filename, engine='openpyxl')\n",
    "writers.book = books\n",
    "\n",
    "flag_num = 0\n",
    "for key_subwork in key_subworks:\n",
    "    file_model = dir_inv_dispernet + 'disp_model_'+key_subwork+'.txt'\n",
    "    disp_model = np.loadtxt(file_model)\n",
    "    \n",
    "    \n",
    "    df = pd.DataFrame()\n",
    "    df['f'] = disp_model[:, 0]\n",
    "    df['c'] = disp_model[:, 1]\n",
    "    df['mode'] = disp_model[:, 2]\n",
    "\n",
    "    df.to_excel(writers,key_subwork,index=False)\n",
    "\n",
    "    flag_num += 1\n",
    "    print('finish '+str(flag_num)+'/'+str(len(key_subworks)))\n",
    "\n",
    "writers.save()\n",
    "\"\"\""
   ]
  },
  {
   "cell_type": "code",
   "execution_count": 192,
   "metadata": {},
   "outputs": [
    {
     "data": {
      "text/plain": [
       "\"\\n# disp data xlsx\\nos.chdir('/home/harmon/data/git_repo/F-J_Workflow/San_Jasinto/')\\nfilename = 'disp_data.xlsx'\\n\\nif not os.path.exists(info_basic['dir_inv_dispernet']+filename):\\n    df = pd.DataFrame()\\n    df.to_excel(info_basic['dir_inv_dispernet']+filename,index=False)\\n\\nbooks = load_workbook(info_basic['dir_inv_dispernet']+filename)\\nwriters = pd.ExcelWriter(info_basic['dir_inv_dispernet']+filename, engine='openpyxl')\\nwriters.book = books\\n\\nflag_num = 0\\nfor key_subwork in key_subworks:\\n    file_model = dir_inv_dispernet + '/data/ds_'+key_subwork+'curve.txt'\\n    disp_model = np.loadtxt(file_model)\\n    \\n    \\n    df = pd.DataFrame()\\n    df['f'] = disp_model[:, 0]\\n    df['c'] = disp_model[:, 1]\\n    df['mode'] = disp_model[:, 2]\\n\\n    df.to_excel(writers,key_subwork,index=False)\\n\\n    flag_num += 1\\n    print('finish '+str(flag_num)+'/'+str(len(key_subworks)))\\n\\nwriters.save()\\n\""
      ]
     },
     "execution_count": 192,
     "metadata": {},
     "output_type": "execute_result"
    }
   ],
   "source": [
    "\"\"\"\n",
    "# disp data xlsx\n",
    "os.chdir('/home/harmon/data/git_repo/F-J_Workflow/San_Jasinto/')\n",
    "filename = 'disp_data.xlsx'\n",
    "\n",
    "if not os.path.exists(info_basic['dir_inv_dispernet']+filename):\n",
    "    df = pd.DataFrame()\n",
    "    df.to_excel(info_basic['dir_inv_dispernet']+filename,index=False)\n",
    "\n",
    "books = load_workbook(info_basic['dir_inv_dispernet']+filename)\n",
    "writers = pd.ExcelWriter(info_basic['dir_inv_dispernet']+filename, engine='openpyxl')\n",
    "writers.book = books\n",
    "\n",
    "flag_num = 0\n",
    "for key_subwork in key_subworks:\n",
    "    file_model = dir_inv_dispernet + '/data/ds_'+key_subwork+'curve.txt'\n",
    "    disp_model = np.loadtxt(file_model)\n",
    "    \n",
    "    \n",
    "    df = pd.DataFrame()\n",
    "    df['f'] = disp_model[:, 0]\n",
    "    df['c'] = disp_model[:, 1]\n",
    "    df['mode'] = disp_model[:, 2]\n",
    "\n",
    "    df.to_excel(writers,key_subwork,index=False)\n",
    "\n",
    "    flag_num += 1\n",
    "    print('finish '+str(flag_num)+'/'+str(len(key_subworks)))\n",
    "\n",
    "writers.save()\n",
    "\"\"\""
   ]
  },
  {
   "cell_type": "code",
   "execution_count": 193,
   "metadata": {},
   "outputs": [
    {
     "data": {
      "text/plain": [
       "\"\\ndir_inv_dispernet = info_basic['dir_inv_dispernet']\\nos.listdir(dir_inv_dispernet)[0][-3:]\\nfor file in os.listdir(dir_inv_dispernet):\\n    if file[-3:] == 'txt':\\n        os.remove(dir_inv_dispernet+file)\\n\""
      ]
     },
     "execution_count": 193,
     "metadata": {},
     "output_type": "execute_result"
    }
   ],
   "source": [
    "\"\"\"\n",
    "dir_inv_dispernet = info_basic['dir_inv_dispernet']\n",
    "os.listdir(dir_inv_dispernet)[0][-3:]\n",
    "for file in os.listdir(dir_inv_dispernet):\n",
    "    if file[-3:] == 'txt':\n",
    "        os.remove(dir_inv_dispernet+file)\n",
    "\"\"\""
   ]
  },
  {
   "cell_type": "code",
   "execution_count": 194,
   "metadata": {},
   "outputs": [],
   "source": [
    "with open(dir_project+'Basic_info.yml', 'w', encoding='utf-8') as f:\n",
    "   yaml.dump(data=info_basic, stream=f, allow_unicode=True)"
   ]
  }
 ],
 "metadata": {
  "kernelspec": {
   "display_name": "Python 3 (ipykernel)",
   "language": "python",
   "name": "python3"
  },
  "language_info": {
   "codemirror_mode": {
    "name": "ipython",
    "version": 3
   },
   "file_extension": ".py",
   "mimetype": "text/x-python",
   "name": "python",
   "nbconvert_exporter": "python",
   "pygments_lexer": "ipython3",
   "version": "3.8.18"
  }
 },
 "nbformat": 4,
 "nbformat_minor": 4
}
