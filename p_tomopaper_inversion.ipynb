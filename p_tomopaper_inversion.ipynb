{
 "cells": [
  {
   "cell_type": "code",
   "execution_count": 14,
   "metadata": {},
   "outputs": [],
   "source": [
    "import numpy as np\n",
    "import matplotlib.pyplot as plt\n",
    "import argparse\n",
    "from scipy.stats import gaussian_kde\n",
    "import os\n",
    "import yaml\n",
    "import h5py\n",
    "import pandas as pd\n",
    "import openpyxl\n",
    "from openpyxl import load_workbook\n",
    "import time\n",
    "\n",
    "import warnings"
   ]
  },
  {
   "cell_type": "code",
   "execution_count": 15,
   "metadata": {},
   "outputs": [],
   "source": [
    "import sys\n",
    "sys.path.append(r'../tools_F-J/')\n",
    "sys.path.append(r'../tools_F-J/toollib_DisbaCode')\n",
    "from objective_function import (ObjectiveFunctionDerivativeUsed, Forward)\n",
    "from toollib_DisbaCode import forward\n",
    "from toollib_DisbaCode import objective_function\n",
    "from toollib_DisbaCode import empirical_relation\n",
    "from toollib_DisbaCode import plot_disp\n",
    "from toollib_DisbaCode import plot_model\n",
    "from toollib_DisbaCode import plot_lcurve\n",
    "from toollib_DisbaCode import plot_inversion_paper   \n",
    "from toollib_DisbaCode import plot_kernel\n",
    "\n",
    "#from toollib_standard import maplib\n",
    "#from toollib_standard import mathlib\n",
    "#from toollib_standard import filelib\n",
    "#from toollib_standard import stacklib\n",
    "from toollib_standard import plotlib"
   ]
  },
  {
   "cell_type": "code",
   "execution_count": 16,
   "metadata": {},
   "outputs": [],
   "source": [
    "flag_project = 1 # 0--regular; 1--repartrition; 2--voronoi\n",
    "flag_mode = 2 # 0--fundamental; 1--Overtones; 2--Both\n",
    "flag_forward = 1 # 0--no forward calculation; 1--forward calculation\n",
    "file_init = 'initial/initial_model_4.txt'"
   ]
  },
  {
   "cell_type": "code",
   "execution_count": 17,
   "metadata": {},
   "outputs": [],
   "source": [
    "if flag_project == 0:\n",
    "    file_project = 'a-project.yml'\n",
    "elif flag_project == 1:\n",
    "    file_project = 'a-project_repar.yml'\n",
    "elif flag_project == 2:\n",
    "    file_project = 'a-project_voro.yml'\n",
    "    \n",
    "with open(file_project, 'r', encoding='utf-8') as f:\n",
    "    proj = yaml.load(f.read(), Loader=yaml.FullLoader)\n",
    "name_project = proj['name']\n",
    "\n",
    "#name_project = 'project/output_FJSJ_16-01/'               \n",
    "#name_project = 'project_repartrition/repartrition_01-03/'               \n",
    "#name_project = 'project_voronoi/voronoi_01-03/'         "
   ]
  },
  {
   "cell_type": "code",
   "execution_count": 18,
   "metadata": {},
   "outputs": [
    {
     "name": "stdout",
     "output_type": "stream",
     "text": [
      "dir_CC_workspace:  ./\n",
      "dir_project_workspace:  ./\n",
      "dir_project:  ./project_repartition_v4.0/output_repar_v9.5_02--10-16Hz/\n"
     ]
    }
   ],
   "source": [
    "with open('0_config.yml', 'r', encoding='utf-8') as f:\n",
    "    dir_config = yaml.load(f.read(), Loader=yaml.FullLoader)\n",
    "dir_project_workspace = dir_config['dir_project_workspace']\n",
    "dir_CC_workspace = dir_config['dir_CC_workspace']\n",
    "print('dir_CC_workspace: ', dir_CC_workspace)\n",
    "print('dir_project_workspace: ', dir_project_workspace)\n",
    "dir_project = os.path.join(dir_project_workspace, name_project)\n",
    "print('dir_project: ', dir_project)"
   ]
  },
  {
   "cell_type": "code",
   "execution_count": 19,
   "metadata": {},
   "outputs": [],
   "source": [
    "filename = dir_project+'Basic_info.yml'\n",
    "with open(filename, 'r', encoding='utf-8') as f:\n",
    "    info_basic = yaml.load(f.read(), Loader=yaml.FullLoader)\n",
    "filename_bi = dir_project+'Basic_info.npy'\n",
    "info_basic_bi = np.load(filename_bi, allow_pickle='TRUE').item()      # setting dictionary"
   ]
  },
  {
   "cell_type": "code",
   "execution_count": 20,
   "metadata": {},
   "outputs": [],
   "source": [
    "dir_ds = dir_project + info_basic['rdir_ds']\n",
    "dir_partition = dir_project + info_basic['rdir_partition']\n",
    "dir_inv = dir_project + info_basic['rdir_inv_BFGS']\n",
    "f0 = info_basic_bi['f']\n",
    "c = np.linspace(info_basic['fj_c_min'], info_basic['fj_c_max'], info_basic['fj_c_num'])"
   ]
  },
  {
   "cell_type": "code",
   "execution_count": 21,
   "metadata": {},
   "outputs": [],
   "source": [
    "file_config_fund = 'config_inv_fund.yml'\n",
    "file_config = 'config_inv.yml'"
   ]
  },
  {
   "cell_type": "code",
   "execution_count": 22,
   "metadata": {},
   "outputs": [],
   "source": [
    "if flag_mode == 0:\n",
    "    dir_image = dir_project +  info_basic['rdir_image'] + 'inversion_fund/'\n",
    "elif flag_mode == 1:\n",
    "    dir_image = dir_project +  info_basic['rdir_image'] + 'inversion_over/'\n",
    "elif flag_mode == 2:\n",
    "    dir_image = dir_project +  info_basic['rdir_image'] + 'inversion_compare/'\n",
    "else: \n",
    "    print('Mode error')\n",
    "    exit()\n",
    "\n",
    "if not os.path.exists(dir_image):\n",
    "    os.mkdir(dir_image)\n",
    "\n",
    "if flag_mode != 0:\n",
    "    info_basic['rdir_BFGS_invfile'] = info_basic['rdir_inv_BFGS'] + 'inversion/'\n",
    "    info_basic['rdir_disp_model'] = info_basic['rdir_inv_BFGS'] + 'disp_model/'\n",
    "    info_basic['rdir_model'] = info_basic['rdir_inv_BFGS'] + 'model/'\n",
    "    dir_invfile = dir_project + info_basic['rdir_BFGS_invfile']\n",
    "    dir_disp_model = dir_project + info_basic['rdir_disp_model']\n",
    "    dir_model = dir_project + info_basic['rdir_model']\n",
    "\n",
    "    if not os.path.exists(dir_invfile):\n",
    "        os.mkdir(dir_invfile)\n",
    "    if not os.path.exists(dir_disp_model):\n",
    "        os.mkdir(dir_disp_model)\n",
    "    if not os.path.exists(dir_model):\n",
    "        os.mkdir(dir_model)\n",
    "if flag_mode !=  1:\n",
    "    info_basic['rdir_BFGS_invfile_fund'] = info_basic['rdir_inv_BFGS'] + 'inversion_fund/'\n",
    "    info_basic['rdir_disp_model_fund'] = info_basic['rdir_inv_BFGS'] + 'disp_model_fund/'\n",
    "    info_basic['rdir_model_fund'] = info_basic['rdir_inv_BFGS'] + 'model_fund/'\n",
    "    dir_invfile_fund = dir_project + info_basic['rdir_BFGS_invfile_fund']\n",
    "    dir_disp_model_fund = dir_project + info_basic['rdir_disp_model_fund']\n",
    "    dir_model_fund = dir_project + info_basic['rdir_model_fund']\n",
    "    if not os.path.exists(dir_invfile_fund):\n",
    "        os.mkdir(dir_invfile_fund)\n",
    "    if not os.path.exists(dir_disp_model_fund):\n",
    "        os.mkdir(dir_disp_model_fund)\n",
    "    if not os.path.exists(dir_model_fund):\n",
    "        os.mkdir(dir_model_fund)"
   ]
  },
  {
   "cell_type": "code",
   "execution_count": 23,
   "metadata": {},
   "outputs": [],
   "source": [
    "with open(dir_inv+file_config, 'r') as fp:\n",
    "    config = yaml.safe_load(fp)\n",
    "with open(dir_inv+file_config_fund, 'r') as fp:\n",
    "    config_fund = yaml.safe_load(fp)\n",
    "\n",
    "c_map = 'jet'\n",
    "v_max = None\n",
    "v_min = 0.1\n",
    "\n",
    "all_disp = 0\n",
    "show_std = 1\n",
    "show_init = 0\n",
    "plot_fund = 1\n",
    "xlim_f = [0.5,30]\n",
    "xlim_T = [-1,1]\n",
    "ylim_c = [0.25,1.8]\n",
    "clim = [0,1]\n",
    "fmin = 1\n",
    "fmax = 30\n",
    "cmin = 0.1\n",
    "cmax = 2.5\n",
    "vmax = 0.3\n",
    "\n",
    "max_mode = 4"
   ]
  },
  {
   "cell_type": "code",
   "execution_count": 24,
   "metadata": {},
   "outputs": [
    {
     "name": "stderr",
     "output_type": "stream",
     "text": [
      "The PostScript backend does not support transparency; partially transparent artists will be rendered opaque.\n"
     ]
    },
    {
     "data": {
      "image/png": "[encoded data removed]",
      "text/plain": [
       "<Figure size 600x800 with 1 Axes>"
      ]
     },
     "metadata": {},
     "output_type": "display_data"
    }
   ],
   "source": [
    "key_subwork = '244--35-09'\n",
    "file_inv =  'ds_'+key_subwork+'curve'\n",
    "file_disp_data = dir_project + info_basic['rdir_disp_pick']+'ds_'+key_subwork+'curve.txt'\n",
    "if flag_mode != 0:\n",
    "    file_model = 'model_'+key_subwork+'.txt'\n",
    "    file_disp_forward = dir_disp_model +  'disp_model_'+key_subwork+'.txt'\n",
    "    if not os.path.exists(dir_invfile+file_inv):\n",
    "        print(key_subwork+'Overtone inversion data file not exist')\n",
    "        plt.close()\n",
    "if flag_mode != 1: \n",
    "    file_model_fund = 'model_'+key_subwork+'.txt'\n",
    "    file_disp_forward_fund = dir_disp_model_fund +  'disp_model_'+key_subwork+'.txt'\n",
    "    if not os.path.exists(dir_invfile_fund+file_inv):\n",
    "        print(key_subwork+' Fundamental inversion data file not exist')\n",
    "        plt.close()\n",
    "fig = plt.figure(figsize=(6, 8))\n",
    "ax_inv = fig.add_subplot(111)\n",
    "ax_inv,handles,labels = plot_inversion_paper.plot_model(config, file_inv, show_init, file_model,file_init,ax_inv,dir_this = dir_inv)\n",
    "model = np.loadtxt(dir_model + file_model)\n",
    "z = model[:, 1]\n",
    "z = np.append(z, z[-1]*1.2)\n",
    "vs = model[:, 3]\n",
    "vs = np.append(vs, vs[-1])\n",
    "p3,= ax_inv.step(vs, z, 'r-')\n",
    "handles.append(p3)\n",
    "labels.append('final estimated Vs')\n",
    "params = {\n",
    "          'legend.fontsize': 12}\n",
    "plt.rcParams.update(params)\n",
    "ax_inv.legend(handles, labels, loc='lower left')\n",
    "plt.savefig(dir_image+'fjworkflow_inversion.eps')"
   ]
  }
 ],
 "metadata": {
  "kernelspec": {
   "display_name": "disba",
   "language": "python",
   "name": "python3"
  },
  "language_info": {
   "codemirror_mode": {
    "name": "ipython",
    "version": 3
   },
   "file_extension": ".py",
   "mimetype": "text/x-python",
   "name": "python",
   "nbconvert_exporter": "python",
   "pygments_lexer": "ipython3",
   "version": "3.8.18"
  }
 },
 "nbformat": 4,
 "nbformat_minor": 2
}
