{
 "cells": [
  {
   "cell_type": "code",
   "execution_count": 23,
   "metadata": {},
   "outputs": [],
   "source": [
    "import numpy as np\n",
    "import matplotlib.pyplot as plt\n",
    "import pandas as pd\n",
    "import openpyxl\n",
    "from openpyxl import load_workbook\n",
    "import os\n",
    "import os.path as op\n",
    "#from ccfj import GetStationPairs\n",
    "from geopy.distance import great_circle\n",
    "#import shapefile\n",
    "import geopandas as gp\n",
    "import yaml\n",
    "import math\n",
    "import shutil"
   ]
  },
  {
   "cell_type": "code",
   "execution_count": 24,
   "metadata": {},
   "outputs": [],
   "source": [
    "from BayHunter import PlotFromStorage\n",
    "from BayHunter import Targets\n",
    "from BayHunter import utils\n",
    "from BayHunter import MCMC_Optimizer\n",
    "from BayHunter import ModelMatrix\n",
    "from BayHunter import SynthObs\n",
    "import logging,sys,getopt"
   ]
  },
  {
   "cell_type": "code",
   "execution_count": 25,
   "metadata": {},
   "outputs": [],
   "source": [
    "import sys\n",
    "sys.path.append(r'../tools_F-J/')\n",
    "from toollib_standard import mathlib"
   ]
  },
  {
   "cell_type": "code",
   "execution_count": 26,
   "metadata": {},
   "outputs": [],
   "source": [
    "# console printout formatting\n",
    "formatter = ' %(processName)-12s: %(levelname)-8s |  %(message)s'\n",
    "logging.basicConfig(format=formatter, level=logging.INFO)\n",
    "logger = logging.getLogger()\n",
    "initial_model = 'initial_model_1.txt'"
   ]
  },
  {
   "cell_type": "code",
   "execution_count": 27,
   "metadata": {},
   "outputs": [],
   "source": [
    "flag_project = 1 # 0--regular; 1--repartrition"
   ]
  },
  {
   "cell_type": "code",
   "execution_count": 28,
   "metadata": {},
   "outputs": [],
   "source": [
    "if flag_project == 0:\n",
    "    file_project = 'a-project.yml'\n",
    "elif flag_project == 1:\n",
    "    file_project = 'a-project_repar.yml'\n",
    "elif flag_project == 2:\n",
    "    file_project = 'a-project_voro.yml'\n",
    "    \n",
    "with open(file_project, 'r', encoding='utf-8') as f:\n",
    "    proj = yaml.load(f.read(), Loader=yaml.FullLoader)\n",
    "name_project = proj['name']"
   ]
  },
  {
   "cell_type": "code",
   "execution_count": 29,
   "metadata": {},
   "outputs": [
    {
     "name": "stdout",
     "output_type": "stream",
     "text": [
      "dir_CC_workspace:  ./\n",
      "dir_project_workspace:  ./\n",
      "dir_project:  ./project_repartition_v4.0/output_repar_v9.5_01--10-16Hz/\n"
     ]
    }
   ],
   "source": [
    "with open('0_config.yml', 'r', encoding='utf-8') as f:\n",
    "    dir_config = yaml.load(f.read(), Loader=yaml.FullLoader)\n",
    "dir_project_workspace = dir_config['dir_project_workspace']\n",
    "dir_CC_workspace = dir_config['dir_CC_workspace']\n",
    "print('dir_CC_workspace: ', dir_CC_workspace)\n",
    "print('dir_project_workspace: ', dir_project_workspace)\n",
    "dir_project = os.path.join(dir_project_workspace, name_project)\n",
    "print('dir_project: ', dir_project)"
   ]
  },
  {
   "cell_type": "code",
   "execution_count": 30,
   "metadata": {},
   "outputs": [],
   "source": [
    "filename = dir_project+'Basic_info.yml'\n",
    "with open(filename, 'r', encoding='utf-8') as f:\n",
    "    info_basic = yaml.load(f.read(), Loader=yaml.FullLoader)\n",
    "filename_bi = dir_project+'Basic_info.npy'\n",
    "info_basic_bi = np.load(filename_bi, allow_pickle='TRUE').item()      # setting dictionary"
   ]
  },
  {
   "cell_type": "code",
   "execution_count": 31,
   "metadata": {},
   "outputs": [],
   "source": [
    "dir_partition = dir_project + info_basic['rdir_partition']\n",
    "dir_data = dir_project + info_basic['rdir_disp_pick']\n",
    "dir_inv_MCMC = dir_project + info_basic['rdir_inv_McMC']\n",
    "outname_config = dir_inv_MCMC + 'config_McMC.ini'"
   ]
  },
  {
   "cell_type": "code",
   "execution_count": 32,
   "metadata": {},
   "outputs": [],
   "source": [
    "with open(dir_project+'Basic_info.yml', 'w', encoding='utf-8') as f:\n",
    "   yaml.dump(data=info_basic, stream=f, allow_unicode=True)"
   ]
  },
  {
   "cell_type": "code",
   "execution_count": 33,
   "metadata": {},
   "outputs": [
    {
     "data": {
      "text/plain": [
       "['1--08-03']"
      ]
     },
     "execution_count": 33,
     "metadata": {},
     "output_type": "execute_result"
    }
   ],
   "source": [
    "nums = [1]\n",
    "key_subworks_all = info_basic['key_subworks']\n",
    "key_subworks = []\n",
    "for num in nums:\n",
    "    for key_subwork in key_subworks_all:\n",
    "        if str(num) == key_subwork.split('--')[0]:\n",
    "            key_subworks.append(key_subwork)\n",
    "            break\n",
    "#key_subworks = info_basic['key_subworks']\n",
    "M = len(key_subworks)\n",
    "key_subworks"
   ]
  },
  {
   "cell_type": "code",
   "execution_count": 34,
   "metadata": {},
   "outputs": [],
   "source": [
    "stalistname_all = info_basic['stalistname_all']\n",
    "stainfo = pd.read_excel(stalistname_all)\n",
    "nsta_all = len(stainfo.iloc[:,0])\n",
    "StationPairs_all = mathlib.GetStationPairs(nsta_all)\n",
    "nPairs_all = int(len(StationPairs_all)/2)\n",
    "stalist_all = stainfo['Station'].tolist() \n",
    "lat_stations_all =  stainfo['latitude'].tolist() \n",
    "lon_stations_all =  stainfo['longitude'].tolist() \n",
    "elevation_stations_all = stainfo['elevation'].tolist()"
   ]
  },
  {
   "cell_type": "code",
   "execution_count": 35,
   "metadata": {},
   "outputs": [],
   "source": [
    "stations_partition = {}\n",
    "lat_stations_partition = {}\n",
    "lon_stations_partition = {}\n",
    "lat_centroid_partition = []\n",
    "lon_centroid_partition = []\n",
    "num_stations = []\n",
    "for key in key_subworks:\n",
    "    filepath = dir_partition + str(key) + '.txt'\n",
    "    stations_this, lat_stations_this, lon_stations_this = np.loadtxt(filepath, dtype='str' , unpack=True)\n",
    "    stations_partition[key] = stations_this\n",
    "    lat_stations_partition[key] = lat_stations_this.astype(float)\n",
    "    lon_stations_partition[key] = lon_stations_this.astype(float)\n",
    "    num_stations.append(len(stations_this))\n",
    "    lat_centroid_partition.append(np.mean(lat_stations_this.astype(float)))\n",
    "    lon_centroid_partition.append(np.mean(lon_stations_this.astype(float)))"
   ]
  },
  {
   "cell_type": "code",
   "execution_count": 36,
   "metadata": {},
   "outputs": [],
   "source": [
    "key_subwork = key_subworks[0]"
   ]
  },
  {
   "cell_type": "code",
   "execution_count": 37,
   "metadata": {},
   "outputs": [],
   "source": [
    "modes_number = 1"
   ]
  },
  {
   "cell_type": "code",
   "execution_count": 38,
   "metadata": {},
   "outputs": [],
   "source": [
    "# create init\n",
    "priors, initparams = utils.load_params(outname_config)\n",
    "refinitmodel = {}\n",
    "refdep, refvs = np.loadtxt(dir_inv_MCMC+'/initial/'+initial_model, usecols=[1, 3]).T # should conside the half space \n",
    "refinitmodel = {'model': (refdep, refvs),'nlays': len(refdep)}\n",
    "prefdep = np.concatenate((np.repeat(refdep, 2)[1:], [0.3]))\n",
    "prefvs = np.repeat(refvs, 2)\n",
    "initmodel = {'model': (prefdep, prefvs),'nlays': len(prefdep)-1}"
   ]
  },
  {
   "cell_type": "code",
   "execution_count": 39,
   "metadata": {},
   "outputs": [],
   "source": [
    "# load disp data\n",
    "file_data = dir_data + 'ds_'+key_subwork+'curve.txt'\n",
    "disp_data = np.loadtxt(file_data, dtype='float', unpack=True).T\n",
    "xsws=dict();ysws=dict()\n",
    "modes = list(set(disp_data[:,2].astype(int)))\n",
    "for m in modes:\n",
    "    d = disp_data[disp_data[:,2] == m]\n",
    "    freqs = d[:,0]; vels = d[:,1]\n",
    "    xsws[m]=1.0/freqs[::-1]; ysws[m]=vels[::-1]"
   ]
  },
  {
   "cell_type": "code",
   "execution_count": 40,
   "metadata": {},
   "outputs": [
    {
     "name": "stderr",
     "output_type": "stream",
     "text": [
      " MainProcess : INFO     |  Initiated target: RayleighDispersionPhase (ref: rdispph)\n"
     ]
    },
    {
     "name": "stdout",
     "output_type": "stream",
     "text": [
      "Your observed data vector exceeds the maximum of 60 periods that is allowed in SurfDisp. For forward modeling SurfDisp will reduce the samples to 60 by linear interpolation within the given period span.\n",
      "From this data, the dispersion velocities to your observed periods will be determined. The precision of the data will depend on the distribution of your samples and the complexity of the input velocity-depth model.\n",
      "mode:  1\n"
     ]
    }
   ],
   "source": [
    "# Definee the target\n",
    "jointargets = []\n",
    "if modes_number > modes[-1]:\n",
    "    modes_used = modes\n",
    "else:\n",
    "    modes_used = [num for num in range(modes_number+1)]\n",
    "\n",
    "for m in modes_used:\n",
    "    target_swd = Targets.RayleighDispersionPhase(xsws[m], ysws[m])\n",
    "    #target_swd = Targets.LoveDispersionPhase(xsws[m], ysws[m])\n",
    "    target_swd.moddata.plugin.set_modelparams(mode=m+1)\n",
    "    print(\"mode: \", target_swd.moddata.plugin.modelparams['mode'])\n",
    "    jointargets.append(target_swd)\n",
    "targets = Targets.JointTarget(jointargets)"
   ]
  },
  {
   "cell_type": "code",
   "execution_count": 41,
   "metadata": {},
   "outputs": [],
   "source": [
    "# parameter update\n",
    "savepath = dir_inv_MCMC + 'inversion/' + key_subwork + '/'\n",
    "if not os.path.exists(savepath):\n",
    "    os.makedirs(savepath)\n",
    "priors.update({\n",
    "               #'mohoest': (38, 4),  # optional, moho estimate (mean, std)\n",
    "               'rfnoise_corr': 0.98,\n",
    "               'swdnoise_corr': 0.\n",
    "               # 'rfnoise_sigma': np.std(yrf_err),  # fixed to true value\n",
    "               # 'swdnoise_sigma': np.std(ysw_err),  # fixed to true value\n",
    "               })\n",
    "initparams.update({'nchains': 10,\n",
    "                   'iter_burnin': (2048 * 32),\n",
    "                   'iter_main': (2048 * 16),\n",
    "                   'propdist': (0.030, 0.0025, 0.015, 0.005), # vs, depth, layer brith or death, noise lavel\n",
    "                   'savepath': savepath\n",
    "                   })"
   ]
  },
  {
   "cell_type": "code",
   "execution_count": 42,
   "metadata": {},
   "outputs": [
    {
     "name": "stderr",
     "output_type": "stream",
     "text": [
      " MainProcess : INFO     |  > Chain arrays are initiated...\n",
      " MainProcess : INFO     |  ... they occupy ~363 MB memory.\n",
      " MainProcess : INFO     |  > 10 chain(s) are initiated ...\n",
      " MainProcess : INFO     |  > Sending out chain 0\n",
      " MainProcess : INFO     |  > Sending out chain 1\n",
      " MainProcess : INFO     |  > Sending out chain 2\n",
      " MainProcess : INFO     |  > Sending out chain 3\n",
      " MainProcess : INFO     |  > Sending out chain 4\n",
      " MainProcess : INFO     |  > Sending out chain 5\n",
      " MainProcess : INFO     |  > Sending out chain 6\n",
      " MainProcess : INFO     |  > Sending out chain 7\n",
      " MainProcess : INFO     |  > Sending out chain 8\n",
      " MainProcess : INFO     |  > Sending out chain 9\n",
      " chain 8     : INFO     |  -65001    99 + hs    0.064\t      217 |  10.6 s  | 53.9 %\n",
      " chain 0     : INFO     |  -65000    99 + hs    0.057\t      250 |  10.9 s  | 58.2 %\n",
      " chain 4     : INFO     |  -65000    99 + hs    0.054\t      266 |  10.8 s  | 55.8 %\n",
      " chain 5     : INFO     |  -65000    99 + hs    0.043\t      310 |  10.9 s  | 56.3 %\n",
      " chain 6     : INFO     |  -65000    99 + hs    0.056\t      255 |  11.1 s  | 54.5 %\n",
      " chain 3     : INFO     |  -65000    99 + hs    0.045\t      300 |  11.3 s  | 56.9 %\n",
      " chain 1     : INFO     |  -65002    99 + hs    0.032\t      359 |  11.5 s  | 60.1 %\n",
      " chain 9     : INFO     |  -65000    99 + hs    0.041\t      319 |  11.5 s  | 55.0 %\n",
      " chain 2     : INFO     |  -65000    99 + hs    0.043\t      310 |  11.9 s  | 64.0 %\n",
      " chain 3     : INFO     |  -60003    35 + hs    0.004\t      743 |  71.7 s  | 34.4 %\n",
      " chain 1     : INFO     |  -60001    37 + hs    0.006\t      689 |  73.1 s  | 37.1 %\n",
      " chain 0     : INFO     |  -60001    42 + hs    0.007\t      657 |  75.2 s  | 37.7 %\n",
      " chain 6     : INFO     |  -60001    38 + hs    0.005\t      729 |  76.1 s  | 36.0 %\n",
      " chain 2     : INFO     |  -60000    45 + hs    0.006\t      673 |  78.0 s  | 40.0 %\n",
      " chain 4     : INFO     |  -60001    43 + hs    0.005\t      719 |  79.7 s  | 36.3 %\n",
      " chain 7     : INFO     |  -60002    39 + hs    0.006\t      697 |  91.7 s  | 36.5 %\n",
      " chain 5     : INFO     |  -60001    48 + hs    0.004\t      742 |  81.3 s  | 35.1 %\n",
      " chain 9     : INFO     |  -60001    47 + hs    0.006\t      688 |  84.8 s  | 38.1 %\n",
      " chain 3     : INFO     |  -55012    35 + hs    0.004\t      765 |  50.3 s  | 28.8 %\n",
      " chain 6     : INFO     |  -55008    30 + hs    0.005\t      735 |  47.0 s  | 32.3 %\n",
      " chain 7     : INFO     |  -55004    24 + hs    0.005\t      732 |  44.0 s  | 30.9 %\n",
      " chain 0     : INFO     |  -55000    36 + hs    0.006\t      697 |  55.8 s  | 33.7 %\n",
      " chain 8     : INFO     |  -55001    33 + hs    0.004\t      751 | 134.0 s  | 31.3 %\n",
      " chain 2     : INFO     |  -55003    34 + hs    0.005\t      710 |  55.9 s  | 34.2 %\n",
      " chain 4     : INFO     |  -55014    40 + hs    0.004\t      742 |  57.5 s  | 31.1 %\n",
      " chain 9     : INFO     |  -55000    34 + hs    0.004\t      761 |  55.9 s  | 31.9 %\n",
      " chain 7     : INFO     |  -50009    23 + hs    0.004\t      757 |  37.2 s  | 28.2 %\n",
      " chain 1     : INFO     |  -50009    31 + hs    0.004\t      755 |  89.4 s  | 29.0 %\n",
      " chain 6     : INFO     |  -50000    30 + hs    0.005\t      732 |  42.7 s  | 30.5 %\n",
      " chain 3     : INFO     |  -50004    37 + hs    0.004\t      778 |  53.0 s  | 26.7 %\n",
      " chain 8     : INFO     |  -50007    32 + hs    0.004\t      755 |  47.1 s  | 29.0 %\n",
      " chain 2     : INFO     |  -50002    37 + hs    0.005\t      739 |  50.7 s  | 31.2 %\n",
      " chain 0     : INFO     |  -50002    39 + hs    0.005\t      704 |  55.6 s  | 31.5 %\n",
      " chain 9     : INFO     |  -50004    33 + hs    0.004\t      775 |  49.8 s  | 29.2 %\n",
      " chain 5     : INFO     |  -50001    36 + hs    0.004\t      757 | 113.2 s  | 27.8 %\n",
      " chain 7     : INFO     |  -45002    23 + hs    0.004\t      757 |  34.2 s  | 26.2 %\n",
      " chain 1     : INFO     |  -45006    28 + hs    0.004\t      767 |  43.3 s  | 27.4 %\n",
      " chain 6     : INFO     |  -45004    29 + hs    0.005\t      735 |  45.9 s  | 29.3 %\n",
      " chain 8     : INFO     |  -45003    26 + hs    0.004\t      758 |  45.0 s  | 27.1 %\n",
      " chain 3     : INFO     |  -45000    34 + hs    0.004\t      777 |  51.4 s  | 25.7 %\n",
      " chain 7     : INFO     |  -40001    21 + hs    0.004\t      767 |  33.8 s  | 24.9 %\n",
      " chain 2     : INFO     |  -45000    37 + hs    0.004\t      772 |  52.9 s  | 29.5 %\n",
      " chain 4     : INFO     |  -45010    36 + hs    0.004\t      757 | 106.9 s  | 27.0 %\n",
      " chain 5     : INFO     |  -45002    36 + hs    0.004\t      757 |  55.3 s  | 26.2 %\n",
      " chain 1     : INFO     |  -40001    33 + hs    0.004\t      774 |  47.3 s  | 26.3 %\n",
      " chain 6     : INFO     |  -40004    26 + hs    0.005\t      739 |  42.3 s  | 28.4 %\n",
      " chain 7     : INFO     |  -35000    20 + hs    0.004\t      761 |  31.4 s  | 23.8 %\n",
      " chain 8     : INFO     |  -40000    24 + hs    0.004\t      763 |  38.6 s  | 25.6 %\n",
      " chain 3     : INFO     |  -40009    29 + hs    0.004\t      776 |  48.4 s  | 24.5 %\n",
      " chain 9     : INFO     |  -40003    24 + hs    0.004\t      781 |  92.2 s  | 26.8 %\n",
      " chain 2     : INFO     |  -40000    32 + hs    0.003\t      791 |  50.5 s  | 28.3 %\n",
      " chain 7     : INFO     |  -30007    18 + hs    0.004\t      773 |  29.6 s  | 23.0 %\n",
      " chain 6     : INFO     |  -35000    25 + hs    0.005\t      740 |  40.5 s  | 28.0 %\n",
      " chain 4     : INFO     |  -40000    33 + hs    0.004\t      756 |  51.7 s  | 26.2 %\n",
      " chain 8     : INFO     |  -35007    26 + hs    0.004\t      768 |  37.8 s  | 24.7 %\n",
      " chain 0     : INFO     |  -40006    39 + hs    0.005\t      728 | 116.9 s  | 29.2 %\n",
      " chain 1     : INFO     |  -35006    38 + hs    0.004\t      774 |  51.5 s  | 25.9 %\n",
      " chain 9     : INFO     |  -35003    18 + hs    0.004\t      783 |  34.5 s  | 25.7 %\n",
      " chain 7     : INFO     |  -25007    17 + hs    0.004\t      776 |  29.2 s  | 22.1 %\n",
      " chain 3     : INFO     |  -35001    36 + hs    0.004\t      776 |  47.9 s  | 23.7 %\n",
      " chain 6     : INFO     |  -30000    27 + hs    0.005\t      736 |  38.3 s  | 27.5 %\n",
      " chain 2     : INFO     |  -35010    30 + hs    0.003\t      809 |  44.7 s  | 27.3 %\n",
      " chain 8     : INFO     |  -30000    23 + hs    0.004\t      772 |  36.4 s  | 23.8 %\n",
      " chain 4     : INFO     |  -35000    28 + hs    0.004\t      754 |  43.9 s  | 25.5 %\n",
      " chain 7     : INFO     |  -20000    18 + hs    0.004\t      772 |  25.4 s  | 21.1 %\n",
      " chain 9     : INFO     |  -30000    19 + hs    0.004\t      787 |  30.3 s  | 24.8 %\n",
      " chain 0     : INFO     |  -35008    34 + hs    0.005\t      729 |  51.5 s  | 28.3 %\n",
      " chain 1     : INFO     |  -30006    30 + hs    0.004\t      770 |  50.8 s  | 25.8 %\n",
      " chain 2     : INFO     |  -30003    24 + hs    0.003\t      809 |  38.9 s  | 26.4 %\n",
      " chain 6     : INFO     |  -25002    27 + hs    0.004\t      742 |  40.6 s  | 27.2 %\n",
      " chain 3     : INFO     |  -30018    37 + hs    0.004\t      778 |  50.7 s  | 23.2 %\n",
      " chain 8     : INFO     |  -25002    26 + hs    0.004\t      771 |  35.5 s  | 23.0 %\n",
      " chain 7     : INFO     |  -15000    23 + hs    0.004\t      776 |  29.3 s  | 20.5 %\n",
      " chain 9     : INFO     |  -25005    18 + hs    0.004\t      788 |  28.0 s  | 23.8 %\n",
      " chain 4     : INFO     |  -30001    30 + hs    0.004\t      754 |  42.0 s  | 24.9 %\n",
      " chain 1     : INFO     |  -25000    35 + hs    0.004\t      772 |  50.0 s  | 25.6 %\n",
      " chain 5     : INFO     |  -30010    35 + hs    0.004\t      759 | 157.0 s  | 24.4 %\n",
      " chain 9     : INFO     |  -20016    22 + hs    0.003\t      791 |  30.9 s  | 23.2 %\n",
      " chain 7     : INFO     |  -10005    24 + hs    0.004\t      775 |  35.3 s  | 20.3 %\n",
      " chain 6     : INFO     |  -20000    22 + hs    0.005\t      736 |  39.4 s  | 26.9 %\n",
      " chain 8     : INFO     |  -20014    24 + hs    0.004\t      771 |  38.9 s  | 22.7 %\n",
      " chain 2     : INFO     |  -25007    29 + hs    0.003\t      812 |  41.5 s  | 25.8 %\n",
      " chain 4     : INFO     |  -25001    26 + hs    0.004\t      769 |  41.6 s  | 24.2 %\n",
      " chain 3     : INFO     |  -25006    37 + hs    0.004\t      783 |  51.6 s  | 22.9 %\n",
      " chain 9     : INFO     |  -15002    20 + hs    0.003\t      790 |  33.1 s  | 22.7 %\n",
      " chain 6     : INFO     |  -15000    18 + hs    0.005\t      734 |  31.6 s  | 26.7 %\n",
      " chain 2     : INFO     |  -20000    26 + hs    0.003\t      814 |  39.2 s  | 25.1 %\n",
      " chain 1     : INFO     |  -20009    30 + hs    0.004\t      773 |  47.6 s  | 25.1 %\n",
      " chain 5     : INFO     |  -25003    34 + hs    0.004\t      762 |  49.0 s  | 24.1 %\n",
      " chain 0     : INFO     |  -25000    38 + hs    0.005\t      732 | 102.1 s  | 27.4 %\n",
      " chain 4     : INFO     |  -20001    23 + hs    0.004\t      765 |  37.2 s  | 23.4 %\n",
      " chain 3     : INFO     |  -20001    28 + hs    0.004\t      780 |  47.0 s  | 22.8 %\n",
      " chain 6     : INFO     |  -10001    17 + hs    0.004\t      742 |  28.3 s  | 26.1 %\n",
      " chain 2     : INFO     |  -15001    26 + hs    0.003\t      810 |  38.2 s  | 24.4 %\n",
      " chain 4     : INFO     |  -15008    22 + hs    0.004\t      767 |  35.2 s  | 22.6 %\n",
      " chain 8     : INFO     |  -10001    29 + hs    0.004\t      777 |  82.7 s  | 21.9 %\n",
      " chain 1     : INFO     |  -15004    30 + hs    0.004\t      768 |  44.9 s  | 24.5 %\n",
      " chain 9     : INFO     |   -5005    16 + hs    0.003\t      793 |  59.3 s  | 21.5 %\n",
      " chain 6     : INFO     |   -5003    16 + hs    0.004\t      742 |  28.5 s  | 25.4 %\n",
      " chain 5     : INFO     |  -20007    35 + hs    0.004\t      764 |  51.0 s  | 23.9 %\n",
      " chain 0     : INFO     |  -20001    34 + hs    0.005\t      730 |  53.8 s  | 27.0 %\n",
      " chain 3     : INFO     |  -15004    30 + hs    0.004\t      785 |  42.1 s  | 22.4 %\n",
      " chain 6     : INFO     |      -1    16 + hs    0.004\t      742 |  25.7 s  | 24.8 %\n",
      " chain 4     : INFO     |  -10008    24 + hs    0.004\t      768 |  35.7 s  | 21.9 %\n",
      " chain 2     : INFO     |  -10000    29 + hs    0.003\t      811 |  40.6 s  | 24.0 %\n",
      " chain 8     : INFO     |   -5000    29 + hs    0.004\t      777 |  42.4 s  | 21.5 %\n",
      " chain 1     : INFO     |  -10001    26 + hs    0.004\t      767 |  41.7 s  | 24.0 %\n",
      " chain 9     : INFO     |    4995    20 + hs    0.003\t      789 |  56.5 s  | 20.2 %\n",
      " chain 5     : INFO     |  -15002    35 + hs    0.004\t      764 |  51.0 s  | 23.6 %\n",
      " chain 0     : INFO     |  -15000    34 + hs    0.005\t      730 |  50.4 s  | 26.5 %\n",
      " chain 7     : INFO     |    9995    25 + hs    0.004\t      781 | 151.3 s  | 19.7 %\n",
      " chain 4     : INFO     |   -5005    29 + hs    0.004\t      766 |  39.9 s  | 21.4 %\n",
      " chain 2     : INFO     |   -5004    31 + hs    0.003\t      812 |  41.8 s  | 23.6 %\n",
      " chain 8     : INFO     |      -1    25 + hs    0.004\t      776 |  38.7 s  | 21.1 %\n",
      " chain 9     : INFO     |    9992    21 + hs    0.003\t      792 |  30.9 s  | 19.8 %\n",
      " chain 7     : INFO     |   14991    27 + hs    0.004\t      783 |  38.0 s  | 19.5 %\n",
      " chain 3     : INFO     |   -5000    33 + hs    0.004\t      787 |  92.3 s  | 22.0 %\n",
      " chain 6     : INFO     |   15000    18 + hs    0.004\t      741 |  81.1 s  | 23.2 %\n",
      " chain 5     : INFO     |  -10002    35 + hs    0.004\t      765 |  52.0 s  | 23.2 %\n",
      " chain 8     : INFO     |    4998    28 + hs    0.004\t      779 |  39.2 s  | 20.6 %\n",
      " chain 2     : INFO     |       0    29 + hs    0.003\t      813 |  42.9 s  | 23.1 %\n",
      " chain 9     : INFO     |   15000    21 + hs    0.003\t      793 |  31.1 s  | 19.4 %\n",
      " chain 1     : INFO     |      -1    27 + hs    0.004\t      771 |  81.0 s  | 22.9 %\n",
      " chain 7     : INFO     |   19999    27 + hs    0.004\t      778 |  36.7 s  | 19.2 %\n",
      " chain 6     : INFO     |   20000    19 + hs    0.004\t      740 |  27.9 s  | 22.6 %\n",
      " chain 9     : INFO     |   19998    21 + hs    0.003\t      792 |  28.8 s  | 18.9 %\n",
      " chain 3     : INFO     |      -6    34 + hs    0.004\t      785 |  46.5 s  | 21.6 %\n",
      " chain 2     : INFO     |    5000    30 + hs    0.003\t      811 |  40.2 s  | 22.6 %\n",
      " chain 5     : INFO     |   -5000    33 + hs    0.004\t      766 |  48.6 s  | 22.8 %\n",
      " chain 1     : INFO     |    4995    27 + hs    0.004\t      770 |  38.2 s  | 22.5 %\n",
      " chain 4     : INFO     |    4987    33 + hs    0.004\t      767 |  88.7 s  | 20.6 %\n",
      " chain 0     : INFO     |   -5000    37 + hs    0.005\t      732 | 100.8 s  | 25.2 %\n",
      " chain 7     : INFO     |   24969    28 + hs    0.004\t      777 |  38.5 s  | 18.9 %\n",
      " chain 6     : INFO     |   29978    19 + hs    0.004\t      745 |  50.5 s  | 21.6 %\n",
      " chain 8     : INFO     |   14999    28 + hs    0.004\t      780 |  77.7 s  | 19.8 %\n",
      " chain 1     : INFO     |    9999    25 + hs    0.004\t      770 |  36.5 s  | 22.0 %\n",
      " chain 3     : INFO     |    4998    34 + hs    0.004\t      787 |  47.1 s  | 21.4 %\n",
      " chain 6     : INFO     |  > Saving 32758 models (main phase).\n",
      " chain 9     : INFO     |   30000    20 + hs    0.003\t      790 |  56.4 s  | 18.0 %\n",
      " chain 5     : INFO     |      -1    34 + hs    0.004\t      767 |  47.9 s  | 22.5 %\n",
      " chain 7     : INFO     |   29996    27 + hs    0.004\t      780 |  36.0 s  | 18.7 %\n",
      " chain 0     : INFO     |      -6    39 + hs    0.005\t      735 |  51.5 s  | 24.8 %\n",
      " chain 9     : INFO     |  > Saving 32738 models (main phase).\n",
      " chain 1     : INFO     |   14992    26 + hs    0.004\t      771 |  31.4 s  | 21.4 %\n",
      " chain 8     : INFO     |   20000    29 + hs    0.004\t      779 |  34.2 s  | 19.3 %\n",
      " chain 7     : INFO     |  > Saving 32763 models (main phase).\n",
      " chain 2     : INFO     |   14995    30 + hs    0.003\t      811 |  73.6 s  | 21.6 %\n",
      " chain 4     : INFO     |   14996    31 + hs    0.004\t      764 |  78.5 s  | 19.9 %\n",
      " chain 1     : INFO     |   19986    25 + hs    0.004\t      773 |  24.1 s  | 20.8 %\n",
      " chain 0     : INFO     |    4997    38 + hs    0.005\t      735 |  39.1 s  | 24.4 %\n",
      " chain 8     : INFO     |   24980    31 + hs    0.004\t      776 |  27.6 s  | 18.9 %\n",
      " chain 3     : INFO     |   14991    33 + hs    0.004\t      786 |  68.1 s  | 20.6 %\n",
      " chain 1     : INFO     |   24974    24 + hs    0.004\t      774 |  22.1 s  | 20.2 %\n",
      " chain 5     : INFO     |    9974    36 + hs    0.004\t      761 |  69.8 s  | 21.7 %\n",
      " chain 8     : INFO     |   29995    32 + hs    0.004\t      775 |  27.3 s  | 18.5 %\n",
      " chain 2     : INFO     |   24996    30 + hs    0.003\t      812 |  52.6 s  | 20.5 %\n",
      " chain 0     : INFO     |    9987    35 + hs    0.005\t      738 |  34.6 s  | 24.0 %\n",
      " chain 4     : INFO     |   25000    32 + hs    0.004\t      767 |  55.0 s  | 19.1 %\n",
      " chain 1     : INFO     |   29996    26 + hs    0.004\t      777 |  21.1 s  | 19.6 %\n",
      " chain 8     : INFO     |  > Saving 32765 models (main phase).\n",
      " chain 3     : INFO     |   20000    33 + hs    0.004\t      786 |  30.5 s  | 20.3 %\n",
      " chain 1     : INFO     |  > Saving 32767 models (main phase).\n",
      " chain 2     : INFO     |   29991    28 + hs    0.003\t      812 |  24.1 s  | 20.0 %\n",
      " chain 0     : INFO     |   14997    36 + hs    0.005\t      737 |  27.9 s  | 23.6 %\n",
      " chain 4     : INFO     |   29998    33 + hs    0.004\t      769 |  22.8 s  | 18.8 %\n",
      " chain 2     : INFO     |  > Saving 32768 models (main phase).\n",
      " chain 4     : INFO     |  > Saving 32767 models (main phase).\n",
      " chain 5     : INFO     |   19999    41 + hs    0.004\t      766 |  52.6 s  | 20.9 %\n",
      " chain 0     : INFO     |   19999    34 + hs    0.005\t      736 |  16.1 s  | 23.1 %\n",
      " chain 3     : INFO     |  > Saving 32766 models (main phase).\n",
      " chain 0     : INFO     |   24995    32 + hs    0.005\t      738 |  12.3 s  | 22.6 %\n",
      " chain 5     : INFO     |   24987    42 + hs    0.004\t      766 |  15.2 s  | 20.6 %\n",
      " chain 5     : INFO     |   30000    43 + hs    0.004\t      768 |  10.0 s  | 20.2 %\n",
      " chain 0     : INFO     |  > Saving 32763 models (main phase).\n",
      " chain 5     : INFO     |  > Saving 32759 models (main phase).\n",
      " MainProcess : INFO     |  > All chains terminated after: 871.81424 s\n",
      " MainProcess : INFO     |  ### time for inversion: 874.38 s\n"
     ]
    }
   ],
   "source": [
    "# MCMC BAY INVERSION\n",
    "optimizer = MCMC_Optimizer(targets, initparams=initparams, priors=priors,\n",
    "                           refinitmodel = refinitmodel, random_seed=None)\n",
    "optimizer.mp_inversion(nthreads=10, baywatch=False, dtsend=1)"
   ]
  },
  {
   "cell_type": "code",
   "execution_count": 45,
   "metadata": {},
   "outputs": [
    {
     "name": "stdout",
     "output_type": "stream",
     "text": [
      "Current data path: ./project_repartition_v4.0/output_repar_v9.5_01--10-16Hz/inverion_McMC/inversion/1--08-03/data\n",
      "Outlier chains from file: None\n",
      "> Saving posterior distribution.\n",
      "./project_repartition_v4.0/output_repar_v9.5_01--10-16Hz/inverion_McMC/inversion/1--08-03/data/c_models\n",
      "./project_repartition_v4.0/output_repar_v9.5_01--10-16Hz/inverion_McMC/inversion/1--08-03/data/c_likes\n",
      "./project_repartition_v4.0/output_repar_v9.5_01--10-16Hz/inverion_McMC/inversion/1--08-03/data/c_misfits\n",
      "./project_repartition_v4.0/output_repar_v9.5_01--10-16Hz/inverion_McMC/inversion/1--08-03/data/c_noise\n"
     ]
    }
   ],
   "source": [
    "# Model resaving and plotting\n",
    "path = initparams['savepath']\n",
    "cfile = '%s_config.pkl' % initparams['station']\n",
    "configfile = op.join(path, 'data', cfile)\n",
    "obj = PlotFromStorage(configfile)\n",
    "# The final distributions will be saved with save_final_distribution.\n",
    "# Beforehand, outlier chains will be detected and excluded.\n",
    "# Outlier chains are defined as chains with a likelihood deviation\n",
    "# of dev * 100 % from the median posterior likelihood of the best chain.\n",
    "obj.save_final_distribution(maxmodels=100000, dev=1)\n",
    "obj.save_posterior_models()"
   ]
  },
  {
   "cell_type": "code",
   "execution_count": 46,
   "metadata": {},
   "outputs": [
    {
     "name": "stderr",
     "output_type": "stream",
     "text": [
      " MainProcess : WARNING  |  findfont: Font family 'Arial' not found.\n",
      " MainProcess : WARNING  |  findfont: Font family 'Arial' not found.\n",
      " MainProcess : WARNING  |  findfont: Font family 'Arial' not found.\n",
      " MainProcess : WARNING  |  findfont: Font family 'Arial' not found.\n",
      " MainProcess : WARNING  |  findfont: Font family 'Arial' not found.\n",
      " MainProcess : WARNING  |  findfont: Font family 'Arial' not found.\n",
      " MainProcess : WARNING  |  findfont: Font family 'Arial' not found.\n",
      " MainProcess : WARNING  |  findfont: Font family 'Arial' not found.\n",
      " MainProcess : WARNING  |  findfont: Font family 'Arial' not found.\n",
      " MainProcess : WARNING  |  findfont: Font family 'Arial' not found.\n",
      " MainProcess : WARNING  |  findfont: Font family 'Arial' not found.\n",
      " MainProcess : WARNING  |  findfont: Font family 'Arial' not found.\n",
      " MainProcess : WARNING  |  findfont: Font family 'Arial' not found.\n",
      " MainProcess : WARNING  |  findfont: Font family 'Arial' not found.\n",
      " MainProcess : WARNING  |  findfont: Font family 'Arial' not found.\n",
      " MainProcess : WARNING  |  findfont: Font family 'Arial' not found.\n",
      " MainProcess : WARNING  |  findfont: Font family 'Arial' not found.\n",
      " MainProcess : WARNING  |  findfont: Font family 'Arial' not found.\n",
      " MainProcess : WARNING  |  findfont: Font family 'Arial' not found.\n",
      " MainProcess : WARNING  |  findfont: Font family 'Arial' not found.\n",
      " MainProcess : WARNING  |  findfont: Font family 'Arial' not found.\n",
      " MainProcess : WARNING  |  findfont: Font family 'Arial' not found.\n",
      " MainProcess : WARNING  |  findfont: Font family 'Arial' not found.\n",
      " MainProcess : WARNING  |  findfont: Font family 'Arial' not found.\n",
      " MainProcess : WARNING  |  findfont: Font family 'Arial' not found.\n",
      " MainProcess : WARNING  |  findfont: Font family 'Arial' not found.\n"
     ]
    }
   ],
   "source": [
    "#--------------------------plot multi-modes dispersion curves !!!!!!!!!!!!!!!!!!!!!!\n",
    "modes_plot = []\n",
    "modes_plot = [x for x in modes if x not in modes_used]\n",
    "jointargets_plot = []\n",
    "if modes_plot:\n",
    "    for m in modes_plot:\n",
    "        target_swd = Targets.LoveDispersionPhase(xsws[m], ysws[m])\n",
    "        target_swd.moddata.plugin.set_modelparams(mode=m+1)\n",
    "        print(\"mode: \", target_swd.moddata.plugin.modelparams['mode'])\n",
    "        jointargets_plot.append(target_swd)\n",
    "\n",
    "if priors['refinit'] is not None: \n",
    "    obj.save_plots(initmodel=initmodel, jointargets_plot=jointargets_plot, nchains=10)\n",
    "else:\n",
    "    obj.save_plots(jointargets_plot=jointargets_plot, nchains=10)\n",
    "\n",
    "obj.merge_pdfs()"
   ]
  }
 ],
 "metadata": {
  "kernelspec": {
   "display_name": "ccfj",
   "language": "python",
   "name": "python3"
  },
  "language_info": {
   "codemirror_mode": {
    "name": "ipython",
    "version": 3
   },
   "file_extension": ".py",
   "mimetype": "text/x-python",
   "name": "python",
   "nbconvert_exporter": "python",
   "pygments_lexer": "ipython3",
   "version": "3.9.19"
  }
 },
 "nbformat": 4,
 "nbformat_minor": 2
}
