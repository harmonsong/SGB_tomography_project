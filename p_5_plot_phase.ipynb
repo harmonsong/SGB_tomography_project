{
 "cells": [
  {
   "cell_type": "code",
   "execution_count": null,
   "metadata": {},
   "outputs": [],
   "source": [
    "import numpy as np\n",
    "import matplotlib.pyplot as plt\n",
    "import pandas as pd\n",
    "import openpyxl\n",
    "from openpyxl import load_workbook\n",
    "import os\n",
    "from ccfj import GetStationPairs\n",
    "from geopy.distance import great_circle\n",
    "from scipy.interpolate import interp1d\n",
    "from scipy.interpolate import griddata\n",
    "#import shapefile\n",
    "import geopandas as gp\n",
    "import yaml\n",
    "import math\n",
    "#from pykml import parser\n"
   ]
  },
  {
   "cell_type": "code",
   "execution_count": null,
   "metadata": {},
   "outputs": [],
   "source": [
    "import sys\n",
    "sys.path.append(r'../tools_F-J/')\n",
    "from toollib_standard import plotlib"
   ]
  },
  {
   "cell_type": "code",
   "execution_count": null,
   "metadata": {},
   "outputs": [],
   "source": [
    "flag_project = 1 # 0--regular; 1--repartrition"
   ]
  },
  {
   "cell_type": "code",
   "execution_count": null,
   "metadata": {},
   "outputs": [],
   "source": [
    "if flag_project == 0:\n",
    "    with open('a-project.yml', 'r', encoding='utf-8') as f:\n",
    "        proj = yaml.load(f.read(), Loader=yaml.FullLoader)\n",
    "    name_project = proj['name']\n",
    "    #name_project = 'project/output_FJSJ_17-01/'               # Harmon server\n",
    "elif flag_project == 1:\n",
    "    with open('a-project_repar.yml', 'r', encoding='utf-8') as f:\n",
    "        proj = yaml.load(f.read(), Loader=yaml.FullLoader)\n",
    "    name_project = proj['name']\n",
    "    #name_project = 'project_repartrition/repartrition_01-03/'               # Harmon server\n"
   ]
  },
  {
   "cell_type": "code",
   "execution_count": null,
   "metadata": {},
   "outputs": [],
   "source": [
    "with open('0_config.yml', 'r', encoding='utf-8') as f:\n",
    "    dir_config = yaml.load(f.read(), Loader=yaml.FullLoader)\n",
    "dir_project_workspace = dir_config['dir_project_workspace']\n",
    "dir_CC_workspace = dir_config['dir_CC_workspace']\n",
    "print('dir_CC_workspace: ', dir_CC_workspace)\n",
    "print('dir_project_workspace: ', dir_project_workspace)\n",
    "dir_project = os.path.join(dir_project_workspace, name_project)\n",
    "print('dir_project: ', dir_project)"
   ]
  },
  {
   "cell_type": "code",
   "execution_count": null,
   "metadata": {},
   "outputs": [],
   "source": [
    "filename = dir_project+'Basic_info.yml'\n",
    "with open(filename, 'r', encoding='utf-8') as f:\n",
    "    info_basic = yaml.load(f.read(), Loader=yaml.FullLoader)\n",
    "filename_bi = dir_project+'Basic_info.npy'\n",
    "info_basic_bi = np.load(filename_bi, allow_pickle='TRUE').item()      # setting dictionary"
   ]
  },
  {
   "cell_type": "code",
   "execution_count": null,
   "metadata": {},
   "outputs": [],
   "source": [
    "dir_image = dir_project + info_basic['dir_image']+'phase/'\n",
    "if not os.path.exists(dir_image):\n",
    "    os.makedirs(dir_image)\n",
    "dir_partition = dir_project + info_basic['dir_partition']\n",
    "dir_disp = dir_project + info_basic['dir_disp_model']\n",
    "key_subworks = info_basic['key_subworks']\n",
    "M = len(key_subworks)\n",
    "key_subworks"
   ]
  },
  {
   "cell_type": "code",
   "execution_count": null,
   "metadata": {},
   "outputs": [],
   "source": [
    "stalistname_all = info_basic['stalistname_all']\n",
    "stainfo = pd.read_excel(stalistname_all)\n",
    "nsta_all = len(stainfo.iloc[:,0])\n",
    "StationPairs_all = GetStationPairs(nsta_all)\n",
    "nPairs_all = int(len(StationPairs_all)/2)\n",
    "stalist_all = stainfo['Station'].tolist() \n",
    "lat_all =  stainfo['latitude'].tolist() \n",
    "lon_all =  stainfo['longitude'].tolist() "
   ]
  },
  {
   "cell_type": "code",
   "execution_count": null,
   "metadata": {},
   "outputs": [],
   "source": [
    "stations = {}\n",
    "lat = {}\n",
    "lon = {}\n",
    "for key in key_subworks:\n",
    "    filepath = dir_partition + str(key) + '.txt'\n",
    "    stations_this, lat_stations_this, lon_stations_this = np.loadtxt(filepath, dtype='str' , unpack=True)\n",
    "    stations[key] = stations_this\n",
    "    lat[key] = lat_stations_this.astype(float)\n",
    "    lon[key] = lon_stations_this.astype(float)"
   ]
  },
  {
   "cell_type": "code",
   "execution_count": null,
   "metadata": {},
   "outputs": [],
   "source": [
    "num_stations = []\n",
    "for key_subwork in key_subworks:\n",
    "    num_stations.append(len(stations[key_subwork]))"
   ]
  },
  {
   "cell_type": "code",
   "execution_count": null,
   "metadata": {},
   "outputs": [],
   "source": [
    "#key_subworks = info_basic['key_subworks']\n",
    "lat_centroid = []\n",
    "lon_centroid = []\n",
    "for key_subwork in key_subworks:\n",
    "    lon_centroid.append(np.mean(lon[key_subwork]))\n",
    "    lat_centroid.append(np.mean(lat[key_subwork]))"
   ]
  },
  {
   "cell_type": "code",
   "execution_count": null,
   "metadata": {},
   "outputs": [],
   "source": [
    "faults = np.load('clark_faults.npy', allow_pickle='TRUE').item()"
   ]
  },
  {
   "cell_type": "code",
   "execution_count": null,
   "metadata": {},
   "outputs": [],
   "source": [
    "#f_list = [3,3.5,4,4.5,5,10,15,20]\n",
    "f_list = [7,10,15]\n",
    "phase = {}\n",
    "for f in f_list:\n",
    "    phase[f] = []\n",
    "for key in key_subworks:\n",
    "    disp = np.loadtxt(dir_disp + 'disp_model_'+key+'.txt')\n",
    "    disp = disp[disp[:,2] == 0]\n",
    "    for f in f_list:\n",
    "        phase[f].append(disp[disp[:,0]==f][0][1])"
   ]
  },
  {
   "cell_type": "code",
   "execution_count": null,
   "metadata": {},
   "outputs": [],
   "source": [
    "size_range = [20,30]\n",
    "num_range = [np.min(num_stations),np.max(num_stations)]\n",
    "#将num_stations归一化到size_range\n",
    "size = []\n",
    "for num in num_stations:\n",
    "    size.append(size_range[0]+(size_range[1]-size_range[0])*(num-num_range[0])/(num_range[1]-num_range[0]))"
   ]
  },
  {
   "cell_type": "code",
   "execution_count": null,
   "metadata": {},
   "outputs": [],
   "source": [
    "\"\"\"\n",
    "#ig,ax = plt.subplots(2,3,figsize=(15,8))\n",
    "flag_this = 0\n",
    "c_min = 0.4\n",
    "c_max = 1.2\n",
    "flag_num = 1\n",
    "fig = plt.figure(figsize=(15,6))\n",
    "for f in f_list:\n",
    "    \n",
    "    ax = plt.subplot(1,2,flag_num)\n",
    "\n",
    "    ax.scatter(lon_all, lat_all,marker='.',color='k',s=1)\n",
    "    im = ax.scatter(lon_centroid, lat_centroid,c=phase[f],cmap='jet',s=size)\n",
    "    #im = ax[0][flag_this].scatter(lon_centroid, lat_centroid,c=phase[f],cmap='jet',s=200,vmin = c_min,vmax = c_max)\n",
    "    plt.colorbar(im,ax=ax)\n",
    "    ax.set_xlabel('Longitude')\n",
    "    ax.set_ylabel('Latitude')\n",
    "    ax.set_title('Phase Velocity at f = '+str(f)+' Hz (km/s)')\n",
    "    ax.set_xticks([])\n",
    "    ax.set_yticks([])\n",
    "    for i in range(len(faults)):\n",
    "        ax.plot(faults['clark'+str(i+1)]['lon'], faults['clark'+str(i+1)]['lat'], 'k')\n",
    "\n",
    "\n",
    "    flag_num += 1\n",
    "plt.tight_layout()\n",
    "print(dir_image+'phase_compare_'+str(f_list[0])+'_'+str(f_list[1])+'.png')\n",
    "plt.savefig(dir_image+'phase_compare_'+str(f_list[0])+'_'+str(f_list[1])+'.png',dpi=300)\n",
    "\"\"\""
   ]
  },
  {
   "cell_type": "code",
   "execution_count": null,
   "metadata": {},
   "outputs": [],
   "source": [
    "flag_this = 0\n",
    "c_min = 0.4\n",
    "c_max = 1.2\n",
    "flag_num = 1\n",
    "fig = plt.figure(figsize=(5*len(f_list),4))\n",
    "for f in f_list:\n",
    "    \n",
    "    ax = plt.subplot(1,len(f_list),flag_num)\n",
    "\n",
    "    ax.scatter(lon_all, lat_all,marker='.',color='k',s=1)\n",
    "    im = ax.scatter(lon_centroid, lat_centroid,c=phase[f],cmap='jet',s=size)\n",
    "    #im = ax[0][flag_this].scatter(lon_centroid, lat_centroid,c=phase[f],cmap='jet',s=200,vmin = c_min,vmax = c_max)\n",
    "    plt.colorbar(im,ax=ax)\n",
    "    ax.set_xlabel('Longitude')\n",
    "    ax.set_ylabel('Latitude')\n",
    "    ax.set_title('Phase Velocity at f = '+str(f)+' Hz (km/s)')\n",
    "    ax.set_xticks([])\n",
    "    ax.set_yticks([])\n",
    "    for i in range(len(faults)):\n",
    "        ax.plot(faults['clark'+str(i+1)]['lon'], faults['clark'+str(i+1)]['lat'], 'k')\n",
    "\n",
    "\n",
    "    flag_num += 1\n",
    "plt.tight_layout()\n",
    "print(dir_image+'phase_compare.png')\n",
    "plt.savefig(dir_image+'phase_compare_2.png',dpi=300)"
   ]
  },
  {
   "cell_type": "code",
   "execution_count": null,
   "metadata": {},
   "outputs": [],
   "source": [
    "\"\"\"\n",
    "#ig,ax = plt.subplots(2,3,figsize=(15,8))\n",
    "flag_this = 0\n",
    "c_min = 0.4\n",
    "c_max = 1.2\n",
    "flag_num = 1\n",
    "fig = plt.figure(figsize=(15,12))\n",
    "for f in f_list:\n",
    "    \n",
    "    ax = plt.subplot(3,3,flag_num)\n",
    "\n",
    "    ax.scatter(lon_all, lat_all,marker='.',color='k',s=1)\n",
    "    im = ax.scatter(lon_centroid, lat_centroid,c=phase[f],cmap='jet',s=size)\n",
    "    #im = ax[0][flag_this].scatter(lon_centroid, lat_centroid,c=phase[f],cmap='jet',s=200,vmin = c_min,vmax = c_max)\n",
    "    plt.colorbar(im,ax=ax)\n",
    "    ax.set_xlabel('Longitude')\n",
    "    ax.set_ylabel('Latitude')\n",
    "    ax.set_title('Phase Velocity at f = '+str(f)+' Hz (km/s)')\n",
    "    ax.set_xticks([])\n",
    "    ax.set_yticks([])\n",
    "    for i in range(len(faults)):\n",
    "        ax.plot(faults['clark'+str(i+1)]['lon'], faults['clark'+str(i+1)]['lat'], 'k')\n",
    "\n",
    "\n",
    "    flag_num += 1\n",
    "plt.tight_layout()\n",
    "print(dir_image+'phase_compare.png')\n",
    "plt.savefig(dir_image+'phase_compare.png',dpi=300)\n",
    "\"\"\""
   ]
  },
  {
   "cell_type": "code",
   "execution_count": null,
   "metadata": {},
   "outputs": [],
   "source": [
    "\"\"\"\n",
    "fig,ax = plt.subplots(2,len(f_list),figsize=(5*len(f_list),8))\n",
    "flag_this = 0\n",
    "c_min = 0.4\n",
    "c_max = 1.2\n",
    "for f in f_list:\n",
    "    ax[0][flag_this].scatter(lon_all, lat_all,marker='.',color='k')\n",
    "    im = ax[0][flag_this].scatter(lon_centroid, lat_centroid,c=phase[f],cmap='jet',s=30)\n",
    "    #im = ax[0][flag_this].scatter(lon_centroid, lat_centroid,c=phase[f],cmap='jet',s=200,vmin = c_min,vmax = c_max)\n",
    "    plt.colorbar(im,ax=ax[0][flag_this])\n",
    "    ax[0][flag_this].set_xlabel('Longitude')\n",
    "    ax[0][flag_this].set_ylabel('Latitude')\n",
    "    ax[0][flag_this].set_title('Phase Velocity at f = '+str(f)+' Hz (km/s)')\n",
    "    ax[0][flag_this].set_xticks([])\n",
    "    for i in range(len(faults)):\n",
    "        ax[0][flag_this].plot(faults['clark'+str(i+1)]['lon'], faults['clark'+str(i+1)]['lat'], 'k')\n",
    "\n",
    "    ax[1][flag_this].scatter(lon_all, lat_all,marker='.',color='k')\n",
    "\n",
    "    im = ax[1][flag_this].scatter(lon_centroid, lat_centroid,c=phase[f],cmap='jet',s=30,vmin = c_min,vmax = c_max)\n",
    "    plt.colorbar(im,ax=ax[1][flag_this])\n",
    "    ax[1][flag_this].set_xlabel('Longitude')\n",
    "    ax[1][flag_this].set_ylabel('Latitude')\n",
    "    ax[1][flag_this].set_title('Phase Velocity at f = '+str(f)+' Hz (km/s)')\n",
    "    ax[1][flag_this].set_xticks([])\n",
    "    for i in range(len(faults)):\n",
    "        ax[1][flag_this].plot(faults['clark'+str(i+1)]['lon'], faults['clark'+str(i+1)]['lat'], 'k')\n",
    "\n",
    "    flag_this += 1\n",
    "plt.tight_layout()\n",
    "print(dir_image+'phase_compare.png')\n",
    "plt.savefig(dir_image+'phase_compare.png',dpi=300)\n",
    "\"\"\""
   ]
  },
  {
   "cell_type": "code",
   "execution_count": null,
   "metadata": {},
   "outputs": [],
   "source": []
  }
 ],
 "metadata": {
  "kernelspec": {
   "display_name": "base",
   "language": "python",
   "name": "python3"
  },
  "language_info": {
   "codemirror_mode": {
    "name": "ipython",
    "version": 3
   },
   "file_extension": ".py",
   "mimetype": "text/x-python",
   "name": "python",
   "nbconvert_exporter": "python",
   "pygments_lexer": "ipython3",
   "version": "3.9.18"
  },
  "orig_nbformat": 4
 },
 "nbformat": 4,
 "nbformat_minor": 2
}
