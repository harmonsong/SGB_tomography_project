{
 "cells": [
  {
   "cell_type": "code",
   "execution_count": 7,
   "metadata": {},
   "outputs": [],
   "source": [
    "import sys, getopt, os.path\n",
    "import matplotlib.pyplot as plt\n",
    "import numpy as np\n",
    "\n",
    "import math,h5py, pandas\n",
    "from scipy import integrate\n",
    "from scipy.fftpack import fft, hilbert\n",
    "from scipy.signal import butter, lfilter\n",
    "from geopy.distance import great_circle\n",
    "import matplotlib.ticker as ticker\n",
    "import yaml\n",
    "import netCDF4 as nc\n",
    "\n",
    "import pandas as pd\n",
    "import time\n",
    "import copy"
   ]
  },
  {
   "cell_type": "code",
   "execution_count": 8,
   "metadata": {},
   "outputs": [],
   "source": [
    "flag_project = 1\n",
    "\n",
    "if flag_project == 0:\n",
    "    file_project = 'a-project.yml'\n",
    "elif flag_project == 1:\n",
    "    file_project = 'a-project_repar.yml'\n",
    "elif flag_project == 2:\n",
    "    file_project = 'a-project_voro.yml'\n",
    "    \n",
    "with open(file_project, 'r', encoding='utf-8') as f:\n",
    "    proj = yaml.load(f.read(), Loader=yaml.FullLoader)\n",
    "name_project = proj['name']\n",
    "name_project = 'project_repartition_v4.0/output_repar_v9.5_01--10-16Hz/'"
   ]
  },
  {
   "cell_type": "code",
   "execution_count": 9,
   "metadata": {},
   "outputs": [
    {
     "name": "stdout",
     "output_type": "stream",
     "text": [
      "dir_CC_workspace:  ./\n",
      "dir_project_workspace:  ./\n",
      "dir_project:  ./project_repartition_v4.0/output_repar_v9.5_01--10-16Hz/\n"
     ]
    }
   ],
   "source": [
    "with open('0_config.yml', 'r', encoding='utf-8') as f:\n",
    "    dir_config = yaml.load(f.read(), Loader=yaml.FullLoader)\n",
    "dir_project_workspace = dir_config['dir_project_workspace']\n",
    "dir_CC_workspace = dir_config['dir_CC_workspace']\n",
    "print('dir_CC_workspace: ', dir_CC_workspace)\n",
    "print('dir_project_workspace: ', dir_project_workspace)\n",
    "dir_project = os.path.join(dir_project_workspace, name_project)\n",
    "print('dir_project: ', dir_project)"
   ]
  },
  {
   "cell_type": "code",
   "execution_count": 10,
   "metadata": {},
   "outputs": [],
   "source": [
    "filename = dir_project+'Basic_info.yml'\n",
    "with open(filename, 'r', encoding='utf-8') as f:\n",
    "    info_basic = yaml.load(f.read(), Loader=yaml.FullLoader)\n",
    "filename_bi = dir_project+'Basic_info.npy'\n",
    "info_basic_bi = np.load(filename_bi, allow_pickle='TRUE').item()      # setting dictionary"
   ]
  },
  {
   "cell_type": "code",
   "execution_count": 11,
   "metadata": {},
   "outputs": [],
   "source": [
    "dir_image = dir_project + info_basic['rdir_image']+'model_validate/'\n",
    "dir_partition = dir_project + info_basic['rdir_partition']\n",
    "dir_disp = dir_project + info_basic['rdir_disp_model']\n",
    "if not os.path.exists(dir_image):\n",
    "    os.makedirs(dir_image)\n",
    "#dir_CC = os.getcwd()+'/'+dir_CC_workspace[1:] + info_basic['rdir_CC']\n",
    "dir_CC = dir_CC_workspace + 'CC/CC_150_prewhiten/'\n",
    "#dir_CC = dir_CC_workspace + 'CC/CC_40_prewhiten/'\n",
    "key_subworks = info_basic['key_subworks']\n",
    "M = len(key_subworks)\n",
    "dir_file = os.getcwd()+'/ModelValidCode/ModelValidCode/parameter_prepare/'"
   ]
  },
  {
   "cell_type": "code",
   "execution_count": 12,
   "metadata": {},
   "outputs": [],
   "source": [
    "stalistname_all = dir_project +'stations_all_trans.txt'\n",
    "stainfo = np.loadtxt(stalistname_all, dtype={'names':('Station', 'x', 'y'), 'formats':('U32', 'f4', 'f4')})\n",
    "stalist_all = stainfo['Station'].tolist()\n",
    "x_stations_all =  stainfo['x'].tolist()\n",
    "y_stations_all =  stainfo['y'].tolist()\n",
    "stalistname_all = info_basic['stalistname_all']\n",
    "stainfo = pd.read_excel(stalistname_all)\n",
    "elevation_stations_all = stainfo['elevation'].tolist()"
   ]
  },
  {
   "cell_type": "code",
   "execution_count": 13,
   "metadata": {},
   "outputs": [],
   "source": [
    "# fault surface trace\n",
    "faults = np.load(dir_project +'clark_faults_trans.npy', allow_pickle='TRUE').item()"
   ]
  },
  {
   "cell_type": "code",
   "execution_count": 14,
   "metadata": {},
   "outputs": [],
   "source": [
    "file_partition = dir_project + 'partition_trans.txt'\n",
    "loc_partition = np.loadtxt(file_partition, dtype={'names':('key_subworks','x', 'y'), 'formats':('U32','f4', 'f4')})\n",
    "x_partition = loc_partition['x'].tolist()\n",
    "y_partition = loc_partition['y'].tolist()\n",
    "key_subworks = loc_partition['key_subworks'].tolist()"
   ]
  },
  {
   "cell_type": "code",
   "execution_count": 15,
   "metadata": {},
   "outputs": [],
   "source": [
    "f_list = [5,10,15]\n",
    "phase = {}\n",
    "for f in f_list:\n",
    "    phase[f] = []\n",
    "for key in key_subworks:\n",
    "    disp = np.loadtxt(dir_disp + 'disp_model_'+key+'.txt')\n",
    "    disp = disp[disp[:,2] == 0]\n",
    "    for f in f_list:\n",
    "        phase[f].append(disp[disp[:,0]==f][0][1])"
   ]
  },
  {
   "cell_type": "code",
   "execution_count": 16,
   "metadata": {},
   "outputs": [],
   "source": [
    "# obs parameters\n",
    "isline = False\n",
    "LenFD = 3\n",
    "putinrou = [dir_CC + 'CFs_modelvalidate/'+ 'gather_all_modelvalidate.h5']\n",
    "syn_stalist = dir_file + 'stations_in.txt'\n",
    "sele_stalist = dir_file + 'stations_in.txt'\n",
    "srclist = dir_file + 'stations_virsrc.txt'\n",
    "#=============================read observed Ccfs====================================\n",
    "CC_file = []\n",
    "CC_prof = []\n",
    "for i in range(len(putinrou)):\n",
    "  CC_prof.append(pandas.read_hdf(putinrou[i], 'cc_prof'))\n",
    "  with h5py.File(putinrou[i], mode = \"r\") as file_rou:\n",
    "      CC_file.append(np.array(file_rou[list(file_rou.keys())[0]]))\n",
    "CC_array = CC_file[0]\n",
    "CC_table = CC_prof[0]\n",
    "f_prof = pandas.read_hdf(putinrou[0], 'freq')\n",
    "freq = np.array(f_prof[:])[:,0]"
   ]
  },
  {
   "cell_type": "markdown",
   "metadata": {},
   "source": [
    "### Sync configuration"
   ]
  },
  {
   "cell_type": "code",
   "execution_count": 17,
   "metadata": {},
   "outputs": [],
   "source": [
    "flag_maxd = 0.08\n",
    "flag_SNRmin = 0.8\n",
    "f_rick_c = 10\n",
    "t_rick_shift = 0.15"
   ]
  },
  {
   "cell_type": "code",
   "execution_count": 18,
   "metadata": {},
   "outputs": [],
   "source": [
    "def plot_model(waveobsc_T,wavesync_T, r_plot, t, dir_image, bands,isrc,flag_inter,aver,t_left_shits,t_right_shits,faults):\n",
    "    global x_partition, y_partition, key_subworks, x_stations_all, phase, f_list,x_stations_all,y_stations_all,stalist_all\n",
    "    scale1 = 0.003\n",
    "    scale2 = 0.003\n",
    "    linew = 2.0\n",
    "    waveobsc_T_copy = copy.deepcopy(waveobsc_T)\n",
    "    wavesync_T_copy = copy.deepcopy(wavesync_T)\n",
    "    virsta = []\n",
    "    sta_profile = pandas.read_table(srclist, header=None, sep='\\\\s+')\n",
    "    net = list(sta_profile[0][:])\n",
    "    sta = list(sta_profile[1][:])\n",
    "    for i in range(len(sta)):\n",
    "        virsta.append(str(sta[i]))\n",
    "    srcsta = virsta[isrc-1]\n",
    "    index = stalist_all.index(srcsta)\n",
    "    x_src = x_stations_all[index]\n",
    "    y_src = y_stations_all[index]\n",
    "    fig = plt.figure(figsize = (20, 10), dpi = 80)\n",
    "    ax_ele = fig.add_subplot(2,4,1)\n",
    "    ax_ele.scatter(x_stations_all,y_stations_all,marker='o',c=elevation_stations_all,s=20, cmap = 'jet')\n",
    "    for i in range(len(faults)):\n",
    "        ax_ele.plot(faults['clark'+str(i+1)]['x'], faults['clark'+str(i+1)]['y'], 'k--',lw = 1)\n",
    "    ax_ele.scatter(x_src,y_src,marker='*',color='r',s=100)\n",
    "    circle = plt.Circle((x_src,y_src),flag_maxd*1e3,fill=False,color = 'r',lw = 5)\n",
    "    ax_ele.add_artist(circle)\n",
    "    ax_ele.set_title('Elevation')\n",
    "    ax_ele.set_xlabel('Longitude')\n",
    "    ax_ele.set_ylabel('Latitude')\n",
    "    ax_ele.set_xlim([-50,650])\n",
    "    ax_ele.set_ylim([-50,650])\n",
    "    ax_ele.set_aspect('equal')\n",
    "    ax_ele.set_xticks([])\n",
    "    ax_ele.set_yticks([])\n",
    "    \n",
    "    for i in range(len(phase)):\n",
    "        ax_phase = fig.add_subplot(2,4,i+2)\n",
    "        ax_phase.scatter(x_stations_all,y_stations_all,marker='o',c = 'k',s = 2)\n",
    "        for j in range(len(faults)):\n",
    "            ax_phase.plot(faults['clark'+str(j+1)]['x'], faults['clark'+str(j+1)]['y'], 'k--',lw = 1)\n",
    "        ax_phase.scatter(x_partition,y_partition,marker='o',c  = phase[f_list[i]],s = 50, cmap = 'jet')\n",
    "        ax_phase.scatter(x_src,y_src,marker='*',color='r',s=100)\n",
    "        circle = plt.Circle((x_src,y_src),flag_maxd*1e3,fill=False,color = 'r',lw = 5)\n",
    "        ax_phase.add_artist(circle)\n",
    "        ax_phase.set_title('Phase velocity '+str(f_list[i])+'Hz')\n",
    "        ax_phase.set_xlabel('Longitude')\n",
    "        ax_phase.set_ylabel('Latitude')\n",
    "        ax_phase.set_xlim([-50,650])\n",
    "        ax_phase.set_ylim([-50,650])\n",
    "        ax_phase.set_aspect('equal')\n",
    "        ax_phase.set_xticks([])\n",
    "        ax_phase.set_yticks([])\n",
    "    \n",
    "    for i in range(len(bands)):\n",
    "        ax_model = fig.add_subplot(2,4,i+5)\n",
    "        \n",
    "        for j in range(0,len(r_plot),flag_inter):\n",
    "            #print(j)\n",
    "            t0 = r_plot[j]/aver[0]-t_left_shits[i]\n",
    "            t1 = r_plot[j]/aver[0]+t_right_shits[i]\n",
    "            dtobs = 1/np.max(freq)\n",
    "            indx0 = int(t0/dtobs)\n",
    "            indx1 = int(t1/dtobs)\n",
    "            waveobsc_T_copy[i][j,:indx0] = 0\n",
    "            waveobsc_T_copy[i][j,indx1:] = 0\n",
    "            stpindx = int(t_rick_shift/(t[1]-t[0]))\n",
    "            tc = t[:len(t)-stpindx]\n",
    "            tobs = (np.linspace(-len(freq)/2, len(freq)/2-1, len(freq))-0.5)*dtobs\n",
    "            tt = tobs[int(len(freq)/2+1)::]\n",
    "            pt,= ax_model.plot(tt, waveobsc_T_copy[i][j,:]/(np.max(abs(waveobsc_T_copy[i][j,:])))*scale2+r_plot[j],'b', antialiased='False',linewidth=linew)\n",
    "            #label = \"Observation (\"+str(int(1/bands[i][1]))+\"-\"+str(int(1/bands[i][0]))+\"Hz)\"\n",
    "            label = \"Observation\"\n",
    "            pt0,= ax_model.plot(tc, wavesync_T_copy[i][j]/np.max(abs(wavesync_T_copy[i][j]))*scale1+r_plot[j], 'r', antialiased='False', linewidth=linew)\n",
    "            #label0 = \"This study    (\"+str(int(1/bands[i][1]))+\"-\"+str(int(1/bands[i][0]))+\"Hz)\"\n",
    "            label0 = \"This study\"\n",
    "        #plt.ylim([0, ylimt])\n",
    "        ax_model.set_ylim([0.005, 0.09])\n",
    "        ax_model.set_xlim([0, 0.7])\n",
    "        #ax0.xaxis.set_major_locator(ticker.MaxNLocator(7))\n",
    "        #ax0.xaxis.set_minor_locator(ticker.MaxNLocator(35))\n",
    "        #ax0.yaxis.set_major_locator(ticker.MaxNLocator(9))\n",
    "        #ax0.yaxis.set_minor_locator(ticker.MaxNLocator(45))\n",
    "        ax_model.set_xlabel('Time (s)')\n",
    "        ax_model.set_ylabel('Distance (km)')\n",
    "        ax_model.legend([pt, pt0],[label, label0],  loc=4)\n",
    "        ax_model.set_title('Waveform comparison for '+str(int(1/bands[i][1]))+\"-\"+str(int(1/bands[i][0]))+\"Hz\")\n",
    "    \n",
    "    #plt.title('Waveform comparison for 3-7s')\n",
    "    plt.tight_layout()\n",
    "    plt.savefig(dir_image+'src'+str(isrc)+'_modelValidation.jpg', dpi=400)\n",
    "    plt.close()"
   ]
  },
  {
   "cell_type": "code",
   "execution_count": 19,
   "metadata": {},
   "outputs": [],
   "source": [
    "bands = np.array([[1/10,1/5], [1/12,1/7] ,[1/15,1/10], [1/30,1/15]])\n",
    "dir_input = dir_project + 'ModelValidate/template/input/'"
   ]
  },
  {
   "cell_type": "code",
   "execution_count": 20,
   "metadata": {},
   "outputs": [],
   "source": [
    "for isrc in range(12,64):\n",
    "    dir_src = dir_project + 'ModelValidate/src'+str(isrc)+'/'\n",
    "    data = np.load(dir_src+'waveform.npy',allow_pickle='TRUE').item()\n",
    "    wavesync_T = data['wavesync_T']\n",
    "    waveobsc_T = data['waveobsc_T']\n",
    "    t = data['t']\n",
    "    r_plot = data['r_plot']\n",
    "    flag_inter = 2\n",
    "    aver = np.array([0.45,0.5,0.5,0.5])\n",
    "    t_left_shits = np.array([0.01,0,0,0])\n",
    "    t_right_shits = np.array([0.33,0.25,0.21,0.15])\n",
    "    plot_model(waveobsc_T,wavesync_T, r_plot, t, dir_image, bands,isrc,flag_inter,aver,t_left_shits,t_right_shits,faults)\n",
    "    #plot_model(waveobsc_T,wavesync_T, r_plot, t, dir_image, bands,isrc,flag_inter,aver,t_left_shits,t_right_shits,faults)"
   ]
  }
 ],
 "metadata": {
  "kernelspec": {
   "display_name": "modelV",
   "language": "python",
   "name": "python3"
  },
  "language_info": {
   "codemirror_mode": {
    "name": "ipython",
    "version": 3
   },
   "file_extension": ".py",
   "mimetype": "text/x-python",
   "name": "python",
   "nbconvert_exporter": "python",
   "pygments_lexer": "ipython3",
   "version": "3.9.19"
  }
 },
 "nbformat": 4,
 "nbformat_minor": 2
}
