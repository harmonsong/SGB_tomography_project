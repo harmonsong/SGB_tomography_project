{
 "cells": [
  {
   "attachments": {},
   "cell_type": "markdown",
   "id": "cdccceb3",
   "metadata": {},
   "source": [
    "### Read config file"
   ]
  },
  {
   "cell_type": "code",
   "execution_count": null,
   "id": "fcf1d520",
   "metadata": {},
   "outputs": [],
   "source": [
    "import numpy as np\n",
    "import obspy\n",
    "from obspy import UTCDateTime\n",
    "from concurrent.futures import ThreadPoolExecutor\n",
    "import os\n",
    "import time\n",
    "from geopy.distance import great_circle\n",
    "import folium\n",
    "import matplotlib.pyplot as plt\n",
    "import pandas as pd\n",
    "import openpyxl\n",
    "from openpyxl import load_workbook\n",
    "import yaml\n",
    "import shutil"
   ]
  },
  {
   "cell_type": "code",
   "execution_count": null,
   "id": "3ba14d35",
   "metadata": {},
   "outputs": [],
   "source": [
    "import sys\n",
    "sys.path.append(r'../tools_F-J/')\n",
    "from toollib_standard import maplib\n",
    "from toollib_standard import mathlib"
   ]
  },
  {
   "cell_type": "code",
   "execution_count": null,
   "id": "a6d79677",
   "metadata": {},
   "outputs": [],
   "source": [
    "with open('a-project.yml', 'r', encoding='utf-8') as f:\n",
    "    proj = yaml.load(f.read(), Loader=yaml.FullLoader)\n",
    "name_project = proj['name']\n",
    "#name_project = 'project/output_FJSJ_16-01/'               # Harmon server\n",
    "name_project"
   ]
  },
  {
   "cell_type": "code",
   "execution_count": null,
   "id": "6f8b9a21",
   "metadata": {},
   "outputs": [],
   "source": [
    "with open('0_config.yml', 'r', encoding='utf-8') as f:\n",
    "    dir_config = yaml.load(f.read(), Loader=yaml.FullLoader)\n",
    "dir_project_workspace = dir_config['dir_project_workspace']\n",
    "dir_CC_workspace = dir_config['dir_CC_workspace']\n",
    "print('dir_CC_workspace: ', dir_CC_workspace)\n",
    "print('dir_project_workspace: ', dir_project_workspace)\n",
    "dir_project = dir_project_workspace + name_project\n",
    "print('dir_project: ', dir_project)"
   ]
  },
  {
   "cell_type": "code",
   "execution_count": null,
   "id": "c73855df",
   "metadata": {},
   "outputs": [],
   "source": [
    "filename = dir_project+'Basic_info.yml'\n",
    "with open(filename, 'r', encoding='utf-8') as f:\n",
    "    info_basic = yaml.load(f.read(), Loader=yaml.FullLoader)\n",
    "filename_bi = dir_project+'Basic_info.npy'\n",
    "info_basic_bi = np.load(filename_bi, allow_pickle='TRUE').item()      # setting dictionary"
   ]
  },
  {
   "attachments": {},
   "cell_type": "markdown",
   "id": "6c75eb77",
   "metadata": {},
   "source": [
    "### parameter settings"
   ]
  },
  {
   "cell_type": "code",
   "execution_count": null,
   "id": "99c973b4",
   "metadata": {},
   "outputs": [],
   "source": [
    "tag = info_basic['tag']\n",
    "stalistname_all = info_basic['stalistname_all']"
   ]
  },
  {
   "attachments": {},
   "cell_type": "markdown",
   "id": "c35607ea",
   "metadata": {},
   "source": [
    "### Generat sta_info"
   ]
  },
  {
   "cell_type": "code",
   "execution_count": null,
   "id": "158a385e",
   "metadata": {},
   "outputs": [],
   "source": [
    "stalistname_all = info_basic['stalistname_all']\n",
    "stainfo = pd.read_excel(stalistname_all)\n",
    "nsta_all = len(stainfo.iloc[:,0])\n",
    "StationPairs_all = mathlib.GetStationPairs(nsta_all)\n",
    "nPairs_all = int(len(StationPairs_all)/2)\n",
    "stalist_all = stainfo['Station'].tolist() \n",
    "lat_stations_all =  stainfo['latitude'].tolist() \n",
    "lon_stations_all =  stainfo['longitude'].tolist() \n",
    "elevation_stations_all = stainfo['elevation'].tolist()"
   ]
  },
  {
   "cell_type": "code",
   "execution_count": null,
   "id": "190161d8",
   "metadata": {},
   "outputs": [],
   "source": [
    "sta_info = {}\n",
    "years = {2014}\n",
    "for i in range(nsta_all):\n",
    "    sta_info[stalist_all[i]] = {}\n",
    "    sta_info[stalist_all[i]]['year'] = 2014\n",
    "    sta_info[stalist_all[i]]['lat'] =float(lat_stations_all[i])\n",
    "    sta_info[stalist_all[i]]['lon'] =float(lon_stations_all[i])"
   ]
  },
  {
   "attachments": {},
   "cell_type": "markdown",
   "id": "f0ccfd34",
   "metadata": {},
   "source": [
    "### Sort by different years"
   ]
  },
  {
   "cell_type": "code",
   "execution_count": null,
   "id": "15a05067",
   "metadata": {},
   "outputs": [],
   "source": [
    "cs = maplib.cs\n",
    "crs = maplib.crs\n",
    "zoom_rate = 16"
   ]
  },
  {
   "cell_type": "code",
   "execution_count": null,
   "id": "f48e4dfa",
   "metadata": {},
   "outputs": [],
   "source": [
    "key_loc = 12\n",
    "this_map = maplib.plot_single_area(sta_info,key_loc,cs,crs,zoom_rate)\n",
    "this_map"
   ]
  },
  {
   "attachments": {},
   "cell_type": "markdown",
   "id": "5b163d66",
   "metadata": {},
   "source": [
    "### Sort area automatically with row and column indexes"
   ]
  },
  {
   "cell_type": "code",
   "execution_count": null,
   "id": "8739a5bb",
   "metadata": {},
   "outputs": [],
   "source": [
    "def sort_point_2d(sta_info,stas,step_col,step_row,size_col,size_row,tag_col,tag_row):\n",
    "    rows = np.arange(int(tag_row[0]),int(tag_row[1])+1)\n",
    "    cols = np.arange(int(tag_col[0]),int(tag_col[1])+1)\n",
    "\n",
    "    len_row = int((size_row-1)/2)\n",
    "    len_col = int((size_col-1)/2)\n",
    "\n",
    "    sta_area = {}\n",
    "    flag_row = tag_row[0]\n",
    "\n",
    "    while flag_row + len_row <= tag_row[1]:\n",
    "        while flag_row - len_row <=  tag_row[0]-1:\n",
    "            flag_row += 1\n",
    "        flag_col = tag_col[0]\n",
    "        while flag_col + len_col <= tag_col[1]:\n",
    "            while flag_col - len_col <= tag_col[0]-1:\n",
    "                flag_col += 1\n",
    "            \n",
    "            key = str(flag_col).zfill(2)+'-'+str(flag_row).zfill(2)\n",
    "            \n",
    "            sta_area[key] = {}\n",
    "            for i in range(flag_row-len_row-1,flag_row+len_row):\n",
    "                for j in range(flag_col-len_col-1,flag_col+len_col):\n",
    "                    name = 'R'+str(cols[j]).zfill(2)+str(rows[i]).zfill(2)\n",
    "                    if name in stas:\n",
    "                        sta_area[key][name] ={}\n",
    "                        sta_area[key][name]['lat'] = sta_info[name]['lat']\n",
    "                        sta_area[key][name]['lon'] = sta_info[name]['lon']\n",
    "            flag_col += step_col\n",
    "        flag_row += step_row\n",
    "    return sta_area"
   ]
  },
  {
   "cell_type": "code",
   "execution_count": null,
   "id": "9caf144f",
   "metadata": {},
   "outputs": [],
   "source": [
    "step_row = 1\n",
    "step_col = 1\n",
    "\n",
    "size_row = 7\n",
    "size_col = 19\n",
    "\n",
    "tag_row = [1,20]\n",
    "tag_col = [1,60]\n",
    "\n",
    "stas = list(sta_info.keys())\n",
    "\n",
    "sta_area = sort_point_2d(sta_info,stas,step_col,step_row,size_col,size_row,tag_col,tag_row)"
   ]
  },
  {
   "cell_type": "code",
   "execution_count": null,
   "id": "28ca40d5",
   "metadata": {},
   "outputs": [],
   "source": [
    "this_map = maplib.plot_single_area(sta_info,0,cs,crs,zoom_rate)\n",
    "i = 2\n",
    "key = list(sta_area.keys())[i]\n",
    "#key = '13-04'\n",
    "this_map = maplib.lat_lon(sta_area[key],cs[np.mod(i+1,2)],crs[np.mod(i,2)],this_map)\n",
    "this_map"
   ]
  },
  {
   "cell_type": "code",
   "execution_count": null,
   "id": "fbde2b2c",
   "metadata": {},
   "outputs": [],
   "source": [
    "this_map = maplib.plot_single_area(sta_info,10,cs,crs,zoom_rate)\n",
    "for i in range(len(sta_area.keys())):\n",
    "    key = list(sta_area.keys())[i]\n",
    "    this_map = maplib.lat_lon(sta_area[key],cs[np.mod(i,4)],crs[np.mod(i+1,3)],this_map)\n",
    "this_map"
   ]
  },
  {
   "attachments": {},
   "cell_type": "markdown",
   "id": "45b66314",
   "metadata": {},
   "source": [
    "### Generate subworks"
   ]
  },
  {
   "cell_type": "code",
   "execution_count": null,
   "id": "b4bd10f5",
   "metadata": {},
   "outputs": [],
   "source": [
    "key_subworks = list(sta_area.keys())\n",
    "info_basic['key_subworks'] = list(sta_area.keys())\n",
    "len(key_subworks)"
   ]
  },
  {
   "cell_type": "code",
   "execution_count": null,
   "id": "337010ea",
   "metadata": {},
   "outputs": [],
   "source": [
    "dir_partition = dir_project + 'partition/'\n",
    "info_basic['rdir_partition'] = 'partition/'\n",
    "if os.path.exists(dir_partition):\n",
    "    shutil.rmtree(dir_partition)\n",
    "os.makedirs(dir_partition)"
   ]
  },
  {
   "cell_type": "code",
   "execution_count": null,
   "id": "00c1b4d1",
   "metadata": {},
   "outputs": [],
   "source": [
    "for key_subwork in key_subworks:\n",
    "    Station = list(sta_area[key_subwork].keys())\n",
    "    lat = [sta_area[key_subwork][key]['lat'] for key in list(sta_area[key_subwork].keys())]\n",
    "    lon = [sta_area[key_subwork][key]['lon'] for key in list(sta_area[key_subwork].keys())]\n",
    "    filename = dir_partition + key_subwork + '.txt'\n",
    "    np.savetxt(filename, np.array([Station, lat, lon]).T, fmt='%s', delimiter=' ', header='Station lat lon')"
   ]
  },
  {
   "cell_type": "code",
   "execution_count": null,
   "id": "6be93579",
   "metadata": {},
   "outputs": [],
   "source": [
    "#np.save(info_basic['dir_config']+'/Basic_info.npy', info_basic)\n",
    "with open(dir_project+'Basic_info.yml', 'w', encoding='utf-8') as f:\n",
    "   yaml.dump(data=info_basic, stream=f, allow_unicode=True)"
   ]
  }
 ],
 "metadata": {
  "kernelspec": {
   "display_name": "Python 3 (ipykernel)",
   "language": "python",
   "name": "python3"
  },
  "language_info": {
   "codemirror_mode": {
    "name": "ipython",
    "version": 3
   },
   "file_extension": ".py",
   "mimetype": "text/x-python",
   "name": "python",
   "nbconvert_exporter": "python",
   "pygments_lexer": "ipython3",
   "version": "3.9.18"
  },
  "vscode": {
   "interpreter": {
    "hash": "9e1b1cfcb63b8c4b20fd3d610677682a40199606624b55ac5cc8ef1326af990f"
   }
  }
 },
 "nbformat": 4,
 "nbformat_minor": 5
}
