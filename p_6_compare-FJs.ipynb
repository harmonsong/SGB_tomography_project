{
 "cells": [
  {
   "cell_type": "code",
   "execution_count": null,
   "metadata": {},
   "outputs": [],
   "source": [
    "import numpy as np\n",
    "import os\n",
    "import matplotlib.pyplot as plt\n",
    "import h5py\n",
    "from scipy import interpolate\n",
    "from ccfj import GetStationPairs\n",
    "import pandas as pd\n",
    "import yaml\n",
    "import geopandas as gp"
   ]
  },
  {
   "cell_type": "code",
   "execution_count": null,
   "metadata": {},
   "outputs": [],
   "source": [
    "import sys\n",
    "sys.path.append(r'../tools_F-J/')\n",
    "from toollib_standard import maplib\n",
    "from toollib_standard import mathlib\n",
    "from toollib_standard import filelib\n",
    "from toollib_standard import stacklib\n",
    "from toollib_standard import plotlib"
   ]
  },
  {
   "cell_type": "code",
   "execution_count": null,
   "metadata": {},
   "outputs": [],
   "source": [
    "with open('0_config.yml', 'r', encoding='utf-8') as f:\n",
    "    dir_config = yaml.load(f.read(), Loader=yaml.FullLoader)\n",
    "dir_project_workspace = dir_config['dir_project_workspace']\n",
    "dir_CC_workspace = dir_config['dir_CC_workspace']\n",
    "print('dir_CC_workspace: ', dir_CC_workspace)\n",
    "print('dir_project_workspace: ', dir_project_workspace)"
   ]
  },
  {
   "cell_type": "code",
   "execution_count": null,
   "metadata": {},
   "outputs": [],
   "source": [
    "name_projects = []\n",
    "name_projects.append('project/output_FJSJ_17-02/')\n",
    "name_projects.append('project/output_FJSJ_17-03/')\n",
    "name_projects.append('project/output_FJSJ_17-04/')\n",
    "name_projects.append('project_repartition_v3.0/output_repar_01-01/')\n",
    "#name_projects.append('project_repartition_v3.0/output_repar_01-02/')"
   ]
  },
  {
   "cell_type": "code",
   "execution_count": null,
   "metadata": {},
   "outputs": [],
   "source": [
    "name_project_sample = 'project_repartition_v3.0/output_repar_01-01/'\n",
    "dir_project_sample = dir_project_workspace + name_project_sample\n",
    "filename = dir_project_sample+'Basic_info.yml'\n",
    "with open(filename, 'r', encoding='utf-8') as f:\n",
    "    info_basic = yaml.load(f.read(), Loader=yaml.FullLoader)\n",
    "key_subworks = info_basic['key_subworks']\n",
    "key_subworks"
   ]
  },
  {
   "cell_type": "code",
   "execution_count": null,
   "metadata": {},
   "outputs": [],
   "source": [
    "key_subworks = ['47-18--678']"
   ]
  },
  {
   "cell_type": "code",
   "execution_count": null,
   "metadata": {},
   "outputs": [],
   "source": [
    "stalistname_all = info_basic['stalistname_all']\n",
    "stainfo = pd.read_excel(stalistname_all)\n",
    "nsta_all = len(stainfo.iloc[:,0])\n",
    "StationPairs_all = GetStationPairs(nsta_all)\n",
    "nPairs_all = int(len(StationPairs_all)/2)\n",
    "stalist_all = stainfo['Station'].tolist()\n",
    "lat_all = stainfo['latitude'].tolist() \n",
    "lon_all = stainfo['longitude'].tolist()"
   ]
  },
  {
   "cell_type": "code",
   "execution_count": null,
   "metadata": {},
   "outputs": [],
   "source": [
    "stations_alls = {}\n",
    "lat_stations_alls = {}\n",
    "lon_stations_alls = {}\n",
    "lat_centroid_alls = {}\n",
    "lon_centroid_alls = {}\n",
    "for name_project in name_projects:\n",
    "    dir_project = dir_project_workspace + name_project\n",
    "    filename = dir_project+'Basic_info.yml'\n",
    "    with open(filename, 'r', encoding='utf-8') as f:\n",
    "        info_basic = yaml.load(f.read(), Loader=yaml.FullLoader)\n",
    "    dir_partition = dir_project + 'partition/'\n",
    "    stations = {}\n",
    "    lat = {}\n",
    "    lon = {}\n",
    "    lat_centroid = {}\n",
    "    lon_centroid = {}\n",
    "    for key in info_basic['key_subworks']:\n",
    "        filepath = dir_partition + str(key) + '.txt'\n",
    "        stations_this, lat_stations_this, lon_stations_this = np.loadtxt(filepath, dtype='str' , unpack=True)\n",
    "        stations[key] = stations_this.tolist()\n",
    "        lat[key] = lat_stations_this.astype(float)\n",
    "        lon[key] = lon_stations_this.astype(float)\n",
    "        lat_centroid[key] = np.mean(lat[key])\n",
    "        lon_centroid[key] = np.mean(lon[key])\n",
    "\n",
    "    stations_alls[name_project] = stations\n",
    "    lat_stations_alls[name_project] = lat\n",
    "    lon_stations_alls[name_project] = lon\n",
    "    lat_centroid_alls[name_project] = lat_centroid\n",
    "    lon_centroid_alls[name_project] = lon_centroid\n",
    "    "
   ]
  },
  {
   "cell_type": "code",
   "execution_count": null,
   "metadata": {},
   "outputs": [],
   "source": [
    "faults = np.load('clark_faults.npy', allow_pickle='TRUE').item()"
   ]
  },
  {
   "cell_type": "code",
   "execution_count": null,
   "metadata": {},
   "outputs": [],
   "source": [
    "dir_image = dir_project_workspace + 'compare_test/'\n",
    "if not os.path.exists(dir_image):\n",
    "    os.makedirs(dir_image)"
   ]
  },
  {
   "cell_type": "code",
   "execution_count": null,
   "metadata": {},
   "outputs": [],
   "source": [
    "def find_nearset(key_subwork,name_project):\n",
    "\tglobal name_project_sample\n",
    "\tglobal key_subworks\n",
    "\n",
    "\tlon_this = lon_centroid_alls[name_project_sample][key_subwork]\n",
    "\tlat_this = lat_centroid_alls[name_project_sample][key_subwork]\n",
    "\n",
    "\tlon_all = []\n",
    "\tlat_all = []\n",
    "\t\n",
    "\tlon_all = list(lon_centroid_alls[name_project].values())\n",
    "\tlat_all = list(lat_centroid_alls[name_project].values())\n",
    "\tkey_all = list(lat_centroid_alls[name_project].keys())\n",
    "\n",
    "\tdist = np.sqrt((np.array(lon_all)-lon_this)**2+(np.array(lat_all)-lat_this)**2)\n",
    "\tindx = np.argsort(dist)\n",
    "\t#print(indx)\n",
    "\tkey_nearset = key_all[indx[0]]\n",
    "\n",
    "\treturn str(key_nearset)"
   ]
  },
  {
   "cell_type": "code",
   "execution_count": null,
   "metadata": {},
   "outputs": [],
   "source": [
    "c_map = 'jet'\n",
    "v_min = 0.1\n",
    "v_max = None\n",
    "xlim_f = [1,25]\n",
    "for key_subwork in key_subworks:\n",
    "    print('start ',str(key_subwork),' ',str(key_subworks.index(key_subwork)+1),'/',len(key_subworks))\n",
    "    fig,ax = plt.subplots(2,len(name_projects),figsize=(5*len(name_projects),9))\n",
    "    for name_project in name_projects:\n",
    "        key_this_find = find_nearset(key_subwork,name_project)\n",
    "        #print(name_project)\n",
    "\n",
    "        stations = stations_alls[name_project]\n",
    "        lat_stations = lat_stations_alls[name_project]\n",
    "        lon_stations = lon_stations_alls[name_project]\n",
    "\n",
    "\n",
    "        col_index = name_projects.index(name_project)\n",
    "        dir_project = dir_project_workspace + name_project\n",
    "        filename = dir_project+'Basic_info.yml'\n",
    "        with open(filename, 'r', encoding='utf-8') as f:\n",
    "            info_basic = yaml.load(f.read(), Loader=yaml.FullLoader)\n",
    "        dir_ds = dir_project + info_basic['dir_ds']\n",
    "\n",
    "        #print('key_this_find: ',key_this_find)\n",
    "\n",
    "        stalist = stations[key_this_find]\n",
    "        lat_this = lat_stations[key_this_find]\n",
    "        lon_this = lon_stations[key_this_find]\n",
    "        nsta = len(stalist)\n",
    "\n",
    "        ax[1][col_index]=plotlib.plot_area(ax[1][col_index],lon_all,lat_all,lon_this,lat_this)\n",
    "        for i in range(len(faults)):\n",
    "            ax[1][col_index].plot(faults['clark'+str(i+1)]['lon'], faults['clark'+str(i+1)]['lat'], 'k')\n",
    "        \n",
    "        title0 = name_project.split('/')[-2] + ' ' +str(key_this_find)\n",
    "        c = np.linspace(info_basic['c_min'],info_basic['c_max'],info_basic['c_num'])\n",
    "        ds = h5py.File(dir_ds+'ds_'+str(key_this_find)+'.h5', 'r')\n",
    "        ds_remove = ds['ds_remove'][0]\n",
    "        ds_linear = ds['ds_linear'][0]\n",
    "        f = ds['f'][:]\n",
    "        ax[0][col_index] = plotlib.plot_fj(ax[0][col_index] ,ds_remove,title0,f,c,0,v_min=v_min,v_max=v_max,c_map=c_map)\n",
    "        ax[0][col_index] .set_xlim(xlim_f)\n",
    "        #ax[1][col_index] = plotlib.plot_fj(ax[1][col_index] ,ds_linear,title0,f,c,0,v_min=v_min,v_max=v_max,c_map=c_map)\n",
    "        #ax[1][col_index] .set_xlim(xlim_f)\n",
    "    plt.tight_layout()\n",
    "    plt.savefig(dir_image+key_subwork+'.png',dpi=60)\n",
    "    #plt.close()"
   ]
  }
 ],
 "metadata": {
  "kernelspec": {
   "display_name": "ccfj",
   "language": "python",
   "name": "python3"
  },
  "language_info": {
   "codemirror_mode": {
    "name": "ipython",
    "version": 3
   },
   "file_extension": ".py",
   "mimetype": "text/x-python",
   "name": "python",
   "nbconvert_exporter": "python",
   "pygments_lexer": "ipython3",
   "version": "3.9.18"
  }
 },
 "nbformat": 4,
 "nbformat_minor": 2
}
