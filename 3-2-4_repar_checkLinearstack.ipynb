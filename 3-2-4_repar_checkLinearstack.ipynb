{
 "cells": [
  {
   "cell_type": "code",
   "execution_count": null,
   "metadata": {},
   "outputs": [],
   "source": [
    "import numpy as np\n",
    "from ccfj import GetStationPairs\n",
    "import os\n",
    "import matplotlib.pyplot as plt\n",
    "import scipy.signal as sgn\n",
    "import scipy.io as scio\n",
    "import h5py\n",
    "import yaml"
   ]
  },
  {
   "cell_type": "code",
   "execution_count": null,
   "metadata": {},
   "outputs": [],
   "source": [
    "import sys\n",
    "sys.path.append(r'../tools_F-J/')\n",
    "from toollib_standard import maplib\n",
    "from toollib_standard import mathlib\n",
    "from toollib_standard import filelib\n",
    "from toollib_standard import stacklib\n",
    "from toollib_standard import plotlib"
   ]
  },
  {
   "cell_type": "code",
   "execution_count": null,
   "metadata": {},
   "outputs": [],
   "source": [
    "with open('a-project_repar.yml', 'r', encoding='utf-8') as f:\n",
    "    proj = yaml.load(f.read(), Loader=yaml.FullLoader)\n",
    "name_project = proj['name']\n",
    "#name_project = 'project_repartrition/repartrition_01-03/'               # Harmon server\n",
    "name_project"
   ]
  },
  {
   "cell_type": "code",
   "execution_count": null,
   "metadata": {},
   "outputs": [],
   "source": [
    "with open('0_config.yml', 'r', encoding='utf-8') as f:\n",
    "    dir_config = yaml.load(f.read(), Loader=yaml.FullLoader)\n",
    "dir_project_workspace = dir_config['dir_project_workspace']\n",
    "dir_CC_workspace = dir_config['dir_CC_workspace']\n",
    "print('dir_CC_workspace: ', dir_CC_workspace)\n",
    "print('dir_project_workspace: ', dir_project_workspace)\n",
    "dir_project = os.path.join(dir_project_workspace, name_project)\n",
    "print('dir_project: ', dir_project)"
   ]
  },
  {
   "cell_type": "code",
   "execution_count": null,
   "metadata": {},
   "outputs": [],
   "source": [
    "filename = dir_project+'Basic_info.yml'\n",
    "with open(filename, 'r', encoding='utf-8') as f:\n",
    "    info_basic = yaml.load(f.read(), Loader=yaml.FullLoader)\n",
    "filename_bi = dir_project+'Basic_info.npy'\n",
    "info_basic_bi = np.load(filename_bi, allow_pickle='TRUE').item()      # setting dictionary"
   ]
  },
  {
   "cell_type": "code",
   "execution_count": null,
   "metadata": {},
   "outputs": [],
   "source": [
    "key_subworks = info_basic['key_subworks']\n",
    "key_subworks"
   ]
  },
  {
   "cell_type": "code",
   "execution_count": null,
   "metadata": {},
   "outputs": [],
   "source": [
    "dir_image = dir_project+info_basic['dir_image']\n",
    "dir_stack = dir_project+info_basic['dir_stack']"
   ]
  },
  {
   "cell_type": "code",
   "execution_count": null,
   "metadata": {},
   "outputs": [],
   "source": [
    "def check_timewindow(info_basic,info_basic_bi,key_subwork,v_min,v_max,tao,ax,start,interval,flag_time,flag_sig,flag_plot):\n",
    "    global dir_stack\n",
    "    outname = str(key_subwork)+'_gather_linear.h5'\n",
    "    ncffile = h5py.File(dir_stack + outname,'r')\n",
    "    ncfs_sum_linear = ncffile['ncfs'][:]\n",
    "    r0 = ncffile['r'][:]\n",
    "\n",
    "    indx = np.argsort(r0)\n",
    "    r0 = r0[indx]\n",
    "    ncfs_sum_linear = ncfs_sum_linear[indx,:]\n",
    "    ncfst_linear = mathlib.freq_time(ncfs_sum_linear)\n",
    "\n",
    "\n",
    "    # half side\n",
    "    num = int((len(ncfst_linear[0]))/2)\n",
    "    ncfst_half = np.zeros([np.shape(ncfs_sum_linear)[0],num])\n",
    "    for i in range(len(ncfst_half)):\n",
    "        ncfst_half[i,:] = (ncfst_linear[i,0:num][::-1] + ncfst_linear[i,num::])/2\n",
    "    t = info_basic_bi['t']\n",
    "    f = info_basic_bi['f']\n",
    "    #nsta = info_basic['nstaS'][key_subwork]\n",
    "    nPairs = len(ncfst_half)\n",
    "    sigwins0,noisewins10,noisewins20 = stacklib.cal_wins(ncfst_half,r0,t[num:],f,v_min,v_max,tao,nPairs,flag_sig)\n",
    "\n",
    "    info_basic_bi['v_min'][key_subwork] = v_min\n",
    "    info_basic_bi['v_max'][key_subwork] = v_max\n",
    "    info_basic_bi['tao'][key_subwork] = tao\n",
    "    #info_basic_bi['start'][key_subwork] = start\n",
    "    #info_basic_bi['interval'][key_subwork] = interval\n",
    "    #info_basic_bi['flag_time'][key_subwork] = flag_time\n",
    "    info_basic_bi['sigwins'][key_subwork] = sigwins0\n",
    "    info_basic_bi['noisewins1'][key_subwork] = noisewins10\n",
    "    info_basic_bi['noisewins2'][key_subwork] = noisewins20\n",
    "\n",
    "    # plot\n",
    "    if flag_plot == 0:\n",
    "        return t,ncfst_linear,info_basic_bi\n",
    "    \n",
    "    title0 = ' '\n",
    "    #title0 = 'CCF in time domain for subwork: ' + key_subwork\n",
    "    xlim = [-1,1]\n",
    "    ax[0] = plotlib.plot_ncfst(ax[0],t,ncfst_linear[start::interval],r0[start::interval],title0,flag_time,xlim,0)\n",
    "    ax[1] = plotlib.plot_ncfst(ax[1],t,ncfst_linear[start::interval],r0[start::interval],title0,flag_time,xlim,0)\n",
    "    r = r0[start::interval]\n",
    "    sigwins = sigwins0[start::interval]\n",
    "    noisewins1 = noisewins10[start::interval]\n",
    "    noisewins2 = noisewins20[start::interval]\n",
    "    for i in range(len(r)):\n",
    "        ax[1].plot(t[num+sigwins[i][0]],r[i],'r.')\n",
    "        ax[1].plot(t[num+sigwins[i][1]],r[i],'r.')\n",
    "        ax[1].plot(-t[num+sigwins[i][0]],r[i],'r.')\n",
    "        ax[1].plot(-t[num+sigwins[i][1]],r[i],'r.')\n",
    "        ax[1].hlines(r[i],t[num+sigwins[i][0]],t[num+sigwins[i][1]],'g',linestyles='--')\n",
    "        ax[1].hlines(r[i],-t[num+sigwins[i][0]],-t[num+sigwins[i][1]],'g',linestyles='--')\n",
    "    #title0 = 'CCF in time domain for subwork: ' + key_subwork\n",
    "    #xlim = [0,300]\n",
    "    #ax[1] = plotlib.plot_ncfst_timewindow(ax[1],t[num:],ncfst_half[start::interval],r0[start::interval],title0,flag_time,v,tao,xlim)\n",
    "    plt.tight_layout()\n",
    "    dir_image = dir_project + info_basic['dir_image']\n",
    "    #plt.savefig(dir_image+key_subwork+'_CCF-timewindow.png',dpi=60)\n",
    "    #plt.savefig(dir_project+'image/CCF_timewindow_'+key_subwork+'.png',dpi=300)\n",
    "\n",
    "    \n",
    "    return t,ncfst_linear,info_basic_bi"
   ]
  },
  {
   "cell_type": "code",
   "execution_count": null,
   "metadata": {},
   "outputs": [],
   "source": [
    "info_basic_bi['v_min'] = {}\n",
    "info_basic_bi['v_max'] = {}\n",
    "info_basic_bi['tao'] = {}\n",
    "#info_basic_bi['start'] = {}\n",
    "#info_basic_bi['interval'] = {}\n",
    "#info_basic_bi['flag_time'] = {}\n",
    "info_basic_bi['sigwins'] = {}\n",
    "info_basic_bi['noisewins1'] = {}\n",
    "info_basic_bi['noisewins2'] = {}"
   ]
  },
  {
   "cell_type": "code",
   "execution_count": null,
   "metadata": {},
   "outputs": [],
   "source": [
    "flag_time = 0.02\n",
    "start = 0\n",
    "interval = 10\n",
    "info_basic['flag_time'] = flag_time\n",
    "info_basic['start'] = start\n",
    "info_basic['interval'] = interval\n",
    "with open(dir_project+'Basic_info.yml', 'w', encoding='utf-8') as f:\n",
    "   yaml.dump(data=info_basic, stream=f, allow_unicode=True)"
   ]
  },
  {
   "cell_type": "code",
   "execution_count": null,
   "metadata": {},
   "outputs": [],
   "source": [
    "key_subworks_sample = key_subworks[0:10:5]\n",
    "key_subworks_sample"
   ]
  },
  {
   "cell_type": "code",
   "execution_count": null,
   "metadata": {},
   "outputs": [],
   "source": [
    "for key_subwork in key_subworks_sample:\n",
    "    flag_sig = 0\n",
    "    v_min = 0.8\n",
    "    v_max = 0.8\n",
    "    tao = 0.0\n",
    "    fig,ax = plt.subplots(2,1,figsize = (8,8))\n",
    "    t,ncfst,info_basic_bi = check_timewindow(info_basic,info_basic_bi,key_subwork,v_min,v_max,tao,ax,start,interval,flag_time,flag_sig,1)"
   ]
  }
 ],
 "metadata": {
  "kernelspec": {
   "display_name": "ccfj",
   "language": "python",
   "name": "python3"
  },
  "language_info": {
   "codemirror_mode": {
    "name": "ipython",
    "version": 3
   },
   "file_extension": ".py",
   "mimetype": "text/x-python",
   "name": "python",
   "nbconvert_exporter": "python",
   "pygments_lexer": "ipython3",
   "version": "3.9.18"
  }
 },
 "nbformat": 4,
 "nbformat_minor": 2
}
