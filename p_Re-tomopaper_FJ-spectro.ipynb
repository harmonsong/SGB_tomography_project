{
 "cells": [
  {
   "cell_type": "code",
   "execution_count": null,
   "metadata": {},
   "outputs": [],
   "source": [
    "import numpy as np\n",
    "import os\n",
    "import matplotlib.pyplot as plt\n",
    "import h5py\n",
    "from scipy import interpolate\n",
    "import pandas as pd\n",
    "import yaml\n",
    "import geopandas as gp\n",
    "import time\n",
    "import pandas as pd\n",
    "from geopy.distance import great_circle\n",
    "import folium\n",
    "import h5py\n",
    "from scipy.signal import butter, lfilter\n",
    "\n",
    "from scipy.spatial import ConvexHull\n",
    "from scipy.interpolate import griddata\n",
    "from shapely.geometry import Point, Polygon"
   ]
  },
  {
   "cell_type": "code",
   "execution_count": null,
   "metadata": {},
   "outputs": [],
   "source": [
    "import sys\n",
    "sys.path.append(r'../tools_F-J/')\n",
    "from toollib_standard import maplib\n",
    "from toollib_standard import mathlib\n",
    "from toollib_standard import filelib\n",
    "from toollib_standard import stacklib\n",
    "from toollib_standard import plotlib"
   ]
  },
  {
   "cell_type": "code",
   "execution_count": null,
   "metadata": {},
   "outputs": [],
   "source": [
    "flag_project = 1\n",
    "\n",
    "if flag_project == 0:\n",
    "    file_project = 'a-project.yml'\n",
    "elif flag_project == 1:\n",
    "    file_project = 'a-project_repar.yml'\n",
    "elif flag_project == 2:\n",
    "    file_project = 'a-project_voro.yml'\n",
    "    \n",
    "with open(file_project, 'r', encoding='utf-8') as f:\n",
    "    proj = yaml.load(f.read(), Loader=yaml.FullLoader)\n",
    "name_project = proj['name']\n",
    "name_project = 'project_repartition_v4.0/output_repar_v9.5_02--10-16Hz/'"
   ]
  },
  {
   "cell_type": "code",
   "execution_count": null,
   "metadata": {},
   "outputs": [],
   "source": [
    "with open('0_config.yml', 'r', encoding='utf-8') as f:\n",
    "    dir_config = yaml.load(f.read(), Loader=yaml.FullLoader)\n",
    "dir_project_workspace = dir_config['dir_project_workspace']\n",
    "dir_CC_workspace = dir_config['dir_CC_workspace']\n",
    "print('dir_CC_workspace: ', dir_CC_workspace)\n",
    "print('dir_project_workspace: ', dir_project_workspace)\n",
    "dir_project = os.path.join(dir_project_workspace, name_project)\n",
    "print('dir_project: ', dir_project)"
   ]
  },
  {
   "cell_type": "code",
   "execution_count": null,
   "metadata": {},
   "outputs": [],
   "source": [
    "filename = dir_project+'Basic_info.yml'\n",
    "with open(filename, 'r', encoding='utf-8') as f:\n",
    "    info_basic = yaml.load(f.read(), Loader=yaml.FullLoader)\n",
    "filename_bi = dir_project+'Basic_info.npy'\n",
    "info_basic_bi = np.load(filename_bi, allow_pickle='TRUE').item()      # setting dictionary"
   ]
  },
  {
   "cell_type": "code",
   "execution_count": null,
   "metadata": {},
   "outputs": [],
   "source": [
    "rdir_project_probes = info_basic['rdir_project_probes']\n",
    "rdir_project_targets = info_basic['rdir_project_targets']\n",
    "dir_project_probes = os.path.join(dir_project_workspace, rdir_project_probes)\n",
    "dir_project_targets = os.path.join(dir_project_workspace, rdir_project_targets)\n",
    "print('dir_project_probes: ', dir_project_probes)\n",
    "print('dir_project_targets: ', dir_project_targets)"
   ]
  },
  {
   "cell_type": "code",
   "execution_count": null,
   "metadata": {},
   "outputs": [],
   "source": [
    "name_projects = []\n",
    "name_projects.append('project/output_regular_v9.5_3x7/')\n",
    "name_projects.append('project/output_regular_v9.5_5x13/')\n",
    "name_projects.append('project/output_regular_v9.5_7x19/')\n",
    "name_projects.append('project_repartition_v4.0/output_repar_v9.5_02--10-16Hz/')"
   ]
  },
  {
   "cell_type": "code",
   "execution_count": null,
   "metadata": {},
   "outputs": [],
   "source": [
    "filename = dir_project_probes+'Basic_info.yml'\n",
    "with open(filename, 'r', encoding='utf-8') as f:\n",
    "    info_basic_probes = yaml.load(f.read(), Loader=yaml.FullLoader)\n",
    "filename_bi = dir_project_probes+'Basic_info.npy'\n",
    "info_basic_bi_probes = np.load(filename_bi, allow_pickle='TRUE').item()      # setting dictionary\n",
    "\n",
    "filename = dir_project_targets+'Basic_info.yml'\n",
    "with open(filename, 'r', encoding='utf-8') as f:\n",
    "    info_basic_targets = yaml.load(f.read(), Loader=yaml.FullLoader)"
   ]
  },
  {
   "cell_type": "code",
   "execution_count": null,
   "metadata": {},
   "outputs": [],
   "source": [
    "dir_CC = dir_CC_workspace + info_basic['rdir_CC']\n",
    "dir_ds = dir_project + info_basic['rdir_ds']\n",
    "dir_partition = dir_project + info_basic['rdir_partition']\n",
    "dir_partition_probes = dir_project_probes + info_basic_probes['rdir_partition']\n",
    "dir_partition_targets = dir_project_targets + info_basic_targets['rdir_partition']\n",
    "dir_disp_pick = dir_project + info_basic['rdir_disp_pick']\n",
    "dir_disp_probes  = dir_project_probes + info_basic_probes['rdir_disp_autopick'] \n",
    "dir_image = dir_project + info_basic['rdir_image'] + 'paper_tomo_Re-srl/'\n",
    "if os.path.exists(dir_image) == False:\n",
    "    os.makedirs(dir_image)"
   ]
  },
  {
   "cell_type": "code",
   "execution_count": null,
   "metadata": {},
   "outputs": [],
   "source": [
    "key_subworks_all = info_basic['key_subworks']\n",
    "probes = info_basic_probes['key_subworks']\n",
    "targets = info_basic_targets['key_subworks']"
   ]
  },
  {
   "cell_type": "code",
   "execution_count": null,
   "metadata": {},
   "outputs": [],
   "source": [
    "key_subwork = '277--26-10'\n",
    "key_probe = '24-10'\n",
    "key_target = '26-10'"
   ]
  },
  {
   "cell_type": "code",
   "execution_count": null,
   "metadata": {},
   "outputs": [],
   "source": [
    "name_projects = []\n",
    "keys = []\n",
    "name_projects.append('project/output_regular_v9.5_5x13/')\n",
    "keys.append(key_target)\n",
    "name_projects.append('project/output_regular_v9.5_7x19/')\n",
    "keys.append(key_target)\n",
    "name_projects.append(name_project)\n",
    "keys.append(key_subwork)\n",
    "plt.style.use('tomo_paper.mplstyle')\n",
    "for i in range(3):\n",
    "    fig = plt.figure(figsize=(10,8))\n",
    "    ax_fj = fig.add_subplot(1,1,1)\n",
    "    key_this = keys[i]\n",
    "    print(key_this)\n",
    "    name_project_this = name_projects[i]\n",
    "    dir_project_this = dir_project_workspace + name_project_this\n",
    "    filename = dir_project_this+'Basic_info.yml'\n",
    "    with open(filename, 'r', encoding='utf-8') as f:\n",
    "        info_basic_this = yaml.load(f.read(), Loader=yaml.FullLoader)\n",
    "    dir_ds_this = dir_project_this + info_basic_this['rdir_ds']\n",
    "    c = np.linspace(info_basic_this['fj_c_min'],info_basic_this['fj_c_max'],info_basic_this['fj_c_num'])\n",
    "    ds = h5py.File(dir_ds_this+'ds_'+str(key_this)+'.h5', 'r')\n",
    "    ds_remove = ds['ds_remove'][0]\n",
    "    ds_remove = plotlib.smooth_ds(ds_remove,level_c=12)\n",
    "    f0 = ds['f'][:]\n",
    "    im = ax_fj.imshow(np.flip(ds_remove,0),aspect='auto',extent=[min(f0)-0.5,max(f0)-0.5,min(c),max(c)],vmin=0.2,vmax = 0.95, cmap = 'jet')\n",
    "    ax_fj.set_xlim([3,20])\n",
    "    ax_fj.set_ylim([0.23,1.5])\n",
    "    ax_fj.set_xticks(np.arange(4,21,2))\n",
    "    ax_fj.set_xlabel('Frequency (Hz)')\n",
    "    ax_fj.set_ylabel('Phase Velocity (km/s)')\n",
    "    # add colorbar\n",
    "    fig.colorbar(im, extend = 'both',orientation = 'horizontal',location = 'top', fraction = 0.03, shrink = 0.8, pad = 0.05)\n",
    "    plt.tight_layout()\n",
    "    plt.savefig(dir_image+'partitionworkflow_FJ-'+str(i+1)+'.eps')"
   ]
  },
  {
   "cell_type": "code",
   "execution_count": null,
   "metadata": {},
   "outputs": [],
   "source": [
    "key_subwork = '277--26-10'\n",
    "fig = plt.figure(figsize=(10,8))\n",
    "ax_fj = fig.add_subplot(1,1,1)\n",
    "plt.style.use('tomo_paper.mplstyle')\n",
    "name_project_this = name_projects[2]\n",
    "dir_project_this = dir_project_workspace + name_project_this\n",
    "filename = dir_project_this+'Basic_info.yml'\n",
    "with open(filename, 'r', encoding='utf-8') as f:\n",
    "    info_basic_this = yaml.load(f.read(), Loader=yaml.FullLoader)\n",
    "dir_ds_this = dir_project_this + info_basic_this['rdir_ds']\n",
    "c = np.linspace(info_basic_this['fj_c_min'],info_basic_this['fj_c_max'],info_basic_this['fj_c_num'])\n",
    "ds = h5py.File(dir_ds_this+'ds_'+str(key_this)+'.h5', 'r')\n",
    "ds_remove = ds['ds_remove'][0]\n",
    "ds_remove = plotlib.smooth_ds(ds_remove,level_c = 20,level_f=12)\n",
    "f0 = ds['f'][:]\n",
    "im = ax_fj.imshow(np.flip(ds_remove,0),aspect='auto',extent=[min(f0)-0.5,max(f0)-0.5,min(c),max(c)],vmin=0.15,vmax = 0.95, cmap = 'jet')\n",
    "ax_fj.set_xlim([3,20])\n",
    "ax_fj.set_ylim([0.25,1.5])\n",
    "ax_fj.set_xticks(np.arange(4,21,2))\n",
    "ax_fj.set_xlabel('Frequency (Hz)')\n",
    "ax_fj.set_ylabel('Phase Velocity (km/s)')\n",
    "fig.colorbar(im, extend = 'both',orientation = 'horizontal',location = 'top', fraction = 0.03, shrink = 0.8, pad = 0.05)\n",
    "plt.tight_layout()\n",
    "plt.savefig(dir_image+'fjworkflow_FJ.eps')"
   ]
  },
  {
   "cell_type": "code",
   "execution_count": null,
   "metadata": {},
   "outputs": [],
   "source": [
    "key_this = '244--35-09'\n",
    "fig = plt.figure(figsize=(10.5,7))\n",
    "ax_fj = fig.add_subplot(1,1,1)\n",
    "plt.style.use('tomo_paper.mplstyle')\n",
    "name_project_this = name_projects[2]\n",
    "dir_project_this = dir_project_workspace + name_project_this\n",
    "filename = dir_project_this+'Basic_info.yml'\n",
    "with open(filename, 'r', encoding='utf-8') as f:\n",
    "    info_basic_this = yaml.load(f.read(), Loader=yaml.FullLoader)\n",
    "dir_ds_this = dir_project_this + info_basic_this['rdir_ds']\n",
    "c = np.linspace(info_basic_this['fj_c_min'],info_basic_this['fj_c_max'],info_basic_this['fj_c_num'])\n",
    "ds = h5py.File(dir_ds_this+'ds_'+str(key_this)+'.h5', 'r')\n",
    "ds_remove = ds['ds_remove'][0]\n",
    "ds_remove = plotlib.smooth_ds(ds_remove)\n",
    "f0 = ds['f'][:]\n",
    "im = ax_fj.imshow(np.flip(ds_remove,0),aspect='auto',extent=[min(f0),max(f0),min(c),max(c)],vmin=0.2,vmax = 0.98, cmap = 'jet')\n",
    "ax_fj.set_xlim([3,21])\n",
    "ax_fj.set_ylim([0.22,1.5])\n",
    "ax_fj.set_xticks(np.arange(3,21,2))\n",
    "ax_fj.set_xlabel('Frequency (Hz)')\n",
    "ax_fj.set_ylabel('Phase Velocity (km/s)')\n",
    "fig.colorbar(im, fraction = 0.03, shrink = 0.5, extend = 'both',pad = 0.03)\n",
    "plt.tight_layout()\n",
    "plt.savefig(dir_image+'blind_FJ_A.eps')"
   ]
  },
  {
   "cell_type": "code",
   "execution_count": null,
   "metadata": {},
   "outputs": [],
   "source": [
    "key_this = '23-18'\n",
    "fig = plt.figure(figsize=(10.5,7))\n",
    "ax_fj = fig.add_subplot(1,1,1)\n",
    "plt.style.use('tomo_paper.mplstyle')\n",
    "name_project_this = name_projects[0]\n",
    "dir_project_this = dir_project_workspace + name_project_this\n",
    "filename = dir_project_this+'Basic_info.yml'\n",
    "with open(filename, 'r', encoding='utf-8') as f:\n",
    "    info_basic_this = yaml.load(f.read(), Loader=yaml.FullLoader)\n",
    "dir_ds_this = dir_project_this + info_basic_this['rdir_ds']\n",
    "c = np.linspace(info_basic_this['fj_c_min'],info_basic_this['fj_c_max'],info_basic_this['fj_c_num'])\n",
    "ds = h5py.File(dir_ds_this+'ds_'+str(key_this)+'.h5', 'r')\n",
    "ds_remove = ds['ds_remove'][0]\n",
    "ds_remove = plotlib.smooth_ds(ds_remove,level_c=6,level_f=6)\n",
    "f0 = ds['f'][:]\n",
    "im = ax_fj.imshow(np.flip(ds_remove,0),aspect='auto',extent=[min(f0),max(f0),min(c),max(c)],vmin=0.2,vmax = 0.98, cmap = 'jet')\n",
    "ax_fj.set_xlim([3,21])\n",
    "ax_fj.set_ylim([0.22,1.5])\n",
    "ax_fj.set_xticks(np.arange(3,21,2))\n",
    "ax_fj.set_xlabel('Frequency (Hz)')\n",
    "ax_fj.set_ylabel('Phase Velocity (km/s)')\n",
    "fig.colorbar(im, fraction = 0.03, shrink = 0.5, extend = 'both',pad = 0.03)\n",
    "plt.tight_layout()\n",
    "plt.savefig(dir_image+'blind_FJ_B.eps')"
   ]
  },
  {
   "cell_type": "code",
   "execution_count": null,
   "metadata": {},
   "outputs": [],
   "source": [
    "key_this = '24-17'\n",
    "fig = plt.figure(figsize=(10.5,7))\n",
    "ax_fj = fig.add_subplot(1,1,1)\n",
    "plt.style.use('tomo_paper.mplstyle')\n",
    "name_project_this = name_projects[0]\n",
    "dir_project_this = dir_project_workspace + name_project_this\n",
    "filename = dir_project_this+'Basic_info.yml'\n",
    "with open(filename, 'r', encoding='utf-8') as f:\n",
    "    info_basic_this = yaml.load(f.read(), Loader=yaml.FullLoader)\n",
    "dir_ds_this = dir_project_this + info_basic_this['rdir_ds']\n",
    "c = np.linspace(info_basic_this['fj_c_min'],info_basic_this['fj_c_max'],info_basic_this['fj_c_num'])\n",
    "ds = h5py.File(dir_ds_this+'ds_'+str(key_this)+'.h5', 'r')\n",
    "ds_remove = ds['ds_remove'][0]\n",
    "ds_remove = plotlib.smooth_ds(ds_remove,level_c=6,level_f=6)\n",
    "f0 = ds['f'][:]\n",
    "im = ax_fj.imshow(np.flip(ds_remove,0),aspect='auto',extent=[min(f0),max(f0),min(c),max(c)],vmin=0.2,vmax = 0.98, cmap = 'jet')\n",
    "ax_fj.set_xlim([3,21])\n",
    "ax_fj.set_ylim([0.22,1.5])\n",
    "ax_fj.set_xticks(np.arange(3,21,2))\n",
    "ax_fj.set_xlabel('Frequency (Hz)')\n",
    "ax_fj.set_ylabel('Phase Velocity (km/s)')\n",
    "fig.colorbar(im, fraction = 0.03, shrink = 0.5, extend = 'both',pad = 0.03)\n",
    "plt.tight_layout()\n",
    "plt.savefig(dir_image+'blind_FJ_C.eps')"
   ]
  },
  {
   "cell_type": "markdown",
   "metadata": {},
   "source": [
    "### Ncfs"
   ]
  },
  {
   "cell_type": "code",
   "execution_count": null,
   "metadata": {},
   "outputs": [],
   "source": [
    "ncffile = h5py.File(dir_CC + 'gather_all.h5','r')\n",
    "ncfs = ncffile['ncfs'][:]\n",
    "f = ncffile['f'][:]\n",
    "count_all = ncffile['count'][:]\n",
    "ncffile.close()"
   ]
  },
  {
   "cell_type": "code",
   "execution_count": null,
   "metadata": {},
   "outputs": [],
   "source": [
    "index_ncfs = {}\n",
    "rs = {}\n",
    "index_ncfs[key_subwork] = list(ds['index_ncfs'])\n",
    "rs[key_subwork] = np.array(ds['r'])"
   ]
  },
  {
   "cell_type": "code",
   "execution_count": null,
   "metadata": {},
   "outputs": [],
   "source": [
    "def plot_ncfs(ax,f,ncfs0,r0):\n",
    "    indx = np.argsort(r0)\n",
    "    r  = r0[indx]\n",
    "    ncfs1 = ncfs0[indx,:]\n",
    "    ncfs = np.zeros((len(r),len(f)),dtype = complex)\n",
    "    for i in range(0,len(r)):\n",
    "        if np.max(ncfs1[i,:]) == 0:\n",
    "            continue\n",
    "        ncfs[i,:] = ncfs1[i,:]/np.max(np.real(ncfs1[i,:]))\n",
    "\n",
    "    im = ax.imshow(np.flip(np.real(ncfs),0), extent=[min(f),max(f), min(r0), max(r0)], aspect='auto',cmap='jet',vmin=-0.25,vmax=0.5)\n",
    "    return im,ax"
   ]
  },
  {
   "cell_type": "code",
   "execution_count": null,
   "metadata": {},
   "outputs": [],
   "source": [
    "index = index_ncfs[key_subwork]\n",
    "ncfs_sum_linear = np.array(ncfs)[index,:]\n",
    "r = rs[key_subwork]*1e3\n",
    "fig = plt.figure(figsize=(10,8))\n",
    "plt.style.use('tomo_paper.mplstyle')\n",
    "ax_ncfs = fig.add_subplot(1,1,1)\n",
    "im,ax_ncfs = plot_ncfs(ax_ncfs,f0,ncfs_sum_linear,r)\n",
    "ax_ncfs.set_xlim(3,20)\n",
    "ax_ncfs.set_xticks(np.arange(4,21,2))\n",
    "ax_ncfs.set_xlabel('Frequency (Hz)')\n",
    "ax_ncfs.set_ylabel('Inter-station Distance (m)')\n",
    "fig.colorbar(im, extend = 'both',orientation = 'horizontal',location = 'top', fraction = 0.03, shrink = 0.8, pad = 0.05)\n",
    "plt.tight_layout()\n",
    "plt.savefig(dir_image+'fjworkflow_ncfs.eps')"
   ]
  }
 ],
 "metadata": {
  "kernelspec": {
   "display_name": "base",
   "language": "python",
   "name": "python3"
  },
  "language_info": {
   "codemirror_mode": {
    "name": "ipython",
    "version": 3
   },
   "file_extension": ".py",
   "mimetype": "text/x-python",
   "name": "python",
   "nbconvert_exporter": "python",
   "pygments_lexer": "ipython3",
   "version": "3.9.18"
  }
 },
 "nbformat": 4,
 "nbformat_minor": 2
}
