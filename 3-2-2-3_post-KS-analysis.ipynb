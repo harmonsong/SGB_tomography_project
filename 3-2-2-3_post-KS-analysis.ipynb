{
 "cells": [
  {
   "cell_type": "code",
   "execution_count": 336,
   "metadata": {},
   "outputs": [],
   "source": [
    "import numpy as np\n",
    "import os\n",
    "import matplotlib.pyplot as plt\n",
    "import h5py\n",
    "from scipy import interpolate\n",
    "from ccfj import GetStationPairs\n",
    "import pandas as pd\n",
    "import yaml\n",
    "import geopandas as gp\n",
    "import openpyxl\n",
    "from openpyxl import load_workbook\n",
    "from concurrent.futures import ThreadPoolExecutor\n",
    "\n",
    "from scipy.interpolate import make_interp_spline\n",
    "from scipy.stats import ks_2samp\n",
    "from scipy.spatial import ConvexHull"
   ]
  },
  {
   "cell_type": "code",
   "execution_count": 337,
   "metadata": {},
   "outputs": [],
   "source": [
    "import sys\n",
    "sys.path.append(r'../tools_F-J/')\n",
    "from toollib_standard import maplib\n",
    "from toollib_standard import mathlib\n",
    "from toollib_standard import filelib\n",
    "from toollib_standard import stacklib\n",
    "from toollib_standard import plotlib"
   ]
  },
  {
   "cell_type": "code",
   "execution_count": 338,
   "metadata": {},
   "outputs": [
    {
     "data": {
      "text/plain": [
       "'project_repartition_v3.0/output_repar_01-01/'"
      ]
     },
     "execution_count": 338,
     "metadata": {},
     "output_type": "execute_result"
    }
   ],
   "source": [
    "with open('a-project_repar.yml', 'r', encoding='utf-8') as f:\n",
    "    proj = yaml.load(f.read(), Loader=yaml.FullLoader)\n",
    "name_project = proj['name']\n",
    "#name_project = 'project_repartrition/output_repar_03-01/'               # Harmon server\n",
    "name_project"
   ]
  },
  {
   "cell_type": "code",
   "execution_count": 339,
   "metadata": {},
   "outputs": [
    {
     "name": "stdout",
     "output_type": "stream",
     "text": [
      "dir_CC_workspace:  /shdisk/rem2/Harmon/F-J/San/\n",
      "dir_project_workspace:  /shdisk/rem2/Harmon/F-J/San/\n",
      "dir_project:  /shdisk/rem2/Harmon/F-J/San/project_repartition_v3.0/output_repar_01-01/\n"
     ]
    }
   ],
   "source": [
    "with open('0_config.yml', 'r', encoding='utf-8') as f:\n",
    "    dir_config = yaml.load(f.read(), Loader=yaml.FullLoader)\n",
    "dir_project_workspace = dir_config['dir_project_workspace']\n",
    "dir_CC_workspace = dir_config['dir_CC_workspace']\n",
    "print('dir_CC_workspace: ', dir_CC_workspace)\n",
    "print('dir_project_workspace: ', dir_project_workspace)\n",
    "dir_project = os.path.join(dir_project_workspace, name_project)\n",
    "print('dir_project: ', dir_project)"
   ]
  },
  {
   "cell_type": "code",
   "execution_count": 340,
   "metadata": {},
   "outputs": [],
   "source": [
    "filename = dir_project+'Basic_info.yml'\n",
    "with open(filename, 'r', encoding='utf-8') as f:\n",
    "    info_basic = yaml.load(f.read(), Loader=yaml.FullLoader)\n",
    "filename_bi = dir_project+'Basic_info.npy'\n",
    "info_basic_bi = np.load(filename_bi, allow_pickle='TRUE').item()      # setting dictionary"
   ]
  },
  {
   "cell_type": "code",
   "execution_count": 341,
   "metadata": {},
   "outputs": [
    {
     "name": "stdout",
     "output_type": "stream",
     "text": [
      "dir_project_probes:  /shdisk/rem2/Harmon/F-J/San/project/output_FJSJ_17-01/\n",
      "dir_project_targets:  /shdisk/rem2/Harmon/F-J/San/project/output_FJSJ_17-02/\n"
     ]
    }
   ],
   "source": [
    "name_project_probes = info_basic['name_project_probes']\n",
    "name_project_targets = info_basic['name_project_targets']\n",
    "dir_project_probes = os.path.join(dir_project_workspace, name_project_probes)\n",
    "dir_project_targets = os.path.join(dir_project_workspace, name_project_targets)\n",
    "print('dir_project_probes: ', dir_project_probes)\n",
    "print('dir_project_targets: ', dir_project_targets)"
   ]
  },
  {
   "cell_type": "code",
   "execution_count": 342,
   "metadata": {},
   "outputs": [],
   "source": [
    "filename = dir_project_probes+'Basic_info.yml'\n",
    "with open(filename, 'r', encoding='utf-8') as f:\n",
    "    info_basic_probes = yaml.load(f.read(), Loader=yaml.FullLoader)\n",
    "filename_bi = dir_project_probes+'Basic_info.npy'\n",
    "info_basic_bi_probes = np.load(filename_bi, allow_pickle='TRUE').item()      # setting dictionary\n",
    "\n",
    "filename = dir_project_targets+'Basic_info.yml'\n",
    "with open(filename, 'r', encoding='utf-8') as f:\n",
    "    info_basic_targets = yaml.load(f.read(), Loader=yaml.FullLoader)\n",
    "\n"
   ]
  },
  {
   "cell_type": "code",
   "execution_count": 343,
   "metadata": {},
   "outputs": [],
   "source": [
    "probes = info_basic_probes['key_subworks']\n",
    "targets = info_basic_targets['key_subworks']\n",
    "key_subworks = info_basic['key_subworks']"
   ]
  },
  {
   "cell_type": "code",
   "execution_count": 344,
   "metadata": {},
   "outputs": [],
   "source": [
    "stalistname_all = info_basic['stalistname_all']\n",
    "stainfo = pd.read_excel(stalistname_all)\n",
    "nsta_all = len(stainfo.iloc[:,0])\n",
    "StationPairs_all = GetStationPairs(nsta_all)\n",
    "nPairs_all = int(len(StationPairs_all)/2)\n",
    "stalist_all = stainfo['Station'].tolist()\n",
    "lat_all = stainfo['latitude'].tolist() \n",
    "lon_all = stainfo['longitude'].tolist()"
   ]
  },
  {
   "cell_type": "code",
   "execution_count": 345,
   "metadata": {},
   "outputs": [],
   "source": [
    "stalistname = dir_project+ info_basic['stalistname']\n",
    "stainfo_all = pd.read_excel(stalistname,sheet_name=None)\n",
    "\n",
    "\n",
    "stalistname = dir_project_probes+ info_basic_probes['stalistname']\n",
    "stainfo_probes_all = pd.read_excel(stalistname,sheet_name=None)\n",
    "\n",
    "stalistname = dir_project_targets+ info_basic_targets['stalistname']\n",
    "stainfo_targets_all = pd.read_excel(stalistname,sheet_name=None)"
   ]
  },
  {
   "cell_type": "code",
   "execution_count": 346,
   "metadata": {},
   "outputs": [],
   "source": [
    "stalistname = dir_project + 'subwork_location.xlsx'\n",
    "loc_key = pd.read_excel(stalistname,sheet_name='location')\n",
    "lat_key = loc_key['lat_centroid'].tolist()\n",
    "lon_key = loc_key['lon_centroid'].tolist()\n",
    "\n",
    "stalistname = dir_project_probes + 'subwork_location.xlsx'\n",
    "loc_key_probes = pd.read_excel(stalistname,sheet_name='location')\n",
    "key_probes = loc_key_probes['key_subwork'].tolist()\n",
    "lat_key_probes = loc_key_probes['lat_centroid'].tolist()\n",
    "lon_key_probes = loc_key_probes['lon_centroid'].tolist()\n",
    "\n",
    "stalistname = dir_project_targets + 'subwork_location.xlsx'\n",
    "loc_key_targets = pd.read_excel(stalistname,sheet_name='location')\n",
    "key_targets = loc_key_targets['key_subwork'].tolist()\n",
    "lat_key_targets = loc_key_targets['lat_centroid'].tolist()\n",
    "lon_key_targets = loc_key_targets['lon_centroid'].tolist()"
   ]
  },
  {
   "cell_type": "code",
   "execution_count": 347,
   "metadata": {},
   "outputs": [],
   "source": [
    "probe_accept_all = info_basic_bi['probe_accept']"
   ]
  },
  {
   "cell_type": "code",
   "execution_count": 348,
   "metadata": {},
   "outputs": [],
   "source": [
    "faults = np.load('clark_faults.npy', allow_pickle='TRUE').item()"
   ]
  },
  {
   "cell_type": "code",
   "execution_count": 349,
   "metadata": {},
   "outputs": [],
   "source": [
    "dir_image = dir_project + info_basic['dir_image']"
   ]
  },
  {
   "cell_type": "code",
   "execution_count": 350,
   "metadata": {},
   "outputs": [],
   "source": [
    "# read disp data\n",
    "disp_all = {}\n",
    "ff_all = {}\n",
    "for probe in key_probes:\n",
    "    file_ds = dir_project_probes  + info_basic_probes['dir_disp'] + 'autopick_'+probe+'.txt'\n",
    "    disp_all[probe] = np.loadtxt(file_ds,delimiter=',')[:,1]\n",
    "    ff_all[probe] = np.loadtxt(file_ds,delimiter=',')[:,0]"
   ]
  },
  {
   "cell_type": "code",
   "execution_count": 351,
   "metadata": {},
   "outputs": [],
   "source": [
    "# read F-J spectrogram\n",
    "ds_probe_all = {}\n",
    "for probe in key_probes:\n",
    "    file_ds = dir_project_probes  + info_basic_probes['dir_ds'] + 'ds_'+probe+'.h5'\n",
    "    ds = h5py.File(file_ds,'r')\n",
    "    ds_probe_all[probe] = ds['ds_remove'][0]\n",
    "    ds.close()"
   ]
  },
  {
   "cell_type": "markdown",
   "metadata": {},
   "source": [
    "### Analysis"
   ]
  },
  {
   "cell_type": "code",
   "execution_count": 352,
   "metadata": {},
   "outputs": [],
   "source": [
    "def new_target_comparison(key_subwork):\n",
    "    global key_subworks\n",
    "    global c_lim\n",
    "    global dir_image\n",
    "    global info_basic_bi\n",
    "    global info_basic_bi_probes\n",
    "    global info_basic_bi_targets\n",
    "    global info_basic_probes\n",
    "    global info_basic_targets\n",
    "    global info_basic\n",
    "    global stainfo_all\n",
    "    global lat_all\n",
    "    global lon_all\n",
    "    global lat_key\n",
    "    global lon_key\n",
    "    global lat_key_probes\n",
    "    global lon_key_probes\n",
    "    global lat_key_targets\n",
    "    global lon_key_targets\n",
    "    global faults\n",
    "    global probe_accept_all\n",
    "    global disp_all\n",
    "    global stainfo_targets_all\n",
    "\n",
    "    target = key_subwork[:key_subwork.find('--')]\n",
    "    probes = info_basic_bi['probe'][key_subwork]\n",
    "    probes_accept = probe_accept_all[target]\n",
    "\n",
    "    # all stations\n",
    "    stainfo = stainfo_all[key_subwork]\n",
    "    lat_this = stainfo['latitude'].tolist() \n",
    "    lon_this = stainfo['longitude'].tolist()\n",
    "\n",
    "    stainfo_target = stainfo_targets_all[target]\n",
    "    lat_targets = stainfo_target['latitude'].tolist()\n",
    "    lon_targets = stainfo_target['longitude'].tolist()\n",
    "\n",
    "    fig = plt.figure(figsize=(14,10))\n",
    "    # partition comparison\n",
    "    ax = plt.subplot(221)\n",
    "    ax.scatter(lon_all, lat_all,marker='.',color='k',s=1)\n",
    "    ax.scatter(lon_key[key_subworks.index(key_subwork)], lat_key[key_subworks.index(key_subwork)],marker='o',color='b',s=50,label='New center')\n",
    "    ax.scatter(lon_this, lat_this,marker='o',color='g',s=20,label='New partition')\n",
    "    ax.scatter(lon_key_targets[key_targets.index(target)], lat_key_targets[key_targets.index(target)],marker='^',color='b',s=50,label='Target center')\n",
    "    ax.scatter(lon_targets, lat_targets,marker='^',color='r',s=5,label= 'Target partition')\n",
    "    for i in range(len(faults)):\n",
    "        ax.plot(faults['clark'+str(i+1)]['lon'], faults['clark'+str(i+1)]['lat'], 'k--', lw=1)\n",
    "    ax.axis('off')\n",
    "    ax.legend()\n",
    "    # probe accepted comparison\n",
    "    ax = plt.subplot(222)\n",
    "    ax.scatter(lon_all, lat_all,marker='.',color='k',s=1)\n",
    "    ax.scatter(lon_this, lat_this,marker='o',color='g',s=5,label='New partition')\n",
    "    ax.axis('off')\n",
    "    for i in range(len(faults)):\n",
    "        ax.plot(faults['clark'+str(i+1)]['lon'], faults['clark'+str(i+1)]['lat'], 'k--', lw=1)\n",
    "    #ax.scatter(lon_targets, lat_targets,marker='^',color='b',s=5,label= 'Target partition')\n",
    "\n",
    "    flag_label_probe =  1\n",
    "    flag_label_probe_accept =  1\n",
    "    for probe in probes:\n",
    "        if probe in probes_accept:\n",
    "            if flag_label_probe_accept:\n",
    "                ax.scatter(lon_key_probes[key_probes.index(probe)], lat_key_probes[key_probes.index(probe)],marker='*',color='r',s=30,label='Accepted Porbe center')\n",
    "                flag_label_probe_accept = 0\n",
    "            else:\n",
    "                ax.scatter(lon_key_probes[key_probes.index(probe)], lat_key_probes[key_probes.index(probe)],marker='*',color='r',s=30)\n",
    "        else:\n",
    "            if flag_label_probe:\n",
    "                ax.scatter(lon_key_probes[key_probes.index(probe)], lat_key_probes[key_probes.index(probe)],marker='*',color='b',s=20,label='Porbe center')\n",
    "                flag_label_probe = 0\n",
    "            else:\n",
    "                ax.scatter(lon_key_probes[key_probes.index(probe)], lat_key_probes[key_probes.index(probe)],marker='*',color='b',s=20)\n",
    "    ax.legend()\n",
    "    # all disp comparison\n",
    "    ax = plt.subplot(223)\n",
    "    for probe in probes:\n",
    "        ax.scatter(ff_all[probe], disp_all[probe],label=probe,s=1)\n",
    "    ax.set_ylim(c_lim)\n",
    "    # accepted disp comparison\n",
    "    ax = plt.subplot(224)\n",
    "    flag_label_probe =  1\n",
    "    flag_label_probe_accept =  1\n",
    "    for probe in probes:\n",
    "        if probe in probes_accept:\n",
    "            if flag_label_probe_accept:\n",
    "                ax.scatter(ff_all[probe], disp_all[probe],label='accepted',s=1)\n",
    "                flag_label_probe_accept = 0\n",
    "            else:\n",
    "                ax.scatter(ff_all[probe], disp_all[probe],s=1)\n",
    "        \"\"\"\n",
    "        else:\n",
    "            if flag_label_probe:\n",
    "                ax.scatter(f_sample, disp_all[probe],label=\"unaccepted\",s=0.5,color='b')\n",
    "                flag_label_probe = 0\n",
    "            else:\n",
    "                ax.scatter(f_sample, disp_all[probe],s=0.5,color='b')\n",
    "        \"\"\"\n",
    "    ax.set_ylim(c_lim)\n",
    "    ax.legend()\n",
    "    plt.savefig(dir_image+'new_target_comparison_'+key_subwork+'.png',dpi=100)"
   ]
  },
  {
   "cell_type": "code",
   "execution_count": 353,
   "metadata": {},
   "outputs": [],
   "source": [
    "def plot_disp_all(key_subwork):\n",
    "    global key_subworks\n",
    "    global c_lim\n",
    "    global dir_image\n",
    "    global info_basic_bi\n",
    "    global info_basic_bi_probes\n",
    "    global info_basic_bi_targets\n",
    "    global info_basic_probes\n",
    "    global f_lim\n",
    "    global probes_accept\n",
    "    \n",
    "\n",
    "    f = info_basic_bi_probes['f']\n",
    "    c = np.linspace(info_basic_probes['c_min'],info_basic_probes['c_max'],info_basic_probes['c_num'])\n",
    "    num = len(probes)\n",
    "    n_cols = int(np.ceil(np.sqrt(num)))+1\n",
    "    n_rows = int(np.floor(np.sqrt(num)))\n",
    "    fig = plt.figure(figsize=(n_cols*3,n_rows*2))\n",
    "    for i in range(num):\n",
    "        ax = plt.subplot(n_rows,n_cols,i+1)\n",
    "        ax = plotlib.plot_fj(ax,ds_probe_all[probes[i]],probes[i],f,c,0,c_map='jet')\n",
    "        ax.scatter(ff_all[probes[i]], disp_all[probes[i]],label=probes[i],s=1)\n",
    "        ax.set_ylim(c_lim)\n",
    "        ax.set_xlim(f_lim)\n",
    "        ax.legend()\n",
    "        if probes[i] in probes_accept:\n",
    "            ax.set_title(probes[i]+' (accepted)',color='r')\n",
    "        else:\n",
    "            ax.set_title(probes[i],color='b')\n",
    "    plt.tight_layout()\n",
    "    plt.savefig(dir_image+'disp_all_'+key_subwork+'.png',dpi=60)"
   ]
  },
  {
   "cell_type": "code",
   "execution_count": 356,
   "metadata": {},
   "outputs": [],
   "source": [
    "nums_repick = [458]\n",
    "key_subworks = []\n",
    "for num in nums_repick:\n",
    "    tag = str(num)\n",
    "    key_subwork0 = [key_subwork for key_subwork in info_basic['key_subworks'] if tag == key_subwork[-len(str(tag)):]][0]\n",
    "    key_subworks.append(key_subwork0)\n",
    "key_subworks\n",
    "\n",
    "\n",
    "filename = dir_project+'Basic_info.yml'\n",
    "with open(filename, 'r', encoding='utf-8') as f:\n",
    "    info_basic = yaml.load(f.read(), Loader=yaml.FullLoader)\n",
    "filename_bi = dir_project+'Basic_info.npy'\n",
    "info_basic_bi = np.load(filename_bi, allow_pickle='TRUE').item()      # setting dictionary"
   ]
  },
  {
   "cell_type": "code",
   "execution_count": 357,
   "metadata": {},
   "outputs": [
    {
     "ename": "KeyError",
     "evalue": "'42-13--458'",
     "output_type": "error",
     "traceback": [
      "\u001b[0;31m---------------------------------------------------------------------------\u001b[0m",
      "\u001b[0;31mKeyError\u001b[0m                                  Traceback (most recent call last)",
      "Cell \u001b[0;32mIn[357], line 7\u001b[0m\n\u001b[1;32m      5\u001b[0m probes \u001b[38;5;241m=\u001b[39m info_basic_bi[\u001b[38;5;124m'\u001b[39m\u001b[38;5;124mprobe\u001b[39m\u001b[38;5;124m'\u001b[39m][key_subwork]\n\u001b[1;32m      6\u001b[0m probes_accept \u001b[38;5;241m=\u001b[39m probe_accept_all[target]\n\u001b[0;32m----> 7\u001b[0m \u001b[43mnew_target_comparison\u001b[49m\u001b[43m(\u001b[49m\u001b[43mkey_subwork\u001b[49m\u001b[43m)\u001b[49m\n\u001b[1;32m      8\u001b[0m plot_disp_all(key_subwork)\n",
      "Cell \u001b[0;32mIn[352], line 30\u001b[0m, in \u001b[0;36mnew_target_comparison\u001b[0;34m(key_subwork)\u001b[0m\n\u001b[1;32m     27\u001b[0m probes_accept \u001b[38;5;241m=\u001b[39m probe_accept_all[target]\n\u001b[1;32m     29\u001b[0m \u001b[38;5;66;03m# all stations\u001b[39;00m\n\u001b[0;32m---> 30\u001b[0m stainfo \u001b[38;5;241m=\u001b[39m \u001b[43mstainfo_all\u001b[49m\u001b[43m[\u001b[49m\u001b[43mkey_subwork\u001b[49m\u001b[43m]\u001b[49m\n\u001b[1;32m     31\u001b[0m lat_this \u001b[38;5;241m=\u001b[39m stainfo[\u001b[38;5;124m'\u001b[39m\u001b[38;5;124mlatitude\u001b[39m\u001b[38;5;124m'\u001b[39m]\u001b[38;5;241m.\u001b[39mtolist() \n\u001b[1;32m     32\u001b[0m lon_this \u001b[38;5;241m=\u001b[39m stainfo[\u001b[38;5;124m'\u001b[39m\u001b[38;5;124mlongitude\u001b[39m\u001b[38;5;124m'\u001b[39m]\u001b[38;5;241m.\u001b[39mtolist()\n",
      "\u001b[0;31mKeyError\u001b[0m: '42-13--458'"
     ]
    }
   ],
   "source": [
    "c_lim = [0.3,0.75]\n",
    "f_lim = [7,18]\n",
    "for key_subwork in key_subworks:\n",
    "    target = key_subwork[:key_subwork.find('--')]\n",
    "    probes = info_basic_bi['probe'][key_subwork]\n",
    "    probes_accept = probe_accept_all[target]\n",
    "    new_target_comparison(key_subwork)\n",
    "    plot_disp_all(key_subwork)"
   ]
  },
  {
   "cell_type": "code",
   "execution_count": null,
   "metadata": {},
   "outputs": [],
   "source": []
  }
 ],
 "metadata": {
  "kernelspec": {
   "display_name": "ccfj",
   "language": "python",
   "name": "python3"
  },
  "language_info": {
   "codemirror_mode": {
    "name": "ipython",
    "version": 3
   },
   "file_extension": ".py",
   "mimetype": "text/x-python",
   "name": "python",
   "nbconvert_exporter": "python",
   "pygments_lexer": "ipython3",
   "version": "3.9.18"
  }
 },
 "nbformat": 4,
 "nbformat_minor": 2
}
