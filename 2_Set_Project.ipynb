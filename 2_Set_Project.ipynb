{
 "cells": [
  {
   "attachments": {},
   "cell_type": "markdown",
   "metadata": {},
   "source": [
    "## Generate project configure file"
   ]
  },
  {
   "cell_type": "code",
   "execution_count": 12,
   "metadata": {},
   "outputs": [],
   "source": [
    "import numpy as np\n",
    "import os\n",
    "import shutil\n",
    "import yaml"
   ]
  },
  {
   "cell_type": "code",
   "execution_count": 13,
   "metadata": {},
   "outputs": [],
   "source": [
    "name_project = 'output_regular_v9.5_test/'\n",
    "rdir_CC = 'CC/CC_100_prewhiten/'  "
   ]
  },
  {
   "cell_type": "code",
   "execution_count": 14,
   "metadata": {},
   "outputs": [
    {
     "data": {
      "text/plain": [
       "'test'"
      ]
     },
     "execution_count": 14,
     "metadata": {},
     "output_type": "execute_result"
    }
   ],
   "source": [
    "# 找到name_project中的第二个'_'的index\n",
    "tag = name_project[ name_project.rfind('_')+1: -1]\n",
    "rdir_project = 'project/' + name_project\n",
    "tag"
   ]
  },
  {
   "cell_type": "code",
   "execution_count": 15,
   "metadata": {},
   "outputs": [],
   "source": [
    "proj = {}\n",
    "proj['name'] = rdir_project\n",
    "with open('a-project.yml', 'w') as f:\n",
    "    yaml.dump(proj, f)"
   ]
  },
  {
   "cell_type": "code",
   "execution_count": 16,
   "metadata": {},
   "outputs": [
    {
     "name": "stdout",
     "output_type": "stream",
     "text": [
      "dir_CC_workspace:  ./\n",
      "dir_project_workspace:  ./\n",
      "dir_project:  ./project/output_regular_v9.5_test/\n"
     ]
    }
   ],
   "source": [
    "with open('0_config.yml', 'r', encoding='utf-8') as f:\n",
    "    dir_config = yaml.load(f.read(), Loader=yaml.FullLoader)\n",
    "dir_project_workspace = dir_config['dir_project_workspace']\n",
    "dir_CC_workspace = dir_config['dir_CC_workspace']\n",
    "print('dir_CC_workspace: ', dir_CC_workspace)\n",
    "print('dir_project_workspace: ', dir_project_workspace)\n",
    "dir_project = dir_project_workspace + rdir_project\n",
    "print('dir_project: ', dir_project)"
   ]
  },
  {
   "cell_type": "code",
   "execution_count": 17,
   "metadata": {},
   "outputs": [],
   "source": [
    "dir_CC = dir_CC_workspace + rdir_CC\n",
    "filename = dir_CC+'info_CC.npy'\n",
    "info_CC = np.load(filename, allow_pickle='TRUE').item()"
   ]
  },
  {
   "cell_type": "code",
   "execution_count": 18,
   "metadata": {},
   "outputs": [
    {
     "data": {
      "text/plain": [
       "{'dir_SAC': 'data_resample/',\n",
       " 'stalistname': 'stations_info_all.xlsx',\n",
       " 'Fs': 100,\n",
       " 'fmax': 100,\n",
       " 'fftlen': 30000,\n",
       " 'nf': 2000,\n",
       " 'fstride': 15.0,\n",
       " 'f': array([0.000e+00, 5.000e-02, 1.000e-01, ..., 9.985e+01, 9.990e+01,\n",
       "        9.995e+01]),\n",
       " 't': array([-10.00750375, -10.0024975 ,  -9.99749124, ...,   9.99248874,\n",
       "          9.99749499,  10.00250125]),\n",
       " 'overlaprate': 0.9,\n",
       " 'nThreads': 80,\n",
       " 'segday': 1,\n",
       " 'npts': 8640000,\n",
       " 'flag_onebit': 0,\n",
       " 'flag_prewhiten': 1,\n",
       " 'y_start': 2014,\n",
       " 'y_end': 2015,\n",
       " 'd_start': 128,\n",
       " 'd_end': 159,\n",
       " 'd_len': 31}"
      ]
     },
     "execution_count": 18,
     "metadata": {},
     "output_type": "execute_result"
    }
   ],
   "source": [
    "info_CC"
   ]
  },
  {
   "attachments": {},
   "cell_type": "markdown",
   "metadata": {},
   "source": [
    "### Basic settings"
   ]
  },
  {
   "cell_type": "code",
   "execution_count": 19,
   "metadata": {},
   "outputs": [],
   "source": [
    "# set SAC data dir ,correspoding stalistname, and output dir\n",
    "info = {}\n",
    "info_bi = {}\n",
    "#filename = dir_project+'Basic_info.npy'\n",
    "#info = np.load(filename, allow_pickle='TRUE').item()\n",
    "\n",
    "# SAC dir\n",
    "info['rdir_project'] = name_project\n",
    "info['tag'] = tag\n",
    "info['stalistname_all'] = info_CC['stalistname']\n",
    "# correlation all dirtin\n",
    "info['rdir_CC'] = rdir_CC\n",
    "# config dir\n",
    "info['rdir_image']  = 'image_'+tag + '/'"
   ]
  },
  {
   "cell_type": "code",
   "execution_count": 20,
   "metadata": {},
   "outputs": [],
   "source": [
    "info['nf'] = info_CC['nf']\n",
    "info['Fs'] = info_CC['Fs']\n",
    "info_bi['f'] = info_CC['f']\n",
    "f = info_CC['f']\n",
    "dt = 1/np.max(f)\n",
    "t = (np.linspace(-len(f)-1,len(f)-1,2*(len(f)-1))+0.5)*dt/2\n",
    "info_bi['t'] = t"
   ]
  },
  {
   "attachments": {},
   "cell_type": "markdown",
   "metadata": {},
   "source": [
    "### Generate folders "
   ]
  },
  {
   "cell_type": "code",
   "execution_count": 21,
   "metadata": {},
   "outputs": [],
   "source": [
    "if os.path.exists(dir_project):\n",
    "    shutil.rmtree(dir_project)\n",
    "    os.mkdir(dir_project)\n",
    "else:\n",
    "    os.mkdir(dir_project)\n",
    "if not os.path.exists(dir_project+info['rdir_image']):\n",
    "    os.mkdir(dir_project + info['rdir_image'])"
   ]
  },
  {
   "cell_type": "code",
   "execution_count": 22,
   "metadata": {},
   "outputs": [],
   "source": [
    "np.save(dir_project+'/Basic_info.npy',info_bi)\n",
    "with open(dir_project+'Basic_info.yml', 'w', encoding='utf-8') as f:\n",
    "   yaml.dump(data=info, stream=f, allow_unicode=True)"
   ]
  }
 ],
 "metadata": {
  "kernelspec": {
   "display_name": "Python 3 (ipykernel)",
   "language": "python",
   "name": "python3"
  },
  "language_info": {
   "codemirror_mode": {
    "name": "ipython",
    "version": 3
   },
   "file_extension": ".py",
   "mimetype": "text/x-python",
   "name": "python",
   "nbconvert_exporter": "python",
   "pygments_lexer": "ipython3",
   "version": "3.9.18"
  },
  "vscode": {
   "interpreter": {
    "hash": "9e1b1cfcb63b8c4b20fd3d610677682a40199606624b55ac5cc8ef1326af990f"
   }
  }
 },
 "nbformat": 4,
 "nbformat_minor": 4
}
