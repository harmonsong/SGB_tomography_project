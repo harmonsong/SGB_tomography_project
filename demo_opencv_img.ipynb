{
 "cells": [
  {
   "cell_type": "code",
   "execution_count": null,
   "metadata": {},
   "outputs": [],
   "source": [
    "import cv2\n",
    "import numpy as np\n",
    "import matplotlib.pyplot as plt"
   ]
  },
  {
   "cell_type": "code",
   "execution_count": null,
   "metadata": {},
   "outputs": [],
   "source": [
    "image = cv2.imread('fig1.jpg')"
   ]
  },
  {
   "cell_type": "code",
   "execution_count": null,
   "metadata": {},
   "outputs": [],
   "source": [
    "# 将图像从 BGR 转换为 RGB 格式\n",
    "image_rgb = cv2.cvtColor(image, cv2.COLOR_BGR2RGB)\n",
    "\n",
    "# 将图像转换为一维数组\n",
    "pixels = image_rgb.reshape((-1, 3))\n",
    "\n",
    "# 转换为float类型\n",
    "pixels = np.float32(pixels)\n",
    "\n",
    "# 定义停止条件\n",
    "criteria = (cv2.TERM_CRITERIA_EPS + cv2.TERM_CRITERIA_MAX_ITER, 100, 0.2)\n",
    "\n",
    "# 设置聚类数量\n",
    "k = 5\n",
    "\n",
    "# 进行K均值聚类\n",
    "_, labels, centers = cv2.kmeans(pixels, k, None, criteria, 10, cv2.KMEANS_RANDOM_CENTERS)\n",
    "\n",
    "# 将中心转换为8位无符号整数\n",
    "centers = np.uint8(centers)\n",
    "\n",
    "# 重新分配所有像素值\n",
    "segmented_image = centers[labels.flatten()]\n",
    "\n",
    "# 重新形状回图像的形状\n",
    "segmented_image = segmented_image.reshape(image_rgb.shape)\n",
    "\n",
    "# 显示原始图像和分割后的图像\n",
    "plt.subplot(1, 2, 1)\n",
    "plt.imshow(image_rgb)\n",
    "plt.title('Original Image')\n",
    "plt.axis('off')\n",
    "\n",
    "plt.subplot(1, 2, 2)\n",
    "plt.imshow(segmented_image)\n",
    "plt.title('Segmented Image')\n",
    "plt.axis('off')\n",
    "\n",
    "plt.show()\n",
    "\n",
    "# 绘制颜色直方图\n",
    "histogram = cv2.calcHist([segmented_image], [0], None, [k], [0, 256])\n",
    "colors = centers\n",
    "#plt.bar(range(len(histogram)), histogram, color=colors)\n",
    "plt.title('Color Histogram')\n",
    "plt.xlabel('Color')\n",
    "plt.ylabel('Frequency')\n",
    "plt.show()"
   ]
  },
  {
   "cell_type": "code",
   "execution_count": null,
   "metadata": {},
   "outputs": [],
   "source": [
    "import cv2\n",
    "import numpy as np\n",
    "\n",
    "def extract_green_color_blocks(image, threshold=30):\n",
    "    # 定义绿色范围（在 BGR 空间中）\n",
    "    lower_green = np.array([76,125,49])\n",
    "    upper_green = np.array([198,247,169])\n",
    "\n",
    "    # 创建一个掩码，其中绿色范围内的像素为白色（255），其他像素为黑色（0）\n",
    "    mask = cv2.inRange(image, lower_green, upper_green)\n",
    "    \n",
    "    # 对掩码进行形态学处理，以减少噪声并平滑轮廓\n",
    "    kernel = np.ones((5, 5), np.uint8)\n",
    "    mask = cv2.morphologyEx(mask, cv2.MORPH_CLOSE, kernel)\n",
    "    mask = cv2.morphologyEx(mask, cv2.MORPH_OPEN, kernel)\n",
    "\n",
    "    # 在原始图像上应用掩码，提取出绿色的主要色块\n",
    "    green_blocks = cv2.bitwise_and(image, image, mask=mask)\n",
    "\n",
    "    # 查找色块的轮廓\n",
    "    contours, _ = cv2.findContours(mask, cv2.RETR_EXTERNAL, cv2.CHAIN_APPROX_SIMPLE)\n",
    "    \n",
    "    # 绘制轮廓并将其加入到主要色块图像中\n",
    "    cv2.drawContours(green_blocks, contours, -1, (0, 255, 0), 2)\n",
    "\n",
    "    return green_blocks\n",
    "\n",
    "# 读取图片\n",
    "image = cv2.imread('fig1.jpg')\n",
    "\n",
    "# 提取绿色的主要色块并获取平滑的轮廓\n",
    "green_blocks = extract_green_color_blocks(image)\n",
    "\n",
    "# 显示提取出的绿色色块及其轮廓\n",
    "cv2.imshow('Green Color Blocks with Contours', green_blocks)\n",
    "cv2.waitKey(0)\n",
    "cv2.destroyAllWindows()"
   ]
  },
  {
   "cell_type": "code",
   "execution_count": null,
   "metadata": {},
   "outputs": [],
   "source": []
  }
 ],
 "metadata": {
  "kernelspec": {
   "display_name": "ccfj",
   "language": "python",
   "name": "python3"
  },
  "language_info": {
   "codemirror_mode": {
    "name": "ipython",
    "version": 3
   },
   "file_extension": ".py",
   "mimetype": "text/x-python",
   "name": "python",
   "nbconvert_exporter": "python",
   "pygments_lexer": "ipython3",
   "version": "3.12.3"
  }
 },
 "nbformat": 4,
 "nbformat_minor": 2
}
