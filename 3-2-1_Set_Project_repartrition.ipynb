{
 "cells": [
  {
   "cell_type": "code",
   "execution_count": 1,
   "metadata": {},
   "outputs": [],
   "source": [
    "import numpy as np\n",
    "import os\n",
    "import shutil\n",
    "import yaml"
   ]
  },
  {
   "cell_type": "markdown",
   "metadata": {},
   "source": [
    "### Set Workspace"
   ]
  },
  {
   "cell_type": "code",
   "execution_count": 2,
   "metadata": {},
   "outputs": [],
   "source": [
    "#name_project = 'output_repar_v9.2_01-01/'\n",
    "name_project = 'output_repar_test/'\n",
    "name_project_targets = 'project/output_FJSJ_17-02/'\n",
    "name_project_probes = 'project/output_FJSJ_17-01/'"
   ]
  },
  {
   "cell_type": "code",
   "execution_count": 3,
   "metadata": {},
   "outputs": [
    {
     "data": {
      "text/plain": [
       "'test'"
      ]
     },
     "execution_count": 3,
     "metadata": {},
     "output_type": "execute_result"
    }
   ],
   "source": [
    "# 找到name_project中的第二个'_'的index\n",
    "tag = name_project[ name_project.find('_', name_project.find('_') + 1)+1: -1]\n",
    "name_project = 'project_repartition_v4.0/' + name_project\n",
    "tag"
   ]
  },
  {
   "cell_type": "code",
   "execution_count": 4,
   "metadata": {},
   "outputs": [],
   "source": [
    "proj = {}\n",
    "proj['name'] = name_project\n",
    "with open('a-project_repar.yml', 'w') as f:\n",
    "    yaml.dump(proj, f)"
   ]
  },
  {
   "cell_type": "code",
   "execution_count": 5,
   "metadata": {},
   "outputs": [
    {
     "name": "stdout",
     "output_type": "stream",
     "text": [
      "dir_CC_workspace:  ./\n",
      "dir_project_workspace:  ./\n",
      "dir_project:  ./project_repartition_v4.0/output_repar_test/\n"
     ]
    }
   ],
   "source": [
    "with open('0_config.yml', 'r', encoding='utf-8') as f:\n",
    "    dir_config = yaml.load(f.read(), Loader=yaml.FullLoader)\n",
    "dir_project_workspace = dir_config['dir_project_workspace']\n",
    "dir_CC_workspace = dir_config['dir_CC_workspace']\n",
    "print('dir_CC_workspace: ', dir_CC_workspace)\n",
    "print('dir_project_workspace: ', dir_project_workspace)\n",
    "dir_project = dir_project_workspace + name_project\n",
    "print('dir_project: ', dir_project)"
   ]
  },
  {
   "cell_type": "code",
   "execution_count": 6,
   "metadata": {},
   "outputs": [],
   "source": [
    "filename = dir_project_workspace + name_project_probes +'Basic_info.yml'\n",
    "with open(filename, 'r', encoding='utf-8') as f:\n",
    "    info_basic = yaml.load(f.read(), Loader=yaml.FullLoader)"
   ]
  },
  {
   "cell_type": "code",
   "execution_count": 7,
   "metadata": {},
   "outputs": [],
   "source": [
    "filename = dir_CC_workspace + info_basic['name_CC'] +'info_CC.npy'\n",
    "#filename = dir_CC_workspace + 'CC/CC_40_prewhiten/' +'info_CC.npy'\n",
    "info_CC = np.load(filename, allow_pickle='TRUE').item()"
   ]
  },
  {
   "cell_type": "code",
   "execution_count": 8,
   "metadata": {},
   "outputs": [],
   "source": [
    "# set data dir ,correspoding stalistname, and output dir\n",
    "info = {}\n",
    "info_bi = {}\n",
    "\n",
    "info['name_project'] = name_project\n",
    "info['name_project_targets'] = name_project_targets\n",
    "info['name_project_probes'] = name_project_probes\n",
    "info['tag'] = tag\n",
    "info['name_CC'] = info_basic['name_CC']\n",
    "\n",
    "    # image dir\n",
    "info['dir_image']  = 'image_' + tag + '/'\n",
    "    # ds dir\n",
    "info['dir_ds'] = 'ds_' + tag + '/'\n",
    "    # stack dir\n",
    "info['dir_stack'] = 'stack_' + tag + '/'\n",
    "    # disp dir\n",
    "info['dir_disp'] = 'disppick_'+tag+'/' "
   ]
  },
  {
   "cell_type": "code",
   "execution_count": 9,
   "metadata": {},
   "outputs": [],
   "source": [
    "info['d_start'] = info_CC['d_start']\n",
    "info['d_end'] = info_CC['d_end']\n",
    "info['y_start'] = info_CC['y_start']\n",
    "info['y_end'] = info_CC['y_end']\n",
    "info['stalistname'] = info_CC['stalistname']\n",
    "info['nf'] = info_CC['nf']\n",
    "info['Fs'] = info_CC['Fs']\n",
    "info['fftlen'] = info_CC['fftlen']\n",
    "info['fstride'] = info_CC['fstride']\n",
    "info['nThreads'] = info_CC['nThreads']\n",
    "info['overlaprate'] = info_CC['overlaprate']\n",
    "info['segday'] = info_CC['segday']\n",
    "info['npts'] =  info_CC['npts']\n",
    "info['flag_onebit'] = info_CC['flag_onebit']\n",
    "info['flag_prewhiten'] = info_CC['flag_prewhiten']\n",
    "info_bi['f'] = info_CC['f']\n",
    "f = info_CC['f']\n",
    "dt = 1/np.max(f)\n",
    "#t = np.linspace(-len(f)-1,len(f)-1,2*(len(f)-1))*dt/2\n",
    "t = (np.linspace(-len(f)-1,len(f)-1,2*(len(f)-1))+0.5)*dt/2\n",
    "info_bi['t'] = t\n",
    "info['d_len'] = info_basic['d_len']"
   ]
  },
  {
   "cell_type": "code",
   "execution_count": 10,
   "metadata": {},
   "outputs": [],
   "source": [
    "if os.path.exists(dir_project):\n",
    "    shutil.rmtree(dir_project)\n",
    "    os.mkdir(dir_project)\n",
    "else:\n",
    "    os.mkdir(dir_project)\n",
    "if not os.path.exists(dir_project+info['dir_image']):\n",
    "    os.mkdir(dir_project + info['dir_image'])\n",
    "if not os.path.exists(dir_project+info['dir_ds']):\n",
    "    os.mkdir(dir_project+info['dir_ds'])\n",
    "if not os.path.exists(dir_project+info['dir_stack']):\n",
    "    os.mkdir(dir_project+info['dir_stack'])\n",
    "if not os.path.exists(dir_project+info['dir_disp'] ):\n",
    "    os.mkdir(dir_project+info['dir_disp'] )"
   ]
  },
  {
   "cell_type": "code",
   "execution_count": 11,
   "metadata": {},
   "outputs": [],
   "source": [
    "np.save(dir_project+'/Basic_info.npy',info_bi)\n",
    "with open(dir_project+'Basic_info.yml', 'w', encoding='utf-8') as f:\n",
    "   yaml.dump(data=info, stream=f, allow_unicode=True)"
   ]
  }
 ],
 "metadata": {
  "kernelspec": {
   "display_name": "ccfj",
   "language": "python",
   "name": "python3"
  },
  "language_info": {
   "codemirror_mode": {
    "name": "ipython",
    "version": 3
   },
   "file_extension": ".py",
   "mimetype": "text/x-python",
   "name": "python",
   "nbconvert_exporter": "python",
   "pygments_lexer": "ipython3",
   "version": "3.9.18"
  }
 },
 "nbformat": 4,
 "nbformat_minor": 2
}
