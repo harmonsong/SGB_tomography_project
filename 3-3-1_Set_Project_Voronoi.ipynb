{
 "cells": [
  {
   "cell_type": "code",
   "execution_count": 21,
   "metadata": {},
   "outputs": [],
   "source": [
    "import numpy as np\n",
    "import os\n",
    "import shutil\n",
    "import yaml"
   ]
  },
  {
   "cell_type": "markdown",
   "metadata": {},
   "source": [
    "### Set Workspace"
   ]
  },
  {
   "cell_type": "code",
   "execution_count": 22,
   "metadata": {},
   "outputs": [],
   "source": [
    "name_project = 'output_voro_v9.3_test/'\n",
    "name_CC = 'CC/CC_40_prewhiten/'  "
   ]
  },
  {
   "cell_type": "code",
   "execution_count": 23,
   "metadata": {},
   "outputs": [
    {
     "data": {
      "text/plain": [
       "'v9.3_test'"
      ]
     },
     "execution_count": 23,
     "metadata": {},
     "output_type": "execute_result"
    }
   ],
   "source": [
    "# 找到name_project中的第二个'_'的index\n",
    "tag = name_project[ name_project.find('_', name_project.find('_') + 1)+1: -1]\n",
    "dir_proj = 'project_voro_v1.0/' \n",
    "name_project = dir_proj + name_project\n",
    "tag"
   ]
  },
  {
   "cell_type": "code",
   "execution_count": 24,
   "metadata": {},
   "outputs": [],
   "source": [
    "proj = {}\n",
    "proj['name'] = name_project\n",
    "with open('a-project_voro.yml', 'w') as f:\n",
    "    yaml.dump(proj, f)"
   ]
  },
  {
   "cell_type": "code",
   "execution_count": 25,
   "metadata": {},
   "outputs": [
    {
     "name": "stdout",
     "output_type": "stream",
     "text": [
      "dir_CC_workspace:  ./\n",
      "dir_project_workspace:  ./\n",
      "dir_project:  ./project_voro_v1.0/output_voro_v9.3_test/\n"
     ]
    }
   ],
   "source": [
    "with open('0_config.yml', 'r', encoding='utf-8') as f:\n",
    "    dir_config = yaml.load(f.read(), Loader=yaml.FullLoader)\n",
    "dir_project_workspace = dir_config['dir_project_workspace']\n",
    "dir_CC_workspace = dir_config['dir_CC_workspace']\n",
    "print('dir_CC_workspace: ', dir_CC_workspace)\n",
    "print('dir_project_workspace: ', dir_project_workspace)\n",
    "dir_project = dir_project_workspace + name_project\n",
    "print('dir_project: ', dir_project)"
   ]
  },
  {
   "cell_type": "code",
   "execution_count": 26,
   "metadata": {},
   "outputs": [],
   "source": [
    "filename = dir_CC_workspace +name_CC + 'info_CC.npy'\n",
    "info_CC = np.load(filename, allow_pickle='TRUE').item()"
   ]
  },
  {
   "cell_type": "code",
   "execution_count": 27,
   "metadata": {},
   "outputs": [],
   "source": [
    "# set data dir ,correspoding stalistname, and output dir\n",
    "info = {}\n",
    "info_bi = {}\n",
    "info['name_project'] = name_project\n",
    "info['tag'] = tag\n",
    "info['stalistname_all'] = info_CC['stalistname']\n",
    "info['name_CC'] = name_CC\n",
    "\n",
    "    # image dir\n",
    "info['dir_image']  = 'image_' + tag + '/'\n",
    "    # ds dir\n",
    "info['dir_ds'] = 'ds_' + tag + '/'\n",
    "    # stack dir\n",
    "info['dir_stack'] = 'stack_' + tag + '/'\n",
    "    # disp dir\n",
    "info['dir_disp'] = 'disppick_'+tag+'/' \n",
    "    # dispernet dir\n",
    "info['dir_inv_dispernet'] = 'inv_dispernet/'"
   ]
  },
  {
   "cell_type": "code",
   "execution_count": 28,
   "metadata": {},
   "outputs": [],
   "source": [
    "info['d_start'] = info_CC['d_start']\n",
    "info['d_end'] = info_CC['d_end']\n",
    "info['y_start'] = info_CC['y_start']\n",
    "info['y_end'] = info_CC['y_end']\n",
    "info['stalistname'] = info_CC['stalistname']\n",
    "info['nf'] = info_CC['nf']\n",
    "info['Fs'] = info_CC['Fs']\n",
    "info['fftlen'] = info_CC['fftlen']\n",
    "info['fstride'] = info_CC['fstride']\n",
    "info['nThreads'] = info_CC['nThreads']\n",
    "info['overlaprate'] = info_CC['overlaprate']\n",
    "info['segday'] = info_CC['segday']\n",
    "info['npts'] =  info_CC['npts']\n",
    "info['flag_onebit'] = info_CC['flag_onebit']\n",
    "info['flag_prewhiten'] = info_CC['flag_prewhiten']\n",
    "info_bi['f'] = info_CC['f']\n",
    "f = info_CC['f']\n",
    "dt = 1/np.max(f)\n",
    "#t = np.linspace(-len(f)-1,len(f)-1,2*(len(f)-1))*dt/2\n",
    "t = (np.linspace(-len(f)-1,len(f)-1,2*(len(f)-1))+0.5)*dt/2\n",
    "info_bi['t'] = t"
   ]
  },
  {
   "cell_type": "code",
   "execution_count": 29,
   "metadata": {},
   "outputs": [],
   "source": [
    "if os.path.exists(dir_project):\n",
    "    shutil.rmtree(dir_project)\n",
    "    os.mkdir(dir_project)\n",
    "else:\n",
    "    os.mkdir(dir_project)\n",
    "if not os.path.exists(dir_project+info['dir_image']):\n",
    "    os.mkdir(dir_project + info['dir_image'])\n",
    "if not os.path.exists(dir_project+info['dir_ds']):\n",
    "    os.mkdir(dir_project+info['dir_ds'])\n",
    "if not os.path.exists(dir_project+info['dir_stack']):\n",
    "    os.mkdir(dir_project+info['dir_stack'])\n",
    "if not os.path.exists(dir_project+info['dir_disp'] ):\n",
    "    os.mkdir(dir_project+info['dir_disp'] )\n",
    "\n",
    "dir_inv = dir_project + info['dir_inv_dispernet']\n",
    "if not os.path.exists(dir_inv):\n",
    "    os.makedirs(dir_inv)\n",
    "inputfile = dir_inv + 'h5/'\n",
    "outputfile = dir_inv + 'data/'\n",
    "if os.path.exists(inputfile):\n",
    "    os.system('rm -rf '+inputfile)\n",
    "os.makedirs(inputfile)\n",
    "if not os.path.exists(outputfile):\n",
    "    os.makedirs(outputfile)\n",
    "\n",
    "outname_config = dir_inv+'config_inv.yml'\n",
    "outname_config_fund = dir_inv+'config_inv_fund.yml'\n",
    "if os.path.exists(outname_config)==False:\n",
    "    shutil.copyfile('config_inv.yml', dir_inv+'config_inv.yml')\n",
    "if os.path.exists(outname_config_fund)==False:\n",
    "    shutil.copyfile('config_inv_fund.yml', dir_inv+'config_inv_fund.yml')"
   ]
  },
  {
   "cell_type": "code",
   "execution_count": 30,
   "metadata": {},
   "outputs": [],
   "source": [
    "np.save(dir_project+'/Basic_info.npy',info_bi)\n",
    "with open(dir_project+'Basic_info.yml', 'w', encoding='utf-8') as f:\n",
    "   yaml.dump(data=info, stream=f, allow_unicode=True)"
   ]
  }
 ],
 "metadata": {
  "kernelspec": {
   "display_name": "ccfj",
   "language": "python",
   "name": "python3"
  },
  "language_info": {
   "codemirror_mode": {
    "name": "ipython",
    "version": 3
   },
   "file_extension": ".py",
   "mimetype": "text/x-python",
   "name": "python",
   "nbconvert_exporter": "python",
   "pygments_lexer": "ipython3",
   "version": "3.9.18"
  }
 },
 "nbformat": 4,
 "nbformat_minor": 2
}
