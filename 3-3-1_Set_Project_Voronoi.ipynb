{
 "cells": [
  {
   "cell_type": "code",
   "execution_count": 1,
   "metadata": {},
   "outputs": [],
   "source": [
    "import numpy as np\n",
    "import os\n",
    "import shutil\n",
    "import yaml"
   ]
  },
  {
   "cell_type": "markdown",
   "metadata": {},
   "source": [
    "### Set Workspace"
   ]
  },
  {
   "cell_type": "code",
   "execution_count": 2,
   "metadata": {},
   "outputs": [],
   "source": [
    "name_project = 'output_voro_v9.3_test/'\n",
    "rdir_CC = 'CC/CC_40_prewhiten/'  "
   ]
  },
  {
   "cell_type": "code",
   "execution_count": 3,
   "metadata": {},
   "outputs": [
    {
     "data": {
      "text/plain": [
       "'v9.3_test'"
      ]
     },
     "execution_count": 3,
     "metadata": {},
     "output_type": "execute_result"
    }
   ],
   "source": [
    "# 找到name_project中的第二个'_'的index\n",
    "tag = name_project[ name_project.find('_', name_project.find('_') + 1)+1: -1]\n",
    "rdir_project = 'project_voro_v1.0/'  + name_project\n",
    "tag"
   ]
  },
  {
   "cell_type": "code",
   "execution_count": 4,
   "metadata": {},
   "outputs": [],
   "source": [
    "proj = {}\n",
    "proj['name'] = rdir_project\n",
    "with open('a-project_voro.yml', 'w') as f:\n",
    "    yaml.dump(proj, f)"
   ]
  },
  {
   "cell_type": "code",
   "execution_count": 5,
   "metadata": {},
   "outputs": [
    {
     "name": "stdout",
     "output_type": "stream",
     "text": [
      "dir_CC_workspace:  /shdisk/rem2/Harmon/F-J/San/\n",
      "dir_project_workspace:  /shdisk/rem2/Harmon/F-J/San/\n",
      "dir_project:  /shdisk/rem2/Harmon/F-J/San/project_voro_v1.0/output_voro_v9.3_test/\n"
     ]
    }
   ],
   "source": [
    "with open('0_config.yml', 'r', encoding='utf-8') as f:\n",
    "    dir_config = yaml.load(f.read(), Loader=yaml.FullLoader)\n",
    "dir_project_workspace = dir_config['dir_project_workspace']\n",
    "dir_CC_workspace = dir_config['dir_CC_workspace']\n",
    "print('dir_CC_workspace: ', dir_CC_workspace)\n",
    "print('dir_project_workspace: ', dir_project_workspace)\n",
    "dir_project = dir_project_workspace + name_project\n",
    "print('dir_project: ', dir_project)"
   ]
  },
  {
   "cell_type": "code",
   "execution_count": 6,
   "metadata": {},
   "outputs": [],
   "source": [
    "filename = dir_CC_workspace +rdir_CC + 'info_CC.npy'\n",
    "info_CC = np.load(filename, allow_pickle='TRUE').item()"
   ]
  },
  {
   "cell_type": "code",
   "execution_count": 7,
   "metadata": {},
   "outputs": [],
   "source": [
    "# set data dir ,correspoding stalistname, and output dir\n",
    "info = {}\n",
    "info_bi = {}\n",
    "info['rdir_project'] = rdir_project\n",
    "info['tag'] = tag\n",
    "info['stalistname_all'] = info_CC['stalistname']\n",
    "info['rdir_CC'] = rdir_CC\n",
    "    # image dir\n",
    "info['dir_image']  = 'image_' + tag + '/'"
   ]
  },
  {
   "cell_type": "code",
   "execution_count": 8,
   "metadata": {},
   "outputs": [],
   "source": [
    "info['nf'] = info_CC['nf']\n",
    "info['Fs'] = info_CC['Fs']\n",
    "info_bi['f'] = info_CC['f']\n",
    "f = info_CC['f']\n",
    "dt = 1/np.max(f)\n",
    "#t = np.linspace(-len(f)-1,len(f)-1,2*(len(f)-1))*dt/2\n",
    "t = (np.linspace(-len(f)-1,len(f)-1,2*(len(f)-1))+0.5)*dt/2\n",
    "info_bi['t'] = t"
   ]
  },
  {
   "cell_type": "code",
   "execution_count": 9,
   "metadata": {},
   "outputs": [],
   "source": [
    "if os.path.exists(dir_project):\n",
    "    shutil.rmtree(dir_project)\n",
    "    os.mkdir(dir_project)\n",
    "else:\n",
    "    os.mkdir(dir_project)\n",
    "if not os.path.exists(dir_project+info['dir_image']):\n",
    "    os.mkdir(dir_project + info['dir_image'])\n",
    "if not os.path.exists(dir_project+info['dir_ds']):\n",
    "    os.mkdir(dir_project+info['dir_ds'])\n",
    "if not os.path.exists(dir_project+info['dir_disp_pick'] ):\n",
    "    os.mkdir(dir_project+info['dir_disp_pick'] )\n",
    "\n",
    "dir_inv = dir_project + info['dir_inv_dispernet']\n",
    "if not os.path.exists(dir_inv):\n",
    "    os.makedirs(dir_inv)\n",
    "inputfile = dir_inv + 'h5/'\n",
    "outputfile = dir_inv + 'data/'\n",
    "if os.path.exists(inputfile):\n",
    "    os.system('rm -rf '+inputfile)\n",
    "os.makedirs(inputfile)\n",
    "if not os.path.exists(outputfile):\n",
    "    os.makedirs(outputfile)\n",
    "\n",
    "outname_config = dir_inv+'config_inv.yml'\n",
    "outname_config_fund = dir_inv+'config_inv_fund.yml'\n",
    "if os.path.exists(outname_config)==False:\n",
    "    shutil.copyfile('config_inv.yml', dir_inv+'config_inv.yml')\n",
    "if os.path.exists(outname_config_fund)==False:\n",
    "    shutil.copyfile('config_inv_fund.yml', dir_inv+'config_inv_fund.yml')"
   ]
  },
  {
   "cell_type": "code",
   "execution_count": 10,
   "metadata": {},
   "outputs": [],
   "source": [
    "np.save(dir_project+'/Basic_info.npy',info_bi)\n",
    "with open(dir_project+'Basic_info.yml', 'w', encoding='utf-8') as f:\n",
    "   yaml.dump(data=info, stream=f, allow_unicode=True)"
   ]
  }
 ],
 "metadata": {
  "kernelspec": {
   "display_name": "ccfj",
   "language": "python",
   "name": "python3"
  },
  "language_info": {
   "codemirror_mode": {
    "name": "ipython",
    "version": 3
   },
   "file_extension": ".py",
   "mimetype": "text/x-python",
   "name": "python",
   "nbconvert_exporter": "python",
   "pygments_lexer": "ipython3",
   "version": "3.9.18"
  }
 },
 "nbformat": 4,
 "nbformat_minor": 2
}
