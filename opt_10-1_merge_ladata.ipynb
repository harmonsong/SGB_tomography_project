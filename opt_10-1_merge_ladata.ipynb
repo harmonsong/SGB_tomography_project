{
 "cells": [
  {
   "cell_type": "code",
   "execution_count": 4,
   "metadata": {},
   "outputs": [],
   "source": [
    "import laspy\n",
    "import numpy as np"
   ]
  },
  {
   "cell_type": "code",
   "execution_count": 5,
   "metadata": {},
   "outputs": [],
   "source": [
    "laz1 = laspy.read(\"B4_tiled_laz_middle/b4_538000_3710000.laz\")\n",
    "laz2 = laspy.read(\"B4_tiled_laz_middle/b4_536000_3710000.laz\")"
   ]
  },
  {
   "cell_type": "code",
   "execution_count": 8,
   "metadata": {},
   "outputs": [],
   "source": [
    "output_file = laspy.LasData(laz1.header)"
   ]
  },
  {
   "cell_type": "code",
   "execution_count": 9,
   "metadata": {},
   "outputs": [],
   "source": [
    "append = np.append(laz1.points.array, laz2.points.array)\n",
    "output_file.points.array = append\n",
    "\n",
    "x_append = np.append(laz1.xyz[:, 0], laz2.xyz[:, 0])\n",
    "y_append = np.append(laz1.xyz[:, 1], laz2.xyz[:, 1])\n",
    "z_append = np.append(laz1.xyz[:, 2], laz2.xyz[:, 2])\n",
    "\n",
    "output_file.x = x_append\n",
    "output_file.y = y_append\n",
    "output_file.z = z_append"
   ]
  },
  {
   "cell_type": "code",
   "execution_count": 10,
   "metadata": {},
   "outputs": [],
   "source": [
    "output_file.write('all.las')"
   ]
  },
  {
   "cell_type": "code",
   "execution_count": null,
   "metadata": {},
   "outputs": [],
   "source": []
  }
 ],
 "metadata": {
  "kernelspec": {
   "display_name": "pygmt",
   "language": "python",
   "name": "python3"
  },
  "language_info": {
   "codemirror_mode": {
    "name": "ipython",
    "version": 3
   },
   "file_extension": ".py",
   "mimetype": "text/x-python",
   "name": "python",
   "nbconvert_exporter": "python",
   "pygments_lexer": "ipython3",
   "version": "3.12.3"
  }
 },
 "nbformat": 4,
 "nbformat_minor": 2
}
