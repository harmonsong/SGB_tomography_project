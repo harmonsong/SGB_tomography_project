{
 "cells": [
  {
   "cell_type": "code",
   "execution_count": 1,
   "metadata": {},
   "outputs": [],
   "source": [
    "import numpy as np\n",
    "import matplotlib.pyplot as plt\n",
    "import argparse\n",
    "from scipy.stats import gaussian_kde\n",
    "import os\n",
    "import yaml\n",
    "import h5py\n",
    "import pandas as pd\n",
    "import openpyxl\n",
    "from openpyxl import load_workbook\n",
    "import time\n",
    "#import geopandas as gp\n",
    "\n",
    "from mpi_master_slave import Master, Slave\n",
    "from mpi_master_slave import WorkQueue\n",
    "from mpi4py import MPI\n",
    "import warnings\n",
    "warnings.filterwarnings('ignore')"
   ]
  },
  {
   "cell_type": "code",
   "execution_count": 2,
   "metadata": {},
   "outputs": [],
   "source": [
    "import sys\n",
    "sys.path.append(r'../tools_F-J/')\n",
    "sys.path.append(r'../tools_F-J/toollib_DisbaCode')\n",
    "from objective_function import (ObjectiveFunctionDerivativeUsed, Forward)\n",
    "from toollib_DisbaCode import forward\n",
    "from toollib_DisbaCode import objective_function\n",
    "from toollib_DisbaCode import empirical_relation\n",
    "from toollib_DisbaCode import inversion\n",
    "from toollib_DisbaCode import plot_disp\n",
    "from toollib_DisbaCode import plot_model\n",
    "from toollib_DisbaCode import plot_lcurve\n",
    "from toollib_DisbaCode import plot_inversion    \n",
    "from toollib_DisbaCode import plot_kernel\n",
    "\n",
    "from toollib_standard import maplib\n",
    "from toollib_standard import mathlib\n",
    "#from toollib_standard import filelib\n",
    "#from toollib_standard import stacklib\n",
    "from toollib_standard import plotlib"
   ]
  },
  {
   "cell_type": "code",
   "execution_count": 3,
   "metadata": {},
   "outputs": [],
   "source": [
    "flag_project = 1 # 0--regular; 1--repartrition"
   ]
  },
  {
   "cell_type": "code",
   "execution_count": 4,
   "metadata": {},
   "outputs": [],
   "source": [
    "if flag_project == 0:\n",
    "    with open('a-project.yml', 'r', encoding='utf-8') as f:\n",
    "        proj = yaml.load(f.read(), Loader=yaml.FullLoader)\n",
    "    name_project = proj['name']\n",
    "    #name_project = 'project/output_FJSJ_16-01/'               # Harmon server\n",
    "elif flag_project == 1:\n",
    "    with open('a-project_repar.yml', 'r', encoding='utf-8') as f:\n",
    "        proj = yaml.load(f.read(), Loader=yaml.FullLoader)\n",
    "    name_project = proj['name']\n",
    "    #name_project = 'project_repartrition/repartrition_01-03/'               # Harmon server"
   ]
  },
  {
   "cell_type": "code",
   "execution_count": 5,
   "metadata": {},
   "outputs": [
    {
     "name": "stdout",
     "output_type": "stream",
     "text": [
      "dir_CC_workspace:  /shdisk/rem2/Harmon/F-J/San/\n",
      "dir_project_workspace:  /shdisk/rem2/Harmon/F-J/San/\n",
      "dir_project:  /shdisk/rem2/Harmon/F-J/San/project_repartition_v3.0/output_repar_v9.1_02-01/\n"
     ]
    }
   ],
   "source": [
    "with open('0_config.yml', 'r', encoding='utf-8') as f:\n",
    "    dir_config = yaml.load(f.read(), Loader=yaml.FullLoader)\n",
    "dir_project_workspace = dir_config['dir_project_workspace']\n",
    "dir_CC_workspace = dir_config['dir_CC_workspace']\n",
    "print('dir_CC_workspace: ', dir_CC_workspace)\n",
    "print('dir_project_workspace: ', dir_project_workspace)\n",
    "dir_project = os.path.join(dir_project_workspace, name_project)\n",
    "print('dir_project: ', dir_project)"
   ]
  },
  {
   "cell_type": "code",
   "execution_count": 6,
   "metadata": {},
   "outputs": [],
   "source": [
    "filename = dir_project+'Basic_info.yml'\n",
    "with open(filename, 'r', encoding='utf-8') as f:\n",
    "    info_basic = yaml.load(f.read(), Loader=yaml.FullLoader)\n",
    "filename_bi = dir_project+'Basic_info.npy'\n",
    "info_basic_bi = np.load(filename_bi, allow_pickle='TRUE').item()      # setting dictionary\n"
   ]
  },
  {
   "cell_type": "code",
   "execution_count": 7,
   "metadata": {},
   "outputs": [],
   "source": [
    "dir_ds = dir_project + info_basic['dir_ds']\n",
    "dir_partition = dir_project + info_basic['dir_partition']\n",
    "dir_inv_dispernet = dir_project + info_basic['dir_inv_dispernet'] \n",
    "d_len = info_basic['d_len']\n",
    "f = info_basic_bi['f']\n",
    "c = np.linspace(info_basic['c_min'], info_basic['c_max'], info_basic['c_num'])"
   ]
  },
  {
   "cell_type": "code",
   "execution_count": 8,
   "metadata": {},
   "outputs": [
    {
     "data": {
      "text/plain": [
       "['13--20-03', '22--29-03', '28--35-03', '41--49-03']"
      ]
     },
     "execution_count": 8,
     "metadata": {},
     "output_type": "execute_result"
    }
   ],
   "source": [
    "key_subworks = info_basic['key_subworks']\n",
    "key_subworks = ['81']\n",
    "key_subworks = ['13--20-03','22--29-03','28--35-03','41--49-03']\n",
    "#key_subworks = ['41--49-03']\n",
    "#key_subworks = [str(i) for i in range(1,19)]\n",
    "key_subworks"
   ]
  },
  {
   "cell_type": "code",
   "execution_count": 9,
   "metadata": {},
   "outputs": [],
   "source": [
    "file_config_fund = 'config_inv_fund.yml'\n",
    "file_config = 'config_inv.yml'\n",
    "flag_forward = 0"
   ]
  },
  {
   "cell_type": "code",
   "execution_count": 10,
   "metadata": {},
   "outputs": [],
   "source": [
    "dir_image = dir_project +  info_basic['dir_image'] + 'inversion_compare/'\n",
    "#info_basic['dir_image_inv'] = info_basic['dir_inv_dispernet'] + 'image_inv_' + info_basic['tag'] + '/'\n",
    "info_basic['dir_invfile'] = info_basic['dir_inv_dispernet'] + 'inversion/'\n",
    "info_basic['dir_disp_model'] = info_basic['dir_inv_dispernet'] + 'disp_model/'\n",
    "info_basic['dir_model'] = info_basic['dir_inv_dispernet'] + 'model/'\n",
    "dir_invfile = dir_project + info_basic['dir_invfile']\n",
    "dir_disp_model = dir_project + info_basic['dir_disp_model']\n",
    "dir_model = dir_project + info_basic['dir_model']\n",
    "\n",
    "#dir_image_fund = info_basic['dir_inv_dispernet'] + 'image_inv_fund_' + info_basic['tag'] + '/'\n",
    "info_basic['dir_image_inv_fund'] = info_basic['dir_inv_dispernet'] + 'image_inv_fund_' + info_basic['tag'] + '/'\n",
    "info_basic['dir_invfile_fund'] = info_basic['dir_inv_dispernet'] + 'inversion_fund/'\n",
    "info_basic['dir_disp_model_fund'] = info_basic['dir_inv_dispernet'] + 'disp_model_fund/'\n",
    "info_basic['dir_model_fund'] = info_basic['dir_inv_dispernet'] + 'model_fund/'\n",
    "dir_invfile_fund = dir_project + info_basic['dir_invfile_fund']\n",
    "dir_disp_model_fund = dir_project + info_basic['dir_disp_model_fund']\n",
    "dir_model_fund = dir_project + info_basic['dir_model_fund']\n",
    "if not os.path.exists(dir_image):\n",
    "    os.mkdir(dir_image)\n",
    "if not os.path.exists(dir_invfile):\n",
    "    os.mkdir(dir_invfile)\n",
    "if not os.path.exists(dir_disp_model):\n",
    "    os.mkdir(dir_disp_model)\n",
    "if not os.path.exists(dir_model):\n",
    "    os.mkdir(dir_model)\n",
    "\n",
    "if not os.path.exists(dir_invfile_fund):\n",
    "    os.mkdir(dir_invfile_fund)\n",
    "if not os.path.exists(dir_disp_model_fund):\n",
    "    os.mkdir(dir_disp_model_fund)\n",
    "if not os.path.exists(dir_model_fund):\n",
    "    os.mkdir(dir_model_fund)"
   ]
  },
  {
   "cell_type": "markdown",
   "metadata": {},
   "source": [
    "### Forard and plot estimated disp and Vs"
   ]
  },
  {
   "cell_type": "code",
   "execution_count": 11,
   "metadata": {},
   "outputs": [],
   "source": [
    "stalistname_all = info_basic['stalistname_all']\n",
    "stainfo = pd.read_excel(stalistname_all)\n",
    "nsta_all = len(stainfo.iloc[:,0])\n",
    "stalist_all = stainfo['Station'].tolist()\n",
    "lat_all = stainfo['latitude'].tolist() \n",
    "lon_all = stainfo['longitude'].tolist()\n",
    "stainfo_all = stainfo"
   ]
  },
  {
   "cell_type": "code",
   "execution_count": 12,
   "metadata": {},
   "outputs": [],
   "source": [
    "# fault surface trace\n",
    "faults = np.load('clark_faults.npy', allow_pickle='TRUE').item()"
   ]
  },
  {
   "cell_type": "code",
   "execution_count": 13,
   "metadata": {},
   "outputs": [],
   "source": [
    "stations = {}\n",
    "lat = {}\n",
    "lon = {}\n",
    "for key in key_subworks:\n",
    "    filepath = dir_partition + str(key) + '.txt'\n",
    "    stations_this, lat_stations_this, lon_stations_this = np.loadtxt(filepath, dtype='str' , unpack=True)\n",
    "    stations[key] = stations_this\n",
    "    lat[key] = lat_stations_this.astype(float)\n",
    "    lon[key] = lon_stations_this.astype(float)"
   ]
  },
  {
   "cell_type": "code",
   "execution_count": 14,
   "metadata": {},
   "outputs": [],
   "source": [
    "def plot_fj(ax,ds_linear,title0,f,c,index,v_min,v_max,c_map):\n",
    "    ax.imshow(np.flip(ds_linear,0),aspect='auto',extent=[min(f),max(f),min(c),max(c)],vmin=v_min,vmax = v_max, cmap = c_map)\n",
    "    #plt.imshow(np.flip(ds_linear,0),extent=[min(f),max(f),min(c),max(c)],aspect='auto',cmap='jet',vmin=0,vmax=1)\n",
    "    #ax.pcolormesh(f,c,ds_linear,cmap='jet',vmin=0,vmax=1)\n",
    "    if index == 0:\n",
    "        ax.set_title(title0)\n",
    "    else:\n",
    "        ax.set_title('('+chr(96+index)+')',loc='left')\n",
    "    ax.set_xlabel('Normalized Frequency/ Hz')\n",
    "    ax.set_ylabel('Velocity/ m/s')\n",
    "    #ax.set_xlim(xlim)\n",
    "    return ax"
   ]
  },
  {
   "cell_type": "code",
   "execution_count": 15,
   "metadata": {},
   "outputs": [
    {
     "name": "stdout",
     "output_type": "stream",
     "text": [
      "13--20-03\n",
      "finish 1/4\n",
      "22--29-03\n",
      "finish 2/4\n",
      "28--35-03\n",
      "error\n",
      "error\n",
      "finish 3/4\n",
      "41--49-03\n",
      "finish 4/4\n"
     ]
    }
   ],
   "source": [
    "#%%capture\n",
    "#key_subworks = ['25-06']\n",
    "c_map = 'jet'\n",
    "v_max = None\n",
    "v_min = 0.1\n",
    "\n",
    "#s.chdir('/home/harmon/data/git_repo/F-J_Workflow/San_Jasinto/'+dir_project+'inv_dispernet')\n",
    "\n",
    "with open(dir_project + info_basic['dir_inv_dispernet']+file_config, 'r') as fp:\n",
    "    config = yaml.safe_load(fp)\n",
    "\n",
    "all_disp = 0\n",
    "show_init = 0\n",
    "plot_fund = 1\n",
    "xlim_f = [2,25]\n",
    "xlim_T = [-1,1]\n",
    "ylim_c = [0.25,1.8]\n",
    "clim = [0,1]\n",
    "fmin = 1\n",
    "fmax = 20\n",
    "cmin = 0.1\n",
    "cmax = 2.5\n",
    "vmax = 0.3\n",
    "\n",
    "flag_num = 0\n",
    "dir_this = dir_project + info_basic['dir_inv_dispernet']\n",
    "for key_subwork in key_subworks:\n",
    "    flag_num += 1\n",
    "    print(key_subwork)\n",
    "    fig,ax = plt.subplots(3,3,figsize=(27,20))\n",
    "    #plt.figure(figsize=(27,20))\n",
    "    #ax = plt.subplot2grid((1,3),(0,0),colspan=2,rowspan=1)\n",
    "\n",
    "    data_file = 'data/ds_'+key_subwork+'curve.txt'\n",
    "    file_model = 'model/model_'+key_subwork+'.txt'\n",
    "    file_fund = 'model_fund/model_'+key_subwork+'.txt'\n",
    "    file_inv =  'ds_'+key_subwork+'curve/'\n",
    "    disp_forward = dir_disp_model +  'disp_model_'+key_subwork+'.txt'\n",
    "    disp_forward_fund = dir_disp_model_fund +  'disp_model_'+key_subwork+'.txt'\n",
    "    if not os.path.exists(dir_invfile+file_inv):\n",
    "        print(key_subwork+'data file not exist')\n",
    "        plt.close()\n",
    "        continue\n",
    "\n",
    "    ds = h5py.File(dir_ds+'ds_'+key_subwork+'.h5', 'r')\n",
    "    ds_remove = ds['ds_remove'][0]\n",
    "    title0 = \"Fundamental\"\n",
    "    #ax[0][0].set_xlim(xlim_f)\n",
    "    #ax[0][0].set_ylim(ylim_c)\n",
    "    #ax[0][0] = plot_fj(ax[0][0],ds_remove,title0,f,c,xlim_f,0,v_min,v_max,c_map)\n",
    "\n",
    "    title0 = \"Overtones\"\n",
    "    ax[0][1].set_xlim(xlim_f)\n",
    "    ax[0][1].set_ylim(ylim_c)\n",
    "    #ax[0] = plot_fj(ax[0],ds_remove,title0,f,c,xlim_f,0,clim)\n",
    "    ax[0][1] = plot_fj(ax[0][1],ds_remove,title0,f,c,0,v_min,v_max,c_map)\n",
    "\n",
    "    os.chdir(dir_project_workspace +'/'+name_project+'/inv_dispernet/')\n",
    "    disp_data = np.loadtxt(data_file)\n",
    "    data_name = 'ds_'+key_subwork+'curve'\n",
    "    ax[0][2] = plot_inversion.plot_disp(config, data_name, all_disp,ax[0][2])\n",
    "    # s wave velocity inversion\n",
    "    \n",
    "    file_init = config['model_init']+key_subwork+'.txt'\n",
    "    ax[1][1],model,fmt = plot_inversion.plot_model(config, data_name, show_init, file_model,file_init,ax[1][1],file_fund,plot_fund)\n",
    "    os.chdir(dir_this + '/')\n",
    "\n",
    "\n",
    "    disp_model = np.loadtxt(disp_forward)\n",
    "    disp_model_fund = np.loadtxt(disp_forward_fund)\n",
    "    modes = set(disp_data[:, 2].astype(int))\n",
    "\n",
    "    for m in modes:\n",
    "        d = disp_data[disp_data[:, 2] == m]\n",
    "        if m==0:\n",
    "            #ax[0][0].plot(d[:, 0], d[:, 1], 'g^',label='data')\n",
    "            ax[0][1].plot(d[:, 0], d[:, 1], 'k^',label='data',linewidth=4)\n",
    "        else:\n",
    "            #ax[0][0].plot(d[:, 0], d[:, 1], 'g^')\n",
    "            ax[0][1].plot(d[:, 0], d[:, 1], 'k^',linewidth=4 )\n",
    "\n",
    "    modes = set(disp_model[:, 2].astype(int))\n",
    "    for m in modes:\n",
    "        d = disp_model[disp_model[:, 2] == m]\n",
    "        if m==0:\n",
    "            ax[0][1].plot(d[:, 0], d[:, 1], color='greenyellow',linestyle = '--',label='estemate',linewidth=2)\n",
    "        else:\n",
    "            ax[0][1].plot(d[:, 0], d[:, 1], color='greenyellow',linestyle = '--',linewidth=2)\n",
    "    modes = set(disp_model_fund[:, 2].astype(int))\n",
    "    for m in modes:\n",
    "        d = disp_model_fund[disp_model_fund[:, 2] == m]\n",
    "        \"\"\"\n",
    "        if m==0:\n",
    "            ax[0][0].plot(d[:, 0], d[:, 1], 'r--',label='estemate',linewidth=5)\n",
    "        else:\n",
    "            ax[0][0].plot(d[:, 0], d[:, 1], 'r--',linewidth=5)\n",
    "        \"\"\"\n",
    "    #ax[0][0].legend()\n",
    "    ax[0][1].legend()\n",
    "\n",
    "    ax[1][0].axis('off')\n",
    "    ax[1][2].axis('off')\n",
    "\n",
    "\n",
    "\n",
    "    file_disp = dir_project + info_basic['dir_inv_dispernet']+'data/ds_'+key_subwork+'curve.txt'\n",
    "    file_model = dir_model+'model_'+key_subwork+'.txt'\n",
    "    disp = np.loadtxt(file_disp)\n",
    "    m = int(max(set(disp[:,2])))\n",
    "    if m > 2:\n",
    "        m = 2\n",
    "    for mode in range(m+1):\n",
    "        #print(mode)\n",
    "        #ax[2][mode] = plot_kernel.kernel_plot(fmin,fmax,cmin,cmax,file_disp,file_model,mode,vmax,ax[2][mode])\n",
    "        \n",
    "        try:\n",
    "            ax[2][mode] = plot_kernel.kernel_plot(fmin,fmax,cmin,cmax,file_disp,file_model,mode,vmax,ax[2][mode])\n",
    "        except:\n",
    "            print('error')\n",
    "\n",
    "\n",
    "\n",
    "    stalist = stations[key_subwork]\n",
    "    lat_this = lat[key_subwork]\n",
    "    lon_this = lon[key_subwork]\n",
    "    nsta = len(stalist)\n",
    "    ax[0][0]=plotlib.plot_area(ax[0][0],lon_all,lat_all,lon_this,lat_this)\n",
    "    lw= 5\n",
    "    for i in range(len(faults)):\n",
    "        ax[0][0].plot(faults['clark'+str(i+1)]['lon'], faults['clark'+str(i+1)]['lat'], 'k',linewidth=lw)\n",
    "\n",
    "    \"\"\"\n",
    "    key = 'R'+key_subwork[0:2]+key_subwork[3:5]\n",
    "    if key in stalist_all:\n",
    "        lat_this = lat_all[stalist_all.index(key)]\n",
    "        lon_this = lon_all[stalist_all.index(key)]\n",
    "    else:\n",
    "        key1 = 'R' + str(int(key_subwork[0:2])-1).zfill(2)+key_subwork[3:5]\n",
    "        key2 = 'R' + str(int(key_subwork[0:2])+1).zfill(2)+key_subwork[3:5]\n",
    "        indx1 = stalist_all.index(key1)\n",
    "        indx2 = stalist_all.index(key2)\n",
    "        lat_this = (lat_all[indx1]+lat_all[indx2])/2\n",
    "        lon_this = (lon_all[indx1]+lon_all[indx2])/2\n",
    "    ax[0][0].scatter(lon_this,lat_this,marker='o',color='g',s=200)\n",
    "    \"\"\"\n",
    "\n",
    "    plt.tight_layout()\n",
    "    #plt.savefig(dir_image+'Sens-kernel_'+key_subwork+'.png',dpi=60)\n",
    "    plt.savefig(dir_image+'invplot_all_'+key_subwork+'.png',dpi=100)\n",
    "    \n",
    "\n",
    "    print('finish '+str(flag_num)+'/'+str(len(key_subworks)))\n",
    "    plt.close()"
   ]
  },
  {
   "cell_type": "code",
   "execution_count": 16,
   "metadata": {},
   "outputs": [],
   "source": [
    "with open(dir_project+'Basic_info.yml', 'w', encoding='utf-8') as f:\n",
    "   yaml.dump(data=info_basic, stream=f, allow_unicode=True)"
   ]
  }
 ],
 "metadata": {
  "kernelspec": {
   "display_name": "base",
   "language": "python",
   "name": "python3"
  },
  "language_info": {
   "codemirror_mode": {
    "name": "ipython",
    "version": 3
   },
   "file_extension": ".py",
   "mimetype": "text/x-python",
   "name": "python",
   "nbconvert_exporter": "python",
   "pygments_lexer": "ipython3",
   "version": "3.8.18"
  },
  "orig_nbformat": 4
 },
 "nbformat": 4,
 "nbformat_minor": 2
}
