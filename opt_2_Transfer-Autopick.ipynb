{
 "cells": [
  {
   "cell_type": "code",
   "execution_count": 1,
   "metadata": {},
   "outputs": [
    {
     "name": "stderr",
     "output_type": "stream",
     "text": [
      "/tmp/ipykernel_5360/3321561094.py:7: DeprecationWarning: \n",
      "Pyarrow will become a required dependency of pandas in the next major release of pandas (pandas 3.0),\n",
      "(to allow more performant data types, such as the Arrow string type, and better interoperability with other libraries)\n",
      "but was not found to be installed on your system.\n",
      "If this would cause problems for you,\n",
      "please provide us feedback at https://github.com/pandas-dev/pandas/issues/54466\n",
      "        \n",
      "  import pandas as pd\n"
     ]
    }
   ],
   "source": [
    "import numpy as np\n",
    "import os\n",
    "import matplotlib.pyplot as plt\n",
    "import h5py\n",
    "from scipy import interpolate\n",
    "from ccfj import GetStationPairs\n",
    "import pandas as pd\n",
    "import yaml\n",
    "import geopandas as gp\n",
    "import openpyxl\n",
    "from openpyxl import load_workbook\n",
    "from concurrent.futures import ThreadPoolExecutor\n",
    "from scipy.interpolate import make_interp_spline"
   ]
  },
  {
   "cell_type": "code",
   "execution_count": 2,
   "metadata": {},
   "outputs": [],
   "source": [
    "flag_project = 1 # 0--regular ; 1--repartrition"
   ]
  },
  {
   "cell_type": "code",
   "execution_count": 3,
   "metadata": {},
   "outputs": [],
   "source": [
    "if flag_project == 0:\n",
    "    file_project = 'a-project.yml'\n",
    "    with open('a-project.yml', 'r', encoding='utf-8') as f:\n",
    "        proj = yaml.load(f.read(), Loader=yaml.FullLoader)\n",
    "    name_project = proj['name']\n",
    "    #name_project = 'project/output_FJSJ_16-01/'               # Harmon server\n",
    "elif flag_project == 1:\n",
    "    file_project = 'a-project_repar.yml'\n",
    "    with open('a-project_repar.yml', 'r', encoding='utf-8') as f:\n",
    "        proj = yaml.load(f.read(), Loader=yaml.FullLoader)\n",
    "    name_project = proj['name']\n",
    "    #name_project = 'project_repartrition/repartrition_01-03/'               # Harmon server\n"
   ]
  },
  {
   "cell_type": "code",
   "execution_count": 4,
   "metadata": {},
   "outputs": [
    {
     "name": "stdout",
     "output_type": "stream",
     "text": [
      "dir_CC_workspace:  ./\n",
      "dir_project_workspace:  ./\n",
      "dir_project:  ./project_repartition_v3.0/output_repar_v9.1_02-01/\n"
     ]
    }
   ],
   "source": [
    "with open('0_config.yml', 'r', encoding='utf-8') as f:\n",
    "    dir_config = yaml.load(f.read(), Loader=yaml.FullLoader)\n",
    "dir_project_workspace = dir_config['dir_project_workspace']\n",
    "dir_CC_workspace = dir_config['dir_CC_workspace']\n",
    "print('dir_CC_workspace: ', dir_CC_workspace)\n",
    "print('dir_project_workspace: ', dir_project_workspace)\n",
    "dir_project = os.path.join(dir_project_workspace, name_project)\n",
    "print('dir_project: ', dir_project)"
   ]
  },
  {
   "cell_type": "code",
   "execution_count": 5,
   "metadata": {},
   "outputs": [],
   "source": [
    "filename = dir_project+'Basic_info.yml'\n",
    "with open(filename, 'r', encoding='utf-8') as f:\n",
    "    info_basic = yaml.load(f.read(), Loader=yaml.FullLoader)\n",
    "filename_bi = dir_project+'Basic_info.npy'\n",
    "info_basic_bi = np.load(filename_bi, allow_pickle='TRUE').item()      # setting dictionary"
   ]
  },
  {
   "cell_type": "code",
   "execution_count": 6,
   "metadata": {},
   "outputs": [],
   "source": [
    "dir_disp_autopick = dir_project + info_basic['dir_disp']"
   ]
  },
  {
   "cell_type": "code",
   "execution_count": 7,
   "metadata": {},
   "outputs": [
    {
     "data": {
      "text/plain": [
       "['554--23-16',\n",
       " '560--29-16',\n",
       " '610--39-17',\n",
       " '409--43-12',\n",
       " '60--21-04',\n",
       " '644--39-18',\n",
       " '496--42-14',\n",
       " '600--26-17',\n",
       " '615--45-17',\n",
       " '465--07-14',\n",
       " '524--30-15',\n",
       " '109--40-05',\n",
       " '435--24-13',\n",
       " '64--25-04',\n",
       " '612--41-17',\n",
       " '571--41-16',\n",
       " '516--19-15',\n",
       " '632--18-18',\n",
       " '621--51-17',\n",
       " '594--18-17',\n",
       " '189--39-07',\n",
       " '425--13-13',\n",
       " '412--47-12',\n",
       " '523--29-15',\n",
       " '483--29-14',\n",
       " '433--22-13',\n",
       " '620--50-17',\n",
       " '552--21-16',\n",
       " '155--44-06',\n",
       " '643--38-18',\n",
       " '651--46-18',\n",
       " '110--41-05',\n",
       " '231--39-08',\n",
       " '636--24-18',\n",
       " '437--26-13',\n",
       " '113--47-05',\n",
       " '631--17-18',\n",
       " '618--48-17',\n",
       " '421--08-13',\n",
       " '597--23-17',\n",
       " '646--41-18',\n",
       " '601--27-17',\n",
       " '65--26-04',\n",
       " '428--16-13',\n",
       " '415--50-12',\n",
       " '93--19-05',\n",
       " '116--51-05',\n",
       " '563--33-16',\n",
       " '408--42-12',\n",
       " '542--51-15',\n",
       " '490--36-14',\n",
       " '370--50-11',\n",
       " '78--43-04',\n",
       " '489--35-14',\n",
       " '567--37-16',\n",
       " '321--41-10',\n",
       " '115--49-05',\n",
       " '426--14-13',\n",
       " '578--48-16',\n",
       " '462--51-13',\n",
       " '57--18-04',\n",
       " '653--49-18',\n",
       " '429--17-13',\n",
       " '519--24-15',\n",
       " '609--38-17',\n",
       " '617--47-17',\n",
       " '629--15-18',\n",
       " '434--23-13',\n",
       " '108--39-05',\n",
       " '75--40-04',\n",
       " '580--50-16',\n",
       " '641--36-18',\n",
       " '117--52-05',\n",
       " '630--16-18',\n",
       " '572--42-16',\n",
       " '81--47-04',\n",
       " '165--13-07',\n",
       " '638--27-18',\n",
       " '595--20-17',\n",
       " '84--50-04',\n",
       " '654--50-18',\n",
       " '576--46-16',\n",
       " '657--54-18',\n",
       " '561--31-16',\n",
       " '551--19-16',\n",
       " '525--31-15',\n",
       " '427--15-13',\n",
       " '482--28-14',\n",
       " '453--42-13',\n",
       " '80--46-04',\n",
       " '581--51-16',\n",
       " '411--46-12',\n",
       " '607--36-17']"
      ]
     },
     "execution_count": 7,
     "metadata": {},
     "output_type": "execute_result"
    }
   ],
   "source": [
    "key_subworks = info_basic['key_subworks']\n",
    "key_subworks = info_basic['key_subworks_repick']\n",
    "key_subworks"
   ]
  },
  {
   "cell_type": "markdown",
   "metadata": {},
   "source": [
    "### create workspace for Dispernet"
   ]
  },
  {
   "cell_type": "code",
   "execution_count": 8,
   "metadata": {},
   "outputs": [],
   "source": [
    "info_basic['dir_inv_dispernet'] = 'inv_dispernet/'\n",
    "dir_inv = dir_project + info_basic['dir_inv_dispernet']\n",
    "if not os.path.exists(dir_inv):\n",
    "    os.makedirs(dir_inv)\n",
    "with open(dir_project+'Basic_info.yml', 'w', encoding='utf-8') as f:\n",
    "   yaml.dump(data=info_basic, stream=f, allow_unicode=True)"
   ]
  },
  {
   "cell_type": "code",
   "execution_count": 9,
   "metadata": {},
   "outputs": [],
   "source": [
    "dir_disp = dir_inv + 'data/'\n",
    "if not os.path.exists(dir_disp):\n",
    "    os.makedirs(dir_disp)"
   ]
  },
  {
   "cell_type": "markdown",
   "metadata": {},
   "source": [
    "### Autopick"
   ]
  },
  {
   "cell_type": "code",
   "execution_count": 10,
   "metadata": {},
   "outputs": [],
   "source": [
    "flag_f = [5,15]"
   ]
  },
  {
   "cell_type": "code",
   "execution_count": 11,
   "metadata": {},
   "outputs": [],
   "source": [
    "def transfer_autopick(key_subwork):\n",
    "    global dir_disp_autopick, dir_disp, flag_f\n",
    "    print(key_subwork)\n",
    "    ff_pick = np.loadtxt(dir_disp_autopick+'autopick_'+key_subwork+'.txt',delimiter=',')[:,0]\n",
    "    cc_pick = np.loadtxt(dir_disp_autopick+'autopick_'+key_subwork+'.txt',delimiter=',')[:,1]\n",
    "    f_start = flag_f[0]\n",
    "    f_end = flag_f[1]\n",
    "    ff_this = ff_pick[(ff_pick>=f_start) & (ff_pick<=f_end)]\n",
    "    cc_this = cc_pick[(ff_pick>=f_start) & (ff_pick<=f_end)]\n",
    "    mode = np.zeros(len(ff_this))\n",
    "    np.savetxt(dir_disp+'ds_'+key_subwork+'curve.txt',np.c_[ff_this,cc_this,mode], fmt='%.6f  %.6f  %i')"
   ]
  },
  {
   "cell_type": "code",
   "execution_count": 12,
   "metadata": {},
   "outputs": [
    {
     "name": "stdout",
     "output_type": "stream",
     "text": [
      "554--23-16\n",
      "560--29-16\n",
      "610--39-17\n",
      "409--43-12\n",
      "60--21-04\n"
     ]
    },
    {
     "name": "stdout",
     "output_type": "stream",
     "text": [
      "644--39-18\n",
      "496--42-14\n",
      "600--26-17\n",
      "615--45-17\n",
      "465--07-14\n",
      "524--30-15\n",
      "109--40-05\n",
      "435--24-13\n",
      "64--25-04\n",
      "612--41-17\n",
      "571--41-16\n",
      "516--19-15\n",
      "632--18-18\n",
      "621--51-17\n",
      "594--18-17\n",
      "189--39-07\n",
      "425--13-13\n",
      "412--47-12\n",
      "523--29-15\n",
      "483--29-14\n",
      "433--22-13\n",
      "620--50-17\n",
      "552--21-16\n",
      "155--44-06\n",
      "643--38-18\n",
      "651--46-18\n",
      "110--41-05\n",
      "231--39-08\n",
      "636--24-18\n",
      "437--26-13\n",
      "113--47-05\n",
      "631--17-18\n",
      "618--48-17\n",
      "421--08-13\n",
      "597--23-17\n",
      "646--41-18\n",
      "601--27-17\n",
      "65--26-04\n",
      "428--16-13\n",
      "415--50-12\n",
      "93--19-05\n",
      "116--51-05\n",
      "563--33-16\n",
      "408--42-12\n",
      "542--51-15\n",
      "490--36-14\n",
      "370--50-11\n",
      "78--43-04\n",
      "489--35-14\n",
      "567--37-16\n",
      "321--41-10\n",
      "115--49-05\n",
      "426--14-13\n",
      "578--48-16\n",
      "462--51-13\n",
      "57--18-04\n",
      "653--49-18\n",
      "429--17-13\n",
      "519--24-15\n",
      "609--38-17\n",
      "617--47-17\n",
      "629--15-18\n",
      "434--23-13\n",
      "108--39-05\n",
      "75--40-04\n",
      "580--50-16\n",
      "641--36-18\n",
      "117--52-05\n",
      "630--16-18\n",
      "572--42-16\n",
      "81--47-04\n",
      "165--13-07\n",
      "638--27-18\n",
      "595--20-17\n",
      "84--50-04\n",
      "654--50-18\n",
      "576--46-16\n",
      "657--54-18\n",
      "561--31-16\n",
      "551--19-16\n",
      "525--31-15\n",
      "427--15-13\n",
      "482--28-14\n",
      "453--42-13\n",
      "80--46-04\n",
      "581--51-16\n",
      "411--46-12\n",
      "607--36-17\n"
     ]
    }
   ],
   "source": [
    "for key_subwork in key_subworks:\n",
    "    #print(key_subwork)\n",
    "    transfer_autopick(key_subwork)"
   ]
  }
 ],
 "metadata": {
  "kernelspec": {
   "display_name": "ccfj",
   "language": "python",
   "name": "python3"
  },
  "language_info": {
   "codemirror_mode": {
    "name": "ipython",
    "version": 3
   },
   "file_extension": ".py",
   "mimetype": "text/x-python",
   "name": "python",
   "nbconvert_exporter": "python",
   "pygments_lexer": "ipython3",
   "version": "3.9.18"
  }
 },
 "nbformat": 4,
 "nbformat_minor": 2
}
