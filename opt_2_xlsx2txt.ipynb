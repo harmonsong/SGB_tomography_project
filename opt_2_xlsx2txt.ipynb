{
 "cells": [
  {
   "cell_type": "code",
   "execution_count": 87,
   "metadata": {},
   "outputs": [],
   "source": [
    "from openpyxl import load_workbook\n",
    "import numpy as np\n",
    "import os\n",
    "import yaml\n",
    "import pandas as pd"
   ]
  },
  {
   "cell_type": "code",
   "execution_count": 88,
   "metadata": {},
   "outputs": [],
   "source": [
    "flag_project = 1 # 0--regular ; 1--repartrition"
   ]
  },
  {
   "cell_type": "code",
   "execution_count": 89,
   "metadata": {},
   "outputs": [],
   "source": [
    "if flag_project == 0:\n",
    "    file_project = 'a-project.yml'\n",
    "    with open('a-project.yml', 'r', encoding='utf-8') as f:\n",
    "        proj = yaml.load(f.read(), Loader=yaml.FullLoader)\n",
    "    name_project = proj['name']\n",
    "    #name_project = 'project/output_FJSJ_16-01/'               # Harmon server\n",
    "elif flag_project == 1:\n",
    "    file_project = 'a-project_repar.yml'\n",
    "    with open('a-project_repar.yml', 'r', encoding='utf-8') as f:\n",
    "        proj = yaml.load(f.read(), Loader=yaml.FullLoader)\n",
    "    name_project = proj['name']\n",
    "    #name_project = 'project_repartrition/repartrition_01-03/'               # Harmon server\n"
   ]
  },
  {
   "cell_type": "code",
   "execution_count": 90,
   "metadata": {},
   "outputs": [
    {
     "name": "stdout",
     "output_type": "stream",
     "text": [
      "dir_CC_workspace:  /shdisk/rem2/Harmon/F-J/San/\n",
      "dir_project_workspace:  /shdisk/rem2/Harmon/F-J/San/\n",
      "dir_project:  /shdisk/rem2/Harmon/F-J/San/project_repartition_v3.0/output_repar_01-01/\n"
     ]
    }
   ],
   "source": [
    "with open('0_config.yml', 'r', encoding='utf-8') as f:\n",
    "    dir_config = yaml.load(f.read(), Loader=yaml.FullLoader)\n",
    "dir_project_workspace = dir_config['dir_project_workspace']\n",
    "dir_CC_workspace = dir_config['dir_CC_workspace']\n",
    "print('dir_CC_workspace: ', dir_CC_workspace)\n",
    "print('dir_project_workspace: ', dir_project_workspace)\n",
    "dir_project = os.path.join(dir_project_workspace, name_project)\n",
    "print('dir_project: ', dir_project)"
   ]
  },
  {
   "cell_type": "code",
   "execution_count": 91,
   "metadata": {},
   "outputs": [],
   "source": [
    "filename = dir_project+'Basic_info.yml'\n",
    "with open(filename, 'r', encoding='utf-8') as f:\n",
    "    info_basic = yaml.load(f.read(), Loader=yaml.FullLoader)\n",
    "filename_bi = dir_project+'Basic_info.npy'\n",
    "info_basic_bi = np.load(filename_bi, allow_pickle='TRUE').item()      # setting dictionary"
   ]
  },
  {
   "cell_type": "code",
   "execution_count": 92,
   "metadata": {},
   "outputs": [],
   "source": [
    "key_subworks = info_basic['key_subworks']"
   ]
  },
  {
   "cell_type": "code",
   "execution_count": 93,
   "metadata": {},
   "outputs": [],
   "source": [
    "stalistname = dir_project+info_basic['stalistname']\n",
    "stainfo_all = pd.read_excel(stalistname,sheet_name=None)"
   ]
  },
  {
   "cell_type": "markdown",
   "metadata": {},
   "source": [
    "### Transfer to txt"
   ]
  },
  {
   "cell_type": "code",
   "execution_count": 94,
   "metadata": {},
   "outputs": [],
   "source": [
    "dir_config = dir_project + 'partition/'\n",
    "info_basic['dir_partition'] = 'partition'\n",
    "if not os.path.exists(dir_config):\n",
    "    os.makedirs(dir_config)"
   ]
  },
  {
   "cell_type": "code",
   "execution_count": 95,
   "metadata": {},
   "outputs": [],
   "source": [
    "for key_subwork in key_subworks:\n",
    "    stainfo = stainfo_all[key_subwork]\n",
    "    Station = stainfo['Station'].values\n",
    "    lat =  stainfo['latitude'].values\n",
    "    lon =  stainfo['longitude'].values\n",
    "    # save to txt\n",
    "    filename = dir_config + key_subwork + '.txt'\n",
    "    np.savetxt(filename, np.array([Station, lat, lon]).T, fmt='%s', delimiter=' ', header='Station lat lon')"
   ]
  },
  {
   "cell_type": "code",
   "execution_count": 96,
   "metadata": {},
   "outputs": [
    {
     "data": {
      "text/plain": [
       "['R0903',\n",
       " 'R1506',\n",
       " 'R1405',\n",
       " 'R1103',\n",
       " 'R1105',\n",
       " 'R1305',\n",
       " 'R0905',\n",
       " 'R0705',\n",
       " 'R1303',\n",
       " 'R1104',\n",
       " 'R1406',\n",
       " 'R1204',\n",
       " 'R0703',\n",
       " 'R1403',\n",
       " 'R1504',\n",
       " 'R1505',\n",
       " 'R0906',\n",
       " 'R0904',\n",
       " 'R1304',\n",
       " 'R1404',\n",
       " 'R0704',\n",
       " 'R1306',\n",
       " 'R1203',\n",
       " 'R1205',\n",
       " 'R0706',\n",
       " 'R1206',\n",
       " 'R1503',\n",
       " 'R1106']"
      ]
     },
     "execution_count": 96,
     "metadata": {},
     "output_type": "execute_result"
    }
   ],
   "source": [
    "# read test\n",
    "filename = dir_config + key_subworks[0] + '.txt'\n",
    "Station, lat, lon = np.loadtxt(filename, dtype='str', unpack=True)\n",
    "list(Station)"
   ]
  },
  {
   "cell_type": "code",
   "execution_count": 97,
   "metadata": {},
   "outputs": [],
   "source": [
    "with open(dir_project+'Basic_info.yml', 'w', encoding='utf-8') as f:\n",
    "   yaml.dump(data=info_basic, stream=f, allow_unicode=True)"
   ]
  }
 ],
 "metadata": {
  "kernelspec": {
   "display_name": "ccfj",
   "language": "python",
   "name": "python3"
  },
  "language_info": {
   "codemirror_mode": {
    "name": "ipython",
    "version": 3
   },
   "file_extension": ".py",
   "mimetype": "text/x-python",
   "name": "python",
   "nbconvert_exporter": "python",
   "pygments_lexer": "ipython3",
   "version": "3.9.18"
  }
 },
 "nbformat": 4,
 "nbformat_minor": 2
}
